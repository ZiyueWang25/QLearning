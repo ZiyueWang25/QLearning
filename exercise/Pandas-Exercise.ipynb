{
 "cells": [
  {
   "cell_type": "markdown",
   "metadata": {
    "toc": true
   },
   "source": [
    "<h1>Table of Contents<span class=\"tocSkip\"></span></h1>\n",
    "<div class=\"toc\"><ul class=\"toc-item\"><li><span><a href=\"#Create-Data\" data-toc-modified-id=\"Create-Data-1\"><span class=\"toc-item-num\">1&nbsp;&nbsp;</span>Create Data</a></span></li><li><span><a href=\"#Descriptive-Analysis\" data-toc-modified-id=\"Descriptive-Analysis-2\"><span class=\"toc-item-num\">2&nbsp;&nbsp;</span>Descriptive Analysis</a></span></li></ul></div>"
   ]
  },
  {
   "cell_type": "markdown",
   "metadata": {
    "ExecuteTime": {
     "end_time": "2021-02-01T18:41:57.335567000Z",
     "start_time": "2021-02-01T18:41:57.333Z"
    }
   },
   "source": [
    "# Create Data"
   ]
  },
  {
   "cell_type": "code",
   "execution_count": 4,
   "metadata": {
    "ExecuteTime": {
     "end_time": "2021-02-01T18:57:40.788865000Z",
     "start_time": "2021-02-01T18:57:40.741Z"
    }
   },
   "outputs": [
    {
     "data": {
      "text/plain": [
       "dt         tm                   sym  vol  px    \n",
       "------------------------------------------------\n",
       "2015.01.31 0D12:16:29.836695045 goog 130  95.31 \n",
       "2015.01.14 0D18:41:08.444929271 ibm  9840 93.31 \n",
       "2015.01.09 0D00:54:23.805149495 goog 2370 97.59 \n",
       "2015.01.02 0D14:12:35.956464260 aapl 5380 91.28 \n",
       "2015.01.06 0D07:31:54.397186785 aapl 8400 105.79\n"
      ]
     },
     "execution_count": 4,
     "metadata": {},
     "output_type": "execute_result"
    }
   ],
   "source": [
    "dts:2015.01.01+1000000?31\n",
    "tms:1000000?24:00:00.000000000\n",
    "syms:1000000?`aapl`goog`ibm\n",
    "vols:10*1+1000000?1000\n",
    "pxs:90.0+(1000000?2001)%100\n",
    "trades:([] dt:dts; tm:tms; sym:syms; vol:vols; px:pxs)\n",
    "5#trades"
   ]
  },
  {
   "cell_type": "code",
   "execution_count": 5,
   "metadata": {
    "ExecuteTime": {
     "end_time": "2021-02-01T18:58:09.155337000Z",
     "start_time": "2021-02-01T18:58:09.043Z"
    }
   },
   "outputs": [
    {
     "data": {
      "text/plain": [
       "dt         tm                   sym  vol  px    \n",
       "------------------------------------------------\n",
       "2015.01.01 0D00:00:02.874033898 goog 1690 106.5 \n",
       "2015.01.01 0D00:00:07.303822785 aapl 240  108.83\n",
       "2015.01.01 0D00:00:08.798966556 ibm  5050 101.42\n",
       "2015.01.01 0D00:00:12.215705215 ibm  1400 96.52 \n",
       "2015.01.01 0D00:00:13.456153124 ibm  2710 102.49\n"
      ]
     },
     "execution_count": 5,
     "metadata": {},
     "output_type": "execute_result"
    }
   ],
   "source": [
    "trades:`dt`tm xasc trades\n",
    "5#trades"
   ]
  },
  {
   "cell_type": "code",
   "execution_count": 6,
   "metadata": {
    "ExecuteTime": {
     "end_time": "2021-02-01T18:58:20.590677000Z",
     "start_time": "2021-02-01T18:58:20.574Z"
    }
   },
   "outputs": [
    {
     "data": {
      "text/plain": [
       "dt         tm                   sym  vol  px    \n",
       "------------------------------------------------\n",
       "2015.01.01 0D00:00:02.874033898 goog 1690 639   \n",
       "2015.01.01 0D00:00:07.303822785 aapl 240  108.83\n",
       "2015.01.01 0D00:00:08.798966556 ibm  5050 202.84\n",
       "2015.01.01 0D00:00:12.215705215 ibm  1400 193.04\n",
       "2015.01.01 0D00:00:13.456153124 ibm  2710 204.98\n"
      ]
     },
     "execution_count": 6,
     "metadata": {},
     "output_type": "execute_result"
    }
   ],
   "source": [
    "trades:update px:6*px from trades where sym=`goog\n",
    "trades:update px:2*px from trades where sym=`ibm\n",
    "5#trades"
   ]
  },
  {
   "cell_type": "code",
   "execution_count": 11,
   "metadata": {
    "ExecuteTime": {
     "end_time": "2021-02-01T19:01:00.138363000Z",
     "start_time": "2021-02-01T19:01:00.101Z"
    }
   },
   "outputs": [
    {
     "data": {
      "text/plain": [
       "`:./examples/trades\n"
      ]
     },
     "execution_count": 11,
     "metadata": {},
     "output_type": "execute_result"
    }
   ],
   "source": [
    "`:./examples/trades set trades"
   ]
  },
  {
   "cell_type": "code",
   "execution_count": 12,
   "metadata": {
    "ExecuteTime": {
     "end_time": "2021-02-01T19:01:12.947455000Z",
     "start_time": "2021-02-01T19:01:12.922Z"
    }
   },
   "outputs": [
    {
     "data": {
      "text/plain": [
       "dt         tm                   sym  vol  px    \n",
       "------------------------------------------------\n",
       "2015.01.01 0D00:00:02.874033898 goog 1690 639   \n",
       "2015.01.01 0D00:00:07.303822785 aapl 240  108.83\n",
       "2015.01.01 0D00:00:08.798966556 ibm  5050 202.84\n",
       "2015.01.01 0D00:00:12.215705215 ibm  1400 193.04\n",
       "2015.01.01 0D00:00:13.456153124 ibm  2710 204.98\n",
       "2015.01.01 0D00:00:13.643156737 ibm  1190 204.28\n",
       "2015.01.01 0D00:00:14.649608731 ibm  4580 189.94\n",
       "2015.01.01 0D00:00:19.065658003 aapl 6800 90.95 \n",
       "2015.01.01 0D00:00:21.663551777 ibm  7310 213.48\n",
       "2015.01.01 0D00:00:22.054678201 ibm  9880 216.44\n",
       "2015.01.01 0D00:00:26.591668277 aapl 7570 101.78\n",
       "2015.01.01 0D00:00:29.488272964 goog 2830 540.96\n",
       "2015.01.01 0D00:00:32.516098022 goog 6920 578.04\n",
       "2015.01.01 0D00:00:33.771914988 aapl 8620 105.07\n",
       "2015.01.01 0D00:00:34.466882050 goog 3530 634.08\n",
       "2015.01.01 0D00:00:35.085567086 goog 1960 610.44\n",
       "2015.01.01 0D00:00:40.764031559 goog 2000 576.96\n",
       "2015.01.01 0D00:00:41.889251768 goog 4290 605.52\n",
       "2015.01.01 0D00:00:42.198564112 ibm  4660 191.42\n",
       "2015.01.01 0D00:00:43.546836823 goog 2110 556.74\n",
       "..\n"
      ]
     },
     "execution_count": 12,
     "metadata": {},
     "output_type": "execute_result"
    }
   ],
   "source": [
    "get `:./examples/trades"
   ]
  },
  {
   "cell_type": "code",
   "execution_count": 13,
   "metadata": {
    "ExecuteTime": {
     "end_time": "2021-02-01T19:01:22.171688000Z",
     "start_time": "2021-02-01T19:01:22.168Z"
    }
   },
   "outputs": [
    {
     "data": {
      "text/plain": [
       "dt         tm                   sym  vol  px    \n",
       "------------------------------------------------\n",
       "2015.01.01 0D00:00:02.874033898 goog 1690 639   \n",
       "2015.01.01 0D00:00:07.303822785 aapl 240  108.83\n",
       "2015.01.01 0D00:00:08.798966556 ibm  5050 202.84\n",
       "2015.01.01 0D00:00:12.215705215 ibm  1400 193.04\n",
       "2015.01.01 0D00:00:13.456153124 ibm  2710 204.98\n"
      ]
     },
     "execution_count": 13,
     "metadata": {},
     "output_type": "execute_result"
    }
   ],
   "source": [
    "5 # trades"
   ]
  },
  {
   "cell_type": "code",
   "execution_count": 14,
   "metadata": {
    "ExecuteTime": {
     "end_time": "2021-02-01T19:01:27.929996000Z",
     "start_time": "2021-02-01T19:01:27.927Z"
    }
   },
   "outputs": [
    {
     "data": {
      "text/plain": [
       "dt         tm                   sym  vol  px    \n",
       "------------------------------------------------\n",
       "2015.01.31 0D23:59:53.956178426 ibm  8610 193.32\n",
       "2015.01.31 0D23:59:55.158807188 goog 6080 649.38\n",
       "2015.01.31 0D23:59:55.257016271 ibm  5010 198.36\n",
       "2015.01.31 0D23:59:55.280753821 aapl 5390 98.3  \n",
       "2015.01.31 0D23:59:57.361128777 aapl 560  98.37 \n"
      ]
     },
     "execution_count": 14,
     "metadata": {},
     "output_type": "execute_result"
    }
   ],
   "source": [
    "-5 # trades"
   ]
  },
  {
   "cell_type": "markdown",
   "metadata": {},
   "source": [
    "# Descriptive Analysis"
   ]
  },
  {
   "cell_type": "code",
   "execution_count": 9,
   "metadata": {
    "ExecuteTime": {
     "end_time": "2021-02-01T18:59:53.257661000Z",
     "start_time": "2021-02-01T18:59:53.247Z"
    }
   },
   "outputs": [
    {
     "data": {
      "text/plain": [
       "sym | avg_px   avg_vol  min_px max_px\n",
       "----| -------------------------------\n",
       "aapl| 99.99376 5006.867 90     110   \n",
       "goog| 600.0833 5005.486 540    660   \n",
       "ibm | 200.0073 5007.978 180    220   \n"
      ]
     },
     "execution_count": 9,
     "metadata": {},
     "output_type": "execute_result"
    }
   ],
   "source": [
    "select avg_px:avg px, avg_vol:avg vol, min_px:min px, max_px:max px by sym from trades"
   ]
  },
  {
   "cell_type": "code",
   "execution_count": 10,
   "metadata": {
    "ExecuteTime": {
     "end_time": "2021-02-01T19:00:22.328497000Z",
     "start_time": "2021-02-01T19:00:21.934Z"
    }
   },
   "outputs": [
    {
     "data": {
      "text/plain": [
       "sym  bkt                 | vwap    \n",
       "-------------------------| --------\n",
       "aapl 0D00:00:00.000000000| 96.11   \n",
       "aapl 0D00:00:00.100000000| 106.4223\n",
       "aapl 0D00:00:00.400000000| 92.46   \n",
       "aapl 0D00:00:00.500000000| 101.47  \n",
       "aapl 0D00:00:00.600000000| 97.86   \n",
       "aapl 0D00:00:00.800000000| 105.22  \n",
       "aapl 0D00:00:00.900000000| 105.11  \n",
       "aapl 0D00:00:01.100000000| 97.83855\n",
       "aapl 0D00:00:01.200000000| 99.9    \n",
       "aapl 0D00:00:01.900000000| 101.5348\n",
       "aapl 0D00:00:02.100000000| 108.98  \n",
       "aapl 0D00:00:02.200000000| 96.68   \n",
       "aapl 0D00:00:02.300000000| 98.9558 \n",
       "aapl 0D00:00:02.400000000| 103.0436\n",
       "aapl 0D00:00:03.000000000| 96.25   \n",
       "aapl 0D00:00:03.300000000| 107.65  \n",
       "aapl 0D00:00:03.900000000| 101.53  \n",
       "aapl 0D00:00:04.300000000| 97.23   \n",
       "aapl 0D00:00:04.400000000| 95.78   \n",
       "aapl 0D00:00:04.600000000| 99.04   \n",
       "..\n"
      ]
     },
     "execution_count": 10,
     "metadata": {},
     "output_type": "execute_result"
    }
   ],
   "source": [
    "/vwap\n",
    "select vwap:vol wavg px by sym, bkt:100000000 xbar tm from trades"
   ]
  },
  {
   "cell_type": "code",
   "execution_count": null,
   "metadata": {},
   "outputs": [],
   "source": []
  }
 ],
 "metadata": {
  "kernelspec": {
   "display_name": "Q (kdb+)",
   "language": "q",
   "name": "qpk"
  },
  "language_info": {
   "file_extension": ".q",
   "mimetype": "text/x-q",
   "name": "q",
   "version": "4.0"
  },
  "toc": {
   "base_numbering": 1,
   "nav_menu": {},
   "number_sections": true,
   "sideBar": true,
   "skip_h1_title": false,
   "title_cell": "Table of Contents",
   "title_sidebar": "Contents",
   "toc_cell": true,
   "toc_position": {},
   "toc_section_display": true,
   "toc_window_display": false
  }
 },
 "nbformat": 4,
 "nbformat_minor": 4
}
