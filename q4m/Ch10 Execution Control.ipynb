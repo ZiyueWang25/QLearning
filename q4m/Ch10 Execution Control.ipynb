{
 "cells": [
  {
   "cell_type": "markdown",
   "metadata": {
    "toc": true
   },
   "source": [
    "<h1>Table of Contents<span class=\"tocSkip\"></span></h1>\n",
    "<div class=\"toc\"><ul class=\"toc-item\"><li><span><a href=\"#Control-Flow\" data-toc-modified-id=\"Control-Flow-1\"><span class=\"toc-item-num\">1&nbsp;&nbsp;</span>Control Flow</a></span><ul class=\"toc-item\"><li><span><a href=\"#Basic-Conditional-Evaluation\" data-toc-modified-id=\"Basic-Conditional-Evaluation-1.1\"><span class=\"toc-item-num\">1.1&nbsp;&nbsp;</span>Basic Conditional Evaluation</a></span></li><li><span><a href=\"#Extended-Conditional-Evaluation\" data-toc-modified-id=\"Extended-Conditional-Evaluation-1.2\"><span class=\"toc-item-num\">1.2&nbsp;&nbsp;</span>Extended Conditional Evaluation</a></span></li><li><span><a href=\"#Vector-Conditional-Evaluation\" data-toc-modified-id=\"Vector-Conditional-Evaluation-1.3\"><span class=\"toc-item-num\">1.3&nbsp;&nbsp;</span>Vector Conditional Evaluation</a></span></li><li><span><a href=\"#if\" data-toc-modified-id=\"if-1.4\"><span class=\"toc-item-num\">1.4&nbsp;&nbsp;</span><code>if</code></a></span></li><li><span><a href=\"#do\" data-toc-modified-id=\"do-1.5\"><span class=\"toc-item-num\">1.5&nbsp;&nbsp;</span><code>do</code></a></span></li><li><span><a href=\"#while\" data-toc-modified-id=\"while-1.6\"><span class=\"toc-item-num\">1.6&nbsp;&nbsp;</span><code>while</code></a></span></li><li><span><a href=\"#Return-and-Signal\" data-toc-modified-id=\"Return-and-Signal-1.7\"><span class=\"toc-item-num\">1.7&nbsp;&nbsp;</span>Return and Signal</a></span></li><li><span><a href=\"#Protected-Evaluation\" data-toc-modified-id=\"Protected-Evaluation-1.8\"><span class=\"toc-item-num\">1.8&nbsp;&nbsp;</span>Protected Evaluation</a></span></li></ul></li><li><span><a href=\"#Debugging\" data-toc-modified-id=\"Debugging-2\"><span class=\"toc-item-num\">2&nbsp;&nbsp;</span>Debugging</a></span></li><li><span><a href=\"#Scripts\" data-toc-modified-id=\"Scripts-3\"><span class=\"toc-item-num\">3&nbsp;&nbsp;</span>Scripts</a></span><ul class=\"toc-item\"><li><span><a href=\"#Creating-and-Loading-a-Script\" data-toc-modified-id=\"Creating-and-Loading-a-Script-3.1\"><span class=\"toc-item-num\">3.1&nbsp;&nbsp;</span>Creating and Loading a Script</a></span></li><li><span><a href=\"#Blocks\" data-toc-modified-id=\"Blocks-3.2\"><span class=\"toc-item-num\">3.2&nbsp;&nbsp;</span>Blocks</a></span></li><li><span><a href=\"#Passing-Parameters\" data-toc-modified-id=\"Passing-Parameters-3.3\"><span class=\"toc-item-num\">3.3&nbsp;&nbsp;</span>Passing Parameters</a></span></li></ul></li></ul></div>"
   ]
  },
  {
   "cell_type": "markdown",
   "metadata": {},
   "source": [
    "## Control Flow"
   ]
  },
  {
   "cell_type": "markdown",
   "metadata": {},
   "source": [
    "### Basic Conditional Evaluation\n",
    "\n",
    "$\\$[expr_{cond}; expr_{true}; expr_{false}]$"
   ]
  },
  {
   "cell_type": "code",
   "execution_count": 1,
   "metadata": {
    "ExecuteTime": {
     "end_time": "2020-11-25T12:44:47.958480000Z",
     "start_time": "2020-11-25T12:44:47.955Z"
    }
   },
   "outputs": [
    {
     "data": {
      "text/plain": [
       "42\n"
      ]
     },
     "execution_count": 1,
     "metadata": {},
     "output_type": "execute_result"
    },
    {
     "data": {
      "text/plain": [
       "54\n"
      ]
     },
     "execution_count": 1,
     "metadata": {},
     "output_type": "execute_result"
    }
   ],
   "source": [
    "$[1b;42;9*6]\n",
    "$[0b;42;9*6]"
   ]
  },
  {
   "cell_type": "markdown",
   "metadata": {},
   "source": [
    "The brackets in any q conditional **do not create lexical scope**. This means that variables created within the body exist in the same scope as the conditional. "
   ]
  },
  {
   "cell_type": "code",
   "execution_count": 2,
   "metadata": {
    "ExecuteTime": {
     "end_time": "2020-11-25T12:45:55.814434000Z",
     "start_time": "2020-11-25T12:45:55.810Z"
    }
   },
   "outputs": [
    {
     "data": {
      "text/plain": [
       "42\n"
      ]
     },
     "execution_count": 2,
     "metadata": {},
     "output_type": "execute_result"
    },
    {
     "data": {
      "text/plain": [
       "42\n"
      ]
     },
     "execution_count": 2,
     "metadata": {},
     "output_type": "execute_result"
    }
   ],
   "source": [
    "$[1b;a:42;a:43]\n",
    "a"
   ]
  },
  {
   "cell_type": "markdown",
   "metadata": {},
   "source": [
    "Although evaluation of function arguments in q is eager, evaluation of the expressions in the conditional is short circuited, meaning that **only the one selected for return is evaluated**. "
   ]
  },
  {
   "cell_type": "code",
   "execution_count": 2,
   "metadata": {
    "ExecuteTime": {
     "end_time": "2020-11-25T12:46:31.825482000Z",
     "start_time": "2020-11-25T12:46:31.820Z"
    }
   },
   "outputs": [
    {
     "data": {
      "text/plain": [
       "42\n"
      ]
     },
     "execution_count": 3,
     "metadata": {},
     "output_type": "execute_result"
    },
    {
     "data": {
      "text/plain": [
       "42\n"
      ]
     },
     "execution_count": 3,
     "metadata": {},
     "output_type": "execute_result"
    },
    {
     "ename": "\u001b[0;31mb\u001b[0m",
     "evalue": "\u001b[0;31mb\u001b[0m",
     "output_type": "error",
     "traceback": [
      "\u001b[0;31mevaluation error:\n\u001b[0m",
      "\u001b[0;31mb\u001b[0m",
      "\u001b[0;31m\u001b[0m",
      "\u001b[0;31m  [0]  b\n       ^\n\u001b[0m"
     ]
    }
   ],
   "source": [
    "$[1b;a:42;b:43]\n",
    "a\n",
    "b"
   ]
  },
  {
   "cell_type": "code",
   "execution_count": 3,
   "metadata": {
    "ExecuteTime": {
     "end_time": "2020-11-25T12:47:28.149530000Z",
     "start_time": "2020-11-25T12:47:28.146Z"
    }
   },
   "outputs": [
    {
     "data": {
      "text/plain": [
       "`isnull\n"
      ]
     },
     "execution_count": 3,
     "metadata": {},
     "output_type": "execute_result"
    },
    {
     "data": {
      "text/plain": [
       "`isnull\n"
      ]
     },
     "execution_count": 3,
     "metadata": {},
     "output_type": "execute_result"
    }
   ],
   "source": [
    "v:0N\n",
    "$[v;`isnull;`notnull]\n",
    "$[null v;`isnull;`notnull]"
   ]
  },
  {
   "cell_type": "markdown",
   "metadata": {},
   "source": [
    "**Float nulls do not work so the above is probably an accident and you should not count on it.**"
   ]
  },
  {
   "cell_type": "markdown",
   "metadata": {},
   "source": [
    "### Extended Conditional Evaluation\n",
    "if .. else ..: \n",
    "\n",
    "$\\$[expr_{cond}; [expr_{true};\\dots]; [expr_{false};\\dots]]$"
   ]
  },
  {
   "cell_type": "code",
   "execution_count": 5,
   "metadata": {
    "ExecuteTime": {
     "end_time": "2020-11-25T12:49:19.777844000Z",
     "start_time": "2020-11-25T12:49:19.773Z"
    }
   },
   "outputs": [
    {
     "data": {
      "text/plain": [
       "`Everything\n"
      ]
     },
     "execution_count": 5,
     "metadata": {},
     "output_type": "execute_result"
    },
    {
     "data": {
      "text/plain": [
       "`Life`the`Universe\n"
      ]
     },
     "execution_count": 5,
     "metadata": {},
     "output_type": "execute_result"
    }
   ],
   "source": [
    "v:42\n",
    "$[v=42; [a:6;b:7;`Everything]; [a:`Life;b:`the;c:`Universe;a,b,c]]\n",
    "$[v=43; [a:6;b:7;`everything]; [a:`Life;b:`the;c:`Universe;a,b,c]]"
   ]
  },
  {
   "cell_type": "markdown",
   "metadata": {},
   "source": [
    "If.. elif.. else:\n",
    "\n",
    "$\\$[expr_{cond_1}; expr_{true_1}; \\dots;expr_{cond_n};expr_{true_n}; expr_{false}]$"
   ]
  },
  {
   "cell_type": "code",
   "execution_count": 6,
   "metadata": {
    "ExecuteTime": {
     "end_time": "2020-11-25T12:52:48.092049000Z",
     "start_time": "2020-11-25T12:52:47.991Z"
    }
   },
   "outputs": [
    {
     "data": {
      "text/plain": [
       "`zero\n"
      ]
     },
     "execution_count": 6,
     "metadata": {},
     "output_type": "execute_result"
    },
    {
     "data": {
      "text/plain": [
       "`pos\n"
      ]
     },
     "execution_count": 6,
     "metadata": {},
     "output_type": "execute_result"
    },
    {
     "data": {
      "text/plain": [
       "`neg\n"
      ]
     },
     "execution_count": 6,
     "metadata": {},
     "output_type": "execute_result"
    }
   ],
   "source": [
    "a:0\n",
    "$[a=0;`zero; a>0;`pos; `neg]\n",
    "a:42\n",
    "$[a=0;`zero; a>0;`pos; `neg]\n",
    "a:-42\n",
    "$[a=0;`zero; a>0;`pos; `neg]"
   ]
  },
  {
   "cell_type": "markdown",
   "metadata": {},
   "source": [
    "### Vector Conditional Evaluation\n",
    "\n",
    "$?[v_b;expr_{true};expr_{false}]$\n",
    "\n",
    "where $v_b$ is a simple boolean list and $expr_{true}$ and $expr_{false}$ are of the same type and are either atoms or vectors that conform to $v_b$. The result conforms to $v_b$ and selects from $expr_{true}$ in positions where $v_b$ is `1b` and $expr_{false}$ in positions where $v_b$ has `0b`. **All arguments of vector-conditional are fully executed. In other words, there is no short circuiting of evaluation.**"
   ]
  },
  {
   "cell_type": "code",
   "execution_count": 7,
   "metadata": {
    "ExecuteTime": {
     "end_time": "2020-11-25T12:55:42.675590000Z",
     "start_time": "2020-11-25T12:55:42.672Z"
    }
   },
   "outputs": [
    {
     "data": {
      "text/plain": [
       "42 1 2 42 4 5 42 7 8 42\n"
      ]
     },
     "execution_count": 7,
     "metadata": {},
     "output_type": "execute_result"
    }
   ],
   "source": [
    "L:til 10\n",
    "?[0<>L mod 3; L; 42]"
   ]
  },
  {
   "cell_type": "code",
   "execution_count": 8,
   "metadata": {
    "ExecuteTime": {
     "end_time": "2020-11-25T12:56:06.876158000Z",
     "start_time": "2020-11-25T12:56:06.873Z"
    }
   },
   "outputs": [
    {
     "data": {
      "text/plain": [
       "c1  c2 c3  mix\n",
       "--------------\n",
       "1.1 10 100 10 \n",
       "2.2 20 200 200\n",
       "3.3 30 300 300\n"
      ]
     },
     "execution_count": 8,
     "metadata": {},
     "output_type": "execute_result"
    }
   ],
   "source": [
    "t:([] c1:1.1 2.2 3.3; c2:10 20 30; c3:100 200 300)\n",
    "update mix:?[c1>2.0; c3; c2] from t"
   ]
  },
  {
   "cell_type": "markdown",
   "metadata": {},
   "source": [
    "There are no extended forms of Vector Conditional. You can get a cascading effect by nesting vector conditional expressions."
   ]
  },
  {
   "cell_type": "code",
   "execution_count": 9,
   "metadata": {
    "ExecuteTime": {
     "end_time": "2020-11-25T12:56:28.075064000Z",
     "start_time": "2020-11-25T12:56:28.071Z"
    }
   },
   "outputs": [
    {
     "data": {
      "text/plain": [
       "c1  c2 c3  band\n",
       "---------------\n",
       "1.1 10 100 1   \n",
       "2.2 20 200 2   \n",
       "3.3 30 300 3   \n"
      ]
     },
     "execution_count": 9,
     "metadata": {},
     "output_type": "execute_result"
    }
   ],
   "source": [
    "update band:?[c2 within 5 15; 1; ?[c2 within 16 25; 2; 3]] from t"
   ]
  },
  {
   "cell_type": "markdown",
   "metadata": {},
   "source": [
    "### `if`\n",
    "\n",
    "$if[expr_{cond};expr_1; …;expr_n]$\n",
    "\n",
    "The $expr_{cond}$ is evaluated and if it is non-zero the expressions $expr_1$ thru $expr_n$ are evaluated in left-to-right order."
   ]
  },
  {
   "cell_type": "code",
   "execution_count": 13,
   "metadata": {
    "ExecuteTime": {
     "end_time": "2020-11-25T12:58:55.052098000Z",
     "start_time": "2020-11-25T12:58:55.047Z"
    }
   },
   "outputs": [
    {
     "data": {
      "text/plain": [
       "6\n"
      ]
     },
     "execution_count": 13,
     "metadata": {},
     "output_type": "execute_result"
    },
    {
     "data": {
      "text/plain": [
       "7\n"
      ]
     },
     "execution_count": 13,
     "metadata": {},
     "output_type": "execute_result"
    },
    {
     "data": {
      "text/plain": [
       "42\n"
      ]
     },
     "execution_count": 13,
     "metadata": {},
     "output_type": "execute_result"
    },
    {
     "data": {
      "text/plain": [
       "4141.2\n"
      ]
     },
     "execution_count": 13,
     "metadata": {},
     "output_type": "execute_result"
    }
   ],
   "source": [
    "a:42\n",
    "b:98.6\n",
    "if[a=42;x:6;y:7;b:a*b]\n",
    "x\n",
    "y\n",
    "a\n",
    "b"
   ]
  },
  {
   "cell_type": "markdown",
   "metadata": {},
   "source": [
    "**Well-written q code rarely needs if. One example of legitimate use is pre-checking function arguments to abort execution for bad values.**"
   ]
  },
  {
   "cell_type": "markdown",
   "metadata": {},
   "source": [
    "### `do`\n",
    "\n",
    "$do[expr_{count};expr_1; …;expr_n]$\n",
    "\n",
    "The $expr_{count}$ must evaluate to an non-negative integer.The expressions $expr_1$ thru $expr_n$ are evaluated $expr_{count}$ times in left-to-right order.\n",
    "\n",
    "**The best recommendation about usage of do is: Don’t!**"
   ]
  },
  {
   "cell_type": "code",
   "execution_count": 14,
   "metadata": {
    "ExecuteTime": {
     "end_time": "2020-11-25T13:01:22.541964000Z",
     "start_time": "2020-11-25T13:01:22.539Z"
    }
   },
   "outputs": [
    {
     "data": {
      "text/plain": [
       "120\n"
      ]
     },
     "execution_count": 14,
     "metadata": {},
     "output_type": "execute_result"
    }
   ],
   "source": [
    "n:5\n",
    "do[-1+f:r:n; r*:f-:1] / do not do this!\n",
    "r"
   ]
  },
  {
   "cell_type": "markdown",
   "metadata": {},
   "source": [
    "### `while`\n",
    "\n",
    "$while[expr_{cond};expr_1; …;expr_n]$\n",
    "\n",
    "The $expr_{cond}$ is evaluated and the expressions $expr_1$ thru $expr_n$ are evaluated repeatedly in left-to-right order as $expr_{cond}$ is non-zero.  The `while` statement is not a function, does not have an explicit result and does not introduce lexical scope.\n",
    "\n",
    "**The author has never used while in actual code.**"
   ]
  },
  {
   "cell_type": "code",
   "execution_count": 15,
   "metadata": {
    "ExecuteTime": {
     "end_time": "2020-11-25T13:03:23.550229000Z",
     "start_time": "2020-11-25T13:03:23.548Z"
    }
   },
   "outputs": [
    {
     "data": {
      "text/plain": [
       "120\n"
      ]
     },
     "execution_count": 15,
     "metadata": {},
     "output_type": "execute_result"
    }
   ],
   "source": [
    "f:r:n:5\n",
    "while[f-:1;r*:f] / do not do this either!\n",
    "r"
   ]
  },
  {
   "cell_type": "markdown",
   "metadata": {},
   "source": [
    "### Return and Signal\n",
    "\n",
    "There are two mechanisms for ending the execution early: one indicates successful completion and the other signals abrupt termination.\n",
    "\n",
    "To terminate function application immediately and return a normal value, use an empty assignment – that is, `:` with the return value to its right and no variable to its left."
   ]
  },
  {
   "cell_type": "code",
   "execution_count": 16,
   "metadata": {
    "ExecuteTime": {
     "end_time": "2020-11-25T13:19:52.019836000Z",
     "start_time": "2020-11-25T13:19:52.016Z"
    }
   },
   "outputs": [
    {
     "name": "stdout",
     "output_type": "stream",
     "text": [
      "\"Begin\"\n"
     ]
    },
    {
     "data": {
      "text/plain": [
       "42\n"
      ]
     },
     "execution_count": 16,
     "metadata": {},
     "output_type": "execute_result"
    }
   ],
   "source": [
    "f:{0N!\"Begin\"; a:x; b:y; :a*b; \"End\"}\n",
    "f[6;7]"
   ]
  },
  {
   "cell_type": "markdown",
   "metadata": {},
   "source": [
    "To abort function execution immediately with an exception, use Signal, which is single-quote `'`, with an error message to its right. The error message can be provided as a symbol or string."
   ]
  },
  {
   "cell_type": "code",
   "execution_count": 0,
   "metadata": {
    "ExecuteTime": {
     "end_time": "2021-02-01T19:07:05.405085000Z",
     "start_time": "2021-02-01T19:07:05.402Z"
    }
   },
   "outputs": [
    {
     "name": "stdout",
     "output_type": "stream",
     "text": [
      "\"Begin\"\n"
     ]
    },
    {
     "ename": "\u001b[0;31mEnd\u001b[0m",
     "evalue": "\u001b[0;31mEnd\u001b[0m",
     "output_type": "error",
     "traceback": [
      "\u001b[0;31mevaluation error:\n\u001b[0m",
      "\u001b[0;31mEnd\u001b[0m",
      "\u001b[0;31m\u001b[0m",
      "\u001b[0;31m  [1]  g:{0N!\"Begin\"; a:x; b:y; '\"End\"; c:b}\n                                ^\n\u001b[0m",
      "\u001b[0;31m  [0]  g[6;7]\n       ^\n\u001b[0m"
     ]
    }
   ],
   "source": [
    "g:{0N!\"Begin\"; a:x; b:y; '\"End\"; c:b}\n",
    "g[6;7]"
   ]
  },
  {
   "cell_type": "markdown",
   "metadata": {},
   "source": [
    "Legitimate use of the `if` statement is to terminate execution with an exception.\n",
    "```\n",
    "{\n",
    "...\n",
    "if[a<50; '\"Bad a\"];\n",
    "...\n",
    "}\n",
    "```"
   ]
  },
  {
   "cell_type": "markdown",
   "metadata": {},
   "source": [
    "### Protected Evaluation"
   ]
  },
  {
   "cell_type": "markdown",
   "metadata": {},
   "source": [
    "Q provides a try-catch capability using ternary forms of `Apply` and `Apply At`. Ternary `@` is used for unary functions and ternary `.` is used for multivalent functions. The syntax is the same for both.\n",
    "\n",
    "$@[f_{mon};a;expr_{fail}]$\n",
    "\n",
    "$.[f_{mul};L_{args};expr_{fail}]$\n",
    "\n",
    "Here $f_{mon}$ is a unary function, a is single argument, $f_{mul}$ is a multivalent function, $L_{args}$ is a list of arguments, and $expr_{fail}$ is an expression or function. In both forms, the function is applied to its argument(s). Upon successful application, protected evaluation returns the result of the application. Should an exception arise, $expr_{fail}$ is applied to the resulting error string.\n",
    "\n",
    "**You can use protected evaluation to log error messages from exceptions that would otherwise crash your program.**\n",
    "\n",
    "\n",
    "**If the application of $expr_{fail}$ results in an exception, the protected call itself will fail.**\n"
   ]
  },
  {
   "cell_type": "code",
   "execution_count": 2,
   "metadata": {
    "ExecuteTime": {
     "end_time": "2020-11-26T03:56:42.632355000Z",
     "start_time": "2020-11-26T03:56:42.630Z"
    }
   },
   "outputs": [
    {
     "data": {
      "text/plain": [
       "42\n"
      ]
     },
     "execution_count": 2,
     "metadata": {},
     "output_type": "execute_result"
    }
   ],
   "source": [
    "s:\"6*7\"\n",
    "@[value; s; show]"
   ]
  },
  {
   "cell_type": "code",
   "execution_count": 3,
   "metadata": {
    "ExecuteTime": {
     "end_time": "2020-11-26T03:56:43.692341000Z",
     "start_time": "2020-11-26T03:56:43.684Z"
    }
   },
   "outputs": [
    {
     "name": "stdout",
     "output_type": "stream",
     "text": [
      "\"type\"\n"
     ]
    }
   ],
   "source": [
    "s:\"6*`7\"\n",
    "@[value; s; show]"
   ]
  },
  {
   "cell_type": "code",
   "execution_count": 4,
   "metadata": {
    "ExecuteTime": {
     "end_time": "2020-11-26T03:56:53.900963000Z",
     "start_time": "2020-11-26T03:56:53.898Z"
    }
   },
   "outputs": [
    {
     "data": {
      "text/plain": [
       "42\n"
      ]
     },
     "execution_count": 4,
     "metadata": {},
     "output_type": "execute_result"
    }
   ],
   "source": [
    "prod:{x*y}\n",
    ".[prod; (6;7); show]"
   ]
  },
  {
   "cell_type": "code",
   "execution_count": 5,
   "metadata": {
    "ExecuteTime": {
     "end_time": "2020-11-26T03:56:58.619281000Z",
     "start_time": "2020-11-26T03:56:58.612Z"
    }
   },
   "outputs": [
    {
     "name": "stdout",
     "output_type": "stream",
     "text": [
      "\"type\"\n"
     ]
    }
   ],
   "source": [
    ".[prod; (6;`7); show]"
   ]
  },
  {
   "cell_type": "markdown",
   "metadata": {},
   "source": [
    "## Debugging"
   ]
  },
  {
   "cell_type": "markdown",
   "metadata": {},
   "source": [
    "Set a breakpoint by insert a line that you know will fail - use an undefined name. **Make sure the name you choose is not defined in local or global scope.**"
   ]
  },
  {
   "cell_type": "code",
   "execution_count": 5,
   "metadata": {
    "ExecuteTime": {
     "end_time": "2020-11-26T03:59:05.016940000Z",
     "start_time": "2020-11-26T03:59:05.015Z"
    }
   },
   "outputs": [
    {
     "ename": "\u001b[0;31mbreak\u001b[0m",
     "evalue": "\u001b[0;31mbreak\u001b[0m",
     "output_type": "error",
     "traceback": [
      "\u001b[0;31mevaluation error:\n\u001b[0m",
      "\u001b[0;31mbreak\u001b[0m",
      "\u001b[0;31m\u001b[0m",
      "\u001b[0;31m  [1]  f:{a:x*x; b:y*y; break; a+b}\n                        ^\n\u001b[0m",
      "\u001b[0;31m  [0]  f[3;4]\n       ^\n\u001b[0m"
     ]
    }
   ],
   "source": [
    "f:{a:x*x; b:y*y; a+b}\n",
    "f:{a:x*x; b:y*y; break; a+b}\n",
    "f[3;4]"
   ]
  },
  {
   "cell_type": "code",
   "execution_count": 5,
   "metadata": {
    "ExecuteTime": {
     "end_time": "2020-11-26T04:01:25.728594000Z",
     "start_time": "2020-11-26T04:01:25.723Z"
    }
   },
   "outputs": [
    {
     "ename": "\u001b[0;31mbreak\u001b[0m",
     "evalue": "\u001b[0;31mbreak\u001b[0m",
     "output_type": "error",
     "traceback": [
      "\u001b[0;31mevaluation error:\n\u001b[0m",
      "\u001b[0;31mbreak\u001b[0m",
      "\u001b[0;31m\u001b[0m",
      "\u001b[0;31m  [2]  breakpoint:{break}\n                  ^\n\u001b[0m",
      "\u001b[0;31m  [1]  f:{a:x*x; b:y*y; breakpoint[]; a+b}\n                        ^\n\u001b[0m",
      "\u001b[0;31m  [0]  f[3;4]\n       ^\n\u001b[0m"
     ]
    }
   ],
   "source": [
    "breakpoint:{break}\n",
    "f:{a:x*x; b:y*y; breakpoint[]; a+b}\n",
    "f[3;4]"
   ]
  },
  {
   "cell_type": "markdown",
   "metadata": {},
   "source": [
    "**You will spend much more time trying to figure out why your q code is not doing what you want than the time spent doing manual debugging.**"
   ]
  },
  {
   "cell_type": "code",
   "execution_count": 5,
   "metadata": {
    "ExecuteTime": {
     "end_time": "2020-11-26T04:04:25.375177000Z",
     "start_time": "2020-11-26T04:04:25.366Z"
    }
   },
   "outputs": [
    {
     "ename": "\u001b[0;31mtype\u001b[0m",
     "evalue": "\u001b[0;31mtype\u001b[0m",
     "output_type": "error",
     "traceback": [
      "\u001b[0;31mevaluation error:\n\u001b[0m",
      "\u001b[0;31mtype\u001b[0m",
      "\u001b[0;31m\u001b[0m",
      "\u001b[0;31m  [1]  f:{a:6;x+a*b}\n               ^\n\u001b[0m",
      "\u001b[0;31m  [0]  f[`100] /this is an error\n       ^\n\u001b[0m"
     ]
    }
   ],
   "source": [
    "zs:{`d`P`L`G`D!(system\"d\"),v[1 2 3],enlist last v:value x}\n",
    "b:7\n",
    "f:{a:6;x+a*b}\n",
    "f[`100] /this is an error"
   ]
  },
  {
   "cell_type": "code",
   "execution_count": 6,
   "metadata": {
    "ExecuteTime": {
     "end_time": "2020-11-26T04:04:32.783981000Z",
     "start_time": "2020-11-26T04:04:32.776Z"
    }
   },
   "outputs": [
    {
     "name": "stdout",
     "output_type": "stream",
     "text": [
      "d| `.\n",
      "P| ,`x\n",
      "L| ,`a\n",
      "G| ``b\n",
      "D| \"{a:6;x+a*b}\"\n"
     ]
    }
   ],
   "source": [
    "show zs f"
   ]
  },
  {
   "cell_type": "code",
   "execution_count": 6,
   "metadata": {
    "ExecuteTime": {
     "end_time": "2020-11-26T04:05:15.149222000Z",
     "start_time": "2020-11-26T04:05:15.141Z"
    }
   },
   "outputs": [
    {
     "ename": "\u001b[0;31mnyi\u001b[0m",
     "evalue": "\u001b[0;31mnyi\u001b[0m",
     "output_type": "error",
     "traceback": [
      "\u001b[0;31mevaluation error:\n\u001b[0m",
      "\u001b[0;31mnyi\u001b[0m",
      "\u001b[0;31m\u001b[0m",
      "\u001b[0;31m  [0]  zs .z.s\n          ^\n\u001b[0m"
     ]
    }
   ],
   "source": [
    "zs .z.s"
   ]
  },
  {
   "cell_type": "markdown",
   "metadata": {},
   "source": [
    "## Scripts\n",
    "\n",
    "A _script_ is a q program stored in a text file with an extension of `.q` (or `.k` if you are writing k code). A script can contain any q expressions or commands. The contents of the script are parsed and evaluated sequentially from top to bottom. Global entities created during execution of the script exist in the workspace after the script is loaded and executed.\n",
    "\n"
   ]
  },
  {
   "cell_type": "markdown",
   "metadata": {},
   "source": [
    "### Creating and Loading a Script\n",
    "\n",
    "A script can be loaded at any time during a session using the `\\l` command, called _load_. The load command can be executed programmatically using `system`. See Chapter 12 for more on commands."
   ]
  },
  {
   "cell_type": "markdown",
   "metadata": {},
   "source": [
    "### Blocks\n",
    "Multi-line expressions are permitted in a script but they have a special form.\n",
    "\n",
    "- The **first line must not be indented** – i.e., it begins at the left of the line with no initial whitespace.\n",
    "- Any continuation lines **must** be indented, meaning that there is at least one whitespace character at the beginning of the line.\n",
    "- In particular, if you put the closing brace to a function definition on its own line, it **must** be indented.\n",
    "- Empty lines and comment lines (beginning with `/`) are permitted anywhere.\n",
    "\n",
    "Table definition and function definition provide nice opportunities for splitting across multiple lines:\n",
    "\n",
    "- A table can have line breaks after a closing square bracket `]` or after a semicolon separator `;`\n",
    "- A function can have line breaks after a closing square bracket `]` or after a comma separator `,`.\n",
    "\n",
    "\n",
    "```\n",
    "a:42\n",
    "b:0\n",
    "/\n",
    "this is a block of\n",
    "comment text\n",
    "b:42\n",
    "and b will not be changed\n",
    "\\\n",
    "a:43 / this line will be executed\n",
    "\\\n",
    "nothing from here on will be executed\n",
    "b:44\n",
    "```"
   ]
  },
  {
   "cell_type": "code",
   "execution_count": 7,
   "metadata": {
    "ExecuteTime": {
     "end_time": "2020-11-26T04:11:53.793144000Z",
     "start_time": "2020-11-26T04:11:53.791Z"
    }
   },
   "outputs": [
    {
     "data": {
      "text/plain": [
       "12\n"
      ]
     },
     "execution_count": 7,
     "metadata": {},
     "output_type": "execute_result"
    }
   ],
   "source": [
    "/\n",
    "hey this is a command\n",
    "hey\n",
    "\\\n",
    "12"
   ]
  },
  {
   "cell_type": "markdown",
   "metadata": {},
   "source": [
    "### Passing Parameters\n",
    "\n",
    "Parameters are passed to a q script at q startup similarly to `argv` command line parameters in C. Specifically, the system variable `.z.x` comprises a list of strings, each containing the character representation of an argument present on the command line that invoked the script. For example, let’s modify our `trades.q` script to pass the number of records to be created as a command line parameter. Note that we parse the passed string to an integer."
   ]
  },
  {
   "cell_type": "code",
   "execution_count": null,
   "metadata": {},
   "outputs": [],
   "source": []
  }
 ],
 "metadata": {
  "kernelspec": {
   "display_name": "Q (kdb+)",
   "language": "q",
   "name": "qpk"
  },
  "language_info": {
   "file_extension": ".q",
   "mimetype": "text/x-q",
   "name": "q",
   "version": "4.0"
  },
  "toc": {
   "base_numbering": 1,
   "nav_menu": {},
   "number_sections": true,
   "sideBar": true,
   "skip_h1_title": false,
   "title_cell": "Table of Contents",
   "title_sidebar": "Contents",
   "toc_cell": true,
   "toc_position": {},
   "toc_section_display": true,
   "toc_window_display": false
  }
 },
 "nbformat": 4,
 "nbformat_minor": 4
}
