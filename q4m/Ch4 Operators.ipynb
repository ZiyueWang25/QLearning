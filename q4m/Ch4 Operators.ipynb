{
 "cells": [
  {
   "cell_type": "markdown",
   "metadata": {
    "toc": true
   },
   "source": [
    "<h1>Table of Contents<span class=\"tocSkip\"></span></h1>\n",
    "<div class=\"toc\"><ul class=\"toc-item\"><li><span><a href=\"#Operators-and-Keywords-are-functions\" data-toc-modified-id=\"Operators-and-Keywords-are-functions-0\"><span class=\"toc-item-num\">0&nbsp;&nbsp;</span>Operators and Keywords are functions</a></span><ul class=\"toc-item\"><li><span><a href=\"#Function-Notation\" data-toc-modified-id=\"Function-Notation-0.1\"><span class=\"toc-item-num\">0.1&nbsp;&nbsp;</span>Function Notation</a></span></li><li><span><a href=\"#Primitives,-Verbs-and-Function-Notation\" data-toc-modified-id=\"Primitives,-Verbs-and-Function-Notation-0.2\"><span class=\"toc-item-num\">0.2&nbsp;&nbsp;</span>Primitives, Verbs and Function Notation</a></span></li><li><span><a href=\"#Extension-of-Atomic-Functions\" data-toc-modified-id=\"Extension-of-Atomic-Functions-0.3\"><span class=\"toc-item-num\">0.3&nbsp;&nbsp;</span>Extension of Atomic Functions</a></span></li></ul></li><li><span><a href=\"#Operator-Precedence\" data-toc-modified-id=\"Operator-Precedence-1\"><span class=\"toc-item-num\">1&nbsp;&nbsp;</span>Operator Precedence</a></span><ul class=\"toc-item\"><li><span><a href=\"#Traditional-Operator-Precedence\" data-toc-modified-id=\"Traditional-Operator-Precedence-1.1\"><span class=\"toc-item-num\">1.1&nbsp;&nbsp;</span>Traditional Operator Precedence</a></span></li><li><span><a href=\"#Left-of-Right-Evaluation\" data-toc-modified-id=\"Left-of-Right-Evaluation-1.2\"><span class=\"toc-item-num\">1.2&nbsp;&nbsp;</span>Left-of-Right Evaluation</a></span></li><li><span><a href=\"#The-Gotcha-of-Left-of-Right-Evaluation\" data-toc-modified-id=\"The-Gotcha-of-Left-of-Right-Evaluation-1.3\"><span class=\"toc-item-num\">1.3&nbsp;&nbsp;</span>The Gotcha of Left-of-Right Evaluation</a></span></li><li><span><a href=\"#Rationale-for-No-operator-precedence\" data-toc-modified-id=\"Rationale-for-No-operator-precedence-1.4\"><span class=\"toc-item-num\">1.4&nbsp;&nbsp;</span>Rationale for No operator precedence</a></span></li></ul></li><li><span><a href=\"#Match-~\" data-toc-modified-id=\"Match-~-2\"><span class=\"toc-item-num\">2&nbsp;&nbsp;</span>Match <code>~</code></a></span></li><li><span><a href=\"#Equality-and-Relational-Operators\" data-toc-modified-id=\"Equality-and-Relational-Operators-3\"><span class=\"toc-item-num\">3&nbsp;&nbsp;</span>Equality and Relational Operators</a></span><ul class=\"toc-item\"><li><span><a href=\"#Equality-=-and-Disequality-<>\" data-toc-modified-id=\"Equality-=-and-Disequality-<>-3.1\"><span class=\"toc-item-num\">3.1&nbsp;&nbsp;</span>Equality <code>=</code> and Disequality <code>&lt;&gt;</code></a></span></li><li><span><a href=\"#Not-Zero-not\" data-toc-modified-id=\"Not-Zero-not-3.2\"><span class=\"toc-item-num\">3.2&nbsp;&nbsp;</span>Not Zero <code>not</code></a></span></li><li><span><a href=\"#Order:-<,-<=,->,->=\" data-toc-modified-id=\"Order:-<,-<=,->,->=-3.3\"><span class=\"toc-item-num\">3.3&nbsp;&nbsp;</span>Order: <code>&lt;, &lt;=, &gt;, &gt;=</code></a></span></li></ul></li><li><span><a href=\"#Basic-Arithmetic:-+,-,*,%\" data-toc-modified-id=\"Basic-Arithmetic:-+,-,*,%-4\"><span class=\"toc-item-num\">4&nbsp;&nbsp;</span>Basic Arithmetic: <code>+,-,*,%</code></a></span></li><li><span><a href=\"#Greater-|-and-Lesser-&amp;\" data-toc-modified-id=\"Greater-|-and-Lesser-&amp;-5\"><span class=\"toc-item-num\">5&nbsp;&nbsp;</span>Greater <code>|</code> and Lesser <code>&amp;</code></a></span></li><li><span><a href=\"#Amend-:\" data-toc-modified-id=\"Amend-:-6\"><span class=\"toc-item-num\">6&nbsp;&nbsp;</span>Amend <code>:</code></a></span><ul class=\"toc-item\"><li><span><a href=\"#Amend-in-C-language\" data-toc-modified-id=\"Amend-in-C-language-6.1\"><span class=\"toc-item-num\">6.1&nbsp;&nbsp;</span>Amend in C language</a></span></li><li><span><a href=\"#Simple-q-Amend\" data-toc-modified-id=\"Simple-q-Amend-6.2\"><span class=\"toc-item-num\">6.2&nbsp;&nbsp;</span>Simple q Amend</a></span></li><li><span><a href=\"#Amend-with-Lists\" data-toc-modified-id=\"Amend-with-Lists-6.3\"><span class=\"toc-item-num\">6.3&nbsp;&nbsp;</span>Amend with Lists</a></span></li></ul></li><li><span><a href=\"#Exponential-Primitives:-sqrt,-exp,-log,-xexp,-xlog\" data-toc-modified-id=\"Exponential-Primitives:-sqrt,-exp,-log,-xexp,-xlog-7\"><span class=\"toc-item-num\">7&nbsp;&nbsp;</span>Exponential Primitives: <code>sqrt, exp, log, xexp, xlog</code></a></span><ul class=\"toc-item\"><li><span><a href=\"#sqrt\" data-toc-modified-id=\"sqrt-7.1\"><span class=\"toc-item-num\">7.1&nbsp;&nbsp;</span><code>sqrt</code></a></span></li><li><span><a href=\"#exp\" data-toc-modified-id=\"exp-7.2\"><span class=\"toc-item-num\">7.2&nbsp;&nbsp;</span><code>exp</code></a></span></li><li><span><a href=\"#log\" data-toc-modified-id=\"log-7.3\"><span class=\"toc-item-num\">7.3&nbsp;&nbsp;</span><code>log</code></a></span></li><li><span><a href=\"#xexp\" data-toc-modified-id=\"xexp-7.4\"><span class=\"toc-item-num\">7.4&nbsp;&nbsp;</span><code>xexp</code></a></span></li><li><span><a href=\"#xlog\" data-toc-modified-id=\"xlog-7.5\"><span class=\"toc-item-num\">7.5&nbsp;&nbsp;</span><code>xlog</code></a></span></li></ul></li><li><span><a href=\"#More-Numeric-Primitives\" data-toc-modified-id=\"More-Numeric-Primitives-8\"><span class=\"toc-item-num\">8&nbsp;&nbsp;</span>More Numeric Primitives</a></span><ul class=\"toc-item\"><li><span><a href=\"#Integer-Division-div-ad-Modulus-mod\" data-toc-modified-id=\"Integer-Division-div-ad-Modulus-mod-8.1\"><span class=\"toc-item-num\">8.1&nbsp;&nbsp;</span>Integer Division <code>div</code> ad Modulus <code>mod</code></a></span></li><li><span><a href=\"#Sign-signum\" data-toc-modified-id=\"Sign-signum-8.2\"><span class=\"toc-item-num\">8.2&nbsp;&nbsp;</span>Sign <code>signum</code></a></span></li><li><span><a href=\"#reciprocal\" data-toc-modified-id=\"reciprocal-8.3\"><span class=\"toc-item-num\">8.3&nbsp;&nbsp;</span><code>reciprocal</code></a></span></li><li><span><a href=\"#floor-and-ceiling\" data-toc-modified-id=\"floor-and-ceiling-8.4\"><span class=\"toc-item-num\">8.4&nbsp;&nbsp;</span><code>floor</code> and <code>ceiling</code></a></span></li><li><span><a href=\"#Absolute-value-abs\" data-toc-modified-id=\"Absolute-value-abs-8.5\"><span class=\"toc-item-num\">8.5&nbsp;&nbsp;</span>Absolute value <code>abs</code></a></span></li></ul></li><li><span><a href=\"#Operations-on-Temporal-Values\" data-toc-modified-id=\"Operations-on-Temporal-Values-9\"><span class=\"toc-item-num\">9&nbsp;&nbsp;</span>Operations on Temporal Values</a></span><ul class=\"toc-item\"><li><span><a href=\"#Temporal-Comparison\" data-toc-modified-id=\"Temporal-Comparison-9.1\"><span class=\"toc-item-num\">9.1&nbsp;&nbsp;</span>Temporal Comparison</a></span></li><li><span><a href=\"#Temporal-Arithmetic\" data-toc-modified-id=\"Temporal-Arithmetic-9.2\"><span class=\"toc-item-num\">9.2&nbsp;&nbsp;</span>Temporal Arithmetic</a></span></li></ul></li><li><span><a href=\"#Operations-on-Infinities-and-Nulls\" data-toc-modified-id=\"Operations-on-Infinities-and-Nulls-10\"><span class=\"toc-item-num\">10&nbsp;&nbsp;</span>Operations on Infinities and Nulls</a></span></li><li><span><a href=\"#Alias-::\" data-toc-modified-id=\"Alias-::-11\"><span class=\"toc-item-num\">11&nbsp;&nbsp;</span>Alias <code>::</code></a></span><ul class=\"toc-item\"><li><span><a href=\"#Creating-an-Alias-with-Double-Colon\" data-toc-modified-id=\"Creating-an-Alias-with-Double-Colon-11.1\"><span class=\"toc-item-num\">11.1&nbsp;&nbsp;</span>Creating an Alias with Double Colon</a></span></li><li><span><a href=\"#Alias-vs.-Function\" data-toc-modified-id=\"Alias-vs.-Function-11.2\"><span class=\"toc-item-num\">11.2&nbsp;&nbsp;</span>Alias vs. Function</a></span></li><li><span><a href=\"#Dependencies\" data-toc-modified-id=\"Dependencies-11.3\"><span class=\"toc-item-num\">11.3&nbsp;&nbsp;</span>Dependencies</a></span></li><li><span><a href=\"#Views\" data-toc-modified-id=\"Views-11.4\"><span class=\"toc-item-num\">11.4&nbsp;&nbsp;</span>Views</a></span></li></ul></li></ul></div>"
   ]
  },
  {
   "cell_type": "markdown",
   "metadata": {},
   "source": [
    "## Operators and Keywords are functions"
   ]
  },
  {
   "cell_type": "markdown",
   "metadata": {},
   "source": [
    "### Function Notation"
   ]
  },
  {
   "cell_type": "markdown",
   "metadata": {},
   "source": [
    "Two main differences between the functions we can write and built-in functions.\n",
    "\n",
    "- Our functions must have __alphanumeric names__ whereas q functions can have purely __symbolic names__.\n",
    "- Our functions can only be used in prefix notation whereas q functions can be used __prefix or infix__.\n",
    "\n",
    "Function application in q uses square brackets to enclose the arguments, and semicolons to separate multiple arguments. Thus the output value of a unary function `f` for the input `x` is written `f[x]` We can omit the brackets for unary application and write `f x`. Application of a binary function `g` on arguments `x` and `y` is written `g[x;y]` in prefix or ` x g y` in __infix__.\n",
    "\n"
   ]
  },
  {
   "cell_type": "markdown",
   "metadata": {},
   "source": [
    "An _atomic_ function acts recursively on data structures. For example, applying it to a list is the same as applying it to each item in the list."
   ]
  },
  {
   "cell_type": "markdown",
   "metadata": {},
   "source": [
    "### Primitives, Verbs and Function Notation"
   ]
  },
  {
   "cell_type": "code",
   "execution_count": 1,
   "metadata": {
    "ExecuteTime": {
     "end_time": "2020-11-18T21:26:42.120433000Z",
     "start_time": "2020-11-18T21:26:40.835Z"
    }
   },
   "outputs": [
    {
     "data": {
      "text/plain": [
       "5\n"
      ]
     },
     "execution_count": 1,
     "metadata": {},
     "output_type": "execute_result"
    }
   ],
   "source": [
    "2+3 /infix"
   ]
  },
  {
   "cell_type": "markdown",
   "metadata": {},
   "source": [
    "_primtive operators_: built-in functions, including basic arithmetic, relation and comparison operators. `+,-,=,<,>=,<=,<>,not,neg`"
   ]
  },
  {
   "cell_type": "code",
   "execution_count": 2,
   "metadata": {
    "ExecuteTime": {
     "end_time": "2020-11-18T21:26:42.123605000Z",
     "start_time": "2020-11-18T21:26:40.845Z"
    }
   },
   "outputs": [
    {
     "data": {
      "text/plain": [
       "5\n"
      ]
     },
     "execution_count": 2,
     "metadata": {},
     "output_type": "execute_result"
    },
    {
     "data": {
      "text/plain": [
       "0b\n"
      ]
     },
     "execution_count": 2,
     "metadata": {},
     "output_type": "execute_result"
    },
    {
     "data": {
      "text/plain": [
       "5\n"
      ]
     },
     "execution_count": 2,
     "metadata": {},
     "output_type": "execute_result"
    },
    {
     "data": {
      "text/plain": [
       "5\n"
      ]
     },
     "execution_count": 2,
     "metadata": {},
     "output_type": "execute_result"
    }
   ],
   "source": [
    "+[2;3] /prefix\n",
    "=[2;3]\n",
    "(2+)[3]\n",
    "(2+)3"
   ]
  },
  {
   "cell_type": "markdown",
   "metadata": {
    "ExecuteTime": {
     "end_time": "2020-11-18T14:26:22.421505000Z",
     "start_time": "2020-11-18T14:26:22.418Z"
    }
   },
   "source": [
    "### Extension of Atomic Functions\n",
    "\n",
    "Atomic functions' action extends automatically to the items in a list"
   ]
  },
  {
   "cell_type": "code",
   "execution_count": 2,
   "metadata": {
    "ExecuteTime": {
     "end_time": "2020-11-18T21:26:42.126984000Z",
     "start_time": "2020-11-18T21:26:40.851Z"
    }
   },
   "outputs": [
    {
     "data": {
      "text/plain": [
       "-1 -2 -3\n"
      ]
     },
     "execution_count": 3,
     "metadata": {},
     "output_type": "execute_result"
    },
    {
     "data": {
      "text/plain": [
       "11 22 33\n"
      ]
     },
     "execution_count": 3,
     "metadata": {},
     "output_type": "execute_result"
    },
    {
     "ename": "\u001b[0;31mlength\u001b[0m",
     "evalue": "\u001b[0;31mlength\u001b[0m",
     "output_type": "error",
     "traceback": [
      "\u001b[0;31mevaluation error:\n\u001b[0m",
      "\u001b[0;31mlength\u001b[0m",
      "\u001b[0;31m\u001b[0m",
      "\u001b[0;31m  [0]  1 2 3 + 10 20 30 40\n             ^\n\u001b[0m"
     ]
    }
   ],
   "source": [
    "neg 1 2 3\n",
    "1 2 3 + 10 20 30\n",
    "1 2 3 + 10 20 30 40"
   ]
  },
  {
   "cell_type": "markdown",
   "metadata": {},
   "source": [
    "It applies to nested lists as well"
   ]
  },
  {
   "cell_type": "code",
   "execution_count": 3,
   "metadata": {
    "ExecuteTime": {
     "end_time": "2020-11-18T21:26:42.129153000Z",
     "start_time": "2020-11-18T21:26:40.855Z"
    }
   },
   "outputs": [
    {
     "data": {
      "text/plain": [
       "-1 -2 -3\n",
       "-4 -5\n"
      ]
     },
     "execution_count": 3,
     "metadata": {},
     "output_type": "execute_result"
    },
    {
     "data": {
      "text/plain": [
       "101 202 303\n",
       "404 505\n"
      ]
     },
     "execution_count": 3,
     "metadata": {},
     "output_type": "execute_result"
    }
   ],
   "source": [
    "neg (1 2 3; 4 5)\n",
    "(1 2 3; 4 5)+(100 200 300; 400 500)"
   ]
  },
  {
   "cell_type": "markdown",
   "metadata": {},
   "source": [
    "Atomic operators implicitly extend atom arguments to match lists and nested lists."
   ]
  },
  {
   "cell_type": "code",
   "execution_count": 4,
   "metadata": {
    "ExecuteTime": {
     "end_time": "2020-11-18T21:26:42.132886000Z",
     "start_time": "2020-11-18T21:26:40.859Z"
    }
   },
   "outputs": [
    {
     "data": {
      "text/plain": [
       "101 102 103\n"
      ]
     },
     "execution_count": 4,
     "metadata": {},
     "output_type": "execute_result"
    },
    {
     "data": {
      "text/plain": [
       "101 102 103\n"
      ]
     },
     "execution_count": 4,
     "metadata": {},
     "output_type": "execute_result"
    },
    {
     "data": {
      "text/plain": [
       "101 102 103\n",
       "104 105\n"
      ]
     },
     "execution_count": 4,
     "metadata": {},
     "output_type": "execute_result"
    },
    {
     "data": {
      "text/plain": [
       "101 102 103\n",
       "104 105\n"
      ]
     },
     "execution_count": 4,
     "metadata": {},
     "output_type": "execute_result"
    }
   ],
   "source": [
    "100 + 1 2 3\n",
    "1 2 3 + 100\n",
    "100 + (1 2 3; 4 5)\n",
    "(1 2 3; 4 5) + 100"
   ]
  },
  {
   "cell_type": "markdown",
   "metadata": {},
   "source": [
    "## Operator Precedence\n",
    "**No precedence!**"
   ]
  },
  {
   "cell_type": "markdown",
   "metadata": {},
   "source": [
    "- Expressions are evaluated __left-of-right__\n",
    "- Expressions are evaluated __right-to-left__"
   ]
  },
  {
   "cell_type": "markdown",
   "metadata": {},
   "source": [
    "### Traditional Operator Precedence\n",
    "### Left-of-Right Evaluation\n",
    "### The Gotcha of Left-of-Right Evaluation"
   ]
  },
  {
   "cell_type": "markdown",
   "metadata": {},
   "source": [
    "Due to left-of-right evaluation, parentheses **are** needed to isolate the result of an expression that is the left operand of an infix operator. Let’s take a closer look at this."
   ]
  },
  {
   "cell_type": "code",
   "execution_count": 5,
   "metadata": {
    "ExecuteTime": {
     "end_time": "2020-11-18T21:26:42.135677000Z",
     "start_time": "2020-11-18T21:26:40.866Z"
    }
   },
   "outputs": [
    {
     "data": {
      "text/plain": [
       "14\n"
      ]
     },
     "execution_count": 5,
     "metadata": {},
     "output_type": "execute_result"
    },
    {
     "data": {
      "text/plain": [
       "10\n"
      ]
     },
     "execution_count": 5,
     "metadata": {},
     "output_type": "execute_result"
    },
    {
     "data": {
      "text/plain": [
       "10\n"
      ]
     },
     "execution_count": 5,
     "metadata": {},
     "output_type": "execute_result"
    }
   ],
   "source": [
    "2*3+4\n",
    "(2*3)+4\n",
    "4+2*3"
   ]
  },
  {
   "cell_type": "code",
   "execution_count": 6,
   "metadata": {
    "ExecuteTime": {
     "end_time": "2020-11-18T21:26:42.137000000Z",
     "start_time": "2020-11-18T21:26:40.870Z"
    }
   },
   "outputs": [
    {
     "data": {
      "text/plain": [
       "35\n"
      ]
     },
     "execution_count": 6,
     "metadata": {},
     "output_type": "execute_result"
    }
   ],
   "source": [
    "(2+3)*3+4"
   ]
  },
  {
   "cell_type": "markdown",
   "metadata": {},
   "source": [
    "### Rationale for No operator precedence"
   ]
  },
  {
   "cell_type": "markdown",
   "metadata": {},
   "source": [
    "## Match `~`"
   ]
  },
  {
   "cell_type": "markdown",
   "metadata": {},
   "source": [
    "For two entities to match, **they must have the same shape, the same type and the same value(s)**, but they may occupy separate storage locations. Colloquially, clones are considered identical in q."
   ]
  },
  {
   "cell_type": "code",
   "execution_count": 7,
   "metadata": {
    "ExecuteTime": {
     "end_time": "2020-11-18T21:26:42.143584000Z",
     "start_time": "2020-11-18T21:26:40.875Z"
    }
   },
   "outputs": [
    {
     "data": {
      "text/plain": [
       "1b\n"
      ]
     },
     "execution_count": 7,
     "metadata": {},
     "output_type": "execute_result"
    },
    {
     "data": {
      "text/plain": [
       "0b\n"
      ]
     },
     "execution_count": 7,
     "metadata": {},
     "output_type": "execute_result"
    },
    {
     "data": {
      "text/plain": [
       "1b\n"
      ]
     },
     "execution_count": 7,
     "metadata": {},
     "output_type": "execute_result"
    },
    {
     "data": {
      "text/plain": [
       "0b\n"
      ]
     },
     "execution_count": 7,
     "metadata": {},
     "output_type": "execute_result"
    },
    {
     "data": {
      "text/plain": [
       "0b\n"
      ]
     },
     "execution_count": 7,
     "metadata": {},
     "output_type": "execute_result"
    },
    {
     "data": {
      "text/plain": [
       "0b\n"
      ]
     },
     "execution_count": 7,
     "metadata": {},
     "output_type": "execute_result"
    },
    {
     "data": {
      "text/plain": [
       "0b\n"
      ]
     },
     "execution_count": 7,
     "metadata": {},
     "output_type": "execute_result"
    },
    {
     "data": {
      "text/plain": [
       "1b\n"
      ]
     },
     "execution_count": 7,
     "metadata": {},
     "output_type": "execute_result"
    },
    {
     "data": {
      "text/plain": [
       "0b\n"
      ]
     },
     "execution_count": 7,
     "metadata": {},
     "output_type": "execute_result"
    },
    {
     "data": {
      "text/plain": [
       "1b\n"
      ]
     },
     "execution_count": 7,
     "metadata": {},
     "output_type": "execute_result"
    },
    {
     "data": {
      "text/plain": [
       "0b\n"
      ]
     },
     "execution_count": 7,
     "metadata": {},
     "output_type": "execute_result"
    }
   ],
   "source": [
    "42~40+2 /1b\n",
    "42~42h /0b\n",
    "42f~42.0 /1b\n",
    "42~`42 /0b\n",
    "`42~\"42\" /0b\n",
    "4 2~2 4 / (4;1b;4) -> 0b\n",
    "42~(4 2;(1 0)) / (00b;00b) -> 0b\n",
    "(4 2)~(4; 2*1) /1b\n",
    "(())~enlist () /1b -> 0b\n",
    "(1; 2 3 4) ~ (1; (2; 3; 4)) /1b\n",
    "(1 2;3 4)~(1;2 3 4) /0b"
   ]
  },
  {
   "cell_type": "markdown",
   "metadata": {
    "ExecuteTime": {
     "end_time": "2020-11-18T14:43:17.735030000Z",
     "start_time": "2020-11-18T14:43:17.731Z"
    }
   },
   "source": [
    "## Equality and Relational Operators"
   ]
  },
  {
   "cell_type": "markdown",
   "metadata": {},
   "source": [
    "### Equality `=` and Disequality `<>`"
   ]
  },
  {
   "cell_type": "markdown",
   "metadata": {},
   "source": [
    "The equality operator `=` differs from Match `~` in that it is **atomic in both operands**, meaning it tests its operands atom-wise instead of in entirety. **All atoms of numeric, temporal or char type are mutually compatible for equality**, but symbols are compatible only with symbols."
   ]
  },
  {
   "cell_type": "markdown",
   "metadata": {
    "ExecuteTime": {
     "end_time": "2020-11-18T14:46:12.948732000Z",
     "start_time": "2020-11-18T14:46:12.940Z"
    }
   },
   "source": [
    "Equality tests whether two compatible atoms represent the same value, without regard to type."
   ]
  },
  {
   "cell_type": "code",
   "execution_count": 8,
   "metadata": {
    "ExecuteTime": {
     "end_time": "2020-11-18T21:26:42.146451000Z",
     "start_time": "2020-11-18T21:26:40.883Z"
    }
   },
   "outputs": [
    {
     "data": {
      "text/plain": [
       "1b\n"
      ]
     },
     "execution_count": 8,
     "metadata": {},
     "output_type": "execute_result"
    },
    {
     "data": {
      "text/plain": [
       "1b\n"
      ]
     },
     "execution_count": 8,
     "metadata": {},
     "output_type": "execute_result"
    },
    {
     "data": {
      "text/plain": [
       "0b\n"
      ]
     },
     "execution_count": 8,
     "metadata": {},
     "output_type": "execute_result"
    },
    {
     "data": {
      "text/plain": [
       "1b\n"
      ]
     },
     "execution_count": 8,
     "metadata": {},
     "output_type": "execute_result"
    }
   ],
   "source": [
    "42=42i /1b\n",
    "42=42.0 /1b\n",
    "42=0x42 /0b  0x42 is 66\n",
    "42=\"*\" /1b "
   ]
  },
  {
   "cell_type": "code",
   "execution_count": 9,
   "metadata": {
    "ExecuteTime": {
     "end_time": "2020-11-18T21:26:42.149576000Z",
     "start_time": "2020-11-18T21:26:40.887Z"
    }
   },
   "outputs": [
    {
     "data": {
      "text/plain": [
       "0b\n"
      ]
     },
     "execution_count": 9,
     "metadata": {},
     "output_type": "execute_result"
    },
    {
     "data": {
      "text/plain": [
       "0b\n"
      ]
     },
     "execution_count": 9,
     "metadata": {},
     "output_type": "execute_result"
    },
    {
     "data": {
      "text/plain": [
       "0b\n"
      ]
     },
     "execution_count": 9,
     "metadata": {},
     "output_type": "execute_result"
    },
    {
     "data": {
      "text/plain": [
       "0b\n"
      ]
     },
     "execution_count": 9,
     "metadata": {},
     "output_type": "execute_result"
    }
   ],
   "source": [
    "42~42i /0b\n",
    "42~42.0 /0b\n",
    "42~0x42 /0b\n",
    "42~\"*\" /0b "
   ]
  },
  {
   "cell_type": "markdown",
   "metadata": {},
   "source": [
    "the underlying bit pattern of the ASCII char `*` is the same as the underlying bit pattern for the integer 42."
   ]
  },
  {
   "cell_type": "code",
   "execution_count": 10,
   "metadata": {
    "ExecuteTime": {
     "end_time": "2020-11-18T21:26:42.151760000Z",
     "start_time": "2020-11-18T21:26:40.891Z"
    }
   },
   "outputs": [
    {
     "data": {
      "text/plain": [
       "1b\n"
      ]
     },
     "execution_count": 10,
     "metadata": {},
     "output_type": "execute_result"
    },
    {
     "data": {
      "text/plain": [
       "1b\n"
      ]
     },
     "execution_count": 10,
     "metadata": {},
     "output_type": "execute_result"
    },
    {
     "data": {
      "text/plain": [
       "1b\n"
      ]
     },
     "execution_count": 10,
     "metadata": {},
     "output_type": "execute_result"
    }
   ],
   "source": [
    "2000.01.01=2000.01.01D00:00:00.000000000\n",
    "2015.01.01<2015.02m\n",
    "12:00:00=12:00:00.000"
   ]
  },
  {
   "cell_type": "markdown",
   "metadata": {},
   "source": [
    "A symbol and a character are not compatible and an error results from the test"
   ]
  },
  {
   "cell_type": "code",
   "execution_count": 10,
   "metadata": {
    "ExecuteTime": {
     "end_time": "2020-11-18T21:26:42.153101000Z",
     "start_time": "2020-11-18T21:26:40.896Z"
    }
   },
   "outputs": [
    {
     "ename": "\u001b[0;31mtype\u001b[0m",
     "evalue": "\u001b[0;31mtype\u001b[0m",
     "output_type": "error",
     "traceback": [
      "\u001b[0;31mevaluation error:\n\u001b[0m",
      "\u001b[0;31mtype\u001b[0m",
      "\u001b[0;31m\u001b[0m",
      "\u001b[0;31m  [0]  `a=\"a\"\n         ^\n\u001b[0m"
     ]
    }
   ],
   "source": [
    "`a=\"a\""
   ]
  },
  {
   "cell_type": "markdown",
   "metadata": {},
   "source": [
    "The not-equal primitive is `<>`."
   ]
  },
  {
   "cell_type": "code",
   "execution_count": 11,
   "metadata": {
    "ExecuteTime": {
     "end_time": "2020-11-18T21:26:42.154966000Z",
     "start_time": "2020-11-18T21:26:40.900Z"
    }
   },
   "outputs": [
    {
     "data": {
      "text/plain": [
       "1b\n"
      ]
     },
     "execution_count": 11,
     "metadata": {},
     "output_type": "execute_result"
    }
   ],
   "source": [
    "42<>0x42"
   ]
  },
  {
   "cell_type": "markdown",
   "metadata": {},
   "source": [
    "The test “not equal” can also be achieved by applying not to the result of testing with `=`. This what `<>` actually does."
   ]
  },
  {
   "cell_type": "code",
   "execution_count": 12,
   "metadata": {
    "ExecuteTime": {
     "end_time": "2020-11-18T21:26:42.156996000Z",
     "start_time": "2020-11-18T21:26:40.905Z"
    }
   },
   "outputs": [
    {
     "data": {
      "text/plain": [
       "1b\n"
      ]
     },
     "execution_count": 12,
     "metadata": {},
     "output_type": "execute_result"
    }
   ],
   "source": [
    "not 42=98.6"
   ]
  },
  {
   "cell_type": "markdown",
   "metadata": {},
   "source": [
    "When comparing floats, q uses multiplicative tolerance for non-zero values, which makes floating point arithmetic give reasonable results. At the time of this writing (Sep 2015) the tolerance is $10^{-14}$"
   ]
  },
  {
   "cell_type": "code",
   "execution_count": 13,
   "metadata": {
    "ExecuteTime": {
     "end_time": "2020-11-18T21:26:42.158822000Z",
     "start_time": "2020-11-18T21:26:40.909Z"
    }
   },
   "outputs": [
    {
     "data": {
      "text/plain": [
       "0.3333333\n"
      ]
     },
     "execution_count": 13,
     "metadata": {},
     "output_type": "execute_result"
    },
    {
     "data": {
      "text/plain": [
       "1b\n"
      ]
     },
     "execution_count": 13,
     "metadata": {},
     "output_type": "execute_result"
    }
   ],
   "source": [
    "r:1%3\n",
    "r\n",
    "2=r+r+r+r+r+r"
   ]
  },
  {
   "cell_type": "markdown",
   "metadata": {},
   "source": [
    "### Not Zero `not`\n",
    "\n",
    "It returns a boolean result and has domain of all numeric, temporal and character types; it is not defined for symbols. The `not` keyword generalizes the reversal of true and false bits to any entity having an underlying numeric value. It answers the Hamletonian question: to be, or not to be, zero."
   ]
  },
  {
   "cell_type": "code",
   "execution_count": 14,
   "metadata": {
    "ExecuteTime": {
     "end_time": "2020-11-18T21:26:42.160887000Z",
     "start_time": "2020-11-18T21:26:40.913Z"
    }
   },
   "outputs": [
    {
     "data": {
      "text/plain": [
       "1b\n"
      ]
     },
     "execution_count": 14,
     "metadata": {},
     "output_type": "execute_result"
    },
    {
     "data": {
      "text/plain": [
       "0b\n"
      ]
     },
     "execution_count": 14,
     "metadata": {},
     "output_type": "execute_result"
    }
   ],
   "source": [
    "not 0b\n",
    "not 1b"
   ]
  },
  {
   "cell_type": "code",
   "execution_count": 15,
   "metadata": {
    "ExecuteTime": {
     "end_time": "2020-11-18T21:26:42.165023000Z",
     "start_time": "2020-11-18T21:26:40.917Z"
    }
   },
   "outputs": [
    {
     "data": {
      "text/plain": [
       "1b\n"
      ]
     },
     "execution_count": 15,
     "metadata": {},
     "output_type": "execute_result"
    },
    {
     "data": {
      "text/plain": [
       "0b\n"
      ]
     },
     "execution_count": 15,
     "metadata": {},
     "output_type": "execute_result"
    },
    {
     "data": {
      "text/plain": [
       "0b\n"
      ]
     },
     "execution_count": 15,
     "metadata": {},
     "output_type": "execute_result"
    },
    {
     "data": {
      "text/plain": [
       "1b\n"
      ]
     },
     "execution_count": 15,
     "metadata": {},
     "output_type": "execute_result"
    },
    {
     "data": {
      "text/plain": [
       "0b\n"
      ]
     },
     "execution_count": 15,
     "metadata": {},
     "output_type": "execute_result"
    },
    {
     "data": {
      "text/plain": [
       "0b\n"
      ]
     },
     "execution_count": 15,
     "metadata": {},
     "output_type": "execute_result"
    }
   ],
   "source": [
    "not 0b /1b\n",
    "not 1b /0b\n",
    "not 42 /0b\n",
    "not 0 /1b\n",
    "not 0xff /0b 0xff is 255\n",
    "not 98.6 /0b"
   ]
  },
  {
   "cell_type": "code",
   "execution_count": 16,
   "metadata": {
    "ExecuteTime": {
     "end_time": "2020-11-18T21:26:42.167214000Z",
     "start_time": "2020-11-18T21:26:40.921Z"
    }
   },
   "outputs": [
    {
     "data": {
      "text/plain": [
       "0b\n"
      ]
     },
     "execution_count": 16,
     "metadata": {},
     "output_type": "execute_result"
    },
    {
     "data": {
      "text/plain": [
       "0b\n"
      ]
     },
     "execution_count": 16,
     "metadata": {},
     "output_type": "execute_result"
    },
    {
     "data": {
      "text/plain": [
       "1b\n"
      ]
     },
     "execution_count": 16,
     "metadata": {},
     "output_type": "execute_result"
    }
   ],
   "source": [
    "not \"*\" /0b\n",
    "not \" \" /1b -> 0b\n",
    "not \"\\000\" /0b -> 1b"
   ]
  },
  {
   "cell_type": "markdown",
   "metadata": {},
   "source": [
    "For temporal values, an underlying 0 corresponds to the stroke of midnight at the millennium for types including a date and simply midnight for time-only types."
   ]
  },
  {
   "cell_type": "code",
   "execution_count": 17,
   "metadata": {
    "ExecuteTime": {
     "end_time": "2020-11-18T21:26:42.171329000Z",
     "start_time": "2020-11-18T21:26:40.925Z"
    }
   },
   "outputs": [
    {
     "data": {
      "text/plain": [
       "1b\n"
      ]
     },
     "execution_count": 17,
     "metadata": {},
     "output_type": "execute_result"
    },
    {
     "data": {
      "text/plain": [
       "0b\n"
      ]
     },
     "execution_count": 17,
     "metadata": {},
     "output_type": "execute_result"
    },
    {
     "data": {
      "text/plain": [
       "1b\n"
      ]
     },
     "execution_count": 17,
     "metadata": {},
     "output_type": "execute_result"
    },
    {
     "data": {
      "text/plain": [
       "1b\n"
      ]
     },
     "execution_count": 17,
     "metadata": {},
     "output_type": "execute_result"
    },
    {
     "data": {
      "text/plain": [
       "1b\n"
      ]
     },
     "execution_count": 17,
     "metadata": {},
     "output_type": "execute_result"
    },
    {
     "data": {
      "text/plain": [
       "0b\n"
      ]
     },
     "execution_count": 17,
     "metadata": {},
     "output_type": "execute_result"
    }
   ],
   "source": [
    "not 2000.01.01 /1b\n",
    "not 2014.01.01 /0b\n",
    "not 2000.01.01T00:00:00.000000000 /1b\n",
    "not 2000.01m /1b\n",
    "not 00:00:00 /1b\n",
    "not 12:00:00.000000000 /0b"
   ]
  },
  {
   "cell_type": "markdown",
   "metadata": {},
   "source": [
    "### Order: `<, <=, >, >= `"
   ]
  },
  {
   "cell_type": "markdown",
   "metadata": {},
   "source": [
    "Less Than `<`, Greater Than `>` Up To `<=` and At Least `>=` are atomic and are defined for all compatible atom types. Numeric and char types are mutually compatible, but symbols are only compatible with symbols. As with equality, comparison for numeric and char types is based on underlying numeric value, independent of type."
   ]
  },
  {
   "cell_type": "code",
   "execution_count": 18,
   "metadata": {
    "ExecuteTime": {
     "end_time": "2020-11-18T21:26:42.173525000Z",
     "start_time": "2020-11-18T21:26:40.930Z"
    }
   },
   "outputs": [
    {
     "data": {
      "text/plain": [
       "1b\n"
      ]
     },
     "execution_count": 18,
     "metadata": {},
     "output_type": "execute_result"
    },
    {
     "data": {
      "text/plain": [
       "0b\n"
      ]
     },
     "execution_count": 18,
     "metadata": {},
     "output_type": "execute_result"
    },
    {
     "data": {
      "text/plain": [
       "1b\n"
      ]
     },
     "execution_count": 18,
     "metadata": {},
     "output_type": "execute_result"
    }
   ],
   "source": [
    "4<42 /1b\n",
    "4h>0x2a /0b\n",
    "-1.4142<99i /1b"
   ]
  },
  {
   "cell_type": "markdown",
   "metadata": {},
   "source": [
    "As with equality, the comparison for temporal types is between the points on the calendar/clock rather than the underlying counts."
   ]
  },
  {
   "cell_type": "code",
   "execution_count": 19,
   "metadata": {
    "ExecuteTime": {
     "end_time": "2020-11-18T21:26:42.176757000Z",
     "start_time": "2020-11-18T21:26:40.935Z"
    }
   },
   "outputs": [
    {
     "data": {
      "text/plain": [
       "1b\n"
      ]
     },
     "execution_count": 19,
     "metadata": {},
     "output_type": "execute_result"
    },
    {
     "data": {
      "text/plain": [
       "1b\n"
      ]
     },
     "execution_count": 19,
     "metadata": {},
     "output_type": "execute_result"
    },
    {
     "data": {
      "text/plain": [
       "1b\n"
      ]
     },
     "execution_count": 19,
     "metadata": {},
     "output_type": "execute_result"
    },
    {
     "data": {
      "text/plain": [
       "1b\n"
      ]
     },
     "execution_count": 19,
     "metadata": {},
     "output_type": "execute_result"
    }
   ],
   "source": [
    "2000.01.01<2000.01.01D00:00:00.000000001 /1b\n",
    "2015.01.01<2015.02m /1b\n",
    "12:00:01>12:00:00.000 /1b\n",
    "12:00:01>12:00:00.010 /1b"
   ]
  },
  {
   "cell_type": "markdown",
   "metadata": {},
   "source": [
    "For char atoms, comparing the underlying numeric value follows the ASCII collation sequence."
   ]
  },
  {
   "cell_type": "code",
   "execution_count": 20,
   "metadata": {
    "ExecuteTime": {
     "end_time": "2020-11-18T21:26:42.179401000Z",
     "start_time": "2020-11-18T21:26:40.940Z"
    }
   },
   "outputs": [
    {
     "data": {
      "text/plain": [
       "1b\n"
      ]
     },
     "execution_count": 20,
     "metadata": {},
     "output_type": "execute_result"
    },
    {
     "data": {
      "text/plain": [
       "0b\n"
      ]
     },
     "execution_count": 20,
     "metadata": {},
     "output_type": "execute_result"
    },
    {
     "data": {
      "text/plain": [
       "0b\n"
      ]
     },
     "execution_count": 20,
     "metadata": {},
     "output_type": "execute_result"
    },
    {
     "data": {
      "text/plain": [
       "0b\n"
      ]
     },
     "execution_count": 20,
     "metadata": {},
     "output_type": "execute_result"
    }
   ],
   "source": [
    "\"A\"<\"Z\" /1b\n",
    "\"a\"<\"Z\" /0b\n",
    "\"A\"<\"0\" /0b\n",
    "\"?\"<\"?\" /0b"
   ]
  },
  {
   "cell_type": "markdown",
   "metadata": {},
   "source": [
    "**To see the entire ASCII collation sequence in compact form**"
   ]
  },
  {
   "cell_type": "code",
   "execution_count": 21,
   "metadata": {
    "ExecuteTime": {
     "end_time": "2020-11-18T21:26:42.180728000Z",
     "start_time": "2020-11-18T21:26:40.944Z"
    }
   },
   "outputs": [
    {
     "data": {
      "text/plain": [
       "\"\\000\\001\\002\\003\\004\\005\\006\\007\\010\\t\\n\\013\\014\\r\\016\\017\"\n",
       "\"\\020\\021\\022\\023\\024\\025\\026\\027\\030\\031\\032\\033\\034\\035\\036\\037\"\n",
       "\" !\\\"#$%&'()*+,-./\"\n",
       "\"0123456789:;<=>?\"\n",
       "\"@ABCDEFGHIJKLMNO\"\n",
       "\"PQRSTUVWXYZ[\\\\]^_\"\n",
       "\"`abcdefghijklmno\"\n",
       "\"pqrstuvwxyz{|}~\\177\"\n",
       "\"\\200\\201\\202\\203\\204\\205\\206\\207\\210\\211\\212\\213\\214\\215\\216\\217\"\n",
       "\"\\220\\221\\222\\223\\224\\225\\226\\227\\230\\231\\232\\233\\234\\235\\236\\237\"\n",
       "\"\\240\\241\\242\\243\\244\\245\\246\\247\\250\\251\\252\\253\\254\\255\\256\\257\"\n",
       "\"\\260\\261\\262\\263\\264\\265\\266\\267\\270\\271\\272\\273\\274\\275\\276\\277\"\n",
       "\"\\300\\301\\302\\303\\304\\305\\306\\307\\310\\311\\312\\313\\314\\315\\316\\317\"\n",
       "\"\\320\\321\\322\\323\\324\\325\\326\\327\\330\\331\\332\\333\\334\\335\\336\\337\"\n",
       "\"\\340\\341\\342\\343\\344\\345\\346\\347\\350\\351\\352\\353\\354\\355\\356\\357\"\n",
       "\"\\360\\361\\362\\363\\364\\365\\366\\367\\370\\371\\372\\373\\374\\375\\376\\377\"\n"
      ]
     },
     "execution_count": 21,
     "metadata": {},
     "output_type": "execute_result"
    }
   ],
   "source": [
    "16 16#\"c\"$til 256"
   ]
  },
  {
   "cell_type": "code",
   "execution_count": 22,
   "metadata": {
    "ExecuteTime": {
     "end_time": "2020-11-18T21:26:42.182229000Z",
     "start_time": "2020-11-18T21:26:40.948Z"
    }
   },
   "outputs": [
    {
     "data": {
      "text/plain": [
       "\"\\020\"\n"
      ]
     },
     "execution_count": 22,
     "metadata": {},
     "output_type": "execute_result"
    }
   ],
   "source": [
    "\"c\"$16"
   ]
  },
  {
   "cell_type": "markdown",
   "metadata": {},
   "source": [
    "Symbol comparison is based on **lexicographic order.**\n",
    "\n",
    "\n"
   ]
  },
  {
   "cell_type": "code",
   "execution_count": 23,
   "metadata": {
    "ExecuteTime": {
     "end_time": "2020-11-18T21:26:42.184378000Z",
     "start_time": "2020-11-18T21:26:40.953Z"
    }
   },
   "outputs": [
    {
     "data": {
      "text/plain": [
       "1b\n"
      ]
     },
     "execution_count": 23,
     "metadata": {},
     "output_type": "execute_result"
    },
    {
     "data": {
      "text/plain": [
       "0b\n"
      ]
     },
     "execution_count": 23,
     "metadata": {},
     "output_type": "execute_result"
    }
   ],
   "source": [
    "`a<`b /1b\n",
    "`abc<`aba /0b"
   ]
  },
  {
   "cell_type": "markdown",
   "metadata": {},
   "source": [
    "Now that we are familiar with relational operations on atoms, let’s examine their item-wise extensions to simple lists. Notice the simple boolean list returned."
   ]
  },
  {
   "cell_type": "code",
   "execution_count": 24,
   "metadata": {
    "ExecuteTime": {
     "end_time": "2020-11-18T21:26:42.187732000Z",
     "start_time": "2020-11-18T21:26:40.957Z"
    }
   },
   "outputs": [
    {
     "data": {
      "text/plain": [
       "001b\n"
      ]
     },
     "execution_count": 24,
     "metadata": {},
     "output_type": "execute_result"
    },
    {
     "data": {
      "text/plain": [
       "110b\n"
      ]
     },
     "execution_count": 24,
     "metadata": {},
     "output_type": "execute_result"
    },
    {
     "data": {
      "text/plain": [
       "010b\n"
      ]
     },
     "execution_count": 24,
     "metadata": {},
     "output_type": "execute_result"
    },
    {
     "data": {
      "text/plain": [
       "000100b\n"
      ]
     },
     "execution_count": 24,
     "metadata": {},
     "output_type": "execute_result"
    },
    {
     "data": {
      "text/plain": [
       "1010b\n"
      ]
     },
     "execution_count": 24,
     "metadata": {},
     "output_type": "execute_result"
    }
   ],
   "source": [
    "2 1 3=1 2 3\n",
    "10 20 30<=30 20 10\n",
    "2=1 2 3\n",
    "\"zaphod\"=\"Arthur\"\n",
    "`a`b`a`d=`a`d`a`b"
   ]
  },
  {
   "cell_type": "markdown",
   "metadata": {},
   "source": [
    "## Basic Arithmetic: `+,-,*,%`"
   ]
  },
  {
   "cell_type": "markdown",
   "metadata": {},
   "source": [
    "Type promotion for arithmetic operators follows two rules:\n",
    "1. Binary types are promoted to int\n",
    "2. The result type of an operation is the narrowest type that will accommodate both operands"
   ]
  },
  {
   "cell_type": "code",
   "execution_count": 25,
   "metadata": {
    "ExecuteTime": {
     "end_time": "2020-11-18T21:26:42.190413000Z",
     "start_time": "2020-11-18T21:26:40.962Z"
    }
   },
   "outputs": [
    {
     "data": {
      "text/plain": [
       "2i\n"
      ]
     },
     "execution_count": 25,
     "metadata": {},
     "output_type": "execute_result"
    },
    {
     "data": {
      "text/plain": [
       "42\n"
      ]
     },
     "execution_count": 25,
     "metadata": {},
     "output_type": "execute_result"
    },
    {
     "data": {
      "text/plain": [
       "210i\n"
      ]
     },
     "execution_count": 25,
     "metadata": {},
     "output_type": "execute_result"
    }
   ],
   "source": [
    "1b+1b /2 -> 2i\n",
    "42*1b /42\n",
    "5i*0x2a /210i"
   ]
  },
  {
   "cell_type": "markdown",
   "metadata": {},
   "source": [
    "**Overflow and underflow are not trapped on arithmetic operations on integer types.**"
   ]
  },
  {
   "cell_type": "code",
   "execution_count": 26,
   "metadata": {
    "ExecuteTime": {
     "end_time": "2020-11-18T21:26:42.192798000Z",
     "start_time": "2020-11-18T21:26:40.966Z"
    }
   },
   "outputs": [
    {
     "data": {
      "text/plain": [
       "-9223372036854775806\n"
      ]
     },
     "execution_count": 26,
     "metadata": {},
     "output_type": "execute_result"
    },
    {
     "data": {
      "text/plain": [
       "-8000000000000000016\n"
      ]
     },
     "execution_count": 26,
     "metadata": {},
     "output_type": "execute_result"
    },
    {
     "data": {
      "text/plain": [
       "9223372036854775806\n"
      ]
     },
     "execution_count": 26,
     "metadata": {},
     "output_type": "execute_result"
    }
   ],
   "source": [
    "9223372036854775806+4\n",
    "2*5223372036854775800\n",
    "-9223372036854775806-4"
   ]
  },
  {
   "cell_type": "markdown",
   "metadata": {},
   "source": [
    "floating-point type occurs in an expression, the result is a float"
   ]
  },
  {
   "cell_type": "code",
   "execution_count": 27,
   "metadata": {
    "ExecuteTime": {
     "end_time": "2020-11-18T21:26:42.195002000Z",
     "start_time": "2020-11-18T21:26:40.971Z"
    }
   },
   "outputs": [
    {
     "data": {
      "text/plain": [
       "13f\n"
      ]
     },
     "execution_count": 27,
     "metadata": {},
     "output_type": "execute_result"
    },
    {
     "data": {
      "text/plain": [
       "2f\n"
      ]
     },
     "execution_count": 27,
     "metadata": {},
     "output_type": "execute_result"
    },
    {
     "data": {
      "text/plain": [
       "42f\n"
      ]
     },
     "execution_count": 27,
     "metadata": {},
     "output_type": "execute_result"
    }
   ],
   "source": [
    "6+7.0\n",
    "1.0+1b\n",
    "6.0*7.0e"
   ]
  },
  {
   "cell_type": "markdown",
   "metadata": {},
   "source": [
    "The symbols for arithmetic operators are **binary**."
   ]
  },
  {
   "cell_type": "code",
   "execution_count": 28,
   "metadata": {
    "ExecuteTime": {
     "end_time": "2020-11-18T21:26:42.197165000Z",
     "start_time": "2020-11-18T21:26:40.975Z"
    }
   },
   "outputs": [
    {
     "data": {
      "text/plain": [
       "42\n"
      ]
     },
     "execution_count": 28,
     "metadata": {},
     "output_type": "execute_result"
    },
    {
     "data": {
      "text/plain": [
       "-42\n"
      ]
     },
     "execution_count": 28,
     "metadata": {},
     "output_type": "execute_result"
    }
   ],
   "source": [
    "42\n",
    "-42\n",
    "a:42"
   ]
  },
  {
   "cell_type": "code",
   "execution_count": 0,
   "metadata": {
    "ExecuteTime": {
     "end_time": "2020-11-18T21:26:42.082553000Z",
     "start_time": "2020-11-18T21:26:40.978Z"
    }
   },
   "outputs": [
    {
     "ename": "\u001b[0;31mparse error\u001b[0m",
     "evalue": "\u001b[0;31m-\u001b[0m",
     "output_type": "error",
     "traceback": [
      "\u001b[0;31mparse error\u001b[0m",
      "\u001b[0;31m-\u001b[0m"
     ]
    }
   ],
   "source": [
    "-a /error"
   ]
  },
  {
   "cell_type": "code",
   "execution_count": 29,
   "metadata": {
    "ExecuteTime": {
     "end_time": "2020-11-18T21:26:42.198689000Z",
     "start_time": "2020-11-18T21:26:40.982Z"
    }
   },
   "outputs": [
    {
     "data": {
      "text/plain": [
       "-42\n"
      ]
     },
     "execution_count": 29,
     "metadata": {},
     "output_type": "execute_result"
    }
   ],
   "source": [
    "neg a"
   ]
  },
  {
   "cell_type": "markdown",
   "metadata": {},
   "source": [
    "Being atomic, arithmetic operators and their type promotion are performed atom-wise on lists."
   ]
  },
  {
   "cell_type": "code",
   "execution_count": 30,
   "metadata": {
    "ExecuteTime": {
     "end_time": "2020-11-18T21:26:42.201357000Z",
     "start_time": "2020-11-18T21:26:40.987Z"
    }
   },
   "outputs": [
    {
     "data": {
      "text/plain": [
       "11 21 31f\n"
      ]
     },
     "execution_count": 30,
     "metadata": {},
     "output_type": "execute_result"
    },
    {
     "data": {
      "text/plain": [
       "10 10 10f\n"
      ]
     },
     "execution_count": 30,
     "metadata": {},
     "output_type": "execute_result"
    },
    {
     "data": {
      "text/plain": [
       "101 201 301\n"
      ]
     },
     "execution_count": 30,
     "metadata": {},
     "output_type": "execute_result"
    },
    {
     "data": {
      "text/plain": [
       "101  201 \n",
       "1001 2001\n"
      ]
     },
     "execution_count": 30,
     "metadata": {},
     "output_type": "execute_result"
    }
   ],
   "source": [
    "1.0+10 20 30\n",
    "10 20 30%1 2 3\n",
    "100 200 300+1b\n",
    "1+(100 200;1000 2000)"
   ]
  },
  {
   "cell_type": "markdown",
   "metadata": {},
   "source": [
    "## Greater `|` and Lesser `&`"
   ]
  },
  {
   "cell_type": "code",
   "execution_count": 31,
   "metadata": {
    "ExecuteTime": {
     "end_time": "2020-11-18T21:26:42.205454000Z",
     "start_time": "2020-11-18T21:26:40.991Z"
    }
   },
   "outputs": [
    {
     "data": {
      "text/plain": [
       "43\n"
      ]
     },
     "execution_count": 31,
     "metadata": {},
     "output_type": "execute_result"
    },
    {
     "data": {
      "text/plain": [
       "98.6\n"
      ]
     },
     "execution_count": 31,
     "metadata": {},
     "output_type": "execute_result"
    },
    {
     "data": {
      "text/plain": [
       "1b\n"
      ]
     },
     "execution_count": 31,
     "metadata": {},
     "output_type": "execute_result"
    },
    {
     "data": {
      "text/plain": [
       "0b\n"
      ]
     },
     "execution_count": 31,
     "metadata": {},
     "output_type": "execute_result"
    },
    {
     "data": {
      "text/plain": [
       "43\n"
      ]
     },
     "execution_count": 31,
     "metadata": {},
     "output_type": "execute_result"
    },
    {
     "data": {
      "text/plain": [
       "\"z\"\n"
      ]
     },
     "execution_count": 31,
     "metadata": {},
     "output_type": "execute_result"
    }
   ],
   "source": [
    "42|43 /43\n",
    "98.6&101.9 /98.6\n",
    "0b|1b /1b\n",
    "1b&0b /0b\n",
    "42|0x2b /0x2b -> 43\n",
    "\"a\"|\"z\" /\"z\""
   ]
  },
  {
   "cell_type": "code",
   "execution_count": 31,
   "metadata": {
    "ExecuteTime": {
     "end_time": "2020-11-18T21:26:42.206835000Z",
     "start_time": "2020-11-18T21:26:40.995Z"
    }
   },
   "outputs": [
    {
     "ename": "\u001b[0;31mtype\u001b[0m",
     "evalue": "\u001b[0;31mtype\u001b[0m",
     "output_type": "error",
     "traceback": [
      "\u001b[0;31mevaluation error:\n\u001b[0m",
      "\u001b[0;31mtype\u001b[0m",
      "\u001b[0;31m\u001b[0m",
      "\u001b[0;31m  [0]  `a|`z\n         ^\n\u001b[0m"
     ]
    }
   ],
   "source": [
    "`a|`z"
   ]
  },
  {
   "cell_type": "code",
   "execution_count": 32,
   "metadata": {
    "ExecuteTime": {
     "end_time": "2020-11-18T21:26:42.209067000Z",
     "start_time": "2020-11-18T21:26:40.999Z"
    }
   },
   "outputs": [
    {
     "data": {
      "text/plain": [
       "2 2 2 3 4\n"
      ]
     },
     "execution_count": 32,
     "metadata": {},
     "output_type": "execute_result"
    },
    {
     "data": {
      "text/plain": [
       "01000101b\n"
      ]
     },
     "execution_count": 32,
     "metadata": {},
     "output_type": "execute_result"
    },
    {
     "data": {
      "text/plain": [
       "\"zrthur\"\n"
      ]
     },
     "execution_count": 32,
     "metadata": {},
     "output_type": "execute_result"
    }
   ],
   "source": [
    "2 | 0 1 2 3 4\n",
    "11010101b&01100101b\n",
    "\"zaphod\"|\"arthur\""
   ]
  },
  {
   "cell_type": "markdown",
   "metadata": {},
   "source": [
    "For readability of logical operations on binary data, `|` can also be written as `or` and `&` can be written as `and`."
   ]
  },
  {
   "cell_type": "code",
   "execution_count": 33,
   "metadata": {
    "ExecuteTime": {
     "end_time": "2020-11-18T21:26:42.211756000Z",
     "start_time": "2020-11-18T21:26:41.003Z"
    }
   },
   "outputs": [
    {
     "data": {
      "text/plain": [
       "1b\n"
      ]
     },
     "execution_count": 33,
     "metadata": {},
     "output_type": "execute_result"
    },
    {
     "data": {
      "text/plain": [
       "0b\n"
      ]
     },
     "execution_count": 33,
     "metadata": {},
     "output_type": "execute_result"
    },
    {
     "data": {
      "text/plain": [
       "43\n"
      ]
     },
     "execution_count": 33,
     "metadata": {},
     "output_type": "execute_result"
    }
   ],
   "source": [
    "1b or 0b\n",
    "1b and 0b\n",
    "42 or 43"
   ]
  },
  {
   "cell_type": "markdown",
   "metadata": {},
   "source": [
    "## Amend `:`"
   ]
  },
  {
   "cell_type": "markdown",
   "metadata": {},
   "source": [
    "### Amend in C language"
   ]
  },
  {
   "cell_type": "code",
   "execution_count": 34,
   "metadata": {
    "ExecuteTime": {
     "end_time": "2020-11-18T21:26:42.212825000Z",
     "start_time": "2020-11-18T21:26:41.008Z"
    }
   },
   "outputs": [],
   "source": [
    "a:42\n",
    "/ x += 2 // C expression  that assigns in place\n",
    "/ x = x+2 // C expression"
   ]
  },
  {
   "cell_type": "markdown",
   "metadata": {},
   "source": [
    "### Simple q Amend"
   ]
  },
  {
   "cell_type": "code",
   "execution_count": 35,
   "metadata": {
    "ExecuteTime": {
     "end_time": "2020-11-18T21:26:42.214182000Z",
     "start_time": "2020-11-18T21:26:41.012Z"
    }
   },
   "outputs": [
    {
     "data": {
      "text/plain": [
       "43\n"
      ]
     },
     "execution_count": 35,
     "metadata": {},
     "output_type": "execute_result"
    }
   ],
   "source": [
    "x:42\n",
    "x+:1\n",
    "x"
   ]
  },
  {
   "cell_type": "code",
   "execution_count": 36,
   "metadata": {
    "ExecuteTime": {
     "end_time": "2020-11-18T21:26:42.215888000Z",
     "start_time": "2020-11-18T21:26:41.018Z"
    }
   },
   "outputs": [
    {
     "data": {
      "text/plain": [
       "42\n"
      ]
     },
     "execution_count": 36,
     "metadata": {},
     "output_type": "execute_result"
    },
    {
     "data": {
      "text/plain": [
       "21\n"
      ]
     },
     "execution_count": 36,
     "metadata": {},
     "output_type": "execute_result"
    }
   ],
   "source": [
    "x:43\n",
    "x-:1\n",
    "a\n",
    "a&:21\n",
    "a"
   ]
  },
  {
   "cell_type": "markdown",
   "metadata": {},
   "source": [
    "### Amend with Lists"
   ]
  },
  {
   "cell_type": "code",
   "execution_count": 37,
   "metadata": {
    "ExecuteTime": {
     "end_time": "2020-11-18T21:26:42.217210000Z",
     "start_time": "2020-11-18T21:26:41.026Z"
    }
   },
   "outputs": [
    {
     "data": {
      "text/plain": [
       "100 299 300 400\n"
      ]
     },
     "execution_count": 37,
     "metadata": {},
     "output_type": "execute_result"
    }
   ],
   "source": [
    "L:100 200 300 400\n",
    "L[1]+:99\n",
    "L"
   ]
  },
  {
   "cell_type": "code",
   "execution_count": 38,
   "metadata": {
    "ExecuteTime": {
     "end_time": "2020-11-18T21:26:42.218967000Z",
     "start_time": "2020-11-18T21:26:41.030Z"
    }
   },
   "outputs": [
    {
     "data": {
      "text/plain": [
       "100 298 300 399\n"
      ]
     },
     "execution_count": 38,
     "metadata": {},
     "output_type": "execute_result"
    }
   ],
   "source": [
    "L[1 3]-:1\n",
    "L"
   ]
  },
  {
   "cell_type": "code",
   "execution_count": 39,
   "metadata": {
    "ExecuteTime": {
     "end_time": "2020-11-18T21:26:42.220433000Z",
     "start_time": "2020-11-18T21:26:41.033Z"
    }
   },
   "outputs": [
    {
     "data": {
      "text/plain": [
       "1  2  103\n",
       "10 20 130\n"
      ]
     },
     "execution_count": 39,
     "metadata": {},
     "output_type": "execute_result"
    }
   ],
   "source": [
    "L1:(1 2 3; 10 20 30)\n",
    "L1[;2]+:100\n",
    "L1"
   ]
  },
  {
   "cell_type": "markdown",
   "metadata": {},
   "source": [
    "A very useful idiom is `,:` which appends to a list in place."
   ]
  },
  {
   "cell_type": "code",
   "execution_count": 40,
   "metadata": {
    "ExecuteTime": {
     "end_time": "2020-11-18T21:26:42.222172000Z",
     "start_time": "2020-11-18T21:26:41.037Z"
    }
   },
   "outputs": [
    {
     "data": {
      "text/plain": [
       "1 2 3 4\n"
      ]
     },
     "execution_count": 40,
     "metadata": {},
     "output_type": "execute_result"
    },
    {
     "data": {
      "text/plain": [
       "1 2 3 4 100 200\n"
      ]
     },
     "execution_count": 40,
     "metadata": {},
     "output_type": "execute_result"
    }
   ],
   "source": [
    "L:1 2 3\n",
    "L,: 4\n",
    "L\n",
    "L,:100 200\n",
    "L"
   ]
  },
  {
   "cell_type": "markdown",
   "metadata": {},
   "source": [
    "Amend does type promotion based on the operator it is combined with, except for `,:` which requires exact **type match**."
   ]
  },
  {
   "cell_type": "code",
   "execution_count": 40,
   "metadata": {
    "ExecuteTime": {
     "end_time": "2020-11-18T21:26:42.223474000Z",
     "start_time": "2020-11-18T21:26:41.041Z"
    }
   },
   "outputs": [
    {
     "ename": "\u001b[0;31mtype\u001b[0m",
     "evalue": "\u001b[0;31mtype\u001b[0m",
     "output_type": "error",
     "traceback": [
      "\u001b[0;31mevaluation error:\n\u001b[0m",
      "\u001b[0;31mtype\u001b[0m",
      "\u001b[0;31m\u001b[0m",
      "\u001b[0;31m  [0]  L,:100\n        ^\n\u001b[0m"
     ]
    }
   ],
   "source": [
    "L:1.1 2 2 3.3\n",
    "L[1]+:100\n",
    "L,:100"
   ]
  },
  {
   "cell_type": "markdown",
   "metadata": {},
   "source": [
    "## Exponential Primitives: `sqrt, exp, log, xexp, xlog`"
   ]
  },
  {
   "cell_type": "markdown",
   "metadata": {},
   "source": [
    "### `sqrt`"
   ]
  },
  {
   "cell_type": "code",
   "execution_count": 41,
   "metadata": {
    "ExecuteTime": {
     "end_time": "2020-11-18T21:26:42.226755000Z",
     "start_time": "2020-11-18T21:26:41.047Z"
    }
   },
   "outputs": [
    {
     "data": {
      "text/plain": [
       "1.414214\n"
      ]
     },
     "execution_count": 41,
     "metadata": {},
     "output_type": "execute_result"
    },
    {
     "data": {
      "text/plain": [
       "6.511528\n"
      ]
     },
     "execution_count": 41,
     "metadata": {},
     "output_type": "execute_result"
    },
    {
     "data": {
      "text/plain": [
       "1f\n"
      ]
     },
     "execution_count": 41,
     "metadata": {},
     "output_type": "execute_result"
    },
    {
     "data": {
      "text/plain": [
       "0n\n"
      ]
     },
     "execution_count": 41,
     "metadata": {},
     "output_type": "execute_result"
    }
   ],
   "source": [
    "sqrt 2\n",
    "sqrt 42.4\n",
    "sqrt 1b\n",
    "sqrt -2 / null"
   ]
  },
  {
   "cell_type": "markdown",
   "metadata": {},
   "source": [
    "### `exp`"
   ]
  },
  {
   "cell_type": "code",
   "execution_count": 42,
   "metadata": {
    "ExecuteTime": {
     "end_time": "2020-11-18T21:26:42.229125000Z",
     "start_time": "2020-11-18T21:26:41.051Z"
    }
   },
   "outputs": [
    {
     "data": {
      "text/plain": [
       "2.718282\n"
      ]
     },
     "execution_count": 42,
     "metadata": {},
     "output_type": "execute_result"
    },
    {
     "data": {
      "text/plain": [
       "66.68633\n"
      ]
     },
     "execution_count": 42,
     "metadata": {},
     "output_type": "execute_result"
    },
    {
     "data": {
      "text/plain": [
       "6.144212e-06\n"
      ]
     },
     "execution_count": 42,
     "metadata": {},
     "output_type": "execute_result"
    }
   ],
   "source": [
    "exp 1\n",
    "exp 4.2\n",
    "exp -12i"
   ]
  },
  {
   "cell_type": "markdown",
   "metadata": {},
   "source": [
    "### `log`"
   ]
  },
  {
   "cell_type": "code",
   "execution_count": 43,
   "metadata": {
    "ExecuteTime": {
     "end_time": "2020-11-18T21:26:42.231946000Z",
     "start_time": "2020-11-18T21:26:41.055Z"
    }
   },
   "outputs": [
    {
     "data": {
      "text/plain": [
       "0f\n"
      ]
     },
     "execution_count": 43,
     "metadata": {},
     "output_type": "execute_result"
    },
    {
     "data": {
      "text/plain": [
       "3.73767\n"
      ]
     },
     "execution_count": 43,
     "metadata": {},
     "output_type": "execute_result"
    },
    {
     "data": {
      "text/plain": [
       "-9.21034\n"
      ]
     },
     "execution_count": 43,
     "metadata": {},
     "output_type": "execute_result"
    },
    {
     "data": {
      "text/plain": [
       "0n\n"
      ]
     },
     "execution_count": 43,
     "metadata": {},
     "output_type": "execute_result"
    }
   ],
   "source": [
    "log 1\n",
    "log 42.0\n",
    "log .0001\n",
    "log -1"
   ]
  },
  {
   "cell_type": "markdown",
   "metadata": {},
   "source": [
    "### `xexp`"
   ]
  },
  {
   "cell_type": "code",
   "execution_count": 44,
   "metadata": {
    "ExecuteTime": {
     "end_time": "2020-11-18T21:26:42.234122000Z",
     "start_time": "2020-11-18T21:26:41.059Z"
    }
   },
   "outputs": [
    {
     "data": {
      "text/plain": [
       "32f\n"
      ]
     },
     "execution_count": 44,
     "metadata": {},
     "output_type": "execute_result"
    },
    {
     "data": {
      "text/plain": [
       "0n\n"
      ]
     },
     "execution_count": 44,
     "metadata": {},
     "output_type": "execute_result"
    }
   ],
   "source": [
    "2 xexp 5\n",
    "-2 xexp .5"
   ]
  },
  {
   "cell_type": "markdown",
   "metadata": {},
   "source": [
    "**A q naming convention**\n",
    "\n",
    "A unary function – e.g., `exp` – sometimes has a binary version – `xexp` – with an `x` prepended to its name.\n",
    "\n",
    "In classic Arthurian fashion, the rationalization is that the additional parameter is ‘x’."
   ]
  },
  {
   "cell_type": "markdown",
   "metadata": {},
   "source": [
    "### `xlog`"
   ]
  },
  {
   "cell_type": "code",
   "execution_count": 45,
   "metadata": {
    "ExecuteTime": {
     "end_time": "2020-11-18T21:26:42.236143000Z",
     "start_time": "2020-11-18T21:26:41.064Z"
    }
   },
   "outputs": [
    {
     "data": {
      "text/plain": [
       "5f\n"
      ]
     },
     "execution_count": 45,
     "metadata": {},
     "output_type": "execute_result"
    },
    {
     "data": {
      "text/plain": [
       "0n\n"
      ]
     },
     "execution_count": 45,
     "metadata": {},
     "output_type": "execute_result"
    }
   ],
   "source": [
    "2 xlog 32\n",
    "2 xlog -1"
   ]
  },
  {
   "cell_type": "markdown",
   "metadata": {},
   "source": [
    "## More Numeric Primitives"
   ]
  },
  {
   "cell_type": "markdown",
   "metadata": {},
   "source": [
    "### Integer Division `div` ad Modulus `mod`"
   ]
  },
  {
   "cell_type": "code",
   "execution_count": 46,
   "metadata": {
    "ExecuteTime": {
     "end_time": "2020-11-18T21:26:42.241276000Z",
     "start_time": "2020-11-18T21:26:41.068Z"
    }
   },
   "outputs": [
    {
     "data": {
      "text/plain": [
       "3\n"
      ]
     },
     "execution_count": 46,
     "metadata": {},
     "output_type": "execute_result"
    },
    {
     "data": {
      "text/plain": [
       "2\n"
      ]
     },
     "execution_count": 46,
     "metadata": {},
     "output_type": "execute_result"
    },
    {
     "data": {
      "text/plain": [
       "-4\n"
      ]
     },
     "execution_count": 46,
     "metadata": {},
     "output_type": "execute_result"
    },
    {
     "data": {
      "text/plain": [
       "-3\n"
      ]
     },
     "execution_count": 46,
     "metadata": {},
     "output_type": "execute_result"
    },
    {
     "data": {
      "text/plain": [
       "-4\n"
      ]
     },
     "execution_count": 46,
     "metadata": {},
     "output_type": "execute_result"
    },
    {
     "data": {
      "text/plain": [
       "1 2 2\n"
      ]
     },
     "execution_count": 46,
     "metadata": {},
     "output_type": "execute_result"
    },
    {
     "data": {
      "text/plain": [
       "3 2 1\n"
      ]
     },
     "execution_count": 46,
     "metadata": {},
     "output_type": "execute_result"
    },
    {
     "data": {
      "text/plain": [
       "1 1 1\n"
      ]
     },
     "execution_count": 46,
     "metadata": {},
     "output_type": "execute_result"
    }
   ],
   "source": [
    "7 div 2 /3\n",
    "7 div 2.5 /2\n",
    "-7 div 2 /-4\n",
    "-7 div 2.5 /-3 \n",
    "7 div -2 /-4\n",
    "3 4 5 div 2 /1 2 2\n",
    "7 div 2 3 4 / 3 2 1 \n",
    "3 4 5 div 2 3 4 / 1 1 1"
   ]
  },
  {
   "cell_type": "markdown",
   "metadata": {},
   "source": [
    "The binary `mod` is atomic in both operands, which are numeric values. The result is the remainder of the integer quotient of the left operand (dividend) by the positive right operand (divisor). It is equal to \n",
    "\n",
    "_dividend - (dividend div divisor)_\n",
    "\n",
    "The result is null for non-positive divisor"
   ]
  },
  {
   "cell_type": "code",
   "execution_count": 47,
   "metadata": {
    "ExecuteTime": {
     "end_time": "2020-11-18T21:26:42.245817000Z",
     "start_time": "2020-11-18T21:26:41.072Z"
    }
   },
   "outputs": [
    {
     "data": {
      "text/plain": [
       "1\n"
      ]
     },
     "execution_count": 47,
     "metadata": {},
     "output_type": "execute_result"
    },
    {
     "data": {
      "text/plain": [
       "2f\n"
      ]
     },
     "execution_count": 47,
     "metadata": {},
     "output_type": "execute_result"
    },
    {
     "data": {
      "text/plain": [
       "1\n"
      ]
     },
     "execution_count": 47,
     "metadata": {},
     "output_type": "execute_result"
    },
    {
     "data": {
      "text/plain": [
       "1f\n"
      ]
     },
     "execution_count": 47,
     "metadata": {},
     "output_type": "execute_result"
    },
    {
     "data": {
      "text/plain": [
       "-1\n"
      ]
     },
     "execution_count": 47,
     "metadata": {},
     "output_type": "execute_result"
    },
    {
     "data": {
      "text/plain": [
       "1 0 1\n"
      ]
     },
     "execution_count": 47,
     "metadata": {},
     "output_type": "execute_result"
    },
    {
     "data": {
      "text/plain": [
       "1 1 3\n"
      ]
     },
     "execution_count": 47,
     "metadata": {},
     "output_type": "execute_result"
    },
    {
     "data": {
      "text/plain": [
       "1 1 1\n"
      ]
     },
     "execution_count": 47,
     "metadata": {},
     "output_type": "execute_result"
    }
   ],
   "source": [
    "7 mod 2 / 1\n",
    "7 mod 2.5 / 2-> 2f\n",
    "-7 mod 2 / 1\n",
    "-4 mod 2.5 / 1 -> 1f\n",
    "7 mod -2 / 1 -> -1\n",
    "3 4 5 mod 2 /1 0 1\n",
    "7 mod 2 3 4 /1 1 3\n",
    "3 4 5 mod 2 3 4 /1 1 1"
   ]
  },
  {
   "cell_type": "markdown",
   "metadata": {},
   "source": [
    "### Sign `signum`"
   ]
  },
  {
   "cell_type": "code",
   "execution_count": 48,
   "metadata": {
    "ExecuteTime": {
     "end_time": "2020-11-18T21:26:42.249090000Z",
     "start_time": "2020-11-18T21:26:41.076Z"
    }
   },
   "outputs": [
    {
     "data": {
      "text/plain": [
       "1i\n"
      ]
     },
     "execution_count": 48,
     "metadata": {},
     "output_type": "execute_result"
    },
    {
     "data": {
      "text/plain": [
       "-1i\n"
      ]
     },
     "execution_count": 48,
     "metadata": {},
     "output_type": "execute_result"
    },
    {
     "data": {
      "text/plain": [
       "1i\n"
      ]
     },
     "execution_count": 48,
     "metadata": {},
     "output_type": "execute_result"
    },
    {
     "data": {
      "text/plain": [
       "0i\n"
      ]
     },
     "execution_count": 48,
     "metadata": {},
     "output_type": "execute_result"
    }
   ],
   "source": [
    "signum 42\n",
    "signum -42.0\n",
    "signum 1b\n",
    "signum 0"
   ]
  },
  {
   "cell_type": "markdown",
   "metadata": {},
   "source": [
    "Temporal types are treated as their underlying offsets."
   ]
  },
  {
   "cell_type": "code",
   "execution_count": 49,
   "metadata": {
    "ExecuteTime": {
     "end_time": "2020-11-18T21:26:42.250816000Z",
     "start_time": "2020-11-18T21:26:41.080Z"
    }
   },
   "outputs": [
    {
     "data": {
      "text/plain": [
       "-1i\n"
      ]
     },
     "execution_count": 49,
     "metadata": {},
     "output_type": "execute_result"
    },
    {
     "data": {
      "text/plain": [
       "1i\n"
      ]
     },
     "execution_count": 49,
     "metadata": {},
     "output_type": "execute_result"
    }
   ],
   "source": [
    "signum 1999.12.31\n",
    "signum 12:00:00.000000000"
   ]
  },
  {
   "cell_type": "markdown",
   "metadata": {},
   "source": [
    "### `reciprocal`"
   ]
  },
  {
   "cell_type": "code",
   "execution_count": 50,
   "metadata": {
    "ExecuteTime": {
     "end_time": "2020-11-18T21:26:42.252545000Z",
     "start_time": "2020-11-18T21:26:41.083Z"
    }
   },
   "outputs": [
    {
     "data": {
      "text/plain": [
       "42.00001\n"
      ]
     },
     "execution_count": 50,
     "metadata": {},
     "output_type": "execute_result"
    },
    {
     "data": {
      "text/plain": [
       "42.00001\n"
      ]
     },
     "execution_count": 50,
     "metadata": {},
     "output_type": "execute_result"
    }
   ],
   "source": [
    "reciprocal 0.02380952\n",
    "1%0.02380952"
   ]
  },
  {
   "cell_type": "code",
   "execution_count": 51,
   "metadata": {
    "ExecuteTime": {
     "end_time": "2020-11-18T21:26:42.254791000Z",
     "start_time": "2020-11-18T21:26:41.086Z"
    }
   },
   "outputs": [
    {
     "data": {
      "text/plain": [
       "0w\n"
      ]
     },
     "execution_count": 51,
     "metadata": {},
     "output_type": "execute_result"
    },
    {
     "data": {
      "text/plain": [
       "-0w\n"
      ]
     },
     "execution_count": 51,
     "metadata": {},
     "output_type": "execute_result"
    }
   ],
   "source": [
    "reciprocal 0.0\n",
    "reciprocal -0.0"
   ]
  },
  {
   "cell_type": "markdown",
   "metadata": {},
   "source": [
    "### `floor` and `ceiling`"
   ]
  },
  {
   "cell_type": "code",
   "execution_count": 52,
   "metadata": {
    "ExecuteTime": {
     "end_time": "2020-11-18T21:26:42.257007000Z",
     "start_time": "2020-11-18T21:26:41.090Z"
    }
   },
   "outputs": [
    {
     "data": {
      "text/plain": [
       "4\n"
      ]
     },
     "execution_count": 52,
     "metadata": {},
     "output_type": "execute_result"
    },
    {
     "data": {
      "text/plain": [
       "4\n"
      ]
     },
     "execution_count": 52,
     "metadata": {},
     "output_type": "execute_result"
    },
    {
     "data": {
      "text/plain": [
       "-5\n"
      ]
     },
     "execution_count": 52,
     "metadata": {},
     "output_type": "execute_result"
    }
   ],
   "source": [
    "floor 4.2\n",
    "floor 4\n",
    "floor -4.2"
   ]
  },
  {
   "cell_type": "markdown",
   "metadata": {},
   "source": [
    "**The floor operator can be used to truncate or round floating-point values to a specific number of digits to the right of the decimal.**"
   ]
  },
  {
   "cell_type": "code",
   "execution_count": 53,
   "metadata": {
    "ExecuteTime": {
     "end_time": "2020-11-18T21:26:42.258404000Z",
     "start_time": "2020-11-18T21:26:41.094Z"
    }
   },
   "outputs": [
    {
     "data": {
      "text/plain": [
       "4.24\n"
      ]
     },
     "execution_count": 53,
     "metadata": {},
     "output_type": "execute_result"
    }
   ],
   "source": [
    "x:4.242\n",
    "0.01*floor 100*x"
   ]
  },
  {
   "cell_type": "code",
   "execution_count": 54,
   "metadata": {
    "ExecuteTime": {
     "end_time": "2020-11-18T21:26:42.261128000Z",
     "start_time": "2020-11-18T21:26:41.097Z"
    }
   },
   "outputs": [
    {
     "data": {
      "text/plain": [
       "5\n"
      ]
     },
     "execution_count": 54,
     "metadata": {},
     "output_type": "execute_result"
    },
    {
     "data": {
      "text/plain": [
       "4\n"
      ]
     },
     "execution_count": 54,
     "metadata": {},
     "output_type": "execute_result"
    },
    {
     "data": {
      "text/plain": [
       "-4\n"
      ]
     },
     "execution_count": 54,
     "metadata": {},
     "output_type": "execute_result"
    }
   ],
   "source": [
    "ceiling 4.2\n",
    "ceiling 4\n",
    "ceiling -4.2"
   ]
  },
  {
   "cell_type": "markdown",
   "metadata": {},
   "source": [
    "### Absolute value `abs`"
   ]
  },
  {
   "cell_type": "markdown",
   "metadata": {},
   "source": [
    "The result of abs has the same type as the argument except for **binary types, which are type promoted to int.**"
   ]
  },
  {
   "cell_type": "code",
   "execution_count": 55,
   "metadata": {
    "ExecuteTime": {
     "end_time": "2020-11-18T21:26:42.263718000Z",
     "start_time": "2020-11-18T21:26:41.101Z"
    }
   },
   "outputs": [
    {
     "data": {
      "text/plain": [
       "42\n"
      ]
     },
     "execution_count": 55,
     "metadata": {},
     "output_type": "execute_result"
    },
    {
     "data": {
      "text/plain": [
       "42\n"
      ]
     },
     "execution_count": 55,
     "metadata": {},
     "output_type": "execute_result"
    },
    {
     "data": {
      "text/plain": [
       "1i\n"
      ]
     },
     "execution_count": 55,
     "metadata": {},
     "output_type": "execute_result"
    }
   ],
   "source": [
    "abs 42\n",
    "abs -42\n",
    "abs 1b"
   ]
  },
  {
   "cell_type": "markdown",
   "metadata": {},
   "source": [
    "## Operations on Temporal Values"
   ]
  },
  {
   "cell_type": "code",
   "execution_count": 56,
   "metadata": {
    "ExecuteTime": {
     "end_time": "2020-11-18T21:26:42.266368000Z",
     "start_time": "2020-11-18T21:26:41.105Z"
    }
   },
   "outputs": [
    {
     "data": {
      "text/plain": [
       "-1i\n"
      ]
     },
     "execution_count": 56,
     "metadata": {},
     "output_type": "execute_result"
    },
    {
     "data": {
      "text/plain": [
       "156i\n"
      ]
     },
     "execution_count": 56,
     "metadata": {},
     "output_type": "execute_result"
    },
    {
     "data": {
      "text/plain": [
       "43200123i\n"
      ]
     },
     "execution_count": 56,
     "metadata": {},
     "output_type": "execute_result"
    },
    {
     "data": {
      "text/plain": [
       "43200123456789\n"
      ]
     },
     "execution_count": 56,
     "metadata": {},
     "output_type": "execute_result"
    }
   ],
   "source": [
    "`int$1999.12.31\n",
    "`int$2013.01m\n",
    "`int$12:00:00.123\n",
    "`long$12:00:00.123456789"
   ]
  },
  {
   "cell_type": "markdown",
   "metadata": {},
   "source": [
    "**There is no concept of time zone in q temporal values. Those of us who wrestled with Java’s original time implementation are thankful.**"
   ]
  },
  {
   "cell_type": "markdown",
   "metadata": {},
   "source": [
    "### Temporal Comparison\n",
    "\n",
    "\n",
    "Comparison **within** a temporal type amounts to simple comparison of the underlying integral offsets. Comparison **across** temporal types recognizes that the underlying values express different units and realizes them in common units."
   ]
  },
  {
   "cell_type": "code",
   "execution_count": 57,
   "metadata": {
    "ExecuteTime": {
     "end_time": "2020-11-18T21:26:42.268663000Z",
     "start_time": "2020-11-18T21:26:41.109Z"
    }
   },
   "outputs": [
    {
     "data": {
      "text/plain": [
       "1b\n"
      ]
     },
     "execution_count": 57,
     "metadata": {},
     "output_type": "execute_result"
    },
    {
     "data": {
      "text/plain": [
       "1i\n"
      ]
     },
     "execution_count": 57,
     "metadata": {},
     "output_type": "execute_result"
    },
    {
     "data": {
      "text/plain": [
       "86400000000000\n"
      ]
     },
     "execution_count": 57,
     "metadata": {},
     "output_type": "execute_result"
    }
   ],
   "source": [
    "2000.01.02=2000.01.02D00:00:00.000000000\n",
    "`int$2000.01.02\n",
    "`long$2000.01.02D00:00:00.000000000"
   ]
  },
  {
   "cell_type": "markdown",
   "metadata": {},
   "source": [
    "Values of different types should be compared in the same units, which effectively amounts to converting to the most granular units. The Cast operator has the logic for such conversions built-in."
   ]
  },
  {
   "cell_type": "code",
   "execution_count": 58,
   "metadata": {
    "ExecuteTime": {
     "end_time": "2020-11-18T21:26:42.269953000Z",
     "start_time": "2020-11-18T21:26:41.113Z"
    }
   },
   "outputs": [
    {
     "data": {
      "text/plain": [
       "2001.01.02D00:00:00.000000000\n"
      ]
     },
     "execution_count": 58,
     "metadata": {},
     "output_type": "execute_result"
    }
   ],
   "source": [
    "`timestamp$2001.01.02"
   ]
  },
  {
   "cell_type": "markdown",
   "metadata": {},
   "source": [
    "To compare temporal values of different types, q converts to the most granular type and then does a straight comparison of the underlying values."
   ]
  },
  {
   "cell_type": "code",
   "execution_count": 59,
   "metadata": {
    "ExecuteTime": {
     "end_time": "2020-11-18T21:26:42.271222000Z",
     "start_time": "2020-11-18T21:26:41.117Z"
    }
   },
   "outputs": [
    {
     "data": {
      "text/plain": [
       "1b\n"
      ]
     },
     "execution_count": 59,
     "metadata": {},
     "output_type": "execute_result"
    }
   ],
   "source": [
    "2000.01.01<2000.01.01D12:00:00.000000000"
   ]
  },
  {
   "cell_type": "markdown",
   "metadata": {},
   "source": [
    "### Temporal Arithmetic"
   ]
  },
  {
   "cell_type": "code",
   "execution_count": 60,
   "metadata": {
    "ExecuteTime": {
     "end_time": "2020-11-18T21:26:42.273431000Z",
     "start_time": "2020-11-18T21:26:41.121Z"
    }
   },
   "outputs": [
    {
     "data": {
      "text/plain": [
       "1b\n"
      ]
     },
     "execution_count": 60,
     "metadata": {},
     "output_type": "execute_result"
    },
    {
     "data": {
      "text/plain": [
       "1b\n"
      ]
     },
     "execution_count": 60,
     "metadata": {},
     "output_type": "execute_result"
    },
    {
     "data": {
      "text/plain": [
       "1b\n"
      ]
     },
     "execution_count": 60,
     "metadata": {},
     "output_type": "execute_result"
    }
   ],
   "source": [
    "2000.01.01=0\n",
    "12:00:00=12*60*60\n",
    "1999.12.31<0"
   ]
  },
  {
   "cell_type": "code",
   "execution_count": 61,
   "metadata": {
    "ExecuteTime": {
     "end_time": "2020-11-18T21:26:42.275908000Z",
     "start_time": "2020-11-18T21:26:41.124Z"
    }
   },
   "outputs": [
    {
     "data": {
      "text/plain": [
       "2015.01.01\n"
      ]
     },
     "execution_count": 61,
     "metadata": {},
     "output_type": "execute_result"
    },
    {
     "data": {
      "text/plain": [
       "2015.01.01 2015.01.02 2015.01.03 2015.01.04 2015.01.05 2015.01.06 2015.01.07 ..\n"
      ]
     },
     "execution_count": 61,
     "metadata": {},
     "output_type": "execute_result"
    },
    {
     "data": {
      "text/plain": [
       "12:00:01\n"
      ]
     },
     "execution_count": 61,
     "metadata": {},
     "output_type": "execute_result"
    }
   ],
   "source": [
    "2014.12.31+1\n",
    "2015.01.01+til 31 / all days in January\n",
    "12:00:00+1"
   ]
  },
  {
   "cell_type": "code",
   "execution_count": 62,
   "metadata": {
    "ExecuteTime": {
     "end_time": "2020-11-18T21:26:42.277453000Z",
     "start_time": "2020-11-18T21:26:41.127Z"
    }
   },
   "outputs": [
    {
     "data": {
      "text/plain": [
       "13:00:00\n"
      ]
     },
     "execution_count": 62,
     "metadata": {},
     "output_type": "execute_result"
    }
   ],
   "source": [
    "12:00:00+01:00:00"
   ]
  },
  {
   "cell_type": "markdown",
   "metadata": {},
   "source": [
    "One important case is adding a `timespan` to a date to yield a `timestamp`. There is actually some calculation under the covers to make this work."
   ]
  },
  {
   "cell_type": "code",
   "execution_count": 63,
   "metadata": {
    "ExecuteTime": {
     "end_time": "2020-11-18T21:26:42.278888000Z",
     "start_time": "2020-11-18T21:26:41.133Z"
    }
   },
   "outputs": [
    {
     "data": {
      "text/plain": [
       "2015.01.01D12:00:00.000000000\n"
      ]
     },
     "execution_count": 63,
     "metadata": {},
     "output_type": "execute_result"
    }
   ],
   "source": [
    "2015.01.01+12:00:00.000000000"
   ]
  },
  {
   "cell_type": "code",
   "execution_count": 64,
   "metadata": {
    "ExecuteTime": {
     "end_time": "2020-11-18T21:26:42.280886000Z",
     "start_time": "2020-11-18T21:26:41.136Z"
    }
   },
   "outputs": [
    {
     "data": {
      "text/plain": [
       "366i\n"
      ]
     },
     "execution_count": 64,
     "metadata": {},
     "output_type": "execute_result"
    },
    {
     "data": {
      "text/plain": [
       "5i\n"
      ]
     },
     "execution_count": 64,
     "metadata": {},
     "output_type": "execute_result"
    }
   ],
   "source": [
    "2001.01.01-2000.01.01\n",
    "2015.06m-2015.01m"
   ]
  },
  {
   "cell_type": "code",
   "execution_count": 65,
   "metadata": {
    "ExecuteTime": {
     "end_time": "2020-11-18T21:26:42.283202000Z",
     "start_time": "2020-11-18T21:26:41.139Z"
    }
   },
   "outputs": [
    {
     "data": {
      "text/plain": [
       "365D00:00:00.000000000\n"
      ]
     },
     "execution_count": 65,
     "metadata": {},
     "output_type": "execute_result"
    },
    {
     "data": {
      "text/plain": [
       "01:00:00\n"
      ]
     },
     "execution_count": 65,
     "metadata": {},
     "output_type": "execute_result"
    },
    {
     "data": {
      "text/plain": [
       "01:00\n"
      ]
     },
     "execution_count": 65,
     "metadata": {},
     "output_type": "execute_result"
    }
   ],
   "source": [
    "2015.01.01D00:00:00.000000000-2014.01.01D00:00:00.000000000\n",
    "12:00:00-11:00:00\n",
    "12:00-11:00"
   ]
  },
  {
   "cell_type": "markdown",
   "metadata": {},
   "source": [
    "## Operations on Infinities and Nulls"
   ]
  },
  {
   "cell_type": "markdown",
   "metadata": {},
   "source": [
    "The bit patterns of the integral nulls and infinities are legitimate base-2 integral representations with the high-order bit being the sign."
   ]
  },
  {
   "cell_type": "markdown",
   "metadata": {},
   "source": [
    "![](../data/pic/operations.png)"
   ]
  },
  {
   "cell_type": "markdown",
   "metadata": {},
   "source": [
    "An infinity value equals or matches only itself. All nulls are equal (they represent missing data), but different type nulls do not match (type matters)."
   ]
  },
  {
   "cell_type": "markdown",
   "metadata": {},
   "source": [
    "The `not` operator returns `0b` for all infinities and nulls since they all fail the test of equality with 0."
   ]
  },
  {
   "cell_type": "code",
   "execution_count": 66,
   "metadata": {
    "ExecuteTime": {
     "end_time": "2020-11-18T21:26:42.285649000Z",
     "start_time": "2020-11-18T21:26:41.145Z"
    }
   },
   "outputs": [
    {
     "data": {
      "text/plain": [
       "0b\n"
      ]
     },
     "execution_count": 66,
     "metadata": {},
     "output_type": "execute_result"
    },
    {
     "data": {
      "text/plain": [
       "0b\n"
      ]
     },
     "execution_count": 66,
     "metadata": {},
     "output_type": "execute_result"
    },
    {
     "data": {
      "text/plain": [
       "0b\n"
      ]
     },
     "execution_count": 66,
     "metadata": {},
     "output_type": "execute_result"
    }
   ],
   "source": [
    "not 0W\n",
    "not -0w\n",
    "not 0N"
   ]
  },
  {
   "cell_type": "markdown",
   "metadata": {},
   "source": [
    "The `neg` operator reverses the sign of infinities but does nothing to nulls since sign is meaningless for missing data."
   ]
  },
  {
   "cell_type": "code",
   "execution_count": 67,
   "metadata": {
    "ExecuteTime": {
     "end_time": "2020-11-18T21:26:42.288082000Z",
     "start_time": "2020-11-18T21:26:41.149Z"
    }
   },
   "outputs": [
    {
     "data": {
      "text/plain": [
       "-0W\n"
      ]
     },
     "execution_count": 67,
     "metadata": {},
     "output_type": "execute_result"
    },
    {
     "data": {
      "text/plain": [
       "0w\n"
      ]
     },
     "execution_count": 67,
     "metadata": {},
     "output_type": "execute_result"
    },
    {
     "data": {
      "text/plain": [
       "0N\n"
      ]
     },
     "execution_count": 67,
     "metadata": {},
     "output_type": "execute_result"
    }
   ],
   "source": [
    "neg 0W\n",
    "neg -0w\n",
    "neg 0N"
   ]
  },
  {
   "cell_type": "markdown",
   "metadata": {},
   "source": [
    "- null < negative infinity < normal value < positive infinity\n",
    "\n",
    "- Nulls of different type, while equal, are not otherwise comparable – i.e., any relational comparison results in 0b.\n",
    "\n",
    "- Infinities of different type are ordered by their width.\n",
    "    - short < int < long < real < float\n",
    "    - -float < -real < -long < -int < -short"
   ]
  },
  {
   "cell_type": "code",
   "execution_count": 68,
   "metadata": {
    "ExecuteTime": {
     "end_time": "2020-11-18T21:26:42.292939000Z",
     "start_time": "2020-11-18T21:26:41.153Z"
    }
   },
   "outputs": [
    {
     "data": {
      "text/plain": [
       "1b\n"
      ]
     },
     "execution_count": 68,
     "metadata": {},
     "output_type": "execute_result"
    },
    {
     "data": {
      "text/plain": [
       "1b\n"
      ]
     },
     "execution_count": 68,
     "metadata": {},
     "output_type": "execute_result"
    },
    {
     "data": {
      "text/plain": [
       "1b\n"
      ]
     },
     "execution_count": 68,
     "metadata": {},
     "output_type": "execute_result"
    },
    {
     "data": {
      "text/plain": [
       "1b\n"
      ]
     },
     "execution_count": 68,
     "metadata": {},
     "output_type": "execute_result"
    },
    {
     "data": {
      "text/plain": [
       "1b\n"
      ]
     },
     "execution_count": 68,
     "metadata": {},
     "output_type": "execute_result"
    },
    {
     "data": {
      "text/plain": [
       "1b\n"
      ]
     },
     "execution_count": 68,
     "metadata": {},
     "output_type": "execute_result"
    },
    {
     "data": {
      "text/plain": [
       "0b\n"
      ]
     },
     "execution_count": 68,
     "metadata": {},
     "output_type": "execute_result"
    },
    {
     "data": {
      "text/plain": [
       "1b\n"
      ]
     },
     "execution_count": 68,
     "metadata": {},
     "output_type": "execute_result"
    },
    {
     "data": {
      "text/plain": [
       "1b\n"
      ]
     },
     "execution_count": 68,
     "metadata": {},
     "output_type": "execute_result"
    }
   ],
   "source": [
    "42<0W /1b\n",
    "-0w<42.0 /1b\n",
    "-0w<1901.01.01 /1b\n",
    "-0w<0w /1b\n",
    "0W<0w /0b -> 1b, 0w is float inf, 0W is long inf\n",
    "-0w<0W /1b\n",
    "-10000000<0N /0b\n",
    "0N<42i /1b\n",
    "0n<-0w /1b"
   ]
  },
  {
   "cell_type": "markdown",
   "metadata": {},
   "source": [
    "The null symbol is less than any other symbol"
   ]
  },
  {
   "cell_type": "code",
   "execution_count": 1,
   "metadata": {
    "ExecuteTime": {
     "end_time": "2021-02-02T18:35:28.692626000Z",
     "start_time": "2021-02-02T18:35:28.687Z"
    }
   },
   "outputs": [
    {
     "data": {
      "text/plain": [
       "0b\n"
      ]
     },
     "execution_count": 1,
     "metadata": {},
     "output_type": "execute_result"
    }
   ],
   "source": [
    "`a < `"
   ]
  },
  {
   "cell_type": "markdown",
   "metadata": {},
   "source": [
    "The behavior of `|` and `&` with infinities and nulls follows from the rules for equality, comparison and type promotion mentioned already."
   ]
  },
  {
   "cell_type": "code",
   "execution_count": 70,
   "metadata": {
    "ExecuteTime": {
     "end_time": "2020-11-18T21:29:41.834774000Z",
     "start_time": "2020-11-18T21:29:41.826Z"
    }
   },
   "outputs": [
    {
     "data": {
      "text/plain": [
       "0W\n"
      ]
     },
     "execution_count": 70,
     "metadata": {},
     "output_type": "execute_result"
    },
    {
     "data": {
      "text/plain": [
       "0N\n"
      ]
     },
     "execution_count": 70,
     "metadata": {},
     "output_type": "execute_result"
    },
    {
     "data": {
      "text/plain": [
       "0w\n"
      ]
     },
     "execution_count": 70,
     "metadata": {},
     "output_type": "execute_result"
    },
    {
     "data": {
      "text/plain": [
       "0n\n"
      ]
     },
     "execution_count": 70,
     "metadata": {},
     "output_type": "execute_result"
    },
    {
     "data": {
      "text/plain": [
       "0n\n"
      ]
     },
     "execution_count": 70,
     "metadata": {},
     "output_type": "execute_result"
    },
    {
     "data": {
      "text/plain": [
       "2147483647\n"
      ]
     },
     "execution_count": 70,
     "metadata": {},
     "output_type": "execute_result"
    }
   ],
   "source": [
    "42|0W /0W\n",
    "-42&0N /ON\n",
    "0w|0n /0w\n",
    "-0w&0n /0n\n",
    "0n|0N /0N -> 0n\n",
    "0Wi&0W "
   ]
  },
  {
   "cell_type": "markdown",
   "metadata": {},
   "source": [
    "The last result obtains because int infinity is promoted to a long and its bit pattern corresponds to the maximal positive 32-bit integer."
   ]
  },
  {
   "cell_type": "markdown",
   "metadata": {},
   "source": [
    "## Alias `::`\n",
    "\n",
    "An _alias_ is a variable that is an expression – i.e., it is **not** the result of expression evaluation but the expression itself. Otherwise put, an alias provides a way to **defer evaluation of an expression**."
   ]
  },
  {
   "cell_type": "markdown",
   "metadata": {},
   "source": [
    "Evaluation of an alias is _lazy_, meaning that it occurs only when necessary. More precisely, evaluation is _forced_ when the variable is referenced, at which point a determination is made whether the expression needs to be (re)evaluated.\n",
    "\n",
    "- If it is the first reference or if any variable in its associated expression has changed since the last evaluation, evaluation proceeds with the current values of all the variables in the expression. The result of the most recent evaluation is then stored internally and also returned. The stored result is said to be memoized.\n",
    "\n",
    "- If no variables in the expression have changed since the previous evaluation, the memoized value is returned."
   ]
  },
  {
   "cell_type": "markdown",
   "metadata": {},
   "source": [
    "### Creating an Alias with Double Colon"
   ]
  },
  {
   "cell_type": "code",
   "execution_count": 71,
   "metadata": {
    "ExecuteTime": {
     "end_time": "2020-11-18T21:34:36.535077000Z",
     "start_time": "2020-11-18T21:34:36.532Z"
    }
   },
   "outputs": [
    {
     "data": {
      "text/plain": [
       "43\n"
      ]
     },
     "execution_count": 71,
     "metadata": {},
     "output_type": "execute_result"
    },
    {
     "data": {
      "text/plain": [
       "42\n"
      ]
     },
     "execution_count": 71,
     "metadata": {},
     "output_type": "execute_result"
    }
   ],
   "source": [
    "a:42\n",
    "b::a\n",
    "c:a\n",
    "a:43\n",
    "b\n",
    "c"
   ]
  },
  {
   "cell_type": "code",
   "execution_count": 72,
   "metadata": {
    "ExecuteTime": {
     "end_time": "2020-11-18T21:34:57.708345000Z",
     "start_time": "2020-11-18T21:34:57.700Z"
    }
   },
   "outputs": [
    {
     "data": {
      "text/plain": [
       "25\n"
      ]
     },
     "execution_count": 72,
     "metadata": {},
     "output_type": "execute_result"
    },
    {
     "data": {
      "text/plain": [
       "34\n"
      ]
     },
     "execution_count": 72,
     "metadata": {},
     "output_type": "execute_result"
    }
   ],
   "source": [
    "w::(x*x)+y*y\n",
    "x:3\n",
    "y:4\n",
    "w\n",
    "y:5\n",
    "w"
   ]
  },
  {
   "cell_type": "markdown",
   "metadata": {},
   "source": [
    "The mysteriously named utility `0N!` is the identity function fortified with the side effect of displaying its input on the console.\n",
    "\n",
    "It is a non-invasive way to inspect the inner workings of an in-flight evaluation."
   ]
  },
  {
   "cell_type": "code",
   "execution_count": 75,
   "metadata": {
    "ExecuteTime": {
     "end_time": "2020-11-18T21:36:12.494074000Z",
     "start_time": "2020-11-18T21:36:12.490Z"
    }
   },
   "outputs": [
    {
     "name": "stdout",
     "output_type": "stream",
     "text": [
      "9\n"
     ]
    },
    {
     "data": {
      "text/plain": [
       "25\n"
      ]
     },
     "execution_count": 75,
     "metadata": {},
     "output_type": "execute_result"
    }
   ],
   "source": [
    "w::(0N!x*x)+y*y\n",
    "x:3\n",
    "y:4\n",
    "w"
   ]
  },
  {
   "cell_type": "code",
   "execution_count": 76,
   "metadata": {
    "ExecuteTime": {
     "end_time": "2020-11-18T21:36:14.068229000Z",
     "start_time": "2020-11-18T21:36:14.065Z"
    }
   },
   "outputs": [
    {
     "data": {
      "text/plain": [
       "25\n"
      ]
     },
     "execution_count": 76,
     "metadata": {},
     "output_type": "execute_result"
    }
   ],
   "source": [
    "w"
   ]
  },
  {
   "cell_type": "code",
   "execution_count": 77,
   "metadata": {
    "ExecuteTime": {
     "end_time": "2020-11-18T21:36:19.157074000Z",
     "start_time": "2020-11-18T21:36:19.150Z"
    }
   },
   "outputs": [],
   "source": [
    "y:6"
   ]
  },
  {
   "cell_type": "code",
   "execution_count": 78,
   "metadata": {
    "ExecuteTime": {
     "end_time": "2020-11-18T21:36:20.204801000Z",
     "start_time": "2020-11-18T21:36:20.196Z"
    }
   },
   "outputs": [
    {
     "name": "stdout",
     "output_type": "stream",
     "text": [
      "9\n"
     ]
    },
    {
     "data": {
      "text/plain": [
       "45\n"
      ]
     },
     "execution_count": 78,
     "metadata": {},
     "output_type": "execute_result"
    }
   ],
   "source": [
    "w"
   ]
  },
  {
   "cell_type": "markdown",
   "metadata": {},
   "source": [
    "Observe that the first time `w` is referenced, the expression **is** evaluated, as indicated by the display of the value of `x*x`. On the next reference, the expression is **not** re-evaluated since none of the variables it depends on have changed. After changing `y`, the last reference causes re-evaluation."
   ]
  },
  {
   "cell_type": "markdown",
   "metadata": {},
   "source": [
    "### Alias vs. Function\n",
    "\n",
    "two key differences:\n",
    "1. To evaluate an expression wrapped in a function you explicitly provide the arguments and apply the function all in one step. With an alias you set the variables at any point in the program and the expression is evaluated when, and only when, the alias variable is referenced.\n",
    "2. The function does not memoize its result, so it recalculates on every application, even if the arguments do not change."
   ]
  },
  {
   "cell_type": "code",
   "execution_count": 79,
   "metadata": {
    "ExecuteTime": {
     "end_time": "2020-11-18T21:37:40.446061000Z",
     "start_time": "2020-11-18T21:37:40.438Z"
    }
   },
   "outputs": [
    {
     "data": {
      "text/plain": [
       "25\n"
      ]
     },
     "execution_count": 79,
     "metadata": {},
     "output_type": "execute_result"
    }
   ],
   "source": [
    "fu:{(x*x)+y*y}\n",
    "fu[3;4]"
   ]
  },
  {
   "cell_type": "code",
   "execution_count": 80,
   "metadata": {
    "ExecuteTime": {
     "end_time": "2020-11-18T21:38:17.886875000Z",
     "start_time": "2020-11-18T21:38:17.882Z"
    }
   },
   "outputs": [
    {
     "name": "stdout",
     "output_type": "stream",
     "text": [
      "9\n"
     ]
    },
    {
     "data": {
      "text/plain": [
       "25\n"
      ]
     },
     "execution_count": 80,
     "metadata": {},
     "output_type": "execute_result"
    }
   ],
   "source": [
    "fu:{(0N!x*x)+y*y}\n",
    "fu[3;4]"
   ]
  },
  {
   "cell_type": "code",
   "execution_count": 81,
   "metadata": {
    "ExecuteTime": {
     "end_time": "2020-11-18T21:38:20.975688000Z",
     "start_time": "2020-11-18T21:38:20.967Z"
    }
   },
   "outputs": [
    {
     "name": "stdout",
     "output_type": "stream",
     "text": [
      "9\n"
     ]
    },
    {
     "data": {
      "text/plain": [
       "25\n"
      ]
     },
     "execution_count": 81,
     "metadata": {},
     "output_type": "execute_result"
    }
   ],
   "source": [
    "fu[3;4]"
   ]
  },
  {
   "cell_type": "markdown",
   "metadata": {},
   "source": [
    "### Dependencies\n",
    "\n",
    "An alias variable _depends_ on the entities in its associated expression. In our previous example `w` depends on `x` and `y`. A list of all dependencies is maintained in the system dictionary `.z.b`, which is also obtainable via the command `\\b`."
   ]
  },
  {
   "cell_type": "code",
   "execution_count": 1,
   "metadata": {
    "ExecuteTime": {
     "end_time": "2020-11-18T21:39:37.979125000Z",
     "start_time": "2020-11-18T21:39:37.976Z"
    }
   },
   "outputs": [
    {
     "data": {
      "text/plain": [
       "x| w\n",
       "y| w\n"
      ]
     },
     "execution_count": 1,
     "metadata": {},
     "output_type": "execute_result"
    }
   ],
   "source": [
    "w::(x*x)+y*y\n",
    ".z.b"
   ]
  },
  {
   "cell_type": "code",
   "execution_count": 2,
   "metadata": {
    "ExecuteTime": {
     "end_time": "2020-11-18T21:39:52.185888000Z",
     "start_time": "2020-11-18T21:39:52.183Z"
    }
   },
   "outputs": [
    {
     "data": {
      "text/plain": [
       ",`w\n"
      ]
     },
     "execution_count": 2,
     "metadata": {},
     "output_type": "execute_result"
    }
   ],
   "source": [
    "\\b"
   ]
  },
  {
   "cell_type": "markdown",
   "metadata": {},
   "source": [
    "It is permissible to create an alias with another alias in its expression. This results in a chain of dependencies. The entire chain is resolved lazily upon reference."
   ]
  },
  {
   "cell_type": "code",
   "execution_count": 3,
   "metadata": {
    "ExecuteTime": {
     "end_time": "2020-11-18T21:40:24.393529000Z",
     "start_time": "2020-11-18T21:40:24.383Z"
    }
   },
   "outputs": [
    {
     "data": {
      "text/plain": [
       "x| w\n",
       "y| w\n",
       "w| u\n"
      ]
     },
     "execution_count": 3,
     "metadata": {},
     "output_type": "execute_result"
    }
   ],
   "source": [
    "u::w*w\n",
    ".z.b"
   ]
  },
  {
   "cell_type": "markdown",
   "metadata": {},
   "source": [
    "A dependency chain that would create a loop is detected and results in an error."
   ]
  },
  {
   "cell_type": "code",
   "execution_count": 3,
   "metadata": {
    "ExecuteTime": {
     "end_time": "2020-11-18T21:40:59.946451000Z",
     "start_time": "2020-11-18T21:40:59.939Z"
    }
   },
   "outputs": [
    {
     "ename": "\u001b[0;31my\u001b[0m",
     "evalue": "\u001b[0;31my\u001b[0m",
     "output_type": "error",
     "traceback": [
      "\u001b[0;31mevaluation error:\n\u001b[0m",
      "\u001b[0;31my\u001b[0m",
      "\u001b[0;31m\u001b[0m",
      "\u001b[0;31m  [3]  w::(x*x)+y*y\n                  ^\n\u001b[0m",
      "\u001b[0;31m  [2]  u::w*w\n            ^\n\u001b[0m",
      "\u001b[0;31m  [1]  x::u\n       ^\n\u001b[0m",
      "\u001b[0;31m  [0]  x\n       ^\n\u001b[0m"
     ]
    }
   ],
   "source": [
    "x::u\n",
    "x"
   ]
  },
  {
   "cell_type": "markdown",
   "metadata": {},
   "source": [
    "### Views\n",
    "\n",
    "Aliasing is commonly used to provide a database view by specifying a query as the expression."
   ]
  },
  {
   "cell_type": "code",
   "execution_count": 4,
   "metadata": {
    "ExecuteTime": {
     "end_time": "2020-11-18T21:41:38.178800000Z",
     "start_time": "2020-11-18T21:41:38.171Z"
    }
   },
   "outputs": [
    {
     "data": {
      "text/plain": [
       "sym px  \n",
       "--------\n",
       "a   99.5\n",
       "a   99.4\n"
      ]
     },
     "execution_count": 4,
     "metadata": {},
     "output_type": "execute_result"
    }
   ],
   "source": [
    "t:([]c1:`a`b`c`a;c2:20 15 10 20;c3:99.5 99.45 99.42 99.4)\n",
    "v::select sym:c1, px:c3 from t where c1=`a\n",
    "v"
   ]
  },
  {
   "cell_type": "code",
   "execution_count": 5,
   "metadata": {
    "ExecuteTime": {
     "end_time": "2020-11-18T21:41:55.554166000Z",
     "start_time": "2020-11-18T21:41:55.551Z"
    }
   },
   "outputs": [
    {
     "data": {
      "text/plain": [
       "`t\n"
      ]
     },
     "execution_count": 5,
     "metadata": {},
     "output_type": "execute_result"
    }
   ],
   "source": [
    "update c3:42.0 from `t where c1=`a"
   ]
  },
  {
   "cell_type": "code",
   "execution_count": 6,
   "metadata": {
    "ExecuteTime": {
     "end_time": "2020-11-18T21:42:02.607490000Z",
     "start_time": "2020-11-18T21:42:02.604Z"
    }
   },
   "outputs": [
    {
     "data": {
      "text/plain": [
       "sym px\n",
       "------\n",
       "a   42\n",
       "a   42\n"
      ]
     },
     "execution_count": 6,
     "metadata": {},
     "output_type": "execute_result"
    }
   ],
   "source": [
    "v"
   ]
  },
  {
   "cell_type": "code",
   "execution_count": 7,
   "metadata": {
    "ExecuteTime": {
     "end_time": "2020-11-18T21:42:10.391113000Z",
     "start_time": "2020-11-18T21:42:10.383Z"
    }
   },
   "outputs": [
    {
     "data": {
      "text/plain": [
       "x| w\n",
       "y| w\n",
       "w| u\n",
       "u| x\n",
       "t| v\n"
      ]
     },
     "execution_count": 7,
     "metadata": {},
     "output_type": "execute_result"
    }
   ],
   "source": [
    ".z.b"
   ]
  }
 ],
 "metadata": {
  "kernelspec": {
   "display_name": "Q (kdb+)",
   "language": "q",
   "name": "qpk"
  },
  "language_info": {
   "file_extension": ".q",
   "mimetype": "text/x-q",
   "name": "q",
   "version": "4.0"
  },
  "toc": {
   "base_numbering": "0",
   "nav_menu": {},
   "number_sections": true,
   "sideBar": true,
   "skip_h1_title": false,
   "title_cell": "Table of Contents",
   "title_sidebar": "Contents",
   "toc_cell": true,
   "toc_position": {},
   "toc_section_display": true,
   "toc_window_display": false
  }
 },
 "nbformat": 4,
 "nbformat_minor": 4
}
