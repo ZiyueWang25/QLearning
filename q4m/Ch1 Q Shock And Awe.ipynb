{
 "cells": [
  {
   "cell_type": "markdown",
   "metadata": {
    "toc": true
   },
   "source": [
    "<h1>Table of Contents<span class=\"tocSkip\"></span></h1>\n",
    "<div class=\"toc\"><ul class=\"toc-item\"><li><span><a href=\"#Starting-q\" data-toc-modified-id=\"Starting-q-1\"><span class=\"toc-item-num\">1&nbsp;&nbsp;</span>Starting q</a></span></li><li><span><a href=\"#Variables\" data-toc-modified-id=\"Variables-2\"><span class=\"toc-item-num\">2&nbsp;&nbsp;</span>Variables</a></span><ul class=\"toc-item\"><li><span><a href=\"#Naming-Style-Recommendation\" data-toc-modified-id=\"Naming-Style-Recommendation-2.1\"><span class=\"toc-item-num\">2.1&nbsp;&nbsp;</span>Naming Style Recommendation</a></span></li></ul></li><li><span><a href=\"#Whitespace\" data-toc-modified-id=\"Whitespace-3\"><span class=\"toc-item-num\">3&nbsp;&nbsp;</span>Whitespace</a></span></li><li><span><a href=\"#The-Q-Console\" data-toc-modified-id=\"The-Q-Console-4\"><span class=\"toc-item-num\">4&nbsp;&nbsp;</span>The Q Console</a></span></li><li><span><a href=\"#Comments\" data-toc-modified-id=\"Comments-5\"><span class=\"toc-item-num\">5&nbsp;&nbsp;</span>Comments</a></span></li><li><span><a href=\"#Assignment\" data-toc-modified-id=\"Assignment-6\"><span class=\"toc-item-num\">6&nbsp;&nbsp;</span>Assignment</a></span></li><li><span><a href=\"#Order-of-Evaluation\" data-toc-modified-id=\"Order-of-Evaluation-7\"><span class=\"toc-item-num\">7&nbsp;&nbsp;</span>Order of Evaluation</a></span><ul class=\"toc-item\"><li><span><a href=\"#Recommendation-on-Assignment-Style\" data-toc-modified-id=\"Recommendation-on-Assignment-Style-7.1\"><span class=\"toc-item-num\">7.1&nbsp;&nbsp;</span>Recommendation on Assignment Style</a></span></li></ul></li><li><span><a href=\"#Data-Types-101\" data-toc-modified-id=\"Data-Types-101-8\"><span class=\"toc-item-num\">8&nbsp;&nbsp;</span>Data Types 101</a></span></li><li><span><a href=\"#Lists-101\" data-toc-modified-id=\"Lists-101-9\"><span class=\"toc-item-num\">9&nbsp;&nbsp;</span>Lists 101</a></span></li><li><span><a href=\"#Functions-101\" data-toc-modified-id=\"Functions-101-10\"><span class=\"toc-item-num\">10&nbsp;&nbsp;</span>Functions 101</a></span></li><li><span><a href=\"#Functions-on-Lists-101\" data-toc-modified-id=\"Functions-on-Lists-101-11\"><span class=\"toc-item-num\">11&nbsp;&nbsp;</span>Functions on Lists 101</a></span></li><li><span><a href=\"#Example:-Fibonacci-Numbers\" data-toc-modified-id=\"Example:-Fibonacci-Numbers-12\"><span class=\"toc-item-num\">12&nbsp;&nbsp;</span>Example: Fibonacci Numbers</a></span></li><li><span><a href=\"#Example:-Newton's-Method-for-$n^{th}$-Roots\" data-toc-modified-id=\"Example:-Newton's-Method-for-$n^{th}$-Roots-13\"><span class=\"toc-item-num\">13&nbsp;&nbsp;</span>Example: Newton's Method for $n^{th}$ Roots</a></span></li><li><span><a href=\"#Example:-FIFO-Allocation\" data-toc-modified-id=\"Example:-FIFO-Allocation-14\"><span class=\"toc-item-num\">14&nbsp;&nbsp;</span>Example: FIFO Allocation</a></span></li><li><span><a href=\"#Dictionaries-and-Tables-101\" data-toc-modified-id=\"Dictionaries-and-Tables-101-15\"><span class=\"toc-item-num\">15&nbsp;&nbsp;</span>Dictionaries and Tables 101</a></span></li><li><span><a href=\"#q-sql-101\" data-toc-modified-id=\"q-sql-101-16\"><span class=\"toc-item-num\">16&nbsp;&nbsp;</span>q-sql 101</a></span></li><li><span><a href=\"#Example:-Trades-Table\" data-toc-modified-id=\"Example:-Trades-Table-17\"><span class=\"toc-item-num\">17&nbsp;&nbsp;</span>Example: Trades Table</a></span></li><li><span><a href=\"#File-I/O-101\" data-toc-modified-id=\"File-I/O-101-18\"><span class=\"toc-item-num\">18&nbsp;&nbsp;</span>File I/O 101</a></span></li><li><span><a href=\"#Interprocess-Communication-101\" data-toc-modified-id=\"Interprocess-Communication-101-19\"><span class=\"toc-item-num\">19&nbsp;&nbsp;</span>Interprocess Communication 101</a></span><ul class=\"toc-item\"><li><span><a href=\"#Server\" data-toc-modified-id=\"Server-19.1\"><span class=\"toc-item-num\">19.1&nbsp;&nbsp;</span>Server</a></span></li><li><span><a href=\"#Client\" data-toc-modified-id=\"Client-19.2\"><span class=\"toc-item-num\">19.2&nbsp;&nbsp;</span>Client</a></span></li></ul></li><li><span><a href=\"#Example:-Asynchronous-Callbacks\" data-toc-modified-id=\"Example:-Asynchronous-Callbacks-20\"><span class=\"toc-item-num\">20&nbsp;&nbsp;</span>Example: Asynchronous Callbacks</a></span><ul class=\"toc-item\"><li><span><a href=\"#server\" data-toc-modified-id=\"server-20.1\"><span class=\"toc-item-num\">20.1&nbsp;&nbsp;</span>server</a></span></li><li><span><a href=\"#client\" data-toc-modified-id=\"client-20.2\"><span class=\"toc-item-num\">20.2&nbsp;&nbsp;</span>client</a></span></li></ul></li><li><span><a href=\"#Websockets-101\" data-toc-modified-id=\"Websockets-101-21\"><span class=\"toc-item-num\">21&nbsp;&nbsp;</span>Websockets 101</a></span></li></ul></div>"
   ]
  },
  {
   "cell_type": "markdown",
   "metadata": {},
   "source": [
    "## Starting q"
   ]
  },
  {
   "cell_type": "code",
   "execution_count": 1,
   "metadata": {
    "ExecuteTime": {
     "end_time": "2020-11-15T13:48:32.598324000Z",
     "start_time": "2020-11-15T13:48:32.596Z"
    }
   },
   "outputs": [
    {
     "data": {
      "text/plain": [
       "42\n"
      ]
     },
     "execution_count": 1,
     "metadata": {},
     "output_type": "execute_result"
    }
   ],
   "source": [
    "6*7"
   ]
  },
  {
   "cell_type": "code",
   "execution_count": 2,
   "metadata": {
    "ExecuteTime": {
     "end_time": "2020-11-15T13:49:13.879258000Z",
     "start_time": "2020-11-15T13:49:13.876Z"
    }
   },
   "outputs": [
    {
     "data": {
      "text/plain": [
       "\"Well done!\"\n"
      ]
     },
     "execution_count": 2,
     "metadata": {},
     "output_type": "execute_result"
    }
   ],
   "source": [
    "\"c\"$0x57656c6c20646f6e6521"
   ]
  },
  {
   "cell_type": "markdown",
   "metadata": {},
   "source": [
    "## Variables"
   ]
  },
  {
   "cell_type": "code",
   "execution_count": 3,
   "metadata": {
    "ExecuteTime": {
     "end_time": "2020-11-15T13:49:33.700893000Z",
     "start_time": "2020-11-15T13:49:33.699Z"
    }
   },
   "outputs": [],
   "source": [
    "a:42"
   ]
  },
  {
   "cell_type": "code",
   "execution_count": 4,
   "metadata": {
    "ExecuteTime": {
     "end_time": "2020-11-15T13:49:34.569651000Z",
     "start_time": "2020-11-15T13:49:34.567Z"
    }
   },
   "outputs": [
    {
     "data": {
      "text/plain": [
       "42\n"
      ]
     },
     "execution_count": 4,
     "metadata": {},
     "output_type": "execute_result"
    }
   ],
   "source": [
    "a"
   ]
  },
  {
   "cell_type": "markdown",
   "metadata": {},
   "source": [
    "### Naming Style Recommendation\n",
    "1. Long enough to make the purpose of the entity evident, but no longer\n",
    "2. Use verbs for function names, nouns for data\n",
    "3. Be consistent in your use of abbreviations\n",
    "4. Be consistent in your use of capitalization, such as initial caps, camel casing, etc. Pick a style and stick to it.\n",
    "5. Use contexts for name spacing functions\n",
    "6. Do not use names such as int, float or other words that have meaning in q\n",
    "7. Accomplished q programmers **avoid using the underscore character** in q names"
   ]
  },
  {
   "cell_type": "markdown",
   "metadata": {},
   "source": [
    "## Whitespace"
   ]
  },
  {
   "cell_type": "code",
   "execution_count": 5,
   "metadata": {
    "ExecuteTime": {
     "end_time": "2020-11-15T14:00:28.112956000Z",
     "start_time": "2020-11-15T14:00:28.111Z"
    }
   },
   "outputs": [],
   "source": [
    "a : 42"
   ]
  },
  {
   "cell_type": "code",
   "execution_count": 6,
   "metadata": {
    "ExecuteTime": {
     "end_time": "2020-11-15T14:00:30.348343000Z",
     "start_time": "2020-11-15T14:00:30.342Z"
    }
   },
   "outputs": [],
   "source": [
    "a:42"
   ]
  },
  {
   "cell_type": "markdown",
   "metadata": {},
   "source": [
    "- Accomplished q programmers view **whitespace around operators as training wheels on a bicycle.**\n",
    "    - prefer compact code\n",
    "    - use whitespace only in juxtaposition and after semi-colon and comma separators"
   ]
  },
  {
   "cell_type": "markdown",
   "metadata": {},
   "source": [
    "## The Q Console"
   ]
  },
  {
   "cell_type": "code",
   "execution_count": 7,
   "metadata": {
    "ExecuteTime": {
     "end_time": "2020-11-15T14:03:33.107851000Z",
     "start_time": "2020-11-15T14:03:33.105Z"
    }
   },
   "outputs": [
    {
     "name": "stdout",
     "output_type": "stream",
     "text": [
      "42\n"
     ]
    }
   ],
   "source": [
    "show a:42"
   ]
  },
  {
   "cell_type": "markdown",
   "metadata": {},
   "source": [
    "## Comments"
   ]
  },
  {
   "cell_type": "code",
   "execution_count": 8,
   "metadata": {
    "ExecuteTime": {
     "end_time": "2020-11-15T14:04:32.544212000Z",
     "start_time": "2020-11-15T14:04:32.542Z"
    }
   },
   "outputs": [],
   "source": [
    "b:1+a:42 / nothing here counts c:6*7"
   ]
  },
  {
   "cell_type": "code",
   "execution_count": 8,
   "metadata": {
    "ExecuteTime": {
     "end_time": "2020-11-15T14:04:34.227661000Z",
     "start_time": "2020-11-15T14:04:34.220Z"
    }
   },
   "outputs": [
    {
     "ename": "\u001b[0;31mc\u001b[0m",
     "evalue": "\u001b[0;31mc\u001b[0m",
     "output_type": "error",
     "traceback": [
      "\u001b[0;31mevaluation error:\n\u001b[0m",
      "\u001b[0;31mc\u001b[0m",
      "\u001b[0;31m\u001b[0m",
      "\u001b[0;31m  [0]  c\n       ^\n\u001b[0m"
     ]
    }
   ],
   "source": [
    "c"
   ]
  },
  {
   "cell_type": "code",
   "execution_count": 8,
   "metadata": {
    "ExecuteTime": {
     "end_time": "2020-11-15T14:05:10.070558000Z",
     "start_time": "2020-11-15T14:05:10.064Z"
    }
   },
   "outputs": [
    {
     "ename": "\u001b[0;31mparse error\u001b[0m",
     "evalue": "\u001b[0;31m \u001b[0m",
     "output_type": "error",
     "traceback": [
      "\u001b[0;31mparse error\u001b[0m",
      "\u001b[0;31m \u001b[0m"
     ]
    }
   ],
   "source": [
    "a:42/ intended to be a comment"
   ]
  },
  {
   "cell_type": "markdown",
   "metadata": {},
   "source": [
    "## Assignment"
   ]
  },
  {
   "cell_type": "code",
   "execution_count": 9,
   "metadata": {
    "ExecuteTime": {
     "end_time": "2020-11-15T14:12:15.741882000Z",
     "start_time": "2020-11-15T14:12:15.739Z"
    }
   },
   "outputs": [
    {
     "data": {
      "text/plain": [
       "43\n"
      ]
     },
     "execution_count": 9,
     "metadata": {},
     "output_type": "execute_result"
    }
   ],
   "source": [
    "1+a:42"
   ]
  },
  {
   "cell_type": "code",
   "execution_count": 10,
   "metadata": {
    "ExecuteTime": {
     "end_time": "2020-11-15T14:12:35.731068000Z",
     "start_time": "2020-11-15T14:12:35.729Z"
    }
   },
   "outputs": [],
   "source": [
    "b:1+a:42"
   ]
  },
  {
   "cell_type": "code",
   "execution_count": 11,
   "metadata": {
    "ExecuteTime": {
     "end_time": "2020-11-15T14:12:36.416870000Z",
     "start_time": "2020-11-15T14:12:36.409Z"
    }
   },
   "outputs": [
    {
     "data": {
      "text/plain": [
       "43\n"
      ]
     },
     "execution_count": 11,
     "metadata": {},
     "output_type": "execute_result"
    }
   ],
   "source": [
    "b"
   ]
  },
  {
   "cell_type": "markdown",
   "metadata": {},
   "source": [
    "The variable `a` is not referenced after it is assigned. Instead, the value of the assignment is propagated onward – i.e., to the left."
   ]
  },
  {
   "cell_type": "markdown",
   "metadata": {},
   "source": [
    "## Order of Evaluation"
   ]
  },
  {
   "cell_type": "markdown",
   "metadata": {},
   "source": [
    "- the interpreter always evaluates expressions right-to-left, programmers can safely read q expressions left-to-right\n",
    "- This is exactly as in mathematics where we would read _f(g(x))_ as \"f of g of x\" even though g is evaluated first and the result passed into f. We just dispense with the parentheses."
   ]
  },
  {
   "cell_type": "markdown",
   "metadata": {},
   "source": [
    "### Recommendation on Assignment Style"
   ]
  },
  {
   "cell_type": "markdown",
   "metadata": {},
   "source": [
    "1. The ability to chain evaluation of expressions permits a single line of q code to perform the work of an entire verbose program. In general this is **acceptable (even good) q style when not taken to the extreme with extremely long wrapped lines or nested sub expressions**.\n",
    "2. Intra-line assignments, as above, can simplify code provided they are few and are referenced only within the line of creation.\n",
    "3. It is not bad form to make one assignment per line, provided you don't end up with one operation per line.\n",
    "4. Wannabe q gods carry terseness to the extreme, which quickly leads to **write-only** code."
   ]
  },
  {
   "cell_type": "markdown",
   "metadata": {},
   "source": [
    "## Data Types 101"
   ]
  },
  {
   "cell_type": "markdown",
   "metadata": {
    "ExecuteTime": {
     "end_time": "2020-11-15T14:21:04.997684000Z",
     "start_time": "2020-11-15T14:21:04.987Z"
    }
   },
   "source": [
    "The basic integer type, called long, is a 64-bit signed integer. If you write a literal integer as in the snippets above, q creates a 64-bit signed integer value."
   ]
  },
  {
   "cell_type": "code",
   "execution_count": 15,
   "metadata": {
    "ExecuteTime": {
     "end_time": "2020-11-15T14:18:07.177353000Z",
     "start_time": "2020-11-15T14:18:07.175Z"
    }
   },
   "outputs": [
    {
     "data": {
      "text/plain": [
       "42\n"
      ]
     },
     "execution_count": 15,
     "metadata": {},
     "output_type": "execute_result"
    }
   ],
   "source": [
    "42 /the basic integer type, called long, is a 64-bit signed integer."
   ]
  },
  {
   "cell_type": "markdown",
   "metadata": {},
   "source": [
    "The basic floating point type in q is called float, often known as a \"double\" in many languages. This is an 8-byte value conforming to the IEEE floating-point specification."
   ]
  },
  {
   "cell_type": "code",
   "execution_count": 22,
   "metadata": {
    "ExecuteTime": {
     "end_time": "2020-11-15T14:19:21.607863000Z",
     "start_time": "2020-11-15T14:19:21.605Z"
    }
   },
   "outputs": [
    {
     "data": {
      "text/plain": [
       "98.6\n"
      ]
     },
     "execution_count": 22,
     "metadata": {},
     "output_type": "execute_result"
    }
   ],
   "source": [
    "98.6"
   ]
  },
  {
   "cell_type": "code",
   "execution_count": 16,
   "metadata": {
    "ExecuteTime": {
     "end_time": "2020-11-15T14:18:25.568618000Z",
     "start_time": "2020-11-15T14:18:25.566Z"
    }
   },
   "outputs": [
    {
     "data": {
      "text/plain": [
       "5\n"
      ]
     },
     "execution_count": 16,
     "metadata": {},
     "output_type": "execute_result"
    }
   ],
   "source": [
    "2+3"
   ]
  },
  {
   "cell_type": "code",
   "execution_count": 17,
   "metadata": {
    "ExecuteTime": {
     "end_time": "2020-11-15T14:18:28.761571000Z",
     "start_time": "2020-11-15T14:18:28.758Z"
    }
   },
   "outputs": [
    {
     "data": {
      "text/plain": [
       "6.6\n"
      ]
     },
     "execution_count": 17,
     "metadata": {},
     "output_type": "execute_result"
    }
   ],
   "source": [
    "2.2*3.0"
   ]
  },
  {
   "cell_type": "code",
   "execution_count": 18,
   "metadata": {
    "ExecuteTime": {
     "end_time": "2020-11-15T14:18:31.103608000Z",
     "start_time": "2020-11-15T14:18:31.101Z"
    }
   },
   "outputs": [
    {
     "data": {
      "text/plain": [
       "2\n"
      ]
     },
     "execution_count": 18,
     "metadata": {},
     "output_type": "execute_result"
    }
   ],
   "source": [
    "4-2"
   ]
  },
  {
   "cell_type": "markdown",
   "metadata": {},
   "source": [
    "Division % always results in a float."
   ]
  },
  {
   "cell_type": "code",
   "execution_count": 25,
   "metadata": {
    "ExecuteTime": {
     "end_time": "2020-11-15T14:20:38.222038000Z",
     "start_time": "2020-11-15T14:20:38.215Z"
    }
   },
   "outputs": [
    {
     "data": {
      "text/plain": [
       "2f\n"
      ]
     },
     "execution_count": 25,
     "metadata": {},
     "output_type": "execute_result"
    }
   ],
   "source": [
    "4%2 "
   ]
  },
  {
   "cell_type": "markdown",
   "metadata": {},
   "source": [
    "Boolean values in q are stored in a single byte and are denoted as the binary values they really are with an explicit type suffix `b`."
   ]
  },
  {
   "cell_type": "code",
   "execution_count": 23,
   "metadata": {
    "ExecuteTime": {
     "end_time": "2020-11-15T14:20:11.399905000Z",
     "start_time": "2020-11-15T14:20:11.397Z"
    }
   },
   "outputs": [
    {
     "data": {
      "text/plain": [
       "1b\n"
      ]
     },
     "execution_count": 23,
     "metadata": {},
     "output_type": "execute_result"
    }
   ],
   "source": [
    "42=40+2"
   ]
  },
  {
   "cell_type": "code",
   "execution_count": 24,
   "metadata": {
    "ExecuteTime": {
     "end_time": "2020-11-15T14:20:14.873477000Z",
     "start_time": "2020-11-15T14:20:14.866Z"
    }
   },
   "outputs": [
    {
     "data": {
      "text/plain": [
       "0b\n"
      ]
     },
     "execution_count": 24,
     "metadata": {},
     "output_type": "execute_result"
    }
   ],
   "source": [
    "42=43"
   ]
  },
  {
   "cell_type": "markdown",
   "metadata": {},
   "source": [
    "The two most useful temporal types are date and timespan; both represent integral counts. Under the covers, a date is the number of days since the millennium, positive for post and negative for pre.\n",
    "\n",
    "\n"
   ]
  },
  {
   "cell_type": "code",
   "execution_count": 26,
   "metadata": {
    "ExecuteTime": {
     "end_time": "2020-11-15T14:21:41.658899000Z",
     "start_time": "2020-11-15T14:21:41.651Z"
    }
   },
   "outputs": [
    {
     "data": {
      "text/plain": [
       "2000.01.01\n"
      ]
     },
     "execution_count": 26,
     "metadata": {},
     "output_type": "execute_result"
    }
   ],
   "source": [
    "2000.01.01 / this is actually 0"
   ]
  },
  {
   "cell_type": "code",
   "execution_count": 27,
   "metadata": {
    "ExecuteTime": {
     "end_time": "2020-11-15T14:21:48.583160000Z",
     "start_time": "2020-11-15T14:21:48.580Z"
    }
   },
   "outputs": [
    {
     "data": {
      "text/plain": [
       "2014.11.19\n"
      ]
     },
     "execution_count": 27,
     "metadata": {},
     "output_type": "execute_result"
    }
   ],
   "source": [
    "2014.11.19 / this is actually 5436"
   ]
  },
  {
   "cell_type": "code",
   "execution_count": 28,
   "metadata": {
    "ExecuteTime": {
     "end_time": "2020-11-15T14:21:54.264380000Z",
     "start_time": "2020-11-15T14:21:54.257Z"
    }
   },
   "outputs": [
    {
     "data": {
      "text/plain": [
       "1999.12.31\n"
      ]
     },
     "execution_count": 28,
     "metadata": {},
     "output_type": "execute_result"
    }
   ],
   "source": [
    "1999.12.31 / this is actually -1"
   ]
  },
  {
   "cell_type": "markdown",
   "metadata": {},
   "source": [
    "Similarly, a time value is represented by a timespan, which is a (long) integer count of the number of nanoseconds since midnight. It is denoted as,"
   ]
  },
  {
   "cell_type": "code",
   "execution_count": 29,
   "metadata": {
    "ExecuteTime": {
     "end_time": "2020-11-15T14:22:14.766530000Z",
     "start_time": "2020-11-15T14:22:14.758Z"
    }
   },
   "outputs": [
    {
     "data": {
      "text/plain": [
       "0D12:00:00.000000000\n"
      ]
     },
     "execution_count": 29,
     "metadata": {},
     "output_type": "execute_result"
    }
   ],
   "source": [
    "12:00:00.000000000 / this is noon"
   ]
  },
  {
   "cell_type": "markdown",
   "metadata": {},
   "source": [
    "Participation in arithmetic"
   ]
  },
  {
   "cell_type": "markdown",
   "metadata": {},
   "source": [
    "advance a date five days, add 5."
   ]
  },
  {
   "cell_type": "code",
   "execution_count": 30,
   "metadata": {
    "ExecuteTime": {
     "end_time": "2020-11-15T14:22:50.220357000Z",
     "start_time": "2020-11-15T14:22:50.212Z"
    }
   },
   "outputs": [
    {
     "data": {
      "text/plain": [
       "2000.01.06\n"
      ]
     },
     "execution_count": 30,
     "metadata": {},
     "output_type": "execute_result"
    }
   ],
   "source": [
    "2000.01.01+5"
   ]
  },
  {
   "cell_type": "markdown",
   "metadata": {},
   "source": [
    "advance a time by one microsecond (i.e., 1000 nanoseconds) add 1000."
   ]
  },
  {
   "cell_type": "code",
   "execution_count": 37,
   "metadata": {
    "ExecuteTime": {
     "end_time": "2020-11-15T14:24:26.082608000Z",
     "start_time": "2020-11-15T14:24:26.080Z"
    }
   },
   "outputs": [
    {
     "data": {
      "text/plain": [
       "0D12:00:00.000001000\n"
      ]
     },
     "execution_count": 37,
     "metadata": {},
     "output_type": "execute_result"
    }
   ],
   "source": [
    "12:00:00.000000000+1000"
   ]
  },
  {
   "cell_type": "code",
   "execution_count": 32,
   "metadata": {
    "ExecuteTime": {
     "end_time": "2020-11-15T14:23:32.548429000Z",
     "start_time": "2020-11-15T14:23:32.541Z"
    }
   },
   "outputs": [
    {
     "data": {
      "text/plain": [
       "1b\n"
      ]
     },
     "execution_count": 32,
     "metadata": {},
     "output_type": "execute_result"
    }
   ],
   "source": [
    "2000.01.01=0"
   ]
  },
  {
   "cell_type": "code",
   "execution_count": 35,
   "metadata": {
    "ExecuteTime": {
     "end_time": "2020-11-15T14:24:10.558253000Z",
     "start_time": "2020-11-15T14:24:10.550Z"
    }
   },
   "outputs": [
    {
     "data": {
      "text/plain": [
       "1b\n"
      ]
     },
     "execution_count": 35,
     "metadata": {},
     "output_type": "execute_result"
    }
   ],
   "source": [
    "12:00:00.000000000=12*60*60*1e9"
   ]
  },
  {
   "cell_type": "markdown",
   "metadata": {},
   "source": [
    "Think of symbols as wannabe names: all q names are symbols but not all symbols are names. A symbol is atomic, meaning that it is viewed as an indivisible entity (although we shall see later how to expose the characters inside it)."
   ]
  },
  {
   "cell_type": "markdown",
   "metadata": {},
   "source": [
    "Symbols are denoted by a **leading back-quote (called \"back tick\" in q-speak)** followed by characters. **Symbols without embedded blanks or other special characters can be entered literally into the console.**"
   ]
  },
  {
   "cell_type": "code",
   "execution_count": 38,
   "metadata": {
    "ExecuteTime": {
     "end_time": "2020-11-15T14:27:36.069809000Z",
     "start_time": "2020-11-15T14:27:36.058Z"
    }
   },
   "outputs": [
    {
     "data": {
      "text/plain": [
       "`aapl\n"
      ]
     },
     "execution_count": 38,
     "metadata": {},
     "output_type": "execute_result"
    }
   ],
   "source": [
    "`aapl"
   ]
  },
  {
   "cell_type": "code",
   "execution_count": 39,
   "metadata": {
    "ExecuteTime": {
     "end_time": "2020-11-15T14:27:43.432089000Z",
     "start_time": "2020-11-15T14:27:43.425Z"
    }
   },
   "outputs": [
    {
     "data": {
      "text/plain": [
       "`jab\n"
      ]
     },
     "execution_count": 39,
     "metadata": {},
     "output_type": "execute_result"
    }
   ],
   "source": [
    "`jab"
   ]
  },
  {
   "cell_type": "code",
   "execution_count": 40,
   "metadata": {
    "ExecuteTime": {
     "end_time": "2020-11-15T14:27:48.267013000Z",
     "start_time": "2020-11-15T14:27:48.264Z"
    }
   },
   "outputs": [
    {
     "data": {
      "text/plain": [
       "`thisisareallylongsymbol\n"
      ]
     },
     "execution_count": 40,
     "metadata": {},
     "output_type": "execute_result"
    }
   ],
   "source": [
    "`thisisareallylongsymbol"
   ]
  },
  {
   "cell_type": "markdown",
   "metadata": {},
   "source": [
    "Since symbols are atoms, any two can be tested for equality."
   ]
  },
  {
   "cell_type": "code",
   "execution_count": 41,
   "metadata": {
    "ExecuteTime": {
     "end_time": "2020-11-15T14:27:55.785420000Z",
     "start_time": "2020-11-15T14:27:55.783Z"
    }
   },
   "outputs": [
    {
     "data": {
      "text/plain": [
       "0b\n"
      ]
     },
     "execution_count": 41,
     "metadata": {},
     "output_type": "execute_result"
    }
   ],
   "source": [
    "`aapl=`apl"
   ]
  },
  {
   "cell_type": "markdown",
   "metadata": {},
   "source": [
    "## Lists 101"
   ]
  },
  {
   "cell_type": "markdown",
   "metadata": {},
   "source": [
    " The notation for a general list encloses items with ( and ) and uses ; as separator. Spaces after the semi-colons are optional but can improve readability."
   ]
  },
  {
   "cell_type": "code",
   "execution_count": 42,
   "metadata": {
    "ExecuteTime": {
     "end_time": "2020-11-15T14:29:16.284088000Z",
     "start_time": "2020-11-15T14:29:16.273Z"
    }
   },
   "outputs": [
    {
     "data": {
      "text/plain": [
       "1\n",
       "1.2\n",
       "`one\n"
      ]
     },
     "execution_count": 42,
     "metadata": {},
     "output_type": "execute_result"
    }
   ],
   "source": [
    "(1; 1.2; `one)"
   ]
  },
  {
   "cell_type": "markdown",
   "metadata": {},
   "source": [
    "- A list can contain items of different type; this usually requires wrapping the values in a variant type in other languages. That being said, it is best to **avoid mixed types in lists, as their processing is slower than homogenous lists of atoms.**\n",
    "- Assuming you entered the above snippet, you have noticed that the console echoes the items of a general list **one item per line**.\n",
    "- In contrast to most functional languages, lists need not be built up by \"cons\"-ing one item at a time, although they can be. Nor are they stored as singly-linked lists under the covers."
   ]
  },
  {
   "cell_type": "markdown",
   "metadata": {},
   "source": [
    "a homogenous list of atoms, called a _simple list_, q adopts a simplified format for both storage and display. For example, a list of underlying numeric type separates its items with a space."
   ]
  },
  {
   "cell_type": "code",
   "execution_count": 43,
   "metadata": {
    "ExecuteTime": {
     "end_time": "2020-11-15T14:31:43.890221000Z",
     "start_time": "2020-11-15T14:31:43.883Z"
    }
   },
   "outputs": [
    {
     "data": {
      "text/plain": [
       "1 2 3\n"
      ]
     },
     "execution_count": 43,
     "metadata": {},
     "output_type": "execute_result"
    }
   ],
   "source": [
    "(1; 2; 3)"
   ]
  },
  {
   "cell_type": "code",
   "execution_count": 44,
   "metadata": {
    "ExecuteTime": {
     "end_time": "2020-11-15T14:31:48.292513000Z",
     "start_time": "2020-11-15T14:31:48.285Z"
    }
   },
   "outputs": [
    {
     "data": {
      "text/plain": [
       "1.2 2.2 3.3\n"
      ]
     },
     "execution_count": 44,
     "metadata": {},
     "output_type": "execute_result"
    }
   ],
   "source": [
    "(1.2; 2.2; 3.3)"
   ]
  },
  {
   "cell_type": "code",
   "execution_count": 45,
   "metadata": {
    "ExecuteTime": {
     "end_time": "2020-11-15T14:31:56.802462000Z",
     "start_time": "2020-11-15T14:31:56.795Z"
    }
   },
   "outputs": [
    {
     "data": {
      "text/plain": [
       "2000.01.01 2000.01.02 2001.01.03\n"
      ]
     },
     "execution_count": 45,
     "metadata": {},
     "output_type": "execute_result"
    }
   ],
   "source": [
    "(2000.01.01; 2000.01.02; 2001.01.03)"
   ]
  },
  {
   "cell_type": "markdown",
   "metadata": {},
   "source": [
    "A simple list of booleans is **juxtaposed with no spaces and has a trailing b type indicator**."
   ]
  },
  {
   "cell_type": "code",
   "execution_count": 47,
   "metadata": {
    "ExecuteTime": {
     "end_time": "2020-11-15T14:32:30.934253000Z",
     "start_time": "2020-11-15T14:32:30.931Z"
    }
   },
   "outputs": [
    {
     "data": {
      "text/plain": [
       "101b\n"
      ]
     },
     "execution_count": 47,
     "metadata": {},
     "output_type": "execute_result"
    }
   ],
   "source": [
    "(1b; 0b; 1b)"
   ]
  },
  {
   "cell_type": "markdown",
   "metadata": {},
   "source": [
    "A simple list of symbols is displayed with no separating spaces."
   ]
  },
  {
   "cell_type": "code",
   "execution_count": 46,
   "metadata": {
    "ExecuteTime": {
     "end_time": "2020-11-15T14:32:24.322439000Z",
     "start_time": "2020-11-15T14:32:24.315Z"
    }
   },
   "outputs": [
    {
     "data": {
      "text/plain": [
       "`one`two`three\n"
      ]
     },
     "execution_count": 46,
     "metadata": {},
     "output_type": "execute_result"
    }
   ],
   "source": [
    "(`one; `two; `three)"
   ]
  },
  {
   "cell_type": "markdown",
   "metadata": {},
   "source": [
    "Homogenous lists of atoms can be entered in either general or simplified form. Regardless of how they are created, q recognizes a list of homogenous atoms dynamically and converts it to a simple list."
   ]
  },
  {
   "cell_type": "code",
   "execution_count": 48,
   "metadata": {
    "ExecuteTime": {
     "end_time": "2020-11-15T14:33:56.953443000Z",
     "start_time": "2020-11-15T14:33:56.951Z"
    }
   },
   "outputs": [
    {
     "data": {
      "text/plain": [
       "0 1 2 3 4 5 6 7 8 9\n"
      ]
     },
     "execution_count": 48,
     "metadata": {},
     "output_type": "execute_result"
    }
   ],
   "source": [
    "til 10"
   ]
  },
  {
   "cell_type": "code",
   "execution_count": 49,
   "metadata": {
    "ExecuteTime": {
     "end_time": "2020-11-15T14:34:03.158894000Z",
     "start_time": "2020-11-15T14:34:03.156Z"
    }
   },
   "outputs": [
    {
     "data": {
      "text/plain": [
       "1 2 3 4 5 6 7 8 9 10\n"
      ]
     },
     "execution_count": 49,
     "metadata": {},
     "output_type": "execute_result"
    }
   ],
   "source": [
    "1+til 10"
   ]
  },
  {
   "cell_type": "code",
   "execution_count": 50,
   "metadata": {
    "ExecuteTime": {
     "end_time": "2020-11-15T14:34:08.903395000Z",
     "start_time": "2020-11-15T14:34:08.901Z"
    }
   },
   "outputs": [
    {
     "data": {
      "text/plain": [
       "0 2 4 6 8 10 12 14 16 18\n"
      ]
     },
     "execution_count": 50,
     "metadata": {},
     "output_type": "execute_result"
    }
   ],
   "source": [
    "2*til 10"
   ]
  },
  {
   "cell_type": "code",
   "execution_count": 51,
   "metadata": {
    "ExecuteTime": {
     "end_time": "2020-11-15T14:34:14.446188000Z",
     "start_time": "2020-11-15T14:34:14.443Z"
    }
   },
   "outputs": [
    {
     "data": {
      "text/plain": [
       "1 3 5 7 9 11 13 15 17 19\n"
      ]
     },
     "execution_count": 51,
     "metadata": {},
     "output_type": "execute_result"
    }
   ],
   "source": [
    "1+2*til 10"
   ]
  },
  {
   "cell_type": "code",
   "execution_count": 52,
   "metadata": {
    "ExecuteTime": {
     "end_time": "2020-11-15T14:34:22.438951000Z",
     "start_time": "2020-11-15T14:34:22.431Z"
    }
   },
   "outputs": [
    {
     "data": {
      "text/plain": [
       "42 44 46 48 50 52 54 56 58 60\n"
      ]
     },
     "execution_count": 52,
     "metadata": {},
     "output_type": "execute_result"
    }
   ],
   "source": [
    "42+2*til 10"
   ]
  },
  {
   "cell_type": "markdown",
   "metadata": {},
   "source": [
    "**Join ,**"
   ]
  },
  {
   "cell_type": "code",
   "execution_count": 53,
   "metadata": {
    "ExecuteTime": {
     "end_time": "2020-11-15T14:34:57.858300000Z",
     "start_time": "2020-11-15T14:34:57.851Z"
    }
   },
   "outputs": [
    {
     "data": {
      "text/plain": [
       "1 2 3 4 5\n"
      ]
     },
     "execution_count": 53,
     "metadata": {},
     "output_type": "execute_result"
    }
   ],
   "source": [
    "1 2 3,4 5"
   ]
  },
  {
   "cell_type": "code",
   "execution_count": 54,
   "metadata": {
    "ExecuteTime": {
     "end_time": "2020-11-15T14:35:04.713949000Z",
     "start_time": "2020-11-15T14:35:04.711Z"
    }
   },
   "outputs": [
    {
     "data": {
      "text/plain": [
       "1 2 3 100\n"
      ]
     },
     "execution_count": 54,
     "metadata": {},
     "output_type": "execute_result"
    }
   ],
   "source": [
    "1 2 3,100"
   ]
  },
  {
   "cell_type": "markdown",
   "metadata": {},
   "source": [
    "To extract items from the front or back of a list, use the Take operator #. Positive argument means take from the front, negative from the back."
   ]
  },
  {
   "cell_type": "code",
   "execution_count": 55,
   "metadata": {
    "ExecuteTime": {
     "end_time": "2020-11-15T14:35:32.580585000Z",
     "start_time": "2020-11-15T14:35:32.577Z"
    }
   },
   "outputs": [
    {
     "data": {
      "text/plain": [
       "0 1\n"
      ]
     },
     "execution_count": 55,
     "metadata": {},
     "output_type": "execute_result"
    }
   ],
   "source": [
    "2#til 10"
   ]
  },
  {
   "cell_type": "code",
   "execution_count": 56,
   "metadata": {
    "ExecuteTime": {
     "end_time": "2020-11-15T14:35:38.046058000Z",
     "start_time": "2020-11-15T14:35:38.043Z"
    }
   },
   "outputs": [
    {
     "data": {
      "text/plain": [
       "8 9\n"
      ]
     },
     "execution_count": 56,
     "metadata": {},
     "output_type": "execute_result"
    }
   ],
   "source": [
    "-2#til 10"
   ]
  },
  {
   "cell_type": "markdown",
   "metadata": {},
   "source": [
    "**Applying # always results in a list.**\n",
    "\n",
    "In particular, the idiom 0# returns an empty list of the same type as the first item in its argument. Using an atom argument is a succinct way to create a typed empty list of the type of the atom."
   ]
  },
  {
   "cell_type": "code",
   "execution_count": 57,
   "metadata": {
    "ExecuteTime": {
     "end_time": "2020-11-15T14:36:30.579047000Z",
     "start_time": "2020-11-15T14:36:30.577Z"
    }
   },
   "outputs": [
    {
     "data": {
      "text/plain": [
       "`long$()\n"
      ]
     },
     "execution_count": 57,
     "metadata": {},
     "output_type": "execute_result"
    }
   ],
   "source": [
    "0#1 2 3"
   ]
  },
  {
   "cell_type": "code",
   "execution_count": 58,
   "metadata": {
    "ExecuteTime": {
     "end_time": "2020-11-15T14:36:34.556698000Z",
     "start_time": "2020-11-15T14:36:34.549Z"
    }
   },
   "outputs": [
    {
     "data": {
      "text/plain": [
       "`long$()\n"
      ]
     },
     "execution_count": 58,
     "metadata": {},
     "output_type": "execute_result"
    }
   ],
   "source": [
    "0#0"
   ]
  },
  {
   "cell_type": "code",
   "execution_count": 59,
   "metadata": {
    "ExecuteTime": {
     "end_time": "2020-11-15T14:36:39.474609000Z",
     "start_time": "2020-11-15T14:36:39.467Z"
    }
   },
   "outputs": [
    {
     "data": {
      "text/plain": [
       "`symbol$()\n"
      ]
     },
     "execution_count": 59,
     "metadata": {},
     "output_type": "execute_result"
    }
   ],
   "source": [
    "0#`"
   ]
  },
  {
   "cell_type": "markdown",
   "metadata": {},
   "source": [
    "Should you extract more items than there are in the list, # restarts at the beginning and continues extracting. It does this until the specified number of items is reached."
   ]
  },
  {
   "cell_type": "code",
   "execution_count": 60,
   "metadata": {
    "ExecuteTime": {
     "end_time": "2020-11-15T14:36:51.650346000Z",
     "start_time": "2020-11-15T14:36:51.641Z"
    }
   },
   "outputs": [
    {
     "data": {
      "text/plain": [
       "1 2 3 1 2\n"
      ]
     },
     "execution_count": 60,
     "metadata": {},
     "output_type": "execute_result"
    }
   ],
   "source": [
    "5#1 2 3"
   ]
  },
  {
   "cell_type": "markdown",
   "metadata": {},
   "source": [
    "In particular, if you apply # to an atom, it will continue drawing that single atom until it has the specified number of copies. "
   ]
  },
  {
   "cell_type": "code",
   "execution_count": 61,
   "metadata": {
    "ExecuteTime": {
     "end_time": "2020-11-15T14:37:05.487922000Z",
     "start_time": "2020-11-15T14:37:05.480Z"
    }
   },
   "outputs": [
    {
     "data": {
      "text/plain": [
       "42 42 42 42 42\n"
      ]
     },
     "execution_count": 61,
     "metadata": {},
     "output_type": "execute_result"
    }
   ],
   "source": [
    "5#42"
   ]
  },
  {
   "cell_type": "markdown",
   "metadata": {},
   "source": [
    "As with atoms, a list can be assigned to a variable."
   ]
  },
  {
   "cell_type": "code",
   "execution_count": 62,
   "metadata": {
    "ExecuteTime": {
     "end_time": "2020-11-15T14:37:44.810252000Z",
     "start_time": "2020-11-15T14:37:44.804Z"
    }
   },
   "outputs": [],
   "source": [
    "L:10 20 30"
   ]
  },
  {
   "cell_type": "markdown",
   "metadata": {},
   "source": [
    "The items of a list can be accessed via indexing, which uses square brackets and is relative to 0."
   ]
  },
  {
   "cell_type": "code",
   "execution_count": 63,
   "metadata": {
    "ExecuteTime": {
     "end_time": "2020-11-15T14:38:21.398524000Z",
     "start_time": "2020-11-15T14:38:21.390Z"
    }
   },
   "outputs": [
    {
     "data": {
      "text/plain": [
       "10 20 30\n"
      ]
     },
     "execution_count": 63,
     "metadata": {},
     "output_type": "execute_result"
    }
   ],
   "source": [
    "(L[0]; L[1]; L[2])"
   ]
  },
  {
   "cell_type": "markdown",
   "metadata": {},
   "source": [
    "## Functions 101"
   ]
  },
  {
   "cell_type": "markdown",
   "metadata": {},
   "source": [
    "Function definition is delimited by matching curly braces { and }. Immediately after the opening brace, the formal parameters are names enclosed in square brackets [ and ] and separated by semi-colons. These parameters presumably appear in the body of the function, which follows the formal parameters and is a succession of expressions sequenced by semi-colons."
   ]
  },
  {
   "cell_type": "code",
   "execution_count": 64,
   "metadata": {
    "ExecuteTime": {
     "end_time": "2020-11-15T14:41:33.580655000Z",
     "start_time": "2020-11-15T14:41:33.573Z"
    }
   },
   "outputs": [
    {
     "data": {
      "text/plain": [
       "{[x] x*x}\n"
      ]
     },
     "execution_count": 64,
     "metadata": {},
     "output_type": "execute_result"
    }
   ],
   "source": [
    "{[x] x*x}"
   ]
  },
  {
   "cell_type": "code",
   "execution_count": 65,
   "metadata": {
    "ExecuteTime": {
     "end_time": "2020-11-15T14:41:38.733082000Z",
     "start_time": "2020-11-15T14:41:38.731Z"
    }
   },
   "outputs": [],
   "source": [
    "sq:{[x] x*x}"
   ]
  },
  {
   "cell_type": "code",
   "execution_count": 66,
   "metadata": {
    "ExecuteTime": {
     "end_time": "2020-11-15T14:41:45.424534000Z",
     "start_time": "2020-11-15T14:41:45.422Z"
    }
   },
   "outputs": [
    {
     "data": {
      "text/plain": [
       "{[x;y] a:x*x; b:y*y; a+b}\n"
      ]
     },
     "execution_count": 66,
     "metadata": {},
     "output_type": "execute_result"
    }
   ],
   "source": [
    "{[x;y] a:x*x; b:y*y; a+b}"
   ]
  },
  {
   "cell_type": "code",
   "execution_count": 67,
   "metadata": {
    "ExecuteTime": {
     "end_time": "2020-11-15T14:41:55.432596000Z",
     "start_time": "2020-11-15T14:41:55.426Z"
    }
   },
   "outputs": [],
   "source": [
    "pyth:{[x;y] a:x*x; b:y*y; a+b}"
   ]
  },
  {
   "cell_type": "markdown",
   "metadata": {},
   "source": [
    "To apply a function to arguments, follow it (or its name, if it has been assigned to a variable) by a list of values enclosed in square brackets and separated by semi-colons"
   ]
  },
  {
   "cell_type": "code",
   "execution_count": 68,
   "metadata": {
    "ExecuteTime": {
     "end_time": "2020-11-15T14:42:03.787798000Z",
     "start_time": "2020-11-15T14:42:03.785Z"
    }
   },
   "outputs": [
    {
     "data": {
      "text/plain": [
       "25\n"
      ]
     },
     "execution_count": 68,
     "metadata": {},
     "output_type": "execute_result"
    }
   ],
   "source": [
    "{[x] x*x}[5]"
   ]
  },
  {
   "cell_type": "code",
   "execution_count": 69,
   "metadata": {
    "ExecuteTime": {
     "end_time": "2020-11-15T14:42:08.342386000Z",
     "start_time": "2020-11-15T14:42:08.335Z"
    }
   },
   "outputs": [
    {
     "data": {
      "text/plain": [
       "25\n"
      ]
     },
     "execution_count": 69,
     "metadata": {},
     "output_type": "execute_result"
    }
   ],
   "source": [
    "sq[5]"
   ]
  },
  {
   "cell_type": "code",
   "execution_count": 70,
   "metadata": {
    "ExecuteTime": {
     "end_time": "2020-11-15T14:42:13.022786000Z",
     "start_time": "2020-11-15T14:42:13.015Z"
    }
   },
   "outputs": [
    {
     "data": {
      "text/plain": [
       "25\n"
      ]
     },
     "execution_count": 70,
     "metadata": {},
     "output_type": "execute_result"
    }
   ],
   "source": [
    "{[x;y] a:x*x; b:y*y; a+b}[3;4]"
   ]
  },
  {
   "cell_type": "code",
   "execution_count": 71,
   "metadata": {
    "ExecuteTime": {
     "end_time": "2020-11-15T14:42:17.822018000Z",
     "start_time": "2020-11-15T14:42:17.814Z"
    }
   },
   "outputs": [
    {
     "data": {
      "text/plain": [
       "25\n"
      ]
     },
     "execution_count": 71,
     "metadata": {},
     "output_type": "execute_result"
    }
   ],
   "source": [
    "pyth[3;4]"
   ]
  },
  {
   "cell_type": "markdown",
   "metadata": {},
   "source": [
    "The variables a and b appearing in the body of the last function above are **local** – i.e., they are created and exist only for the duration of an application."
   ]
  },
  {
   "cell_type": "markdown",
   "metadata": {},
   "source": [
    "It is common in mathematics to use function parameters x, y, or z. If you are content with these names (in the belief that descriptive names provide no useful information to the poor soul reading your code), you can omit their declaration and q will understand that you mean the implicit parameters x, y, and z **in that order.**"
   ]
  },
  {
   "cell_type": "code",
   "execution_count": 72,
   "metadata": {
    "ExecuteTime": {
     "end_time": "2020-11-15T15:08:30.716504000Z",
     "start_time": "2020-11-15T15:08:30.711Z"
    }
   },
   "outputs": [
    {
     "data": {
      "text/plain": [
       "25\n"
      ]
     },
     "execution_count": 72,
     "metadata": {},
     "output_type": "execute_result"
    }
   ],
   "source": [
    "{x*x}[5]"
   ]
  },
  {
   "cell_type": "code",
   "execution_count": 74,
   "metadata": {
    "ExecuteTime": {
     "end_time": "2020-11-15T15:09:30.774038000Z",
     "start_time": "2020-11-15T15:09:30.766Z"
    }
   },
   "outputs": [
    {
     "data": {
      "text/plain": [
       "25\n"
      ]
     },
     "execution_count": 74,
     "metadata": {},
     "output_type": "execute_result"
    }
   ],
   "source": [
    "{a:x*x; b:y*y; a+b}[3;4]"
   ]
  },
  {
   "cell_type": "code",
   "execution_count": 75,
   "metadata": {
    "ExecuteTime": {
     "end_time": "2020-11-15T15:09:40.275551000Z",
     "start_time": "2020-11-15T15:09:40.272Z"
    }
   },
   "outputs": [
    {
     "data": {
      "text/plain": [
       "0.75\n"
      ]
     },
     "execution_count": 75,
     "metadata": {},
     "output_type": "execute_result"
    }
   ],
   "source": [
    "{x%y}[3;4]"
   ]
  },
  {
   "cell_type": "code",
   "execution_count": 76,
   "metadata": {
    "ExecuteTime": {
     "end_time": "2020-11-15T15:09:45.792931000Z",
     "start_time": "2020-11-15T15:09:45.785Z"
    }
   },
   "outputs": [
    {
     "data": {
      "text/plain": [
       "1.333333\n"
      ]
     },
     "execution_count": 76,
     "metadata": {},
     "output_type": "execute_result"
    }
   ],
   "source": [
    "{x%y}[4;3]"
   ]
  },
  {
   "cell_type": "markdown",
   "metadata": {},
   "source": [
    "_prefix syntax_"
   ]
  },
  {
   "cell_type": "code",
   "execution_count": 77,
   "metadata": {
    "ExecuteTime": {
     "end_time": "2020-11-15T15:10:30.498485000Z",
     "start_time": "2020-11-15T15:10:30.490Z"
    }
   },
   "outputs": [
    {
     "data": {
      "text/plain": [
       "25\n"
      ]
     },
     "execution_count": 77,
     "metadata": {},
     "output_type": "execute_result"
    }
   ],
   "source": [
    "{x*x} 5"
   ]
  },
  {
   "cell_type": "code",
   "execution_count": 78,
   "metadata": {
    "ExecuteTime": {
     "end_time": "2020-11-15T15:10:37.803935000Z",
     "start_time": "2020-11-15T15:10:37.796Z"
    }
   },
   "outputs": [
    {
     "data": {
      "text/plain": [
       "25\n"
      ]
     },
     "execution_count": 78,
     "metadata": {},
     "output_type": "execute_result"
    }
   ],
   "source": [
    "f:{x*x}\n",
    "f 5"
   ]
  },
  {
   "cell_type": "markdown",
   "metadata": {},
   "source": [
    "## Functions on Lists 101"
   ]
  },
  {
   "cell_type": "code",
   "execution_count": 79,
   "metadata": {
    "ExecuteTime": {
     "end_time": "2020-11-15T15:10:53.558900000Z",
     "start_time": "2020-11-15T15:10:53.557Z"
    }
   },
   "outputs": [
    {
     "data": {
      "text/plain": [
       "142 242 342\n"
      ]
     },
     "execution_count": 79,
     "metadata": {},
     "output_type": "execute_result"
    }
   ],
   "source": [
    "42+100 200 300"
   ]
  },
  {
   "cell_type": "code",
   "execution_count": 80,
   "metadata": {
    "ExecuteTime": {
     "end_time": "2020-11-15T15:10:59.370213000Z",
     "start_time": "2020-11-15T15:10:59.363Z"
    }
   },
   "outputs": [
    {
     "data": {
      "text/plain": [
       "142 242 342\n"
      ]
     },
     "execution_count": 80,
     "metadata": {},
     "output_type": "execute_result"
    }
   ],
   "source": [
    "100 200 300+42"
   ]
  },
  {
   "cell_type": "code",
   "execution_count": 83,
   "metadata": {
    "ExecuteTime": {
     "end_time": "2020-11-15T15:11:40.652460000Z",
     "start_time": "2020-11-15T15:11:40.650Z"
    }
   },
   "outputs": [
    {
     "data": {
      "text/plain": [
       "010b\n"
      ]
     },
     "execution_count": 83,
     "metadata": {},
     "output_type": "execute_result"
    }
   ],
   "source": [
    "100=99 100 101"
   ]
  },
  {
   "cell_type": "code",
   "execution_count": 84,
   "metadata": {
    "ExecuteTime": {
     "end_time": "2020-11-15T15:11:49.089726000Z",
     "start_time": "2020-11-15T15:11:49.086Z"
    }
   },
   "outputs": [
    {
     "data": {
      "text/plain": [
       "100b\n"
      ]
     },
     "execution_count": 84,
     "metadata": {},
     "output_type": "execute_result"
    }
   ],
   "source": [
    "100 100 100=100 101 102"
   ]
  },
  {
   "cell_type": "code",
   "execution_count": 85,
   "metadata": {
    "ExecuteTime": {
     "end_time": "2020-11-15T15:11:54.379821000Z",
     "start_time": "2020-11-15T15:11:54.372Z"
    }
   },
   "outputs": [
    {
     "data": {
      "text/plain": [
       "001b\n"
      ]
     },
     "execution_count": 85,
     "metadata": {},
     "output_type": "execute_result"
    }
   ],
   "source": [
    "100<99 100 101"
   ]
  },
  {
   "cell_type": "markdown",
   "metadata": {},
   "source": [
    "_higher order functions_"
   ]
  },
  {
   "cell_type": "code",
   "execution_count": 86,
   "metadata": {
    "ExecuteTime": {
     "end_time": "2020-11-15T15:14:22.687936000Z",
     "start_time": "2020-11-15T15:14:22.686Z"
    }
   },
   "outputs": [
    {
     "data": {
      "text/plain": [
       "15\n"
      ]
     },
     "execution_count": 86,
     "metadata": {},
     "output_type": "execute_result"
    }
   ],
   "source": [
    "0 +/ 1 2 3 4 5"
   ]
  },
  {
   "cell_type": "code",
   "execution_count": 87,
   "metadata": {
    "ExecuteTime": {
     "end_time": "2020-11-15T15:14:30.046623000Z",
     "start_time": "2020-11-15T15:14:30.039Z"
    }
   },
   "outputs": [
    {
     "data": {
      "text/plain": [
       "5050\n"
      ]
     },
     "execution_count": 87,
     "metadata": {},
     "output_type": "execute_result"
    }
   ],
   "source": [
    "0 +/ 1+til 100"
   ]
  },
  {
   "cell_type": "code",
   "execution_count": 88,
   "metadata": {
    "ExecuteTime": {
     "end_time": "2020-11-15T15:14:44.991870000Z",
     "start_time": "2020-11-15T15:14:44.984Z"
    }
   },
   "outputs": [
    {
     "data": {
      "text/plain": [
       "15\n"
      ]
     },
     "execution_count": 88,
     "metadata": {},
     "output_type": "execute_result"
    }
   ],
   "source": [
    "0 {x+y}/ 1 2 3 4 5"
   ]
  },
  {
   "cell_type": "code",
   "execution_count": 89,
   "metadata": {
    "ExecuteTime": {
     "end_time": "2020-11-15T15:14:55.503620000Z",
     "start_time": "2020-11-15T15:14:55.501Z"
    }
   },
   "outputs": [
    {
     "data": {
      "text/plain": [
       "15\n"
      ]
     },
     "execution_count": 89,
     "metadata": {},
     "output_type": "execute_result"
    }
   ],
   "source": [
    "0 {x+y}/ 1 2 3 4 5"
   ]
  },
  {
   "cell_type": "code",
   "execution_count": 90,
   "metadata": {
    "ExecuteTime": {
     "end_time": "2020-11-15T15:15:14.499456000Z",
     "start_time": "2020-11-15T15:15:14.494Z"
    }
   },
   "outputs": [
    {
     "data": {
      "text/plain": [
       "15\n"
      ]
     },
     "execution_count": 90,
     "metadata": {},
     "output_type": "execute_result"
    }
   ],
   "source": [
    "(+/) 1+til 5 "
   ]
  },
  {
   "cell_type": "code",
   "execution_count": 91,
   "metadata": {
    "ExecuteTime": {
     "end_time": "2020-11-15T15:15:23.120821000Z",
     "start_time": "2020-11-15T15:15:23.118Z"
    }
   },
   "outputs": [
    {
     "data": {
      "text/plain": [
       "5050\n"
      ]
     },
     "execution_count": 91,
     "metadata": {},
     "output_type": "execute_result"
    }
   ],
   "source": [
    "(+/) 1+til 100"
   ]
  },
  {
   "cell_type": "markdown",
   "metadata": {},
   "source": [
    "_declarative programming_: focus on what you want done without the irrelevant scaffolding of how to set up control structures"
   ]
  },
  {
   "cell_type": "code",
   "execution_count": 92,
   "metadata": {
    "ExecuteTime": {
     "end_time": "2020-11-15T15:16:14.475610000Z",
     "start_time": "2020-11-15T15:16:14.473Z"
    }
   },
   "outputs": [
    {
     "data": {
      "text/plain": [
       "3628800\n"
      ]
     },
     "execution_count": 92,
     "metadata": {},
     "output_type": "execute_result"
    }
   ],
   "source": [
    "(*/) 1+til 10 /factorial"
   ]
  },
  {
   "cell_type": "markdown",
   "metadata": {},
   "source": [
    "- `|`: returns the larger of its operands\n",
    "- `&`: which returns the smaller of its operands."
   ]
  },
  {
   "cell_type": "code",
   "execution_count": 93,
   "metadata": {
    "ExecuteTime": {
     "end_time": "2020-11-15T15:18:44.347536000Z",
     "start_time": "2020-11-15T15:18:44.335Z"
    }
   },
   "outputs": [
    {
     "data": {
      "text/plain": [
       "98\n"
      ]
     },
     "execution_count": 93,
     "metadata": {},
     "output_type": "execute_result"
    }
   ],
   "source": [
    "42|98"
   ]
  },
  {
   "cell_type": "code",
   "execution_count": 94,
   "metadata": {
    "ExecuteTime": {
     "end_time": "2020-11-15T15:18:47.995714000Z",
     "start_time": "2020-11-15T15:18:47.987Z"
    }
   },
   "outputs": [
    {
     "data": {
      "text/plain": [
       "42\n"
      ]
     },
     "execution_count": 94,
     "metadata": {},
     "output_type": "execute_result"
    }
   ],
   "source": [
    "42&98"
   ]
  },
  {
   "cell_type": "code",
   "execution_count": 95,
   "metadata": {
    "ExecuteTime": {
     "end_time": "2020-11-15T15:19:02.947658000Z",
     "start_time": "2020-11-15T15:19:02.945Z"
    }
   },
   "outputs": [
    {
     "data": {
      "text/plain": [
       "40\n"
      ]
     },
     "execution_count": 95,
     "metadata": {},
     "output_type": "execute_result"
    }
   ],
   "source": [
    "(|/) 20 10 40 30  /maximum"
   ]
  },
  {
   "cell_type": "code",
   "execution_count": 96,
   "metadata": {
    "ExecuteTime": {
     "end_time": "2020-11-15T15:19:16.925560000Z",
     "start_time": "2020-11-15T15:19:16.923Z"
    }
   },
   "outputs": [
    {
     "data": {
      "text/plain": [
       "10\n"
      ]
     },
     "execution_count": 96,
     "metadata": {},
     "output_type": "execute_result"
    }
   ],
   "source": [
    "(&/) 20 10 40 30 /minimum"
   ]
  },
  {
   "cell_type": "code",
   "execution_count": 97,
   "metadata": {
    "ExecuteTime": {
     "end_time": "2020-11-15T15:19:51.690522000Z",
     "start_time": "2020-11-15T15:19:51.601Z"
    }
   },
   "outputs": [
    {
     "data": {
      "text/plain": [
       "55\n"
      ]
     },
     "execution_count": 97,
     "metadata": {},
     "output_type": "execute_result"
    },
    {
     "data": {
      "text/plain": [
       "3628800\n"
      ]
     },
     "execution_count": 97,
     "metadata": {},
     "output_type": "execute_result"
    },
    {
     "data": {
      "text/plain": [
       "40\n"
      ]
     },
     "execution_count": 97,
     "metadata": {},
     "output_type": "execute_result"
    },
    {
     "data": {
      "text/plain": [
       "10\n"
      ]
     },
     "execution_count": 97,
     "metadata": {},
     "output_type": "execute_result"
    }
   ],
   "source": [
    "/ Some applications of / are so common that they have their own names.\n",
    "sum 1+til 10 / this is +/\n",
    "prd 1+til 10 / this is */ -- note missing \"o\"\n",
    "max 20 10 40 30 / this is |/\n",
    "min 20 10 40 30 / this is &/"
   ]
  },
  {
   "cell_type": "markdown",
   "metadata": {},
   "source": [
    "Composing this with `*/` we get a multiplicative implementation of raising to a power without resorting to floating-point exponential."
   ]
  },
  {
   "cell_type": "code",
   "execution_count": 98,
   "metadata": {
    "ExecuteTime": {
     "end_time": "2020-11-15T15:21:02.894393000Z",
     "start_time": "2020-11-15T15:21:02.891Z"
    }
   },
   "outputs": [
    {
     "data": {
      "text/plain": [
       "2f\n"
      ]
     },
     "execution_count": 98,
     "metadata": {},
     "output_type": "execute_result"
    }
   ],
   "source": [
    "(*/) 2#1.4142135623730949"
   ]
  },
  {
   "cell_type": "code",
   "execution_count": 99,
   "metadata": {
    "ExecuteTime": {
     "end_time": "2020-11-15T15:21:08.290334000Z",
     "start_time": "2020-11-15T15:21:08.284Z"
    }
   },
   "outputs": [],
   "source": [
    "n:5"
   ]
  },
  {
   "cell_type": "code",
   "execution_count": 100,
   "metadata": {
    "ExecuteTime": {
     "end_time": "2020-11-15T15:21:13.458029000Z",
     "start_time": "2020-11-15T15:21:13.451Z"
    }
   },
   "outputs": [
    {
     "data": {
      "text/plain": [
       "100000\n"
      ]
     },
     "execution_count": 100,
     "metadata": {},
     "output_type": "execute_result"
    }
   ],
   "source": [
    "(*/) n#10"
   ]
  },
  {
   "cell_type": "markdown",
   "metadata": {},
   "source": [
    "The higher-order function sibling to Over is Scan, written `\\`. The process of Scan is the same as that of Over with one difference: instead of returning only the final result of the accumulation, it returns all intermediate values."
   ]
  },
  {
   "cell_type": "code",
   "execution_count": 101,
   "metadata": {
    "ExecuteTime": {
     "end_time": "2020-11-15T15:22:14.258633000Z",
     "start_time": "2020-11-15T15:22:14.248Z"
    }
   },
   "outputs": [
    {
     "data": {
      "text/plain": [
       "1 3 6 10 15 21 28 36 45 55\n"
      ]
     },
     "execution_count": 101,
     "metadata": {},
     "output_type": "execute_result"
    },
    {
     "data": {
      "text/plain": [
       "1 2 6 24 120 720 5040 40320 362880 3628800\n"
      ]
     },
     "execution_count": 101,
     "metadata": {},
     "output_type": "execute_result"
    },
    {
     "data": {
      "text/plain": [
       "20 20 40 40\n"
      ]
     },
     "execution_count": 101,
     "metadata": {},
     "output_type": "execute_result"
    },
    {
     "data": {
      "text/plain": [
       "20 10 10 10\n"
      ]
     },
     "execution_count": 101,
     "metadata": {},
     "output_type": "execute_result"
    }
   ],
   "source": [
    "(+\\) 1+til 10\n",
    "(*\\) 1+til 10\n",
    "(|\\) 20 10 40 30\n",
    "(&\\) 20 10 40 30"
   ]
  },
  {
   "cell_type": "code",
   "execution_count": 102,
   "metadata": {
    "ExecuteTime": {
     "end_time": "2020-11-15T15:22:38.560321000Z",
     "start_time": "2020-11-15T15:22:38.548Z"
    }
   },
   "outputs": [
    {
     "data": {
      "text/plain": [
       "1 3 6 10 15 21 28 36 45 55\n"
      ]
     },
     "execution_count": 102,
     "metadata": {},
     "output_type": "execute_result"
    },
    {
     "data": {
      "text/plain": [
       "1 2 6 24 120 720 5040 40320 362880 3628800\n"
      ]
     },
     "execution_count": 102,
     "metadata": {},
     "output_type": "execute_result"
    },
    {
     "data": {
      "text/plain": [
       "20 20 40 40\n"
      ]
     },
     "execution_count": 102,
     "metadata": {},
     "output_type": "execute_result"
    },
    {
     "data": {
      "text/plain": [
       "20 10 10 10\n"
      ]
     },
     "execution_count": 102,
     "metadata": {},
     "output_type": "execute_result"
    }
   ],
   "source": [
    "sums 1+til 10 / this is +\\\n",
    "prds 1+til 10 / this is *\\ / note missing 'o'\n",
    "maxs 20 10 40 30 / this is |\\\n",
    "mins 20 10 40 30 / this is &\\"
   ]
  },
  {
   "cell_type": "markdown",
   "metadata": {},
   "source": [
    "## Example: Fibonacci Numbers"
   ]
  },
  {
   "cell_type": "code",
   "execution_count": 103,
   "metadata": {
    "ExecuteTime": {
     "end_time": "2020-11-15T15:24:18.339109000Z",
     "start_time": "2020-11-15T15:24:18.337Z"
    }
   },
   "outputs": [],
   "source": [
    "F0:1 1"
   ]
  },
  {
   "cell_type": "code",
   "execution_count": 104,
   "metadata": {
    "ExecuteTime": {
     "end_time": "2020-11-15T15:24:34.122078000Z",
     "start_time": "2020-11-15T15:24:34.114Z"
    }
   },
   "outputs": [
    {
     "data": {
      "text/plain": [
       "1 1\n"
      ]
     },
     "execution_count": 104,
     "metadata": {},
     "output_type": "execute_result"
    }
   ],
   "source": [
    "-2#F0"
   ]
  },
  {
   "cell_type": "code",
   "execution_count": 105,
   "metadata": {
    "ExecuteTime": {
     "end_time": "2020-11-15T15:24:40.915732000Z",
     "start_time": "2020-11-15T15:24:40.908Z"
    }
   },
   "outputs": [
    {
     "data": {
      "text/plain": [
       "2\n"
      ]
     },
     "execution_count": 105,
     "metadata": {},
     "output_type": "execute_result"
    }
   ],
   "source": [
    "sum -2#F0"
   ]
  },
  {
   "cell_type": "code",
   "execution_count": 106,
   "metadata": {
    "ExecuteTime": {
     "end_time": "2020-11-15T15:24:45.331856000Z",
     "start_time": "2020-11-15T15:24:45.329Z"
    }
   },
   "outputs": [
    {
     "data": {
      "text/plain": [
       "1 1 2\n"
      ]
     },
     "execution_count": 106,
     "metadata": {},
     "output_type": "execute_result"
    }
   ],
   "source": [
    "F0,sum -2#F0"
   ]
  },
  {
   "cell_type": "code",
   "execution_count": 107,
   "metadata": {
    "ExecuteTime": {
     "end_time": "2020-11-15T15:24:54.035561000Z",
     "start_time": "2020-11-15T15:24:54.028Z"
    }
   },
   "outputs": [
    {
     "data": {
      "text/plain": [
       "{x,sum -2#x}\n"
      ]
     },
     "execution_count": 107,
     "metadata": {},
     "output_type": "execute_result"
    }
   ],
   "source": [
    "{x,sum -2#x}"
   ]
  },
  {
   "cell_type": "code",
   "execution_count": 108,
   "metadata": {
    "ExecuteTime": {
     "end_time": "2020-11-15T15:24:59.873528000Z",
     "start_time": "2020-11-15T15:24:59.866Z"
    }
   },
   "outputs": [
    {
     "data": {
      "text/plain": [
       "1 1 2\n"
      ]
     },
     "execution_count": 108,
     "metadata": {},
     "output_type": "execute_result"
    }
   ],
   "source": [
    "{x,sum -2#x}[1 1]"
   ]
  },
  {
   "cell_type": "code",
   "execution_count": 109,
   "metadata": {
    "ExecuteTime": {
     "end_time": "2020-11-15T15:25:04.945295000Z",
     "start_time": "2020-11-15T15:25:04.942Z"
    }
   },
   "outputs": [
    {
     "data": {
      "text/plain": [
       "1 1 2 3\n"
      ]
     },
     "execution_count": 109,
     "metadata": {},
     "output_type": "execute_result"
    }
   ],
   "source": [
    "{x,sum -2#x}[1 1 2]"
   ]
  },
  {
   "cell_type": "markdown",
   "metadata": {},
   "source": [
    "There is an overload of our friend `/` that does exactly this. Specify the base case and the number of times to iterate the recursion and it’s done."
   ]
  },
  {
   "cell_type": "code",
   "execution_count": 112,
   "metadata": {
    "ExecuteTime": {
     "end_time": "2020-11-15T15:25:42.766565000Z",
     "start_time": "2020-11-15T15:25:42.755Z"
    }
   },
   "outputs": [
    {
     "data": {
      "text/plain": [
       "1 1 2 3 5 8 13 21 34 55 89 144\n"
      ]
     },
     "execution_count": 112,
     "metadata": {},
     "output_type": "execute_result"
    }
   ],
   "source": [
    "10 {x,sum -2#x}/ 1 1"
   ]
  },
  {
   "cell_type": "markdown",
   "metadata": {},
   "source": [
    "## Example: Newton's Method for $n^{th}$ Roots"
   ]
  },
  {
   "cell_type": "markdown",
   "metadata": {},
   "source": [
    "Let's use this procedure to compute the square root of 2 . The function whose zero we need to find is $f(x)=x^{2}-2$. The formula for successive approximation involves the derivative of $f,$ which is $f^{\\prime}(x)=2^{\\star} x$"
   ]
  },
  {
   "cell_type": "code",
   "execution_count": 114,
   "metadata": {
    "ExecuteTime": {
     "end_time": "2020-11-15T15:27:54.575038000Z",
     "start_time": "2020-11-15T15:27:54.567Z"
    }
   },
   "outputs": [
    {
     "data": {
      "text/plain": [
       "1.5\n"
      ]
     },
     "execution_count": 114,
     "metadata": {},
     "output_type": "execute_result"
    }
   ],
   "source": [
    "x0:1.0\n",
    "x0-((x0*x0)-2)%2*x0"
   ]
  },
  {
   "cell_type": "code",
   "execution_count": 115,
   "metadata": {
    "ExecuteTime": {
     "end_time": "2020-11-15T15:28:01.024065000Z",
     "start_time": "2020-11-15T15:28:01.022Z"
    }
   },
   "outputs": [
    {
     "data": {
      "text/plain": [
       "{[xn] xn-((xn*xn)-2)%2*xn}\n"
      ]
     },
     "execution_count": 115,
     "metadata": {},
     "output_type": "execute_result"
    }
   ],
   "source": [
    "{[xn] xn-((xn*xn)-2)%2*xn}"
   ]
  },
  {
   "cell_type": "code",
   "execution_count": 116,
   "metadata": {
    "ExecuteTime": {
     "end_time": "2020-11-15T15:28:08.839033000Z",
     "start_time": "2020-11-15T15:28:08.831Z"
    }
   },
   "outputs": [
    {
     "data": {
      "text/plain": [
       "1.5\n"
      ]
     },
     "execution_count": 116,
     "metadata": {},
     "output_type": "execute_result"
    }
   ],
   "source": [
    "{[xn] xn-((xn*xn)-2)%2*xn}[1.0]"
   ]
  },
  {
   "cell_type": "code",
   "execution_count": 117,
   "metadata": {
    "ExecuteTime": {
     "end_time": "2020-11-15T15:28:13.475469000Z",
     "start_time": "2020-11-15T15:28:13.473Z"
    }
   },
   "outputs": [
    {
     "data": {
      "text/plain": [
       "1.416667\n"
      ]
     },
     "execution_count": 117,
     "metadata": {},
     "output_type": "execute_result"
    }
   ],
   "source": [
    "{[xn] xn-((xn*xn)-2)%2*xn}[1.5]"
   ]
  },
  {
   "cell_type": "markdown",
   "metadata": {},
   "source": [
    "Wouldn't it be nice of q had a higher-order function to apply a function recursively, starting at the base case, until the output converges? You won't be surprised that there is another overload of our friend Over that does exactly this. Just specify the base\n",
    "case and $\\mathrm{q}$ iterates until the result converges within the system comparison tolerance (as of this writing - Sep 2015 - that tolerance is $10^{-14}$ )"
   ]
  },
  {
   "cell_type": "code",
   "execution_count": 118,
   "metadata": {
    "ExecuteTime": {
     "end_time": "2020-11-15T15:28:19.924080000Z",
     "start_time": "2020-11-15T15:28:19.921Z"
    }
   },
   "outputs": [
    {
     "data": {
      "text/plain": [
       "1.414214\n"
      ]
     },
     "execution_count": 118,
     "metadata": {},
     "output_type": "execute_result"
    }
   ],
   "source": [
    "{[xn] xn-((xn*xn)-2)%2*xn}/[1.5]"
   ]
  },
  {
   "cell_type": "markdown",
   "metadata": {},
   "source": [
    "To witness the convergence, do two things. First, set the floating point display to maximum.\n",
    "- This displays all digits of the underlying binary representation, including the 17th digit, which is usually schmutz."
   ]
  },
  {
   "cell_type": "code",
   "execution_count": 119,
   "metadata": {
    "ExecuteTime": {
     "end_time": "2020-11-15T15:29:18.627911000Z",
     "start_time": "2020-11-15T15:29:18.626Z"
    }
   },
   "outputs": [],
   "source": [
    "\\P 0 / note upper case P"
   ]
  },
  {
   "cell_type": "code",
   "execution_count": 120,
   "metadata": {
    "ExecuteTime": {
     "end_time": "2020-11-15T15:29:37.190417000Z",
     "start_time": "2020-11-15T15:29:37.182Z"
    }
   },
   "outputs": [
    {
     "data": {
      "text/plain": [
       "1 1.5 1.4166666666666667 1.4142156862745099 1.4142135623746899 1.414213562373..\n"
      ]
     },
     "execution_count": 120,
     "metadata": {},
     "output_type": "execute_result"
    }
   ],
   "source": [
    "{[xn] xn-((xn*xn)-2)%2*xn}\\[1.0]"
   ]
  },
  {
   "cell_type": "markdown",
   "metadata": {},
   "source": [
    "Abstracting the constant 2 into a parameter _c_ in the function _f_"
   ]
  },
  {
   "cell_type": "code",
   "execution_count": 121,
   "metadata": {
    "ExecuteTime": {
     "end_time": "2020-11-15T15:32:09.060539000Z",
     "start_time": "2020-11-15T15:32:09.058Z"
    }
   },
   "outputs": [
    {
     "data": {
      "text/plain": [
       "{[c; xn] xn-((xn*xn)-c)%2*xn}\n"
      ]
     },
     "execution_count": 121,
     "metadata": {},
     "output_type": "execute_result"
    }
   ],
   "source": [
    "{[c; xn] xn-((xn*xn)-c)%2*xn}"
   ]
  },
  {
   "cell_type": "markdown",
   "metadata": {},
   "source": [
    "_currying_ in functional programming, called _projection_ in q, in which we only partially supply arguments to a function."
   ]
  },
  {
   "cell_type": "code",
   "execution_count": 122,
   "metadata": {
    "ExecuteTime": {
     "end_time": "2020-11-15T15:32:58.156890000Z",
     "start_time": "2020-11-15T15:32:58.149Z"
    }
   },
   "outputs": [
    {
     "data": {
      "text/plain": [
       "{[c; xn] xn-((xn*xn)-c)%2*xn}[2f;]\n"
      ]
     },
     "execution_count": 122,
     "metadata": {},
     "output_type": "execute_result"
    }
   ],
   "source": [
    "{[c; xn] xn-((xn*xn)-c)%2*xn}[2.0;]"
   ]
  },
  {
   "cell_type": "code",
   "execution_count": 123,
   "metadata": {
    "ExecuteTime": {
     "end_time": "2020-11-15T15:33:09.616880000Z",
     "start_time": "2020-11-15T15:33:09.615Z"
    }
   },
   "outputs": [
    {
     "data": {
      "text/plain": [
       "1.4142135623730951\n"
      ]
     },
     "execution_count": 123,
     "metadata": {},
     "output_type": "execute_result"
    }
   ],
   "source": [
    "{[c; xn] xn-((xn*xn)-c)%2*xn}[2.0;]/[1.0]"
   ]
  },
  {
   "cell_type": "code",
   "execution_count": 124,
   "metadata": {
    "ExecuteTime": {
     "end_time": "2020-11-15T15:33:20.321836000Z",
     "start_time": "2020-11-15T15:33:20.314Z"
    }
   },
   "outputs": [
    {
     "data": {
      "text/plain": [
       "1.7320508075688772\n"
      ]
     },
     "execution_count": 124,
     "metadata": {},
     "output_type": "execute_result"
    }
   ],
   "source": [
    "{[c; xn] xn-((xn*xn)-c)%2*xn}[3.0;]/[1.0]"
   ]
  },
  {
   "cell_type": "markdown",
   "metadata": {},
   "source": [
    "One more abstraction"
   ]
  },
  {
   "cell_type": "code",
   "execution_count": 125,
   "metadata": {
    "ExecuteTime": {
     "end_time": "2020-11-15T15:34:07.717297000Z",
     "start_time": "2020-11-15T15:34:07.713Z"
    }
   },
   "outputs": [
    {
     "data": {
      "text/plain": [
       "_[{[p; c; xn] xn-(((*/)p#xn)-c)%p*(*/)(p-1)#xn}]\n"
      ]
     },
     "execution_count": 125,
     "metadata": {},
     "output_type": "execute_result"
    }
   ],
   "source": [
    "{[p; c; xn] xn-(((*/)p#xn)-c)%p*(*/)(p-1)#xn}_"
   ]
  },
  {
   "cell_type": "code",
   "execution_count": 126,
   "metadata": {
    "ExecuteTime": {
     "end_time": "2020-11-15T15:34:13.117175000Z",
     "start_time": "2020-11-15T15:34:13.109Z"
    }
   },
   "outputs": [
    {
     "data": {
      "text/plain": [
       "1.7320508075688772\n"
      ]
     },
     "execution_count": 126,
     "metadata": {},
     "output_type": "execute_result"
    }
   ],
   "source": [
    "{[p; c; xn] xn-(((*/)p#xn)-c)%p*(*/)(p-1)#xn}[2; 3.0;]/[1.0]"
   ]
  },
  {
   "cell_type": "code",
   "execution_count": 127,
   "metadata": {
    "ExecuteTime": {
     "end_time": "2020-11-15T15:34:23.514073000Z",
     "start_time": "2020-11-15T15:34:23.505Z"
    }
   },
   "outputs": [
    {
     "data": {
      "text/plain": [
       "1.4757731615945617\n"
      ]
     },
     "execution_count": 127,
     "metadata": {},
     "output_type": "execute_result"
    }
   ],
   "source": [
    "{[p; c; xn] xn-(((*/)p#xn)-c)%p*(*/)(p-1)#xn}[5; 7.0;]/[1.0] / calculate 5th root of 7"
   ]
  },
  {
   "cell_type": "markdown",
   "metadata": {},
   "source": [
    "## Example: FIFO Allocation"
   ]
  },
  {
   "cell_type": "code",
   "execution_count": 128,
   "metadata": {
    "ExecuteTime": {
     "end_time": "2020-11-15T15:35:54.042114000Z",
     "start_time": "2020-11-15T15:35:54.038Z"
    }
   },
   "outputs": [
    {
     "data": {
      "text/plain": [
       "2 1 4 3 2 0f\n"
      ]
     },
     "execution_count": 128,
     "metadata": {},
     "output_type": "execute_result"
    }
   ],
   "source": [
    "buys: 2 1 4 3 5 4f\n",
    "sell: 12f\n",
    "deltas sell&sums buys"
   ]
  },
  {
   "cell_type": "code",
   "execution_count": 132,
   "metadata": {
    "ExecuteTime": {
     "end_time": "2020-11-15T15:40:02.172851000Z",
     "start_time": "2020-11-15T15:40:02.170Z"
    }
   },
   "outputs": [],
   "source": [
    "buys:2 1 4 3 5 4f\n",
    "sells:2 4 3 2"
   ]
  },
  {
   "cell_type": "code",
   "execution_count": 140,
   "metadata": {
    "ExecuteTime": {
     "end_time": "2020-11-15T15:43:53.746333000Z",
     "start_time": "2020-11-15T15:43:53.735Z"
    }
   },
   "outputs": [
    {
     "data": {
      "text/plain": [
       "2 3 7 10 15 19f\n"
      ]
     },
     "execution_count": 140,
     "metadata": {},
     "output_type": "execute_result"
    },
    {
     "data": {
      "text/plain": [
       "2 6 9 11\n"
      ]
     },
     "execution_count": 140,
     "metadata": {},
     "output_type": "execute_result"
    }
   ],
   "source": [
    "sums [buys]\n",
    "sums [sells]"
   ]
  },
  {
   "cell_type": "code",
   "execution_count": 134,
   "metadata": {
    "ExecuteTime": {
     "end_time": "2020-11-15T15:40:28.325156000Z",
     "start_time": "2020-11-15T15:40:28.314Z"
    }
   },
   "outputs": [
    {
     "data": {
      "text/plain": [
       "2 2 2 2 2 2f\n"
      ]
     },
     "execution_count": 134,
     "metadata": {},
     "output_type": "execute_result"
    },
    {
     "data": {
      "text/plain": [
       "2 3 6 6 6 6f\n"
      ]
     },
     "execution_count": 134,
     "metadata": {},
     "output_type": "execute_result"
    },
    {
     "data": {
      "text/plain": [
       "2 3 7 9 9 9f\n"
      ]
     },
     "execution_count": 134,
     "metadata": {},
     "output_type": "execute_result"
    },
    {
     "data": {
      "text/plain": [
       "2 3 7 10 11 11f\n"
      ]
     },
     "execution_count": 134,
     "metadata": {},
     "output_type": "execute_result"
    }
   ],
   "source": [
    "2&sums[buys]\n",
    "6&sums[buys]\n",
    "9&sums[buys]\n",
    "11&sums[buys]"
   ]
  },
  {
   "cell_type": "markdown",
   "metadata": {},
   "source": [
    "_Each Left_: and it has the funky notation `\\:`. We use it to accomplish in a single operation the four individual $\\&$ operations above."
   ]
  },
  {
   "cell_type": "code",
   "execution_count": 139,
   "metadata": {
    "ExecuteTime": {
     "end_time": "2020-11-15T15:43:34.863849000Z",
     "start_time": "2020-11-15T15:43:34.861Z"
    }
   },
   "outputs": [
    {
     "data": {
      "text/plain": [
       "2 2 2 2  2  2 \n",
       "2 3 6 6  6  6 \n",
       "2 3 7 9  9  9 \n",
       "2 3 7 10 11 11\n"
      ]
     },
     "execution_count": 139,
     "metadata": {},
     "output_type": "execute_result"
    }
   ],
   "source": [
    "sums [sells] &\\: sums [buys]"
   ]
  },
  {
   "cell_type": "markdown",
   "metadata": {},
   "source": [
    "apply `deltas` to unwind the allocation in the vertical direction."
   ]
  },
  {
   "cell_type": "code",
   "execution_count": 141,
   "metadata": {
    "ExecuteTime": {
     "end_time": "2020-11-15T15:44:14.810345000Z",
     "start_time": "2020-11-15T15:44:14.803Z"
    }
   },
   "outputs": [
    {
     "data": {
      "text/plain": [
       "2 2 2 2 2 2\n",
       "0 1 4 4 4 4\n",
       "0 0 1 3 3 3\n",
       "0 0 0 1 2 2\n"
      ]
     },
     "execution_count": 141,
     "metadata": {},
     "output_type": "execute_result"
    }
   ],
   "source": [
    "deltas sums [sells] &\\: sums [buys]"
   ]
  },
  {
   "cell_type": "markdown",
   "metadata": {},
   "source": [
    "apply `each` to unwind the allocation across the rows"
   ]
  },
  {
   "cell_type": "code",
   "execution_count": 142,
   "metadata": {
    "ExecuteTime": {
     "end_time": "2020-11-15T15:45:33.245291000Z",
     "start_time": "2020-11-15T15:45:33.237Z"
    }
   },
   "outputs": [
    {
     "data": {
      "text/plain": [
       "1 2 3\n",
       "10 20\n"
      ]
     },
     "execution_count": 142,
     "metadata": {},
     "output_type": "execute_result"
    },
    {
     "data": {
      "text/plain": [
       "2\n"
      ]
     },
     "execution_count": 142,
     "metadata": {},
     "output_type": "execute_result"
    },
    {
     "data": {
      "text/plain": [
       "3 2\n"
      ]
     },
     "execution_count": 142,
     "metadata": {},
     "output_type": "execute_result"
    }
   ],
   "source": [
    "(1 2 3; 10 20)\n",
    "count (1 2 3; 10 20)\n",
    "count each (1 2 3; 10 20)"
   ]
  },
  {
   "cell_type": "code",
   "execution_count": 143,
   "metadata": {
    "ExecuteTime": {
     "end_time": "2020-11-15T15:45:46.219881000Z",
     "start_time": "2020-11-15T15:45:46.217Z"
    }
   },
   "outputs": [
    {
     "data": {
      "text/plain": [
       "2 0 0 0 0 0\n",
       "0 1 3 0 0 0\n",
       "0 0 1 2 0 0\n",
       "0 0 0 1 1 0\n"
      ]
     },
     "execution_count": 143,
     "metadata": {},
     "output_type": "execute_result"
    }
   ],
   "source": [
    "deltas each deltas sums[sells] &\\: sums[buys]"
   ]
  },
  {
   "cell_type": "markdown",
   "metadata": {},
   "source": [
    "## Dictionaries and Tables 101"
   ]
  },
  {
   "cell_type": "markdown",
   "metadata": {},
   "source": [
    "A dictionary is constructed from two lists of the same length using the `!` operator. The left operand is the list of (presumably unique, though unenforced) _keys_ and the right operand is the list of _values_. A dictionary is a first-class value, just like an integer or list and can be assigned to a variable."
   ]
  },
  {
   "cell_type": "code",
   "execution_count": 144,
   "metadata": {
    "ExecuteTime": {
     "end_time": "2020-11-15T15:46:30.764901000Z",
     "start_time": "2020-11-15T15:46:30.763Z"
    }
   },
   "outputs": [
    {
     "data": {
      "text/plain": [
       "a| 10\n",
       "b| 20\n",
       "c| 30\n"
      ]
     },
     "execution_count": 144,
     "metadata": {},
     "output_type": "execute_result"
    }
   ],
   "source": [
    "`a`b`c!10 20 30"
   ]
  },
  {
   "cell_type": "code",
   "execution_count": 145,
   "metadata": {
    "ExecuteTime": {
     "end_time": "2020-11-15T15:47:29.875466000Z",
     "start_time": "2020-11-15T15:47:29.867Z"
    }
   },
   "outputs": [
    {
     "data": {
      "text/plain": [
       "10\n"
      ]
     },
     "execution_count": 145,
     "metadata": {},
     "output_type": "execute_result"
    }
   ],
   "source": [
    "d:`a`b`c!10 20 30\n",
    "d[`a]"
   ]
  },
  {
   "cell_type": "markdown",
   "metadata": {},
   "source": [
    "A useful class of dictionary has as keys a simple list of symbols and as values a list of lists of uniform length. We think of such a dictionary as a named collection of columns and call it a column dictionary."
   ]
  },
  {
   "cell_type": "code",
   "execution_count": 146,
   "metadata": {
    "ExecuteTime": {
     "end_time": "2020-11-15T15:47:47.370887000Z",
     "start_time": "2020-11-15T15:47:47.363Z"
    }
   },
   "outputs": [
    {
     "data": {
      "text/plain": [
       "c1| 10                 20                 30                \n",
       "c2| 1.1000000000000001 2.2000000000000002 3.2999999999999998\n"
      ]
     },
     "execution_count": 146,
     "metadata": {},
     "output_type": "execute_result"
    }
   ],
   "source": [
    "`c1`c2!(10 20 30; 1.1 2.2 3.3)"
   ]
  },
  {
   "cell_type": "code",
   "execution_count": 147,
   "metadata": {
    "ExecuteTime": {
     "end_time": "2020-11-15T15:47:53.863596000Z",
     "start_time": "2020-11-15T15:47:53.857Z"
    }
   },
   "outputs": [],
   "source": [
    "dc: `c1`c2!(10 20 30; 1.1 2.2 3.3)"
   ]
  },
  {
   "cell_type": "code",
   "execution_count": 148,
   "metadata": {
    "ExecuteTime": {
     "end_time": "2020-11-15T15:47:59.052438000Z",
     "start_time": "2020-11-15T15:47:59.045Z"
    }
   },
   "outputs": [
    {
     "data": {
      "text/plain": [
       "10 20 30\n"
      ]
     },
     "execution_count": 148,
     "metadata": {},
     "output_type": "execute_result"
    }
   ],
   "source": [
    "dc[`c1]"
   ]
  },
  {
   "cell_type": "code",
   "execution_count": 149,
   "metadata": {
    "ExecuteTime": {
     "end_time": "2020-11-15T15:48:03.332531000Z",
     "start_time": "2020-11-15T15:48:03.325Z"
    }
   },
   "outputs": [
    {
     "data": {
      "text/plain": [
       "10\n"
      ]
     },
     "execution_count": 149,
     "metadata": {},
     "output_type": "execute_result"
    }
   ],
   "source": [
    "dc[`c1][0]"
   ]
  },
  {
   "cell_type": "code",
   "execution_count": 150,
   "metadata": {
    "ExecuteTime": {
     "end_time": "2020-11-15T15:48:07.561448000Z",
     "start_time": "2020-11-15T15:48:07.554Z"
    }
   },
   "outputs": [
    {
     "data": {
      "text/plain": [
       "2.2000000000000002\n"
      ]
     },
     "execution_count": 150,
     "metadata": {},
     "output_type": "execute_result"
    }
   ],
   "source": [
    "dc[`c2][1]"
   ]
  },
  {
   "cell_type": "markdown",
   "metadata": {},
   "source": [
    "Whenever such iterated indexing of nested entities arises in q, there is an equivalent syntactic form, called _indexing at depth_, to make things a bit more readable."
   ]
  },
  {
   "cell_type": "code",
   "execution_count": 153,
   "metadata": {
    "ExecuteTime": {
     "end_time": "2020-11-15T15:48:42.151601000Z",
     "start_time": "2020-11-15T15:48:42.146Z"
    }
   },
   "outputs": [
    {
     "data": {
      "text/plain": [
       "10\n"
      ]
     },
     "execution_count": 153,
     "metadata": {},
     "output_type": "execute_result"
    },
    {
     "data": {
      "text/plain": [
       "10\n"
      ]
     },
     "execution_count": 153,
     "metadata": {},
     "output_type": "execute_result"
    },
    {
     "data": {
      "text/plain": [
       "20\n"
      ]
     },
     "execution_count": 153,
     "metadata": {},
     "output_type": "execute_result"
    },
    {
     "data": {
      "text/plain": [
       "30\n"
      ]
     },
     "execution_count": 153,
     "metadata": {},
     "output_type": "execute_result"
    }
   ],
   "source": [
    "dc[`c1][0]\n",
    "dc[`c1; 0]\n",
    "dc[`c1; 1]\n",
    "dc[`c1; 2]"
   ]
  },
  {
   "cell_type": "code",
   "execution_count": 155,
   "metadata": {
    "ExecuteTime": {
     "end_time": "2020-11-15T15:49:53.711337000Z",
     "start_time": "2020-11-15T15:49:53.699Z"
    }
   },
   "outputs": [
    {
     "data": {
      "text/plain": [
       "10 20 30\n"
      ]
     },
     "execution_count": 155,
     "metadata": {},
     "output_type": "execute_result"
    },
    {
     "data": {
      "text/plain": [
       "10 20 30\n"
      ]
     },
     "execution_count": 155,
     "metadata": {},
     "output_type": "execute_result"
    },
    {
     "data": {
      "text/plain": [
       "1.1000000000000001 2.2000000000000002 3.2999999999999998\n"
      ]
     },
     "execution_count": 155,
     "metadata": {},
     "output_type": "execute_result"
    }
   ],
   "source": [
    "dc[`c1]\n",
    "dc[`c1;]\n",
    "dc[`c2;]"
   ]
  },
  {
   "cell_type": "markdown",
   "metadata": {},
   "source": [
    "built-in operator `flip` (better called “transpose”) to reverse the order of indexing"
   ]
  },
  {
   "cell_type": "code",
   "execution_count": 156,
   "metadata": {
    "ExecuteTime": {
     "end_time": "2020-11-15T15:51:57.414875000Z",
     "start_time": "2020-11-15T15:51:57.413Z"
    }
   },
   "outputs": [],
   "source": [
    "t:flip `c1`c2!(10 20 30; 1.1 2.2 3.3)"
   ]
  },
  {
   "cell_type": "code",
   "execution_count": 157,
   "metadata": {
    "ExecuteTime": {
     "end_time": "2020-11-15T15:52:18.593739000Z",
     "start_time": "2020-11-15T15:52:18.591Z"
    }
   },
   "outputs": [
    {
     "data": {
      "text/plain": [
       "10\n"
      ]
     },
     "execution_count": 157,
     "metadata": {},
     "output_type": "execute_result"
    },
    {
     "data": {
      "text/plain": [
       "20\n"
      ]
     },
     "execution_count": 157,
     "metadata": {},
     "output_type": "execute_result"
    },
    {
     "data": {
      "text/plain": [
       "30\n"
      ]
     },
     "execution_count": 157,
     "metadata": {},
     "output_type": "execute_result"
    },
    {
     "data": {
      "text/plain": [
       "1.1000000000000001\n"
      ]
     },
     "execution_count": 157,
     "metadata": {},
     "output_type": "execute_result"
    }
   ],
   "source": [
    "t[0; `c1]\n",
    "t[1; `c1]\n",
    "t[2; `c1]\n",
    "t[0; `c2]"
   ]
  },
  {
   "cell_type": "code",
   "execution_count": 159,
   "metadata": {
    "ExecuteTime": {
     "end_time": "2020-11-15T15:52:31.480505000Z",
     "start_time": "2020-11-15T15:52:31.478Z"
    }
   },
   "outputs": [
    {
     "data": {
      "text/plain": [
       "10 20 30\n"
      ]
     },
     "execution_count": 159,
     "metadata": {},
     "output_type": "execute_result"
    },
    {
     "data": {
      "text/plain": [
       "c1| 10\n",
       "c2| 1.1000000000000001\n"
      ]
     },
     "execution_count": 159,
     "metadata": {},
     "output_type": "execute_result"
    }
   ],
   "source": [
    "t[; `c1]\n",
    "t[0;]"
   ]
  },
  {
   "cell_type": "markdown",
   "metadata": {},
   "source": [
    "We emphasize that **the data is still stored as a column dictionary under the covers**; only the indexing slots are affected."
   ]
  },
  {
   "cell_type": "code",
   "execution_count": 160,
   "metadata": {
    "ExecuteTime": {
     "end_time": "2020-11-15T15:53:23.499494000Z",
     "start_time": "2020-11-15T15:53:23.491Z"
    }
   },
   "outputs": [
    {
     "data": {
      "text/plain": [
       "c1 c2                \n",
       "---------------------\n",
       "10 1.1000000000000001\n",
       "20 2.2000000000000002\n",
       "30 3.2999999999999998\n"
      ]
     },
     "execution_count": 160,
     "metadata": {},
     "output_type": "execute_result"
    }
   ],
   "source": [
    "flip `c1`c2!(10 20 30; 1.1 2.2 3.3)"
   ]
  },
  {
   "cell_type": "markdown",
   "metadata": {},
   "source": [
    "A flipped column dictionary, called a _table_, is a first-class entity in q."
   ]
  },
  {
   "cell_type": "code",
   "execution_count": 162,
   "metadata": {
    "ExecuteTime": {
     "end_time": "2020-11-15T15:54:35.115521000Z",
     "start_time": "2020-11-15T15:54:35.112Z"
    }
   },
   "outputs": [
    {
     "data": {
      "text/plain": [
       "c1| 10\n",
       "c2| 1.1000000000000001\n"
      ]
     },
     "execution_count": 162,
     "metadata": {},
     "output_type": "execute_result"
    },
    {
     "data": {
      "text/plain": [
       "c1| 20\n",
       "c2| 2.2000000000000002\n"
      ]
     },
     "execution_count": 162,
     "metadata": {},
     "output_type": "execute_result"
    },
    {
     "data": {
      "text/plain": [
       "c1| 30\n",
       "c2| 3.2999999999999998\n"
      ]
     },
     "execution_count": 162,
     "metadata": {},
     "output_type": "execute_result"
    }
   ],
   "source": [
    "t[0]\n",
    "t[1]\n",
    "t[2]"
   ]
  },
  {
   "cell_type": "markdown",
   "metadata": {},
   "source": [
    "- A table is a flipped column dictionary.\n",
    "- It is also a list of record dictionaries."
   ]
  },
  {
   "cell_type": "markdown",
   "metadata": {},
   "source": [
    "A convenient syntax that puts the names together with the columns. The notation looks a bit odd at first but it will seem more reasonable when we encounter keyed tables later."
   ]
  },
  {
   "cell_type": "code",
   "execution_count": 163,
   "metadata": {
    "ExecuteTime": {
     "end_time": "2020-11-15T15:55:58.637756000Z",
     "start_time": "2020-11-15T15:55:58.635Z"
    }
   },
   "outputs": [
    {
     "data": {
      "text/plain": [
       "c1 c2                \n",
       "---------------------\n",
       "10 1.1000000000000001\n",
       "20 2.2000000000000002\n",
       "30 3.2999999999999998\n"
      ]
     },
     "execution_count": 163,
     "metadata": {},
     "output_type": "execute_result"
    }
   ],
   "source": [
    "([] c1:10 20 30; c2:1.1 2.2 3.3)"
   ]
  },
  {
   "cell_type": "markdown",
   "metadata": {},
   "source": [
    "- The square brackets are necessary to differentiate a table from a list\n",
    "- The occurrence of `:` is **not** assignment. It is merely a syntactic marker separating the name from the column values\n",
    "- The column names in table definition are **not** symbols, although they are converted to symbols under the covers."
   ]
  },
  {
   "cell_type": "markdown",
   "metadata": {},
   "source": [
    "## q-sql 101"
   ]
  },
  {
   "cell_type": "markdown",
   "metadata": {},
   "source": [
    "Whereas SQL SELECT operates on fields on a row-by-row basis, select performs vector operations on column lists. Insisting on thinking in rows with q tables will end in tears."
   ]
  },
  {
   "cell_type": "code",
   "execution_count": 164,
   "metadata": {
    "ExecuteTime": {
     "end_time": "2020-11-15T17:08:03.602487000Z",
     "start_time": "2020-11-15T17:08:03.600Z"
    }
   },
   "outputs": [
    {
     "data": {
      "text/plain": [
       "c1   c2 c3\n",
       "----------\n",
       "1000 a  10\n",
       "1001 b  20\n",
       "1002 c  30\n",
       "1003 a  40\n",
       "1004 b  50\n",
       "1005 a  60\n"
      ]
     },
     "execution_count": 164,
     "metadata": {},
     "output_type": "execute_result"
    }
   ],
   "source": [
    "t:([] c1:1000+til 6; c2:`a`b`c`a`b`a; c3:10*1+til 6)\n",
    "t"
   ]
  },
  {
   "cell_type": "code",
   "execution_count": 166,
   "metadata": {
    "ExecuteTime": {
     "end_time": "2020-11-15T17:08:23.543056000Z",
     "start_time": "2020-11-15T17:08:23.540Z"
    }
   },
   "outputs": [
    {
     "data": {
      "text/plain": [
       "c1   c2 c3\n",
       "----------\n",
       "1000 a  10\n",
       "1001 b  20\n",
       "1002 c  30\n",
       "1003 a  40\n",
       "1004 b  50\n",
       "1005 a  60\n"
      ]
     },
     "execution_count": 166,
     "metadata": {},
     "output_type": "execute_result"
    }
   ],
   "source": [
    "select from t"
   ]
  },
  {
   "cell_type": "code",
   "execution_count": 167,
   "metadata": {
    "ExecuteTime": {
     "end_time": "2020-11-15T17:08:33.936794000Z",
     "start_time": "2020-11-15T17:08:33.928Z"
    }
   },
   "outputs": [
    {
     "data": {
      "text/plain": [
       "c1   val\n",
       "--------\n",
       "1000 20 \n",
       "1001 40 \n",
       "1002 60 \n",
       "1003 80 \n",
       "1004 100\n",
       "1005 120\n"
      ]
     },
     "execution_count": 167,
     "metadata": {},
     "output_type": "execute_result"
    }
   ],
   "source": [
    "select c1, val:2*c3 from t"
   ]
  },
  {
   "cell_type": "markdown",
   "metadata": {},
   "source": [
    "Features\n",
    "\n",
    "- Result columns are separated by , and are sequenced left-to-right.\n",
    "- Any q expressions inside select are evaluated right-to-left, as usual.\n",
    "- As was the case with table definition syntax, instances of `:` are **not** assignment; rather, they are syntactic markers separating a column name to its left from the q expression to its right, which computes the column.\n",
    "- Arbitrary q expressions can be used to produce result columns, provided all column lengths are the same.\n",
    "- There are optional `by` and `where` phrases for grouping and constraints."
   ]
  },
  {
   "cell_type": "code",
   "execution_count": 168,
   "metadata": {
    "ExecuteTime": {
     "end_time": "2020-11-15T17:10:00.226515000Z",
     "start_time": "2020-11-15T17:10:00.224Z"
    }
   },
   "outputs": [
    {
     "data": {
      "text/plain": [
       "c2| c1 c3 \n",
       "--| ------\n",
       "a | 3  110\n",
       "b | 2  70 \n",
       "c | 1  30 \n"
      ]
     },
     "execution_count": 168,
     "metadata": {},
     "output_type": "execute_result"
    }
   ],
   "source": [
    "select count c1, sum c3 by c2 from t"
   ]
  },
  {
   "cell_type": "code",
   "execution_count": 169,
   "metadata": {
    "ExecuteTime": {
     "end_time": "2020-11-15T17:10:27.165298000Z",
     "start_time": "2020-11-15T17:10:27.163Z"
    }
   },
   "outputs": [
    {
     "data": {
      "text/plain": [
       "ovrund| c2\n",
       "------| --\n",
       "0     | 2 \n",
       "1     | 4 \n"
      ]
     },
     "execution_count": 169,
     "metadata": {},
     "output_type": "execute_result"
    }
   ],
   "source": [
    "select count c2 by ovrund:c3<=40 from t"
   ]
  },
  {
   "cell_type": "markdown",
   "metadata": {},
   "source": [
    "Closely related to `select` is the update template. It has the same syntax as select but semantically the names to the left of `:` are interpreted as columns to modify (or add, if not present).\n",
    "\n",
    "We emphasize that the operations in `update` are vector operations on columns, not row-by-row."
   ]
  },
  {
   "cell_type": "code",
   "execution_count": 170,
   "metadata": {
    "ExecuteTime": {
     "end_time": "2020-11-15T17:11:21.346490000Z",
     "start_time": "2020-11-15T17:11:21.338Z"
    }
   },
   "outputs": [
    {
     "data": {
      "text/plain": [
       "c1   c2 c3 \n",
       "-----------\n",
       "1000 a  100\n",
       "1001 b  20 \n",
       "1002 c  30 \n",
       "1003 a  400\n",
       "1004 b  50 \n",
       "1005 a  600\n"
      ]
     },
     "execution_count": 170,
     "metadata": {},
     "output_type": "execute_result"
    }
   ],
   "source": [
    "update c3:10*c3 from t where c2=`a"
   ]
  },
  {
   "cell_type": "markdown",
   "metadata": {},
   "source": [
    "sort a table ascending by column(s), use `xasc` with left operand the symbol column name(s) in major-to-minor order."
   ]
  },
  {
   "cell_type": "code",
   "execution_count": 171,
   "metadata": {
    "ExecuteTime": {
     "end_time": "2020-11-15T17:11:49.149876000Z",
     "start_time": "2020-11-15T17:11:49.147Z"
    }
   },
   "outputs": [
    {
     "data": {
      "text/plain": [
       "c1   c2 c3\n",
       "----------\n",
       "1000 a  10\n",
       "1003 a  40\n",
       "1005 a  60\n",
       "1001 b  20\n",
       "1004 b  50\n",
       "1002 c  30\n"
      ]
     },
     "execution_count": 171,
     "metadata": {},
     "output_type": "execute_result"
    }
   ],
   "source": [
    "`c2 xasc t"
   ]
  },
  {
   "cell_type": "markdown",
   "metadata": {},
   "source": [
    "## Example: Trades Table"
   ]
  },
  {
   "cell_type": "markdown",
   "metadata": {},
   "source": [
    "A useful operator for constructing lists of test data is `?`, which generates pseudo-random data. We can generate 10 numbers randomly selected, with replacement, from the first 20 integers starting at 0 (i.e., not including 20)."
   ]
  },
  {
   "cell_type": "code",
   "execution_count": 172,
   "metadata": {
    "ExecuteTime": {
     "end_time": "2020-11-15T17:13:41.440533000Z",
     "start_time": "2020-11-15T17:13:41.437Z"
    }
   },
   "outputs": [
    {
     "data": {
      "text/plain": [
       "12 8 10 1 9 11 5 6 1 5\n"
      ]
     },
     "execution_count": 172,
     "metadata": {},
     "output_type": "execute_result"
    }
   ],
   "source": [
    "10?20 / ymmv"
   ]
  },
  {
   "cell_type": "code",
   "execution_count": 173,
   "metadata": {
    "ExecuteTime": {
     "end_time": "2020-11-15T17:13:45.747275000Z",
     "start_time": "2020-11-15T17:13:45.745Z"
    }
   },
   "outputs": [
    {
     "data": {
      "text/plain": [
       "4 13 9 2 7 0 17 14 9 18\n"
      ]
     },
     "execution_count": 173,
     "metadata": {},
     "output_type": "execute_result"
    }
   ],
   "source": [
    "10?20"
   ]
  },
  {
   "cell_type": "code",
   "execution_count": 174,
   "metadata": {
    "ExecuteTime": {
     "end_time": "2020-11-15T17:13:47.029917000Z",
     "start_time": "2020-11-15T17:13:47.026Z"
    }
   },
   "outputs": [
    {
     "data": {
      "text/plain": [
       "17 8 13 17 12 12 2 4 5 12\n"
      ]
     },
     "execution_count": 174,
     "metadata": {},
     "output_type": "execute_result"
    }
   ],
   "source": [
    "10?20"
   ]
  },
  {
   "cell_type": "code",
   "execution_count": 175,
   "metadata": {
    "ExecuteTime": {
     "end_time": "2020-11-15T17:14:05.372609000Z",
     "start_time": "2020-11-15T17:14:05.370Z"
    }
   },
   "outputs": [
    {
     "data": {
      "text/plain": [
       "40.875447448343039 44.973102677613497 1.3920761179178953 71.487794118002057 1..\n"
      ]
     },
     "execution_count": 175,
     "metadata": {},
     "output_type": "execute_result"
    }
   ],
   "source": [
    "10?100.0 / 10 random floats from 0.0 to 100.0"
   ]
  },
  {
   "cell_type": "code",
   "execution_count": 176,
   "metadata": {
    "ExecuteTime": {
     "end_time": "2020-11-15T17:14:21.201575000Z",
     "start_time": "2020-11-15T17:14:21.194Z"
    }
   },
   "outputs": [
    {
     "data": {
      "text/plain": [
       "`aapl`aapl`aapl`aapl`ibm`aapl`ibm`ibm`ibm`ibm\n"
      ]
     },
     "execution_count": 176,
     "metadata": {},
     "output_type": "execute_result"
    }
   ],
   "source": [
    "10?`aapl`ibm / 10 random selections from the items in a list"
   ]
  },
  {
   "cell_type": "code",
   "execution_count": 177,
   "metadata": {
    "ExecuteTime": {
     "end_time": "2020-11-15T17:15:24.677361000Z",
     "start_time": "2020-11-15T17:15:24.635Z"
    }
   },
   "outputs": [
    {
     "data": {
      "text/plain": [
       "dt         tm                   sym  vol  px                \n",
       "------------------------------------------------------------\n",
       "2015.01.31 0D20:21:35.888599008 aapl 4350 107.55            \n",
       "2015.01.09 0D08:08:35.268833935 ibm  2020 105.2             \n",
       "2015.01.19 0D20:30:25.785342603 aapl 9770 102.5             \n",
       "2015.01.02 0D18:50:13.671382516 goog 5000 97.280000000000001\n",
       "2015.01.21 0D04:55:51.714918762 ibm  6280 92.439999999999998\n"
      ]
     },
     "execution_count": 177,
     "metadata": {},
     "output_type": "execute_result"
    }
   ],
   "source": [
    "dts:2015.01.01+1000000?31\n",
    "tms:1000000?24:00:00.000000000\n",
    "syms:1000000?`aapl`goog`ibm\n",
    "vols:10*1+1000000?1000\n",
    "pxs:90.0+(1000000?2001)%100\n",
    "trades:([] dt:dts; tm:tms; sym:syms; vol:vols; px:pxs)\n",
    "5#trades"
   ]
  },
  {
   "cell_type": "code",
   "execution_count": 179,
   "metadata": {
    "ExecuteTime": {
     "end_time": "2020-11-15T17:15:46.456699000Z",
     "start_time": "2020-11-15T17:15:46.395Z"
    }
   },
   "outputs": [
    {
     "data": {
      "text/plain": [
       "dt         tm                   sym  vol  px                \n",
       "------------------------------------------------------------\n",
       "2015.01.01 0D00:00:07.004971057 aapl 6410 102.7             \n",
       "2015.01.01 0D00:00:09.415197372 ibm  100  109.78            \n",
       "2015.01.01 0D00:00:13.514088839 aapl 1930 90.400000000000006\n",
       "2015.01.01 0D00:00:14.056894183 goog 1340 91.780000000000001\n",
       "2015.01.01 0D00:00:15.205892175 ibm  530  100.14            \n"
      ]
     },
     "execution_count": 179,
     "metadata": {},
     "output_type": "execute_result"
    }
   ],
   "source": [
    "trades:`dt`tm xasc trades\n",
    "5#trades"
   ]
  },
  {
   "cell_type": "code",
   "execution_count": 180,
   "metadata": {
    "ExecuteTime": {
     "end_time": "2020-11-15T17:16:20.034032000Z",
     "start_time": "2020-11-15T17:16:20.024Z"
    }
   },
   "outputs": [
    {
     "data": {
      "text/plain": [
       "dt         tm                   sym  vol  px                \n",
       "------------------------------------------------------------\n",
       "2015.01.01 0D00:00:07.004971057 aapl 6410 102.7             \n",
       "2015.01.01 0D00:00:09.415197372 ibm  100  219.56            \n",
       "2015.01.01 0D00:00:13.514088839 aapl 1930 90.400000000000006\n",
       "2015.01.01 0D00:00:14.056894183 goog 1340 550.68000000000006\n",
       "2015.01.01 0D00:00:15.205892175 ibm  530  200.28            \n"
      ]
     },
     "execution_count": 180,
     "metadata": {},
     "output_type": "execute_result"
    }
   ],
   "source": [
    "trades:update px:6*px from trades where sym=`goog\n",
    "trades:update px:2*px from trades where sym=`ibm\n",
    "5#trades"
   ]
  },
  {
   "cell_type": "code",
   "execution_count": 181,
   "metadata": {
    "ExecuteTime": {
     "end_time": "2020-11-15T17:16:45.210472000Z",
     "start_time": "2020-11-15T17:16:45.201Z"
    }
   },
   "outputs": [
    {
     "data": {
      "text/plain": [
       "sym | px                 vol               \n",
       "----| -------------------------------------\n",
       "aapl| 100.00032745003278 5009.5515195442713\n",
       "goog| 600.1158524689522  5006.1251929580085\n",
       "ibm | 199.98497522085125 5004.4475195336536\n"
      ]
     },
     "execution_count": 181,
     "metadata": {},
     "output_type": "execute_result"
    }
   ],
   "source": [
    "select avg px, avg vol by sym from trades"
   ]
  },
  {
   "cell_type": "code",
   "execution_count": 184,
   "metadata": {
    "ExecuteTime": {
     "end_time": "2020-11-15T17:17:25.564463000Z",
     "start_time": "2020-11-15T17:17:25.558Z"
    }
   },
   "outputs": [
    {
     "data": {
      "text/plain": [
       "sym | minpx maxpx\n",
       "----| -----------\n",
       "aapl| 90    110  \n",
       "goog| 540   660  \n",
       "ibm | 180   220  \n"
      ]
     },
     "execution_count": 184,
     "metadata": {},
     "output_type": "execute_result"
    }
   ],
   "source": [
    "select minpx:min px, maxpx:max px by sym from trades"
   ]
  },
  {
   "cell_type": "markdown",
   "metadata": {},
   "source": [
    "Our first non-trivial query computes the 100-millisecond bucketed volume-weighted average price (VWAP). This uses the built-in binary function `xbar`. The left operand of `xbar` is an interval width, and the right operand is a list of numeric values. The effect of `xbar` is to shove each input to the left-hand end point of the interval of specified width in which it falls. For example,"
   ]
  },
  {
   "cell_type": "code",
   "execution_count": 185,
   "metadata": {
    "ExecuteTime": {
     "end_time": "2020-11-15T17:18:13.162781000Z",
     "start_time": "2020-11-15T17:18:13.160Z"
    }
   },
   "outputs": [
    {
     "data": {
      "text/plain": [
       "0 0 0 0 0 5 5 5 5 5 10 10 10 10 10\n"
      ]
     },
     "execution_count": 185,
     "metadata": {},
     "output_type": "execute_result"
    }
   ],
   "source": [
    "5 xbar til 15"
   ]
  },
  {
   "cell_type": "markdown",
   "metadata": {},
   "source": [
    "This is useful for grouping since it effectively buckets all the values within each interval to the left end-point of that interval. Recalling that a timespan is actually an integral count of nanoseconds since midnight, to compute **100-millisecond buckets** we will use xbar with an **interval of 100,000,000**."
   ]
  },
  {
   "cell_type": "markdown",
   "metadata": {},
   "source": [
    "We also require `wavg`, a binary function that computes the average of the numeric values in **its right operand weighted by the values of its left operand.**"
   ]
  },
  {
   "cell_type": "code",
   "execution_count": 186,
   "metadata": {
    "ExecuteTime": {
     "end_time": "2020-11-15T17:20:03.829641000Z",
     "start_time": "2020-11-15T17:20:03.824Z"
    }
   },
   "outputs": [
    {
     "data": {
      "text/plain": [
       "63.333333333333336\n"
      ]
     },
     "execution_count": 186,
     "metadata": {},
     "output_type": "execute_result"
    }
   ],
   "source": [
    "1 2 3 wavg 50 60 70"
   ]
  },
  {
   "cell_type": "code",
   "execution_count": 187,
   "metadata": {
    "ExecuteTime": {
     "end_time": "2020-11-15T17:23:34.837126000Z",
     "start_time": "2020-11-15T17:23:34.428Z"
    }
   },
   "outputs": [
    {
     "data": {
      "text/plain": [
       "sym  bkt                 | vwap              \n",
       "-------------------------| ------------------\n",
       "aapl 0D00:00:00.100000000| 108.58            \n",
       "aapl 0D00:00:00.400000000| 90.069999999999993\n",
       "aapl 0D00:00:00.500000000| 98.25             \n",
       "aapl 0D00:00:00.600000000| 102.28            \n",
       "aapl 0D00:00:00.900000000| 96.009999999999991\n",
       "aapl 0D00:00:01.100000000| 93.260000000000005\n",
       "aapl 0D00:00:01.200000000| 92.760000000000005\n",
       "aapl 0D00:00:01.900000000| 106.3             \n",
       "aapl 0D00:00:02.100000000| 104.43000000000001\n",
       "aapl 0D00:00:02.300000000| 103.2950731707317 \n",
       "aapl 0D00:00:02.400000000| 109.65000000000001\n",
       "aapl 0D00:00:03.300000000| 103.51000000000001\n",
       "aapl 0D00:00:03.800000000| 91.549999999999997\n",
       "aapl 0D00:00:03.900000000| 90.599999999999994\n",
       "aapl 0D00:00:04.900000000| 107.45            \n",
       "aapl 0D00:00:05.600000000| 93.754981343283589\n",
       "aapl 0D00:00:06.200000000| 100.26000000000001\n",
       "aapl 0D00:00:06.300000000| 108.41            \n",
       "aapl 0D00:00:06.800000000| 99.568792899408294\n",
       "aapl 0D00:00:07.000000000| 102.7             \n",
       "..\n"
      ]
     },
     "execution_count": 187,
     "metadata": {},
     "output_type": "execute_result"
    }
   ],
   "source": [
    "select vwap:vol wavg px by sym,bkt:100000000 xbar tm from trades"
   ]
  },
  {
   "cell_type": "markdown",
   "metadata": {},
   "source": [
    "## File I/O 101"
   ]
  },
  {
   "cell_type": "code",
   "execution_count": 188,
   "metadata": {
    "ExecuteTime": {
     "end_time": "2020-11-15T19:53:07.650668000Z",
     "start_time": "2020-11-15T19:53:07.648Z"
    }
   },
   "outputs": [
    {
     "data": {
      "text/plain": [
       "\"a\"\n"
      ]
     },
     "execution_count": 188,
     "metadata": {},
     "output_type": "execute_result"
    }
   ],
   "source": [
    "\"a\""
   ]
  },
  {
   "cell_type": "code",
   "execution_count": 189,
   "metadata": {
    "ExecuteTime": {
     "end_time": "2020-11-15T19:53:09.728514000Z",
     "start_time": "2020-11-15T19:53:09.721Z"
    }
   },
   "outputs": [
    {
     "data": {
      "text/plain": [
       "\" \"\n"
      ]
     },
     "execution_count": 189,
     "metadata": {},
     "output_type": "execute_result"
    }
   ],
   "source": [
    "\" \""
   ]
  },
  {
   "cell_type": "code",
   "execution_count": 190,
   "metadata": {
    "ExecuteTime": {
     "end_time": "2020-11-15T19:53:12.523324000Z",
     "start_time": "2020-11-15T19:53:12.516Z"
    }
   },
   "outputs": [
    {
     "data": {
      "text/plain": [
       "\"_\"\n"
      ]
     },
     "execution_count": 190,
     "metadata": {},
     "output_type": "execute_result"
    }
   ],
   "source": [
    "\"_\""
   ]
  },
  {
   "cell_type": "code",
   "execution_count": 191,
   "metadata": {
    "ExecuteTime": {
     "end_time": "2020-11-15T19:53:55.415938000Z",
     "start_time": "2020-11-15T19:53:55.412Z"
    }
   },
   "outputs": [
    {
     "data": {
      "text/plain": [
       "\"string\"\n"
      ]
     },
     "execution_count": 191,
     "metadata": {},
     "output_type": "execute_result"
    }
   ],
   "source": [
    "(\"s\";\"t\";\"r\";\"i\";\"n\";\"g\")"
   ]
  },
  {
   "cell_type": "code",
   "execution_count": 192,
   "metadata": {
    "ExecuteTime": {
     "end_time": "2020-11-15T19:54:07.488861000Z",
     "start_time": "2020-11-15T19:54:07.480Z"
    }
   },
   "outputs": [
    {
     "data": {
      "text/plain": [
       "6\n"
      ]
     },
     "execution_count": 192,
     "metadata": {},
     "output_type": "execute_result"
    },
    {
     "data": {
      "text/plain": [
       "1\n"
      ]
     },
     "execution_count": 192,
     "metadata": {},
     "output_type": "execute_result"
    }
   ],
   "source": [
    "count \"string\"\n",
    "count `string"
   ]
  },
  {
   "cell_type": "markdown",
   "metadata": {},
   "source": [
    "File I/O begins with symbolic handles. A symbolic file handle is a symbol of a particular form that represents the name of a resource on the file system. The leading `:` distinguishes the symbol as a handle."
   ]
  },
  {
   "cell_type": "code",
   "execution_count": 194,
   "metadata": {
    "ExecuteTime": {
     "end_time": "2020-11-15T19:55:29.967157000Z",
     "start_time": "2020-11-15T19:55:29.959Z"
    }
   },
   "outputs": [
    {
     "data": {
      "text/plain": [
       "c1 c2                \n",
       "---------------------\n",
       "a  1.1000000000000001\n",
       "b  2.2000000000000002\n",
       "c  3.2999999999999998\n"
      ]
     },
     "execution_count": 194,
     "metadata": {},
     "output_type": "execute_result"
    }
   ],
   "source": [
    "t:([] c1:`a`b`c; c2:1.1 2.2 3.3)\n",
    "t"
   ]
  },
  {
   "cell_type": "code",
   "execution_count": 196,
   "metadata": {
    "ExecuteTime": {
     "end_time": "2020-11-15T19:56:17.100098000Z",
     "start_time": "2020-11-15T19:56:17.091Z"
    }
   },
   "outputs": [
    {
     "data": {
      "text/plain": [
       "`:../data/examples/t\n"
      ]
     },
     "execution_count": 196,
     "metadata": {},
     "output_type": "execute_result"
    }
   ],
   "source": [
    "`:../data/examples/t set t"
   ]
  },
  {
   "cell_type": "code",
   "execution_count": 197,
   "metadata": {
    "ExecuteTime": {
     "end_time": "2020-11-15T19:56:38.806174000Z",
     "start_time": "2020-11-15T19:56:38.804Z"
    }
   },
   "outputs": [
    {
     "data": {
      "text/plain": [
       "c1 c2                \n",
       "---------------------\n",
       "a  1.1000000000000001\n",
       "b  2.2000000000000002\n",
       "c  3.2999999999999998\n"
      ]
     },
     "execution_count": 197,
     "metadata": {},
     "output_type": "execute_result"
    }
   ],
   "source": [
    "get `:../data/examples/t"
   ]
  },
  {
   "cell_type": "code",
   "execution_count": 198,
   "metadata": {
    "ExecuteTime": {
     "end_time": "2020-11-15T19:57:02.743097000Z",
     "start_time": "2020-11-15T19:57:02.741Z"
    }
   },
   "outputs": [
    {
     "data": {
      "text/plain": [
       "`:../data/examples/life.txt\n"
      ]
     },
     "execution_count": 198,
     "metadata": {},
     "output_type": "execute_result"
    }
   ],
   "source": [
    "`:../data/examples/life.txt 0: (\"Meaning\";\"of\";\"life\")"
   ]
  },
  {
   "cell_type": "code",
   "execution_count": 199,
   "metadata": {
    "ExecuteTime": {
     "end_time": "2020-11-15T19:57:16.679669000Z",
     "start_time": "2020-11-15T19:57:16.674Z"
    }
   },
   "outputs": [
    {
     "data": {
      "text/plain": [
       "\"Meaning\"\n",
       "\"of\"\n",
       "\"life\"\n"
      ]
     },
     "execution_count": 199,
     "metadata": {},
     "output_type": "execute_result"
    }
   ],
   "source": [
    "read0 `:../data/examples/life.txt"
   ]
  },
  {
   "cell_type": "markdown",
   "metadata": {},
   "source": [
    "Preparing a table as CSV text is simple; q handles the quoting and escaping of special characters. Apply `0:` with the defined constant `csv` as left operand and the table in the right operand."
   ]
  },
  {
   "cell_type": "code",
   "execution_count": 200,
   "metadata": {
    "ExecuteTime": {
     "end_time": "2020-11-15T19:58:03.126526000Z",
     "start_time": "2020-11-15T19:58:03.124Z"
    }
   },
   "outputs": [
    {
     "data": {
      "text/plain": [
       "\"c1,c2\"\n",
       "\"a,1.1000000000000001\"\n",
       "\"b,2.2000000000000002\"\n",
       "\"c,3.2999999999999998\"\n"
      ]
     },
     "execution_count": 200,
     "metadata": {},
     "output_type": "execute_result"
    }
   ],
   "source": [
    "csv 0: t"
   ]
  },
  {
   "cell_type": "code",
   "execution_count": 201,
   "metadata": {
    "ExecuteTime": {
     "end_time": "2020-11-15T19:59:01.949922000Z",
     "start_time": "2020-11-15T19:59:01.942Z"
    }
   },
   "outputs": [
    {
     "data": {
      "text/plain": [
       "`:../data/examples/t.csv\n"
      ]
     },
     "execution_count": 201,
     "metadata": {},
     "output_type": "execute_result"
    }
   ],
   "source": [
    "`:../data/examples/t.csv 0: csv 0: t"
   ]
  },
  {
   "cell_type": "code",
   "execution_count": 202,
   "metadata": {
    "ExecuteTime": {
     "end_time": "2020-11-15T19:59:18.553580000Z",
     "start_time": "2020-11-15T19:59:18.551Z"
    }
   },
   "outputs": [
    {
     "data": {
      "text/plain": [
       "\"c1,c2\"\n",
       "\"a,1.1000000000000001\"\n",
       "\"b,2.2000000000000002\"\n",
       "\"c,3.2999999999999998\"\n"
      ]
     },
     "execution_count": 202,
     "metadata": {},
     "output_type": "execute_result"
    }
   ],
   "source": [
    "read0 `:../data/examples/t.csv"
   ]
  },
  {
   "cell_type": "markdown",
   "metadata": {},
   "source": [
    "Here \"S\" and \"F\" indicate that there are two fields, having types symbol and float. The separator is an enlisted \",\"."
   ]
  },
  {
   "cell_type": "code",
   "execution_count": 203,
   "metadata": {
    "ExecuteTime": {
     "end_time": "2020-11-15T20:00:33.353134000Z",
     "start_time": "2020-11-15T20:00:33.351Z"
    }
   },
   "outputs": [
    {
     "data": {
      "text/plain": [
       "c1 c2                \n",
       "---------------------\n",
       "a  1.1000000000000001\n",
       "b  2.2000000000000002\n",
       "c  3.2999999999999998\n"
      ]
     },
     "execution_count": 203,
     "metadata": {},
     "output_type": "execute_result"
    }
   ],
   "source": [
    "(\"SF\"; enlist \",\") 0: `:../data/examples/t.csv"
   ]
  },
  {
   "cell_type": "markdown",
   "metadata": {},
   "source": [
    "## Interprocess Communication 101"
   ]
  },
  {
   "cell_type": "markdown",
   "metadata": {},
   "source": [
    "### Server"
   ]
  },
  {
   "cell_type": "code",
   "execution_count": 204,
   "metadata": {
    "ExecuteTime": {
     "end_time": "2020-11-15T21:12:06.993730000Z",
     "start_time": "2020-11-15T21:12:06.990Z"
    }
   },
   "outputs": [],
   "source": [
    "\\p 5042"
   ]
  },
  {
   "cell_type": "code",
   "execution_count": 205,
   "metadata": {
    "ExecuteTime": {
     "end_time": "2020-11-15T21:12:10.173207000Z",
     "start_time": "2020-11-15T21:12:10.168Z"
    }
   },
   "outputs": [
    {
     "data": {
      "text/plain": [
       "5042i\n"
      ]
     },
     "execution_count": 205,
     "metadata": {},
     "output_type": "execute_result"
    }
   ],
   "source": [
    "\\p"
   ]
  },
  {
   "cell_type": "markdown",
   "metadata": {},
   "source": [
    "The leading `:` in the symbol identifies it as a symbolic handle. To the left of the second `:` is the name of the network resource – in this case, the machine on which the q session is running. To the right of `:` is a (presumably open) port on the destination machine that will be used for TCP/IP communication."
   ]
  },
  {
   "cell_type": "code",
   "execution_count": 206,
   "metadata": {
    "ExecuteTime": {
     "end_time": "2020-11-15T21:12:38.700674000Z",
     "start_time": "2020-11-15T21:12:38.698Z"
    }
   },
   "outputs": [
    {
     "data": {
      "text/plain": [
       "`:localhost:5042\n"
      ]
     },
     "execution_count": 206,
     "metadata": {},
     "output_type": "execute_result"
    }
   ],
   "source": [
    "`:localhost:5042"
   ]
  },
  {
   "cell_type": "code",
   "execution_count": 207,
   "metadata": {
    "ExecuteTime": {
     "end_time": "2020-11-15T21:22:53.262671000Z",
     "start_time": "2020-11-15T21:22:53.260Z"
    }
   },
   "outputs": [],
   "source": [
    "f:{x*y}"
   ]
  },
  {
   "cell_type": "markdown",
   "metadata": {},
   "source": [
    "### Client"
   ]
  },
  {
   "cell_type": "markdown",
   "metadata": {},
   "source": [
    "To open a connection, use a symbolic handle as argument to hopen and store the result in a variable, traditionally called `h`."
   ]
  },
  {
   "cell_type": "code",
   "execution_count": null,
   "metadata": {},
   "outputs": [],
   "source": [
    "h:hopen `:localhost:5042"
   ]
  },
  {
   "cell_type": "markdown",
   "metadata": {},
   "source": [
    "`h` is called an open handle. It holds a function for sending a request to the server and receiving the result of that request."
   ]
  },
  {
   "cell_type": "markdown",
   "metadata": {},
   "source": [
    "3 ways to send requests from the client to the server, only one of which is safe for production applications.\n",
    "1. easiest but not safe: send with a string : `h \"6*7\"`\n",
    "2. safer way: invoke `h` with a list containing the name of a function that exists on the server, followed by arguments to that function. When `h` is invoked with such a list argument, it (sychronously)) causes the server to apply the named function to the transmitted arguments, and then returns any result from the server is its own ouput. The corresponds to _call-by-name_ in a traditional remote-procedure call.: `h (``h; 6;7)`"
   ]
  },
  {
   "cell_type": "markdown",
   "metadata": {},
   "source": [
    "To close the connection with the server, flush buffers and free resources, apply `hclose` to the open handle."
   ]
  },
  {
   "cell_type": "code",
   "execution_count": null,
   "metadata": {},
   "outputs": [],
   "source": [
    "hclose h "
   ]
  },
  {
   "cell_type": "markdown",
   "metadata": {},
   "source": [
    "## Example: Asynchronous Callbacks"
   ]
  },
  {
   "cell_type": "markdown",
   "metadata": {},
   "source": [
    "Calls to the server were synchronous, meaning that at the point of the remote call, **the client blocks until the requested work on the server completes and the result is returned**. It is also possible to make the remote call asynchronous. In this case, the client does **not** block: the application of the open handle returns immediately."
   ]
  },
  {
   "cell_type": "markdown",
   "metadata": {},
   "source": [
    "### server"
   ]
  },
  {
   "cell_type": "code",
   "execution_count": 208,
   "metadata": {
    "ExecuteTime": {
     "end_time": "2020-11-15T21:30:10.198328000Z",
     "start_time": "2020-11-15T21:30:10.196Z"
    }
   },
   "outputs": [
    {
     "name": "stdout",
     "output_type": "stream",
     "text": [
      "42\n"
     ]
    }
   ],
   "source": [
    "echo:{show x}"
   ]
  },
  {
   "cell_type": "markdown",
   "metadata": {},
   "source": [
    "Implement Callbacks. Two parameters: its own argument and the symbolic name of the client function to call."
   ]
  },
  {
   "cell_type": "code",
   "execution_count": 209,
   "metadata": {
    "ExecuteTime": {
     "end_time": "2020-11-15T21:34:01.610255000Z",
     "start_time": "2020-11-15T21:34:01.608Z"
    }
   },
   "outputs": [],
   "source": [
    "rsvp:{[arg;cb] show arg;} / on server"
   ]
  },
  {
   "cell_type": "markdown",
   "metadata": {},
   "source": [
    "To make the return call from the server to the client, we need the open handle of the connection for the remote call we are processing. This is conveniently placed in the q system variable `.z.w` (“who” called) for the duration of each remote call. We use it to make an **asynchronous** remote call (hence the neg) over the caller’s handle, passing the provided callback name and our arduously computed result 43."
   ]
  },
  {
   "cell_type": "code",
   "execution_count": 210,
   "metadata": {
    "ExecuteTime": {
     "end_time": "2020-11-15T21:35:50.015882000Z",
     "start_time": "2020-11-15T21:35:50.013Z"
    }
   },
   "outputs": [
    {
     "name": "stdout",
     "output_type": "stream",
     "text": [
      "42\n"
     ]
    }
   ],
   "source": [
    "rsvp:{[arg;cb] show arg; (neg .z.w) (cb; 43);}"
   ]
  },
  {
   "cell_type": "markdown",
   "metadata": {},
   "source": [
    "we display another progress message on the server console indicating the remote call has completed. Since this function returns its actual result remotely, we end its body with `;` to ensure that it returns nothing locally."
   ]
  },
  {
   "cell_type": "code",
   "execution_count": 211,
   "metadata": {
    "ExecuteTime": {
     "end_time": "2020-11-15T21:38:46.317177000Z",
     "start_time": "2020-11-15T21:38:46.313Z"
    }
   },
   "outputs": [
    {
     "name": "stdout",
     "output_type": "stream",
     "text": [
      "42\n",
      "`done\n"
     ]
    }
   ],
   "source": [
    "rsvp:{[arg;cb] show arg; (neg .z.w) (cb; 43); show `done;}"
   ]
  },
  {
   "cell_type": "markdown",
   "metadata": {},
   "source": [
    "### client"
   ]
  },
  {
   "cell_type": "code",
   "execution_count": null,
   "metadata": {},
   "outputs": [],
   "source": [
    "h:hopen `:localhost:5042 / h=4i"
   ]
  },
  {
   "cell_type": "markdown",
   "metadata": {},
   "source": [
    "an open handle is just a positive 32-bit integer. When this (positive) integer is applied as a function, the call is **synchronous**. To make an asynchronous call, **negate the value in h** – i.e., neg h – and use this with function application syntax. Seriously."
   ]
  },
  {
   "cell_type": "markdown",
   "metadata": {},
   "source": [
    "Now make an asynchronous remote call to `echo` from the client."
   ]
  },
  {
   "cell_type": "code",
   "execution_count": null,
   "metadata": {},
   "outputs": [],
   "source": [
    "(neg h) (`echo; 42) / on client"
   ]
  },
  {
   "cell_type": "markdown",
   "metadata": {},
   "source": [
    "Create `echo` to serve as the function called back for this demonstration."
   ]
  },
  {
   "cell_type": "code",
   "execution_count": null,
   "metadata": {},
   "outputs": [],
   "source": [
    "echo:{show x}"
   ]
  },
  {
   "cell_type": "markdown",
   "metadata": {},
   "source": [
    "It remains to fire off the remote asynchronous call from the client. We pass the client open handle a list containing: the name of the remote function; the argument for the remote function; and the name of our own function to be called back during the remote computation. Be sure to do it asynchronously else you will get deadlocks."
   ]
  },
  {
   "cell_type": "code",
   "execution_count": null,
   "metadata": {},
   "outputs": [],
   "source": [
    "(neg h) (`rsvp; 42; `echo) / on client"
   ]
  },
  {
   "cell_type": "markdown",
   "metadata": {},
   "source": [
    "## Websockets 101"
   ]
  },
  {
   "cell_type": "code",
   "execution_count": null,
   "metadata": {},
   "outputs": [],
   "source": []
  }
 ],
 "metadata": {
  "kernelspec": {
   "display_name": "Q (kdb+)",
   "language": "q",
   "name": "qpk"
  },
  "language_info": {
   "file_extension": ".q",
   "mimetype": "text/x-q",
   "name": "q",
   "version": "4.0"
  },
  "toc": {
   "base_numbering": 1,
   "nav_menu": {},
   "number_sections": true,
   "sideBar": true,
   "skip_h1_title": false,
   "title_cell": "Table of Contents",
   "title_sidebar": "Contents",
   "toc_cell": true,
   "toc_position": {},
   "toc_section_display": true,
   "toc_window_display": true
  }
 },
 "nbformat": 4,
 "nbformat_minor": 4
}
