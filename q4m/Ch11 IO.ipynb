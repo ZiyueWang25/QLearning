{
 "cells": [
  {
   "cell_type": "markdown",
   "metadata": {
    "toc": true
   },
   "source": [
    "<h1>Table of Contents<span class=\"tocSkip\"></span></h1>\n",
    "<div class=\"toc\"><ul class=\"toc-item\"><li><span><a href=\"#Binary-Data\" data-toc-modified-id=\"Binary-Data-1\"><span class=\"toc-item-num\">1&nbsp;&nbsp;</span>Binary Data</a></span><ul class=\"toc-item\"><li><span><a href=\"#File-Handles\" data-toc-modified-id=\"File-Handles-1.1\"><span class=\"toc-item-num\">1.1&nbsp;&nbsp;</span>File Handles</a></span></li><li><span><a href=\"#hcount-and-hdel\" data-toc-modified-id=\"hcount-and-hdel-1.2\"><span class=\"toc-item-num\">1.2&nbsp;&nbsp;</span><code>hcount</code> and <code>hdel</code></a></span></li><li><span><a href=\"#Serializing-and-Deserializing-q-Entities\" data-toc-modified-id=\"Serializing-and-Deserializing-q-Entities-1.3\"><span class=\"toc-item-num\">1.3&nbsp;&nbsp;</span>Serializing and Deserializing q Entities</a></span></li><li><span><a href=\"#Binary-Data-Files\" data-toc-modified-id=\"Binary-Data-Files-1.4\"><span class=\"toc-item-num\">1.4&nbsp;&nbsp;</span>Binary Data Files</a></span></li><li><span><a href=\"#Writing-and-Reading-Binary\" data-toc-modified-id=\"Writing-and-Reading-Binary-1.5\"><span class=\"toc-item-num\">1.5&nbsp;&nbsp;</span>Writing and Reading Binary</a></span></li><li><span><a href=\"#Using-Apply-Amend\" data-toc-modified-id=\"Using-Apply-Amend-1.6\"><span class=\"toc-item-num\">1.6&nbsp;&nbsp;</span>Using Apply <code>Amend</code></a></span></li></ul></li><li><span><a href=\"#Save-and-Load-on-Tables\" data-toc-modified-id=\"Save-and-Load-on-Tables-2\"><span class=\"toc-item-num\">2&nbsp;&nbsp;</span>Save and Load on Tables</a></span></li><li><span><a href=\"#Splayed-Tables\" data-toc-modified-id=\"Splayed-Tables-3\"><span class=\"toc-item-num\">3&nbsp;&nbsp;</span>Splayed Tables</a></span></li><li><span><a href=\"#Text-Data\" data-toc-modified-id=\"Text-Data-4\"><span class=\"toc-item-num\">4&nbsp;&nbsp;</span>Text Data</a></span><ul class=\"toc-item\"><li><span><a href=\"#Reading-and-Writing-Text-Files\" data-toc-modified-id=\"Reading-and-Writing-Text-Files-4.1\"><span class=\"toc-item-num\">4.1&nbsp;&nbsp;</span>Reading and Writing Text Files</a></span></li><li><span><a href=\"#Using-hopen-and-hclose\" data-toc-modified-id=\"Using-hopen-and-hclose-4.2\"><span class=\"toc-item-num\">4.2&nbsp;&nbsp;</span>Using <code>hopen</code> and <code>hclose</code></a></span></li><li><span><a href=\"#Preparing-Text\" data-toc-modified-id=\"Preparing-Text-4.3\"><span class=\"toc-item-num\">4.3&nbsp;&nbsp;</span>Preparing Text</a></span></li></ul></li><li><span><a href=\"#Parsing-Records\" data-toc-modified-id=\"Parsing-Records-5\"><span class=\"toc-item-num\">5&nbsp;&nbsp;</span>Parsing Records</a></span><ul class=\"toc-item\"><li><span><a href=\"#Fixed-Width-Records\" data-toc-modified-id=\"Fixed-Width-Records-5.1\"><span class=\"toc-item-num\">5.1&nbsp;&nbsp;</span>Fixed-Width Records</a></span></li><li><span><a href=\"#Variable-Length-Records\" data-toc-modified-id=\"Variable-Length-Records-5.2\"><span class=\"toc-item-num\">5.2&nbsp;&nbsp;</span>Variable Length Records</a></span></li><li><span><a href=\"#Key-Value-Records\" data-toc-modified-id=\"Key-Value-Records-5.3\"><span class=\"toc-item-num\">5.3&nbsp;&nbsp;</span>Key-Value Records</a></span></li></ul></li><li><span><a href=\"#Interprocess-Communication\" data-toc-modified-id=\"Interprocess-Communication-6\"><span class=\"toc-item-num\">6&nbsp;&nbsp;</span>Interprocess Communication</a></span><ul class=\"toc-item\"><li><span><a href=\"#Communication-Handle\" data-toc-modified-id=\"Communication-Handle-6.1\"><span class=\"toc-item-num\">6.1&nbsp;&nbsp;</span>Communication Handle</a></span></li><li><span><a href=\"#Opening-a-Connection-Handle\" data-toc-modified-id=\"Opening-a-Connection-Handle-6.2\"><span class=\"toc-item-num\">6.2&nbsp;&nbsp;</span>Opening a Connection Handle</a></span></li><li><span><a href=\"#Remote-Execution\" data-toc-modified-id=\"Remote-Execution-6.3\"><span class=\"toc-item-num\">6.3&nbsp;&nbsp;</span>Remote Execution</a></span></li><li><span><a href=\"#Synchronous-and-Asynchronous-Messages\" data-toc-modified-id=\"Synchronous-and-Asynchronous-Messages-6.4\"><span class=\"toc-item-num\">6.4&nbsp;&nbsp;</span>Synchronous and Asynchronous Messages</a></span></li><li><span><a href=\"#Processing-Messages\" data-toc-modified-id=\"Processing-Messages-6.5\"><span class=\"toc-item-num\">6.5&nbsp;&nbsp;</span>Processing Messages</a></span></li><li><span><a href=\"#Remote-Queries\" data-toc-modified-id=\"Remote-Queries-6.6\"><span class=\"toc-item-num\">6.6&nbsp;&nbsp;</span>Remote Queries</a></span></li></ul></li><li><span><a href=\"#HTTP-and-Web-sockets\" data-toc-modified-id=\"HTTP-and-Web-sockets-7\"><span class=\"toc-item-num\">7&nbsp;&nbsp;</span>HTTP and Web sockets</a></span></li></ul></div>"
   ]
  },
  {
   "cell_type": "markdown",
   "metadata": {},
   "source": [
    "## Binary Data\n",
    "\n",
    "In q, files come in two flavors: text and binary. Routines to process text data have ‘0’ in their names, whereas routines to process binary data have ‘1’. A text file is considered to be a list of strings – i.e., a list of char lists – and a binary file is a list of byte lists. While all text files can also be processed as binary data, not all binary data represents text. As mentioned above, file operations use handles."
   ]
  },
  {
   "cell_type": "markdown",
   "metadata": {},
   "source": [
    "### File Handles\n",
    "\n",
    "A *file handle* is a symbol that represents the name of a directory or file on persistent storage. A symbolic file handle starts with a colon `:` and has the form,\n",
    "\n",
    "\\`:[path]name\n",
    "\n",
    "where the bracketed expression represents **an optional path and name is a file or directory name**. The combination should be recognized as valid by the underlying operating system.\n",
    "\n",
    "**Some q operations require that you append a trailing slash / to indicate that you mean a directory. **"
   ]
  },
  {
   "cell_type": "markdown",
   "metadata": {},
   "source": [
    "While \\`$ converts a string to a symbol, it can be awkward to include the leading `:` required in the symbolic handle. The keyword `hsym`, which inserts a leading colon into a symbol, serves this purpose.\n",
    "\n",
    "To make life easier when you are generating paths dynamically, **hsym is idempotent**, meaning that it will accept its own output and pass it through."
   ]
  },
  {
   "cell_type": "code",
   "execution_count": 1,
   "metadata": {
    "ExecuteTime": {
     "end_time": "2020-11-26T15:13:42.611006000Z",
     "start_time": "2020-11-26T15:13:42.606Z"
    }
   },
   "outputs": [
    {
     "data": {
      "text/plain": [
       "`:/data/file name.csv\n"
      ]
     },
     "execution_count": 1,
     "metadata": {},
     "output_type": "execute_result"
    }
   ],
   "source": [
    "hsym `$\"/data/file name.csv\""
   ]
  },
  {
   "cell_type": "code",
   "execution_count": 2,
   "metadata": {
    "ExecuteTime": {
     "end_time": "2020-11-26T15:14:20.749762000Z",
     "start_time": "2020-11-26T15:14:20.741Z"
    }
   },
   "outputs": [
    {
     "data": {
      "text/plain": [
       "`:/data/file name.csv\n"
      ]
     },
     "execution_count": 2,
     "metadata": {},
     "output_type": "execute_result"
    }
   ],
   "source": [
    "hsym hsym `$\"/data/file name.csv\""
   ]
  },
  {
   "cell_type": "markdown",
   "metadata": {},
   "source": [
    "### `hcount` and `hdel`\n",
    "\n",
    "The first one-and-done operation that works directly on a symbolic file handle is `hcount`, which returns a long representing **the size of the file in bytes as reported by the OS.**\n",
    "\n",
    "The next one-and-done is `hdel`, which instructs the OS to **remove the file specified by its symbolic handle operand**.\n",
    "\n",
    "- The return value of the symbolic file handle itself indicates that the deletion was successful. It should not be confused with an error message, which starts with a tick rather than a backtick.\n",
    "- You will get an error message if the file does not exist or if the delete cannot be performed.\n",
    "- **You will not be prompted for confirmation. Back up any files that are important.**"
   ]
  },
  {
   "cell_type": "markdown",
   "metadata": {},
   "source": [
    "### Serializing and Deserializing q Entities\n",
    "\n",
    "The behavior of `set` is to **create the file if it does not exist and overwrite it if it does. It will also create the directory path if it does not exist.**"
   ]
  },
  {
   "cell_type": "code",
   "execution_count": 4,
   "metadata": {
    "ExecuteTime": {
     "end_time": "2020-11-26T15:19:28.815937000Z",
     "start_time": "2020-11-26T15:19:28.797Z"
    }
   },
   "outputs": [
    {
     "data": {
      "text/plain": [
       "`:./Ch11IO/a\n"
      ]
     },
     "execution_count": 4,
     "metadata": {},
     "output_type": "execute_result"
    },
    {
     "data": {
      "text/plain": [
       "`:./Ch11IO/L\n"
      ]
     },
     "execution_count": 4,
     "metadata": {},
     "output_type": "execute_result"
    },
    {
     "data": {
      "text/plain": [
       "`:./Ch11IO/t\n"
      ]
     },
     "execution_count": 4,
     "metadata": {},
     "output_type": "execute_result"
    }
   ],
   "source": [
    "`:./Ch11IO/a set 42\n",
    "`:./Ch11IO/L set 10 20 30\n",
    "`:./Ch11IO/t set ([] c1:`a`b`c; c2:10 20 30)"
   ]
  },
  {
   "cell_type": "code",
   "execution_count": 5,
   "metadata": {
    "ExecuteTime": {
     "end_time": "2020-11-26T15:20:27.653880000Z",
     "start_time": "2020-11-26T15:20:27.642Z"
    }
   },
   "outputs": [
    {
     "data": {
      "text/plain": [
       "42\n"
      ]
     },
     "execution_count": 5,
     "metadata": {},
     "output_type": "execute_result"
    },
    {
     "data": {
      "text/plain": [
       "10 20 30\n"
      ]
     },
     "execution_count": 5,
     "metadata": {},
     "output_type": "execute_result"
    },
    {
     "data": {
      "text/plain": [
       "c1 c2\n",
       "-----\n",
       "a  10\n",
       "b  20\n",
       "c  30\n"
      ]
     },
     "execution_count": 5,
     "metadata": {},
     "output_type": "execute_result"
    }
   ],
   "source": [
    "get `:./Ch11IO/a\n",
    "get `:./Ch11IO/L\n",
    "get `:./Ch11IO/t"
   ]
  },
  {
   "cell_type": "code",
   "execution_count": 6,
   "metadata": {
    "ExecuteTime": {
     "end_time": "2020-11-26T15:20:42.259830000Z",
     "start_time": "2020-11-26T15:20:42.251Z"
    }
   },
   "outputs": [
    {
     "data": {
      "text/plain": [
       "c1 c2\n",
       "-----\n",
       "a  10\n",
       "b  20\n",
       "c  30\n"
      ]
     },
     "execution_count": 6,
     "metadata": {},
     "output_type": "execute_result"
    }
   ],
   "source": [
    "value `:./Ch11IO/t"
   ]
  },
  {
   "cell_type": "markdown",
   "metadata": {},
   "source": [
    "Alternatively, you can use the command `\\l` to load a data file into memory and assign it to a variable with the same name as the file. Here you do **not** use a file handle; rather, specify the path to the file without any decoration."
   ]
  },
  {
   "cell_type": "code",
   "execution_count": 7,
   "metadata": {
    "ExecuteTime": {
     "end_time": "2020-11-26T15:21:44.036522000Z",
     "start_time": "2020-11-26T15:21:44.028Z"
    }
   },
   "outputs": [
    {
     "data": {
      "text/plain": [
       "`t\n"
      ]
     },
     "execution_count": 7,
     "metadata": {},
     "output_type": "execute_result"
    }
   ],
   "source": [
    "\\l ./Ch11IO/t"
   ]
  },
  {
   "cell_type": "code",
   "execution_count": 8,
   "metadata": {
    "ExecuteTime": {
     "end_time": "2020-11-26T15:21:49.552861000Z",
     "start_time": "2020-11-26T15:21:49.544Z"
    }
   },
   "outputs": [
    {
     "data": {
      "text/plain": [
       "c1 c2\n",
       "-----\n",
       "a  10\n",
       "b  20\n",
       "c  30\n"
      ]
     },
     "execution_count": 8,
     "metadata": {},
     "output_type": "execute_result"
    }
   ],
   "source": [
    "t"
   ]
  },
  {
   "cell_type": "markdown",
   "metadata": {},
   "source": [
    "### Binary Data Files"
   ]
  },
  {
   "cell_type": "markdown",
   "metadata": {},
   "source": [
    "Open a data file handle with `hopen`, whose result is a function called the open handle. This function should be stored in a variable, traditionally `h`, which is functionally applied to data to write it to the file. We will explain the result of applying the open handle shortly. We begin with a file containing serialized q data and show how to append to it."
   ]
  },
  {
   "cell_type": "code",
   "execution_count": 9,
   "metadata": {
    "ExecuteTime": {
     "end_time": "2020-11-26T15:23:46.407087000Z",
     "start_time": "2020-11-26T15:23:46.398Z"
    }
   },
   "outputs": [
    {
     "data": {
      "text/plain": [
       "1026i\n"
      ]
     },
     "execution_count": 9,
     "metadata": {},
     "output_type": "execute_result"
    }
   ],
   "source": [
    "h:hopen `:./Ch11IO/L\n",
    "h[42]"
   ]
  },
  {
   "cell_type": "code",
   "execution_count": 10,
   "metadata": {
    "ExecuteTime": {
     "end_time": "2020-11-26T15:23:50.428433000Z",
     "start_time": "2020-11-26T15:23:50.420Z"
    }
   },
   "outputs": [
    {
     "data": {
      "text/plain": [
       "1026i\n"
      ]
     },
     "execution_count": 10,
     "metadata": {},
     "output_type": "execute_result"
    }
   ],
   "source": [
    "h 100 200"
   ]
  },
  {
   "cell_type": "markdown",
   "metadata": {},
   "source": [
    "**Always apply `hclose` to the open handle to close it and flush any data that might be buffered**\n",
    "\n",
    "Failure to do so may cause your program to run out of file handles unnecessarily."
   ]
  },
  {
   "cell_type": "code",
   "execution_count": 12,
   "metadata": {
    "ExecuteTime": {
     "end_time": "2020-11-26T15:24:46.670421000Z",
     "start_time": "2020-11-26T15:24:46.659Z"
    }
   },
   "outputs": [
    {
     "data": {
      "text/plain": [
       "10 20 30 42 100 200\n"
      ]
     },
     "execution_count": 12,
     "metadata": {},
     "output_type": "execute_result"
    }
   ],
   "source": [
    "hclose h\n",
    "get `:./Ch11IO/L"
   ]
  },
  {
   "cell_type": "code",
   "execution_count": 12,
   "metadata": {
    "ExecuteTime": {
     "end_time": "2020-11-26T15:25:34.378619000Z",
     "start_time": "2020-11-26T15:25:34.366Z"
    }
   },
   "outputs": [
    {
     "data": {
      "text/plain": [
       "1026i\n"
      ]
     },
     "execution_count": 13,
     "metadata": {},
     "output_type": "execute_result"
    },
    {
     "data": {
      "text/plain": [
       "1026i\n"
      ]
     },
     "execution_count": 13,
     "metadata": {},
     "output_type": "execute_result"
    },
    {
     "ename": "\u001b[0;31m./Ch11IO/raw\u001b[0m",
     "evalue": "\u001b[0;31m./Ch11IO/raw\u001b[0m",
     "output_type": "error",
     "traceback": [
      "\u001b[0;31mevaluation error:\n\u001b[0m",
      "\u001b[0;31m./Ch11IO/raw\u001b[0m",
      "\u001b[0;31m\u001b[0m",
      "\u001b[0;31m  [0]  get `:./Ch11IO/raw\n       ^\n\u001b[0m"
     ]
    }
   ],
   "source": [
    "h:hopen `:./Ch11IO/raw\n",
    "h[42]\n",
    "h 10 2 30\n",
    "hclose h"
   ]
  },
  {
   "cell_type": "code",
   "execution_count": 12,
   "metadata": {
    "ExecuteTime": {
     "end_time": "2020-11-26T15:26:37.877926000Z",
     "start_time": "2020-11-26T15:26:37.869Z"
    }
   },
   "outputs": [
    {
     "ename": "\u001b[0;31m./Ch11IO/raw\u001b[0m",
     "evalue": "\u001b[0;31m./Ch11IO/raw\u001b[0m",
     "output_type": "error",
     "traceback": [
      "\u001b[0;31mevaluation error:\n\u001b[0m",
      "\u001b[0;31m./Ch11IO/raw\u001b[0m",
      "\u001b[0;31m\u001b[0m",
      "\u001b[0;31m  [0]  get `:./Ch11IO/raw\n       ^\n\u001b[0m"
     ]
    }
   ],
   "source": [
    "get `:./Ch11IO/raw"
   ]
  },
  {
   "cell_type": "code",
   "execution_count": 13,
   "metadata": {
    "ExecuteTime": {
     "end_time": "2020-11-26T15:27:45.567983000Z",
     "start_time": "2020-11-26T15:27:45.554Z"
    }
   },
   "outputs": [
    {
     "data": {
      "text/plain": [
       "1026i\n"
      ]
     },
     "execution_count": 14,
     "metadata": {},
     "output_type": "execute_result"
    },
    {
     "data": {
      "text/plain": [
       "1026i\n"
      ]
     },
     "execution_count": 14,
     "metadata": {},
     "output_type": "execute_result"
    },
    {
     "ename": "\u001b[0;31m./Ch11IO/new\u001b[0m",
     "evalue": "\u001b[0;31m./Ch11IO/new\u001b[0m",
     "output_type": "error",
     "traceback": [
      "\u001b[0;31mevaluation error:\n\u001b[0m",
      "\u001b[0;31m./Ch11IO/new\u001b[0m",
      "\u001b[0;31m\u001b[0m",
      "\u001b[0;31m  [0]  get `:./Ch11IO/new\n       ^\n\u001b[0m"
     ]
    }
   ],
   "source": [
    "h:hopen `:./Ch11IO/new\n",
    "h\n",
    "1026i[100 200 300]\n",
    "hclose 1026i\n",
    "get `:./Ch11IO/new"
   ]
  },
  {
   "cell_type": "markdown",
   "metadata": {},
   "source": [
    "Apparently q assigns an int to each open file and keeps track of which int values are valid handles. This accounts for the cryptic error message when you attempt to use variables with simple list notation."
   ]
  },
  {
   "cell_type": "code",
   "execution_count": 13,
   "metadata": {
    "ExecuteTime": {
     "end_time": "2020-11-26T15:29:03.016194000Z",
     "start_time": "2020-11-26T15:29:03.008Z"
    }
   },
   "outputs": [
    {
     "ename": "\u001b[0;31mCannot write to handle 42. OS reports: Bad file descriptor\u001b[0m",
     "evalue": "\u001b[0;31mCannot write to handle 42. OS reports: Bad file descriptor\u001b[0m",
     "output_type": "error",
     "traceback": [
      "\u001b[0;31mevaluation error:\n\u001b[0m",
      "\u001b[0;31mCannot write to handle 42. OS reports: Bad file descriptor\u001b[0m",
      "\u001b[0;31m\u001b[0m",
      "\u001b[0;31m  [0]  a b\n       ^\n\u001b[0m"
     ]
    }
   ],
   "source": [
    "a:42\n",
    "b:43\n",
    "a b"
   ]
  },
  {
   "cell_type": "markdown",
   "metadata": {
    "ExecuteTime": {
     "end_time": "2020-11-26T15:30:04.752548000Z",
     "start_time": "2020-11-26T15:30:04.745Z"
    }
   },
   "source": [
    "### Writing and Reading Binary\n",
    "\n",
    "Apply `read1` on a file handle to read any file into q as a list of bytes. "
   ]
  },
  {
   "cell_type": "code",
   "execution_count": 17,
   "metadata": {
    "ExecuteTime": {
     "end_time": "2020-11-26T15:30:45.209727000Z",
     "start_time": "2020-11-26T15:30:45.201Z"
    }
   },
   "outputs": [
    {
     "data": {
      "text/plain": [
       "0xfe2007000000000003000000000000000a0000000000000014000000000000001e000000000..\n"
      ]
     },
     "execution_count": 17,
     "metadata": {},
     "output_type": "execute_result"
    }
   ],
   "source": [
    "read1 `:./Ch11IO/L set 10 20 30"
   ]
  },
  {
   "cell_type": "markdown",
   "metadata": {},
   "source": [
    "If you want to write raw binary data, as opposed to the internal representation of a q entity containing the data, use the infelicitously named `1:`. It takes a symbolic file handle as its left argument and a simple byte list as its right argument. Bytes in the right operand are essentially streamed to the file."
   ]
  },
  {
   "cell_type": "code",
   "execution_count": 18,
   "metadata": {
    "ExecuteTime": {
     "end_time": "2020-11-26T15:31:28.024267000Z",
     "start_time": "2020-11-26T15:31:28.014Z"
    }
   },
   "outputs": [
    {
     "data": {
      "text/plain": [
       "`:./Ch11IO/answer.bin\n"
      ]
     },
     "execution_count": 18,
     "metadata": {},
     "output_type": "execute_result"
    }
   ],
   "source": [
    "`:./Ch11IO/answer.bin 1: 0x06072a"
   ]
  },
  {
   "cell_type": "code",
   "execution_count": 19,
   "metadata": {
    "ExecuteTime": {
     "end_time": "2020-11-26T15:31:42.687520000Z",
     "start_time": "2020-11-26T15:31:42.677Z"
    }
   },
   "outputs": [
    {
     "data": {
      "text/plain": [
       "0x06072a\n"
      ]
     },
     "execution_count": 19,
     "metadata": {},
     "output_type": "execute_result"
    }
   ],
   "source": [
    "read1 `:./Ch11IO/answer.bin"
   ]
  },
  {
   "cell_type": "markdown",
   "metadata": {},
   "source": [
    "### Using Apply `Amend`\n",
    "\n",
    "To write the file, or overwrite an existing file, use assign `:` `.`"
   ]
  },
  {
   "cell_type": "code",
   "execution_count": 20,
   "metadata": {
    "ExecuteTime": {
     "end_time": "2020-11-26T15:33:26.342335000Z",
     "start_time": "2020-11-26T15:33:26.332Z"
    }
   },
   "outputs": [
    {
     "data": {
      "text/plain": [
       "`:./Ch11IO/raw\n"
      ]
     },
     "execution_count": 20,
     "metadata": {},
     "output_type": "execute_result"
    },
    {
     "data": {
      "text/plain": [
       "1001 1002 1003\n"
      ]
     },
     "execution_count": 20,
     "metadata": {},
     "output_type": "execute_result"
    }
   ],
   "source": [
    ".[`:./Ch11IO/raw; (); :; 1001 1002 1003]\n",
    "get `:./Ch11IO/raw"
   ]
  },
  {
   "cell_type": "markdown",
   "metadata": {},
   "source": [
    "To append to an existing file use `,`."
   ]
  },
  {
   "cell_type": "code",
   "execution_count": 22,
   "metadata": {
    "ExecuteTime": {
     "end_time": "2020-11-26T15:34:28.470983000Z",
     "start_time": "2020-11-26T15:34:28.462Z"
    }
   },
   "outputs": [
    {
     "data": {
      "text/plain": [
       "1001 1002 1003 42\n"
      ]
     },
     "execution_count": 22,
     "metadata": {},
     "output_type": "execute_result"
    }
   ],
   "source": [
    ".[`:./Ch11IO/raw; (); ,; 42]\n",
    "get `:./Ch11IO/raw"
   ]
  },
  {
   "cell_type": "markdown",
   "metadata": {},
   "source": [
    "## Save and Load on Tables\n",
    "\n",
    "In its simplest form, save serializes a table in a **global** variable to a binary file having the same name as the variable. It overwrites an existing file."
   ]
  },
  {
   "cell_type": "code",
   "execution_count": 23,
   "metadata": {
    "ExecuteTime": {
     "end_time": "2020-11-26T15:35:37.719659000Z",
     "start_time": "2020-11-26T15:35:37.707Z"
    }
   },
   "outputs": [
    {
     "data": {
      "text/plain": [
       "`:./Ch11IO/t\n"
      ]
     },
     "execution_count": 23,
     "metadata": {},
     "output_type": "execute_result"
    },
    {
     "data": {
      "text/plain": [
       "c1 c2 c3 \n",
       "---------\n",
       "a  10 1.1\n",
       "b  20 2.2\n",
       "c  30 3.3\n"
      ]
     },
     "execution_count": 23,
     "metadata": {},
     "output_type": "execute_result"
    }
   ],
   "source": [
    "t:([] c1:`a`b`c; c2:10 20 30; c3:1.1 2.2 3.3)\n",
    "save `:./Ch11IO/t\n",
    "get `:./Ch11IO/t"
   ]
  },
  {
   "cell_type": "code",
   "execution_count": 26,
   "metadata": {
    "ExecuteTime": {
     "end_time": "2020-11-26T15:37:15.111534000Z",
     "start_time": "2020-11-26T15:37:15.092Z"
    }
   },
   "outputs": [
    {
     "data": {
      "text/plain": [
       "`:./Ch11IO/t.txt\n"
      ]
     },
     "execution_count": 26,
     "metadata": {},
     "output_type": "execute_result"
    },
    {
     "data": {
      "text/plain": [
       "`:./Ch11IO/t.csv\n"
      ]
     },
     "execution_count": 26,
     "metadata": {},
     "output_type": "execute_result"
    },
    {
     "data": {
      "text/plain": [
       "`:./Ch11IO/t.xml\n"
      ]
     },
     "execution_count": 26,
     "metadata": {},
     "output_type": "execute_result"
    },
    {
     "data": {
      "text/plain": [
       "`:./Ch11IO/t.xls\n"
      ]
     },
     "execution_count": 26,
     "metadata": {},
     "output_type": "execute_result"
    }
   ],
   "source": [
    "save `:./Ch11IO/t.txt\n",
    "save `:./Ch11IO/t.csv\n",
    "save `:./Ch11IO/t.xml\n",
    "save `:./Ch11IO/t.xls"
   ]
  },
  {
   "cell_type": "markdown",
   "metadata": {},
   "source": [
    "## Splayed Tables\n",
    "\n",
    "For larger tables that may not fit into memory on all machines, you can ask q to serialize each column of the table to its own file in a specified directory. A table persisted in this form is called a _splayed table_. The advantage is that when querying a splayed table, only the columns referred to in the query will be loaded into memory. This is a substantial memory win for a table having many columns.\n",
    "\n",
    "**It is worthwhile looking up the origin of the English word “splay”. Also, please don’t spay your tables.**"
   ]
  },
  {
   "cell_type": "code",
   "execution_count": 27,
   "metadata": {
    "ExecuteTime": {
     "end_time": "2020-11-26T15:47:56.941111000Z",
     "start_time": "2020-11-26T15:47:56.930Z"
    }
   },
   "outputs": [
    {
     "data": {
      "text/plain": [
       "`:./Ch11IO/t\n"
      ]
     },
     "execution_count": 27,
     "metadata": {},
     "output_type": "execute_result"
    },
    {
     "data": {
      "text/plain": [
       "c1 c2 c3 \n",
       "---------\n",
       "a  10 1.1\n",
       "b  20 2.2\n",
       "c  30 3.3\n"
      ]
     },
     "execution_count": 27,
     "metadata": {},
     "output_type": "execute_result"
    }
   ],
   "source": [
    "`:./Ch11IO/t set ([] c1:`a`b`c; c2:10 20 30; c3:1.1 2.2 3.3)\n",
    "get `:./Ch11IO/t"
   ]
  },
  {
   "cell_type": "code",
   "execution_count": 28,
   "metadata": {
    "ExecuteTime": {
     "end_time": "2020-11-26T15:49:57.820559000Z",
     "start_time": "2020-11-26T15:49:57.812Z"
    }
   },
   "outputs": [
    {
     "data": {
      "text/plain": [
       "`:./Ch11IO/tsplay/\n"
      ]
     },
     "execution_count": 28,
     "metadata": {},
     "output_type": "execute_result"
    }
   ],
   "source": [
    "`:./Ch11IO/tsplay/ set ([] c1:10 20 30; c2:1.1 2.2 3.3)"
   ]
  },
  {
   "cell_type": "markdown",
   "metadata": {},
   "source": [
    "List the directory in the OS and you will see a directory `tsplay` that contains three files, one file for each column in the original table, as well as a hidden `.d` file."
   ]
  },
  {
   "cell_type": "code",
   "execution_count": 29,
   "metadata": {
    "ExecuteTime": {
     "end_time": "2020-11-26T15:52:36.228797000Z",
     "start_time": "2020-11-26T15:52:36.220Z"
    }
   },
   "outputs": [
    {
     "data": {
      "text/plain": [
       "`c1`c2\n"
      ]
     },
     "execution_count": 29,
     "metadata": {},
     "output_type": "execute_result"
    }
   ],
   "source": [
    "get hsym `$\"./Ch11IO/tsplay/.d\""
   ]
  },
  {
   "cell_type": "markdown",
   "metadata": {},
   "source": [
    "There are **restrictions** on tables that can be splayed.\n",
    "\n",
    "1. All columns must be _simple or compound lists_. The latter means a list of simple lists of uniform type. An arbitrary general list column cannot be splayed.\n",
    "2. **Symbol columns must be enumerated.(?)**"
   ]
  },
  {
   "cell_type": "code",
   "execution_count": 33,
   "metadata": {
    "ExecuteTime": {
     "end_time": "2020-11-26T15:58:18.377216000Z",
     "start_time": "2020-11-26T15:58:18.372Z"
    }
   },
   "outputs": [
    {
     "data": {
      "text/plain": [
       "`:./Ch11IO/tok/\n"
      ]
     },
     "execution_count": 33,
     "metadata": {},
     "output_type": "execute_result"
    },
    {
     "data": {
      "text/plain": [
       "`:./Ch11IO/tok/\n"
      ]
     },
     "execution_count": 33,
     "metadata": {},
     "output_type": "execute_result"
    },
    {
     "data": {
      "text/plain": [
       "`:./Ch11IO/tok/\n"
      ]
     },
     "execution_count": 33,
     "metadata": {},
     "output_type": "execute_result"
    }
   ],
   "source": [
    "/ success case\n",
    "`:./Ch11IO/tok/ set ([] c1:2000.01.01+til 3; c2:1 2 3)\n",
    "`:./Ch11IO/tok/ set ([] c1:1 2 3; c2:(1.1 2.2; enlist 3.3; 4.4 5.5))\n",
    "`:./Ch11IO/tok/ set ([] c1:1 2 3; c2:(1;`1;\"a\"))"
   ]
  },
  {
   "cell_type": "code",
   "execution_count": 33,
   "metadata": {
    "ExecuteTime": {
     "end_time": "2020-11-26T15:58:19.224985000Z",
     "start_time": "2020-11-26T15:58:19.214Z"
    }
   },
   "outputs": [
    {
     "ename": "\u001b[0;31mtype\u001b[0m",
     "evalue": "\u001b[0;31mtype\u001b[0m",
     "output_type": "error",
     "traceback": [
      "\u001b[0;31mevaluation error:\n\u001b[0m",
      "\u001b[0;31mtype\u001b[0m",
      "\u001b[0;31m\u001b[0m",
      "\u001b[0;31m  [1]  (.q.set)\n\n\u001b[0m",
      "\u001b[0;31m  [0]  `:./Ch11IO/toops/ set ([] c1:`a`b`c; c2:10 20 30)\n                         ^\n\u001b[0m"
     ]
    }
   ],
   "source": [
    "/ failed case (?)\n",
    "`:./Ch11IO/toops/ set ([] c1:`a`b`c; c2:10 20 30)"
   ]
  },
  {
   "cell_type": "markdown",
   "metadata": {},
   "source": [
    "## Text Data"
   ]
  },
  {
   "cell_type": "markdown",
   "metadata": {},
   "source": [
    "### Reading and Writing Text Files"
   ]
  },
  {
   "cell_type": "code",
   "execution_count": 34,
   "metadata": {
    "ExecuteTime": {
     "end_time": "2020-11-26T16:02:06.405764000Z",
     "start_time": "2020-11-26T16:02:06.403Z"
    }
   },
   "outputs": [
    {
     "data": {
      "text/plain": [
       "\"So long\"\n",
       "\"and thanks\"\n",
       "\"for all the fish\"\n"
      ]
     },
     "execution_count": 34,
     "metadata": {},
     "output_type": "execute_result"
    }
   ],
   "source": [
    "read0 `:./Ch11IO/solong.txt"
   ]
  },
  {
   "cell_type": "code",
   "execution_count": 35,
   "metadata": {
    "ExecuteTime": {
     "end_time": "2020-11-26T16:02:17.394025000Z",
     "start_time": "2020-11-26T16:02:17.392Z"
    }
   },
   "outputs": [
    {
     "data": {
      "text/plain": [
       "0x536f206c6f6e670a616e64207468616e6b730a666f7220616c6c2074686520666973680a\n"
      ]
     },
     "execution_count": 35,
     "metadata": {},
     "output_type": "execute_result"
    }
   ],
   "source": [
    "read1 `:./Ch11IO/solong.txt"
   ]
  },
  {
   "cell_type": "code",
   "execution_count": 36,
   "metadata": {
    "ExecuteTime": {
     "end_time": "2020-11-26T16:02:32.296150000Z",
     "start_time": "2020-11-26T16:02:32.294Z"
    }
   },
   "outputs": [
    {
     "data": {
      "text/plain": [
       "0x536f206c6f6e67\n",
       "0x616e64207468616e6b73\n",
       "0x666f7220616c6c207468652066697368\n"
      ]
     },
     "execution_count": 36,
     "metadata": {},
     "output_type": "execute_result"
    }
   ],
   "source": [
    "\"x\"$read0 `:./Ch11IO/solong.txt"
   ]
  },
  {
   "cell_type": "code",
   "execution_count": 37,
   "metadata": {
    "ExecuteTime": {
     "end_time": "2020-11-26T16:03:07.666493000Z",
     "start_time": "2020-11-26T16:03:07.659Z"
    }
   },
   "outputs": [
    {
     "data": {
      "text/plain": [
       "\"So long\\nand thanks\\nfor all the fish\\n\"\n"
      ]
     },
     "execution_count": 37,
     "metadata": {},
     "output_type": "execute_result"
    }
   ],
   "source": [
    "\"c\"$read1 `:./Ch11IO/solong.txt"
   ]
  },
  {
   "cell_type": "code",
   "execution_count": 38,
   "metadata": {
    "ExecuteTime": {
     "end_time": "2020-11-26T16:03:43.171091000Z",
     "start_time": "2020-11-26T16:03:43.160Z"
    }
   },
   "outputs": [
    {
     "data": {
      "text/plain": [
       "`:./Ch11IO/solong2.txt\n"
      ]
     },
     "execution_count": 38,
     "metadata": {},
     "output_type": "execute_result"
    },
    {
     "data": {
      "text/plain": [
       "\"Life\"\n",
       "\"The Universe\"\n",
       "\"And Everything\"\n"
      ]
     },
     "execution_count": 38,
     "metadata": {},
     "output_type": "execute_result"
    }
   ],
   "source": [
    "`:./Ch11IO/solong2.txt 0: (\"Life\"; \"The Universe\"; \"And Everything\")\n",
    "read0 `:./Ch11IO/solong2.txt"
   ]
  },
  {
   "cell_type": "markdown",
   "metadata": {},
   "source": [
    "### Using `hopen` and `hclose`\n",
    "\n",
    "Just as with a binary data file, a symbolic text file handle can be opened with hopen. The result is again an int that is conventionally stored in the variable h and is used with function application syntax to write data. ***The difference is that instead of using plain h to write binary data, you use neg[h] to write strings as text. Seriously.**\n",
    "\n",
    "**you apply hclose to h, not to neg[h].**"
   ]
  },
  {
   "cell_type": "code",
   "execution_count": 39,
   "metadata": {
    "ExecuteTime": {
     "end_time": "2020-11-26T16:07:19.875195000Z",
     "start_time": "2020-11-26T16:07:19.872Z"
    }
   },
   "outputs": [
    {
     "data": {
      "text/plain": [
       "-1026i\n"
      ]
     },
     "execution_count": 39,
     "metadata": {},
     "output_type": "execute_result"
    },
    {
     "data": {
      "text/plain": [
       "-1026i\n"
      ]
     },
     "execution_count": 39,
     "metadata": {},
     "output_type": "execute_result"
    },
    {
     "data": {
      "text/plain": [
       "\"This\"\n",
       "\"and\"\n",
       "\"that\"\n"
      ]
     },
     "execution_count": 39,
     "metadata": {},
     "output_type": "execute_result"
    }
   ],
   "source": [
    "h:hopen `:./Ch11IO/new.txt\n",
    "neg[h] enlist \"This\"\n",
    "neg[h] (\"and\"; \"that\")\n",
    "hclose h\n",
    "read0 `:./Ch11IO/new.txt"
   ]
  },
  {
   "cell_type": "markdown",
   "metadata": {},
   "source": [
    "If the file already exists, opening with `hopen` and applying the open handle will **append rather than overwrite.**"
   ]
  },
  {
   "cell_type": "code",
   "execution_count": 40,
   "metadata": {
    "ExecuteTime": {
     "end_time": "2020-11-26T16:08:39.167942000Z",
     "start_time": "2020-11-26T16:08:39.164Z"
    }
   },
   "outputs": [
    {
     "data": {
      "text/plain": [
       "-1026i\n"
      ]
     },
     "execution_count": 40,
     "metadata": {},
     "output_type": "execute_result"
    },
    {
     "data": {
      "text/plain": [
       "\"This\"\n",
       "\"and\"\n",
       "\"that\"\n",
       "\"and\"\n",
       "\"more\"\n"
      ]
     },
     "execution_count": 40,
     "metadata": {},
     "output_type": "execute_result"
    }
   ],
   "source": [
    "h:hopen `:./Ch11IO/new.txt\n",
    "neg[h] (\"and\"; \"more\")\n",
    "hclose h\n",
    "read0 `:./Ch11IO/new.txt"
   ]
  },
  {
   "cell_type": "markdown",
   "metadata": {},
   "source": [
    "### Preparing Text\n",
    "\n",
    "In this use, `0:` has as left operand a char delimiter and as right operand a table or list of columns. Observe the use of the pre-defined constant `csv`, which is simply `\",\"`."
   ]
  },
  {
   "cell_type": "code",
   "execution_count": 1,
   "metadata": {
    "ExecuteTime": {
     "end_time": "2020-11-27T12:47:34.641057000Z",
     "start_time": "2020-11-27T12:47:34.637Z"
    }
   },
   "outputs": [
    {
     "data": {
      "text/plain": [
       "\"c1\\tc2\"\n",
       "\"a\\t1\"\n",
       "\"b\\t2\"\n",
       "\"c\\t3\"\n"
      ]
     },
     "execution_count": 1,
     "metadata": {},
     "output_type": "execute_result"
    }
   ],
   "source": [
    "t:([] c1:`a`b`c; c2:1 2 3)\n",
    "\"\\t\" 0: t"
   ]
  },
  {
   "cell_type": "code",
   "execution_count": 2,
   "metadata": {
    "ExecuteTime": {
     "end_time": "2020-11-27T12:47:39.757018000Z",
     "start_time": "2020-11-27T12:47:39.749Z"
    }
   },
   "outputs": [
    {
     "data": {
      "text/plain": [
       "\"c1|c2\"\n",
       "\"a|1\"\n",
       "\"b|2\"\n",
       "\"c|3\"\n"
      ]
     },
     "execution_count": 2,
     "metadata": {},
     "output_type": "execute_result"
    }
   ],
   "source": [
    "\"|\" 0: t"
   ]
  },
  {
   "cell_type": "code",
   "execution_count": 3,
   "metadata": {
    "ExecuteTime": {
     "end_time": "2020-11-27T12:47:41.143145000Z",
     "start_time": "2020-11-27T12:47:41.133Z"
    }
   },
   "outputs": [
    {
     "data": {
      "text/plain": [
       "\",\"\n"
      ]
     },
     "execution_count": 3,
     "metadata": {},
     "output_type": "execute_result"
    }
   ],
   "source": [
    "csv"
   ]
  },
  {
   "cell_type": "code",
   "execution_count": 4,
   "metadata": {
    "ExecuteTime": {
     "end_time": "2020-11-27T12:47:47.406728000Z",
     "start_time": "2020-11-27T12:47:47.398Z"
    }
   },
   "outputs": [
    {
     "data": {
      "text/plain": [
       "\"c1,c2\"\n",
       "\"a,1\"\n",
       "\"b,2\"\n",
       "\"c,3\"\n"
      ]
     },
     "execution_count": 4,
     "metadata": {},
     "output_type": "execute_result"
    }
   ],
   "source": [
    "csv 0: t"
   ]
  },
  {
   "cell_type": "code",
   "execution_count": 5,
   "metadata": {
    "ExecuteTime": {
     "end_time": "2020-11-27T12:48:00.310977000Z",
     "start_time": "2020-11-27T12:48:00.301Z"
    }
   },
   "outputs": [
    {
     "data": {
      "text/plain": [
       "`:./Ch11IO/t.csv\n"
      ]
     },
     "execution_count": 5,
     "metadata": {},
     "output_type": "execute_result"
    }
   ],
   "source": [
    "`:./Ch11IO/t.csv 0: csv 0: t"
   ]
  },
  {
   "cell_type": "markdown",
   "metadata": {},
   "source": [
    "## Parsing Records\n",
    "\n",
    "Binary forms of `0:` and `1:` parse individual fields according to data type from text or binary records. Field parsing is based on the following field types.\n",
    "\n",
    "The column labeled `‘0’` contains the (upper case) field type char for text data. The (lower case) char in column `‘1’` is for binary data. The column labeled `‘Width(1)’` contains the number of bytes that will be parsed for a binary read. The column labeled `‘Format(0)’` displays the format(s) that are accepted in a text read."
   ]
  },
  {
   "cell_type": "markdown",
   "metadata": {},
   "source": [
    "![](../data/pic/ch11.png)"
   ]
  },
  {
   "cell_type": "markdown",
   "metadata": {},
   "source": [
    "### Fixed-Width Records\n",
    "\n",
    "The binary form of `0:` and `1:` for reading fixed length files is,\n",
    "\n",
    "$(L_t;L_w)\\ 0:f$\n",
    "\n",
    "$(L_t;L_w)\\ 1:f$"
   ]
  },
  {
   "cell_type": "markdown",
   "metadata": {},
   "source": [
    "The left operand is a nested list containing two items: $L_t$ is a simple list of char containing one letter per field; $L_w$ is a simple list of int containing one integer width per field. The sum of the field widths in $L_w$ should equal the width of the record. The result of the function is a list of lists, one list arising from each field."
   ]
  },
  {
   "cell_type": "code",
   "execution_count": 2,
   "metadata": {
    "ExecuteTime": {
     "end_time": "2021-02-10T20:31:29.006771000Z",
     "start_time": "2021-02-10T20:31:28.998Z"
    }
   },
   "outputs": [
    {
     "data": {
      "text/plain": [
       "\"1001  98.000ABCDEF1234Garbage2015.01.01\"\n",
       "\"1002  42.001GHUJKL0123Garbage2015.01.02\"\n",
       "\"1003  44.123nopqrs9876Garbage2015.01.03\"\n"
      ]
     },
     "execution_count": 2,
     "metadata": {},
     "output_type": "execute_result"
    }
   ],
   "source": [
    "read0 `:./Ch11IO/Fixed.txt"
   ]
  },
  {
   "cell_type": "code",
   "execution_count": 6,
   "metadata": {
    "ExecuteTime": {
     "end_time": "2020-11-27T12:56:21.368099000Z",
     "start_time": "2020-11-27T12:56:21.365Z"
    }
   },
   "outputs": [
    {
     "data": {
      "text/plain": [
       "1001       1002       1003      \n",
       "98         42.001     44.123    \n",
       "ABCDEF1234 GHUJKL0123 nopqrs9876\n",
       "2015.01.01 2015.01.02 2015.01.03\n"
      ]
     },
     "execution_count": 6,
     "metadata": {},
     "output_type": "execute_result"
    }
   ],
   "source": [
    "(\"JFS D\";4 8 10 7 10) 0: `:./Ch11IO/Fixed.txt"
   ]
  },
  {
   "cell_type": "code",
   "execution_count": 7,
   "metadata": {
    "ExecuteTime": {
     "end_time": "2020-11-27T12:58:34.278929000Z",
     "start_time": "2020-11-27T12:58:34.267Z"
    }
   },
   "outputs": [
    {
     "data": {
      "text/plain": [
       "c1   c2     c3         c4        \n",
       "---------------------------------\n",
       "1001 98     ABCDEF1234 2015.01.01\n",
       "1002 42.001 GHUJKL0123 2015.01.02\n",
       "1003 44.123 nopqrs9876 2015.01.03\n"
      ]
     },
     "execution_count": 7,
     "metadata": {},
     "output_type": "execute_result"
    }
   ],
   "source": [
    "flip `c1`c2`c3`c4!(\"JFS D\";4 8 10 7 10) 0: `:./Ch11IO/Fixed.txt"
   ]
  },
  {
   "cell_type": "markdown",
   "metadata": {},
   "source": [
    "Also note that it is possible to parse a list of strings using the same format, since they represent text records in memory."
   ]
  },
  {
   "cell_type": "code",
   "execution_count": 3,
   "metadata": {
    "ExecuteTime": {
     "end_time": "2021-02-10T20:33:02.631704000Z",
     "start_time": "2021-02-10T20:33:02.624Z"
    }
   },
   "outputs": [
    {
     "data": {
      "text/plain": [
       "1001       1002       1003      \n",
       "98         42.001     44.123    \n",
       "ABCDEF1234 GHUJKL0123 nopqrs9876\n",
       "2015.01.01 2015.01.02 2015.01.03\n"
      ]
     },
     "execution_count": 3,
     "metadata": {},
     "output_type": "execute_result"
    }
   ],
   "source": [
    "fixed: read0 `:./Ch11IO/Fixed.txt\n",
    "(\"JFS D\";4 8 10 7 10) 0: fixed"
   ]
  },
  {
   "cell_type": "markdown",
   "metadata": {},
   "source": [
    "The more general form for the right operand `f` is,\n",
    "\n",
    "$(h_{file};\\ i;\\ n)$\n",
    "\n",
    "where $h_{file}$ is a symbolic file handle, i is the offset into the file to begin reading and n is the number of bytes to read. This is useful for sampling a file or for large files that cannot be read into memory in a single gulp.\n",
    "\n",
    "**A read operation should begin and end on record boundaries or you will get meaningless results.**"
   ]
  },
  {
   "cell_type": "code",
   "execution_count": 8,
   "metadata": {
    "ExecuteTime": {
     "end_time": "2020-11-27T13:00:55.894616000Z",
     "start_time": "2020-11-27T13:00:55.891Z"
    }
   },
   "outputs": [
    {
     "data": {
      "text/plain": [
       "1002       1003      \n",
       "42.001     44.123    \n",
       "GHUJKL0123 nopqrs9876\n",
       "2015.01.02 2015.01.03\n"
      ]
     },
     "execution_count": 8,
     "metadata": {},
     "output_type": "execute_result"
    }
   ],
   "source": [
    "(\"JFS D\";4 8 10 7 10) 0: (`:./Ch11IO/Fixed.txt; 40; 80)"
   ]
  },
  {
   "cell_type": "markdown",
   "metadata": {},
   "source": [
    "### Variable Length Records\n",
    "\n",
    "The binary form of `0:` and `1:` for reading variable length, delimited files is\n",
    "\n",
    "$(L_t;\\ D)\\  0:f$\n",
    "\n",
    "$(L_t;\\ D)\\  1:f$\n",
    "\n",
    "The left operand is a list comprising two lists. $L_t$ is a simple list of char containing one type letter per corresponding field. `D` is either **a char representing the delimiting character or an enlisted char**.\n",
    "\n",
    "Specify `D` as a delimiter char when the first record of the file does **not** contain lumn names. In this case, the result of the parse is a list of **column** lists, each of which contains items of type specified by $L_t$. The simplest form of the right operand `f` is a symbolic file handle."
   ]
  },
  {
   "cell_type": "code",
   "execution_count": 9,
   "metadata": {
    "ExecuteTime": {
     "end_time": "2020-11-27T13:08:42.845211000Z",
     "start_time": "2020-11-27T13:08:42.843Z"
    }
   },
   "outputs": [
    {
     "data": {
      "text/plain": [
       "1001        1002        1004       \n",
       "DBT12345678 EQT98765432 CCR00000001\n",
       "98.6        24.75       121.23     \n"
      ]
     },
     "execution_count": 9,
     "metadata": {},
     "output_type": "execute_result"
    }
   ],
   "source": [
    "(\"JSF\"; \",\") 0: read0 `:./Ch11IO/Simple.csv"
   ]
  },
  {
   "cell_type": "code",
   "execution_count": 10,
   "metadata": {
    "ExecuteTime": {
     "end_time": "2020-11-27T13:08:57.255003000Z",
     "start_time": "2020-11-27T13:08:57.247Z"
    }
   },
   "outputs": [
    {
     "data": {
      "text/plain": [
       "c1   c2          c3    \n",
       "-----------------------\n",
       "1001 DBT12345678 98.6  \n",
       "1002 EQT98765432 24.75 \n",
       "1004 CCR00000001 121.23\n"
      ]
     },
     "execution_count": 10,
     "metadata": {},
     "output_type": "execute_result"
    }
   ],
   "source": [
    "flip `c1`c2`c3!(\"JSF\"; \",\") 0: read0 `:./Ch11IO/Simple.csv"
   ]
  },
  {
   "cell_type": "code",
   "execution_count": 11,
   "metadata": {
    "ExecuteTime": {
     "end_time": "2020-11-27T13:09:18.671235000Z",
     "start_time": "2020-11-27T13:09:18.664Z"
    }
   },
   "outputs": [
    {
     "data": {
      "text/plain": [
       "1001          1002          1004         \n",
       "\"DBT12345678\" \"EQT98765432\" \"CCR00000001\"\n",
       "98.6          24.75         121.23       \n"
      ]
     },
     "execution_count": 11,
     "metadata": {},
     "output_type": "execute_result"
    }
   ],
   "source": [
    "(\"J*F\"; \",\") 0: read0 `:./Ch11IO/Simple.csv"
   ]
  },
  {
   "cell_type": "markdown",
   "metadata": {},
   "source": [
    "Specify `D` as an **enlisted char** when **the first record contains a separated list of names**. Subsequent records are read as data specified by the types in Lt. The result is a table in which the column names are taken from the first record."
   ]
  },
  {
   "cell_type": "code",
   "execution_count": 12,
   "metadata": {
    "ExecuteTime": {
     "end_time": "2020-11-27T13:14:44.427447000Z",
     "start_time": "2020-11-27T13:14:44.425Z"
    }
   },
   "outputs": [
    {
     "data": {
      "text/plain": [
       "id   ticker      price \n",
       "-----------------------\n",
       "1001 DBT12345678 98.6  \n",
       "1002 EQT98765432 24.7  \n",
       "1004 CCR00000001 121.23\n"
      ]
     },
     "execution_count": 12,
     "metadata": {},
     "output_type": "execute_result"
    }
   ],
   "source": [
    "(\"JSF\"; enlist \",\") 0: read0 `:./Ch11IO/Titles.csv"
   ]
  },
  {
   "cell_type": "markdown",
   "metadata": {},
   "source": [
    "### Key-Value Records\n",
    "The operator `0:` can also be used to process text representing key-value pairs. In this situation, the left operand is a three-character string $P_f$ that specifies the pair format. "
   ]
  },
  {
   "cell_type": "code",
   "execution_count": 13,
   "metadata": {
    "ExecuteTime": {
     "end_time": "2020-11-27T13:23:57.764052000Z",
     "start_time": "2020-11-27T13:23:57.760Z"
    }
   },
   "outputs": [
    {
     "data": {
      "text/plain": [
       "one  two  three\n",
       ",\"1\" ,\"2\" ,\"3\" \n"
      ]
     },
     "execution_count": 13,
     "metadata": {},
     "output_type": "execute_result"
    },
    {
     "data": {
      "text/plain": [
       "one  two  three\n",
       ",\"1\" ,\"2\" ,\"3\" \n"
      ]
     },
     "execution_count": 13,
     "metadata": {},
     "output_type": "execute_result"
    },
    {
     "data": {
      "text/plain": [
       "1     2     3      \n",
       "\"one\" \"two\" \"three\"\n"
      ]
     },
     "execution_count": 13,
     "metadata": {},
     "output_type": "execute_result"
    }
   ],
   "source": [
    "\"S=;\" 0: \"one=1;two=2;three=3\"\n",
    "\"S:/\" 0: \"one:1/two:2/three:3\"\n",
    "\"I=;\" 0: \"1=one;2=two;3=three\""
   ]
  },
  {
   "cell_type": "code",
   "execution_count": 14,
   "metadata": {
    "ExecuteTime": {
     "end_time": "2020-11-27T13:24:08.198056000Z",
     "start_time": "2020-11-27T13:24:08.191Z"
    }
   },
   "outputs": [
    {
     "data": {
      "text/plain": [
       "k v      \n",
       "---------\n",
       "1 \"one\"  \n",
       "2 \"two\"  \n",
       "3 \"three\"\n"
      ]
     },
     "execution_count": 14,
     "metadata": {},
     "output_type": "execute_result"
    }
   ],
   "source": [
    "flip `k`v!\"I=;\" 0: \"1=one;2=two;3=three\""
   ]
  },
  {
   "cell_type": "markdown",
   "metadata": {},
   "source": [
    "## Interprocess Communication\n",
    "The ease with which a q process can communicate with another q process residing on the network is one of the most impressive features of q. "
   ]
  },
  {
   "cell_type": "markdown",
   "metadata": {},
   "source": [
    "We shall use the following terminology. The process that initiates the communication is called the _client_, while the process receiving and processing requests is the _server_. The server process can be on the same machine, the same network, a different network or on the Internet, so long as it is accessible. The communication can be _synchronous_ (wait for a result to be returned) or _asynchronous_ (don’t wait and no result returned)."
   ]
  },
  {
   "cell_type": "markdown",
   "metadata": {},
   "source": [
    "The only way to learn IPC is to do it, and the easiest way to do this is to set up two processes on the same machine. We recommend you use the machine running your q sessions for this tutorial, provided it will allow a port to be opened. In what follows, we shall assume that a server q process has been started on a machine with an open port."
   ]
  },
  {
   "cell_type": "markdown",
   "metadata": {},
   "source": [
    "### Communication Handle\n",
    "\n",
    "Symbolic communication handles look similar to file handles but they specify resources on the network. A communication handle has the form,\n",
    "\n",
    "\\`:[server]:port\n",
    "\n",
    "Here the bracketed expression represents an optional server machine identifier and port is a port number. An omitted server specification, or one of the form `localhost`, refers to the machine on which the originating q session lives. The following both refer to port 5042 on the same machine as the q session in which they are entered.\n",
    "\n",
    "- \\`::5042\n",
    "- \\`:localhost:5042\n",
    "\n",
    "\n",
    "You can refer to a machine on the network by name\n",
    "\n",
    "- \\`:aerowing:5042\n",
    "- \\`:198.162.0.2:5042\n",
    "- \\`:www.myurl.com:5042"
   ]
  },
  {
   "cell_type": "markdown",
   "metadata": {},
   "source": [
    "### Opening a Connection Handle\n",
    "\n",
    "As with a file handle, apply `hopen` to a communication handle to obtain an open connection handle that is used as a function. As before, the value is an int that is traditionally stored in the variable `h`. Also as with file I/O, the behavior of this function differs between using the original positive handle or its negation."
   ]
  },
  {
   "cell_type": "code",
   "execution_count": 16,
   "metadata": {
    "ExecuteTime": {
     "end_time": "2020-11-27T13:31:37.919993000Z",
     "start_time": "2020-11-27T13:31:37.917Z"
    }
   },
   "outputs": [
    {
     "data": {
      "text/plain": [
       "42\n"
      ]
     },
     "execution_count": 16,
     "metadata": {},
     "output_type": "execute_result"
    }
   ],
   "source": [
    "h:hopen `::5042\n",
    "h \"a:6*7\"\n",
    "h \"a\"\n",
    "hclose h"
   ]
  },
  {
   "cell_type": "markdown",
   "metadata": {},
   "source": [
    "**Whitespace between h and the quoted string is optional, as this is simply prefix syntax. We include it for readability.**"
   ]
  },
  {
   "cell_type": "markdown",
   "metadata": {},
   "source": [
    "### Remote Execution"
   ]
  },
  {
   "cell_type": "markdown",
   "metadata": {},
   "source": [
    "**Allowing quoted q strings to be executed on a server makes the server susceptible to all manner of breaches.**\n",
    "\n",
    "Good practice does not permit this on a production server. You can mitigate this by having your server process accept only requests whose first item is a symbol (see below), which you should verify is the name of a function you have decided to expose."
   ]
  },
  {
   "cell_type": "markdown",
   "metadata": {},
   "source": [
    "An alternative format for remote execution is to apply the connection handler to a list of the form\n",
    "\n",
    "(f;arg_1;arg_2;...)\n",
    "\n",
    "Here `f` is a client-side expression that evaluates to a map that will be applied on the server. It can be:\n",
    "\n",
    "- The value of, or variable associated to, a map on the **client**\n",
    "- The symbolic name of a map on the **server**.\n",
    "\n",
    "We use the term _map_ here to be any q expression that can be evaluated as function application – e.g., a list on an index, a dictionary on a key or a function on an argument. Most commonly `f` is a function"
   ]
  },
  {
   "cell_type": "markdown",
   "metadata": {},
   "source": [
    "The remaining items arg_1, arg_2, … are optional values sent along to the server for the evaluation. These are arguments when f is a function, indices when it is a list, or keys when it is a dictionary."
   ]
  },
  {
   "cell_type": "markdown",
   "metadata": {},
   "source": [
    "Application of the connection handle to such a list sends the list to the server where it is evaluated. Any result is sent back to the client, where it is presented as the result of the connection handle application. By simply applying the naked handle, this sequence of steps is **synchronous**, meaning that execution of the q session on the client blocks until the result of the server evaluation is returned."
   ]
  },
  {
   "cell_type": "code",
   "execution_count": 17,
   "metadata": {
    "ExecuteTime": {
     "end_time": "2020-11-27T13:40:25.079691000Z",
     "start_time": "2020-11-27T13:40:25.076Z"
    }
   },
   "outputs": [
    {
     "data": {
      "text/plain": [
       "42\n"
      ]
     },
     "execution_count": 17,
     "metadata": {},
     "output_type": "execute_result"
    },
    {
     "data": {
      "text/plain": [
       "42\n"
      ]
     },
     "execution_count": 17,
     "metadata": {},
     "output_type": "execute_result"
    }
   ],
   "source": [
    "h:hopen`::5042 / client\n",
    "h ({x*y}; 6; 7)\n",
    "f:{x*y}\n",
    "h (f; 6; 7)"
   ]
  },
  {
   "cell_type": "markdown",
   "metadata": {},
   "source": [
    "Before you get too enamored of this form, we point out the limitations that disqualify it from production use. First, **global variables referred to in the transported function will need to be present remotely in the exact contexts in effect when the function was defined**. This can be avoided by restricting `f` to be a pure function that does not refer to any global entities. More damning is:\n",
    "\n",
    "**Allowing a function to be sent to the server for remote execution is as dangerous as sending quoted q strings**\n",
    "\n",
    "The function can access resources on the server and instigate an attack. Good practice does not permit this in production environments."
   ]
  },
  {
   "cell_type": "code",
   "execution_count": 23,
   "metadata": {
    "ExecuteTime": {
     "end_time": "2020-11-27T13:45:23.497721000Z",
     "start_time": "2020-11-27T13:45:23.489Z"
    }
   },
   "outputs": [
    {
     "data": {
      "text/plain": [
       "42\n"
      ]
     },
     "execution_count": 23,
     "metadata": {},
     "output_type": "execute_result"
    }
   ],
   "source": [
    "h (`g; 6; 7)"
   ]
  },
  {
   "cell_type": "code",
   "execution_count": 24,
   "metadata": {
    "ExecuteTime": {
     "end_time": "2020-11-27T13:45:55.172785000Z",
     "start_time": "2020-11-27T13:45:55.164Z"
    }
   },
   "outputs": [
    {
     "data": {
      "text/plain": [
       "c2\n",
       "--\n",
       "2 \n"
      ]
     },
     "execution_count": 24,
     "metadata": {},
     "output_type": "execute_result"
    }
   ],
   "source": [
    "h (`f; `b)"
   ]
  },
  {
   "cell_type": "markdown",
   "metadata": {},
   "source": [
    "### Synchronous and Asynchronous Messages"
   ]
  },
  {
   "cell_type": "markdown",
   "metadata": {},
   "source": [
    "Use the **negation of the open connection handle** to send an **asynchronous** message to the server. Let’s define an instrumented function on the server to demonstrate what is happening."
   ]
  },
  {
   "cell_type": "code",
   "execution_count": 26,
   "metadata": {
    "ExecuteTime": {
     "end_time": "2020-11-27T13:48:31.502395000Z",
     "start_time": "2020-11-27T13:48:31.496Z"
    }
   },
   "outputs": [],
   "source": [
    "neg[h] (`sq;5) /observe 25 displayed on the server console\n"
   ]
  },
  {
   "cell_type": "markdown",
   "metadata": {},
   "source": [
    "**When sending asynchronous messages, always send an empty “chaser” message immediately before applying hclose to the open handle**\n",
    "\n",
    "If you do not do this, buffered messages may not be sent when the connection is closed."
   ]
  },
  {
   "cell_type": "code",
   "execution_count": 27,
   "metadata": {
    "ExecuteTime": {
     "end_time": "2020-11-27T13:49:19.374783000Z",
     "start_time": "2020-11-27T13:49:19.367Z"
    }
   },
   "outputs": [
    {
     "data": {
      "text/plain": [
       "42\n"
      ]
     },
     "execution_count": 27,
     "metadata": {},
     "output_type": "execute_result"
    }
   ],
   "source": [
    "{neg[h] (`sq.; 5); 42}[] / client"
   ]
  },
  {
   "cell_type": "markdown",
   "metadata": {},
   "source": [
    "In asynchronous messaging there is **no guarantee that the messages arrive at the server in the order in which they are sent**. It can be difficult to observe indeterminancy in simple examples, but you must assume that it will occur in practice."
   ]
  },
  {
   "cell_type": "markdown",
   "metadata": {},
   "source": [
    "### Processing Messages"
   ]
  },
  {
   "cell_type": "markdown",
   "metadata": {},
   "source": [
    "During evaluation on server, the communication handle of the remote process is available in the system variable `.z.w` ( “who” called). For an asynchronous call, this can be used to send messages back to the server during the function application on the server.\n",
    "\n",
    "**Both the client and the server have connection handles when a connection between them is opened**\n",
    "\n",
    "However, these handles are assigned independently and their int values are not equal in general."
   ]
  },
  {
   "cell_type": "markdown",
   "metadata": {},
   "source": [
    "Here is a simple example showing how to use `.z.w` to send a message back to the client. On the server, we define a function that displays its received parameter and then asynchronously calls mycallback with the passed argument incremented.\n",
    "\n",
    "```\n",
    "f:{show \"Received \",string x; neg[.z.w] (`mycallback; x+1)}\n",
    "```"
   ]
  },
  {
   "cell_type": "code",
   "execution_count": 29,
   "metadata": {
    "ExecuteTime": {
     "end_time": "2020-11-27T13:53:09.476723000Z",
     "start_time": "2020-11-27T13:53:09.472Z"
    }
   },
   "outputs": [
    {
     "name": "stdout",
     "output_type": "stream",
     "text": [
      "\"Returned 43\"\n"
     ]
    }
   ],
   "source": [
    "mycallback:{show \"Returned \",string x;}\n",
    "neg[h] (`f; 42)"
   ]
  },
  {
   "cell_type": "markdown",
   "metadata": {},
   "source": [
    "**When performing asynchronous messaging, always use neg[.z.w] to ensure that all messages are asynchronous**\n",
    "\n",
    "Otherwise you will get a deadlock as each process waits for the other."
   ]
  },
  {
   "cell_type": "markdown",
   "metadata": {},
   "source": [
    "You can override the default behavior of message processing in q by assigning your own handler(s) to the appropriate system variables. Assign your function to the variable `.z.pg` to trap and process synchronous messages and to `.z.ps` for asynchronous messages. The names end in ‘g’ and ‘s’ because synchronous processing has \"get\" semantics and asynchronous processing has \"set\" semantics.\n",
    "\n",
    "In the following we set the asynchronous handler to a trivial function, essentially ignoring asynchronous calls.\n",
    "```\n",
    ".z.ps:{show \"ignore\"} / server\n",
    "```"
   ]
  },
  {
   "cell_type": "code",
   "execution_count": 1,
   "metadata": {
    "ExecuteTime": {
     "end_time": "2020-11-27T13:57:18.289778000Z",
     "start_time": "2020-11-27T13:57:18.283Z"
    }
   },
   "outputs": [],
   "source": [
    "h: hopen`::5042\n",
    "neg[h] \"6*7\" / client"
   ]
  },
  {
   "cell_type": "markdown",
   "metadata": {},
   "source": [
    "Now we set the synchronous handler to a function that only accepts “safe” remote calls by function name. It then performs a protected evaluation on the function with the arguments passed, thus ensuring that a failed application does not hang the server.\n",
    "\n",
    "```\n",
    ".z.pg:{$[-11h=type first x; .[value first x; 1_x; ::]; `unsupported]} /server\n",
    "```"
   ]
  },
  {
   "cell_type": "code",
   "execution_count": 2,
   "metadata": {
    "ExecuteTime": {
     "end_time": "2020-11-27T13:59:22.812252000Z",
     "start_time": "2020-11-27T13:59:22.802Z"
    }
   },
   "outputs": [
    {
     "data": {
      "text/plain": [
       "25\n"
      ]
     },
     "execution_count": 2,
     "metadata": {},
     "output_type": "execute_result"
    }
   ],
   "source": [
    "h (`sq; 5) / client"
   ]
  },
  {
   "cell_type": "code",
   "execution_count": 3,
   "metadata": {
    "ExecuteTime": {
     "end_time": "2020-11-27T13:59:32.241750000Z",
     "start_time": "2020-11-27T13:59:32.234Z"
    }
   },
   "outputs": [
    {
     "data": {
      "text/plain": [
       "\"type\"\n"
      ]
     },
     "execution_count": 3,
     "metadata": {},
     "output_type": "execute_result"
    }
   ],
   "source": [
    "h (`sq; `5)"
   ]
  },
  {
   "cell_type": "code",
   "execution_count": 4,
   "metadata": {
    "ExecuteTime": {
     "end_time": "2020-11-27T13:59:40.279278000Z",
     "start_time": "2020-11-27T13:59:40.275Z"
    }
   },
   "outputs": [
    {
     "data": {
      "text/plain": [
       "`unsupported\n"
      ]
     },
     "execution_count": 4,
     "metadata": {},
     "output_type": "execute_result"
    }
   ],
   "source": [
    "h \"6*7\""
   ]
  },
  {
   "cell_type": "code",
   "execution_count": 5,
   "metadata": {
    "ExecuteTime": {
     "end_time": "2020-11-27T13:59:47.284898000Z",
     "start_time": "2020-11-27T13:59:47.276Z"
    }
   },
   "outputs": [
    {
     "data": {
      "text/plain": [
       "`unsupported\n"
      ]
     },
     "execution_count": 5,
     "metadata": {},
     "output_type": "execute_result"
    }
   ],
   "source": [
    "h ({x*y};6;7)"
   ]
  },
  {
   "cell_type": "markdown",
   "metadata": {},
   "source": [
    "You can also specify handlers to be called upon connection open and close by assigning functions to the system variables `.z.po` and `.z.pc`, respectively. The connection handle of the sending process is passed as the lone argument to the functions assigned to `.z.po` and to `.z.pc`."
   ]
  },
  {
   "cell_type": "markdown",
   "metadata": {},
   "source": [
    "Here is a simple example that tracks connections and allows client processes to register callbacks with the server. Start a fresh q session on the server and open port 5042. Create a keyed table called `Registry` and define a function that can be invoked remotely to register a callback. Attach a handler to `.z.po` that initializes a dummy entry in `Registry` for the connection being opened and attach a handler to `.z.pc` to remove the record when a connection is closed.\n",
    "\n",
    "```\n",
    "q)Registry:([zw:`int$()] callback:`symbol$())\n",
    "q)register:{[cb] `Registry upsert (.z.w; cb);}\n",
    "q).z.po:{`Registry upsert (x; `unregistered);}\n",
    "q).z.pc:{delete from `Registry where zw=x;}\n",
    "```\n",
    "\n",
    "Start a fresh q session on the client and connect to the server.\n",
    "\n",
    "```\n",
    "q)h:hopen`::5042 / client\n",
    "```\n",
    "\n",
    "We check that an item has been entered into `Registry` on the server.\n",
    "```\n",
    "q)Registry / server\n",
    "zw| callback\n",
    "--| ------------\n",
    "6 | unregistered\n",
    "```\n",
    "\n",
    "Next we register the name of a callback function from the client. Note the asynchronous message.\n",
    "```\n",
    "q)neg[h] (`register; `mycallback) / client\n",
    "```\n",
    "Again we check `Registry` on the server and observe that our callback name has indeed been registered.\n",
    "\n",
    "```\n",
    "q)Registry / server\n",
    "zw| callback\n",
    "--| ----------\n",
    "6 | mycallback\n",
    "```\n",
    "\n",
    "Finally, we close the connection on the client.\n",
    "\n",
    "```\n",
    "q)hclose h / client\n",
    "```\n",
    "\n",
    "And observe that the client has been automatically unregistered.\n",
    "\n",
    "```\n",
    "q).z.pg:{show x 0; show x 1; ; string value 1_x 0}\n",
    "zw| callback\n",
    "--| --------\n",
    "```"
   ]
  },
  {
   "cell_type": "markdown",
   "metadata": {},
   "source": [
    "\n",
    "### Remote Queries"
   ]
  },
  {
   "cell_type": "code",
   "execution_count": 18,
   "metadata": {
    "ExecuteTime": {
     "end_time": "2020-11-27T20:41:47.907329000Z",
     "start_time": "2020-11-27T20:41:47.763Z"
    }
   },
   "outputs": [],
   "source": [
    "mktrades:{[tickers; sz]\n",
    "  dt:2015.01.01+sz?31;\n",
    "  tm:sz?24:00:00.000;\n",
    "  sym:sz?tickers;\n",
    "  qty:10*1+sz?1000;\n",
    "  px:90.0+(sz?2001)%100;\n",
    "  t:([] dt; tm; sym; qty; px);\n",
    "  t:`dt`tm xasc t;\n",
    "  t:update px:6*px from t where sym=`goog;\n",
    "  t:update px:2*px from t where sym=`ibm;\n",
    "  t}\n",
    "trade:mktrades[`aapl`goog`ibm; 1000000]"
   ]
  },
  {
   "cell_type": "code",
   "execution_count": 19,
   "metadata": {
    "ExecuteTime": {
     "end_time": "2020-11-27T20:41:55.170793000Z",
     "start_time": "2020-11-27T20:41:55.120Z"
    }
   },
   "outputs": [
    {
     "data": {
      "text/plain": [
       "`:./Ch11IO/trade/\n"
      ]
     },
     "execution_count": 19,
     "metadata": {},
     "output_type": "execute_result"
    }
   ],
   "source": [
    "(`:./Ch11IO/trade/) set .Q.en[`:./Ch11IO;] trade"
   ]
  },
  {
   "cell_type": "markdown",
   "metadata": {},
   "source": [
    "## HTTP and Web sockets"
   ]
  }
 ],
 "metadata": {
  "kernelspec": {
   "display_name": "Q (kdb+)",
   "language": "q",
   "name": "qpk"
  },
  "language_info": {
   "file_extension": ".q",
   "mimetype": "text/x-q",
   "name": "q",
   "version": "4.0"
  },
  "toc": {
   "base_numbering": 1,
   "nav_menu": {},
   "number_sections": true,
   "sideBar": true,
   "skip_h1_title": false,
   "title_cell": "Table of Contents",
   "title_sidebar": "Contents",
   "toc_cell": true,
   "toc_position": {},
   "toc_section_display": true,
   "toc_window_display": false
  }
 },
 "nbformat": 4,
 "nbformat_minor": 4
}
