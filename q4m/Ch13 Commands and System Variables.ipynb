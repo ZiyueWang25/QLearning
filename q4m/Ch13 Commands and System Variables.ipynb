{
 "cells": [
  {
   "cell_type": "markdown",
   "metadata": {
    "toc": true
   },
   "source": [
    "<h1>Table of Contents<span class=\"tocSkip\"></span></h1>\n",
    "<div class=\"toc\"><ul class=\"toc-item\"><li><span><a href=\"#Command-Format\" data-toc-modified-id=\"Command-Format-1\"><span class=\"toc-item-num\">1&nbsp;&nbsp;</span>Command Format</a></span><ul class=\"toc-item\"><li><span><a href=\"#List-Tables-\\a\" data-toc-modified-id=\"List-Tables-\\a-1.1\"><span class=\"toc-item-num\">1.1&nbsp;&nbsp;</span>List Tables <code>\\a</code></a></span></li><li><span><a href=\"#Views/Aliases-\\b\" data-toc-modified-id=\"Views/Aliases-\\b-1.2\"><span class=\"toc-item-num\">1.2&nbsp;&nbsp;</span>Views/Aliases <code>\\b</code></a></span></li><li><span><a href=\"#Pending-Views/Aliases-\\B\" data-toc-modified-id=\"Pending-Views/Aliases-\\B-1.3\"><span class=\"toc-item-num\">1.3&nbsp;&nbsp;</span>Pending Views/Aliases <code>\\B</code></a></span></li><li><span><a href=\"#Console-\\c\" data-toc-modified-id=\"Console-\\c-1.4\"><span class=\"toc-item-num\">1.4&nbsp;&nbsp;</span>Console <code>\\c</code></a></span></li><li><span><a href=\"#Web-Console-\\C\" data-toc-modified-id=\"Web-Console-\\C-1.5\"><span class=\"toc-item-num\">1.5&nbsp;&nbsp;</span>Web Console <code>\\C</code></a></span></li><li><span><a href=\"#Change-OS-Directory-\\cd\" data-toc-modified-id=\"Change-OS-Directory-\\cd-1.6\"><span class=\"toc-item-num\">1.6&nbsp;&nbsp;</span>Change OS Directory <code>\\cd</code></a></span></li><li><span><a href=\"#Context-\\d\" data-toc-modified-id=\"Context-\\d-1.7\"><span class=\"toc-item-num\">1.7&nbsp;&nbsp;</span>Context <code>\\d</code></a></span></li><li><span><a href=\"#Error-Trap-\\e\" data-toc-modified-id=\"Error-Trap-\\e-1.8\"><span class=\"toc-item-num\">1.8&nbsp;&nbsp;</span>Error Trap <code>\\e</code></a></span></li><li><span><a href=\"#Functions-\\f\" data-toc-modified-id=\"Functions-\\f-1.9\"><span class=\"toc-item-num\">1.9&nbsp;&nbsp;</span>Functions <code>\\f</code></a></span></li><li><span><a href=\"#Garbage-Collection-\\g\" data-toc-modified-id=\"Garbage-Collection-\\g-1.10\"><span class=\"toc-item-num\">1.10&nbsp;&nbsp;</span>Garbage Collection <code>\\g</code></a></span></li><li><span><a href=\"#Load-\\l\" data-toc-modified-id=\"Load-\\l-1.11\"><span class=\"toc-item-num\">1.11&nbsp;&nbsp;</span>Load <code>\\l</code></a></span></li><li><span><a href=\"#GMT-Offset-\\o\" data-toc-modified-id=\"GMT-Offset-\\o-1.12\"><span class=\"toc-item-num\">1.12&nbsp;&nbsp;</span>GMT Offset <code>\\o</code></a></span></li><li><span><a href=\"#Port-\\p\" data-toc-modified-id=\"Port-\\p-1.13\"><span class=\"toc-item-num\">1.13&nbsp;&nbsp;</span>Port <code>\\p</code></a></span></li><li><span><a href=\"#Display-Precision-\\P\" data-toc-modified-id=\"Display-Precision-\\P-1.14\"><span class=\"toc-item-num\">1.14&nbsp;&nbsp;</span>Display Precision <code>\\P</code></a></span></li><li><span><a href=\"#Replication-\\r\" data-toc-modified-id=\"Replication-\\r-1.15\"><span class=\"toc-item-num\">1.15&nbsp;&nbsp;</span>Replication <code>\\r</code></a></span></li><li><span><a href=\"#Slaves-\\s\" data-toc-modified-id=\"Slaves-\\s-1.16\"><span class=\"toc-item-num\">1.16&nbsp;&nbsp;</span>Slaves <code>\\s</code></a></span></li><li><span><a href=\"#Seed-\\S\" data-toc-modified-id=\"Seed-\\S-1.17\"><span class=\"toc-item-num\">1.17&nbsp;&nbsp;</span>Seed <code>\\S</code></a></span></li><li><span><a href=\"#Set-Timer-\\t\" data-toc-modified-id=\"Set-Timer-\\t-1.18\"><span class=\"toc-item-num\">1.18&nbsp;&nbsp;</span>Set Timer <code>\\t</code></a></span></li><li><span><a href=\"#Elapsed-Time-\\t-expr\" data-toc-modified-id=\"Elapsed-Time-\\t-expr-1.19\"><span class=\"toc-item-num\">1.19&nbsp;&nbsp;</span>Elapsed Time <code>\\t expr</code></a></span></li><li><span><a href=\"#Elapsed-Time-and-Space-\\ts-expr\" data-toc-modified-id=\"Elapsed-Time-and-Space-\\ts-expr-1.20\"><span class=\"toc-item-num\">1.20&nbsp;&nbsp;</span>Elapsed Time and Space <code>\\ts expr</code></a></span></li><li><span><a href=\"#Timeout-\\T\" data-toc-modified-id=\"Timeout-\\T-1.21\"><span class=\"toc-item-num\">1.21&nbsp;&nbsp;</span>Timeout <code>\\T</code></a></span></li><li><span><a href=\"#User-Password-\\u\" data-toc-modified-id=\"User-Password-\\u-1.22\"><span class=\"toc-item-num\">1.22&nbsp;&nbsp;</span>User Password <code>\\u</code></a></span></li><li><span><a href=\"#Variables-\\v\" data-toc-modified-id=\"Variables-\\v-1.23\"><span class=\"toc-item-num\">1.23&nbsp;&nbsp;</span>Variables <code>\\v</code></a></span></li><li><span><a href=\"#Worksapce-\\w\" data-toc-modified-id=\"Worksapce-\\w-1.24\"><span class=\"toc-item-num\">1.24&nbsp;&nbsp;</span>Worksapce <code>\\w</code></a></span></li><li><span><a href=\"#Week-Offset-\\W\" data-toc-modified-id=\"Week-Offset-\\W-1.25\"><span class=\"toc-item-num\">1.25&nbsp;&nbsp;</span>Week Offset <code>\\W</code></a></span></li><li><span><a href=\"#Expunge-Handler-\\x\" data-toc-modified-id=\"Expunge-Handler-\\x-1.26\"><span class=\"toc-item-num\">1.26&nbsp;&nbsp;</span>Expunge Handler <code>\\x</code></a></span></li><li><span><a href=\"#Date-Format-\\z\" data-toc-modified-id=\"Date-Format-\\z-1.27\"><span class=\"toc-item-num\">1.27&nbsp;&nbsp;</span>Date Format <code>\\z</code></a></span></li><li><span><a href=\"#Lock-Script-\\_\" data-toc-modified-id=\"Lock-Script-\\_-1.28\"><span class=\"toc-item-num\">1.28&nbsp;&nbsp;</span>Lock Script <code>\\_</code></a></span></li><li><span><a href=\"#Redirect-\\1-and-\\2\" data-toc-modified-id=\"Redirect-\\1-and-\\2-1.29\"><span class=\"toc-item-num\">1.29&nbsp;&nbsp;</span>Redirect <code>\\1</code> and <code>\\2</code></a></span></li><li><span><a href=\"#Operating-System-\\oscmd\" data-toc-modified-id=\"Operating-System-\\oscmd-1.30\"><span class=\"toc-item-num\">1.30&nbsp;&nbsp;</span>Operating System <code>\\oscmd</code></a></span></li><li><span><a href=\"#Interrput-(Ctl-c-and-Ctl-z)\" data-toc-modified-id=\"Interrput-(Ctl-c-and-Ctl-z)-1.31\"><span class=\"toc-item-num\">1.31&nbsp;&nbsp;</span>Interrput (Ctl-c and Ctl-z)</a></span></li><li><span><a href=\"#Terminate-\\\" data-toc-modified-id=\"Terminate-\\-1.32\"><span class=\"toc-item-num\">1.32&nbsp;&nbsp;</span>Terminate <code>\\</code></a></span></li><li><span><a href=\"#Exit-\\\\\" data-toc-modified-id=\"Exit-\\\\-1.33\"><span class=\"toc-item-num\">1.33&nbsp;&nbsp;</span>Exit <code>\\\\</code></a></span></li></ul></li><li><span><a href=\"#Command-Line-Parameters\" data-toc-modified-id=\"Command-Line-Parameters-2\"><span class=\"toc-item-num\">2&nbsp;&nbsp;</span>Command Line Parameters</a></span><ul class=\"toc-item\"><li><span><a href=\"#Block-Database-Modification--b\" data-toc-modified-id=\"Block-Database-Modification--b-2.1\"><span class=\"toc-item-num\">2.1&nbsp;&nbsp;</span>Block Database Modification <code>-b</code></a></span></li><li><span><a href=\"#Console-Size--c\" data-toc-modified-id=\"Console-Size--c-2.2\"><span class=\"toc-item-num\">2.2&nbsp;&nbsp;</span>Console Size <code>-c</code></a></span></li><li><span><a href=\"#HTTP-Console--C\" data-toc-modified-id=\"HTTP-Console--C-2.3\"><span class=\"toc-item-num\">2.3&nbsp;&nbsp;</span>HTTP Console <code>-C</code></a></span></li><li><span><a href=\"#Client-Error-Trapping--e\" data-toc-modified-id=\"Client-Error-Trapping--e-2.4\"><span class=\"toc-item-num\">2.4&nbsp;&nbsp;</span>Client Error Trapping <code>-e</code></a></span></li><li><span><a href=\"#Garbage-Collection--g\" data-toc-modified-id=\"Garbage-Collection--g-2.5\"><span class=\"toc-item-num\">2.5&nbsp;&nbsp;</span>Garbage Collection <code>-g</code></a></span></li><li><span><a href=\"#Logging--l-and--L\" data-toc-modified-id=\"Logging--l-and--L-2.6\"><span class=\"toc-item-num\">2.6&nbsp;&nbsp;</span>Logging <code>-l</code> and <code>-L</code></a></span></li><li><span><a href=\"#Offset--o\" data-toc-modified-id=\"Offset--o-2.7\"><span class=\"toc-item-num\">2.7&nbsp;&nbsp;</span>Offset <code>-o</code></a></span></li><li><span><a href=\"#Port--p\" data-toc-modified-id=\"Port--p-2.8\"><span class=\"toc-item-num\">2.8&nbsp;&nbsp;</span>Port <code>-p</code></a></span></li><li><span><a href=\"#Mutithreaded-Session--p\" data-toc-modified-id=\"Mutithreaded-Session--p-2.9\"><span class=\"toc-item-num\">2.9&nbsp;&nbsp;</span>Mutithreaded Session <code>-p</code></a></span></li><li><span><a href=\"#Display-Precision--P\" data-toc-modified-id=\"Display-Precision--P-2.10\"><span class=\"toc-item-num\">2.10&nbsp;&nbsp;</span>Display Precision <code>-P</code></a></span></li><li><span><a href=\"#Quite--q\" data-toc-modified-id=\"Quite--q-2.11\"><span class=\"toc-item-num\">2.11&nbsp;&nbsp;</span>Quite <code>-q</code></a></span></li><li><span><a href=\"#Replicate--r\" data-toc-modified-id=\"Replicate--r-2.12\"><span class=\"toc-item-num\">2.12&nbsp;&nbsp;</span>Replicate <code>-r</code></a></span></li><li><span><a href=\"#Slaves--s\" data-toc-modified-id=\"Slaves--s-2.13\"><span class=\"toc-item-num\">2.13&nbsp;&nbsp;</span>Slaves <code>-s</code></a></span></li><li><span><a href=\"#Timer--t\" data-toc-modified-id=\"Timer--t-2.14\"><span class=\"toc-item-num\">2.14&nbsp;&nbsp;</span>Timer <code>-t</code></a></span></li><li><span><a href=\"#Timeout--T\" data-toc-modified-id=\"Timeout--T-2.15\"><span class=\"toc-item-num\">2.15&nbsp;&nbsp;</span>Timeout <code>-T</code></a></span></li><li><span><a href=\"#Exit--u\" data-toc-modified-id=\"Exit--u-2.16\"><span class=\"toc-item-num\">2.16&nbsp;&nbsp;</span>Exit <code>-u</code></a></span></li><li><span><a href=\"#User-Validation--u\" data-toc-modified-id=\"User-Validation--u-2.17\"><span class=\"toc-item-num\">2.17&nbsp;&nbsp;</span>User Validation <code>-u</code></a></span></li><li><span><a href=\"#User-Validation--U\" data-toc-modified-id=\"User-Validation--U-2.18\"><span class=\"toc-item-num\">2.18&nbsp;&nbsp;</span>User Validation <code>-U</code></a></span></li><li><span><a href=\"#Workspace-Size--w\" data-toc-modified-id=\"Workspace-Size--w-2.19\"><span class=\"toc-item-num\">2.19&nbsp;&nbsp;</span>Workspace Size <code>-w</code></a></span></li><li><span><a href=\"#Week-Offset--W\" data-toc-modified-id=\"Week-Offset--W-2.20\"><span class=\"toc-item-num\">2.20&nbsp;&nbsp;</span>Week Offset <code>-W</code></a></span></li><li><span><a href=\"#Date-Parsing-Format--z\" data-toc-modified-id=\"Date-Parsing-Format--z-2.21\"><span class=\"toc-item-num\">2.21&nbsp;&nbsp;</span>Date Parsing Format <code>-z</code></a></span></li></ul></li><li><span><a href=\"#System-Variables\" data-toc-modified-id=\"System-Variables-3\"><span class=\"toc-item-num\">3&nbsp;&nbsp;</span>System Variables</a></span><ul class=\"toc-item\"><li><span><a href=\"#IP-Address-.z.a\" data-toc-modified-id=\"IP-Address-.z.a-3.1\"><span class=\"toc-item-num\">3.1&nbsp;&nbsp;</span>IP Address <code>.z.a</code></a></span></li><li><span><a href=\"#Access-Control-.z.ac\" data-toc-modified-id=\"Access-Control-.z.ac-3.2\"><span class=\"toc-item-num\">3.2&nbsp;&nbsp;</span>Access Control <code>.z.ac</code></a></span></li><li><span><a href=\"#Dependencies-.z.b\" data-toc-modified-id=\"Dependencies-.z.b-3.3\"><span class=\"toc-item-num\">3.3&nbsp;&nbsp;</span>Dependencies <code>.z.b</code></a></span></li><li><span><a href=\"#Cores-.z.c\" data-toc-modified-id=\"Cores-.z.c-3.4\"><span class=\"toc-item-num\">3.4&nbsp;&nbsp;</span>Cores <code>.z.c</code></a></span></li><li><span><a href=\"#Exit-Routine-.z.exit\" data-toc-modified-id=\"Exit-Routine-.z.exit-3.5\"><span class=\"toc-item-num\">3.5&nbsp;&nbsp;</span>Exit Routine <code>.z.exit</code></a></span></li><li><span><a href=\"#Globale-Date-.z.d\" data-toc-modified-id=\"Globale-Date-.z.d-3.6\"><span class=\"toc-item-num\">3.6&nbsp;&nbsp;</span>Globale Date <code>.z.d</code></a></span></li><li><span><a href=\"#Local-Date-.z.D\" data-toc-modified-id=\"Local-Date-.z.D-3.7\"><span class=\"toc-item-num\">3.7&nbsp;&nbsp;</span>Local Date <code>.z.D</code></a></span></li><li><span><a href=\"#Startup-File-.z.f\" data-toc-modified-id=\"Startup-File-.z.f-3.8\"><span class=\"toc-item-num\">3.8&nbsp;&nbsp;</span>Startup File <code>.z.f</code></a></span></li><li><span><a href=\"#Host-z.h\" data-toc-modified-id=\"Host-z.h-3.9\"><span class=\"toc-item-num\">3.9&nbsp;&nbsp;</span>Host <code>z.h</code></a></span></li><li><span><a href=\"#Process-ID-.z.i\" data-toc-modified-id=\"Process-ID-.z.i-3.10\"><span class=\"toc-item-num\">3.10&nbsp;&nbsp;</span>Process ID <code>.z.i</code></a></span></li><li><span><a href=\"#Release-Date-.z.k\" data-toc-modified-id=\"Release-Date-.z.k-3.11\"><span class=\"toc-item-num\">3.11&nbsp;&nbsp;</span>Release Date <code>.z.k</code></a></span></li><li><span><a href=\"#Release-Version-.z.K\" data-toc-modified-id=\"Release-Version-.z.K-3.12\"><span class=\"toc-item-num\">3.12&nbsp;&nbsp;</span>Release Version <code>.z.K</code></a></span></li><li><span><a href=\"#License-Information-.z.l\" data-toc-modified-id=\"License-Information-.z.l-3.13\"><span class=\"toc-item-num\">3.13&nbsp;&nbsp;</span>License Information <code>.z.l</code></a></span></li><li><span><a href=\"#GMT-Timespan-.z.n\" data-toc-modified-id=\"GMT-Timespan-.z.n-3.14\"><span class=\"toc-item-num\">3.14&nbsp;&nbsp;</span>GMT Timespan <code>.z.n</code></a></span></li><li><span><a href=\"#Local-Timespan--.z.N\" data-toc-modified-id=\"Local-Timespan--.z.N-3.15\"><span class=\"toc-item-num\">3.15&nbsp;&nbsp;</span>Local Timespan  <code>.z.N</code></a></span></li><li><span><a href=\"#OS-.z.o\" data-toc-modified-id=\"OS-.z.o-3.16\"><span class=\"toc-item-num\">3.16&nbsp;&nbsp;</span>OS <code>.z.o</code></a></span></li><li><span><a href=\"#GMT-Timestamp-z.p\" data-toc-modified-id=\"GMT-Timestamp-z.p-3.17\"><span class=\"toc-item-num\">3.17&nbsp;&nbsp;</span>GMT Timestamp <code>z.p</code></a></span></li><li><span><a href=\"#Local-Timestamp-z.P\" data-toc-modified-id=\"Local-Timestamp-z.P-3.18\"><span class=\"toc-item-num\">3.18&nbsp;&nbsp;</span>Local Timestamp <code>z.P</code></a></span></li><li><span><a href=\"#On-Close-.z.pc\" data-toc-modified-id=\"On-Close-.z.pc-3.19\"><span class=\"toc-item-num\">3.19&nbsp;&nbsp;</span>On Close <code>.z.pc</code></a></span></li><li><span><a href=\"#Peach-Distribution-.z.pd\" data-toc-modified-id=\"Peach-Distribution-.z.pd-3.20\"><span class=\"toc-item-num\">3.20&nbsp;&nbsp;</span>Peach Distribution <code>.z.pd</code></a></span></li><li><span><a href=\"#On-Synchronous-Message-.z.pg\" data-toc-modified-id=\"On-Synchronous-Message-.z.pg-3.21\"><span class=\"toc-item-num\">3.21&nbsp;&nbsp;</span>On Synchronous Message <code>.z.pg</code></a></span></li><li><span><a href=\"#On-HTTP-Get-.z.ph\" data-toc-modified-id=\"On-HTTP-Get-.z.ph-3.22\"><span class=\"toc-item-num\">3.22&nbsp;&nbsp;</span>On HTTP Get <code>.z.ph</code></a></span></li><li><span><a href=\"#On-Input-.z.pi\" data-toc-modified-id=\"On-Input-.z.pi-3.23\"><span class=\"toc-item-num\">3.23&nbsp;&nbsp;</span>On Input <code>.z.pi</code></a></span></li><li><span><a href=\"#HTTP-Options-Method-.z.pm\" data-toc-modified-id=\"HTTP-Options-Method-.z.pm-3.24\"><span class=\"toc-item-num\">3.24&nbsp;&nbsp;</span>HTTP Options Method <code>.z.pm</code></a></span></li><li><span><a href=\"#On-Open-.z.po\" data-toc-modified-id=\"On-Open-.z.po-3.25\"><span class=\"toc-item-num\">3.25&nbsp;&nbsp;</span>On Open <code>.z.po</code></a></span></li><li><span><a href=\"#On-HTTP-Post-.z.pp\" data-toc-modified-id=\"On-HTTP-Post-.z.pp-3.26\"><span class=\"toc-item-num\">3.26&nbsp;&nbsp;</span>On HTTP Post <code>.z.pp</code></a></span></li><li><span><a href=\"#On-Set-.z.ps\" data-toc-modified-id=\"On-Set-.z.ps-3.27\"><span class=\"toc-item-num\">3.27&nbsp;&nbsp;</span>On Set <code>.z.ps</code></a></span></li><li><span><a href=\"#On-Password-.z.pw\" data-toc-modified-id=\"On-Password-.z.pw-3.28\"><span class=\"toc-item-num\">3.28&nbsp;&nbsp;</span>On Password <code>.z.pw</code></a></span></li><li><span><a href=\"#Quite-Mode-.z.q\" data-toc-modified-id=\"Quite-Mode-.z.q-3.29\"><span class=\"toc-item-num\">3.29&nbsp;&nbsp;</span>Quite Mode <code>.z.q</code></a></span></li><li><span><a href=\"#Self-.z.s\" data-toc-modified-id=\"Self-.z.s-3.30\"><span class=\"toc-item-num\">3.30&nbsp;&nbsp;</span>Self <code>.z.s</code></a></span></li><li><span><a href=\"#GMT-Date-.z.t\" data-toc-modified-id=\"GMT-Date-.z.t-3.31\"><span class=\"toc-item-num\">3.31&nbsp;&nbsp;</span>GMT Date <code>.z.t</code></a></span></li><li><span><a href=\"#Local-Date-.z.T\" data-toc-modified-id=\"Local-Date-.z.T-3.32\"><span class=\"toc-item-num\">3.32&nbsp;&nbsp;</span>Local Date <code>.z.T</code></a></span></li><li><span><a href=\"#On-Timer-.z.ts\" data-toc-modified-id=\"On-Timer-.z.ts-3.33\"><span class=\"toc-item-num\">3.33&nbsp;&nbsp;</span>On Timer <code>.z.ts</code></a></span></li><li><span><a href=\"#User-.z.u\" data-toc-modified-id=\"User-.z.u-3.34\"><span class=\"toc-item-num\">3.34&nbsp;&nbsp;</span>User <code>.z.u</code></a></span></li><li><span><a href=\"#On-Value-Set-.z.vs\" data-toc-modified-id=\"On-Value-Set-.z.vs-3.35\"><span class=\"toc-item-num\">3.35&nbsp;&nbsp;</span>On Value Set <code>.z.vs</code></a></span></li><li><span><a href=\"#Who-.z.w\" data-toc-modified-id=\"Who-.z.w-3.36\"><span class=\"toc-item-num\">3.36&nbsp;&nbsp;</span>Who <code>.z.w</code></a></span></li><li><span><a href=\"#Handle-Queues-.z.W\" data-toc-modified-id=\"Handle-Queues-.z.W-3.37\"><span class=\"toc-item-num\">3.37&nbsp;&nbsp;</span>Handle Queues <code>.z.W</code></a></span></li><li><span><a href=\"#On-WebSocket-Close-.z.wc\" data-toc-modified-id=\"On-WebSocket-Close-.z.wc-3.38\"><span class=\"toc-item-num\">3.38&nbsp;&nbsp;</span>On WebSocket Close <code>.z.wc</code></a></span></li><li><span><a href=\"#On-WebSocket-Open-.z.wo\" data-toc-modified-id=\"On-WebSocket-Open-.z.wo-3.39\"><span class=\"toc-item-num\">3.39&nbsp;&nbsp;</span>On WebSocket Open <code>.z.wo</code></a></span></li><li><span><a href=\"#On-WebSocket-Message-.z.ws\" data-toc-modified-id=\"On-WebSocket-Message-.z.ws-3.40\"><span class=\"toc-item-num\">3.40&nbsp;&nbsp;</span>On WebSocket Message <code>.z.ws</code></a></span></li><li><span><a href=\"#Command-Line-Parameters-.z.x\" data-toc-modified-id=\"Command-Line-Parameters-.z.x-3.41\"><span class=\"toc-item-num\">3.41&nbsp;&nbsp;</span>Command-Line Parameters <code>.z.x</code></a></span></li><li><span><a href=\"#Raw-Command-Line-.z.X\" data-toc-modified-id=\"Raw-Command-Line-.z.X-3.42\"><span class=\"toc-item-num\">3.42&nbsp;&nbsp;</span>Raw Command Line <code>.z.X</code></a></span></li><li><span><a href=\"#GMT-Datetime-.z.z\" data-toc-modified-id=\"GMT-Datetime-.z.z-3.43\"><span class=\"toc-item-num\">3.43&nbsp;&nbsp;</span>GMT Datetime <code>.z.z</code></a></span></li><li><span><a href=\"#Local-Datetime-.z.Z\" data-toc-modified-id=\"Local-Datetime-.z.Z-3.44\"><span class=\"toc-item-num\">3.44&nbsp;&nbsp;</span>Local Datetime <code>.z.Z</code></a></span></li><li><span><a href=\"#Zip-Datetime-.z.Z\" data-toc-modified-id=\"Zip-Datetime-.z.Z-3.45\"><span class=\"toc-item-num\">3.45&nbsp;&nbsp;</span>Zip Datetime <code>.z.Z</code></a></span></li></ul></li></ul></div>"
   ]
  },
  {
   "cell_type": "markdown",
   "metadata": {},
   "source": [
    "## Command Format\n",
    "\n",
    "Commands control aspects of the q run-time environment. A command begins with a backslash `\\` followed by the command name. Many commands have optional parameter(s) separated from the command name by **a blank** (multiple blanks or other whitespace characters are not permitted). Case is significant in the command name.\n",
    "\n",
    "Notes on optional parameters:\n",
    "\n",
    "- Commands whose optional parameter sets an environmental value will display the current value when the parameter is omitted\n",
    "- Commands whose parameter refers to a namespace apply to the current working context if the parameter is omitted."
   ]
  },
  {
   "cell_type": "markdown",
   "metadata": {},
   "source": [
    "You could execute a command programmatically by placing it in a string as an argument to `value`. Observe that you must escape the `\\` in the string.\n",
    "\n",
    "**Never do this in production – it exposes your system to all manner of attacks!**"
   ]
  },
  {
   "cell_type": "code",
   "execution_count": 0,
   "metadata": {
    "ExecuteTime": {
     "end_time": "2020-11-28T15:23:52.028408000Z",
     "start_time": "2020-11-28T15:23:52.021Z"
    }
   },
   "outputs": [
    {
     "ename": "\u001b[0;31m*\u001b[0m",
     "evalue": "\u001b[0;31m*\u001b[0m",
     "output_type": "error",
     "traceback": [
      "\u001b[0;31mevaluation error:\n\u001b[0m",
      "\u001b[0;31m*\u001b[0m",
      "\u001b[0;31m\u001b[0m",
      "\u001b[0;31m  [1]  **Error! Hyperlink reference not valid.**\n       ^\n\u001b[0m",
      "\u001b[0;31m  [0]  value \"**Error! Hyperlink reference not valid.**\" / bad practice!\n       ^\n\u001b[0m"
     ]
    }
   ],
   "source": [
    "value \"**Error! Hyperlink reference not valid.**\" / bad practice!"
   ]
  },
  {
   "cell_type": "markdown",
   "metadata": {},
   "source": [
    "Instead use the built-in `system` that at least checks for a valid command. Note that it also eliminates the backslash and hence the need to escape it."
   ]
  },
  {
   "cell_type": "code",
   "execution_count": 1,
   "metadata": {
    "ExecuteTime": {
     "end_time": "2020-11-28T15:24:24.983120000Z",
     "start_time": "2020-11-28T15:24:24.977Z"
    }
   },
   "outputs": [],
   "source": [
    "system \"p 5042\""
   ]
  },
  {
   "cell_type": "markdown",
   "metadata": {},
   "source": [
    "### List Tables `\\a`\n",
    "The command `\\a [namespace]`, where namespace is an optional namespace, returns a sorted list of symbolic names of all tables in a context. "
   ]
  },
  {
   "cell_type": "code",
   "execution_count": 3,
   "metadata": {
    "ExecuteTime": {
     "end_time": "2020-11-28T15:24:47.556430000Z",
     "start_time": "2020-11-28T15:24:47.554Z"
    }
   },
   "outputs": [
    {
     "data": {
      "text/plain": [
       "`symbol$()\n"
      ]
     },
     "execution_count": 3,
     "metadata": {},
     "output_type": "execute_result"
    }
   ],
   "source": [
    "\\a"
   ]
  },
  {
   "cell_type": "code",
   "execution_count": 4,
   "metadata": {
    "ExecuteTime": {
     "end_time": "2020-11-28T15:24:55.175772000Z",
     "start_time": "2020-11-28T15:24:55.173Z"
    }
   },
   "outputs": [
    {
     "data": {
      "text/plain": [
       ",`t\n"
      ]
     },
     "execution_count": 4,
     "metadata": {},
     "output_type": "execute_result"
    }
   ],
   "source": [
    "t:([] c1:`a`b`c; c2:10 20 30)\n",
    "\\a"
   ]
  },
  {
   "cell_type": "code",
   "execution_count": 6,
   "metadata": {
    "ExecuteTime": {
     "end_time": "2020-11-28T15:25:19.752935000Z",
     "start_time": "2020-11-28T15:25:19.744Z"
    }
   },
   "outputs": [
    {
     "data": {
      "text/plain": [
       ",`t\n"
      ]
     },
     "execution_count": 6,
     "metadata": {},
     "output_type": "execute_result"
    },
    {
     "data": {
      "text/plain": [
       ",`t\n"
      ]
     },
     "execution_count": 6,
     "metadata": {},
     "output_type": "execute_result"
    }
   ],
   "source": [
    ".jab.t:([] c1:`a`b`c; c2:10 20 30)\n",
    "\\a .jab\n",
    "\\a"
   ]
  },
  {
   "cell_type": "markdown",
   "metadata": {},
   "source": [
    "### Views/Aliases `\\b`\n",
    "The command `\\b [namespace]` returns a sorted list of the symbolic names of the aliases (a.k.a. views, dependencies) in a context."
   ]
  },
  {
   "cell_type": "code",
   "execution_count": 7,
   "metadata": {
    "ExecuteTime": {
     "end_time": "2020-11-28T15:26:46.016957000Z",
     "start_time": "2020-11-28T15:26:46.014Z"
    }
   },
   "outputs": [
    {
     "data": {
      "text/plain": [
       "`symbol$()\n"
      ]
     },
     "execution_count": 7,
     "metadata": {},
     "output_type": "execute_result"
    }
   ],
   "source": [
    "\\b"
   ]
  },
  {
   "cell_type": "code",
   "execution_count": 8,
   "metadata": {
    "ExecuteTime": {
     "end_time": "2020-11-28T15:27:01.079841000Z",
     "start_time": "2020-11-28T15:27:01.077Z"
    }
   },
   "outputs": [
    {
     "data": {
      "text/plain": [
       "`s#`b`c\n"
      ]
     },
     "execution_count": 8,
     "metadata": {},
     "output_type": "execute_result"
    }
   ],
   "source": [
    "a:42\n",
    "b::a+1\n",
    "c::b*b\n",
    "\\b"
   ]
  },
  {
   "cell_type": "markdown",
   "metadata": {},
   "source": [
    "### Pending Views/Aliases `\\B`\n",
    "The command `\\B[namespace]` (note upper case) returns a sorted list of the symbolic names of the aliases (a.k.a. views, dependencies) in a context that are stale – i.e., **there is a pending update that will be realized on the next reference.** "
   ]
  },
  {
   "cell_type": "code",
   "execution_count": 9,
   "metadata": {
    "ExecuteTime": {
     "end_time": "2020-11-28T15:28:37.632647000Z",
     "start_time": "2020-11-28T15:28:37.630Z"
    }
   },
   "outputs": [
    {
     "data": {
      "text/plain": [
       "`s#`a`b`c\n"
      ]
     },
     "execution_count": 9,
     "metadata": {},
     "output_type": "execute_result"
    }
   ],
   "source": [
    "x:42\n",
    "a::x+1\n",
    "\\B"
   ]
  },
  {
   "cell_type": "code",
   "execution_count": 11,
   "metadata": {
    "ExecuteTime": {
     "end_time": "2020-11-28T15:28:48.242233000Z",
     "start_time": "2020-11-28T15:28:48.239Z"
    }
   },
   "outputs": [
    {
     "data": {
      "text/plain": [
       "43\n"
      ]
     },
     "execution_count": 11,
     "metadata": {},
     "output_type": "execute_result"
    },
    {
     "data": {
      "text/plain": [
       "`s#`b`c\n"
      ]
     },
     "execution_count": 11,
     "metadata": {},
     "output_type": "execute_result"
    }
   ],
   "source": [
    "a\n",
    "\\B"
   ]
  },
  {
   "cell_type": "markdown",
   "metadata": {},
   "source": [
    "### Console `\\c`\n",
    "\n",
    "The command `\\c [h w]` displays (no arguments) or sets (pair of height and width as integers) **the size of the virtual q console display**. The default is 25 80i."
   ]
  },
  {
   "cell_type": "code",
   "execution_count": 1,
   "metadata": {
    "ExecuteTime": {
     "end_time": "2020-11-28T15:30:10.250526000Z",
     "start_time": "2020-11-28T15:30:10.248Z"
    }
   },
   "outputs": [
    {
     "data": {
      "text/plain": [
       "\"abcdefghijkmlnopqrstuvwxyz\"\n",
       "\"abcdefghijkmlnopqrstuvwxyz\"\n"
      ]
     },
     "execution_count": 1,
     "metadata": {},
     "output_type": "execute_result"
    },
    {
     "data": {
      "text/plain": [
       "25 80i\n"
      ]
     },
     "execution_count": 1,
     "metadata": {},
     "output_type": "execute_result"
    }
   ],
   "source": [
    "2#enlist \"abcdefghijkmlnopqrstuvwxyz\"\n",
    "\\c"
   ]
  },
  {
   "cell_type": "code",
   "execution_count": 2,
   "metadata": {
    "ExecuteTime": {
     "end_time": "2020-11-28T15:30:13.612808000Z",
     "start_time": "2020-11-28T15:30:13.611Z"
    }
   },
   "outputs": [],
   "source": [
    "\\c 10 20"
   ]
  },
  {
   "cell_type": "code",
   "execution_count": 3,
   "metadata": {
    "ExecuteTime": {
     "end_time": "2020-11-28T15:30:13.850330000Z",
     "start_time": "2020-11-28T15:30:13.841Z"
    }
   },
   "outputs": [
    {
     "data": {
      "text/plain": [
       "\"abcdefghijkmlnop..\n",
       "\"abcdefghijkmlnop..\n"
      ]
     },
     "execution_count": 3,
     "metadata": {},
     "output_type": "execute_result"
    }
   ],
   "source": [
    "2#enlist \"abcdefghijkmlnopqrstuvwxyz\""
   ]
  },
  {
   "cell_type": "markdown",
   "metadata": {},
   "source": [
    "### Web Console `\\C`\n",
    "\n",
    "The command `\\C [h w] (note upper case)` displays (no arguments) or sets (pair of height and width as integers) the size of the virtual q console display for HTTP requests. The default is 25 80i."
   ]
  },
  {
   "cell_type": "markdown",
   "metadata": {},
   "source": [
    "### Change OS Directory `\\cd`\n",
    "\n",
    "The `\\cd [path]` command is passed directly through to the OS. To display the current directory, issue \\cd with no argument."
   ]
  },
  {
   "cell_type": "code",
   "execution_count": 4,
   "metadata": {
    "ExecuteTime": {
     "end_time": "2020-11-28T15:31:35.920169000Z",
     "start_time": "2020-11-28T15:31:35.917Z"
    }
   },
   "outputs": [
    {
     "data": {
      "text/plain": [
       "\"/home/vincentwan..\n"
      ]
     },
     "execution_count": 4,
     "metadata": {},
     "output_type": "execute_result"
    }
   ],
   "source": [
    "\\cd"
   ]
  },
  {
   "cell_type": "code",
   "execution_count": 5,
   "metadata": {
    "ExecuteTime": {
     "end_time": "2020-11-28T15:31:41.515259000Z",
     "start_time": "2020-11-28T15:31:41.510Z"
    }
   },
   "outputs": [
    {
     "data": {
      "text/plain": [
       "\"Ch10 Execution C..\n",
       "\"Ch11IO\"\n",
       "\"Ch11 IO.ipynb\"\n",
       "\"Ch12Workspace\"\n",
       "\"Ch12 Workspace O..\n",
       "\"Ch13 Commands an..\n",
       "\"Ch1 Q Shock And ..\n",
       "..\n"
      ]
     },
     "execution_count": 5,
     "metadata": {},
     "output_type": "execute_result"
    }
   ],
   "source": [
    "\\ls"
   ]
  },
  {
   "cell_type": "markdown",
   "metadata": {},
   "source": [
    "### Context `\\d`\n",
    "The `\\d [namespace]` command displays or changes the current context (a.k.a. directory in early versions of k). To determine the current context, issue \\d with no parameter."
   ]
  },
  {
   "cell_type": "markdown",
   "metadata": {},
   "source": [
    "### Error Trap `\\e`\n",
    "\n",
    "The `\\e [0|1]` command **displays or changes the behavior of a q process when an exception occurs during processing a client (i.e., remote) IPC request.**\n",
    "\n",
    "In a fresh q session the default is **0**, meaning that when an exception occurs the stack of the failing function is cleared and execution continues. This is the desired behavior for a production server, as you do not want wayward client requests to disable the process.\n",
    "\n",
    "In a development or testing scenario you can set this value to 1 to **enable the familiar stack trace from the interactive console.**"
   ]
  },
  {
   "cell_type": "markdown",
   "metadata": {},
   "source": [
    "### Functions `\\f`\n",
    "The `\\f [namespace]` command displays a sorted list of symbolic names of functions in the current, or specified, working context."
   ]
  },
  {
   "cell_type": "code",
   "execution_count": 7,
   "metadata": {
    "ExecuteTime": {
     "end_time": "2020-11-28T15:34:34.157876000Z",
     "start_time": "2020-11-28T15:34:34.155Z"
    }
   },
   "outputs": [
    {
     "data": {
      "text/plain": [
       "`f`g`help`print\n"
      ]
     },
     "execution_count": 7,
     "metadata": {},
     "output_type": "execute_result"
    },
    {
     "data": {
      "text/plain": [
       "`f`g`help`print\n"
      ]
     },
     "execution_count": 7,
     "metadata": {},
     "output_type": "execute_result"
    }
   ],
   "source": [
    "\\f\n",
    "f:{x*x}\n",
    "g:{x*x*x}\n",
    "\\f"
   ]
  },
  {
   "cell_type": "code",
   "execution_count": 9,
   "metadata": {
    "ExecuteTime": {
     "end_time": "2020-11-28T15:35:01.951479000Z",
     "start_time": "2020-11-28T15:35:01.949Z"
    }
   },
   "outputs": [
    {
     "data": {
      "text/plain": [
       ",`f\n"
      ]
     },
     "execution_count": 9,
     "metadata": {},
     "output_type": "execute_result"
    }
   ],
   "source": [
    ".jab.f:{[] 42}\n",
    "\\f .jab"
   ]
  },
  {
   "cell_type": "markdown",
   "metadata": {},
   "source": [
    "### Garbage Collection `\\g`\n",
    "\n",
    "- Q/Kdb+ manages its own thread-local heap.\n",
    "- Vectors always have a capacity and a used size (the count).\n",
    "- There is no garbage since q/kdb+ uses reference counting. As soon as there are no references to an object, its memory is returned to the heap.\n",
    "- During that return of memory, q/kdb+ checks if the capacity of the object  is ≥64MB. If it is and \\g is 1, the memory is returned immediately to the OS; otherwise, the memory is returned to the thread-local heap for reuse.\n",
    "- Executing `.Q.gc[]` additionally attempts to coalesce pieces of the heap into their original allocation units and returns any units >=64MB to the OS.\n",
    "- Beginning with 3.3 2015.08.23 – Linux only – unused pages in the heap are dropped from RSS during `.Q.gc[]`.\n",
    "- When q/kdb+ is denied additional address space from the OS, it will invoke `.Q.gc[]` and retry the request to the OS. Should that fail, it will exit with `'wsfull`.\n",
    "- When slave threads are configured and `.Q.gc[]` is invoked in the main thread it will automatically invoke `.Q.gc[]` in each slave thread. If the call is instigated in a slave thread – i.e., not the main thread – it will affect that thread’s local heap only."
   ]
  },
  {
   "cell_type": "markdown",
   "metadata": {},
   "source": [
    "### Load `\\l`\n",
    "\n",
    "The `\\l path` command loads a q resource from persistent storage – here “load” is used in a generic sense. The path parameter can be a directory or a file. Loosely speaking, the rules for loading are,\n",
    "\n",
    "- When something is recognized as a q resource, the loading routine does what is appropriate to make that resource available in the workspace.\n",
    "- When something is not a recognized q resource, it fails.\n",
    "\n",
    "The loading process recognizes two types of files:\n",
    "\n",
    "- A file can be a q (or k) script, which is executed as if the individual lines were entered from the console\n",
    "- A file can be a serialized q entity – e.g., the sym file for a splayed or partitioned table. In this case, the entity is deserialized into memory into a variable having the name of the file.\n",
    "\n",
    "The situation for a directory is more complicated.\n",
    "\n",
    "- The directory of a splayed table is mapped into memory with **the name of the directory as the table name**. None of the actual table data is actually loaded into memory at this time.\n",
    "- For a directory name that is the value of one of the permitted partition types, the most recent partition directory is inspected for splayed directories and each such directory is mapped into memory with the name of the splayed directory.\n",
    "- The root of a kdb+ database can contain: **serialized q entities (e.g., the sym file), scripts (e.g., a start-up script), splayed table directories, partition directories or a par.txt file**. In this case, the loading routine simply “does” each entity that it finds, as outlined above. The scripts are executed last."
   ]
  },
  {
   "cell_type": "code",
   "execution_count": 10,
   "metadata": {
    "ExecuteTime": {
     "end_time": "2020-11-28T15:44:19.425922000Z",
     "start_time": "2020-11-28T15:44:19.417Z"
    }
   },
   "outputs": [
    {
     "data": {
      "text/plain": [
       "`trade\n"
      ]
     },
     "execution_count": 10,
     "metadata": {},
     "output_type": "execute_result"
    }
   ],
   "source": [
    "\\l :./Ch11IO/trade"
   ]
  },
  {
   "cell_type": "code",
   "execution_count": 12,
   "metadata": {
    "ExecuteTime": {
     "end_time": "2020-11-28T15:44:47.411780000Z",
     "start_time": "2020-11-28T15:44:47.409Z"
    }
   },
   "outputs": [
    {
     "data": {
      "text/plain": [
       "dt         tm           sym qty  px    \n",
       "---------------------------------------\n",
       "2015.01.01 00:00:02.834 0   760  106.45\n",
       "2015.01.01 00:00:08.287 1   1970 568.86\n",
       "2015.01.01 00:00:12.439 1   3280 569.04\n"
      ]
     },
     "execution_count": 12,
     "metadata": {},
     "output_type": "execute_result"
    }
   ],
   "source": [
    "\\c 25 80i\n",
    "3#trade"
   ]
  },
  {
   "cell_type": "markdown",
   "metadata": {},
   "source": [
    "When a directory is mapped, the current working directory in the OS is set to that directory. This allows relative paths to subordinate items in the database and also helps to avoid wayward operations."
   ]
  },
  {
   "cell_type": "markdown",
   "metadata": {},
   "source": [
    "### GMT Offset `\\o`\n",
    "\n",
    "The `\\o [offset]` command displays or changes the offset from GMT for q date/time values in the current q session. When the absolute value of the integer offset is strictly less than 24 it is interpreted as hours; if it is 24 or greater it is interpreted as minutes."
   ]
  },
  {
   "cell_type": "code",
   "execution_count": 13,
   "metadata": {
    "ExecuteTime": {
     "end_time": "2020-11-28T15:47:01.484536000Z",
     "start_time": "2020-11-28T15:47:01.477Z"
    }
   },
   "outputs": [
    {
     "data": {
      "text/plain": [
       "15:47:01.482\n"
      ]
     },
     "execution_count": 13,
     "metadata": {},
     "output_type": "execute_result"
    }
   ],
   "source": [
    ".z.t / GMT"
   ]
  },
  {
   "cell_type": "code",
   "execution_count": 14,
   "metadata": {
    "ExecuteTime": {
     "end_time": "2020-11-28T15:47:09.302275000Z",
     "start_time": "2020-11-28T15:47:09.300Z"
    }
   },
   "outputs": [
    {
     "data": {
      "text/plain": [
       "09:47:09.301\n"
      ]
     },
     "execution_count": 14,
     "metadata": {},
     "output_type": "execute_result"
    }
   ],
   "source": [
    ".z.T / I live in Chicago"
   ]
  },
  {
   "cell_type": "code",
   "execution_count": 14,
   "metadata": {
    "ExecuteTime": {
     "end_time": "2020-11-28T15:47:45.683009000Z",
     "start_time": "2020-11-28T15:47:45.680Z"
    }
   },
   "outputs": [
    {
     "ename": "\u001b[0;31mdomain\u001b[0m",
     "evalue": "\u001b[0;31mdomain\u001b[0m",
     "output_type": "error",
     "traceback": [
      "\u001b[0;31mevaluation error:\n\u001b[0m",
      "\u001b[0;31mdomain\u001b[0m",
      "\u001b[0;31m\u001b[0m",
      "\u001b[0;31m  [0]  \\o / Using OS offset\n       ^\n\u001b[0m"
     ]
    }
   ],
   "source": [
    "\\o / Using OS offset"
   ]
  },
  {
   "cell_type": "code",
   "execution_count": 15,
   "metadata": {
    "ExecuteTime": {
     "end_time": "2020-11-28T15:47:53.674829000Z",
     "start_time": "2020-11-28T15:47:53.664Z"
    }
   },
   "outputs": [
    {
     "data": {
      "text/plain": [
       "06:00:00.000\n"
      ]
     },
     "execution_count": 15,
     "metadata": {},
     "output_type": "execute_result"
    }
   ],
   "source": [
    ".z.t-.z.T"
   ]
  },
  {
   "cell_type": "code",
   "execution_count": 16,
   "metadata": {
    "ExecuteTime": {
     "end_time": "2020-11-28T15:48:02.980748000Z",
     "start_time": "2020-11-28T15:48:02.979Z"
    }
   },
   "outputs": [],
   "source": [
    "\\o -10  / Think about moving to Hawaii"
   ]
  },
  {
   "cell_type": "code",
   "execution_count": 17,
   "metadata": {
    "ExecuteTime": {
     "end_time": "2020-11-28T15:48:08.188366000Z",
     "start_time": "2020-11-28T15:48:08.186Z"
    }
   },
   "outputs": [
    {
     "data": {
      "text/plain": [
       "05:48:08.187\n"
      ]
     },
     "execution_count": 17,
     "metadata": {},
     "output_type": "execute_result"
    }
   ],
   "source": [
    ".z.T"
   ]
  },
  {
   "cell_type": "code",
   "execution_count": 18,
   "metadata": {
    "ExecuteTime": {
     "end_time": "2020-11-28T15:48:17.159723000Z",
     "start_time": "2020-11-28T15:48:17.157Z"
    }
   },
   "outputs": [
    {
     "data": {
      "text/plain": [
       "10:00:00.000\n"
      ]
     },
     "execution_count": 18,
     "metadata": {},
     "output_type": "execute_result"
    }
   ],
   "source": [
    ".z.t-.z.T"
   ]
  },
  {
   "cell_type": "markdown",
   "metadata": {},
   "source": [
    "### Port `\\p`\n",
    "The `\\p [port]` command displays or changes the port on which the q process is listening. In a fresh q session the value is `0i`, meaning that no port is open and connection attempts are rejected. To close the open port, use `0i` as port."
   ]
  },
  {
   "cell_type": "code",
   "execution_count": 19,
   "metadata": {
    "ExecuteTime": {
     "end_time": "2020-11-28T15:49:53.236420000Z",
     "start_time": "2020-11-28T15:49:53.233Z"
    }
   },
   "outputs": [
    {
     "data": {
      "text/plain": [
       "0i\n"
      ]
     },
     "execution_count": 19,
     "metadata": {},
     "output_type": "execute_result"
    }
   ],
   "source": [
    "\\p"
   ]
  },
  {
   "cell_type": "code",
   "execution_count": 20,
   "metadata": {
    "ExecuteTime": {
     "end_time": "2020-11-28T15:50:01.055859000Z",
     "start_time": "2020-11-28T15:50:01.048Z"
    }
   },
   "outputs": [
    {
     "data": {
      "text/plain": [
       "5042i\n"
      ]
     },
     "execution_count": 20,
     "metadata": {},
     "output_type": "execute_result"
    }
   ],
   "source": [
    "\\p 5042\n",
    "\\p"
   ]
  },
  {
   "cell_type": "code",
   "execution_count": 21,
   "metadata": {
    "ExecuteTime": {
     "end_time": "2020-11-28T15:50:04.790987000Z",
     "start_time": "2020-11-28T15:50:04.788Z"
    }
   },
   "outputs": [
    {
     "data": {
      "text/plain": [
       "0i\n"
      ]
     },
     "execution_count": 21,
     "metadata": {},
     "output_type": "execute_result"
    }
   ],
   "source": [
    "\\p 0\n",
    "\\p"
   ]
  },
  {
   "cell_type": "markdown",
   "metadata": {},
   "source": [
    "**Important**\n",
    "\n",
    "Once you open a port, that q session is wide open to all connections, including to HTTP traffic. We strongly recommend that you implement appropriate security around any process with an open port in a production environment."
   ]
  },
  {
   "cell_type": "markdown",
   "metadata": {},
   "source": [
    "### Display Precision `\\P`"
   ]
  },
  {
   "cell_type": "markdown",
   "metadata": {},
   "source": [
    "The command `\\P [precision]` (note upper case) shows or sets the display precision for floating point numbers – i.e., float and real types – to the specified number of digits.\n",
    "\n",
    "**Only the display of the floating point values is affected. The internal representation remains unchanged.**\n",
    "\n",
    "The permissible values are 0-17, with 0 meaning maximum. The default precision is 7, meaning that the display of float or real values is rounded to the seventh significant digit."
   ]
  },
  {
   "cell_type": "code",
   "execution_count": 22,
   "metadata": {
    "ExecuteTime": {
     "end_time": "2020-11-28T15:51:30.955614000Z",
     "start_time": "2020-11-28T15:51:30.953Z"
    }
   },
   "outputs": [
    {
     "data": {
      "text/plain": [
       "7i\n"
      ]
     },
     "execution_count": 22,
     "metadata": {},
     "output_type": "execute_result"
    }
   ],
   "source": [
    "\\P"
   ]
  },
  {
   "cell_type": "code",
   "execution_count": 23,
   "metadata": {
    "ExecuteTime": {
     "end_time": "2020-11-28T15:51:34.290278000Z",
     "start_time": "2020-11-28T15:51:34.281Z"
    }
   },
   "outputs": [
    {
     "data": {
      "text/plain": [
       "0.3333333\n"
      ]
     },
     "execution_count": 23,
     "metadata": {},
     "output_type": "execute_result"
    }
   ],
   "source": [
    "1%3"
   ]
  },
  {
   "cell_type": "code",
   "execution_count": 24,
   "metadata": {
    "ExecuteTime": {
     "end_time": "2020-11-28T15:51:40.487532000Z",
     "start_time": "2020-11-28T15:51:40.485Z"
    }
   },
   "outputs": [
    {
     "data": {
      "text/plain": [
       "0.33333333333333331\n"
      ]
     },
     "execution_count": 24,
     "metadata": {},
     "output_type": "execute_result"
    }
   ],
   "source": [
    "\\P 0\n",
    "1%3"
   ]
  },
  {
   "cell_type": "markdown",
   "metadata": {},
   "source": [
    "### Replication `\\r`\n",
    "The replication command `\\r` is reserved for system use when using replicating servers. Do **not** use manually."
   ]
  },
  {
   "cell_type": "markdown",
   "metadata": {},
   "source": [
    "### Slaves `\\s`\n",
    "\n",
    "The `\\s` command displays the number of slaves available to the current q process"
   ]
  },
  {
   "cell_type": "markdown",
   "metadata": {},
   "source": [
    "### Seed `\\S`\n",
    "The `\\S [seed]` command (note upper case) displays or sets the initial seed for pseudo-random number generation to the integer value seed. This is useful for obtaining repeatable results from randomized testing. The default value is -314159."
   ]
  },
  {
   "cell_type": "code",
   "execution_count": 25,
   "metadata": {
    "ExecuteTime": {
     "end_time": "2020-11-28T15:53:28.544502000Z",
     "start_time": "2020-11-28T15:53:28.542Z"
    }
   },
   "outputs": [
    {
     "data": {
      "text/plain": [
       "-314159i\n"
      ]
     },
     "execution_count": 25,
     "metadata": {},
     "output_type": "execute_result"
    }
   ],
   "source": [
    "\\S"
   ]
  },
  {
   "cell_type": "code",
   "execution_count": 26,
   "metadata": {
    "ExecuteTime": {
     "end_time": "2020-11-28T15:53:36.714846000Z",
     "start_time": "2020-11-28T15:53:36.712Z"
    }
   },
   "outputs": [
    {
     "data": {
      "text/plain": [
       "8 1 9 5 4\n"
      ]
     },
     "execution_count": 26,
     "metadata": {},
     "output_type": "execute_result"
    }
   ],
   "source": [
    "5?10"
   ]
  },
  {
   "cell_type": "code",
   "execution_count": 27,
   "metadata": {
    "ExecuteTime": {
     "end_time": "2020-11-28T15:53:40.699184000Z",
     "start_time": "2020-11-28T15:53:40.691Z"
    }
   },
   "outputs": [
    {
     "data": {
      "text/plain": [
       "6 6 1 8 5\n"
      ]
     },
     "execution_count": 27,
     "metadata": {},
     "output_type": "execute_result"
    }
   ],
   "source": [
    "5?10"
   ]
  },
  {
   "cell_type": "code",
   "execution_count": 28,
   "metadata": {
    "ExecuteTime": {
     "end_time": "2020-11-28T15:53:48.987580000Z",
     "start_time": "2020-11-28T15:53:48.980Z"
    }
   },
   "outputs": [
    {
     "data": {
      "text/plain": [
       "8 1 9 5 4\n"
      ]
     },
     "execution_count": 28,
     "metadata": {},
     "output_type": "execute_result"
    }
   ],
   "source": [
    "\\S -314159i\n",
    "5?10"
   ]
  },
  {
   "cell_type": "markdown",
   "metadata": {},
   "source": [
    "When the q process is not started in single-threaded mode, things are more complicated.\n",
    "\n",
    "- When the q process is started with a positive number of slaves, each slave gets its own seed (set internally) based on the slave number.\n",
    "- When the process is started in multi-threaded input mode, each thread gets a seed based on the socket descriptor.\n",
    "- When the process is started with negative slaves, each process on a specified range of ports gets its own seed based on the port number."
   ]
  },
  {
   "cell_type": "markdown",
   "metadata": {},
   "source": [
    "### Set Timer `\\t`\n",
    "The `\\t` command has two interpretations, depending the type of its parameter. When `\\t [millis]` is issued with a positive integer argument, it sets **the number of milliseconds between timer ticks**. The default value is 0i, meaning that the timer does not fire. Setting to a non-zero value starts the timer, which will fire after the specified number of milliseconds Reset to 0i to turn it off.\n",
    "\n",
    "**Warning**\n",
    "The actual timer tick frequency is determined by the timing granularity supported by the underlying operating system. This can be considerably different from a millisecond."
   ]
  },
  {
   "cell_type": "code",
   "execution_count": 33,
   "metadata": {
    "ExecuteTime": {
     "end_time": "2020-11-28T15:57:10.273986000Z",
     "start_time": "2020-11-28T15:57:10.272Z"
    }
   },
   "outputs": [
    {
     "name": "stdout",
     "output_type": "stream",
     "text": [
      "2020.11.28D09:57:10.273971000\n",
      "2020.11.28D09:57:12.276195000\n",
      "2020.11.28D09:57:14.276236000\n",
      "2020.11.28D09:57:16.276422000\n",
      "2020.11.28D09:57:18.276456000\n"
     ]
    }
   ],
   "source": [
    ".z.ts:{show .z.P}\n",
    "\\t 2000\n",
    ".z.ts:{show .z.P}"
   ]
  },
  {
   "cell_type": "code",
   "execution_count": 34,
   "metadata": {
    "ExecuteTime": {
     "end_time": "2020-11-28T15:57:18.597873000Z",
     "start_time": "2020-11-28T15:57:18.592Z"
    }
   },
   "outputs": [],
   "source": [
    "\\t 0"
   ]
  },
  {
   "cell_type": "markdown",
   "metadata": {},
   "source": [
    "### Elapsed Time `\\t expr` \n",
    "\n",
    "When `\\t expr` is issued with a valid q expression, the expression is evaluated and the execution duration in **milliseconds** is reported. This can be used to profile code execution when tuning an application.\n",
    "\n",
    "Some expressions execute so quickly in q that the result is less than the timer granularity. Fortunately \\t:x obviates what was formerly the only valid use of do in q – namely, repeating the expression evaluation to raise its execution time above the timer floor."
   ]
  },
  {
   "cell_type": "code",
   "execution_count": 35,
   "metadata": {
    "ExecuteTime": {
     "end_time": "2020-11-28T15:58:03.130870000Z",
     "start_time": "2020-11-28T15:58:03.071Z"
    }
   },
   "outputs": [
    {
     "data": {
      "text/plain": [
       "0\n"
      ]
     },
     "execution_count": 35,
     "metadata": {},
     "output_type": "execute_result"
    },
    {
     "data": {
      "text/plain": [
       "57\n"
      ]
     },
     "execution_count": 35,
     "metadata": {},
     "output_type": "execute_result"
    }
   ],
   "source": [
    "\\t sum til 100000\n",
    "\\t:1000 sum til 100000"
   ]
  },
  {
   "cell_type": "markdown",
   "metadata": {},
   "source": [
    "### Elapsed Time and Space `\\ts expr`\n",
    "\n",
    "The `\\ts expr` command is an enhancement of the version of \\t that times an expression. It provides both the time and the number of **bytes** used in evaluating the expression."
   ]
  },
  {
   "cell_type": "code",
   "execution_count": 36,
   "metadata": {
    "ExecuteTime": {
     "end_time": "2020-11-28T16:02:42.698857000Z",
     "start_time": "2020-11-28T16:02:42.688Z"
    }
   },
   "outputs": [
    {
     "data": {
      "text/plain": [
       "4 3145904\n"
      ]
     },
     "execution_count": 36,
     "metadata": {},
     "output_type": "execute_result"
    }
   ],
   "source": [
    "\\ts log til 100000"
   ]
  },
  {
   "cell_type": "markdown",
   "metadata": {},
   "source": [
    "### Timeout `\\T`\n",
    "\n",
    "The `\\T secs` command (note upper case) sets the number of seconds a remotely initiated execution will run before timing out. **The default value is 0, meaning that such execution will not timeout.** This is useful to protect against runaway client calls when the q process is acting as a server."
   ]
  },
  {
   "cell_type": "markdown",
   "metadata": {},
   "source": [
    "### User Password `\\u`\n",
    "\n",
    "When the q process has been started with the –u command to load a password file, the `\\u` command reloads the password file. This allows the password to be changed while the process is running."
   ]
  },
  {
   "cell_type": "markdown",
   "metadata": {},
   "source": [
    "### Variables `\\v`\n",
    "\n",
    "The `\\v [namespace]` command displays a sorted list of symbolic names of all variables in the specified context when the namespace parameter is present, or the current working context if it is not. "
   ]
  },
  {
   "cell_type": "code",
   "execution_count": 37,
   "metadata": {
    "ExecuteTime": {
     "end_time": "2020-11-28T16:04:55.981965000Z",
     "start_time": "2020-11-28T16:04:55.979Z"
    }
   },
   "outputs": [
    {
     "data": {
      "text/plain": [
       ",`trade\n"
      ]
     },
     "execution_count": 37,
     "metadata": {},
     "output_type": "execute_result"
    }
   ],
   "source": [
    "\\v"
   ]
  },
  {
   "cell_type": "code",
   "execution_count": 38,
   "metadata": {
    "ExecuteTime": {
     "end_time": "2020-11-28T16:05:02.792684000Z",
     "start_time": "2020-11-28T16:05:02.790Z"
    }
   },
   "outputs": [
    {
     "data": {
      "text/plain": [
       "`a`b`c`trade\n"
      ]
     },
     "execution_count": 38,
     "metadata": {},
     "output_type": "execute_result"
    }
   ],
   "source": [
    "a:b:c:42\n",
    "\\v"
   ]
  },
  {
   "cell_type": "markdown",
   "metadata": {},
   "source": [
    "### Worksapce `\\w`\n",
    "\n",
    "The workspace command `\\w [0]` displays information about resource utilization in the current q session. When the parameter is not present, it returns a list of six integers:\n",
    "\n",
    "1. Number of bytes allocated\n",
    "2. Number bytes available in heap\n",
    "3. Maximum heap size used heretofore in session\n",
    "4. Maximum bytes available as specified at startup in -w\n",
    "5. Number of bytes for mapped entities\n",
    "6. Number of bytes of physical (i.e. machine) memory"
   ]
  },
  {
   "cell_type": "code",
   "execution_count": 39,
   "metadata": {
    "ExecuteTime": {
     "end_time": "2020-11-28T16:05:53.578468000Z",
     "start_time": "2020-11-28T16:05:53.570Z"
    }
   },
   "outputs": [
    {
     "data": {
      "text/plain": [
       "892112 67108864 67108864 0 32004160 33369579520\n"
      ]
     },
     "execution_count": 39,
     "metadata": {},
     "output_type": "execute_result"
    }
   ],
   "source": [
    "\\w"
   ]
  },
  {
   "cell_type": "code",
   "execution_count": 40,
   "metadata": {
    "ExecuteTime": {
     "end_time": "2020-11-28T16:06:08.226744000Z",
     "start_time": "2020-11-28T16:06:07.783Z"
    }
   },
   "outputs": [
    {
     "data": {
      "text/plain": [
       "2148375920 2214592512 2214592512 0 32004160 33369579520\n"
      ]
     },
     "execution_count": 40,
     "metadata": {},
     "output_type": "execute_result"
    }
   ],
   "source": [
    "bigdata:til 200000000\n",
    "\\w"
   ]
  },
  {
   "cell_type": "markdown",
   "metadata": {},
   "source": [
    "When the parameter is present, `\\w 0` returns a list with two items relating to **symbol usage: the number of symbols and the corresponding number of bytes of memory used**."
   ]
  },
  {
   "cell_type": "code",
   "execution_count": 41,
   "metadata": {
    "ExecuteTime": {
     "end_time": "2020-11-28T16:06:47.916403000Z",
     "start_time": "2020-11-28T16:06:47.906Z"
    }
   },
   "outputs": [
    {
     "data": {
      "text/plain": [
       "1564 82245\n"
      ]
     },
     "execution_count": 41,
     "metadata": {},
     "output_type": "execute_result"
    }
   ],
   "source": [
    "\\w 0"
   ]
  },
  {
   "cell_type": "code",
   "execution_count": 42,
   "metadata": {
    "ExecuteTime": {
     "end_time": "2020-11-28T16:06:57.005253000Z",
     "start_time": "2020-11-28T16:06:56.821Z"
    }
   },
   "outputs": [
    {
     "data": {
      "text/plain": [
       "2156764928 2214592512 2214592512 0 32004160 33369579520\n"
      ]
     },
     "execution_count": 42,
     "metadata": {},
     "output_type": "execute_result"
    }
   ],
   "source": [
    "lottasyms:1000000?`5\n",
    "\\w"
   ]
  },
  {
   "cell_type": "code",
   "execution_count": 43,
   "metadata": {
    "ExecuteTime": {
     "end_time": "2020-11-28T16:06:59.641009000Z",
     "start_time": "2020-11-28T16:06:59.639Z"
    }
   },
   "outputs": [
    {
     "data": {
      "text/plain": [
       "646153 36164363\n"
      ]
     },
     "execution_count": 43,
     "metadata": {},
     "output_type": "execute_result"
    }
   ],
   "source": [
    "\\w 0"
   ]
  },
  {
   "cell_type": "markdown",
   "metadata": {},
   "source": [
    "### Week Offset `\\W`\n",
    "The week offset command `\\W [offset]` (note upper case) displays or sets the week offset.**An offset of 0 corresponds to Saturday. The default is 2, which is Monday**. This is useful in controlling weekends when aggregating weekly data. "
   ]
  },
  {
   "cell_type": "code",
   "execution_count": 45,
   "metadata": {
    "ExecuteTime": {
     "end_time": "2020-11-28T16:07:52.752449000Z",
     "start_time": "2020-11-28T16:07:52.750Z"
    }
   },
   "outputs": [
    {
     "data": {
      "text/plain": [
       "2i\n"
      ]
     },
     "execution_count": 45,
     "metadata": {},
     "output_type": "execute_result"
    }
   ],
   "source": [
    "\\W"
   ]
  },
  {
   "cell_type": "code",
   "execution_count": 46,
   "metadata": {
    "ExecuteTime": {
     "end_time": "2020-11-28T16:07:59.483662000Z",
     "start_time": "2020-11-28T16:07:59.476Z"
    }
   },
   "outputs": [
    {
     "data": {
      "text/plain": [
       "2014.12.29| 0 1 2 3\n",
       "2015.01.05| 4 5 6 7 8 9\n"
      ]
     },
     "execution_count": 46,
     "metadata": {},
     "output_type": "execute_result"
    }
   ],
   "source": [
    "group `week$2015.01.01+til 10"
   ]
  },
  {
   "cell_type": "code",
   "execution_count": 47,
   "metadata": {
    "ExecuteTime": {
     "end_time": "2020-11-28T16:08:07.115814000Z",
     "start_time": "2020-11-28T16:08:07.114Z"
    }
   },
   "outputs": [],
   "source": [
    "\\W 0"
   ]
  },
  {
   "cell_type": "code",
   "execution_count": 48,
   "metadata": {
    "ExecuteTime": {
     "end_time": "2020-11-28T16:08:12.225463000Z",
     "start_time": "2020-11-28T16:08:12.218Z"
    }
   },
   "outputs": [
    {
     "data": {
      "text/plain": [
       "2014.12.27| 0 1\n",
       "2015.01.03| 2 3 4 5 6 7 8\n",
       "2015.01.10| ,9\n"
      ]
     },
     "execution_count": 48,
     "metadata": {},
     "output_type": "execute_result"
    }
   ],
   "source": [
    "group `week$2015.01.01+til 10"
   ]
  },
  {
   "cell_type": "code",
   "execution_count": 49,
   "metadata": {
    "ExecuteTime": {
     "end_time": "2020-11-28T16:08:21.851867000Z",
     "start_time": "2020-11-28T16:08:21.849Z"
    }
   },
   "outputs": [
    {
     "data": {
      "text/plain": [
       "2014.12.28| 0 1 2\n",
       "2015.01.04| 3 4 5 6 7 8 9\n"
      ]
     },
     "execution_count": 49,
     "metadata": {},
     "output_type": "execute_result"
    }
   ],
   "source": [
    "\\W 1\n",
    "group `week$2015.01.01+til 10"
   ]
  },
  {
   "cell_type": "markdown",
   "metadata": {},
   "source": [
    "### Expunge Handler `\\x`\n",
    "\n",
    "The expunge handler command `\\x` handler un-assigns a user specified event handler for one of the `.z.*` event handlers and restores the default system behavior. For example, here is how you can customize the console response and then restore the original behavior.\n"
   ]
  },
  {
   "cell_type": "code",
   "execution_count": 53,
   "metadata": {
    "ExecuteTime": {
     "end_time": "2020-11-28T16:09:30.171201000Z",
     "start_time": "2020-11-28T16:09:30.169Z"
    }
   },
   "outputs": [
    {
     "data": {
      "text/plain": [
       "42\n"
      ]
     },
     "execution_count": 53,
     "metadata": {},
     "output_type": "execute_result"
    }
   ],
   "source": [
    ".z.pi:{\"==>\",.Q.s value x}\n",
    "42"
   ]
  },
  {
   "cell_type": "code",
   "execution_count": 54,
   "metadata": {
    "ExecuteTime": {
     "end_time": "2020-11-28T16:09:42.531672000Z",
     "start_time": "2020-11-28T16:09:42.526Z"
    }
   },
   "outputs": [],
   "source": [
    "\\x .z.pi"
   ]
  },
  {
   "cell_type": "code",
   "execution_count": 55,
   "metadata": {
    "ExecuteTime": {
     "end_time": "2020-11-28T16:09:48.357603000Z",
     "start_time": "2020-11-28T16:09:48.355Z"
    }
   },
   "outputs": [
    {
     "data": {
      "text/plain": [
       "43\n"
      ]
     },
     "execution_count": 55,
     "metadata": {},
     "output_type": "execute_result"
    }
   ],
   "source": [
    "43"
   ]
  },
  {
   "cell_type": "markdown",
   "metadata": {},
   "source": [
    "### Date Format `\\z`\n",
    "\n",
    "The date parsing format command `\\z [0|1]` displays or specifies the format for date parsing. A value of 0 corresponds to month-then-day – as in `mm/dd/yyyy` – and a value of 1 corresponds to day-then month – as in `dd/mm/yyyy`. The default value is 0i."
   ]
  },
  {
   "cell_type": "code",
   "execution_count": 56,
   "metadata": {
    "ExecuteTime": {
     "end_time": "2020-11-28T16:10:36.741326000Z",
     "start_time": "2020-11-28T16:10:36.738Z"
    }
   },
   "outputs": [
    {
     "data": {
      "text/plain": [
       "0i\n"
      ]
     },
     "execution_count": 56,
     "metadata": {},
     "output_type": "execute_result"
    }
   ],
   "source": [
    "\\z"
   ]
  },
  {
   "cell_type": "code",
   "execution_count": 57,
   "metadata": {
    "ExecuteTime": {
     "end_time": "2020-11-28T16:10:43.023555000Z",
     "start_time": "2020-11-28T16:10:43.021Z"
    }
   },
   "outputs": [
    {
     "data": {
      "text/plain": [
       "2015.12.31\n"
      ]
     },
     "execution_count": 57,
     "metadata": {},
     "output_type": "execute_result"
    }
   ],
   "source": [
    "\"D\"$\"12/31/2015\""
   ]
  },
  {
   "cell_type": "code",
   "execution_count": 58,
   "metadata": {
    "ExecuteTime": {
     "end_time": "2020-11-28T16:10:49.997982000Z",
     "start_time": "2020-11-28T16:10:49.990Z"
    }
   },
   "outputs": [
    {
     "data": {
      "text/plain": [
       "0Nd\n"
      ]
     },
     "execution_count": 58,
     "metadata": {},
     "output_type": "execute_result"
    }
   ],
   "source": [
    "\"D\"$\"31/12/2015\""
   ]
  },
  {
   "cell_type": "code",
   "execution_count": 59,
   "metadata": {
    "ExecuteTime": {
     "end_time": "2020-11-28T16:10:54.237008000Z",
     "start_time": "2020-11-28T16:10:54.230Z"
    }
   },
   "outputs": [],
   "source": [
    "\\z 1"
   ]
  },
  {
   "cell_type": "code",
   "execution_count": 60,
   "metadata": {
    "ExecuteTime": {
     "end_time": "2020-11-28T16:10:58.649556000Z",
     "start_time": "2020-11-28T16:10:58.642Z"
    }
   },
   "outputs": [
    {
     "data": {
      "text/plain": [
       "0Nd\n"
      ]
     },
     "execution_count": 60,
     "metadata": {},
     "output_type": "execute_result"
    }
   ],
   "source": [
    "\"D\"$\"12/31/2015\""
   ]
  },
  {
   "cell_type": "code",
   "execution_count": 61,
   "metadata": {
    "ExecuteTime": {
     "end_time": "2020-11-28T16:11:03.739405000Z",
     "start_time": "2020-11-28T16:11:03.731Z"
    }
   },
   "outputs": [
    {
     "data": {
      "text/plain": [
       "2015.12.31\n"
      ]
     },
     "execution_count": 61,
     "metadata": {},
     "output_type": "execute_result"
    }
   ],
   "source": [
    "\"D\"$\"31/12/2015\""
   ]
  },
  {
   "cell_type": "markdown",
   "metadata": {},
   "source": [
    "### Lock Script `\\_`"
   ]
  },
  {
   "cell_type": "markdown",
   "metadata": {},
   "source": [
    "### Redirect `\\1` and `\\2`"
   ]
  },
  {
   "cell_type": "markdown",
   "metadata": {},
   "source": [
    "These commands `\\1` and `\\2` allow you to redirect the OS stdout and stderr from within a q session. Follow the command with a file name for the redirected output.\n",
    "\n",
    "```\n",
    "q)\\1 /data/out.txt\n",
    "q)1+2*til 5\n",
    "q)\\2 /data/err.txt\n",
    "6*`7\n",
    "\\\\\n",
    ">cat /data/out.txt\n",
    "1 3 5 7 9\n",
    ">cat /data/err.txt\n",
    "q)'type\n",
    "```"
   ]
  },
  {
   "cell_type": "markdown",
   "metadata": {},
   "source": [
    "### Operating System `\\oscmd`\n",
    "The command `\\oscmd`, in which oscmd is any text not recognized as a q command, is assumed to be an operating system command and is passed to the OS for execution. Any output to stdout will be returned to q as strings. This is handy to avoid having to exit the q session and can be done programmatically with the system function. For example, on the author’s laptop,"
   ]
  },
  {
   "cell_type": "code",
   "execution_count": 1,
   "metadata": {
    "ExecuteTime": {
     "end_time": "2020-11-28T16:17:36.723858000Z",
     "start_time": "2020-11-28T16:17:36.713Z"
    }
   },
   "outputs": [
    {
     "data": {
      "text/plain": []
     },
     "execution_count": 1,
     "metadata": {},
     "output_type": "execute_result"
    }
   ],
   "source": [
    "\\mkdir test"
   ]
  },
  {
   "cell_type": "code",
   "execution_count": 2,
   "metadata": {
    "ExecuteTime": {
     "end_time": "2020-11-28T16:17:51.326187000Z",
     "start_time": "2020-11-28T16:17:51.312Z"
    }
   },
   "outputs": [
    {
     "data": {
      "text/plain": [
       "\"Ch10 Execution Control.ipynb\"\n",
       "\"Ch11IO\"\n",
       "\"Ch11 IO.ipynb\"\n",
       "\"Ch12Workspace\"\n",
       "\"Ch12 Workspace Organization.ipynb\"\n",
       "\"Ch13\"\n",
       "\"Ch13 Commands and System Variables.ipynb\"\n",
       "\"Ch1 Q Shock And Awe.ipynb\"\n",
       "\"Ch2 Atoms.ipynb\"\n",
       "\"Ch3 Lists.ipynb\"\n",
       "\"Ch4 Operators.ipynb\"\n",
       "\"Ch5 Dictionary.ipynb\"\n",
       "\"Ch6 Functions.ipynb\"\n",
       "\"Ch7 Transforming Data.ipynb\"\n",
       "\"Ch8 Tables.ipynb\"\n",
       "\"Ch9 Queries q-sql.ipynb\"\n",
       "\"test\"\n",
       "\"trades2.q\"\n",
       "\"trades.q\"\n"
      ]
     },
     "execution_count": 2,
     "metadata": {},
     "output_type": "execute_result"
    }
   ],
   "source": [
    "\\ls"
   ]
  },
  {
   "cell_type": "markdown",
   "metadata": {},
   "source": [
    "### Interrput (Ctl-c and Ctl-z)\n",
    "\n",
    "You can interrupt a long-running q function with **Ctl-c**. Note that some q functions are so tight that the interrupt may not be registered. You can **terminate any q console session with extreme prejudice using Ctl-z**, which will result in all contents of the workspace being lost."
   ]
  },
  {
   "cell_type": "markdown",
   "metadata": {},
   "source": [
    "### Terminate `\\`"
   ]
  },
  {
   "cell_type": "markdown",
   "metadata": {},
   "source": [
    "Use `\\` to terminate one level of suspended execution arrived at via an exception.\n",
    "\n",
    "**Do not have an itchy trigger finger when exiting multiple levels of suspended evaluation, as `\\\\` will exit the q session immediately.**"
   ]
  },
  {
   "cell_type": "code",
   "execution_count": 2,
   "metadata": {
    "ExecuteTime": {
     "end_time": "2020-11-28T16:19:23.834832000Z",
     "start_time": "2020-11-28T16:19:23.832Z"
    }
   },
   "outputs": [
    {
     "ename": "\u001b[0;31mtype\u001b[0m",
     "evalue": "\u001b[0;31mtype\u001b[0m",
     "output_type": "error",
     "traceback": [
      "\u001b[0;31mevaluation error:\n\u001b[0m",
      "\u001b[0;31mtype\u001b[0m",
      "\u001b[0;31m\u001b[0m",
      "\u001b[0;31m  [1]  f:{x*y}\n           ^\n\u001b[0m",
      "\u001b[0;31m  [0]  f[2;`3]\n       ^\n\u001b[0m"
     ]
    }
   ],
   "source": [
    "f:{x*y}\n",
    "f[2;`3]"
   ]
  },
  {
   "cell_type": "code",
   "execution_count": 3,
   "metadata": {
    "ExecuteTime": {
     "end_time": "2020-11-28T16:19:57.855485000Z",
     "start_time": "2020-11-28T16:19:57.854Z"
    }
   },
   "outputs": [],
   "source": [
    "\\"
   ]
  },
  {
   "cell_type": "markdown",
   "metadata": {},
   "source": [
    "### Exit `\\\\`\n",
    "To exit the q process, enter a double backslash \\\\ at any console prompt.\n",
    "\n",
    "**There is no confirmation prompt for \\\\. The q session is terminated with extreme prejudice.**\n",
    "\n",
    "**For programmatic q shutdown, use `exit` with a return value, which can be piped into other processes.**"
   ]
  },
  {
   "cell_type": "code",
   "execution_count": null,
   "metadata": {
    "ExecuteTime": {
     "start_time": "2020-11-28T16:20:04.461Z"
    }
   },
   "outputs": [],
   "source": [
    "\\\\"
   ]
  },
  {
   "cell_type": "code",
   "execution_count": null,
   "metadata": {
    "ExecuteTime": {
     "start_time": "2020-11-28T16:21:08.667Z"
    }
   },
   "outputs": [],
   "source": [
    "exit 3"
   ]
  },
  {
   "cell_type": "markdown",
   "metadata": {},
   "source": [
    "## Command Line Parameters\n",
    "\n",
    "When you start q from the command line, you can optionally follow the q executable immediately with a file or directory to be “loaded” upon startup. This is effectively the same as issuing the `\\l` command with that file or directory as the first action in the q session.\n",
    "\n",
    "Following the q executable and the file name, you can include one or more command-line options. Each is prefaced with - and followed by whitespace and an optional parameter value. Many of the command-line parameters have equivalent q commands that can be issued within the session."
   ]
  },
  {
   "cell_type": "markdown",
   "metadata": {},
   "source": [
    "### Block Database Modification `-b`\n",
    "The `–b` command line parameter disallows connected clients to modify data. This includes setting global variables or modifying files.\n",
    "### Console Size `-c`\n",
    "### HTTP Console `-C`\n",
    "### Client Error Trapping `-e`\n",
    "### Garbage Collection `-g`\n",
    "### Logging `-l` and `-L`\n",
    "The `-l` parameter starts q with logging of remote requests enabled. Following is a brief description of how logging works; see the Kx site for more information. The `–L` parameter (note upper case) **forces disk write on each remote execution.**\n",
    "### Offset `-o`\n",
    "### Port `-p`\n",
    "The `–p portnum` parameter opens portnum for TCP/IP and HTTP traffic. \n",
    "### Mutithreaded Session `-p`\n",
    "The `-p -portnum` parameter starts the q session in multithreaded mode"
   ]
  },
  {
   "cell_type": "markdown",
   "metadata": {},
   "source": [
    "### Display Precision `-P`\n",
    "### Quite `-q`\n",
    "The `-q` parameter starts q quietly, meaning that no start-up banner is displayed and there is no q prompt at the console.\n",
    "### Replicate `-r`\n",
    "The `-r` parameter starts a replicating q server.\n",
    "### Slaves `-s`\n",
    "The `-s N` parameter starts the q process with N slaves for concurrent execution. \n",
    "### Timer `-t`\n",
    "The `–t millis` command specifies the number of milliseconds between timer ticks\n",
    "### Timeout `-T`\n",
    "The `-T secs` parameter specifies the number of seconds for timeout of remote requests.\n",
    "### Exit `-u`\n",
    "The `-u 1` parameter disables calling out to the OS via system.\n",
    "### User Validation `-u`\n",
    "The `–u filename` parameter starts a q session with a file of user names and passwords that will be checked when a remote connection requests is received. The remote connection has no access outside the database root directory.\n",
    "### User Validation `-U`\n",
    "The `-U` filename parameter (note upper case) starts a q session with a file of user names and passwords that will be checked when a remote connection requests is received. **No restriction** is placed on file system access by remote connections.\n",
    "### Workspace Size `-w`\n",
    "The `–w` bytes parameter specifies the maximum virtual size of the workspace in bytes. Any attempt to allocate more than this amount of memory will result in a `'wsfull` exception and immediate termination of the q process. The default is twice the amount of physical machine memory."
   ]
  },
  {
   "cell_type": "markdown",
   "metadata": {},
   "source": [
    "### Week Offset `-W`\n",
    "### Date Parsing Format `-z`"
   ]
  },
  {
   "cell_type": "markdown",
   "metadata": {},
   "source": [
    "## System Variables\n",
    "Variables in the `.z` namespace reflect q environmental information and behavior."
   ]
  },
  {
   "cell_type": "markdown",
   "metadata": {},
   "source": [
    "### IP Address `.z.a`\n",
    "The system variable `.z.a` is an encoded int representing the IP address of the current running q instance. To see the usual four-integer IP address, decode the int using base 256. "
   ]
  },
  {
   "cell_type": "code",
   "execution_count": 2,
   "metadata": {
    "ExecuteTime": {
     "end_time": "2020-11-28T17:00:27.507901000Z",
     "start_time": "2020-11-28T17:00:27.503Z"
    }
   },
   "outputs": [
    {
     "data": {
      "text/plain": [
       "2130706433i\n"
      ]
     },
     "execution_count": 2,
     "metadata": {},
     "output_type": "execute_result"
    }
   ],
   "source": [
    ".z.a"
   ]
  },
  {
   "cell_type": "code",
   "execution_count": 3,
   "metadata": {
    "ExecuteTime": {
     "end_time": "2020-11-28T17:00:36.959880000Z",
     "start_time": "2020-11-28T17:00:36.952Z"
    }
   },
   "outputs": [
    {
     "data": {
      "text/plain": [
       "127 0 0 1i\n"
      ]
     },
     "execution_count": 3,
     "metadata": {},
     "output_type": "execute_result"
    }
   ],
   "source": [
    "`int$0x0 vs .z.a"
   ]
  },
  {
   "cell_type": "markdown",
   "metadata": {},
   "source": [
    "### Access Control `.z.ac`\n",
    "\n",
    "Assign a function to the system variable `.z.ac` to process Single Sign On (SSO) token cookies from the HTTP header. Your handler is passed a two-item list comprising the request text and a dictionary containing the elements of the request header. Your custom code should process the `Authorization` value of the dictionary and should return a list in one of the following forms:\n",
    "\n",
    "- (0; \"\") to indicate 401 page not found\n",
    "- (1; \"username\") to indicate that username has been validated and to assign this value to .z.u\n",
    "- (2; \"raw text\") to send raw response text to the client\n",
    "\n",
    "Note that `.z.ac` supersedes `.z.pw` when defined."
   ]
  },
  {
   "cell_type": "markdown",
   "metadata": {},
   "source": [
    "### Dependencies `.z.b`"
   ]
  },
  {
   "cell_type": "markdown",
   "metadata": {},
   "source": [
    "The system variable `.z.b` is a dictionary that represents the (direct) dependencies of all aliases. The keys are symbolic names of entities in the workspace and the associated values are lists of symbolic names of entities that depend directly on the entity named by the key."
   ]
  },
  {
   "cell_type": "code",
   "execution_count": 4,
   "metadata": {
    "ExecuteTime": {
     "end_time": "2020-11-28T17:03:22.544649000Z",
     "start_time": "2020-11-28T17:03:22.542Z"
    }
   },
   "outputs": [
    {
     "data": {
      "text/plain": [
       "x| `a`b\n",
       "y| ,`a\n",
       "a| ,`c\n",
       "b| ,`c\n"
      ]
     },
     "execution_count": 4,
     "metadata": {},
     "output_type": "execute_result"
    }
   ],
   "source": [
    "a::x+y\n",
    "b::x*x\n",
    "c::a+b\n",
    ".z.b"
   ]
  },
  {
   "cell_type": "markdown",
   "metadata": {},
   "source": [
    "### Cores `.z.c`\n",
    "The system variable `.z.c` represents the number of cores on the physical machine hosting the q process. Hardware with hyper-threading reports the number of virtual cores."
   ]
  },
  {
   "cell_type": "code",
   "execution_count": 5,
   "metadata": {
    "ExecuteTime": {
     "end_time": "2020-11-28T17:05:22.398248000Z",
     "start_time": "2020-11-28T17:05:22.395Z"
    }
   },
   "outputs": [
    {
     "data": {
      "text/plain": [
       "12i\n"
      ]
     },
     "execution_count": 5,
     "metadata": {},
     "output_type": "execute_result"
    }
   ],
   "source": [
    ".z.c"
   ]
  },
  {
   "cell_type": "markdown",
   "metadata": {},
   "source": [
    "### Exit Routine `.z.exit`\n",
    "\n",
    "The system variable `.z.exit` specifies a handler to be called just before the q process exits in order to clean up resources.\n",
    "\n",
    "**The handler cannot cancel the exit.**\n",
    "\n"
   ]
  },
  {
   "cell_type": "code",
   "execution_count": null,
   "metadata": {
    "ExecuteTime": {
     "start_time": "2020-11-28T17:05:50.949Z"
    }
   },
   "outputs": [
    {
     "name": "stdout",
     "output_type": "stream",
     "text": [
      "0i\n"
     ]
    }
   ],
   "source": [
    ".z.exit:{show x}\n",
    "\\\\"
   ]
  },
  {
   "cell_type": "code",
   "execution_count": null,
   "metadata": {
    "ExecuteTime": {
     "start_time": "2020-11-28T17:06:04.148Z"
    }
   },
   "outputs": [
    {
     "name": "stdout",
     "output_type": "stream",
     "text": [
      "43i\n"
     ]
    }
   ],
   "source": [
    ".z.exit:{show x}\n",
    "exit 43"
   ]
  },
  {
   "cell_type": "markdown",
   "metadata": {},
   "source": [
    "### Globale Date `.z.d`\n",
    "The system variable .z.d retrieves the date component of Greenwich Mean Time (GMT) and is equivalent to \\`date$.z.p."
   ]
  },
  {
   "cell_type": "code",
   "execution_count": 2,
   "metadata": {
    "ExecuteTime": {
     "end_time": "2020-11-28T17:07:37.058268000Z",
     "start_time": "2020-11-28T17:07:37.052Z"
    }
   },
   "outputs": [
    {
     "data": {
      "text/plain": [
       "2020.11.28\n"
      ]
     },
     "execution_count": 2,
     "metadata": {},
     "output_type": "execute_result"
    }
   ],
   "source": [
    ".z.d"
   ]
  },
  {
   "cell_type": "markdown",
   "metadata": {},
   "source": [
    "### Local Date `.z.D`\n",
    "\\`date$.z.P"
   ]
  },
  {
   "cell_type": "code",
   "execution_count": 3,
   "metadata": {
    "ExecuteTime": {
     "end_time": "2020-11-28T17:07:53.831472000Z",
     "start_time": "2020-11-28T17:07:53.829Z"
    }
   },
   "outputs": [
    {
     "data": {
      "text/plain": [
       "2020.11.28\n"
      ]
     },
     "execution_count": 3,
     "metadata": {},
     "output_type": "execute_result"
    }
   ],
   "source": [
    ".z.D"
   ]
  },
  {
   "cell_type": "markdown",
   "metadata": {},
   "source": [
    "### Startup File `.z.f`\n",
    "The system variable `.z.f` is a symbol representing the file parameter entered on the q start-up command line"
   ]
  },
  {
   "cell_type": "code",
   "execution_count": 4,
   "metadata": {
    "ExecuteTime": {
     "end_time": "2020-11-28T17:08:10.429173000Z",
     "start_time": "2020-11-28T17:08:10.422Z"
    }
   },
   "outputs": [
    {
     "data": {
      "text/plain": [
       "`jupyterq_server.q\n"
      ]
     },
     "execution_count": 4,
     "metadata": {},
     "output_type": "execute_result"
    }
   ],
   "source": [
    ".z.f"
   ]
  },
  {
   "cell_type": "markdown",
   "metadata": {},
   "source": [
    "### Host `z.h`\n",
    "The variable `.z.h` is a symbol representing the network name of the host running the q instance, which is the same as the OS command hostname on Unix. "
   ]
  },
  {
   "cell_type": "code",
   "execution_count": 5,
   "metadata": {
    "ExecuteTime": {
     "end_time": "2020-11-28T17:08:44.346830000Z",
     "start_time": "2020-11-28T17:08:44.336Z"
    }
   },
   "outputs": [
    {
     "data": {
      "text/plain": [
       "`vpop\n"
      ]
     },
     "execution_count": 5,
     "metadata": {},
     "output_type": "execute_result"
    }
   ],
   "source": [
    ".z.h"
   ]
  },
  {
   "cell_type": "markdown",
   "metadata": {},
   "source": [
    "### Process ID `.z.i`\n",
    "The variable `.z.i` is an int representing the process ID of the running q instance. "
   ]
  },
  {
   "cell_type": "code",
   "execution_count": 8,
   "metadata": {
    "ExecuteTime": {
     "end_time": "2020-11-28T17:09:47.280792000Z",
     "start_time": "2020-11-28T17:09:47.279Z"
    }
   },
   "outputs": [
    {
     "data": {
      "text/plain": [
       "129203i\n"
      ]
     },
     "execution_count": 8,
     "metadata": {},
     "output_type": "execute_result"
    }
   ],
   "source": [
    ".z.i"
   ]
  },
  {
   "cell_type": "markdown",
   "metadata": {},
   "source": [
    "### Release Date `.z.k`"
   ]
  },
  {
   "cell_type": "code",
   "execution_count": 9,
   "metadata": {
    "ExecuteTime": {
     "end_time": "2020-11-28T17:10:05.464028000Z",
     "start_time": "2020-11-28T17:10:05.457Z"
    }
   },
   "outputs": [
    {
     "data": {
      "text/plain": [
       "2020.07.15\n"
      ]
     },
     "execution_count": 9,
     "metadata": {},
     "output_type": "execute_result"
    }
   ],
   "source": [
    ".z.k"
   ]
  },
  {
   "cell_type": "markdown",
   "metadata": {},
   "source": [
    "### Release Version `.z.K`"
   ]
  },
  {
   "cell_type": "code",
   "execution_count": 10,
   "metadata": {
    "ExecuteTime": {
     "end_time": "2020-11-28T17:10:15.500216000Z",
     "start_time": "2020-11-28T17:10:15.498Z"
    }
   },
   "outputs": [
    {
     "data": {
      "text/plain": [
       "4f\n"
      ]
     },
     "execution_count": 10,
     "metadata": {},
     "output_type": "execute_result"
    }
   ],
   "source": [
    ".z.K"
   ]
  },
  {
   "cell_type": "markdown",
   "metadata": {},
   "source": [
    "### License Information `.z.l`"
   ]
  },
  {
   "cell_type": "code",
   "execution_count": 12,
   "metadata": {
    "ExecuteTime": {
     "end_time": "2020-11-28T17:10:47.475202000Z",
     "start_time": "2020-11-28T17:10:47.467Z"
    }
   },
   "outputs": [],
   "source": [
    "/.z.l"
   ]
  },
  {
   "cell_type": "markdown",
   "metadata": {},
   "source": [
    "### GMT Timespan `.z.n`"
   ]
  },
  {
   "cell_type": "code",
   "execution_count": 13,
   "metadata": {
    "ExecuteTime": {
     "end_time": "2020-11-28T17:11:00.254543000Z",
     "start_time": "2020-11-28T17:11:00.247Z"
    }
   },
   "outputs": [
    {
     "data": {
      "text/plain": [
       "0D17:11:00.252408000\n"
      ]
     },
     "execution_count": 13,
     "metadata": {},
     "output_type": "execute_result"
    }
   ],
   "source": [
    ".z.n"
   ]
  },
  {
   "cell_type": "markdown",
   "metadata": {},
   "source": [
    "### Local Timespan  `.z.N`"
   ]
  },
  {
   "cell_type": "code",
   "execution_count": 14,
   "metadata": {
    "ExecuteTime": {
     "end_time": "2020-11-28T17:11:19.886927000Z",
     "start_time": "2020-11-28T17:11:19.884Z"
    }
   },
   "outputs": [
    {
     "data": {
      "text/plain": [
       "0D11:11:19.886319000\n"
      ]
     },
     "execution_count": 14,
     "metadata": {},
     "output_type": "execute_result"
    }
   ],
   "source": [
    ".z.N"
   ]
  },
  {
   "cell_type": "markdown",
   "metadata": {},
   "source": [
    "### OS `.z.o`"
   ]
  },
  {
   "cell_type": "code",
   "execution_count": 15,
   "metadata": {
    "ExecuteTime": {
     "end_time": "2020-11-28T17:11:36.494300000Z",
     "start_time": "2020-11-28T17:11:36.487Z"
    }
   },
   "outputs": [
    {
     "data": {
      "text/plain": [
       "`l64\n"
      ]
     },
     "execution_count": 15,
     "metadata": {},
     "output_type": "execute_result"
    }
   ],
   "source": [
    ".z.o /linux 64-bit"
   ]
  },
  {
   "cell_type": "markdown",
   "metadata": {},
   "source": [
    "### GMT Timestamp `z.p`\n",
    "### Local Timestamp `z.P`"
   ]
  },
  {
   "cell_type": "code",
   "execution_count": 16,
   "metadata": {
    "ExecuteTime": {
     "end_time": "2020-11-28T17:12:14.426238000Z",
     "start_time": "2020-11-28T17:12:14.424Z"
    }
   },
   "outputs": [
    {
     "data": {
      "text/plain": [
       "2020.11.28D17:12:14.425818000\n"
      ]
     },
     "execution_count": 16,
     "metadata": {},
     "output_type": "execute_result"
    }
   ],
   "source": [
    ".z.p"
   ]
  },
  {
   "cell_type": "code",
   "execution_count": 17,
   "metadata": {
    "ExecuteTime": {
     "end_time": "2020-11-28T17:12:16.759599000Z",
     "start_time": "2020-11-28T17:12:16.752Z"
    }
   },
   "outputs": [
    {
     "data": {
      "text/plain": [
       "2020.11.28D11:12:16.757830000\n"
      ]
     },
     "execution_count": 17,
     "metadata": {},
     "output_type": "execute_result"
    }
   ],
   "source": [
    ".z.P"
   ]
  },
  {
   "cell_type": "markdown",
   "metadata": {},
   "source": [
    "### On Close `.z.pc`"
   ]
  },
  {
   "cell_type": "markdown",
   "metadata": {},
   "source": [
    "Assign a q function to the system variable `.z.pc` to be invoked after a connection is closed – a.k.a. **“process close.”** At the point your handler is invoked, the other variables associated with the connection – e.g., .z.w – have already been wiped. The handle of the connection that has just been closed is passed as the lone parameter to your handler so that you can clean up any resources associated with it in your application."
   ]
  },
  {
   "cell_type": "markdown",
   "metadata": {},
   "source": [
    "### Peach Distribution `.z.pd`\n",
    "### On Synchronous Message `.z.pg`\n",
    "### On HTTP Get `.z.ph`\n",
    "### On Input `.z.pi`\n",
    "### HTTP Options Method `.z.pm`\n",
    "### On Open `.z.po`\n",
    "### On HTTP Post `.z.pp`\n",
    "### On Set `.z.ps`\n",
    "### On Password `.z.pw`"
   ]
  },
  {
   "cell_type": "markdown",
   "metadata": {
    "ExecuteTime": {
     "end_time": "2020-11-28T17:16:19.768888000Z",
     "start_time": "2020-11-28T17:16:19.765Z"
    }
   },
   "source": [
    "### Quite Mode `.z.q`\n",
    "### Self `.z.s`\n",
    "The system variable `.z.s` represents the current function during function evaluation. "
   ]
  },
  {
   "cell_type": "code",
   "execution_count": 18,
   "metadata": {
    "ExecuteTime": {
     "end_time": "2020-11-28T17:17:15.621787000Z",
     "start_time": "2020-11-28T17:17:15.614Z"
    }
   },
   "outputs": [
    {
     "data": {
      "text/plain": [
       "3628800\n"
      ]
     },
     "execution_count": 18,
     "metadata": {},
     "output_type": "execute_result"
    }
   ],
   "source": [
    "{$[x=1;x;x*.z.s x-1]} 10"
   ]
  },
  {
   "cell_type": "markdown",
   "metadata": {},
   "source": [
    "### GMT Date `.z.t`\n",
    "### Local Date `.z.T`\n",
    "### On Timer `.z.ts`\n",
    "### User `.z.u`\n",
    "### On Value Set `.z.vs`\n",
    "### Who `.z.w`\n",
    "### Handle Queues `.z.W`\n",
    "### On WebSocket Close `.z.wc`\n",
    "### On WebSocket Open `.z.wo`\n",
    "### On WebSocket Message `.z.ws`"
   ]
  },
  {
   "cell_type": "markdown",
   "metadata": {},
   "source": [
    "### Command-Line Parameters `.z.x`\n",
    "The system variable `.z.x` is a list of strings representing the command-line parameters provided after the name of the file or directory on the command-line invocation of the q process. "
   ]
  },
  {
   "cell_type": "markdown",
   "metadata": {},
   "source": [
    "### Raw Command Line `.z.X`"
   ]
  },
  {
   "cell_type": "markdown",
   "metadata": {},
   "source": [
    "### GMT Datetime `.z.z`\n",
    "### Local Datetime `.z.Z`\n",
    "### Zip Datetime `.z.Z`\n"
   ]
  }
 ],
 "metadata": {
  "kernelspec": {
   "display_name": "Q (kdb+)",
   "language": "q",
   "name": "qpk"
  },
  "language_info": {
   "file_extension": ".q",
   "mimetype": "text/x-q",
   "name": "q",
   "version": "4.0"
  },
  "toc": {
   "base_numbering": 1,
   "nav_menu": {},
   "number_sections": true,
   "sideBar": true,
   "skip_h1_title": false,
   "title_cell": "Table of Contents",
   "title_sidebar": "Contents",
   "toc_cell": true,
   "toc_position": {},
   "toc_section_display": true,
   "toc_window_display": false
  }
 },
 "nbformat": 4,
 "nbformat_minor": 4
}
