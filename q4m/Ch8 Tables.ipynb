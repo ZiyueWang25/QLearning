{
 "cells": [
  {
   "cell_type": "markdown",
   "metadata": {
    "toc": true
   },
   "source": [
    "<h1>Table of Contents<span class=\"tocSkip\"></span></h1>\n",
    "<div class=\"toc\"><ul class=\"toc-item\"><li><span><a href=\"#Overview\" data-toc-modified-id=\"Overview-0\"><span class=\"toc-item-num\">0&nbsp;&nbsp;</span>Overview</a></span></li><li><span><a href=\"#Table-Definition\" data-toc-modified-id=\"Table-Definition-1\"><span class=\"toc-item-num\">1&nbsp;&nbsp;</span>Table Definition</a></span><ul class=\"toc-item\"><li><span><a href=\"#Review-of-Table-as-Column-Dictionary\" data-toc-modified-id=\"Review-of-Table-as-Column-Dictionary-1.1\"><span class=\"toc-item-num\">1.1&nbsp;&nbsp;</span>Review of Table as Column Dictionary</a></span></li><li><span><a href=\"#Table-Display\" data-toc-modified-id=\"Table-Display-1.2\"><span class=\"toc-item-num\">1.2&nbsp;&nbsp;</span>Table Display</a></span></li><li><span><a href=\"#Table-Definition-Syntax\" data-toc-modified-id=\"Table-Definition-Syntax-1.3\"><span class=\"toc-item-num\">1.3&nbsp;&nbsp;</span>Table-Definition Syntax</a></span></li><li><span><a href=\"#Table-Metadata\" data-toc-modified-id=\"Table-Metadata-1.4\"><span class=\"toc-item-num\">1.4&nbsp;&nbsp;</span>Table Metadata</a></span></li><li><span><a href=\"#Records\" data-toc-modified-id=\"Records-1.5\"><span class=\"toc-item-num\">1.5&nbsp;&nbsp;</span>Records</a></span></li><li><span><a href=\"#Flipped-Column-Dictionary-vs.-List-of-Records\" data-toc-modified-id=\"Flipped-Column-Dictionary-vs.-List-of-Records-1.6\"><span class=\"toc-item-num\">1.6&nbsp;&nbsp;</span>Flipped Column Dictionary vs. List of Records</a></span></li></ul></li><li><span><a href=\"#Empty-Tables-and-Schema\" data-toc-modified-id=\"Empty-Tables-and-Schema-2\"><span class=\"toc-item-num\">2&nbsp;&nbsp;</span>Empty Tables and Schema</a></span></li><li><span><a href=\"#Basic-select-and-update\" data-toc-modified-id=\"Basic-select-and-update-3\"><span class=\"toc-item-num\">3&nbsp;&nbsp;</span>Basic select and update</a></span><ul class=\"toc-item\"><li><span><a href=\"#Syntax-of-select\" data-toc-modified-id=\"Syntax-of-select-3.1\"><span class=\"toc-item-num\">3.1&nbsp;&nbsp;</span>Syntax of <code>select</code></a></span></li><li><span><a href=\"#Displaying-the-Result\" data-toc-modified-id=\"Displaying-the-Result-3.2\"><span class=\"toc-item-num\">3.2&nbsp;&nbsp;</span>Displaying the Result</a></span></li><li><span><a href=\"#Selecting-Columns\" data-toc-modified-id=\"Selecting-Columns-3.3\"><span class=\"toc-item-num\">3.3&nbsp;&nbsp;</span>Selecting Columns</a></span></li><li><span><a href=\"#Basic-update\" data-toc-modified-id=\"Basic-update-3.4\"><span class=\"toc-item-num\">3.4&nbsp;&nbsp;</span>Basic update</a></span></li></ul></li><li><span><a href=\"#Primary-Keys-and-Keyed-Tables\" data-toc-modified-id=\"Primary-Keys-and-Keyed-Tables-4\"><span class=\"toc-item-num\">4&nbsp;&nbsp;</span>Primary Keys and Keyed Tables</a></span><ul class=\"toc-item\"><li><span><a href=\"#Keyed-Table\" data-toc-modified-id=\"Keyed-Table-4.1\"><span class=\"toc-item-num\">4.1&nbsp;&nbsp;</span>Keyed Table</a></span></li><li><span><a href=\"#Simple-Example\" data-toc-modified-id=\"Simple-Example-4.2\"><span class=\"toc-item-num\">4.2&nbsp;&nbsp;</span>Simple Example</a></span></li><li><span><a href=\"#Keyed-Table-Definition-Syntax\" data-toc-modified-id=\"Keyed-Table-Definition-Syntax-4.3\"><span class=\"toc-item-num\">4.3&nbsp;&nbsp;</span>Keyed-Table Definition Syntax</a></span></li><li><span><a href=\"#Accessing-Records-of-a-Keyed-Table\" data-toc-modified-id=\"Accessing-Records-of-a-Keyed-Table-4.4\"><span class=\"toc-item-num\">4.4&nbsp;&nbsp;</span>Accessing Records of a Keyed Table</a></span></li><li><span><a href=\"#Retrieving-Multiple-Records\" data-toc-modified-id=\"Retrieving-Multiple-Records-4.5\"><span class=\"toc-item-num\">4.5&nbsp;&nbsp;</span>Retrieving Multiple Records</a></span></li><li><span><a href=\"#Reverse-Lookup\" data-toc-modified-id=\"Reverse-Lookup-4.6\"><span class=\"toc-item-num\">4.6&nbsp;&nbsp;</span>Reverse Lookup</a></span></li><li><span><a href=\"#Components-of-a-Keyed-Table\" data-toc-modified-id=\"Components-of-a-Keyed-Table-4.7\"><span class=\"toc-item-num\">4.7&nbsp;&nbsp;</span>Components of a Keyed Table</a></span></li><li><span><a href=\"#Tables-vs.-Keyed-Tables\" data-toc-modified-id=\"Tables-vs.-Keyed-Tables-4.8\"><span class=\"toc-item-num\">4.8&nbsp;&nbsp;</span>Tables vs. Keyed Tables</a></span></li><li><span><a href=\"#Compound-Primary-Key\" data-toc-modified-id=\"Compound-Primary-Key-4.9\"><span class=\"toc-item-num\">4.9&nbsp;&nbsp;</span>Compound Primary Key</a></span></li><li><span><a href=\"#Retrieving-Records-with-a-Compound-Primary-Key\" data-toc-modified-id=\"Retrieving-Records-with-a-Compound-Primary-Key-4.10\"><span class=\"toc-item-num\">4.10&nbsp;&nbsp;</span>Retrieving Records with a Compound Primary Key</a></span></li><li><span><a href=\"#Extracting-Column-Data\" data-toc-modified-id=\"Extracting-Column-Data-4.11\"><span class=\"toc-item-num\">4.11&nbsp;&nbsp;</span>Extracting Column Data</a></span></li></ul></li><li><span><a href=\"#Foreign-Keys-and-Virtual-Columns\" data-toc-modified-id=\"Foreign-Keys-and-Virtual-Columns-5\"><span class=\"toc-item-num\">5&nbsp;&nbsp;</span>Foreign Keys and Virtual Columns</a></span><ul class=\"toc-item\"><li><span><a href=\"#Definition-of-Foreign-Key\" data-toc-modified-id=\"Definition-of-Foreign-Key-5.1\"><span class=\"toc-item-num\">5.1&nbsp;&nbsp;</span>Definition of Foreign Key</a></span></li><li><span><a href=\"#Example-of-Simple-Foreign-Key\" data-toc-modified-id=\"Example-of-Simple-Foreign-Key-5.2\"><span class=\"toc-item-num\">5.2&nbsp;&nbsp;</span>Example of Simple Foreign Key</a></span></li><li><span><a href=\"#Resolving-a-Foreign-Key\" data-toc-modified-id=\"Resolving-a-Foreign-Key-5.3\"><span class=\"toc-item-num\">5.3&nbsp;&nbsp;</span>Resolving a Foreign Key</a></span></li><li><span><a href=\"#Foreign-Keys-and-Relations\" data-toc-modified-id=\"Foreign-Keys-and-Relations-5.4\"><span class=\"toc-item-num\">5.4&nbsp;&nbsp;</span>Foreign Keys and Relations</a></span></li></ul></li><li><span><a href=\"#Working-with-Tables-and-Keyed-Tables\" data-toc-modified-id=\"Working-with-Tables-and-Keyed-Tables-6\"><span class=\"toc-item-num\">6&nbsp;&nbsp;</span>Working with Tables and Keyed Tables</a></span><ul class=\"toc-item\"><li><span><a href=\"#Appending-Records\" data-toc-modified-id=\"Appending-Records-6.1\"><span class=\"toc-item-num\">6.1&nbsp;&nbsp;</span>Appending Records</a></span></li><li><span><a href=\"#First-and-Last-Records\" data-toc-modified-id=\"First-and-Last-Records-6.2\"><span class=\"toc-item-num\">6.2&nbsp;&nbsp;</span>First and Last Records</a></span></li><li><span><a href=\"#Find-?\" data-toc-modified-id=\"Find-?-6.3\"><span class=\"toc-item-num\">6.3&nbsp;&nbsp;</span>Find <code>?</code></a></span></li><li><span><a href=\"#Union-with-,\" data-toc-modified-id=\"Union-with-,-6.4\"><span class=\"toc-item-num\">6.4&nbsp;&nbsp;</span>Union with <code>,</code></a></span></li><li><span><a href=\"#Coalesce-^\" data-toc-modified-id=\"Coalesce-^-6.5\"><span class=\"toc-item-num\">6.5&nbsp;&nbsp;</span>Coalesce <code>^</code></a></span></li><li><span><a href=\"#Column-Join\" data-toc-modified-id=\"Column-Join-6.6\"><span class=\"toc-item-num\">6.6&nbsp;&nbsp;</span>Column Join</a></span></li></ul></li><li><span><a href=\"#Complex-Column-Data\" data-toc-modified-id=\"Complex-Column-Data-7\"><span class=\"toc-item-num\">7&nbsp;&nbsp;</span>Complex Column Data</a></span><ul class=\"toc-item\"><li><span><a href=\"#Simple-Example\" data-toc-modified-id=\"Simple-Example-7.1\"><span class=\"toc-item-num\">7.1&nbsp;&nbsp;</span>Simple Example</a></span></li><li><span><a href=\"#Operations-on-Compound-Column-Data\" data-toc-modified-id=\"Operations-on-Compound-Column-Data-7.2\"><span class=\"toc-item-num\">7.2&nbsp;&nbsp;</span>Operations on Compound Column Data</a></span></li><li><span><a href=\"#Compound-Foreign-Key\" data-toc-modified-id=\"Compound-Foreign-Key-7.3\"><span class=\"toc-item-num\">7.3&nbsp;&nbsp;</span>Compound Foreign Key</a></span></li></ul></li><li><span><a href=\"#Attributes\" data-toc-modified-id=\"Attributes-8\"><span class=\"toc-item-num\">8&nbsp;&nbsp;</span>Attributes</a></span><ul class=\"toc-item\"><li><span><a href=\"#Sorted-`s#\" data-toc-modified-id=\"Sorted-`s#-8.1\"><span class=\"toc-item-num\">8.1&nbsp;&nbsp;</span>Sorted `<code>s#</code></a></span></li><li><span><a href=\"#Unique-`u#\" data-toc-modified-id=\"Unique-`u#-8.2\"><span class=\"toc-item-num\">8.2&nbsp;&nbsp;</span>Unique `<code>u#</code></a></span></li><li><span><a href=\"#Parted-`p#\" data-toc-modified-id=\"Parted-`p#-8.3\"><span class=\"toc-item-num\">8.3&nbsp;&nbsp;</span>Parted `<code>p#</code></a></span></li><li><span><a href=\"#Grouped-`g#\" data-toc-modified-id=\"Grouped-`g#-8.4\"><span class=\"toc-item-num\">8.4&nbsp;&nbsp;</span>Grouped `<code>g#</code></a></span></li><li><span><a href=\"#Remove-Attribute-`#\" data-toc-modified-id=\"Remove-Attribute-`#-8.5\"><span class=\"toc-item-num\">8.5&nbsp;&nbsp;</span>Remove Attribute `<code>#</code></a></span></li></ul></li></ul></div>"
   ]
  },
  {
   "cell_type": "markdown",
   "metadata": {},
   "source": [
    "## Overview\n",
    "\n",
    "**Tables are first-class entities in q**, meaning they are data structures that live in memory just like lists or dictionaries. **A q table is essentially a collection of named columns implemented as a dictionary**. Consequently, q tables are column-oriented, in contrast to the row-oriented tables in relational databases. Moreover, since lists are ordered, so are columns, in contrast to SQL where the order of rows is undefined. The fact that q tables comprise ordered column lists makes kdb+ very efficient at storing, retrieving and manipulating sequential data. "
   ]
  },
  {
   "cell_type": "markdown",
   "metadata": {},
   "source": [
    "## Table Definition\n",
    "### Review of Table as Column Dictionary"
   ]
  },
  {
   "cell_type": "code",
   "execution_count": 1,
   "metadata": {
    "ExecuteTime": {
     "end_time": "2021-02-09T14:00:23.805416000Z",
     "start_time": "2021-02-09T14:00:23.799Z"
    }
   },
   "outputs": [
    {
     "data": {
      "text/plain": [
       "98 42 126\n"
      ]
     },
     "execution_count": 1,
     "metadata": {},
     "output_type": "execute_result"
    },
    {
     "data": {
      "text/plain": [
       "name| `Prefect\n",
       "iq  | 126\n"
      ]
     },
     "execution_count": 1,
     "metadata": {},
     "output_type": "execute_result"
    },
    {
     "data": {
      "text/plain": [
       "126\n"
      ]
     },
     "execution_count": 1,
     "metadata": {},
     "output_type": "execute_result"
    }
   ],
   "source": [
    "dc:`name`iq!(`Dent`Beeblebrox`Prefect;98 42 126)\n",
    "dc[`iq;]\n",
    "dc[;2]\n",
    "dc[`iq;2]"
   ]
  },
  {
   "cell_type": "code",
   "execution_count": 2,
   "metadata": {
    "ExecuteTime": {
     "end_time": "2021-02-09T14:00:28.787594000Z",
     "start_time": "2021-02-09T14:00:28.780Z"
    }
   },
   "outputs": [
    {
     "data": {
      "text/plain": [
       "name       iq \n",
       "--------------\n",
       "Dent       98 \n",
       "Beeblebrox 42 \n",
       "Prefect    126\n"
      ]
     },
     "execution_count": 2,
     "metadata": {},
     "output_type": "execute_result"
    }
   ],
   "source": [
    "/ transpose to get a table\n",
    "t:flip dc\n",
    "t"
   ]
  },
  {
   "cell_type": "markdown",
   "metadata": {},
   "source": [
    "All tables have type `98h`."
   ]
  },
  {
   "cell_type": "code",
   "execution_count": 3,
   "metadata": {
    "ExecuteTime": {
     "end_time": "2021-02-09T14:00:30.321542000Z",
     "start_time": "2021-02-09T14:00:30.314Z"
    }
   },
   "outputs": [
    {
     "data": {
      "text/plain": [
       "98h\n"
      ]
     },
     "execution_count": 3,
     "metadata": {},
     "output_type": "execute_result"
    }
   ],
   "source": [
    "type t"
   ]
  },
  {
   "cell_type": "markdown",
   "metadata": {},
   "source": [
    "The proper way to extract a table column is by eliding the row index. For table columns (only), you can omit the leading semi-colon in the syntax."
   ]
  },
  {
   "cell_type": "code",
   "execution_count": 3,
   "metadata": {
    "ExecuteTime": {
     "end_time": "2020-11-22T12:44:37.531006000Z",
     "start_time": "2020-11-22T12:44:37.525Z"
    }
   },
   "outputs": [
    {
     "data": {
      "text/plain": [
       "98 42 126\n"
      ]
     },
     "execution_count": 3,
     "metadata": {},
     "output_type": "execute_result"
    },
    {
     "data": {
      "text/plain": [
       "98 42 126\n"
      ]
     },
     "execution_count": 3,
     "metadata": {},
     "output_type": "execute_result"
    },
    {
     "data": {
      "text/plain": [
       "Dent Beeblebrox Prefect\n",
       "98   42         126    \n"
      ]
     },
     "execution_count": 3,
     "metadata": {},
     "output_type": "execute_result"
    }
   ],
   "source": [
    "t[;`iq]\n",
    "t[`iq]\n",
    "t[`name`iq]"
   ]
  },
  {
   "cell_type": "markdown",
   "metadata": {},
   "source": [
    "Since it is possible to retrieve values from a dictionary using dot notation, this is also true for tables.\n",
    "\n",
    "**Unfortunately dot notation doesn’t work inside functions so we recommend not using it at all.**"
   ]
  },
  {
   "cell_type": "code",
   "execution_count": 4,
   "metadata": {
    "ExecuteTime": {
     "end_time": "2020-11-22T12:44:49.077836000Z",
     "start_time": "2020-11-22T12:44:49.074Z"
    }
   },
   "outputs": [
    {
     "data": {
      "text/plain": [
       "`Dent`Beeblebrox`Prefect\n"
      ]
     },
     "execution_count": 4,
     "metadata": {},
     "output_type": "execute_result"
    }
   ],
   "source": [
    "t.name"
   ]
  },
  {
   "cell_type": "markdown",
   "metadata": {},
   "source": [
    "### Table Display\n",
    "\n",
    "Observe that the row and column display of a table is indeed the transpose of the dictionary display. This reflects the transposed indices, even though the internal data layout is the same."
   ]
  },
  {
   "cell_type": "code",
   "execution_count": 5,
   "metadata": {
    "ExecuteTime": {
     "end_time": "2020-11-22T14:55:36.396061000Z",
     "start_time": "2020-11-22T14:55:36.389Z"
    }
   },
   "outputs": [
    {
     "data": {
      "text/plain": [
       "name| Dent Beeblebrox Prefect\n",
       "iq  | 98   42         126    \n"
      ]
     },
     "execution_count": 5,
     "metadata": {},
     "output_type": "execute_result"
    }
   ],
   "source": [
    "dc"
   ]
  },
  {
   "cell_type": "code",
   "execution_count": 6,
   "metadata": {
    "ExecuteTime": {
     "end_time": "2020-11-22T14:55:38.329200000Z",
     "start_time": "2020-11-22T14:55:38.321Z"
    }
   },
   "outputs": [
    {
     "data": {
      "text/plain": [
       "name       iq \n",
       "--------------\n",
       "Dent       98 \n",
       "Beeblebrox 42 \n",
       "Prefect    126\n"
      ]
     },
     "execution_count": 6,
     "metadata": {},
     "output_type": "execute_result"
    }
   ],
   "source": [
    "t"
   ]
  },
  {
   "cell_type": "markdown",
   "metadata": {},
   "source": [
    "### Table-Definition Syntax\n",
    "\n",
    "$([]\\ * {\\mathrm{C}_{1}} *: * \\mathrm{L}_{1} * ; \\ldots ; * {\\mathrm{C}_{\\mathrm{n}}} *:* \\mathrm{L}_{\\mathrm{n}} * )$\n",
    "\n",
    "Here $c_i$ is a symbol representing a column name and $L_i$ is the corresponding list of column values. The $L_i$ are lists of equal count, but can be atoms as long as at least one is a list. \n",
    "\n",
    "The colons in table-definition syntax **are** not assignment. They are part of the syntactic sugar and serve as markers separating column names from column values.\n",
    "\n",
    "**Do not omit the square brackets in table-definition syntax**\n",
    "\n",
    "The interpreter will not complain and you will end up with a list, rather than a table, and the colons will be assignment."
   ]
  },
  {
   "cell_type": "code",
   "execution_count": 7,
   "metadata": {
    "ExecuteTime": {
     "end_time": "2020-11-22T14:59:58.477039000Z",
     "start_time": "2020-11-22T14:59:58.471Z"
    }
   },
   "outputs": [
    {
     "data": {
      "text/plain": [
       "1b\n"
      ]
     },
     "execution_count": 7,
     "metadata": {},
     "output_type": "execute_result"
    }
   ],
   "source": [
    "t:([] name:`Dent`Beeblebrox`Prefect; iq:98 42 126)\n",
    "t~flip `name`iq!(`Dent`Beeblebrox`Prefect;98 42 126)"
   ]
  },
  {
   "cell_type": "markdown",
   "metadata": {},
   "source": [
    "The value lists in table-definition syntax can originate from variables, which is useful for **programmatic table definition**. In this case the column names are the variable names. It will also try to make duplicate column names unique by appending a numeric suffix."
   ]
  },
  {
   "cell_type": "code",
   "execution_count": 8,
   "metadata": {
    "ExecuteTime": {
     "end_time": "2020-11-22T15:00:45.956597000Z",
     "start_time": "2020-11-22T15:00:45.949Z"
    }
   },
   "outputs": [
    {
     "data": {
      "text/plain": [
       "c1         c2 \n",
       "--------------\n",
       "Dent       98 \n",
       "Beeblebrox 42 \n",
       "Prefect    126\n"
      ]
     },
     "execution_count": 8,
     "metadata": {},
     "output_type": "execute_result"
    }
   ],
   "source": [
    "c1:`Dent`Beeblebrox`Prefect\n",
    "c2:98 42 126\n",
    "([] c1; c2)"
   ]
  },
  {
   "cell_type": "markdown",
   "metadata": {},
   "source": [
    "Any valid q expression can appear to the right of the semi-colon in table-definition syntax; it is evaluated as part of the table construction. **You must ensure that the resulting column lists all have the same length**."
   ]
  },
  {
   "cell_type": "code",
   "execution_count": 9,
   "metadata": {
    "ExecuteTime": {
     "end_time": "2020-11-22T15:01:26.973776000Z",
     "start_time": "2020-11-22T15:01:26.966Z"
    }
   },
   "outputs": [
    {
     "data": {
      "text/plain": [
       "c1 c2\n",
       "-----\n",
       "1  42\n",
       "2  42\n",
       "3  42\n",
       "4  42\n",
       "5  42\n"
      ]
     },
     "execution_count": 9,
     "metadata": {},
     "output_type": "execute_result"
    }
   ],
   "source": [
    "([] c1:1+til 5; c2:5#42)"
   ]
  },
  {
   "cell_type": "markdown",
   "metadata": {},
   "source": [
    "Provided you specify at least one column as a list, atoms will be extended to match."
   ]
  },
  {
   "cell_type": "code",
   "execution_count": 10,
   "metadata": {
    "ExecuteTime": {
     "end_time": "2020-11-22T15:01:43.208577000Z",
     "start_time": "2020-11-22T15:01:43.200Z"
    }
   },
   "outputs": [
    {
     "data": {
      "text/plain": [
       "c1 c2 c3  \n",
       "----------\n",
       "a  42 98.6\n",
       "b  42 98.6\n",
       "c  42 98.6\n"
      ]
     },
     "execution_count": 10,
     "metadata": {},
     "output_type": "execute_result"
    }
   ],
   "source": [
    "([] c1:`a`b`c; c2:42; c3:98.6)"
   ]
  },
  {
   "cell_type": "markdown",
   "metadata": {},
   "source": [
    "**You cannot define a single-row table using all atoms. You must enlist at least one of the atoms.**"
   ]
  },
  {
   "cell_type": "code",
   "execution_count": 10,
   "metadata": {
    "ExecuteTime": {
     "end_time": "2020-11-22T15:02:26.374626000Z",
     "start_time": "2020-11-22T15:02:26.371Z"
    }
   },
   "outputs": [
    {
     "data": {
      "text/plain": [
       "x c2 \n",
       "-----\n",
       "a 100\n"
      ]
     },
     "execution_count": 11,
     "metadata": {},
     "output_type": "execute_result"
    },
    {
     "ename": "\u001b[0;31mrank\u001b[0m",
     "evalue": "\u001b[0;31mrank\u001b[0m",
     "output_type": "error",
     "traceback": [
      "\u001b[0;31mevaluation error:\n\u001b[0m",
      "\u001b[0;31mrank\u001b[0m",
      "\u001b[0;31m\u001b[0m",
      "\u001b[0;31m  [0]  ([] c1:`a; c2:100)\n           ^\n\u001b[0m"
     ]
    }
   ],
   "source": [
    "([] enlist `a; c2:100)\n",
    "([] c1:`a; c2:100)"
   ]
  },
  {
   "cell_type": "markdown",
   "metadata": {},
   "source": [
    "If you create a table as the flip of a column dictionary, **item-wise extension is performed when the column dictionary is flipped into a table**."
   ]
  },
  {
   "cell_type": "code",
   "execution_count": 11,
   "metadata": {
    "ExecuteTime": {
     "end_time": "2020-11-22T15:03:07.047507000Z",
     "start_time": "2020-11-22T15:03:07.038Z"
    }
   },
   "outputs": [
    {
     "data": {
      "text/plain": [
       "c1| `a`b`c\n",
       "c2| 42\n",
       "c3| 1.1\n"
      ]
     },
     "execution_count": 11,
     "metadata": {},
     "output_type": "execute_result"
    },
    {
     "data": {
      "text/plain": [
       "c1 c2 c3 \n",
       "---------\n",
       "a  42 1.1\n",
       "b  42 1.1\n",
       "c  42 1.1\n"
      ]
     },
     "execution_count": 11,
     "metadata": {},
     "output_type": "execute_result"
    }
   ],
   "source": [
    "`c1`c2`c3!(`a`b`c;42;1.1)\n",
    "flip `c1`c2`c3!(`a`b`c;42;1.1)"
   ]
  },
  {
   "cell_type": "markdown",
   "metadata": {},
   "source": [
    "### Table Metadata"
   ]
  },
  {
   "cell_type": "code",
   "execution_count": 12,
   "metadata": {
    "ExecuteTime": {
     "end_time": "2020-11-22T15:03:23.130408000Z",
     "start_time": "2020-11-22T15:03:23.119Z"
    }
   },
   "outputs": [
    {
     "data": {
      "text/plain": [
       "`name`iq\n"
      ]
     },
     "execution_count": 12,
     "metadata": {},
     "output_type": "execute_result"
    }
   ],
   "source": [
    "cols t"
   ]
  },
  {
   "cell_type": "markdown",
   "metadata": {},
   "source": [
    "The function `meta` applied to a table retrieves its metadata. The result is a keyed table with one record for each column in the original table.\n",
    "\n",
    "- The key column `c` of the result contains the column names.\n",
    "- The column `t` contains a symbol denoting the type char of the column.\n",
    "- The column `f` contains the domains of any foreign key or link columns.\n",
    "- The column `a` contains any attributes associated with the column."
   ]
  },
  {
   "cell_type": "code",
   "execution_count": 13,
   "metadata": {
    "ExecuteTime": {
     "end_time": "2020-11-22T15:03:43.933944000Z",
     "start_time": "2020-11-22T15:03:43.926Z"
    }
   },
   "outputs": [
    {
     "data": {
      "text/plain": [
       "c   | t f a\n",
       "----| -----\n",
       "name| s    \n",
       "iq  | j    \n"
      ]
     },
     "execution_count": 13,
     "metadata": {},
     "output_type": "execute_result"
    }
   ],
   "source": [
    "meta t"
   ]
  },
  {
   "cell_type": "markdown",
   "metadata": {},
   "source": [
    "When `meta` displays an **upper-case type char** for a column, this indicates that column is a **compound list in which all fields are simple lists of the indicated type**. Such tables arise, for example, when you group without aggregating in a query."
   ]
  },
  {
   "cell_type": "code",
   "execution_count": 14,
   "metadata": {
    "ExecuteTime": {
     "end_time": "2020-11-22T15:07:14.135261000Z",
     "start_time": "2020-11-22T15:07:14.119Z"
    }
   },
   "outputs": [
    {
     "data": {
      "text/plain": [
       "c | t f a\n",
       "--| -----\n",
       "c1| j    \n",
       "c2| J    \n"
      ]
     },
     "execution_count": 14,
     "metadata": {},
     "output_type": "execute_result"
    }
   ],
   "source": [
    "meta ([] c1:1 2 3; c2:(1 2; enlist 3; 4 5 6))"
   ]
  },
  {
   "cell_type": "markdown",
   "metadata": {},
   "source": [
    "The function `tables` takes a symbolic namespace and returns a sorted symbol list of the names of tables in that context. For example, we list all tables in the root context for a fresh q session."
   ]
  },
  {
   "cell_type": "code",
   "execution_count": 15,
   "metadata": {
    "ExecuteTime": {
     "end_time": "2020-11-22T15:08:38.674099000Z",
     "start_time": "2020-11-22T15:08:38.671Z"
    }
   },
   "outputs": [
    {
     "data": {
      "text/plain": [
       "`s#`t`t2\n"
      ]
     },
     "execution_count": 15,
     "metadata": {},
     "output_type": "execute_result"
    }
   ],
   "source": [
    "t2:([] c1:1 2 3; c2:(1 2; enlist 3; 4 5 6))\n",
    "t:([] name:`Dent`Beeblebrox`Prefect; iq:98 42 126)\n",
    "tables `."
   ]
  },
  {
   "cell_type": "markdown",
   "metadata": {},
   "source": [
    "Alternatively, the command `\\a` provides the same result. If no argument is provided, it returns the result for the current context."
   ]
  },
  {
   "cell_type": "code",
   "execution_count": 16,
   "metadata": {
    "ExecuteTime": {
     "end_time": "2020-11-22T15:09:07.769436000Z",
     "start_time": "2020-11-22T15:09:07.766Z"
    }
   },
   "outputs": [
    {
     "data": {
      "text/plain": [
       "`s#`t`t2\n"
      ]
     },
     "execution_count": 16,
     "metadata": {},
     "output_type": "execute_result"
    }
   ],
   "source": [
    "\\a"
   ]
  },
  {
   "cell_type": "markdown",
   "metadata": {},
   "source": [
    "### Records"
   ]
  },
  {
   "cell_type": "code",
   "execution_count": 17,
   "metadata": {
    "ExecuteTime": {
     "end_time": "2020-11-22T15:09:31.690965000Z",
     "start_time": "2020-11-22T15:09:31.688Z"
    }
   },
   "outputs": [
    {
     "data": {
      "text/plain": [
       "3\n"
      ]
     },
     "execution_count": 17,
     "metadata": {},
     "output_type": "execute_result"
    }
   ],
   "source": [
    "count t"
   ]
  },
  {
   "cell_type": "code",
   "execution_count": 18,
   "metadata": {
    "ExecuteTime": {
     "end_time": "2020-11-22T15:09:36.069450000Z",
     "start_time": "2020-11-22T15:09:36.062Z"
    }
   },
   "outputs": [
    {
     "data": {
      "text/plain": [
       "name       iq \n",
       "--------------\n",
       "Dent       98 \n",
       "Beeblebrox 42 \n",
       "Prefect    126\n"
      ]
     },
     "execution_count": 18,
     "metadata": {},
     "output_type": "execute_result"
    }
   ],
   "source": [
    "t"
   ]
  },
  {
   "cell_type": "code",
   "execution_count": 21,
   "metadata": {
    "ExecuteTime": {
     "end_time": "2020-11-22T15:10:15.902989000Z",
     "start_time": "2020-11-22T15:10:15.894Z"
    }
   },
   "outputs": [
    {
     "data": {
      "text/plain": [
       "name| `Dent\n",
       "iq  | 98\n"
      ]
     },
     "execution_count": 21,
     "metadata": {},
     "output_type": "execute_result"
    },
    {
     "data": {
      "text/plain": [
       "name| `Beeblebrox\n",
       "iq  | 42\n"
      ]
     },
     "execution_count": 21,
     "metadata": {},
     "output_type": "execute_result"
    }
   ],
   "source": [
    "t[0]\n",
    "t[1]"
   ]
  },
  {
   "cell_type": "code",
   "execution_count": 20,
   "metadata": {
    "ExecuteTime": {
     "end_time": "2020-11-22T15:10:13.555192000Z",
     "start_time": "2020-11-22T15:10:13.548Z"
    }
   },
   "outputs": [
    {
     "data": {
      "text/plain": [
       "`Beeblebrox\n",
       "42\n"
      ]
     },
     "execution_count": 20,
     "metadata": {},
     "output_type": "execute_result"
    }
   ],
   "source": [
    "value t[1]"
   ]
  },
  {
   "cell_type": "markdown",
   "metadata": {},
   "source": [
    "### Flipped Column Dictionary vs. List of Records"
   ]
  },
  {
   "cell_type": "code",
   "execution_count": 22,
   "metadata": {
    "ExecuteTime": {
     "end_time": "2020-11-22T15:11:09.586703000Z",
     "start_time": "2020-11-22T15:11:09.577Z"
    }
   },
   "outputs": [
    {
     "data": {
      "text/plain": [
       "0h\n"
      ]
     },
     "execution_count": 22,
     "metadata": {},
     "output_type": "execute_result"
    },
    {
     "data": {
      "text/plain": [
       "98h\n"
      ]
     },
     "execution_count": 22,
     "metadata": {},
     "output_type": "execute_result"
    }
   ],
   "source": [
    "type (`name`iq!(`Dent;98); `nome`iq!(`Beeblebrox;42))\n",
    "type (`name`iq!(`Dent;98); `name`iq!(`Beeblebrox;42)) /q has indeed converted the list to a table."
   ]
  },
  {
   "cell_type": "markdown",
   "metadata": {},
   "source": [
    "**A useful special case of this phenomenon**"
   ]
  },
  {
   "cell_type": "code",
   "execution_count": 23,
   "metadata": {
    "ExecuteTime": {
     "end_time": "2020-11-22T15:12:26.437555000Z",
     "start_time": "2020-11-22T15:12:26.434Z"
    }
   },
   "outputs": [
    {
     "data": {
      "text/plain": [
       "a  b \n",
       "-----\n",
       "10 20\n"
      ]
     },
     "execution_count": 23,
     "metadata": {},
     "output_type": "execute_result"
    }
   ],
   "source": [
    "enlist `a`b!10 20 / a table: a singleton list of records that conform"
   ]
  },
  {
   "cell_type": "markdown",
   "metadata": {},
   "source": [
    "## Empty Tables and Schema\n",
    "\n",
    "**Fully listing columns with literals is usually done only with smaller tables** – e.g., lookup tables. Large tables are usually created programmatically from **computed data or data read from files or received over the wire.**\n",
    "\n",
    "In these circumstances, it is useful to **create an empty table initially and then populate it later by appending in place**. You could do this with general empty lists."
   ]
  },
  {
   "cell_type": "code",
   "execution_count": 25,
   "metadata": {
    "ExecuteTime": {
     "end_time": "2020-11-22T15:16:42.712402000Z",
     "start_time": "2020-11-22T15:16:42.704Z"
    }
   },
   "outputs": [
    {
     "data": {
      "text/plain": [
       "name iq\n",
       "-------\n"
      ]
     },
     "execution_count": 25,
     "metadata": {},
     "output_type": "execute_result"
    }
   ],
   "source": [
    "([] name:(); iq:())"
   ]
  },
  {
   "cell_type": "markdown",
   "metadata": {},
   "source": [
    "**It is good practice to specify the types of all columns in an empty table.**"
   ]
  },
  {
   "cell_type": "code",
   "execution_count": 26,
   "metadata": {
    "ExecuteTime": {
     "end_time": "2020-11-22T15:22:58.145761000Z",
     "start_time": "2020-11-22T15:22:58.139Z"
    }
   },
   "outputs": [
    {
     "data": {
      "text/plain": [
       "name iq\n",
       "-------\n"
      ]
     },
     "execution_count": 26,
     "metadata": {},
     "output_type": "execute_result"
    }
   ],
   "source": [
    "([] name:`symbol$(); iq:`int$())"
   ]
  },
  {
   "cell_type": "code",
   "execution_count": 27,
   "metadata": {
    "ExecuteTime": {
     "end_time": "2020-11-22T15:23:29.230349000Z",
     "start_time": "2020-11-22T15:23:29.226Z"
    }
   },
   "outputs": [
    {
     "data": {
      "text/plain": [
       "name iq\n",
       "-------\n"
      ]
     },
     "execution_count": 27,
     "metadata": {},
     "output_type": "execute_result"
    },
    {
     "data": {
      "text/plain": [
       "1b\n"
      ]
     },
     "execution_count": 27,
     "metadata": {},
     "output_type": "execute_result"
    }
   ],
   "source": [
    "([] name:0#`; iq:0#0) / A shorter, and arguably less obvious technique is the following.\n",
    "([] name:0#`; iq:0#0) ~ ([] name:`symbol$(); iq:`long$())"
   ]
  },
  {
   "cell_type": "markdown",
   "metadata": {},
   "source": [
    "## Basic select and update"
   ]
  },
  {
   "cell_type": "code",
   "execution_count": 28,
   "metadata": {
    "ExecuteTime": {
     "end_time": "2020-11-22T15:23:47.809316000Z",
     "start_time": "2020-11-22T15:23:47.803Z"
    }
   },
   "outputs": [],
   "source": [
    "t:([] name:`Dent`Beeblebrox`Prefect; iq:98 42 126)"
   ]
  },
  {
   "cell_type": "markdown",
   "metadata": {},
   "source": [
    "### Syntax of `select`"
   ]
  },
  {
   "cell_type": "markdown",
   "metadata": {},
   "source": [
    "`select cols from table`\n",
    "\n",
    "In q you do not write the wildcards when you want all columns in the table; simply omit the columns and you get them all."
   ]
  },
  {
   "cell_type": "markdown",
   "metadata": {},
   "source": [
    "### Displaying the Result\n",
    "\n",
    "The result of `select` is always a **table**. You may think of it as a list of (conforming) records but it is actually constructed as a column dictionary."
   ]
  },
  {
   "cell_type": "code",
   "execution_count": 29,
   "metadata": {
    "ExecuteTime": {
     "end_time": "2020-11-22T15:26:01.286949000Z",
     "start_time": "2020-11-22T15:26:01.283Z"
    }
   },
   "outputs": [
    {
     "data": {
      "text/plain": [
       "name       iq \n",
       "--------------\n",
       "Dent       98 \n",
       "Beeblebrox 42 \n",
       "Prefect    126\n"
      ]
     },
     "execution_count": 29,
     "metadata": {},
     "output_type": "execute_result"
    }
   ],
   "source": [
    "select from t"
   ]
  },
  {
   "cell_type": "markdown",
   "metadata": {},
   "source": [
    "### Selecting Columns"
   ]
  },
  {
   "cell_type": "code",
   "execution_count": 30,
   "metadata": {
    "ExecuteTime": {
     "end_time": "2020-11-22T15:26:20.757296000Z",
     "start_time": "2020-11-22T15:26:20.749Z"
    }
   },
   "outputs": [
    {
     "data": {
      "text/plain": [
       "name      \n",
       "----------\n",
       "Dent      \n",
       "Beeblebrox\n",
       "Prefect   \n"
      ]
     },
     "execution_count": 30,
     "metadata": {},
     "output_type": "execute_result"
    },
    {
     "data": {
      "text/plain": [
       "c1         c2 \n",
       "--------------\n",
       "Dent       98 \n",
       "Beeblebrox 42 \n",
       "Prefect    126\n"
      ]
     },
     "execution_count": 30,
     "metadata": {},
     "output_type": "execute_result"
    }
   ],
   "source": [
    "select name from t\n",
    "select c1:name, c2:iq from t"
   ]
  },
  {
   "cell_type": "markdown",
   "metadata": {},
   "source": [
    "### Basic update\n",
    "\n",
    "The syntax of `update` is the same as `select`, but named columns represent replacement by the values to the right of the colon."
   ]
  },
  {
   "cell_type": "code",
   "execution_count": 31,
   "metadata": {
    "ExecuteTime": {
     "end_time": "2020-11-22T15:31:29.344734000Z",
     "start_time": "2020-11-22T15:31:29.337Z"
    }
   },
   "outputs": [
    {
     "data": {
      "text/plain": [
       "name       iq  \n",
       "---------------\n",
       "Dent       0.98\n",
       "Beeblebrox 0.42\n",
       "Prefect    1.26\n"
      ]
     },
     "execution_count": 31,
     "metadata": {},
     "output_type": "execute_result"
    }
   ],
   "source": [
    "update iq:iq%100 from t"
   ]
  },
  {
   "cell_type": "markdown",
   "metadata": {},
   "source": [
    "## Primary Keys and Keyed Tables"
   ]
  },
  {
   "cell_type": "markdown",
   "metadata": {},
   "source": [
    "### Keyed Table\n",
    "\n",
    "A _keyed table_ is a dictionary mapping a table of key records to a table of value records. This represents a mapping from each row in a table of (presumably unique) keys to a corresponding row in a table of values – i.e., a positional correspondence of key rows to value rows. Using dictionary lookup on a key (record) retrieves the corresponding value record in the remaining columns. This is just what a primary key should do. Note that the key mapping assumes that the key records and value records are in corresponding order.\n",
    "\n",
    "**A keyed table is not a table – it is a dictionary and so has type 99h.**\n",
    "\n",
    "Keys should be unique but (sadly) this is not enforced. As we have already noted, dictionary creation does not enforce key uniqueness. A value row associated with a duplicate key is not accessible via key lookup, but it can be retrieved via a select on the key column."
   ]
  },
  {
   "cell_type": "markdown",
   "metadata": {},
   "source": [
    "### Simple Example"
   ]
  },
  {
   "cell_type": "code",
   "execution_count": 33,
   "metadata": {
    "ExecuteTime": {
     "end_time": "2020-11-22T15:36:07.463624000Z",
     "start_time": "2020-11-22T15:36:07.455Z"
    }
   },
   "outputs": [
    {
     "data": {
      "text/plain": [
       "eid | name       iq \n",
       "----| --------------\n",
       "1001| Dent       98 \n",
       "1002| Beeblebrox 42 \n",
       "1003| Prefect    126\n"
      ]
     },
     "execution_count": 33,
     "metadata": {},
     "output_type": "execute_result"
    }
   ],
   "source": [
    "v:flip `name`iq!(`Dent`Beeblebrox`Prefect;98 42 126)\n",
    "k:flip (enlist `eid)!enlist 1001 1002 1003\n",
    "kt:k!v\n",
    "kt"
   ]
  },
  {
   "cell_type": "markdown",
   "metadata": {},
   "source": [
    "### Keyed-Table Definition Syntax"
   ]
  },
  {
   "cell_type": "code",
   "execution_count": 35,
   "metadata": {
    "ExecuteTime": {
     "end_time": "2020-11-22T15:38:06.087806000Z",
     "start_time": "2020-11-22T15:38:06.079Z"
    }
   },
   "outputs": [
    {
     "data": {
      "text/plain": [
       "eid | name       iq \n",
       "----| --------------\n",
       "1001| Dent       98 \n",
       "1002| Beeblebrox 42 \n",
       "1003| Prefect    126\n"
      ]
     },
     "execution_count": 35,
     "metadata": {},
     "output_type": "execute_result"
    }
   ],
   "source": [
    "kt:(flip (enlist `eid)!enlist 1001 1002 1003)!\n",
    "    flip `name`iq!(`Dent`Beeblebrox`Prefect;98 42 126)\n",
    "kt"
   ]
  },
  {
   "cell_type": "markdown",
   "metadata": {},
   "source": [
    "Placing key column(s) inside the square brackets is consistent with the notation for a (regular) table since a regular table has no keys."
   ]
  },
  {
   "cell_type": "code",
   "execution_count": 41,
   "metadata": {
    "ExecuteTime": {
     "end_time": "2020-11-22T15:40:31.997441000Z",
     "start_time": "2020-11-22T15:40:31.991Z"
    }
   },
   "outputs": [],
   "source": [
    "kt:([eid: 1001 1002 1003]\n",
    "      name:`Dent`Beeblebrox`Prefect; iq:98 42 126)"
   ]
  },
  {
   "cell_type": "code",
   "execution_count": 39,
   "metadata": {
    "ExecuteTime": {
     "end_time": "2020-11-22T15:39:22.336355000Z",
     "start_time": "2020-11-22T15:39:22.337Z"
    }
   },
   "outputs": [],
   "source": [
    "ktempty:([eid:()] name:(); iq:())"
   ]
  },
  {
   "cell_type": "code",
   "execution_count": 40,
   "metadata": {
    "ExecuteTime": {
     "end_time": "2020-11-22T15:39:22.636505000Z",
     "start_time": "2020-11-22T15:39:22.629Z"
    }
   },
   "outputs": [],
   "source": [
    "ktempty:([eid:`int$()] `symbol$name:(); iq:`int$())\n",
    "ktempty:([eid:0#0] name:0#`; iq:0#0)"
   ]
  },
  {
   "cell_type": "markdown",
   "metadata": {},
   "source": [
    "### Accessing Records of a Keyed Table"
   ]
  },
  {
   "cell_type": "code",
   "execution_count": 43,
   "metadata": {
    "ExecuteTime": {
     "end_time": "2020-11-22T15:41:16.876110000Z",
     "start_time": "2020-11-22T15:41:16.867Z"
    }
   },
   "outputs": [
    {
     "data": {
      "text/plain": [
       "name| `Beeblebrox\n",
       "iq  | 42\n"
      ]
     },
     "execution_count": 43,
     "metadata": {},
     "output_type": "execute_result"
    },
    {
     "data": {
      "text/plain": [
       "name| `Beeblebrox\n",
       "iq  | 42\n"
      ]
     },
     "execution_count": 43,
     "metadata": {},
     "output_type": "execute_result"
    }
   ],
   "source": [
    "kt[(enlist `eid)!enlist 1002] /cumbersome\n",
    "kt[1002]"
   ]
  },
  {
   "cell_type": "code",
   "execution_count": 44,
   "metadata": {
    "ExecuteTime": {
     "end_time": "2020-11-22T15:41:24.771333000Z",
     "start_time": "2020-11-22T15:41:24.764Z"
    }
   },
   "outputs": [
    {
     "data": {
      "text/plain": [
       "42\n"
      ]
     },
     "execution_count": 44,
     "metadata": {},
     "output_type": "execute_result"
    }
   ],
   "source": [
    "kt[1002][`iq]"
   ]
  },
  {
   "cell_type": "code",
   "execution_count": 45,
   "metadata": {
    "ExecuteTime": {
     "end_time": "2020-11-22T15:41:35.135253000Z",
     "start_time": "2020-11-22T15:41:35.132Z"
    }
   },
   "outputs": [
    {
     "data": {
      "text/plain": [
       "42\n"
      ]
     },
     "execution_count": 45,
     "metadata": {},
     "output_type": "execute_result"
    }
   ],
   "source": [
    "kt[1002;`iq] /depth notation"
   ]
  },
  {
   "cell_type": "markdown",
   "metadata": {},
   "source": [
    "### Retrieving Multiple Records"
   ]
  },
  {
   "cell_type": "code",
   "execution_count": 46,
   "metadata": {
    "ExecuteTime": {
     "end_time": "2020-11-22T15:41:58.747387000Z",
     "start_time": "2020-11-22T15:41:58.738Z"
    }
   },
   "outputs": [
    {
     "data": {
      "text/plain": [
       "name| `Dent\n",
       "iq  | 98\n"
      ]
     },
     "execution_count": 46,
     "metadata": {},
     "output_type": "execute_result"
    },
    {
     "data": {
      "text/plain": [
       "name| `Dent\n",
       "iq  | 98\n"
      ]
     },
     "execution_count": 46,
     "metadata": {},
     "output_type": "execute_result"
    }
   ],
   "source": [
    "kt[1001]\n",
    "kt 1001"
   ]
  },
  {
   "cell_type": "markdown",
   "metadata": {},
   "source": [
    "You might think it is possible to retrieve multiple records from a keyed table via a simple list of keys. **You would be wrong.**\n",
    "\n",
    "**This works for a compound key – i.e., a multi-column key – just not for a single column key.**"
   ]
  },
  {
   "cell_type": "code",
   "execution_count": 46,
   "metadata": {
    "ExecuteTime": {
     "end_time": "2020-11-22T15:42:47.683200000Z",
     "start_time": "2020-11-22T15:42:47.675Z"
    }
   },
   "outputs": [
    {
     "ename": "\u001b[0;31mlength\u001b[0m",
     "evalue": "\u001b[0;31mlength\u001b[0m",
     "output_type": "error",
     "traceback": [
      "\u001b[0;31mevaluation error:\n\u001b[0m",
      "\u001b[0;31mlength\u001b[0m",
      "\u001b[0;31m\u001b[0m",
      "\u001b[0;31m  [0]  kt[1001 1002]\n       ^\n\u001b[0m"
     ]
    }
   ],
   "source": [
    "kt[1001 1002]"
   ]
  },
  {
   "cell_type": "code",
   "execution_count": 47,
   "metadata": {
    "ExecuteTime": {
     "end_time": "2020-11-22T15:42:57.562696000Z",
     "start_time": "2020-11-22T15:42:57.553Z"
    }
   },
   "outputs": [
    {
     "data": {
      "text/plain": [
       "name       iq\n",
       "-------------\n",
       "Dent       98\n",
       "Beeblebrox 42\n"
      ]
     },
     "execution_count": 47,
     "metadata": {},
     "output_type": "execute_result"
    },
    {
     "data": {
      "text/plain": [
       "name       iq\n",
       "-------------\n",
       "Dent       98\n",
       "Beeblebrox 42\n"
      ]
     },
     "execution_count": 47,
     "metadata": {},
     "output_type": "execute_result"
    }
   ],
   "source": [
    "/cumbersome way\n",
    "kt[(enlist 1001;enlist 1002)]\n",
    "kt[flip enlist 1001 1002]"
   ]
  },
  {
   "cell_type": "code",
   "execution_count": 49,
   "metadata": {
    "ExecuteTime": {
     "end_time": "2020-11-22T15:44:51.456046000Z",
     "start_time": "2020-11-22T15:44:51.451Z"
    }
   },
   "outputs": [
    {
     "data": {
      "text/plain": [
       "name       iq\n",
       "-------------\n",
       "Dent       98\n",
       "Beeblebrox 42\n"
      ]
     },
     "execution_count": 49,
     "metadata": {},
     "output_type": "execute_result"
    },
    {
     "data": {
      "text/plain": [
       "eid | name       iq\n",
       "----| -------------\n",
       "1001| Dent       98\n",
       "1002| Beeblebrox 42\n"
      ]
     },
     "execution_count": 49,
     "metadata": {},
     "output_type": "execute_result"
    }
   ],
   "source": [
    "kt ([] eid:1001 1002) /slick\n",
    "([] eid:1001 1002)#kt"
   ]
  },
  {
   "cell_type": "markdown",
   "metadata": {},
   "source": [
    "### Reverse Lookup"
   ]
  },
  {
   "cell_type": "code",
   "execution_count": 50,
   "metadata": {
    "ExecuteTime": {
     "end_time": "2020-11-22T15:45:33.712916000Z",
     "start_time": "2020-11-22T15:45:33.705Z"
    }
   },
   "outputs": [
    {
     "data": {
      "text/plain": [
       "eid | name      \n",
       "----| ----------\n",
       "1001| Dent      \n",
       "1002| Beeblebrox\n",
       "1003| Prefect   \n"
      ]
     },
     "execution_count": 50,
     "metadata": {},
     "output_type": "execute_result"
    }
   ],
   "source": [
    "kts:([eid:1001 1002 1003] name:`Dent`Beeblebrox`Prefect)\n",
    "kts"
   ]
  },
  {
   "cell_type": "code",
   "execution_count": 51,
   "metadata": {
    "ExecuteTime": {
     "end_time": "2020-11-22T15:45:40.895694000Z",
     "start_time": "2020-11-22T15:45:40.887Z"
    }
   },
   "outputs": [
    {
     "data": {
      "text/plain": [
       "eid \n",
       "----\n",
       "1003\n",
       "1001\n"
      ]
     },
     "execution_count": 51,
     "metadata": {},
     "output_type": "execute_result"
    }
   ],
   "source": [
    "kts?([] name:`Prefect`Dent)"
   ]
  },
  {
   "cell_type": "markdown",
   "metadata": {},
   "source": [
    "### Components of a Keyed Table"
   ]
  },
  {
   "cell_type": "code",
   "execution_count": 52,
   "metadata": {
    "ExecuteTime": {
     "end_time": "2020-11-22T15:46:07.463821000Z",
     "start_time": "2020-11-22T15:46:07.459Z"
    }
   },
   "outputs": [
    {
     "data": {
      "text/plain": [
       "eid \n",
       "----\n",
       "1001\n",
       "1002\n",
       "1003\n"
      ]
     },
     "execution_count": 52,
     "metadata": {},
     "output_type": "execute_result"
    },
    {
     "data": {
      "text/plain": [
       "name       iq \n",
       "--------------\n",
       "Dent       98 \n",
       "Beeblebrox 42 \n",
       "Prefect    126\n"
      ]
     },
     "execution_count": 52,
     "metadata": {},
     "output_type": "execute_result"
    },
    {
     "data": {
      "text/plain": [
       ",`eid\n"
      ]
     },
     "execution_count": 52,
     "metadata": {},
     "output_type": "execute_result"
    },
    {
     "data": {
      "text/plain": [
       "`eid`name`iq\n"
      ]
     },
     "execution_count": 52,
     "metadata": {},
     "output_type": "execute_result"
    }
   ],
   "source": [
    "key kt\n",
    "value kt\n",
    "keys kt /a list of symbolic key column name(s).\n",
    "cols kt / all column names of the keyed table"
   ]
  },
  {
   "cell_type": "markdown",
   "metadata": {},
   "source": [
    "### Tables vs. Keyed Tables\n",
    "\n",
    "Convert dynamically between a regular table having a column of potential key values and the corresponding keyed table using binary primitive `xkey`"
   ]
  },
  {
   "cell_type": "code",
   "execution_count": 53,
   "metadata": {
    "ExecuteTime": {
     "end_time": "2020-11-22T15:47:55.484927000Z",
     "start_time": "2020-11-22T15:47:55.481Z"
    }
   },
   "outputs": [
    {
     "data": {
      "text/plain": [
       "eid | name       iq \n",
       "----| --------------\n",
       "1001| Dent       98 \n",
       "1002| Beeblebrox 42 \n",
       "1003| Prefect    126\n"
      ]
     },
     "execution_count": 53,
     "metadata": {},
     "output_type": "execute_result"
    }
   ],
   "source": [
    "t:([] eid:1001 1002 1003; name:`Dent`Beeblebrox`Prefect; iq:98 42 126)\n",
    "`eid xkey t"
   ]
  },
  {
   "cell_type": "markdown",
   "metadata": {},
   "source": [
    "Convert a keyed table to a regular table, use `xkey` with an empty general list as the left operand."
   ]
  },
  {
   "cell_type": "code",
   "execution_count": 54,
   "metadata": {
    "ExecuteTime": {
     "end_time": "2020-11-22T15:48:15.260557000Z",
     "start_time": "2020-11-22T15:48:15.257Z"
    }
   },
   "outputs": [
    {
     "data": {
      "text/plain": [
       "eid  name       iq \n",
       "-------------------\n",
       "1001 Dent       98 \n",
       "1002 Beeblebrox 42 \n",
       "1003 Prefect    126\n"
      ]
     },
     "execution_count": 54,
     "metadata": {},
     "output_type": "execute_result"
    }
   ],
   "source": [
    "kt:([eid:1001 1002 1003] name:`Dent`Beeblebrox`Prefect; iq:98 42 126)\n",
    "() xkey kt"
   ]
  },
  {
   "cell_type": "markdown",
   "metadata": {},
   "source": [
    "You can also use an overload of `!` to key/unkey tables. The left operand is a non-negative integer that specifies the number of left-most columns to include in the key, where 0 indicates none – i.e., no keys. With t and kt as above,\n",
    "\n",
    "**While these forms are terse, the first makes your code less obvious since the new key column(s) are only implicit.**"
   ]
  },
  {
   "cell_type": "code",
   "execution_count": 55,
   "metadata": {
    "ExecuteTime": {
     "end_time": "2020-11-22T15:49:30.098295000Z",
     "start_time": "2020-11-22T15:49:30.095Z"
    }
   },
   "outputs": [
    {
     "data": {
      "text/plain": [
       "eid | name       iq \n",
       "----| --------------\n",
       "1001| Dent       98 \n",
       "1002| Beeblebrox 42 \n",
       "1003| Prefect    126\n"
      ]
     },
     "execution_count": 55,
     "metadata": {},
     "output_type": "execute_result"
    },
    {
     "data": {
      "text/plain": [
       "eid  name       iq \n",
       "-------------------\n",
       "1001 Dent       98 \n",
       "1002 Beeblebrox 42 \n",
       "1003 Prefect    126\n"
      ]
     },
     "execution_count": 55,
     "metadata": {},
     "output_type": "execute_result"
    }
   ],
   "source": [
    "1!t\n",
    "0!kt"
   ]
  },
  {
   "cell_type": "markdown",
   "metadata": {},
   "source": [
    "The table/keyed table conversions above (in both forms) work on copies and do not affect the original table. Use call-by-name to modify the original."
   ]
  },
  {
   "cell_type": "code",
   "execution_count": 56,
   "metadata": {
    "ExecuteTime": {
     "end_time": "2020-11-22T15:50:17.594742000Z",
     "start_time": "2020-11-22T15:50:17.586Z"
    }
   },
   "outputs": [
    {
     "data": {
      "text/plain": [
       "`t\n"
      ]
     },
     "execution_count": 56,
     "metadata": {},
     "output_type": "execute_result"
    },
    {
     "data": {
      "text/plain": [
       "eid | name       iq \n",
       "----| --------------\n",
       "1001| Dent       98 \n",
       "1002| Beeblebrox 42 \n",
       "1003| Prefect    126\n"
      ]
     },
     "execution_count": 56,
     "metadata": {},
     "output_type": "execute_result"
    }
   ],
   "source": [
    "`eid xkey `t\n",
    "t"
   ]
  },
  {
   "cell_type": "code",
   "execution_count": 57,
   "metadata": {
    "ExecuteTime": {
     "end_time": "2020-11-22T15:50:23.733582000Z",
     "start_time": "2020-11-22T15:50:23.730Z"
    }
   },
   "outputs": [
    {
     "data": {
      "text/plain": [
       "`kt\n"
      ]
     },
     "execution_count": 57,
     "metadata": {},
     "output_type": "execute_result"
    },
    {
     "data": {
      "text/plain": [
       "eid  name       iq \n",
       "-------------------\n",
       "1001 Dent       98 \n",
       "1002 Beeblebrox 42 \n",
       "1003 Prefect    126\n"
      ]
     },
     "execution_count": 57,
     "metadata": {},
     "output_type": "execute_result"
    }
   ],
   "source": [
    "() xkey `kt\n",
    "kt"
   ]
  },
  {
   "cell_type": "markdown",
   "metadata": {},
   "source": [
    "If `xkey` is applied with a column that does not contain unique values, the result is **not a error but rather a keyed table that does not have a true primary key**."
   ]
  },
  {
   "cell_type": "code",
   "execution_count": 58,
   "metadata": {
    "ExecuteTime": {
     "end_time": "2020-11-22T15:51:20.645895000Z",
     "start_time": "2020-11-22T15:51:20.638Z"
    }
   },
   "outputs": [
    {
     "data": {
      "text/plain": [
       "eid | name      \n",
       "----| ----------\n",
       "1001| Dent      \n",
       "1002| Beeblebrox\n",
       "1003| Prefect   \n",
       "1001| Dup       \n"
      ]
     },
     "execution_count": 58,
     "metadata": {},
     "output_type": "execute_result"
    }
   ],
   "source": [
    "t:([] eid:1001 1002 1003 1001; name:`Dent`Beeblebrox`Prefect`Dup)\n",
    "ktdup: `eid xkey t\n",
    "ktdup"
   ]
  },
  {
   "cell_type": "markdown",
   "metadata": {},
   "source": [
    "Duplicate key values are **not** accessible via key lookup. They are accessible via `select`."
   ]
  },
  {
   "cell_type": "code",
   "execution_count": 60,
   "metadata": {
    "ExecuteTime": {
     "end_time": "2020-11-22T15:52:14.058079000Z",
     "start_time": "2020-11-22T15:52:14.054Z"
    }
   },
   "outputs": [
    {
     "data": {
      "text/plain": [
       "name| Dent\n"
      ]
     },
     "execution_count": 60,
     "metadata": {},
     "output_type": "execute_result"
    },
    {
     "data": {
      "text/plain": [
       "eid | name\n",
       "----| ----\n",
       "1001| Dent\n",
       "1001| Dup \n"
      ]
     },
     "execution_count": 60,
     "metadata": {},
     "output_type": "execute_result"
    }
   ],
   "source": [
    "ktdup 1001\n",
    "select from ktdup where eid=1001"
   ]
  },
  {
   "cell_type": "markdown",
   "metadata": {},
   "source": [
    "### Compound Primary Key"
   ]
  },
  {
   "cell_type": "code",
   "execution_count": 61,
   "metadata": {
    "ExecuteTime": {
     "end_time": "2020-11-22T15:53:18.538638000Z",
     "start_time": "2020-11-22T15:53:18.535Z"
    }
   },
   "outputs": [
    {
     "data": {
      "text/plain": [
       "lname      fname | iq \n",
       "-----------------| ---\n",
       "Dent       Arthur| 98 \n",
       "Beeblebrox Zaphod| 42 \n",
       "Prefect    Ford  | 126\n"
      ]
     },
     "execution_count": 61,
     "metadata": {},
     "output_type": "execute_result"
    }
   ],
   "source": [
    "ktc:([lname:`Dent`Beeblebrox`Prefect; fname:`Arthur`Zaphod`Ford]; iq:98 42 126)\n",
    "ktc"
   ]
  },
  {
   "cell_type": "code",
   "execution_count": 62,
   "metadata": {
    "ExecuteTime": {
     "end_time": "2020-11-22T15:53:28.705678000Z",
     "start_time": "2020-11-22T15:53:28.698Z"
    }
   },
   "outputs": [
    {
     "data": {
      "text/plain": [
       "iq| 42\n"
      ]
     },
     "execution_count": 62,
     "metadata": {},
     "output_type": "execute_result"
    }
   ],
   "source": [
    "ktc[`lname`fname!`Beeblebrox`Zaphod]"
   ]
  },
  {
   "cell_type": "code",
   "execution_count": 63,
   "metadata": {
    "ExecuteTime": {
     "end_time": "2020-11-22T15:53:37.626308000Z",
     "start_time": "2020-11-22T15:53:37.619Z"
    }
   },
   "outputs": [
    {
     "data": {
      "text/plain": [
       "iq| 98\n"
      ]
     },
     "execution_count": 63,
     "metadata": {},
     "output_type": "execute_result"
    }
   ],
   "source": [
    "ktc[`Dent`Arthur]"
   ]
  },
  {
   "cell_type": "code",
   "execution_count": 64,
   "metadata": {
    "ExecuteTime": {
     "end_time": "2020-11-22T15:54:24.475996000Z",
     "start_time": "2020-11-22T15:54:24.470Z"
    }
   },
   "outputs": [],
   "source": [
    "ktc:([lname:`symbol$();fname:`symbol$()] iq:`int$())\n",
    "ktc:([lname:0#`;fname:0#`] iq:0#0)"
   ]
  },
  {
   "cell_type": "code",
   "execution_count": 67,
   "metadata": {
    "ExecuteTime": {
     "end_time": "2020-11-22T15:55:06.985238000Z",
     "start_time": "2020-11-22T15:55:06.978Z"
    }
   },
   "outputs": [],
   "source": [
    "/ keyed table built from its constituent column dictionaries.\n",
    "ktc:(flip `lname`fname!(`Dent`Beeblebrox`Prefect;`Arthur`Zaphod`Ford))!\n",
    "    flip (enlist `iq)!enlist 98 42 126"
   ]
  },
  {
   "cell_type": "markdown",
   "metadata": {},
   "source": [
    "### Retrieving Records with a Compound Primary Key"
   ]
  },
  {
   "cell_type": "code",
   "execution_count": 69,
   "metadata": {
    "ExecuteTime": {
     "end_time": "2020-11-22T15:56:31.393045000Z",
     "start_time": "2020-11-22T15:56:31.376Z"
    }
   },
   "outputs": [
    {
     "data": {
      "text/plain": [
       "iq \n",
       "---\n",
       "98 \n",
       "126\n"
      ]
     },
     "execution_count": 69,
     "metadata": {},
     "output_type": "execute_result"
    },
    {
     "data": {
      "text/plain": [
       "iq \n",
       "---\n",
       "98 \n",
       "126\n"
      ]
     },
     "execution_count": 69,
     "metadata": {},
     "output_type": "execute_result"
    },
    {
     "data": {
      "text/plain": [
       "lname   fname | iq \n",
       "--------------| ---\n",
       "Dent    Arthur| 98 \n",
       "Prefect Ford  | 126\n"
      ]
     },
     "execution_count": 69,
     "metadata": {},
     "output_type": "execute_result"
    }
   ],
   "source": [
    "/ lookup multiple value records with a list of compound keys.\n",
    "ktc (`Dent`Arthur;`Prefect`Ford)\n",
    "/ nifty construct with an anonymous table works with compound keys \n",
    "ktc ([] lname:`Dent`Prefect; fname:`Arthur`Ford)\n",
    "/ from #\n",
    "K:([] lname:`Dent`Prefect; fname:`Arthur`Ford)\n",
    "K#ktc"
   ]
  },
  {
   "cell_type": "markdown",
   "metadata": {},
   "source": [
    "### Extracting Column Data"
   ]
  },
  {
   "cell_type": "code",
   "execution_count": 70,
   "metadata": {
    "ExecuteTime": {
     "end_time": "2020-11-22T15:58:04.206515000Z",
     "start_time": "2020-11-22T15:58:04.202Z"
    }
   },
   "outputs": [
    {
     "data": {
      "text/plain": [
       "k  | v1 v2 \n",
       "---| ------\n",
       "101| a  1.1\n",
       "102| b  2.2\n",
       "103| c  3.3\n"
      ]
     },
     "execution_count": 70,
     "metadata": {},
     "output_type": "execute_result"
    },
    {
     "data": {
      "text/plain": [
       "k1 k2| v1 v2 \n",
       "-----| ------\n",
       "a  x | a  1.1\n",
       "b  y | b  2.2\n",
       "c  z | c  3.3\n"
      ]
     },
     "execution_count": 70,
     "metadata": {},
     "output_type": "execute_result"
    }
   ],
   "source": [
    "kts:([k:101 102 103] v1:`a`b`c; v2:1.1 2.2 3.3)\n",
    "kts\n",
    "ktc:([k1: `a`b`c; k2: `x`y`z] v1:`a`b`c; v2:1.1 2.2 3.3)\n",
    "ktc"
   ]
  },
  {
   "cell_type": "code",
   "execution_count": 71,
   "metadata": {
    "ExecuteTime": {
     "end_time": "2020-11-22T15:58:51.089979000Z",
     "start_time": "2020-11-22T15:58:51.080Z"
    }
   },
   "outputs": [
    {
     "data": {
      "text/plain": [
       "v1 v2 \n",
       "------\n",
       "a  1.1\n",
       "c  3.3\n"
      ]
     },
     "execution_count": 71,
     "metadata": {},
     "output_type": "execute_result"
    },
    {
     "data": {
      "text/plain": [
       "v1 v2 \n",
       "------\n",
       "a  1.1\n",
       "c  3.3\n"
      ]
     },
     "execution_count": 71,
     "metadata": {},
     "output_type": "execute_result"
    }
   ],
   "source": [
    "/ retrieve all the value columns using an anonymous table of keys.\n",
    "kts[([] k:101 103)]\n",
    "ktc[([] k1:`a`c; k2:`x`z)]"
   ]
  },
  {
   "cell_type": "code",
   "execution_count": 72,
   "metadata": {
    "ExecuteTime": {
     "end_time": "2020-11-22T15:59:36.035586000Z",
     "start_time": "2020-11-22T15:59:36.025Z"
    }
   },
   "outputs": [
    {
     "data": {
      "text/plain": [
       "`a`c\n"
      ]
     },
     "execution_count": 72,
     "metadata": {},
     "output_type": "execute_result"
    },
    {
     "data": {
      "text/plain": [
       "a   c  \n",
       "1.1 3.3\n"
      ]
     },
     "execution_count": 72,
     "metadata": {},
     "output_type": "execute_result"
    }
   ],
   "source": [
    "kts[([] k:101 103)][`v1]\n",
    "ktc[([] k1:`a`c;k2:`x`z)][`v1`v2]"
   ]
  },
  {
   "cell_type": "code",
   "execution_count": 73,
   "metadata": {
    "ExecuteTime": {
     "end_time": "2020-11-22T15:59:51.901462000Z",
     "start_time": "2020-11-22T15:59:51.892Z"
    }
   },
   "outputs": [
    {
     "data": {
      "text/plain": [
       "`a`c\n"
      ]
     },
     "execution_count": 73,
     "metadata": {},
     "output_type": "execute_result"
    },
    {
     "data": {
      "text/plain": [
       "`a 1.1\n",
       "`c 3.3\n"
      ]
     },
     "execution_count": 73,
     "metadata": {},
     "output_type": "execute_result"
    }
   ],
   "source": [
    "/ depth\n",
    "kts[([] k:101 103); `v1]\n",
    "ktc[([] k1:`a`c;k2:`x`z); `v1`v2]"
   ]
  },
  {
   "cell_type": "markdown",
   "metadata": {},
   "source": [
    "## Foreign Keys and Virtual Columns"
   ]
  },
  {
   "cell_type": "markdown",
   "metadata": {},
   "source": [
    "### Definition of Foreign Key\n",
    "\n",
    "A _foreign key_ is **one or more table columns whose values are defined as an enumeration over the key column(s) of a keyed table.** As in the case of symbol enumeration `sym$, the enumeration restricts foreign key values to be in the list of primary key values."
   ]
  },
  {
   "cell_type": "markdown",
   "metadata": {},
   "source": [
    "### Example of Simple Foreign Key"
   ]
  },
  {
   "cell_type": "code",
   "execution_count": 74,
   "metadata": {
    "ExecuteTime": {
     "end_time": "2020-11-22T16:07:38.901758000Z",
     "start_time": "2020-11-22T16:07:38.899Z"
    }
   },
   "outputs": [
    {
     "data": {
      "text/plain": [
       "eid  sc \n",
       "--------\n",
       "1003 126\n",
       "1001 36 \n",
       "1002 92 \n",
       "1001 39 \n",
       "1002 98 \n",
       "1001 42 \n"
      ]
     },
     "execution_count": 74,
     "metadata": {},
     "output_type": "execute_result"
    }
   ],
   "source": [
    "kt:([eid:1001 1002 1003] name:`Dent`Beeblebrox`Prefect; iq:98 42 126)\n",
    "([] eid:1003 1001 1002 1001 1002 1001; sc:126 36 92 39 98 42)"
   ]
  },
  {
   "cell_type": "markdown",
   "metadata": {},
   "source": [
    "This table has no restriction on eid other than it be a long. To ensure that only eid values for actual travelers can be entered, we make the `eid` column in this table a foreign key related to the eid column in kt. **This is done by enumerating over the name of the keyed table – i.e., `kt$.**\n",
    "\n",
    "**When q sees the name of a keyed table in an enumeration domain it knows to use the list of key records.**"
   ]
  },
  {
   "cell_type": "code",
   "execution_count": 75,
   "metadata": {
    "ExecuteTime": {
     "end_time": "2020-11-22T16:08:35.098991000Z",
     "start_time": "2020-11-22T16:08:35.095Z"
    }
   },
   "outputs": [
    {
     "data": {
      "text/plain": [
       "`kt$1002 1001 1001 1003 1002 1003\n"
      ]
     },
     "execution_count": 75,
     "metadata": {},
     "output_type": "execute_result"
    }
   ],
   "source": [
    "`kt$1002 1001 1001 1003 1002 1003"
   ]
  },
  {
   "cell_type": "code",
   "execution_count": 76,
   "metadata": {
    "ExecuteTime": {
     "end_time": "2020-11-22T16:09:07.683691000Z",
     "start_time": "2020-11-22T16:09:07.679Z"
    }
   },
   "outputs": [
    {
     "data": {
      "text/plain": [
       "1 0 0 2 1 2\n"
      ]
     },
     "execution_count": 76,
     "metadata": {},
     "output_type": "execute_result"
    }
   ],
   "source": [
    "`long$`kt$1002 1001 1001 1003 1002 1003"
   ]
  },
  {
   "cell_type": "code",
   "execution_count": 77,
   "metadata": {
    "ExecuteTime": {
     "end_time": "2020-11-22T16:09:38.455411000Z",
     "start_time": "2020-11-22T16:09:38.448Z"
    }
   },
   "outputs": [
    {
     "data": {
      "text/plain": [
       "00101b\n"
      ]
     },
     "execution_count": 77,
     "metadata": {},
     "output_type": "execute_result"
    }
   ],
   "source": [
    "1003=`kt$1002 1001 1003 1002 1003"
   ]
  },
  {
   "cell_type": "markdown",
   "metadata": {},
   "source": [
    "The enumeration provide **referential integrity**"
   ]
  },
  {
   "cell_type": "code",
   "execution_count": 77,
   "metadata": {
    "ExecuteTime": {
     "end_time": "2020-11-22T16:10:05.360275000Z",
     "start_time": "2020-11-22T16:10:05.357Z"
    }
   },
   "outputs": [
    {
     "ename": "\u001b[0;31mcast\u001b[0m",
     "evalue": "\u001b[0;31mcast\u001b[0m",
     "output_type": "error",
     "traceback": [
      "\u001b[0;31mevaluation error:\n\u001b[0m",
      "\u001b[0;31mcast\u001b[0m",
      "\u001b[0;31m\u001b[0m",
      "\u001b[0;31m  [0]  `kt$1004\n          ^\n\u001b[0m"
     ]
    }
   ],
   "source": [
    "`kt$1004"
   ]
  },
  {
   "cell_type": "code",
   "execution_count": 82,
   "metadata": {
    "ExecuteTime": {
     "end_time": "2020-11-22T16:12:18.163337000Z",
     "start_time": "2020-11-22T16:12:18.157Z"
    }
   },
   "outputs": [
    {
     "data": {
      "text/plain": [
       "eid  sc \n",
       "--------\n",
       "1003 126\n",
       "1001 36 \n",
       "1002 92 \n",
       "1001 39 \n",
       "1002 98 \n",
       "1001 42 \n"
      ]
     },
     "execution_count": 82,
     "metadata": {},
     "output_type": "execute_result"
    }
   ],
   "source": [
    "tdetails:([] eid:`kt$1003 1001 1002 1001 1002 1001; sc:126 36 92 39 98 42)\n",
    "tdetails"
   ]
  },
  {
   "cell_type": "code",
   "execution_count": 83,
   "metadata": {
    "ExecuteTime": {
     "end_time": "2020-11-22T16:12:20.167281000Z",
     "start_time": "2020-11-22T16:12:20.163Z"
    }
   },
   "outputs": [
    {
     "data": {
      "text/plain": [
       "c  | t f  a\n",
       "---| ------\n",
       "eid| j kt  \n",
       "sc | j     \n"
      ]
     },
     "execution_count": 83,
     "metadata": {},
     "output_type": "execute_result"
    },
    {
     "data": {
      "text/plain": [
       "eid| kt\n"
      ]
     },
     "execution_count": 83,
     "metadata": {},
     "output_type": "execute_result"
    }
   ],
   "source": [
    "meta tdetails\n",
    "fkeys tdetails"
   ]
  },
  {
   "cell_type": "markdown",
   "metadata": {},
   "source": [
    "### Resolving a Foreign Key\n",
    "\n",
    "When you wish to resolve a foreign key – i.e., get the actual values instead of enumerated values – apply `value` to the enumerated column"
   ]
  },
  {
   "cell_type": "code",
   "execution_count": 84,
   "metadata": {
    "ExecuteTime": {
     "end_time": "2020-11-22T16:12:28.468798000Z",
     "start_time": "2020-11-22T16:12:28.461Z"
    }
   },
   "outputs": [
    {
     "data": {
      "text/plain": [
       "c  | t f a\n",
       "---| -----\n",
       "eid| j    \n",
       "sc | j    \n"
      ]
     },
     "execution_count": 84,
     "metadata": {},
     "output_type": "execute_result"
    }
   ],
   "source": [
    "meta update value eid from tdetails"
   ]
  },
  {
   "cell_type": "markdown",
   "metadata": {},
   "source": [
    "### Foreign Keys and Relations\n",
    "\n",
    "Let `tf` be a table having a foreign key column `f` enumerated over a keyed table `kt`. All columns in `kt` are available via **dot notation** in a select expression whose from domain is `tf`. To access a column `c` in `kt`, use the notation `f.c` in the select expression. This column takes the name `c` by default in the result."
   ]
  },
  {
   "cell_type": "code",
   "execution_count": 85,
   "metadata": {
    "ExecuteTime": {
     "end_time": "2020-11-22T16:17:39.233689000Z",
     "start_time": "2020-11-22T16:17:39.226Z"
    }
   },
   "outputs": [
    {
     "data": {
      "text/plain": [
       "name       sc \n",
       "--------------\n",
       "Prefect    126\n",
       "Dent       36 \n",
       "Beeblebrox 92 \n",
       "Dent       39 \n",
       "Beeblebrox 98 \n",
       "Dent       42 \n"
      ]
     },
     "execution_count": 85,
     "metadata": {},
     "output_type": "execute_result"
    }
   ],
   "source": [
    "/ There is an implicit left join between tdetails and kt here.\n",
    "select eid.name, sc from tdetails"
   ]
  },
  {
   "cell_type": "markdown",
   "metadata": {},
   "source": [
    "## Working with Tables and Keyed Tables"
   ]
  },
  {
   "cell_type": "code",
   "execution_count": 86,
   "metadata": {
    "ExecuteTime": {
     "end_time": "2020-11-22T16:21:55.264280000Z",
     "start_time": "2020-11-22T16:21:55.261Z"
    }
   },
   "outputs": [],
   "source": [
    "t:([] name:`Dent`Beeblebrox`Prefect; iq:98 42 126)\n",
    "kt:([eid:1001 1002 1003] name:`Dent`Beeblebrox`Prefect; iq:98 42 126)"
   ]
  },
  {
   "cell_type": "markdown",
   "metadata": {},
   "source": [
    "### Appending Records\n",
    "\n",
    "The fundamental way to append a record to a table is to view the table as a list of records and join with `,:`. Note that the fields in the record do not need to be in column order."
   ]
  },
  {
   "cell_type": "code",
   "execution_count": 87,
   "metadata": {
    "ExecuteTime": {
     "end_time": "2020-11-22T16:24:16.929760000Z",
     "start_time": "2020-11-22T16:24:16.922Z"
    }
   },
   "outputs": [
    {
     "data": {
      "text/plain": [
       "name       iq \n",
       "--------------\n",
       "Dent       98 \n",
       "Beeblebrox 42 \n",
       "Prefect    126\n",
       "W          26 \n",
       "Albert     200\n"
      ]
     },
     "execution_count": 87,
     "metadata": {},
     "output_type": "execute_result"
    }
   ],
   "source": [
    "t,:`name`iq!(`W; 26)\n",
    "t,:`iq`name!(200; `Albert)\n",
    "t"
   ]
  },
  {
   "cell_type": "markdown",
   "metadata": {},
   "source": [
    "You can also append naked row values with `,:` but the fields must be in column order."
   ]
  },
  {
   "cell_type": "code",
   "execution_count": 87,
   "metadata": {
    "ExecuteTime": {
     "end_time": "2020-11-22T16:24:37.386248000Z",
     "start_time": "2020-11-22T16:24:37.378Z"
    }
   },
   "outputs": [
    {
     "ename": "\u001b[0;31mtype\u001b[0m",
     "evalue": "\u001b[0;31mtype\u001b[0m",
     "output_type": "error",
     "traceback": [
      "\u001b[0;31mevaluation error:\n\u001b[0m",
      "\u001b[0;31mtype\u001b[0m",
      "\u001b[0;31m\u001b[0m",
      "\u001b[0;31m  [0]  t,:(97;`J)\n        ^\n\u001b[0m"
     ]
    }
   ],
   "source": [
    "t,:(`H; 142)\n",
    "t,:(97;`J)\n",
    "t"
   ]
  },
  {
   "cell_type": "code",
   "execution_count": 88,
   "metadata": {
    "ExecuteTime": {
     "end_time": "2020-11-22T16:24:41.141943000Z",
     "start_time": "2020-11-22T16:24:41.139Z"
    }
   },
   "outputs": [
    {
     "data": {
      "text/plain": [
       "name       iq \n",
       "--------------\n",
       "Dent       98 \n",
       "Beeblebrox 42 \n",
       "Prefect    126\n",
       "W          26 \n",
       "Albert     200\n",
       "H          142\n"
      ]
     },
     "execution_count": 88,
     "metadata": {},
     "output_type": "execute_result"
    }
   ],
   "source": [
    "t"
   ]
  },
  {
   "cell_type": "markdown",
   "metadata": {},
   "source": [
    "### First and Last Records"
   ]
  },
  {
   "cell_type": "code",
   "execution_count": 89,
   "metadata": {
    "ExecuteTime": {
     "end_time": "2020-11-22T16:24:56.766606000Z",
     "start_time": "2020-11-22T16:24:56.757Z"
    }
   },
   "outputs": [
    {
     "data": {
      "text/plain": [
       "name| `Dent\n",
       "iq  | 98\n"
      ]
     },
     "execution_count": 89,
     "metadata": {},
     "output_type": "execute_result"
    },
    {
     "data": {
      "text/plain": [
       "name| `H\n",
       "iq  | 142\n"
      ]
     },
     "execution_count": 89,
     "metadata": {},
     "output_type": "execute_result"
    }
   ],
   "source": [
    "first t\n",
    "last t"
   ]
  },
  {
   "cell_type": "markdown",
   "metadata": {},
   "source": [
    "A keyed table is a dictionary so functions apply to the value table."
   ]
  },
  {
   "cell_type": "code",
   "execution_count": 90,
   "metadata": {
    "ExecuteTime": {
     "end_time": "2020-11-22T16:25:03.662815000Z",
     "start_time": "2020-11-22T16:25:03.654Z"
    }
   },
   "outputs": [
    {
     "data": {
      "text/plain": [
       "name| `Dent\n",
       "iq  | 98\n"
      ]
     },
     "execution_count": 90,
     "metadata": {},
     "output_type": "execute_result"
    },
    {
     "data": {
      "text/plain": [
       "name| `Prefect\n",
       "iq  | 126\n"
      ]
     },
     "execution_count": 90,
     "metadata": {},
     "output_type": "execute_result"
    }
   ],
   "source": [
    "first kt\n",
    "last kt"
   ]
  },
  {
   "cell_type": "code",
   "execution_count": 91,
   "metadata": {
    "ExecuteTime": {
     "end_time": "2020-11-22T16:25:47.210965000Z",
     "start_time": "2020-11-22T16:25:47.202Z"
    }
   },
   "outputs": [
    {
     "data": {
      "text/plain": [
       "name       iq\n",
       "-------------\n",
       "Dent       98\n",
       "Beeblebrox 42\n"
      ]
     },
     "execution_count": 91,
     "metadata": {},
     "output_type": "execute_result"
    },
    {
     "data": {
      "text/plain": [
       "eid | name       iq \n",
       "----| --------------\n",
       "1001| Dent       98 \n",
       "1002| Beeblebrox 42 \n",
       "1003| Prefect    126\n"
      ]
     },
     "execution_count": 91,
     "metadata": {},
     "output_type": "execute_result"
    }
   ],
   "source": [
    "2#t\n",
    "-3#kt"
   ]
  },
  {
   "cell_type": "markdown",
   "metadata": {},
   "source": [
    "### Find `?`"
   ]
  },
  {
   "cell_type": "markdown",
   "metadata": {},
   "source": [
    "The Find operator `?` used with a table returns the index of a record – i.e., its row number."
   ]
  },
  {
   "cell_type": "code",
   "execution_count": 94,
   "metadata": {
    "ExecuteTime": {
     "end_time": "2020-11-22T16:26:49.259447000Z",
     "start_time": "2020-11-22T16:26:49.256Z"
    }
   },
   "outputs": [
    {
     "data": {
      "text/plain": [
       "0\n"
      ]
     },
     "execution_count": 94,
     "metadata": {},
     "output_type": "execute_result"
    },
    {
     "data": {
      "text/plain": [
       "name| `Dent\n",
       "iq  | 98\n"
      ]
     },
     "execution_count": 94,
     "metadata": {},
     "output_type": "execute_result"
    }
   ],
   "source": [
    "t?`name`iq!(`Dent;98)\n",
    "t[0]"
   ]
  },
  {
   "cell_type": "markdown",
   "metadata": {},
   "source": [
    "The record can be abbreviated to a row list provided the fields have the right type and order."
   ]
  },
  {
   "cell_type": "code",
   "execution_count": 95,
   "metadata": {
    "ExecuteTime": {
     "end_time": "2020-11-22T16:27:15.442516000Z",
     "start_time": "2020-11-22T16:27:15.439Z"
    }
   },
   "outputs": [
    {
     "data": {
      "text/plain": [
       "0\n"
      ]
     },
     "execution_count": 95,
     "metadata": {},
     "output_type": "execute_result"
    }
   ],
   "source": [
    "t?(`Dent;98)"
   ]
  },
  {
   "cell_type": "markdown",
   "metadata": {},
   "source": [
    "**Find is atomic in the right operand**"
   ]
  },
  {
   "cell_type": "code",
   "execution_count": 96,
   "metadata": {
    "ExecuteTime": {
     "end_time": "2020-11-22T16:27:20.460823000Z",
     "start_time": "2020-11-22T16:27:20.453Z"
    }
   },
   "outputs": [
    {
     "data": {
      "text/plain": [
       "0 2\n"
      ]
     },
     "execution_count": 96,
     "metadata": {},
     "output_type": "execute_result"
    }
   ],
   "source": [
    "t?((`Dent;98);(`Prefect;126))"
   ]
  },
  {
   "cell_type": "markdown",
   "metadata": {},
   "source": [
    "Since a keyed table is a dictionary, Find `?` performs a reverse lookup of a value record/row and returns the first associated key record."
   ]
  },
  {
   "cell_type": "code",
   "execution_count": 97,
   "metadata": {
    "ExecuteTime": {
     "end_time": "2020-11-22T16:28:21.303681000Z",
     "start_time": "2020-11-22T16:28:21.295Z"
    }
   },
   "outputs": [
    {
     "data": {
      "text/plain": [
       "eid| 1001\n"
      ]
     },
     "execution_count": 97,
     "metadata": {},
     "output_type": "execute_result"
    },
    {
     "data": {
      "text/plain": [
       "eid| 1001\n"
      ]
     },
     "execution_count": 97,
     "metadata": {},
     "output_type": "execute_result"
    }
   ],
   "source": [
    "kt?`name`iq!(`Dent;98)\n",
    "kt?(`Dent;98)"
   ]
  },
  {
   "cell_type": "markdown",
   "metadata": {},
   "source": [
    "As with key lookup, a single column must have enlisted values, or you can use the anonymous table construct."
   ]
  },
  {
   "cell_type": "code",
   "execution_count": 100,
   "metadata": {
    "ExecuteTime": {
     "end_time": "2020-11-22T16:29:37.349297000Z",
     "start_time": "2020-11-22T16:29:37.345Z"
    }
   },
   "outputs": [
    {
     "data": {
      "text/plain": [
       "0 1\n"
      ]
     },
     "execution_count": 100,
     "metadata": {},
     "output_type": "execute_result"
    },
    {
     "data": {
      "text/plain": [
       "0 1\n"
      ]
     },
     "execution_count": 100,
     "metadata": {},
     "output_type": "execute_result"
    }
   ],
   "source": [
    "t1:([] eid:1001 1002 1003)\n",
    "t1?enlist each 1001 1002 /*\n",
    "t1?([] eid:1001 1002)"
   ]
  },
  {
   "cell_type": "markdown",
   "metadata": {},
   "source": [
    "### Union with `,`"
   ]
  },
  {
   "cell_type": "markdown",
   "metadata": {},
   "source": [
    "You can use `,` to append a record to (a copy of) a table, but **no type checking will be performed.**"
   ]
  },
  {
   "cell_type": "code",
   "execution_count": 101,
   "metadata": {
    "ExecuteTime": {
     "end_time": "2020-11-22T16:30:21.082914000Z",
     "start_time": "2020-11-22T16:30:21.072Z"
    }
   },
   "outputs": [
    {
     "data": {
      "text/plain": [
       "name            iq  \n",
       "--------------------\n",
       "Dent            98  \n",
       "Beeblebrox      42  \n",
       "Prefect         126 \n",
       "W               26  \n",
       "Albert          200 \n",
       "H               142 \n",
       "Slaartibartfast `123\n"
      ]
     },
     "execution_count": 101,
     "metadata": {},
     "output_type": "execute_result"
    }
   ],
   "source": [
    "t,`name`iq!(`Slaartibartfast; `123)"
   ]
  },
  {
   "cell_type": "markdown",
   "metadata": {},
   "source": [
    "**Using a row with , will not yield a table. Instead you get a general list.**"
   ]
  },
  {
   "cell_type": "code",
   "execution_count": 102,
   "metadata": {
    "ExecuteTime": {
     "end_time": "2020-11-22T16:30:56.471288000Z",
     "start_time": "2020-11-22T16:30:56.463Z"
    }
   },
   "outputs": [
    {
     "data": {
      "text/plain": [
       "`name`iq!(`Dent;98)\n",
       "`name`iq!(`Beeblebrox;42)\n",
       "`name`iq!(`Prefect;126)\n",
       "`name`iq!(`W;26)\n",
       "`name`iq!(`Albert;200)\n",
       "`name`iq!(`H;142)\n",
       "`Slaartibartfast\n",
       "110\n"
      ]
     },
     "execution_count": 102,
     "metadata": {},
     "output_type": "execute_result"
    }
   ],
   "source": [
    "t,(`Slaartibartfast; 110)"
   ]
  },
  {
   "cell_type": "markdown",
   "metadata": {},
   "source": [
    "Tables having **exactly** the same `meta` result can be joined to form a table. Since a table is a list of records, the result is obtained by appending the records of the right operand to those of the left."
   ]
  },
  {
   "cell_type": "code",
   "execution_count": 103,
   "metadata": {
    "ExecuteTime": {
     "end_time": "2020-11-22T16:33:09.739104000Z",
     "start_time": "2020-11-22T16:33:09.734Z"
    }
   },
   "outputs": [
    {
     "data": {
      "text/plain": [
       "name       iq \n",
       "--------------\n",
       "Dent       98 \n",
       "Beeblebrox 42 \n",
       "Prefect    126\n",
       "W          26 \n",
       "Albert     200\n",
       "H          142\n",
       "W          26 \n"
      ]
     },
     "execution_count": 103,
     "metadata": {},
     "output_type": "execute_result"
    },
    {
     "data": {
      "text/plain": [
       "name       iq \n",
       "--------------\n",
       "Dent       98 \n",
       "Beeblebrox 42 \n",
       "Prefect    126\n",
       "W          26 \n",
       "Albert     200\n",
       "H          142\n",
       "Dent       98 \n",
       "Beeblebrox 42 \n",
       "Prefect    126\n",
       "W          26 \n",
       "Albert     200\n",
       "H          142\n"
      ]
     },
     "execution_count": 103,
     "metadata": {},
     "output_type": "execute_result"
    }
   ],
   "source": [
    "t,([] name:1#`W; iq:1#26)\n",
    "t, t"
   ]
  },
  {
   "cell_type": "markdown",
   "metadata": {},
   "source": [
    "Two keyed tables with the same `meta` result can be joined with `,`. Because a keyed table is a dictionary whose keys and values are record lists, the operation has upsert semantics. Keys in the right operand that are not in the left operand are treated as append (i.e., insert), whereas the right operand acts as an update on common key values. "
   ]
  },
  {
   "cell_type": "code",
   "execution_count": 106,
   "metadata": {
    "ExecuteTime": {
     "end_time": "2020-11-22T16:34:27.536817000Z",
     "start_time": "2020-11-22T16:34:27.533Z"
    }
   },
   "outputs": [
    {
     "data": {
      "text/plain": [
       "eid | name       iq \n",
       "----| --------------\n",
       "1001| Dent       98 \n",
       "1002| Beeblebrox 42 \n",
       "1003| Prefect    150\n",
       "1004| W          26 \n"
      ]
     },
     "execution_count": 106,
     "metadata": {},
     "output_type": "execute_result"
    }
   ],
   "source": [
    "kt,([eid:1003 1004] name:`Prefect`W; iq:150 26)"
   ]
  },
  {
   "cell_type": "markdown",
   "metadata": {},
   "source": [
    "### Coalesce `^`\n",
    "\n",
    "Coalesce `^` can be used to merge two keyed tables **having the same columns**. Its behavior derives from its behavior on **dictionaries**. For a **common key value and a common column, the value of the column in the right keyed table prevails over that of column in the left keyed table**, except where the right column is null, in which case the left column value survives. **On non-common keys the individual values carry thru.**\n",
    "\n",
    "The behavior of `^` is the same as `,` when there are no nulls in a column in the right table."
   ]
  },
  {
   "cell_type": "code",
   "execution_count": 107,
   "metadata": {
    "ExecuteTime": {
     "end_time": "2020-11-22T23:33:36.700492000Z",
     "start_time": "2020-11-22T23:33:36.698Z"
    }
   },
   "outputs": [
    {
     "data": {
      "text/plain": [
       "k| v  \n",
       "-| ---\n",
       "a| 100\n",
       "b| 200\n",
       "c| 30 \n"
      ]
     },
     "execution_count": 107,
     "metadata": {},
     "output_type": "execute_result"
    }
   ],
   "source": [
    "([k:`a`b`c] v:10 0N 30)^([k:`a`b`c] v:100 200 0N)"
   ]
  },
  {
   "cell_type": "code",
   "execution_count": 108,
   "metadata": {
    "ExecuteTime": {
     "end_time": "2020-11-22T23:33:42.798990000Z",
     "start_time": "2020-11-22T23:33:42.790Z"
    }
   },
   "outputs": [
    {
     "data": {
      "text/plain": [
       "k| v  \n",
       "-| ---\n",
       "a| 100\n",
       "b| 200\n",
       "c| 30 \n",
       "x| 40 \n",
       "y|    \n"
      ]
     },
     "execution_count": 108,
     "metadata": {},
     "output_type": "execute_result"
    }
   ],
   "source": [
    "([k:`a`b`c`x] v:10 0N 30 40)^([k:`a`b`c`y]; v:100 200 0N 0N)"
   ]
  },
  {
   "cell_type": "markdown",
   "metadata": {},
   "source": [
    "The performance of `^` is slower than that of `,` since fields of the right operand must be checked for null."
   ]
  },
  {
   "cell_type": "markdown",
   "metadata": {},
   "source": [
    "### Column Join"
   ]
  },
  {
   "cell_type": "markdown",
   "metadata": {},
   "source": [
    "Two tables with **the same number of records** can be joined sideways with Join Each (`,'`) to create a column join in which the columns are aligned in parallel"
   ]
  },
  {
   "cell_type": "code",
   "execution_count": 109,
   "metadata": {
    "ExecuteTime": {
     "end_time": "2020-11-22T23:34:52.447914000Z",
     "start_time": "2020-11-22T23:34:52.442Z"
    }
   },
   "outputs": [
    {
     "data": {
      "text/plain": [
       "c1 c2 \n",
       "------\n",
       "a  100\n",
       "b  200\n",
       "c  300\n"
      ]
     },
     "execution_count": 109,
     "metadata": {},
     "output_type": "execute_result"
    }
   ],
   "source": [
    "([] c1:`a`b`c),'([] c2:100 200 300)"
   ]
  },
  {
   "cell_type": "markdown",
   "metadata": {},
   "source": [
    "When the column lists of the tables are not disjoint, the operation on the common columns has upsert semantics because each record is a dictionary."
   ]
  },
  {
   "cell_type": "code",
   "execution_count": 110,
   "metadata": {
    "ExecuteTime": {
     "end_time": "2020-11-22T23:35:32.034630000Z",
     "start_time": "2020-11-22T23:35:32.031Z"
    }
   },
   "outputs": [
    {
     "data": {
      "text/plain": [
       "c1 c2 \n",
       "------\n",
       "a  100\n",
       "b  200\n",
       "c  300\n"
      ]
     },
     "execution_count": 110,
     "metadata": {},
     "output_type": "execute_result"
    }
   ],
   "source": [
    "([] c1:`a`b`c; c2:1 2 3),'([] c2:100 200 300)"
   ]
  },
  {
   "cell_type": "markdown",
   "metadata": {},
   "source": [
    "**A sideways join on keyed tables requires that the key records conform, meaning that the key columns must have identical meta.** The columns from the right operand are aligned along common keys and appended elsewhere."
   ]
  },
  {
   "cell_type": "code",
   "execution_count": 111,
   "metadata": {
    "ExecuteTime": {
     "end_time": "2020-11-22T23:35:52.151934000Z",
     "start_time": "2020-11-22T23:35:52.149Z"
    }
   },
   "outputs": [
    {
     "data": {
      "text/plain": [
       "k| v1 v2  \n",
       "-| -------\n",
       "1| 10     \n",
       "2| 20     \n",
       "3| 30 1000\n",
       "4|    2000\n",
       "5|    3000\n"
      ]
     },
     "execution_count": 111,
     "metadata": {},
     "output_type": "execute_result"
    }
   ],
   "source": [
    "([k:1 2 3] v1:10 20 30),'([k:3 4 5] v2:1000 2000 3000)"
   ]
  },
  {
   "cell_type": "markdown",
   "metadata": {},
   "source": [
    "## Complex Column Data\n",
    "\n",
    "### Simple Example"
   ]
  },
  {
   "cell_type": "code",
   "execution_count": 112,
   "metadata": {
    "ExecuteTime": {
     "end_time": "2020-11-22T23:38:24.761619000Z",
     "start_time": "2020-11-22T23:38:24.753Z"
    }
   },
   "outputs": [
    {
     "data": {
      "text/plain": [
       "d          l    h   \n",
       "--------------------\n",
       "2015.01.01 67.9 82.1\n",
       "2015.01.02 72.8 88.4\n"
      ]
     },
     "execution_count": 112,
     "metadata": {},
     "output_type": "execute_result"
    },
    {
     "data": {
      "text/plain": [
       "d          lh       \n",
       "--------------------\n",
       "2015.01.01 67.9 82.1\n",
       "2015.01.02 72.8 88.4\n"
      ]
     },
     "execution_count": 112,
     "metadata": {},
     "output_type": "execute_result"
    }
   ],
   "source": [
    "tf:([] d:2015.01.01 2015.01.02; l:67.9 72.8; h:82.1 88.4)\n",
    "tf\n",
    "tp:([] d:2015.01.01 2015.01.02; lh:(67.9 82.1; 72.8 88.4))\n",
    "tp"
   ]
  },
  {
   "cell_type": "code",
   "execution_count": 113,
   "metadata": {
    "ExecuteTime": {
     "end_time": "2020-11-22T23:38:59.855341000Z",
     "start_time": "2020-11-22T23:38:59.847Z"
    }
   },
   "outputs": [
    {
     "data": {
      "text/plain": [
       "d | 2015.01.01\n",
       "lh| 67.9 82.1\n"
      ]
     },
     "execution_count": 113,
     "metadata": {},
     "output_type": "execute_result"
    },
    {
     "data": {
      "text/plain": [
       "67.9 82.1\n",
       "72.8 88.4\n"
      ]
     },
     "execution_count": 113,
     "metadata": {},
     "output_type": "execute_result"
    }
   ],
   "source": [
    "tp 0\n",
    "tp `lh"
   ]
  },
  {
   "cell_type": "markdown",
   "metadata": {},
   "source": [
    "### Operations on Compound Column Data\n",
    "\n",
    "The case of a nested column in which all items are simple lists of the same type is handled specially in kdb+. We call this a _compound column_. There is no requirement that the simple lists all have the same length.\n",
    "\n",
    "**Nested columns mean iterators. Lots of iterators.**"
   ]
  },
  {
   "cell_type": "code",
   "execution_count": 114,
   "metadata": {
    "ExecuteTime": {
     "end_time": "2020-11-22T23:41:06.486039000Z",
     "start_time": "2020-11-22T23:41:06.482Z"
    }
   },
   "outputs": [
    {
     "data": {
      "text/plain": [
       "wk         rv                     \n",
       "----------------------------------\n",
       "2015.01.01 38.92 67.34            \n",
       "2015.01.08 16.99 5.14 128.23 31.69\n"
      ]
     },
     "execution_count": 114,
     "metadata": {},
     "output_type": "execute_result"
    }
   ],
   "source": [
    "tm:([] wk:2015.01.01 2015.01.08; rv:(38.92 67.34; 16.99 5.14 128.23 31.69))\n",
    "tm"
   ]
  },
  {
   "cell_type": "code",
   "execution_count": 115,
   "metadata": {
    "ExecuteTime": {
     "end_time": "2020-11-22T23:43:35.397568000Z",
     "start_time": "2020-11-22T23:43:35.394Z"
    }
   },
   "outputs": [
    {
     "data": {
      "text/plain": [
       "wk         srt                     avgr    hi    \n",
       "-------------------------------------------------\n",
       "2015.01.01 67.34 38.92             53.13   67.34 \n",
       "2015.01.08 128.23 31.69 16.99 5.14 45.5125 128.23\n"
      ]
     },
     "execution_count": 115,
     "metadata": {},
     "output_type": "execute_result"
    }
   ],
   "source": [
    "select wk, srt:desc each rv, avgr:avg each rv, hi:max each rv from tm"
   ]
  },
  {
   "cell_type": "code",
   "execution_count": 119,
   "metadata": {
    "ExecuteTime": {
     "end_time": "2020-11-22T23:45:05.570197000Z",
     "start_time": "2020-11-22T23:45:05.562Z"
    }
   },
   "outputs": [
    {
     "data": {
      "text/plain": [
       "wk         drp             \n",
       "---------------------------\n",
       "2015.01.01 ,28.42          \n",
       "2015.01.08 96.54 14.7 11.85\n"
      ]
     },
     "execution_count": 119,
     "metadata": {},
     "output_type": "execute_result"
    }
   ],
   "source": [
    "select wk, drp:neg 1_'deltas each desc each rv from tm"
   ]
  },
  {
   "cell_type": "markdown",
   "metadata": {},
   "source": [
    "### Compound Foreign Key"
   ]
  },
  {
   "cell_type": "code",
   "execution_count": 120,
   "metadata": {
    "ExecuteTime": {
     "end_time": "2020-11-22T23:54:55.060299000Z",
     "start_time": "2020-11-22T23:54:55.054Z"
    }
   },
   "outputs": [],
   "source": [
    "ktc:([lname: `Dent`Beeblebrox`Prefect; fname:`Arthur`Zaphod`Ford]; \n",
    "     iq:98 42 126)\n",
    "tdetails:([] name:`ktc$(`Beeblebrox`Zaphod;`Prefect`Ford;`Beeblebrox`Zaphod); \n",
    "    sc:36 126 42)"
   ]
  },
  {
   "cell_type": "code",
   "execution_count": 121,
   "metadata": {
    "ExecuteTime": {
     "end_time": "2020-11-22T23:55:01.266650000Z",
     "start_time": "2020-11-22T23:55:01.259Z"
    }
   },
   "outputs": [
    {
     "data": {
      "text/plain": [
       "lname      iq  sc \n",
       "------------------\n",
       "Beeblebrox 42  36 \n",
       "Prefect    126 126\n",
       "Beeblebrox 42  42 \n"
      ]
     },
     "execution_count": 121,
     "metadata": {},
     "output_type": "execute_result"
    }
   ],
   "source": [
    "select name.lname, name.iq, sc from tdetails"
   ]
  },
  {
   "cell_type": "code",
   "execution_count": 122,
   "metadata": {
    "ExecuteTime": {
     "end_time": "2020-11-22T23:55:44.937373000Z",
     "start_time": "2020-11-22T23:55:44.925Z"
    }
   },
   "outputs": [
    {
     "data": {
      "text/plain": [
       "name sc\n",
       "-------\n"
      ]
     },
     "execution_count": 122,
     "metadata": {},
     "output_type": "execute_result"
    }
   ],
   "source": [
    "([] name:`ktc$();sc:`long$())"
   ]
  },
  {
   "cell_type": "code",
   "execution_count": 123,
   "metadata": {
    "ExecuteTime": {
     "end_time": "2020-11-22T23:57:39.092885000Z",
     "start_time": "2020-11-22T23:57:39.085Z"
    }
   },
   "outputs": [
    {
     "ename": "\u001b[0;31mcast\u001b[0m",
     "evalue": "\u001b[0;31mcast\u001b[0m",
     "output_type": "error",
     "traceback": [
      "\u001b[0;31mevaluation error:\n\u001b[0m",
      "\u001b[0;31mcast\u001b[0m",
      "\u001b[0;31m\u001b[0m",
      "\u001b[0;31m  [0]  tfc,:(`ktc$(1; 2015.01.01); `a) /enforced referential integrity.\n                 ^\n\u001b[0m"
     ]
    }
   ],
   "source": [
    "ktc:([k1:1 2 3; k2:2001.01.01 2001.01.02 2001.01.03] v: 1. 2. 3.)\n",
    "tfc:([] fk:`ktc$(); s:`symbol$())\n",
    "tfc,:(`ktc$(1; 2001.01.01); `a)\n",
    "tfc,:(`ktc$(1; 2015.01.01); `a) /enforced referential integrity."
   ]
  },
  {
   "cell_type": "code",
   "execution_count": 124,
   "metadata": {
    "ExecuteTime": {
     "end_time": "2020-11-22T23:57:40.682681000Z",
     "start_time": "2020-11-22T23:57:40.679Z"
    }
   },
   "outputs": [
    {
     "data": {
      "text/plain": [
       "fk s\n",
       "----\n",
       "0  a\n"
      ]
     },
     "execution_count": 124,
     "metadata": {},
     "output_type": "execute_result"
    }
   ],
   "source": [
    "tfc"
   ]
  },
  {
   "cell_type": "markdown",
   "metadata": {},
   "source": [
    "## Attributes\n",
    "\n",
    "Attributes are metadata that you attach to lists of special forms. They are also used on a dictionary domain or a table column to speed retrieval for some operations. The q interpreter can make certain optimizations based on the structure of the list implied by the attribute.\n",
    "\n",
    "Attributes (other than \\`g#) are descriptive rather than prescriptive. By this we mean that by applying an attribute you are asserting that the list has a special form, which q will check. It does **not** instruct q to (re)make the list into the special form; that is your job. A list operation that respects the form specified by the attribute leaves the attribute intact (other than \\`p#), while an operation that breaks the form results in the attribute being removed in the result.\n",
    "\n",
    "**The attribute is applied to the target list in place, not on a copy.**\n",
    "\n",
    "Kx says not to expect significant benefit from an attribute for fewer than a million items."
   ]
  },
  {
   "cell_type": "markdown",
   "metadata": {},
   "source": [
    "### Sorted \\``s#`\n",
    "\n",
    "Applying the sorted attribute \\`s# to a simple list indicates that the items of the list are sorted in ascending order; **there is no way to indicate a descending sort**. When a list has the sorted attribute, linear search is replaced with binary search, which makes certain operations faster – for example, Find `?`, Equal `=`, `in` and `within`."
   ]
  },
  {
   "cell_type": "code",
   "execution_count": 125,
   "metadata": {
    "ExecuteTime": {
     "end_time": "2020-11-23T00:04:50.490749000Z",
     "start_time": "2020-11-23T00:04:50.487Z"
    }
   },
   "outputs": [
    {
     "data": {
      "text/plain": [
       "`s#1 2 4 8\n"
      ]
     },
     "execution_count": 125,
     "metadata": {},
     "output_type": "execute_result"
    }
   ],
   "source": [
    "`s#1 2 4 8"
   ]
  },
  {
   "cell_type": "code",
   "execution_count": 125,
   "metadata": {
    "ExecuteTime": {
     "end_time": "2020-11-23T00:04:56.922220000Z",
     "start_time": "2020-11-23T00:04:56.919Z"
    }
   },
   "outputs": [
    {
     "ename": "\u001b[0;31ms-fail\u001b[0m",
     "evalue": "\u001b[0;31ms-fail\u001b[0m",
     "output_type": "error",
     "traceback": [
      "\u001b[0;31mevaluation error:\n\u001b[0m",
      "\u001b[0;31ms-fail\u001b[0m",
      "\u001b[0;31m\u001b[0m",
      "\u001b[0;31m  [0]  `s#2 1 3 4\n         ^\n\u001b[0m"
     ]
    }
   ],
   "source": [
    "`s#2 1 3 4"
   ]
  },
  {
   "cell_type": "markdown",
   "metadata": {},
   "source": [
    "The sort function `asc` automatically applies the sorted attribute to its result but `til` does not."
   ]
  },
  {
   "cell_type": "code",
   "execution_count": 126,
   "metadata": {
    "ExecuteTime": {
     "end_time": "2020-11-23T00:05:37.141273000Z",
     "start_time": "2020-11-23T00:05:37.138Z"
    }
   },
   "outputs": [
    {
     "data": {
      "text/plain": [
       "`s#1 2 4 8\n"
      ]
     },
     "execution_count": 126,
     "metadata": {},
     "output_type": "execute_result"
    },
    {
     "data": {
      "text/plain": [
       "0 1 2 3 4\n"
      ]
     },
     "execution_count": 126,
     "metadata": {},
     "output_type": "execute_result"
    }
   ],
   "source": [
    "asc 2 1 8 4\n",
    "til 5"
   ]
  },
  {
   "cell_type": "markdown",
   "metadata": {},
   "source": [
    "When a list with an attribute is amended with `,:` the result is checked to see that the attribute is preserved; if not, it is removed."
   ]
  },
  {
   "cell_type": "code",
   "execution_count": 127,
   "metadata": {
    "ExecuteTime": {
     "end_time": "2020-11-23T00:06:02.802627000Z",
     "start_time": "2020-11-23T00:06:02.793Z"
    }
   },
   "outputs": [
    {
     "data": {
      "text/plain": [
       "`s#1 2 3 4 5 6\n"
      ]
     },
     "execution_count": 127,
     "metadata": {},
     "output_type": "execute_result"
    },
    {
     "data": {
      "text/plain": [
       "1 2 3 4 5 6 0\n"
      ]
     },
     "execution_count": 127,
     "metadata": {},
     "output_type": "execute_result"
    }
   ],
   "source": [
    "L:`s#1 2 3 4 5\n",
    "L,:6\n",
    "L\n",
    "L,:0\n",
    "L"
   ]
  },
  {
   "cell_type": "markdown",
   "metadata": {},
   "source": [
    "One place to apply the sorted attribute is on the date or time column of a simple time series."
   ]
  },
  {
   "cell_type": "code",
   "execution_count": 129,
   "metadata": {
    "ExecuteTime": {
     "end_time": "2020-11-23T00:08:53.620114000Z",
     "start_time": "2020-11-23T00:08:53.612Z"
    }
   },
   "outputs": [
    {
     "data": {
      "text/plain": [
       "c | t f a\n",
       "--| -----\n",
       "ti| v   s\n",
       "v | f    \n"
      ]
     },
     "execution_count": 129,
     "metadata": {},
     "output_type": "execute_result"
    }
   ],
   "source": [
    "t:([] ti:`s#00:00:00 00:00:01 00:00:03; v:98 98 100.)\n",
    "meta t"
   ]
  },
  {
   "cell_type": "markdown",
   "metadata": {},
   "source": [
    "Applying the sorted attribute to a table unintuitively applies the parted attribute (see next section) to the first column."
   ]
  },
  {
   "cell_type": "code",
   "execution_count": 130,
   "metadata": {
    "ExecuteTime": {
     "end_time": "2020-11-23T00:09:26.065921000Z",
     "start_time": "2020-11-23T00:09:26.058Z"
    }
   },
   "outputs": [
    {
     "data": {
      "text/plain": [
       "c | t f a\n",
       "--| -----\n",
       "ti| v   p\n",
       "v | f    \n"
      ]
     },
     "execution_count": 130,
     "metadata": {},
     "output_type": "execute_result"
    }
   ],
   "source": [
    "meta `s#([] ti:00:00:00 00:00:01 00:00:03; v:98 98 100.)"
   ]
  },
  {
   "cell_type": "markdown",
   "metadata": {},
   "source": [
    "Applying the sorted attribute to a dictionary applies the attribute to the key list. Lookup is faster because binary search is used. A side effect of the way binary search is implemented is that **the mapping given by the dictionary is now a step function, meaning that values between successive key values are \"filled in.\"**"
   ]
  },
  {
   "cell_type": "code",
   "execution_count": 131,
   "metadata": {
    "ExecuteTime": {
     "end_time": "2020-11-23T00:10:39.726790000Z",
     "start_time": "2020-11-23T00:10:39.721Z"
    }
   },
   "outputs": [
    {
     "data": {
      "text/plain": [
       "`s#10 20 30 40 50\n"
      ]
     },
     "execution_count": 131,
     "metadata": {},
     "output_type": "execute_result"
    },
    {
     "data": {
      "text/plain": [
       "`a\n"
      ]
     },
     "execution_count": 131,
     "metadata": {},
     "output_type": "execute_result"
    },
    {
     "data": {
      "text/plain": [
       "`a\n"
      ]
     },
     "execution_count": 131,
     "metadata": {},
     "output_type": "execute_result"
    },
    {
     "data": {
      "text/plain": [
       "`a\n"
      ]
     },
     "execution_count": 131,
     "metadata": {},
     "output_type": "execute_result"
    },
    {
     "data": {
      "text/plain": [
       "`b\n"
      ]
     },
     "execution_count": 131,
     "metadata": {},
     "output_type": "execute_result"
    }
   ],
   "source": [
    "d:`s#10 20 30 40 50!`a`b`c`d`e\n",
    "key d\n",
    "d 10\n",
    "d 12\n",
    "d 15\n",
    "d 20"
   ]
  },
  {
   "cell_type": "markdown",
   "metadata": {},
   "source": [
    "Since a keyed table is a dictionary of tables, applying the sorted attribute to a keyed table applies to the table of keys that, in turn, applies to the initial key column."
   ]
  },
  {
   "cell_type": "code",
   "execution_count": 132,
   "metadata": {
    "ExecuteTime": {
     "end_time": "2020-11-23T00:11:28.234813000Z",
     "start_time": "2020-11-23T00:11:28.231Z"
    }
   },
   "outputs": [
    {
     "data": {
      "text/plain": [
       "c| t f a\n",
       "-| -----\n",
       "k| j   s\n",
       "v| s    \n"
      ]
     },
     "execution_count": 132,
     "metadata": {},
     "output_type": "execute_result"
    }
   ],
   "source": [
    "meta `s#([k:1 2 3 4] v:`d`c`b`a)"
   ]
  },
  {
   "cell_type": "markdown",
   "metadata": {},
   "source": [
    "### Unique \\``u#`\n",
    "\n",
    "Applying \\`u# essentially causes q to create a hash table, which uses storage and adds overhead. It is best to apply the attribute after the list has been created, if possible. If you have a column that will always have unique values and your large table does not change often, you can get a significant performance speedup with \\`u#."
   ]
  },
  {
   "cell_type": "code",
   "execution_count": 132,
   "metadata": {
    "ExecuteTime": {
     "end_time": "2020-11-23T00:12:40.861293000Z",
     "start_time": "2020-11-23T00:12:40.852Z"
    }
   },
   "outputs": [
    {
     "data": {
      "text/plain": [
       "`u#2 1 4 8\n"
      ]
     },
     "execution_count": 133,
     "metadata": {},
     "output_type": "execute_result"
    },
    {
     "ename": "\u001b[0;31mu-fail\u001b[0m",
     "evalue": "\u001b[0;31mu-fail\u001b[0m",
     "output_type": "error",
     "traceback": [
      "\u001b[0;31mevaluation error:\n\u001b[0m",
      "\u001b[0;31mu-fail\u001b[0m",
      "\u001b[0;31m\u001b[0m",
      "\u001b[0;31m  [0]  `u#2 1 4 8 2\n         ^\n\u001b[0m"
     ]
    }
   ],
   "source": [
    "`u#2 1 4 8\n",
    "`u#2 1 4 8 2"
   ]
  },
  {
   "cell_type": "code",
   "execution_count": 133,
   "metadata": {
    "ExecuteTime": {
     "end_time": "2020-11-23T00:12:55.067016000Z",
     "start_time": "2020-11-23T00:12:55.059Z"
    }
   },
   "outputs": [
    {
     "data": {
      "text/plain": [
       "`u#2 1 4 8 3\n"
      ]
     },
     "execution_count": 133,
     "metadata": {},
     "output_type": "execute_result"
    }
   ],
   "source": [
    "L:`u#2 1 4 8\n",
    "L,:3\n",
    "L"
   ]
  },
  {
   "cell_type": "code",
   "execution_count": 134,
   "metadata": {
    "ExecuteTime": {
     "end_time": "2020-11-23T00:13:01.649003000Z",
     "start_time": "2020-11-23T00:13:01.646Z"
    }
   },
   "outputs": [
    {
     "data": {
      "text/plain": [
       "2 1 4 8 3 2\n"
      ]
     },
     "execution_count": 134,
     "metadata": {},
     "output_type": "execute_result"
    }
   ],
   "source": [
    "L,:2\n",
    "L"
   ]
  },
  {
   "cell_type": "markdown",
   "metadata": {},
   "source": [
    "### Parted \\``p#`\n",
    "The parted attribute \\`p# indicates that all common occurrences of any value in a list are adjacent. Viewing the list as a map, the parted attribute says that its graph is a step function with distinct steps.\n",
    "\n",
    "Historical time-series databases for ticker symbols are usually sorted by time within symbol with the parted attribute applied to the (enumerated) symbol column. This makes queries by ticker fast and guarantees that results for a given symbol are returned in time order."
   ]
  },
  {
   "cell_type": "code",
   "execution_count": 136,
   "metadata": {
    "ExecuteTime": {
     "end_time": "2020-11-23T00:18:20.693488000Z",
     "start_time": "2020-11-23T00:18:20.686Z"
    }
   },
   "outputs": [
    {
     "data": {
      "text/plain": [
       "`p#2 2 2 1 1 4 4 4 4 3 3\n"
      ]
     },
     "execution_count": 136,
     "metadata": {},
     "output_type": "execute_result"
    }
   ],
   "source": [
    "`p#2 2 2 1 1 4 4 4 4 3 3"
   ]
  },
  {
   "cell_type": "markdown",
   "metadata": {},
   "source": [
    "Notice that the rather nasty error does not say `'p-fail`; rather it contains a `'u-fail` error."
   ]
  },
  {
   "cell_type": "code",
   "execution_count": 136,
   "metadata": {
    "ExecuteTime": {
     "end_time": "2020-11-23T00:18:32.876586000Z",
     "start_time": "2020-11-23T00:18:32.869Z"
    }
   },
   "outputs": [
    {
     "ename": "\u001b[0;31mu-fail\u001b[0m",
     "evalue": "\u001b[0;31mu-fail\u001b[0m",
     "output_type": "error",
     "traceback": [
      "\u001b[0;31mevaluation error:\n\u001b[0m",
      "\u001b[0;31mu-fail\u001b[0m",
      "\u001b[0;31m\u001b[0m",
      "\u001b[0;31m  [1]  (<q>)\n\n\u001b[0m",
      "\u001b[0;31m  [0]  `p#2 2 2 1 1 4 4 4 4 3 3 2\n         ^\n\u001b[0m"
     ]
    }
   ],
   "source": [
    "`p#2 2 2 1 1 4 4 4 4 3 3 2"
   ]
  },
  {
   "cell_type": "markdown",
   "metadata": {},
   "source": [
    "With the exception in the note above, the parted attribute is **not** preserved under any operation on the list, even if the operation preserves the property."
   ]
  },
  {
   "cell_type": "code",
   "execution_count": 137,
   "metadata": {
    "ExecuteTime": {
     "end_time": "2020-11-23T00:18:50.091330000Z",
     "start_time": "2020-11-23T00:18:50.082Z"
    }
   },
   "outputs": [
    {
     "data": {
      "text/plain": [
       "`p#1 1 2 3 3\n"
      ]
     },
     "execution_count": 137,
     "metadata": {},
     "output_type": "execute_result"
    },
    {
     "data": {
      "text/plain": [
       "1 1 2 3 3 3\n"
      ]
     },
     "execution_count": 137,
     "metadata": {},
     "output_type": "execute_result"
    }
   ],
   "source": [
    "L:`p#1 1 2 3 3\n",
    "L\n",
    "L,:3\n",
    "L"
   ]
  },
  {
   "cell_type": "markdown",
   "metadata": {},
   "source": [
    "### Grouped \\``g#`\n",
    "\n",
    "The grouped attribute \\`g# differs from other attributes in that it can be applied to any list. It causes q to create and maintain an index – essentially a hash table. Grouped can be applied to a list when no other assumptions about its structure can be made.\n",
    "\n",
    "The grouped attribute is maintained as operations are performed on the list, which can cause significant processing overhead in addition to the storage required. Best to apply it after the entire list has been created, if possible."
   ]
  },
  {
   "cell_type": "code",
   "execution_count": 140,
   "metadata": {
    "ExecuteTime": {
     "end_time": "2020-11-23T00:21:04.107081000Z",
     "start_time": "2020-11-23T00:21:04.101Z"
    }
   },
   "outputs": [
    {
     "data": {
      "text/plain": [
       "`g#1 2 3 2 3 4 3 4 5 2 3 4 5 4 3 5 6\n"
      ]
     },
     "execution_count": 140,
     "metadata": {},
     "output_type": "execute_result"
    },
    {
     "data": {
      "text/plain": [
       "`g#56 90 63 28 51 64 68 43 61 11 84 25 31 0 51 29 25 73 0 6 38 72 13 77 64 9 ..\n"
      ]
     },
     "execution_count": 140,
     "metadata": {},
     "output_type": "execute_result"
    },
    {
     "data": {
      "text/plain": [
       "`g#56 90 63 28 51 64 68 43 61 11 84 25 31 0 51 29 25 73 0 6 38 72 13 77 64 9 ..\n"
      ]
     },
     "execution_count": 140,
     "metadata": {},
     "output_type": "execute_result"
    }
   ],
   "source": [
    "`g#1 2 3 2 3 4 3 4 5 2 3 4 5 4 3 5 6\n",
    "L:`g#100?100\n",
    "L\n",
    "L,:1 1 1 1\n",
    "L"
   ]
  },
  {
   "cell_type": "markdown",
   "metadata": {},
   "source": [
    "### Remove Attribute \\``#`\n",
    "\n",
    "The operations \\`# removes any attribute that may currently be applied. For example,"
   ]
  },
  {
   "cell_type": "code",
   "execution_count": 141,
   "metadata": {
    "ExecuteTime": {
     "end_time": "2020-11-23T00:22:19.917218000Z",
     "start_time": "2020-11-23T00:22:19.912Z"
    }
   },
   "outputs": [
    {
     "data": {
      "text/plain": [
       "`s#0 1 2 3 4 5 6 7 8 9\n"
      ]
     },
     "execution_count": 141,
     "metadata": {},
     "output_type": "execute_result"
    },
    {
     "data": {
      "text/plain": [
       "0 1 2 3 4 5 6 7 8 9\n"
      ]
     },
     "execution_count": 141,
     "metadata": {},
     "output_type": "execute_result"
    }
   ],
   "source": [
    "L:`s#til 10\n",
    "L\n",
    "`#L"
   ]
  }
 ],
 "metadata": {
  "kernelspec": {
   "display_name": "Q (kdb+)",
   "language": "q",
   "name": "qpk"
  },
  "language_info": {
   "file_extension": ".q",
   "mimetype": "text/x-q",
   "name": "q",
   "version": "4.0"
  },
  "toc": {
   "base_numbering": "0",
   "nav_menu": {},
   "number_sections": true,
   "sideBar": true,
   "skip_h1_title": false,
   "title_cell": "Table of Contents",
   "title_sidebar": "Contents",
   "toc_cell": true,
   "toc_position": {},
   "toc_section_display": true,
   "toc_window_display": false
  }
 },
 "nbformat": 4,
 "nbformat_minor": 4
}
