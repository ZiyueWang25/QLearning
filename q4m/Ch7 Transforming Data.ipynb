{
 "cells": [
  {
   "cell_type": "markdown",
   "metadata": {
    "toc": true
   },
   "source": [
    "<h1>Table of Contents<span class=\"tocSkip\"></span></h1>\n",
    "<div class=\"toc\"><ul class=\"toc-item\"><li><span><a href=\"#Types\" data-toc-modified-id=\"Types-1\"><span class=\"toc-item-num\">1&nbsp;&nbsp;</span>Types</a></span><ul class=\"toc-item\"><li><span><a href=\"#Basic-Data-Types\" data-toc-modified-id=\"Basic-Data-Types-1.1\"><span class=\"toc-item-num\">1.1&nbsp;&nbsp;</span>Basic Data Types</a></span></li><li><span><a href=\"#The-type-Operator\" data-toc-modified-id=\"The-type-Operator-1.2\"><span class=\"toc-item-num\">1.2&nbsp;&nbsp;</span>The <code>type</code> Operator</a></span></li><li><span><a href=\"#Type-of-a-Variable\" data-toc-modified-id=\"Type-of-a-Variable-1.3\"><span class=\"toc-item-num\">1.3&nbsp;&nbsp;</span>Type of a Variable</a></span></li></ul></li><li><span><a href=\"#Cast\" data-toc-modified-id=\"Cast-2\"><span class=\"toc-item-num\">2&nbsp;&nbsp;</span>Cast</a></span><ul class=\"toc-item\"><li><span><a href=\"#Casts-that-Widen\" data-toc-modified-id=\"Casts-that-Widen-2.1\"><span class=\"toc-item-num\">2.1&nbsp;&nbsp;</span>Casts that Widen</a></span></li><li><span><a href=\"#Casts-across-Disparate-Types\" data-toc-modified-id=\"Casts-across-Disparate-Types-2.2\"><span class=\"toc-item-num\">2.2&nbsp;&nbsp;</span>Casts across Disparate Types</a></span></li><li><span><a href=\"#Casts-that-Narrow\" data-toc-modified-id=\"Casts-that-Narrow-2.3\"><span class=\"toc-item-num\">2.3&nbsp;&nbsp;</span>Casts that Narrow</a></span></li><li><span><a href=\"#Casting-Integral-Infinities\" data-toc-modified-id=\"Casting-Integral-Infinities-2.4\"><span class=\"toc-item-num\">2.4&nbsp;&nbsp;</span>Casting Integral Infinities</a></span></li><li><span><a href=\"#Coercing-Types\" data-toc-modified-id=\"Coercing-Types-2.5\"><span class=\"toc-item-num\">2.5&nbsp;&nbsp;</span>Coercing Types</a></span></li><li><span><a href=\"#Cast-is-Atomic\" data-toc-modified-id=\"Cast-is-Atomic-2.6\"><span class=\"toc-item-num\">2.6&nbsp;&nbsp;</span>Cast is Atomic</a></span></li></ul></li><li><span><a href=\"#Data-to-and-from-Text\" data-toc-modified-id=\"Data-to-and-from-Text-3\"><span class=\"toc-item-num\">3&nbsp;&nbsp;</span>Data to and from Text</a></span><ul class=\"toc-item\"><li><span><a href=\"#Data-to-Strings\" data-toc-modified-id=\"Data-to-Strings-3.1\"><span class=\"toc-item-num\">3.1&nbsp;&nbsp;</span>Data to Strings</a></span></li><li><span><a href=\"#Creating-Symbols-from-Strings\" data-toc-modified-id=\"Creating-Symbols-from-Strings-3.2\"><span class=\"toc-item-num\">3.2&nbsp;&nbsp;</span>Creating Symbols from Strings</a></span></li><li><span><a href=\"#Parsing-Data-from-Strings\" data-toc-modified-id=\"Parsing-Data-from-Strings-3.3\"><span class=\"toc-item-num\">3.3&nbsp;&nbsp;</span>Parsing Data from Strings</a></span></li></ul></li><li><span><a href=\"#Creating-Typed-Empty-Lists\" data-toc-modified-id=\"Creating-Typed-Empty-Lists-4\"><span class=\"toc-item-num\">4&nbsp;&nbsp;</span>Creating Typed Empty Lists</a></span></li><li><span><a href=\"#Enumerations\" data-toc-modified-id=\"Enumerations-5\"><span class=\"toc-item-num\">5&nbsp;&nbsp;</span>Enumerations</a></span><ul class=\"toc-item\"><li><span><a href=\"#Traditional-Enumerations\" data-toc-modified-id=\"Traditional-Enumerations-5.1\"><span class=\"toc-item-num\">5.1&nbsp;&nbsp;</span>Traditional Enumerations</a></span></li><li><span><a href=\"#Data-Normalization\" data-toc-modified-id=\"Data-Normalization-5.2\"><span class=\"toc-item-num\">5.2&nbsp;&nbsp;</span>Data Normalization</a></span></li><li><span><a href=\"#Enumerating-Symbols\" data-toc-modified-id=\"Enumerating-Symbols-5.3\"><span class=\"toc-item-num\">5.3&nbsp;&nbsp;</span>Enumerating Symbols</a></span></li><li><span><a href=\"#Using-Enumerated-Synbols\" data-toc-modified-id=\"Using-Enumerated-Synbols-5.4\"><span class=\"toc-item-num\">5.4&nbsp;&nbsp;</span>Using Enumerated Synbols</a></span></li><li><span><a href=\"#Types-of-Enumerations\" data-toc-modified-id=\"Types-of-Enumerations-5.5\"><span class=\"toc-item-num\">5.5&nbsp;&nbsp;</span>Types of Enumerations</a></span></li><li><span><a href=\"#Updating-an-Enumerated-List\" data-toc-modified-id=\"Updating-an-Enumerated-List-5.6\"><span class=\"toc-item-num\">5.6&nbsp;&nbsp;</span>Updating an Enumerated List</a></span></li><li><span><a href=\"#Dynamically-Appending-to-an-Enumeration-Domain\" data-toc-modified-id=\"Dynamically-Appending-to-an-Enumeration-Domain-5.7\"><span class=\"toc-item-num\">5.7&nbsp;&nbsp;</span>Dynamically Appending to an Enumeration Domain</a></span></li><li><span><a href=\"#Resolving-an-Enumeration\" data-toc-modified-id=\"Resolving-an-Enumeration-5.8\"><span class=\"toc-item-num\">5.8&nbsp;&nbsp;</span>Resolving an Enumeration</a></span></li></ul></li></ul></div>"
   ]
  },
  {
   "cell_type": "markdown",
   "metadata": {},
   "source": [
    "## Types"
   ]
  },
  {
   "cell_type": "markdown",
   "metadata": {},
   "source": [
    "### Basic Data Types"
   ]
  },
  {
   "cell_type": "markdown",
   "metadata": {},
   "source": [
    "![](../data/pic/ch7.png)"
   ]
  },
  {
   "cell_type": "markdown",
   "metadata": {},
   "source": [
    "### The `type` Operator"
   ]
  },
  {
   "cell_type": "markdown",
   "metadata": {},
   "source": [
    "The **non-atomic** unary function (`type`) can be applied to any entity in q to return its data type expressed as a short. **It is a \"feature\" of q that the data type of an atom is negative whereas the type of a simple list is positive.**"
   ]
  },
  {
   "cell_type": "code",
   "execution_count": 1,
   "metadata": {
    "ExecuteTime": {
     "end_time": "2020-11-21T15:14:06.611485000Z",
     "start_time": "2020-11-21T15:14:06.605Z"
    }
   },
   "outputs": [
    {
     "data": {
      "text/plain": [
       "-7h\n"
      ]
     },
     "execution_count": 1,
     "metadata": {},
     "output_type": "execute_result"
    },
    {
     "data": {
      "text/plain": [
       "7h\n"
      ]
     },
     "execution_count": 1,
     "metadata": {},
     "output_type": "execute_result"
    },
    {
     "data": {
      "text/plain": [
       "-9h\n"
      ]
     },
     "execution_count": 1,
     "metadata": {},
     "output_type": "execute_result"
    },
    {
     "data": {
      "text/plain": [
       "9h\n"
      ]
     },
     "execution_count": 1,
     "metadata": {},
     "output_type": "execute_result"
    },
    {
     "data": {
      "text/plain": [
       "-11h\n"
      ]
     },
     "execution_count": 1,
     "metadata": {},
     "output_type": "execute_result"
    },
    {
     "data": {
      "text/plain": [
       "11h\n"
      ]
     },
     "execution_count": 1,
     "metadata": {},
     "output_type": "execute_result"
    },
    {
     "data": {
      "text/plain": [
       "-10h\n"
      ]
     },
     "execution_count": 1,
     "metadata": {},
     "output_type": "execute_result"
    },
    {
     "data": {
      "text/plain": [
       "10h\n"
      ]
     },
     "execution_count": 1,
     "metadata": {},
     "output_type": "execute_result"
    }
   ],
   "source": [
    "type 42\n",
    "type 10 20 30\n",
    "type 98.6\n",
    "type 1.1 2.2 3.3\n",
    "type `a\n",
    "type `a`b`c\n",
    "type \"z\"\n",
    "type \"abc\""
   ]
  },
  {
   "cell_type": "markdown",
   "metadata": {},
   "source": [
    "Observe that infinities and nulls have their respective types."
   ]
  },
  {
   "cell_type": "code",
   "execution_count": 2,
   "metadata": {
    "ExecuteTime": {
     "end_time": "2020-11-21T15:14:38.633891000Z",
     "start_time": "2020-11-21T15:14:38.619Z"
    }
   },
   "outputs": [
    {
     "data": {
      "text/plain": [
       "-7h\n"
      ]
     },
     "execution_count": 2,
     "metadata": {},
     "output_type": "execute_result"
    },
    {
     "data": {
      "text/plain": [
       "-7h\n"
      ]
     },
     "execution_count": 2,
     "metadata": {},
     "output_type": "execute_result"
    },
    {
     "data": {
      "text/plain": [
       "-9h\n"
      ]
     },
     "execution_count": 2,
     "metadata": {},
     "output_type": "execute_result"
    },
    {
     "data": {
      "text/plain": [
       "-9h\n"
      ]
     },
     "execution_count": 2,
     "metadata": {},
     "output_type": "execute_result"
    },
    {
     "data": {
      "text/plain": [
       "-11h\n"
      ]
     },
     "execution_count": 2,
     "metadata": {},
     "output_type": "execute_result"
    }
   ],
   "source": [
    "type 0W\n",
    "type 0N\n",
    "type -0w\n",
    "type 0n\n",
    "type `"
   ]
  },
  {
   "cell_type": "markdown",
   "metadata": {},
   "source": [
    "The type of any general list is `0h`."
   ]
  },
  {
   "cell_type": "code",
   "execution_count": 3,
   "metadata": {
    "ExecuteTime": {
     "end_time": "2020-11-21T15:18:09.488345000Z",
     "start_time": "2020-11-21T15:18:09.478Z"
    }
   },
   "outputs": [
    {
     "data": {
      "text/plain": [
       "0h\n"
      ]
     },
     "execution_count": 3,
     "metadata": {},
     "output_type": "execute_result"
    },
    {
     "data": {
      "text/plain": [
       "0h\n"
      ]
     },
     "execution_count": 3,
     "metadata": {},
     "output_type": "execute_result"
    },
    {
     "data": {
      "text/plain": [
       "0h\n"
      ]
     },
     "execution_count": 3,
     "metadata": {},
     "output_type": "execute_result"
    }
   ],
   "source": [
    "type (42h; 42i; 42j)\n",
    "type (1 2 3; 10 20 30)\n",
    "type ()"
   ]
  },
  {
   "cell_type": "markdown",
   "metadata": {},
   "source": [
    "The type of any dictionary, including a keyed table, is `99h`."
   ]
  },
  {
   "cell_type": "code",
   "execution_count": 4,
   "metadata": {
    "ExecuteTime": {
     "end_time": "2020-11-21T15:18:47.434986000Z",
     "start_time": "2020-11-21T15:18:47.423Z"
    }
   },
   "outputs": [
    {
     "data": {
      "text/plain": [
       "99h\n"
      ]
     },
     "execution_count": 4,
     "metadata": {},
     "output_type": "execute_result"
    },
    {
     "data": {
      "text/plain": [
       "99h\n"
      ]
     },
     "execution_count": 4,
     "metadata": {},
     "output_type": "execute_result"
    }
   ],
   "source": [
    "type (`a`b`c!10 20 30)\n",
    "type ([k:`a`b`c] v:10 20 30)"
   ]
  },
  {
   "cell_type": "markdown",
   "metadata": {},
   "source": [
    "The type of any table is `98h`."
   ]
  },
  {
   "cell_type": "code",
   "execution_count": 5,
   "metadata": {
    "ExecuteTime": {
     "end_time": "2020-11-21T15:19:06.350013000Z",
     "start_time": "2020-11-21T15:19:06.338Z"
    }
   },
   "outputs": [
    {
     "data": {
      "text/plain": [
       "98h\n"
      ]
     },
     "execution_count": 5,
     "metadata": {},
     "output_type": "execute_result"
    }
   ],
   "source": [
    "type ([] c1:`a`b`c; c2:10 20 30)"
   ]
  },
  {
   "cell_type": "markdown",
   "metadata": {},
   "source": [
    "### Type of a Variable"
   ]
  },
  {
   "cell_type": "code",
   "execution_count": 6,
   "metadata": {
    "ExecuteTime": {
     "end_time": "2020-11-21T15:19:25.829241000Z",
     "start_time": "2020-11-21T15:19:25.821Z"
    }
   },
   "outputs": [
    {
     "data": {
      "text/plain": [
       "-7h\n"
      ]
     },
     "execution_count": 6,
     "metadata": {},
     "output_type": "execute_result"
    }
   ],
   "source": [
    "a:42\n",
    "type a"
   ]
  },
  {
   "cell_type": "code",
   "execution_count": 7,
   "metadata": {
    "ExecuteTime": {
     "end_time": "2020-11-21T15:19:32.356955000Z",
     "start_time": "2020-11-21T15:19:32.348Z"
    }
   },
   "outputs": [
    {
     "data": {
      "text/plain": [
       "10h\n"
      ]
     },
     "execution_count": 7,
     "metadata": {},
     "output_type": "execute_result"
    }
   ],
   "source": [
    "a: \"abc\"\n",
    "type a"
   ]
  },
  {
   "cell_type": "code",
   "execution_count": 8,
   "metadata": {
    "ExecuteTime": {
     "end_time": "2020-11-21T15:20:10.896243000Z",
     "start_time": "2020-11-21T15:20:10.888Z"
    }
   },
   "outputs": [
    {
     "data": {
      "text/plain": [
       "help | {[gh;h;x]if[10=type u:gh[h]x;-2 u]}[{[h;x]$[i.isf x;h x;i.isw x;h x`.;..\n",
       "print| {x y;}[{[f;x]embedPy[f;x]}[foreign]enlist]\n",
       "a    | \"abc\"\n"
      ]
     },
     "execution_count": 8,
     "metadata": {},
     "output_type": "execute_result"
    }
   ],
   "source": [
    "get `."
   ]
  },
  {
   "cell_type": "markdown",
   "metadata": {},
   "source": [
    "The type of a variable **is** the type of the value associated with the variable's name."
   ]
  },
  {
   "cell_type": "code",
   "execution_count": 9,
   "metadata": {
    "ExecuteTime": {
     "end_time": "2020-11-21T15:21:10.562538000Z",
     "start_time": "2020-11-21T15:21:10.558Z"
    }
   },
   "outputs": [
    {
     "data": {
      "text/plain": [
       "help | {[gh;h;x]if[10=type u:gh[h]x;-2 u]}[{[h;x]$[i.isf x;h x;i.isw x;h x`.;..\n",
       "print| {x y;}[{[f;x]embedPy[f;x]}[foreign]enlist]\n",
       "a    | \"abc\"\n"
      ]
     },
     "execution_count": 9,
     "metadata": {},
     "output_type": "execute_result"
    }
   ],
   "source": [
    "value `."
   ]
  },
  {
   "cell_type": "markdown",
   "metadata": {},
   "source": [
    "## Cast"
   ]
  },
  {
   "cell_type": "markdown",
   "metadata": {},
   "source": [
    "Since q is dynamically typed, casting occurs at run-time using the binary operator `$` , which is atomic in both operands. The right operand is the source value and the left operand specifies the target type. There are three ways to specify the target type, indicated by the first three columns of the type table at the beginning of this chapter.\n",
    "\n",
    "- A (positive) numeric short type value\n",
    "- A char type value\n",
    "- A type name symbol"
   ]
  },
  {
   "cell_type": "markdown",
   "metadata": {},
   "source": [
    "### Casts that Widen"
   ]
  },
  {
   "cell_type": "markdown",
   "metadata": {},
   "source": [
    "using the short type specification in the target."
   ]
  },
  {
   "cell_type": "code",
   "execution_count": 10,
   "metadata": {
    "ExecuteTime": {
     "end_time": "2020-11-21T15:26:35.262468000Z",
     "start_time": "2020-11-21T15:26:35.258Z"
    }
   },
   "outputs": [
    {
     "data": {
      "text/plain": [
       "42\n"
      ]
     },
     "execution_count": 10,
     "metadata": {},
     "output_type": "execute_result"
    },
    {
     "data": {
      "text/plain": [
       "42i\n"
      ]
     },
     "execution_count": 10,
     "metadata": {},
     "output_type": "execute_result"
    },
    {
     "data": {
      "text/plain": [
       "42f\n"
      ]
     },
     "execution_count": 10,
     "metadata": {},
     "output_type": "execute_result"
    }
   ],
   "source": [
    "7h$42i / int to long\n",
    "6h$42 / long to int\n",
    "9h$42 / long to float"
   ]
  },
  {
   "cell_type": "markdown",
   "metadata": {},
   "source": [
    "It is arguably more readable to use the type char."
   ]
  },
  {
   "cell_type": "code",
   "execution_count": 11,
   "metadata": {
    "ExecuteTime": {
     "end_time": "2020-11-21T15:27:12.967502000Z",
     "start_time": "2020-11-21T15:27:12.956Z"
    }
   },
   "outputs": [
    {
     "data": {
      "text/plain": [
       "42\n"
      ]
     },
     "execution_count": 11,
     "metadata": {},
     "output_type": "execute_result"
    },
    {
     "data": {
      "text/plain": [
       "42i\n"
      ]
     },
     "execution_count": 11,
     "metadata": {},
     "output_type": "execute_result"
    },
    {
     "data": {
      "text/plain": [
       "42f\n"
      ]
     },
     "execution_count": 11,
     "metadata": {},
     "output_type": "execute_result"
    }
   ],
   "source": [
    "\"j\"$42i\n",
    "\"i\"$42\n",
    "\"f\"$42"
   ]
  },
  {
   "cell_type": "markdown",
   "metadata": {},
   "source": [
    "It is arguably most readable to use the symbolic type name."
   ]
  },
  {
   "cell_type": "code",
   "execution_count": 12,
   "metadata": {
    "ExecuteTime": {
     "end_time": "2020-11-21T15:27:38.752000000Z",
     "start_time": "2020-11-21T15:27:38.742Z"
    }
   },
   "outputs": [
    {
     "data": {
      "text/plain": [
       "42i\n"
      ]
     },
     "execution_count": 12,
     "metadata": {},
     "output_type": "execute_result"
    },
    {
     "data": {
      "text/plain": [
       "42\n"
      ]
     },
     "execution_count": 12,
     "metadata": {},
     "output_type": "execute_result"
    },
    {
     "data": {
      "text/plain": [
       "42f\n"
      ]
     },
     "execution_count": 12,
     "metadata": {},
     "output_type": "execute_result"
    }
   ],
   "source": [
    "`int$42\n",
    "`long$42i\n",
    "`float$42"
   ]
  },
  {
   "cell_type": "markdown",
   "metadata": {},
   "source": [
    "### Casts across Disparate Types"
   ]
  },
  {
   "cell_type": "markdown",
   "metadata": {},
   "source": [
    "The underlying value of a char is its position in the ASCII collation sequence, so we can cast char to and from integers, provided the integer is less than 256."
   ]
  },
  {
   "cell_type": "code",
   "execution_count": 14,
   "metadata": {
    "ExecuteTime": {
     "end_time": "2020-11-21T15:28:23.209248000Z",
     "start_time": "2020-11-21T15:28:23.205Z"
    }
   },
   "outputs": [
    {
     "data": {
      "text/plain": [
       "\"*\"\n"
      ]
     },
     "execution_count": 14,
     "metadata": {},
     "output_type": "execute_result"
    },
    {
     "data": {
      "text/plain": [
       "10\n"
      ]
     },
     "execution_count": 14,
     "metadata": {},
     "output_type": "execute_result"
    },
    {
     "data": {
      "text/plain": [
       "10h\n"
      ]
     },
     "execution_count": 14,
     "metadata": {},
     "output_type": "execute_result"
    }
   ],
   "source": [
    "`char$42\n",
    "`long$\"\\n\"\n",
    "`short$\"\\n\""
   ]
  },
  {
   "cell_type": "code",
   "execution_count": 15,
   "metadata": {
    "ExecuteTime": {
     "end_time": "2020-11-21T15:28:37.732969000Z",
     "start_time": "2020-11-21T15:28:37.722Z"
    }
   },
   "outputs": [
    {
     "data": {
      "text/plain": [
       "2000.01.01\n"
      ]
     },
     "execution_count": 15,
     "metadata": {},
     "output_type": "execute_result"
    },
    {
     "data": {
      "text/plain": [
       "366i\n"
      ]
     },
     "execution_count": 15,
     "metadata": {},
     "output_type": "execute_result"
    }
   ],
   "source": [
    "`date$0\n",
    "`int$2001.01.01 / millennium occurred on leap year"
   ]
  },
  {
   "cell_type": "code",
   "execution_count": 16,
   "metadata": {
    "ExecuteTime": {
     "end_time": "2020-11-21T15:28:55.578794000Z",
     "start_time": "2020-11-21T15:28:55.566Z"
    }
   },
   "outputs": [
    {
     "data": {
      "text/plain": [
       "43200000000000\n"
      ]
     },
     "execution_count": 16,
     "metadata": {},
     "output_type": "execute_result"
    },
    {
     "data": {
      "text/plain": [
       "0D00:00:00.000000000\n"
      ]
     },
     "execution_count": 16,
     "metadata": {},
     "output_type": "execute_result"
    }
   ],
   "source": [
    "`long$12:00:00.0000000000\n",
    "`timespan$0"
   ]
  },
  {
   "cell_type": "markdown",
   "metadata": {},
   "source": [
    "### Casts that Narrow"
   ]
  },
  {
   "cell_type": "code",
   "execution_count": 17,
   "metadata": {
    "ExecuteTime": {
     "end_time": "2020-11-21T15:29:18.640286000Z",
     "start_time": "2020-11-21T15:29:18.631Z"
    }
   },
   "outputs": [
    {
     "data": {
      "text/plain": [
       "12\n"
      ]
     },
     "execution_count": 17,
     "metadata": {},
     "output_type": "execute_result"
    },
    {
     "data": {
      "text/plain": [
       "32767h\n"
      ]
     },
     "execution_count": 17,
     "metadata": {},
     "output_type": "execute_result"
    }
   ],
   "source": [
    "`long$12.345\n",
    "`short$123456789"
   ]
  },
  {
   "cell_type": "code",
   "execution_count": 18,
   "metadata": {
    "ExecuteTime": {
     "end_time": "2020-11-21T15:29:39.602235000Z",
     "start_time": "2020-11-21T15:29:39.596Z"
    }
   },
   "outputs": [
    {
     "data": {
      "text/plain": [
       "0b\n"
      ]
     },
     "execution_count": 18,
     "metadata": {},
     "output_type": "execute_result"
    },
    {
     "data": {
      "text/plain": [
       "0b\n"
      ]
     },
     "execution_count": 18,
     "metadata": {},
     "output_type": "execute_result"
    },
    {
     "data": {
      "text/plain": [
       "1b\n"
      ]
     },
     "execution_count": 18,
     "metadata": {},
     "output_type": "execute_result"
    },
    {
     "data": {
      "text/plain": [
       "1b\n"
      ]
     },
     "execution_count": 18,
     "metadata": {},
     "output_type": "execute_result"
    }
   ],
   "source": [
    "`boolean$0\n",
    "`boolean$0.0\n",
    "`boolean$123\n",
    "`boolean$-12.345"
   ]
  },
  {
   "cell_type": "markdown",
   "metadata": {},
   "source": [
    "Extract constituents from complex types."
   ]
  },
  {
   "cell_type": "code",
   "execution_count": 20,
   "metadata": {
    "ExecuteTime": {
     "end_time": "2020-11-21T15:30:55.473852000Z",
     "start_time": "2020-11-21T15:30:55.464Z"
    }
   },
   "outputs": [
    {
     "data": {
      "text/plain": [
       "2015.01.02\n"
      ]
     },
     "execution_count": 20,
     "metadata": {},
     "output_type": "execute_result"
    },
    {
     "data": {
      "text/plain": [
       "2015i\n"
      ]
     },
     "execution_count": 20,
     "metadata": {},
     "output_type": "execute_result"
    },
    {
     "data": {
      "text/plain": [
       "2015.01m\n"
      ]
     },
     "execution_count": 20,
     "metadata": {},
     "output_type": "execute_result"
    },
    {
     "data": {
      "text/plain": [
       "1i\n"
      ]
     },
     "execution_count": 20,
     "metadata": {},
     "output_type": "execute_result"
    },
    {
     "data": {
      "text/plain": [
       "2i\n"
      ]
     },
     "execution_count": 20,
     "metadata": {},
     "output_type": "execute_result"
    },
    {
     "data": {
      "text/plain": [
       "10i\n"
      ]
     },
     "execution_count": 20,
     "metadata": {},
     "output_type": "execute_result"
    },
    {
     "data": {
      "text/plain": [
       "10:20\n"
      ]
     },
     "execution_count": 20,
     "metadata": {},
     "output_type": "execute_result"
    },
    {
     "data": {
      "text/plain": [
       "20i\n"
      ]
     },
     "execution_count": 20,
     "metadata": {},
     "output_type": "execute_result"
    },
    {
     "data": {
      "text/plain": [
       "10:20:30\n"
      ]
     },
     "execution_count": 20,
     "metadata": {},
     "output_type": "execute_result"
    },
    {
     "data": {
      "text/plain": [
       "30i\n"
      ]
     },
     "execution_count": 20,
     "metadata": {},
     "output_type": "execute_result"
    }
   ],
   "source": [
    "`date$2015.01.02D10:20:30.123456789\n",
    "`year$2015.01.02\n",
    "`month$2015.01.02\n",
    "`mm$2015.01.02\n",
    "`dd$2015.01.02\n",
    "`hh$10:20:30.123456789\n",
    "`minute$10:20:30.123456789\n",
    "`uu$10:20:30.123456789\n",
    "`second$10:20:30.123456789\n",
    "`ss$10:20:30.123456789"
   ]
  },
  {
   "cell_type": "markdown",
   "metadata": {},
   "source": [
    "**This is to be preferred over dot notation since the latter does not work inside functions.**"
   ]
  },
  {
   "cell_type": "markdown",
   "metadata": {},
   "source": [
    "### Casting Integral Infinities\n",
    "\n",
    "When integral infinities are cast to integers of wider type, they **are** their underlying bit patterns, reinterpreted. Since these bit patterns are legitimate values for the wider type, the cast results in a finite value."
   ]
  },
  {
   "cell_type": "code",
   "execution_count": 21,
   "metadata": {
    "ExecuteTime": {
     "end_time": "2020-11-21T15:33:02.923432000Z",
     "start_time": "2020-11-21T15:33:02.911Z"
    }
   },
   "outputs": [
    {
     "data": {
      "text/plain": [
       "32767i\n"
      ]
     },
     "execution_count": 21,
     "metadata": {},
     "output_type": "execute_result"
    },
    {
     "data": {
      "text/plain": [
       "-32767i\n"
      ]
     },
     "execution_count": 21,
     "metadata": {},
     "output_type": "execute_result"
    },
    {
     "data": {
      "text/plain": [
       "2147483647\n"
      ]
     },
     "execution_count": 21,
     "metadata": {},
     "output_type": "execute_result"
    },
    {
     "data": {
      "text/plain": [
       "-2147483647\n"
      ]
     },
     "execution_count": 21,
     "metadata": {},
     "output_type": "execute_result"
    }
   ],
   "source": [
    "`int$0Wh\n",
    "`int$-0Wh\n",
    "`long$0Wi\n",
    "`long$-0Wi"
   ]
  },
  {
   "cell_type": "markdown",
   "metadata": {
    "ExecuteTime": {
     "end_time": "2020-11-21T15:33:21.871120000Z",
     "start_time": "2020-11-21T15:33:21.867Z"
    }
   },
   "source": [
    "### Coercing Types"
   ]
  },
  {
   "cell_type": "markdown",
   "metadata": {},
   "source": [
    "Casting can be used to coerce type-safe assignment. Recall that assignment into a simple list must strictly match the type."
   ]
  },
  {
   "cell_type": "code",
   "execution_count": 24,
   "metadata": {
    "ExecuteTime": {
     "end_time": "2020-11-21T15:35:01.010929000Z",
     "start_time": "2020-11-21T15:35:01.000Z"
    }
   },
   "outputs": [
    {
     "ename": "\u001b[0;31mtype\u001b[0m",
     "evalue": "\u001b[0;31mtype\u001b[0m",
     "output_type": "error",
     "traceback": [
      "\u001b[0;31mevaluation error:\n\u001b[0m",
      "\u001b[0;31mtype\u001b[0m",
      "\u001b[0;31m\u001b[0m",
      "\u001b[0;31m  [0]  L[1]:42h\n           ^\n\u001b[0m"
     ]
    }
   ],
   "source": [
    "L:10 20 30 40\n",
    "L[1]:42h\n",
    "L,:43h"
   ]
  },
  {
   "cell_type": "markdown",
   "metadata": {},
   "source": [
    "This situation can arise when the list and **the assignment value are created dynamically**. Coerce the type by casting it to that of the target, provided of course that the cast is legitimate.\n",
    "\n",
    "**The type of a simple list is positive to make this construct work.**"
   ]
  },
  {
   "cell_type": "code",
   "execution_count": 25,
   "metadata": {
    "ExecuteTime": {
     "end_time": "2020-11-21T15:44:29.734753000Z",
     "start_time": "2020-11-21T15:44:29.726Z"
    }
   },
   "outputs": [
    {
     "data": {
      "text/plain": [
       "10 42 30 40 43\n"
      ]
     },
     "execution_count": 25,
     "metadata": {},
     "output_type": "execute_result"
    }
   ],
   "source": [
    "L[1]:(type L)$42h\n",
    "L,:(type L)$43h\n",
    "L"
   ]
  },
  {
   "cell_type": "markdown",
   "metadata": {},
   "source": [
    "### Cast is Atomic"
   ]
  },
  {
   "cell_type": "markdown",
   "metadata": {},
   "source": [
    "Cast is atomic in the right operand."
   ]
  },
  {
   "cell_type": "code",
   "execution_count": 26,
   "metadata": {
    "ExecuteTime": {
     "end_time": "2020-11-21T15:48:31.454905000Z",
     "start_time": "2020-11-21T15:48:31.445Z"
    }
   },
   "outputs": [
    {
     "data": {
      "text/plain": [
       "10 20 30i\n"
      ]
     },
     "execution_count": 26,
     "metadata": {},
     "output_type": "execute_result"
    },
    {
     "data": {
      "text/plain": [
       "42 42 42f\n"
      ]
     },
     "execution_count": 26,
     "metadata": {},
     "output_type": "execute_result"
    }
   ],
   "source": [
    "\"i\"$10 20 30\n",
    "`float$(42j; 42i; 42j)"
   ]
  },
  {
   "cell_type": "markdown",
   "metadata": {},
   "source": [
    "Cast is atomic in the left operand."
   ]
  },
  {
   "cell_type": "code",
   "execution_count": 1,
   "metadata": {
    "ExecuteTime": {
     "end_time": "2021-02-09T13:47:17.105205000Z",
     "start_time": "2021-02-09T13:47:17.097Z"
    }
   },
   "outputs": [
    {
     "data": {
      "text/plain": [
       "42h\n",
       "42i\n",
       "42\n"
      ]
     },
     "execution_count": 1,
     "metadata": {},
     "output_type": "execute_result"
    },
    {
     "data": {
      "text/plain": [
       "99i\n",
       "99\n",
       "98.6\n"
      ]
     },
     "execution_count": 1,
     "metadata": {},
     "output_type": "execute_result"
    }
   ],
   "source": [
    "`short`int`long$42\n",
    "\"ijf\"$98.6"
   ]
  },
  {
   "cell_type": "markdown",
   "metadata": {},
   "source": [
    "Cast is atomic in both operands simultaneously."
   ]
  },
  {
   "cell_type": "code",
   "execution_count": 27,
   "metadata": {
    "ExecuteTime": {
     "end_time": "2020-11-21T15:49:04.375854000Z",
     "start_time": "2020-11-21T15:49:04.368Z"
    }
   },
   "outputs": [
    {
     "data": {
      "text/plain": [
       "10i\n",
       "20\n",
       "30f\n"
      ]
     },
     "execution_count": 27,
     "metadata": {},
     "output_type": "execute_result"
    }
   ],
   "source": [
    "\"ijf\"$10 20 30"
   ]
  },
  {
   "cell_type": "markdown",
   "metadata": {},
   "source": [
    "## Data to and from Text"
   ]
  },
  {
   "cell_type": "markdown",
   "metadata": {},
   "source": [
    "### Data to Strings"
   ]
  },
  {
   "cell_type": "markdown",
   "metadata": {},
   "source": [
    "The function `string` can be applied to any q entity to produce a text representation suitable for console display or storage in a file. Here are the key features of `string`.\n",
    "- The result is always a list of char, never a single char. Thus you will see singleton char lists from single digits\n",
    "- The result contains no q type indicators or other decorations. **In general, the result is the most compact representation of the input, which may not actually be convertible (i.e., parsed) back to the original value.**\n",
    "- Applying `string` to an actual string (i.e., list of char) probably will not give you what you want."
   ]
  },
  {
   "cell_type": "code",
   "execution_count": 28,
   "metadata": {
    "ExecuteTime": {
     "end_time": "2020-11-21T15:53:30.992380000Z",
     "start_time": "2020-11-21T15:53:30.989Z"
    }
   },
   "outputs": [
    {
     "data": {
      "text/plain": [
       "\"42\"\n"
      ]
     },
     "execution_count": 28,
     "metadata": {},
     "output_type": "execute_result"
    },
    {
     "data": {
      "text/plain": [
       ",\"4\"\n"
      ]
     },
     "execution_count": 28,
     "metadata": {},
     "output_type": "execute_result"
    },
    {
     "data": {
      "text/plain": [
       "\"42\"\n"
      ]
     },
     "execution_count": 28,
     "metadata": {},
     "output_type": "execute_result"
    },
    {
     "data": {
      "text/plain": [
       ",\"2\"\n"
      ]
     },
     "execution_count": 28,
     "metadata": {},
     "output_type": "execute_result"
    },
    {
     "data": {
      "text/plain": [
       "\"{x*x}\"\n"
      ]
     },
     "execution_count": 28,
     "metadata": {},
     "output_type": "execute_result"
    }
   ],
   "source": [
    "string 42\n",
    "string 4\n",
    "string 42i\n",
    "a:2.0\n",
    "string a\n",
    "f:{x*x}\n",
    "string f"
   ]
  },
  {
   "cell_type": "markdown",
   "metadata": {},
   "source": [
    "The `string` function is clearly not atomic – for example, it takes the atom `42` to the list `\"42\"`. However, it is pseudo-atomic, in that it recurses into its argument and applies to the individual atoms. As such, the result conforms to the input, which explains its behavior on strings.\n",
    "\n",
    "\n"
   ]
  },
  {
   "cell_type": "code",
   "execution_count": 33,
   "metadata": {
    "ExecuteTime": {
     "end_time": "2020-11-21T15:54:53.692649000Z",
     "start_time": "2020-11-21T15:54:53.679Z"
    }
   },
   "outputs": [
    {
     "data": {
      "text/plain": [
       ",\"1\"\n",
       ",\"2\"\n",
       ",\"3\"\n"
      ]
     },
     "execution_count": 33,
     "metadata": {},
     "output_type": "execute_result"
    },
    {
     "data": {
      "text/plain": [
       ",\"s\"\n",
       ",\"t\"\n",
       ",\"r\"\n",
       ",\"i\"\n",
       ",\"n\"\n",
       ",\"g\"\n"
      ]
     },
     "execution_count": 33,
     "metadata": {},
     "output_type": "execute_result"
    },
    {
     "data": {
      "text/plain": [
       ",\"1\" ,\"2\" ,\"3\"\n",
       "\"10\" \"20\" \"30\"\n"
      ]
     },
     "execution_count": 33,
     "metadata": {},
     "output_type": "execute_result"
    }
   ],
   "source": [
    "string 1 2 3\n",
    "string \"string\"\n",
    "string (1 2 3; 10 20 30)"
   ]
  },
  {
   "cell_type": "markdown",
   "metadata": {},
   "source": [
    "**Use `string` to convert a list (or column) of symbols to strings.**"
   ]
  },
  {
   "cell_type": "code",
   "execution_count": 34,
   "metadata": {
    "ExecuteTime": {
     "end_time": "2020-11-21T16:15:35.466956000Z",
     "start_time": "2020-11-21T16:15:35.458Z"
    }
   },
   "outputs": [
    {
     "data": {
      "text/plain": [
       "\"Life\"\n",
       "\"the\"\n",
       "\"Universe\"\n",
       "\"and\"\n",
       "\"Everything\"\n"
      ]
     },
     "execution_count": 34,
     "metadata": {},
     "output_type": "execute_result"
    }
   ],
   "source": [
    "string `Life`the`Universe`and`Everything"
   ]
  },
  {
   "cell_type": "markdown",
   "metadata": {},
   "source": [
    "### Creating Symbols from Strings\n",
    "To cast a char or a string to a symbol, use `$.\n",
    "\n",
    "**Do not use `symbol$` for this as it generates an error. This is a common qbie mistake.**"
   ]
  },
  {
   "cell_type": "code",
   "execution_count": 35,
   "metadata": {
    "ExecuteTime": {
     "end_time": "2020-11-21T16:16:16.940512000Z",
     "start_time": "2020-11-21T16:16:16.932Z"
    }
   },
   "outputs": [
    {
     "data": {
      "text/plain": [
       "`abc\n"
      ]
     },
     "execution_count": 35,
     "metadata": {},
     "output_type": "execute_result"
    },
    {
     "data": {
      "text/plain": [
       "`Hello World\n"
      ]
     },
     "execution_count": 35,
     "metadata": {},
     "output_type": "execute_result"
    }
   ],
   "source": [
    "`$\"abc\"\n",
    "`$\"Hello World\""
   ]
  },
  {
   "cell_type": "code",
   "execution_count": 36,
   "metadata": {
    "ExecuteTime": {
     "end_time": "2020-11-21T16:17:40.123747000Z",
     "start_time": "2020-11-21T16:17:40.114Z"
    }
   },
   "outputs": [
    {
     "data": {
      "text/plain": [
       "`Zaphod \"Z\"\n"
      ]
     },
     "execution_count": 36,
     "metadata": {},
     "output_type": "execute_result"
    },
    {
     "data": {
      "text/plain": [
       "`Zaphod \n",
       "\n"
      ]
     },
     "execution_count": 36,
     "metadata": {},
     "output_type": "execute_result"
    }
   ],
   "source": [
    "`$\"Zaphod \\\"Z\\\"\"\n",
    "`$\"Zaphod \\n\""
   ]
  },
  {
   "cell_type": "markdown",
   "metadata": {},
   "source": [
    "**The source string is left- and right-trimmed during the cast**"
   ]
  },
  {
   "cell_type": "code",
   "execution_count": 37,
   "metadata": {
    "ExecuteTime": {
     "end_time": "2020-11-21T16:17:57.345924000Z",
     "start_time": "2020-11-21T16:17:57.335Z"
    }
   },
   "outputs": [
    {
     "data": {
      "text/plain": [
       "\"abc\"\n"
      ]
     },
     "execution_count": 37,
     "metadata": {},
     "output_type": "execute_result"
    }
   ],
   "source": [
    "string `$\" abc \""
   ]
  },
  {
   "cell_type": "markdown",
   "metadata": {},
   "source": [
    "The unary `$ is atomic and will thus convert an entire list (or column) of strings to symbols."
   ]
  },
  {
   "cell_type": "code",
   "execution_count": 38,
   "metadata": {
    "ExecuteTime": {
     "end_time": "2020-11-21T16:18:27.736326000Z",
     "start_time": "2020-11-21T16:18:27.728Z"
    }
   },
   "outputs": [
    {
     "data": {
      "text/plain": [
       "`Life`the`Universe`and`Everything\n"
      ]
     },
     "execution_count": 38,
     "metadata": {},
     "output_type": "execute_result"
    }
   ],
   "source": [
    "`$(\"Life\";\"the\";\"Universe\";\"and\";\"Everything\")"
   ]
  },
  {
   "cell_type": "markdown",
   "metadata": {},
   "source": [
    "### Parsing Data from Strings"
   ]
  },
  {
   "cell_type": "markdown",
   "metadata": {},
   "source": [
    "The `$` operator is overloaded to parse strings into data of any type exactly as the q interpreter does. This overload is invoked by using an **uppercase** type char as the target left operand and a string in the right operand. If the specified parse cannot be performed, a null of the target type is returned – i.e., missing or bad data – instead of an exception."
   ]
  },
  {
   "cell_type": "code",
   "execution_count": 39,
   "metadata": {
    "ExecuteTime": {
     "end_time": "2020-11-21T16:20:23.673214000Z",
     "start_time": "2020-11-21T16:20:23.659Z"
    }
   },
   "outputs": [
    {
     "data": {
      "text/plain": [
       "42\n"
      ]
     },
     "execution_count": 39,
     "metadata": {},
     "output_type": "execute_result"
    },
    {
     "data": {
      "text/plain": [
       "42f\n"
      ]
     },
     "execution_count": 39,
     "metadata": {},
     "output_type": "execute_result"
    },
    {
     "data": {
      "text/plain": [
       "42f\n"
      ]
     },
     "execution_count": 39,
     "metadata": {},
     "output_type": "execute_result"
    },
    {
     "data": {
      "text/plain": [
       "0Ni\n"
      ]
     },
     "execution_count": 39,
     "metadata": {},
     "output_type": "execute_result"
    },
    {
     "data": {
      "text/plain": [
       "0Ni\n"
      ]
     },
     "execution_count": 39,
     "metadata": {},
     "output_type": "execute_result"
    }
   ],
   "source": [
    "\"J\"$\"42\"\n",
    "\"F\"$\"42\"\n",
    "\"F\"$\"42.0\"\n",
    "\"I\"$\"42.0\"\n",
    "\"I\"$\" \""
   ]
  },
  {
   "cell_type": "markdown",
   "metadata": {},
   "source": [
    "Date parsing is flexible with respect to the format of the date.."
   ]
  },
  {
   "cell_type": "code",
   "execution_count": 40,
   "metadata": {
    "ExecuteTime": {
     "end_time": "2020-11-21T16:20:55.923234000Z",
     "start_time": "2020-11-21T16:20:55.901Z"
    }
   },
   "outputs": [
    {
     "data": {
      "text/plain": [
       "2014.12.31\n"
      ]
     },
     "execution_count": 40,
     "metadata": {},
     "output_type": "execute_result"
    },
    {
     "data": {
      "text/plain": [
       "2014.12.31\n"
      ]
     },
     "execution_count": 40,
     "metadata": {},
     "output_type": "execute_result"
    },
    {
     "data": {
      "text/plain": [
       "2014.12.31\n"
      ]
     },
     "execution_count": 40,
     "metadata": {},
     "output_type": "execute_result"
    },
    {
     "data": {
      "text/plain": [
       "2014.12.01\n"
      ]
     },
     "execution_count": 40,
     "metadata": {},
     "output_type": "execute_result"
    },
    {
     "data": {
      "text/plain": [
       "2014.12.31\n"
      ]
     },
     "execution_count": 40,
     "metadata": {},
     "output_type": "execute_result"
    },
    {
     "data": {
      "text/plain": [
       "0Nd\n"
      ]
     },
     "execution_count": 40,
     "metadata": {},
     "output_type": "execute_result"
    }
   ],
   "source": [
    "\"D\"$\"12.31.2014\"\n",
    "\"D\"$\"12-31-2014\"\n",
    "\"D\"$\"12/31/2014\"\n",
    "\"D\"$\"12/1/2014\"\n",
    "\"D\"$\"2014/12/31\"\n",
    "\"D\"$\"2014/13/31\""
   ]
  },
  {
   "cell_type": "markdown",
   "metadata": {},
   "source": [
    "To create a function from a string, use the built-in `value`, which is the q interpreter or `parse`, which is the parse step of the interpreter."
   ]
  },
  {
   "cell_type": "code",
   "execution_count": 41,
   "metadata": {
    "ExecuteTime": {
     "end_time": "2020-11-21T16:21:35.903476000Z",
     "start_time": "2020-11-21T16:21:35.894Z"
    }
   },
   "outputs": [
    {
     "data": {
      "text/plain": [
       "{x*x}\n"
      ]
     },
     "execution_count": 41,
     "metadata": {},
     "output_type": "execute_result"
    },
    {
     "data": {
      "text/plain": [
       "{x*x}\n"
      ]
     },
     "execution_count": 41,
     "metadata": {},
     "output_type": "execute_result"
    }
   ],
   "source": [
    "value \"{x*x}\"\n",
    "parse \"{x*x}\""
   ]
  },
  {
   "cell_type": "markdown",
   "metadata": {},
   "source": [
    "## Creating Typed Empty Lists\n",
    "\n",
    "The general empty list has type 0 since it has no items and therefore affords no canonical way to determine a type."
   ]
  },
  {
   "cell_type": "code",
   "execution_count": 42,
   "metadata": {
    "ExecuteTime": {
     "end_time": "2020-11-21T16:22:35.249828000Z",
     "start_time": "2020-11-21T16:22:35.242Z"
    }
   },
   "outputs": [
    {
     "data": {
      "text/plain": [
       "0h\n"
      ]
     },
     "execution_count": 42,
     "metadata": {},
     "output_type": "execute_result"
    }
   ],
   "source": [
    "type ()"
   ]
  },
  {
   "cell_type": "markdown",
   "metadata": {},
   "source": [
    "An issue arises when appending an item in place to a general empty list, Namely, if that item is an atom, **the resulting singleton list is now a simple list of the type of the atom.**"
   ]
  },
  {
   "cell_type": "code",
   "execution_count": 43,
   "metadata": {
    "ExecuteTime": {
     "end_time": "2020-11-21T16:23:23.253476000Z",
     "start_time": "2020-11-21T16:23:23.245Z"
    }
   },
   "outputs": [
    {
     "data": {
      "text/plain": [
       "0h\n"
      ]
     },
     "execution_count": 43,
     "metadata": {},
     "output_type": "execute_result"
    },
    {
     "data": {
      "text/plain": [
       "7h\n"
      ]
     },
     "execution_count": 43,
     "metadata": {},
     "output_type": "execute_result"
    }
   ],
   "source": [
    "L:()\n",
    "type L\n",
    "L,:42\n",
    "type L"
   ]
  },
  {
   "cell_type": "markdown",
   "metadata": {},
   "source": [
    "For example, suppose you intend the column to be a list of floats but the first row appended to the table happens to have a long in the field for this column. Then the errant field is accepted, the type of the column is set to long, and all subsequent appends of float raise a `'type` error."
   ]
  },
  {
   "cell_type": "code",
   "execution_count": 43,
   "metadata": {
    "ExecuteTime": {
     "end_time": "2020-11-21T16:24:07.306965000Z",
     "start_time": "2020-11-21T16:24:07.299Z"
    }
   },
   "outputs": [
    {
     "ename": "\u001b[0;31mtype\u001b[0m",
     "evalue": "\u001b[0;31mtype\u001b[0m",
     "output_type": "error",
     "traceback": [
      "\u001b[0;31mevaluation error:\n\u001b[0m",
      "\u001b[0;31mtype\u001b[0m",
      "\u001b[0;31m\u001b[0m",
      "\u001b[0;31m  [0]  c1,:98.6\n         ^\n\u001b[0m"
     ]
    }
   ],
   "source": [
    "c1:()\n",
    "c1,:42\n",
    "c1,:98.6"
   ]
  },
  {
   "cell_type": "markdown",
   "metadata": {},
   "source": [
    "To avoid this, cast the empty list using the name of the desired type, which makes it an empty simple list of that type. Now only atoms of the specified type can be appended in place."
   ]
  },
  {
   "cell_type": "code",
   "execution_count": 45,
   "metadata": {
    "ExecuteTime": {
     "end_time": "2020-11-21T16:25:12.821910000Z",
     "start_time": "2020-11-21T16:25:12.813Z"
    }
   },
   "outputs": [
    {
     "ename": "\u001b[0;31mtype\u001b[0m",
     "evalue": "\u001b[0;31mtype\u001b[0m",
     "output_type": "error",
     "traceback": [
      "\u001b[0;31mevaluation error:\n\u001b[0m",
      "\u001b[0;31mtype\u001b[0m",
      "\u001b[0;31m\u001b[0m",
      "\u001b[0;31m  [0]  c1 ,: 42\n          ^\n\u001b[0m"
     ]
    }
   ],
   "source": [
    "c1:`float$()\n",
    "c1 ,: 42"
   ]
  },
  {
   "cell_type": "code",
   "execution_count": 46,
   "metadata": {
    "ExecuteTime": {
     "end_time": "2020-11-21T16:25:13.228212000Z",
     "start_time": "2020-11-21T16:25:13.221Z"
    }
   },
   "outputs": [
    {
     "data": {
      "text/plain": [
       ",98.6\n"
      ]
     },
     "execution_count": 46,
     "metadata": {},
     "output_type": "execute_result"
    }
   ],
   "source": [
    "c1,:98.6\n",
    "c1"
   ]
  },
  {
   "cell_type": "markdown",
   "metadata": {},
   "source": [
    "Notice that an operation that yields a simple list **retains the type on an empty result.**"
   ]
  },
  {
   "cell_type": "code",
   "execution_count": 47,
   "metadata": {
    "ExecuteTime": {
     "end_time": "2020-11-21T16:25:34.487519000Z",
     "start_time": "2020-11-21T16:25:34.480Z"
    }
   },
   "outputs": [
    {
     "data": {
      "text/plain": [
       "`long$()\n"
      ]
     },
     "execution_count": 47,
     "metadata": {},
     "output_type": "execute_result"
    }
   ],
   "source": [
    "0#10 20 30"
   ]
  },
  {
   "cell_type": "markdown",
   "metadata": {},
   "source": [
    "This yields a succinct idiom to create typed empty lists."
   ]
  },
  {
   "cell_type": "code",
   "execution_count": 48,
   "metadata": {
    "ExecuteTime": {
     "end_time": "2020-11-21T16:26:07.430669000Z",
     "start_time": "2020-11-21T16:26:07.419Z"
    }
   },
   "outputs": [
    {
     "data": {
      "text/plain": [
       "`long$()\n"
      ]
     },
     "execution_count": 48,
     "metadata": {},
     "output_type": "execute_result"
    },
    {
     "data": {
      "text/plain": [
       "`float$()\n"
      ]
     },
     "execution_count": 48,
     "metadata": {},
     "output_type": "execute_result"
    },
    {
     "data": {
      "text/plain": [
       "`symbol$()\n"
      ]
     },
     "execution_count": 48,
     "metadata": {},
     "output_type": "execute_result"
    }
   ],
   "source": [
    "0#0\n",
    "0#0.0\n",
    "0#`"
   ]
  },
  {
   "cell_type": "markdown",
   "metadata": {},
   "source": [
    "**There is no way in q to type nested empty lists**"
   ]
  },
  {
   "cell_type": "markdown",
   "metadata": {},
   "source": [
    "## Enumerations"
   ]
  },
  {
   "cell_type": "markdown",
   "metadata": {},
   "source": [
    "### Traditional Enumerations\n",
    "\n",
    "In traditional languages, an enumerated type is a way of associating a series of names with a corresponding set of integral values. A traditional enumerated type serves multiple purposes:\n",
    "\n",
    "1. It allows a descriptive name to be used instead of an arbitrary number – e.g., 'red', 'green', 'blue' instead of 0, 1 and 2.\n",
    "2. It enables type checking to ensure that only permissible values are supplied – e.g., choosing a color name from a list instead of remembering its number is less prone to error.\n",
    "3. It provides namespacing, meaning the same name can be reused in different domains without fear of confusion – e.g., color.blue and note.blue (the flatted fifth)."
   ]
  },
  {
   "cell_type": "markdown",
   "metadata": {},
   "source": [
    "### Data Normalization\n",
    "\n",
    "Broadly speaking, **data normalization seeks to eliminate duplication, retaining only the minimum required data**. In the archetypal example, suppose you know that you will have a list of text entries taken from a fixed and reasonably short set of values – e.g., stock exchange ticker symbols. Storing a long list of such strings verbatim presents two problems.\n",
    "\n",
    "- Values of variable length complicate storage management and make retrieval inefficient.\n",
    "- There is potentially much duplication of data arising from repeated values. This is hard to keep in sync when values change.\n",
    "\n",
    "\n",
    "Let’s see how an enumeration solves both problems. "
   ]
  },
  {
   "cell_type": "code",
   "execution_count": 49,
   "metadata": {
    "ExecuteTime": {
     "end_time": "2020-11-21T16:32:04.313088000Z",
     "start_time": "2020-11-21T16:32:04.291Z"
    }
   },
   "outputs": [
    {
     "data": {
      "text/plain": [
       "`g`g`msft`aapl`msft`aapl`msft`ibm`msft`aapl`g`ibm`aapl`msft`msft`aapl`g`aapl`..\n"
      ]
     },
     "execution_count": 49,
     "metadata": {},
     "output_type": "execute_result"
    }
   ],
   "source": [
    "u:`g`aapl`msft`ibm\n",
    "v:1000000?u\n",
    "v"
   ]
  },
  {
   "cell_type": "code",
   "execution_count": 50,
   "metadata": {
    "ExecuteTime": {
     "end_time": "2020-11-21T16:33:21.853962000Z",
     "start_time": "2020-11-21T16:33:21.843Z"
    }
   },
   "outputs": [
    {
     "data": {
      "text/plain": [
       "`g`msft`aapl`ibm\n"
      ]
     },
     "execution_count": 50,
     "metadata": {},
     "output_type": "execute_result"
    }
   ],
   "source": [
    "u:distinct v\n",
    "u"
   ]
  },
  {
   "cell_type": "code",
   "execution_count": 51,
   "metadata": {
    "ExecuteTime": {
     "end_time": "2020-11-21T16:33:30.394764000Z",
     "start_time": "2020-11-21T16:33:30.380Z"
    }
   },
   "outputs": [
    {
     "data": {
      "text/plain": [
       "0 0 1 2 1 2 1 3 1 2 0 3 2 1 1 2 0 2 1 0 2 2 1 3 0 2 1 2 1 2 0 0 2 1 2 1 3 3 0..\n"
      ]
     },
     "execution_count": 51,
     "metadata": {},
     "output_type": "execute_result"
    }
   ],
   "source": [
    "k:u?v\n",
    "k"
   ]
  },
  {
   "cell_type": "markdown",
   "metadata": {},
   "source": [
    "The key observation is that `u` and `k` together carry precisely the same information as `v`; indeed, they can be used to reconstitute it."
   ]
  },
  {
   "cell_type": "code",
   "execution_count": 52,
   "metadata": {
    "ExecuteTime": {
     "end_time": "2020-11-21T16:35:25.837494000Z",
     "start_time": "2020-11-21T16:35:25.826Z"
    }
   },
   "outputs": [
    {
     "data": {
      "text/plain": [
       "`g`g`msft`aapl`msft`aapl`msft`ibm`msft`aapl`g`ibm`aapl`msft`msft`aapl`g`aapl`..\n"
      ]
     },
     "execution_count": 52,
     "metadata": {},
     "output_type": "execute_result"
    },
    {
     "data": {
      "text/plain": [
       "1b\n"
      ]
     },
     "execution_count": 52,
     "metadata": {},
     "output_type": "execute_result"
    }
   ],
   "source": [
    "u[k]\n",
    "v~u[k]"
   ]
  },
  {
   "cell_type": "markdown",
   "metadata": {},
   "source": [
    "After a bit of Zen, you will recognize that `u` and `k` exactly constitute a traditional enumeration discussed above. Indeed, `u` is the list of names, while the associated values are (implicitly) the indices of the items in `u`. Every symbol in `v` can be replaced by the corresponding index in `k` – exactly what a traditional compiler does for an enumeration.\n",
    "\n",
    "Why would we want to do this trade? Easy-peasy-lemon-squeezy: **speed and compactness**. First, `v` is a list of variable length text, which is time-consuming to search, whereas `k` is a uniform list of integers, which is very fast to traverse. Moreover, `u` and `k` normalize the data of `v`. In general, `v` will have many repetitions of each symbol, but u stores each symbol once. Reading and writing the index list `k` from/to disk is a block operation that will be very fast.\n",
    "\n"
   ]
  },
  {
   "cell_type": "markdown",
   "metadata": {},
   "source": [
    "Let’s examine the storage requirements for a list of symbols in more detail. Say that the count of `u` is a and the maximum width of the text inside the symbols in `u` is b. For a list `v` of variable count x, the amount of storage required is potentially\n",
    "\n",
    "$b*x$\n",
    "\n",
    "For the indexed form, the storage is known to be,\n",
    "\n",
    "$a*b+4*x$\n",
    "\n",
    "which represents the fixed amount of storage for `u` plus the variable amount of storage for the simple integer list `k`. If a is small and b is even moderately large, the factorization is significantly smaller."
   ]
  },
  {
   "cell_type": "markdown",
   "metadata": {},
   "source": [
    "### Enumerating Symbols"
   ]
  },
  {
   "cell_type": "markdown",
   "metadata": {},
   "source": [
    "The process of converting a list of symbols to the equivalent list of indices described in the previous section is called enumeration in q. It uses (yet another overload of) `$` with the name of the variable holding the unique symbols as the left operand and a list of symbols drawn from that domain on the right."
   ]
  },
  {
   "cell_type": "code",
   "execution_count": 53,
   "metadata": {
    "ExecuteTime": {
     "end_time": "2020-11-21T16:42:08.185689000Z",
     "start_time": "2020-11-21T16:42:08.178Z"
    }
   },
   "outputs": [
    {
     "data": {
      "text/plain": [
       "`u$`g`g`msft`aapl`msft`aapl`msft`ibm`msft`aapl`g`ibm`aapl`msft`msft`aapl`g`aa..\n"
      ]
     },
     "execution_count": 53,
     "metadata": {},
     "output_type": "execute_result"
    }
   ],
   "source": [
    "`u$v"
   ]
  },
  {
   "cell_type": "markdown",
   "metadata": {},
   "source": [
    "You can recover the underlying integer values (i.e., `k` above) by casting to an integer."
   ]
  },
  {
   "cell_type": "code",
   "execution_count": 57,
   "metadata": {
    "ExecuteTime": {
     "end_time": "2020-11-21T16:43:12.310861000Z",
     "start_time": "2020-11-21T16:43:12.289Z"
    }
   },
   "outputs": [
    {
     "data": {
      "text/plain": [
       "0 0 1 2 1 2 1 3 1 2 0 3 2 1 1 2 0 2 1 0 2 2 1 3 0 2 1 2 1 2 0 0 2 1 2 1 3 3 0..\n"
      ]
     },
     "execution_count": 57,
     "metadata": {},
     "output_type": "execute_result"
    },
    {
     "data": {
      "text/plain": [
       "1b\n"
      ]
     },
     "execution_count": 57,
     "metadata": {},
     "output_type": "execute_result"
    }
   ],
   "source": [
    "ev:`u$v\n",
    "`int$ev\n",
    "k ~ `long$ev"
   ]
  },
  {
   "cell_type": "markdown",
   "metadata": {},
   "source": [
    "Let’s summarize. The basic form of an enumerated symbol is,"
   ]
  },
  {
   "cell_type": "code",
   "execution_count": null,
   "metadata": {},
   "outputs": [],
   "source": [
    "`u$v"
   ]
  },
  {
   "cell_type": "markdown",
   "metadata": {},
   "source": [
    "When working with tables in kdb+, by convention all symbol columns in all tables are enumerated over a common domain _sym_. You will hear this referred to as the _sym list_ or the _sym file_, depending on where it resides."
   ]
  },
  {
   "cell_type": "markdown",
   "metadata": {},
   "source": [
    "### Using Enumerated Synbols"
   ]
  },
  {
   "cell_type": "code",
   "execution_count": 61,
   "metadata": {
    "ExecuteTime": {
     "end_time": "2020-11-21T16:47:10.169426000Z",
     "start_time": "2020-11-21T16:47:10.141Z"
    }
   },
   "outputs": [],
   "source": [
    "sym:`g`aapl`msft`ibm\n",
    "v:1000000?sym\n",
    "ev:`sym$v"
   ]
  },
  {
   "cell_type": "code",
   "execution_count": 63,
   "metadata": {
    "ExecuteTime": {
     "end_time": "2020-11-21T16:47:25.756508000Z",
     "start_time": "2020-11-21T16:47:25.745Z"
    }
   },
   "outputs": [
    {
     "data": {
      "text/plain": [
       "`ibm`ibm`g`ibm`aapl`g`msft`msft`aapl`aapl`aapl`msft`g`msft`aapl`g`g`g`g`ibm`i..\n"
      ]
     },
     "execution_count": 63,
     "metadata": {},
     "output_type": "execute_result"
    }
   ],
   "source": [
    "v"
   ]
  },
  {
   "cell_type": "markdown",
   "metadata": {},
   "source": [
    "The enumerated `ev` can be substituted for the original `v` in nearly all situations."
   ]
  },
  {
   "cell_type": "code",
   "execution_count": 68,
   "metadata": {
    "ExecuteTime": {
     "end_time": "2020-11-21T16:48:53.088580000Z",
     "start_time": "2020-11-21T16:48:53.060Z"
    }
   },
   "outputs": [
    {
     "data": {
      "text/plain": [
       "`ibm\n"
      ]
     },
     "execution_count": 68,
     "metadata": {},
     "output_type": "execute_result"
    },
    {
     "data": {
      "text/plain": [
       "`sym$`ibm\n"
      ]
     },
     "execution_count": 68,
     "metadata": {},
     "output_type": "execute_result"
    },
    {
     "data": {
      "text/plain": [
       "11010000000000000001100000100000110110000000010011000001110001000110010110000..\n"
      ]
     },
     "execution_count": 68,
     "metadata": {},
     "output_type": "execute_result"
    },
    {
     "data": {
      "text/plain": [
       "11010000000000000001100000100000110110000000010011000001110001000110010110000..\n"
      ]
     },
     "execution_count": 68,
     "metadata": {},
     "output_type": "execute_result"
    },
    {
     "data": {
      "text/plain": [
       "4 8 9 10 14 22 23 27 28 29 34 38 39 40 42 59 62 67 68 70 73 83 84 85 88 90 92..\n"
      ]
     },
     "execution_count": 68,
     "metadata": {},
     "output_type": "execute_result"
    },
    {
     "data": {
      "text/plain": [
       "4 8 9 10 14 22 23 27 28 29 34 38 39 40 42 59 62 67 68 70 73 83 84 85 88 90 92..\n"
      ]
     },
     "execution_count": 68,
     "metadata": {},
     "output_type": "execute_result"
    },
    {
     "data": {
      "text/plain": [
       "4\n"
      ]
     },
     "execution_count": 68,
     "metadata": {},
     "output_type": "execute_result"
    },
    {
     "data": {
      "text/plain": [
       "4\n"
      ]
     },
     "execution_count": 68,
     "metadata": {},
     "output_type": "execute_result"
    },
    {
     "data": {
      "text/plain": [
       "11011000111000100001101100111100111110111010010011000001110101100111111111000..\n"
      ]
     },
     "execution_count": 68,
     "metadata": {},
     "output_type": "execute_result"
    },
    {
     "data": {
      "text/plain": [
       "11011000111000100001101100111100111110111010010011000001110101100111111111000..\n"
      ]
     },
     "execution_count": 68,
     "metadata": {},
     "output_type": "execute_result"
    }
   ],
   "source": [
    "v[3]\n",
    "ev[3]\n",
    "v[3]:`ibm\n",
    "ev[3]:`ibm\n",
    "v=`ibm\n",
    "ev=`ibm\n",
    "where v=`aapl\n",
    "where ev=`aapl\n",
    "v?`aapl\n",
    "ev?`aapl\n",
    "v in `ibm`aapl\n",
    "ev in  `ibm`aapl"
   ]
  },
  {
   "cell_type": "markdown",
   "metadata": {},
   "source": [
    "While the enumerated version is item-wise equal to the original, the entities are not identical."
   ]
  },
  {
   "cell_type": "code",
   "execution_count": 69,
   "metadata": {
    "ExecuteTime": {
     "end_time": "2020-11-21T16:49:11.224333000Z",
     "start_time": "2020-11-21T16:49:11.209Z"
    }
   },
   "outputs": [
    {
     "data": {
      "text/plain": [
       "1b\n"
      ]
     },
     "execution_count": 69,
     "metadata": {},
     "output_type": "execute_result"
    },
    {
     "data": {
      "text/plain": [
       "0b\n"
      ]
     },
     "execution_count": 69,
     "metadata": {},
     "output_type": "execute_result"
    }
   ],
   "source": [
    "all v=ev\n",
    "v~ev"
   ]
  },
  {
   "cell_type": "markdown",
   "metadata": {},
   "source": [
    "### Types of Enumerations"
   ]
  },
  {
   "cell_type": "markdown",
   "metadata": {},
   "source": [
    "Each enumeration is assigned a new numeric data type, beginning with `20h`. The convention of negative type for atoms and positive type for simple lists still holds. In a fresh q session we see the following."
   ]
  },
  {
   "cell_type": "code",
   "execution_count": 70,
   "metadata": {
    "ExecuteTime": {
     "end_time": "2020-11-21T16:50:09.570272000Z",
     "start_time": "2020-11-21T16:50:09.549Z"
    }
   },
   "outputs": [
    {
     "data": {
      "text/plain": [
       "20h\n"
      ]
     },
     "execution_count": 70,
     "metadata": {},
     "output_type": "execute_result"
    }
   ],
   "source": [
    "sym1:`g`aapl`msft`ibm\n",
    "type `sym1$1000000?sym1"
   ]
  },
  {
   "cell_type": "code",
   "execution_count": 71,
   "metadata": {
    "ExecuteTime": {
     "end_time": "2020-11-21T16:50:18.862527000Z",
     "start_time": "2020-11-21T16:50:18.854Z"
    }
   },
   "outputs": [
    {
     "data": {
      "text/plain": [
       "-20h\n"
      ]
     },
     "execution_count": 71,
     "metadata": {},
     "output_type": "execute_result"
    }
   ],
   "source": [
    "sym2:`a`b`c\n",
    "type `sym2$`c"
   ]
  },
  {
   "cell_type": "code",
   "execution_count": 72,
   "metadata": {
    "ExecuteTime": {
     "end_time": "2020-11-21T16:51:08.266223000Z",
     "start_time": "2020-11-21T16:51:08.258Z"
    }
   },
   "outputs": [
    {
     "data": {
      "text/plain": [
       "20h\n"
      ]
     },
     "execution_count": 72,
     "metadata": {},
     "output_type": "execute_result"
    }
   ],
   "source": [
    "sym:`b`c`a\n",
    "type `sym$100?sym"
   ]
  },
  {
   "cell_type": "markdown",
   "metadata": {},
   "source": [
    "Enumerations with different domains are distinct, even when all the constituents are the same."
   ]
  },
  {
   "cell_type": "code",
   "execution_count": 73,
   "metadata": {
    "ExecuteTime": {
     "end_time": "2020-11-21T16:51:41.311363000Z",
     "start_time": "2020-11-21T16:51:41.301Z"
    }
   },
   "outputs": [
    {
     "data": {
      "text/plain": [
       "11111b\n"
      ]
     },
     "execution_count": 73,
     "metadata": {},
     "output_type": "execute_result"
    },
    {
     "data": {
      "text/plain": [
       "0b\n"
      ]
     },
     "execution_count": 73,
     "metadata": {},
     "output_type": "execute_result"
    }
   ],
   "source": [
    "sym1:`c`b`a\n",
    "sym2:`c`b`a\n",
    "ev1:`sym1$`a`b`a`c`a\n",
    "ev2:`sym2$`a`b`a`c`a\n",
    "ev1=ev2\n",
    "ev1~ev2"
   ]
  },
  {
   "cell_type": "markdown",
   "metadata": {},
   "source": [
    "### Updating an Enumerated List\n",
    "\n",
    "The normalization provided by an enumeration reduces updating all occurrences of a given value to a single operation. This can have significant performance implications for large lists with many repetitions. Continuing with our example above, suppose the list `u` contains the items in a stock index and we wish to change one of the constituents. **A single update to `u` suffices.**"
   ]
  },
  {
   "cell_type": "code",
   "execution_count": 76,
   "metadata": {
    "ExecuteTime": {
     "end_time": "2020-11-21T16:55:11.046779000Z",
     "start_time": "2020-11-21T16:55:11.032Z"
    }
   },
   "outputs": [
    {
     "data": {
      "text/plain": [
       "`twit`aapl`msft`ibm\n"
      ]
     },
     "execution_count": 76,
     "metadata": {},
     "output_type": "execute_result"
    },
    {
     "data": {
      "text/plain": [
       "`sym$`ibm`ibm`twit`ibm`aapl`twit`msft`msft`aapl`aapl`aapl`msft`twit`msft`aapl..\n"
      ]
     },
     "execution_count": 76,
     "metadata": {},
     "output_type": "execute_result"
    }
   ],
   "source": [
    "sym:`g`aapl`msft`ibm\n",
    "ev:`sym$v\n",
    "sym[0]:`twit\n",
    "sym\n",
    "ev"
   ]
  },
  {
   "cell_type": "markdown",
   "metadata": {},
   "source": [
    "In contrast, to make the equivalent update to `v` requires changing **every** occurrence."
   ]
  },
  {
   "cell_type": "code",
   "execution_count": 79,
   "metadata": {
    "ExecuteTime": {
     "end_time": "2020-11-21T16:55:32.899646000Z",
     "start_time": "2020-11-21T16:55:32.882Z"
    }
   },
   "outputs": [
    {
     "data": {
      "text/plain": [
       "`ibm`ibm`g`ibm`aapl`g`msft`msft`aapl`aapl`aapl`msft`g`msft`aapl`g`g`g`g`ibm`i..\n"
      ]
     },
     "execution_count": 79,
     "metadata": {},
     "output_type": "execute_result"
    },
    {
     "data": {
      "text/plain": [
       "`ibm`ibm`twit`ibm`aapl`twit`msft`msft`aapl`aapl`aapl`msft`twit`msft`aapl`twit..\n"
      ]
     },
     "execution_count": 79,
     "metadata": {},
     "output_type": "execute_result"
    }
   ],
   "source": [
    "v\n",
    "@[v; where v=`g; :; `twit]"
   ]
  },
  {
   "cell_type": "markdown",
   "metadata": {},
   "source": [
    "**Be extremely cautious about modifying the sym list manually. (Better not to do it at all.)**\n",
    "\n",
    "Should you corrupt the sym list, your entire database will be scrambled! Make a persistent copy/backup before modifying the list, else update your CV after."
   ]
  },
  {
   "cell_type": "markdown",
   "metadata": {},
   "source": [
    "### Dynamically Appending to an Enumeration Domain"
   ]
  },
  {
   "cell_type": "code",
   "execution_count": 79,
   "metadata": {
    "ExecuteTime": {
     "end_time": "2020-11-21T16:56:50.438469000Z",
     "start_time": "2020-11-21T16:56:50.415Z"
    }
   },
   "outputs": [
    {
     "ename": "\u001b[0;31mcast\u001b[0m",
     "evalue": "\u001b[0;31mcast\u001b[0m",
     "output_type": "error",
     "traceback": [
      "\u001b[0;31mevaluation error:\n\u001b[0m",
      "\u001b[0;31mcast\u001b[0m",
      "\u001b[0;31m\u001b[0m",
      "\u001b[0;31m  [0]  ev,:`twtr\n         ^\n\u001b[0m"
     ]
    }
   ],
   "source": [
    "sym:`g`aapl`msft`ibm\n",
    "v:1000000?sym\n",
    "ev:`sym$v\n",
    "v,:`twtr\n",
    "ev,:`twtr"
   ]
  },
  {
   "cell_type": "markdown",
   "metadata": {},
   "source": [
    "The new value **must first be added to the unique list**."
   ]
  },
  {
   "cell_type": "code",
   "execution_count": 80,
   "metadata": {
    "ExecuteTime": {
     "end_time": "2020-11-21T16:57:30.101853000Z",
     "start_time": "2020-11-21T16:57:30.096Z"
    }
   },
   "outputs": [],
   "source": [
    "sym,:`twtr\n",
    "ev,:`twtr"
   ]
  },
  {
   "cell_type": "markdown",
   "metadata": {},
   "source": [
    "If you cannot know the full extent of the enumeration domain in advance, you can use (yet another overload of) `?` to create the domain on the fly. The syntax of `?` is the same as the enumeration overload of `$` – i.e., the **name** of a (unique) list of symbols as left operand and a source symbol or list of symbols as right operand."
   ]
  },
  {
   "cell_type": "code",
   "execution_count": 82,
   "metadata": {
    "ExecuteTime": {
     "end_time": "2020-11-21T16:59:51.157285000Z",
     "start_time": "2020-11-21T16:59:51.145Z"
    }
   },
   "outputs": [
    {
     "data": {
      "text/plain": [
       "`sym$`g\n"
      ]
     },
     "execution_count": 82,
     "metadata": {},
     "output_type": "execute_result"
    },
    {
     "data": {
      "text/plain": [
       ",`g\n"
      ]
     },
     "execution_count": 82,
     "metadata": {},
     "output_type": "execute_result"
    },
    {
     "data": {
      "text/plain": [
       "`sym$`ibm`aapl\n"
      ]
     },
     "execution_count": 82,
     "metadata": {},
     "output_type": "execute_result"
    },
    {
     "data": {
      "text/plain": [
       "`g`ibm`aapl\n"
      ]
     },
     "execution_count": 82,
     "metadata": {},
     "output_type": "execute_result"
    },
    {
     "data": {
      "text/plain": [
       "`sym$`g`msft\n"
      ]
     },
     "execution_count": 82,
     "metadata": {},
     "output_type": "execute_result"
    },
    {
     "data": {
      "text/plain": [
       "`g`ibm`aapl`msft\n"
      ]
     },
     "execution_count": 82,
     "metadata": {},
     "output_type": "execute_result"
    }
   ],
   "source": [
    "sym:()\n",
    "/`sym$`g / `cast error\n",
    "`sym?`g\n",
    "sym\n",
    "`sym?`ibm`aapl\n",
    "sym\n",
    "`sym?`g`msft\n",
    "sym"
   ]
  },
  {
   "cell_type": "markdown",
   "metadata": {},
   "source": [
    "Our previous example now works, with `?` in place of `$`."
   ]
  },
  {
   "cell_type": "code",
   "execution_count": 83,
   "metadata": {
    "ExecuteTime": {
     "end_time": "2020-11-21T17:00:10.849015000Z",
     "start_time": "2020-11-21T17:00:10.841Z"
    }
   },
   "outputs": [
    {
     "data": {
      "text/plain": [
       "`sym$`twtr\n"
      ]
     },
     "execution_count": 83,
     "metadata": {},
     "output_type": "execute_result"
    }
   ],
   "source": [
    "ev ,; `sym?`twtr"
   ]
  },
  {
   "cell_type": "markdown",
   "metadata": {},
   "source": [
    "### Resolving an Enumeration\n",
    "\n",
    "One case is converting from one enumeration domain to another, which happens when copying from one kdb+ database to another or in merging two databases."
   ]
  },
  {
   "cell_type": "code",
   "execution_count": 84,
   "metadata": {
    "ExecuteTime": {
     "end_time": "2020-11-21T17:00:42.640783000Z",
     "start_time": "2020-11-21T17:00:42.615Z"
    }
   },
   "outputs": [
    {
     "data": {
      "text/plain": [
       "`msft`msft`msft`aapl`ibm`ibm`g`msft`ibm`g`aapl`ibm`aapl`ibm`ibm`aapl`g`aapl`g..\n"
      ]
     },
     "execution_count": 84,
     "metadata": {},
     "output_type": "execute_result"
    },
    {
     "data": {
      "text/plain": [
       "1b\n"
      ]
     },
     "execution_count": 84,
     "metadata": {},
     "output_type": "execute_result"
    }
   ],
   "source": [
    "sym:`g`aapl`msft`ibm\n",
    "v:1000000?sym\n",
    "ev:`sym$v\n",
    "value ev\n",
    "v~value ev"
   ]
  },
  {
   "cell_type": "markdown",
   "metadata": {},
   "source": [
    "This is another overload of `value`, the function that is essentially the q interpreter."
   ]
  },
  {
   "cell_type": "code",
   "execution_count": null,
   "metadata": {},
   "outputs": [],
   "source": []
  }
 ],
 "metadata": {
  "kernelspec": {
   "display_name": "Q (kdb+)",
   "language": "q",
   "name": "qpk"
  },
  "language_info": {
   "file_extension": ".q",
   "mimetype": "text/x-q",
   "name": "q",
   "version": "4.0"
  },
  "toc": {
   "base_numbering": 1,
   "nav_menu": {},
   "number_sections": true,
   "sideBar": true,
   "skip_h1_title": false,
   "title_cell": "Table of Contents",
   "title_sidebar": "Contents",
   "toc_cell": true,
   "toc_position": {},
   "toc_section_display": true,
   "toc_window_display": false
  }
 },
 "nbformat": 4,
 "nbformat_minor": 4
}
