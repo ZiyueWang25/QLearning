{
 "cells": [
  {
   "cell_type": "markdown",
   "metadata": {
    "toc": true
   },
   "source": [
    "<h1>Table of Contents<span class=\"tocSkip\"></span></h1>\n",
    "<div class=\"toc\"><ul class=\"toc-item\"><li><span><a href=\"#Function-Specification\" data-toc-modified-id=\"Function-Specification-1\"><span class=\"toc-item-num\">1&nbsp;&nbsp;</span>Function Specification</a></span><ul class=\"toc-item\"><li><span><a href=\"#Function-Definition\" data-toc-modified-id=\"Function-Definition-1.1\"><span class=\"toc-item-num\">1.1&nbsp;&nbsp;</span>Function Definition</a></span></li><li><span><a href=\"#Function-Notation-and-Terminology\" data-toc-modified-id=\"Function-Notation-and-Terminology-1.2\"><span class=\"toc-item-num\">1.2&nbsp;&nbsp;</span>Function Notation and Terminology</a></span></li><li><span><a href=\"#Function-Application\" data-toc-modified-id=\"Function-Application-1.3\"><span class=\"toc-item-num\">1.3&nbsp;&nbsp;</span>Function Application</a></span></li><li><span><a href=\"#Functions-with-No-Return-Value\" data-toc-modified-id=\"Functions-with-No-Return-Value-1.4\"><span class=\"toc-item-num\">1.4&nbsp;&nbsp;</span>Functions with No Return Value</a></span></li><li><span><a href=\"#We-Don't-Need-No-Stinkin’-Brackets\" data-toc-modified-id=\"We-Don't-Need-No-Stinkin’-Brackets-1.5\"><span class=\"toc-item-num\">1.5&nbsp;&nbsp;</span>We Don't Need No Stinkin’ Brackets</a></span></li><li><span><a href=\"#Application-of-a-Name\" data-toc-modified-id=\"Application-of-a-Name-1.6\"><span class=\"toc-item-num\">1.6&nbsp;&nbsp;</span>Application of a Name</a></span></li><li><span><a href=\"#Implicit-Parameters\" data-toc-modified-id=\"Implicit-Parameters-1.7\"><span class=\"toc-item-num\">1.7&nbsp;&nbsp;</span>Implicit Parameters</a></span></li><li><span><a href=\"#Anonymous-Functions-and-Lambda-Expressions\" data-toc-modified-id=\"Anonymous-Functions-and-Lambda-Expressions-1.8\"><span class=\"toc-item-num\">1.8&nbsp;&nbsp;</span>Anonymous Functions and Lambda Expressions</a></span></li><li><span><a href=\"#The-Identity-Function-::\" data-toc-modified-id=\"The-Identity-Function-::-1.9\"><span class=\"toc-item-num\">1.9&nbsp;&nbsp;</span>The Identity Function <code>::</code></a></span></li><li><span><a href=\"#Functions-are-Data\" data-toc-modified-id=\"Functions-are-Data-1.10\"><span class=\"toc-item-num\">1.10&nbsp;&nbsp;</span>Functions are Data</a></span></li></ul></li><li><span><a href=\"#Call-by-Name\" data-toc-modified-id=\"Call-by-Name-2\"><span class=\"toc-item-num\">2&nbsp;&nbsp;</span>Call-by-Name</a></span></li><li><span><a href=\"#Local-and-Global-Variables\" data-toc-modified-id=\"Local-and-Global-Variables-3\"><span class=\"toc-item-num\">3&nbsp;&nbsp;</span>Local and Global Variables</a></span><ul class=\"toc-item\"><li><span><a href=\"#Defining-Local-and-Global-Variables\" data-toc-modified-id=\"Defining-Local-and-Global-Variables-3.1\"><span class=\"toc-item-num\">3.1&nbsp;&nbsp;</span>Defining Local and Global Variables</a></span></li><li><span><a href=\"#Assigning-Global-Variables-within-a-Function\" data-toc-modified-id=\"Assigning-Global-Variables-within-a-Function-3.2\"><span class=\"toc-item-num\">3.2&nbsp;&nbsp;</span>Assigning Global Variables within a Function</a></span></li></ul></li><li><span><a href=\"#Projection\" data-toc-modified-id=\"Projection-4\"><span class=\"toc-item-num\">4&nbsp;&nbsp;</span>Projection</a></span><ul class=\"toc-item\"><li><span><a href=\"#Function-Projection\" data-toc-modified-id=\"Function-Projection-4.1\"><span class=\"toc-item-num\">4.1&nbsp;&nbsp;</span>Function Projection</a></span></li><li><span><a href=\"#Operator-Projection\" data-toc-modified-id=\"Operator-Projection-4.2\"><span class=\"toc-item-num\">4.2&nbsp;&nbsp;</span>Operator Projection</a></span></li><li><span><a href=\"#Multiple-Projections\" data-toc-modified-id=\"Multiple-Projections-4.3\"><span class=\"toc-item-num\">4.3&nbsp;&nbsp;</span>Multiple Projections</a></span></li></ul></li><li><span><a href=\"#Everything-is-a-Map\" data-toc-modified-id=\"Everything-is-a-Map-5\"><span class=\"toc-item-num\">5&nbsp;&nbsp;</span>Everything is a Map</a></span><ul class=\"toc-item\"><li><span><a href=\"#Similarity-of-Notation\" data-toc-modified-id=\"Similarity-of-Notation-5.1\"><span class=\"toc-item-num\">5.1&nbsp;&nbsp;</span>Similarity of Notation</a></span></li><li><span><a href=\"#List-of-Indices,-Keys-and-Arguments\" data-toc-modified-id=\"List-of-Indices,-Keys-and-Arguments-5.2\"><span class=\"toc-item-num\">5.2&nbsp;&nbsp;</span>List of Indices, Keys and Arguments</a></span></li><li><span><a href=\"#Indexing-at-Depth\" data-toc-modified-id=\"Indexing-at-Depth-5.3\"><span class=\"toc-item-num\">5.3&nbsp;&nbsp;</span>Indexing at Depth</a></span></li><li><span><a href=\"#Projection-and-Index-Elision\" data-toc-modified-id=\"Projection-and-Index-Elision-5.4\"><span class=\"toc-item-num\">5.4&nbsp;&nbsp;</span>Projection and Index Elision</a></span></li><li><span><a href=\"#Out-of-Bounds-Index\" data-toc-modified-id=\"Out-of-Bounds-Index-5.5\"><span class=\"toc-item-num\">5.5&nbsp;&nbsp;</span>Out of Bounds Index</a></span></li></ul></li><li><span><a href=\"#Atomic-Functions\" data-toc-modified-id=\"Atomic-Functions-6\"><span class=\"toc-item-num\">6&nbsp;&nbsp;</span>Atomic Functions</a></span><ul class=\"toc-item\"><li><span><a href=\"#Unary-Atomic-Functions-and-&quot;map&quot;\" data-toc-modified-id=\"Unary-Atomic-Functions-and-&quot;map&quot;-6.1\"><span class=\"toc-item-num\">6.1&nbsp;&nbsp;</span>Unary Atomic Functions and \"map\"</a></span></li><li><span><a href=\"#Binary-Atomic-Functions-and-zip\" data-toc-modified-id=\"Binary-Atomic-Functions-and-zip-6.2\"><span class=\"toc-item-num\">6.2&nbsp;&nbsp;</span>Binary Atomic Functions and zip</a></span></li><li><span><a href=\"#Creating-Atomic-Functions\" data-toc-modified-id=\"Creating-Atomic-Functions-6.3\"><span class=\"toc-item-num\">6.3&nbsp;&nbsp;</span>Creating Atomic Functions</a></span></li></ul></li><li><span><a href=\"#Iterators\" data-toc-modified-id=\"Iterators-7\"><span class=\"toc-item-num\">7&nbsp;&nbsp;</span>Iterators</a></span><ul class=\"toc-item\"><li><span><a href=\"#Unary-each\" data-toc-modified-id=\"Unary-each-7.1\"><span class=\"toc-item-num\">7.1&nbsp;&nbsp;</span>Unary each</a></span></li><li><span><a href=\"#Each-'\" data-toc-modified-id=\"Each-'-7.2\"><span class=\"toc-item-num\">7.2&nbsp;&nbsp;</span>Each <code>'</code></a></span></li><li><span><a href=\"#Each-Left-\\:\" data-toc-modified-id=\"Each-Left-\\:-7.3\"><span class=\"toc-item-num\">7.3&nbsp;&nbsp;</span>Each Left <code>\\:</code></a></span></li><li><span><a href=\"#Each-Right-/:\" data-toc-modified-id=\"Each-Right-/:-7.4\"><span class=\"toc-item-num\">7.4&nbsp;&nbsp;</span>Each Right <code>/:</code></a></span></li><li><span><a href=\"#Cross-Product\" data-toc-modified-id=\"Cross-Product-7.5\"><span class=\"toc-item-num\">7.5&nbsp;&nbsp;</span>Cross Product</a></span></li><li><span><a href=\"#Over-(/)-for-Accumulation\" data-toc-modified-id=\"Over-(/)-for-Accumulation-7.6\"><span class=\"toc-item-num\">7.6&nbsp;&nbsp;</span>Over (<code>/</code>) for Accumulation</a></span></li><li><span><a href=\"#More-Over:-Iteration\" data-toc-modified-id=\"More-Over:-Iteration-7.7\"><span class=\"toc-item-num\">7.7&nbsp;&nbsp;</span>More Over: Iteration</a></span></li><li><span><a href=\"#Scan-\\\" data-toc-modified-id=\"Scan-\\-7.8\"><span class=\"toc-item-num\">7.8&nbsp;&nbsp;</span>Scan <code>\\</code></a></span></li><li><span><a href=\"#Each-Prior-(':)\" data-toc-modified-id=\"Each-Prior-(':)-7.9\"><span class=\"toc-item-num\">7.9&nbsp;&nbsp;</span>Each Prior (<code>':</code>)</a></span></li></ul></li><li><span><a href=\"#General-Application\" data-toc-modified-id=\"General-Application-8\"><span class=\"toc-item-num\">8&nbsp;&nbsp;</span>General Application</a></span><ul class=\"toc-item\"><li><span><a href=\"#Operator-Apply-At-@\" data-toc-modified-id=\"Operator-Apply-At-@-8.1\"><span class=\"toc-item-num\">8.1&nbsp;&nbsp;</span>Operator Apply At <code>@</code></a></span></li><li><span><a href=\"#Operator-Apply-.\" data-toc-modified-id=\"Operator-Apply-.-8.2\"><span class=\"toc-item-num\">8.2&nbsp;&nbsp;</span>Operator Apply <code>.</code></a></span></li><li><span><a href=\"#General-Form-of-Function-Application\" data-toc-modified-id=\"General-Form-of-Function-Application-8.3\"><span class=\"toc-item-num\">8.3&nbsp;&nbsp;</span>General Form of Function Application</a></span></li><li><span><a href=\"#General-Apply-(@)-with-Unary-Functions\" data-toc-modified-id=\"General-Apply-(@)-with-Unary-Functions-8.4\"><span class=\"toc-item-num\">8.4&nbsp;&nbsp;</span>General Apply (<code>@</code>) with Unary Functions</a></span></li><li><span><a href=\"#General-Apply-(@)-with-Binary-Functions\" data-toc-modified-id=\"General-Apply-(@)-with-Binary-Functions-8.5\"><span class=\"toc-item-num\">8.5&nbsp;&nbsp;</span>General Apply (<code>@</code>) with Binary Functions</a></span></li><li><span><a href=\"#General-Apply-(.)-for-Unary-Functions\" data-toc-modified-id=\"General-Apply-(.)-for-Unary-Functions-8.6\"><span class=\"toc-item-num\">8.6&nbsp;&nbsp;</span>General Apply (<code>.</code>) for Unary Functions</a></span></li><li><span><a href=\"#General-Apply-(.)-for-Binary-Functions\" data-toc-modified-id=\"General-Apply-(.)-for-Binary-Functions-8.7\"><span class=\"toc-item-num\">8.7&nbsp;&nbsp;</span>General Apply (.) for Binary Functions</a></span></li></ul></li></ul></div>"
   ]
  },
  {
   "cell_type": "markdown",
   "metadata": {},
   "source": [
    "## Function Specification\n",
    "### Function Definition"
   ]
  },
  {
   "cell_type": "code",
   "execution_count": 2,
   "metadata": {
    "ExecuteTime": {
     "end_time": "2020-11-20T12:15:40.046771000Z",
     "start_time": "2020-11-20T12:15:40.039Z"
    }
   },
   "outputs": [
    {
     "data": {
      "text/plain": [
       "9\n"
      ]
     },
     "execution_count": 2,
     "metadata": {},
     "output_type": "execute_result"
    }
   ],
   "source": [
    "f:{[x] x*x}\n",
    "f[3]"
   ]
  },
  {
   "cell_type": "markdown",
   "metadata": {},
   "source": [
    "### Function Notation and Terminology"
   ]
  },
  {
   "cell_type": "markdown",
   "metadata": {},
   "source": [
    "$\\{[p_1;\\dots;p_n]\\  e_1;\\dots;e_m \\}$\n",
    "\n",
    "The optional $p_{1}, \\ldots, p_{n}$ are formal parameters. The expressions $e_{1}, \\ldots, e_{m}-$ which presumably involve the parameters represent the steps of an algorithm that are evaluated in order. Note that while the expressions are sequenced left-to-right, an\n",
    "individual expression is always evaluated right-to-left."
   ]
  },
  {
   "cell_type": "markdown",
   "metadata": {},
   "source": [
    "In fact, `;` is an operator that evaluates its left operand and discards the result, then evaluates the right operand and returns that value. If you meditate on this, you will realize that this is precisely the behavior of the semi-colon separators in a function body."
   ]
  },
  {
   "cell_type": "code",
   "execution_count": 3,
   "metadata": {
    "ExecuteTime": {
     "end_time": "2020-11-20T12:18:01.204147000Z",
     "start_time": "2020-11-20T12:18:01.199Z"
    }
   },
   "outputs": [
    {
     "data": {
      "text/plain": [
       "42\n"
      ]
     },
     "execution_count": 3,
     "metadata": {},
     "output_type": "execute_result"
    }
   ],
   "source": [
    "a:2*3;6*7"
   ]
  },
  {
   "cell_type": "code",
   "execution_count": 4,
   "metadata": {
    "ExecuteTime": {
     "end_time": "2020-11-20T12:18:02.369752000Z",
     "start_time": "2020-11-20T12:18:02.361Z"
    }
   },
   "outputs": [
    {
     "data": {
      "text/plain": [
       "6\n"
      ]
     },
     "execution_count": 4,
     "metadata": {},
     "output_type": "execute_result"
    }
   ],
   "source": [
    "a"
   ]
  },
  {
   "cell_type": "markdown",
   "metadata": {},
   "source": [
    "The number of formal input parameters (implicit or explicit) is the function _valence_. Most common are _unary_ (valence 1) and _binary_ (valence 2)."
   ]
  },
  {
   "cell_type": "code",
   "execution_count": 5,
   "metadata": {
    "ExecuteTime": {
     "end_time": "2020-11-20T12:20:11.712737000Z",
     "start_time": "2020-11-20T12:20:11.711Z"
    }
   },
   "outputs": [],
   "source": [
    "/unary\n",
    "f:{[] 42}\n",
    "f:{[] a*a}"
   ]
  },
  {
   "cell_type": "markdown",
   "metadata": {},
   "source": [
    "The output value of a function written in functional programming style is the value of the last expression in its body. "
   ]
  },
  {
   "cell_type": "code",
   "execution_count": null,
   "metadata": {},
   "outputs": [],
   "source": [
    "{[x] x*x}\n",
    "{[x;y] a:x*x; b:y*y; r:a+b; r}"
   ]
  },
  {
   "cell_type": "markdown",
   "metadata": {},
   "source": [
    "**Keep it short**\n",
    "\n",
    "Q functions should be compact and modular: each function should perform a well-defined unit of work. Due to the power of q operators and built-in functions, many functions are one line.\n",
    "\n",
    "When a function exceeds 20 statements, you should look to refactor it."
   ]
  },
  {
   "cell_type": "markdown",
   "metadata": {},
   "source": [
    "### Function Application"
   ]
  },
  {
   "cell_type": "code",
   "execution_count": 6,
   "metadata": {
    "ExecuteTime": {
     "end_time": "2020-11-20T12:23:10.312278000Z",
     "start_time": "2020-11-20T12:23:10.309Z"
    }
   },
   "outputs": [
    {
     "data": {
      "text/plain": [
       "9\n"
      ]
     },
     "execution_count": 6,
     "metadata": {},
     "output_type": "execute_result"
    },
    {
     "data": {
      "text/plain": [
       "16\n"
      ]
     },
     "execution_count": 6,
     "metadata": {},
     "output_type": "execute_result"
    }
   ],
   "source": [
    "{[x] x*x}[3]\n",
    "f:{[x] x*x}\n",
    "f[4]"
   ]
  },
  {
   "cell_type": "code",
   "execution_count": 7,
   "metadata": {
    "ExecuteTime": {
     "end_time": "2020-11-20T12:23:22.998912000Z",
     "start_time": "2020-11-20T12:23:22.995Z"
    }
   },
   "outputs": [
    {
     "data": {
      "text/plain": [
       "7\n"
      ]
     },
     "execution_count": 7,
     "metadata": {},
     "output_type": "execute_result"
    },
    {
     "data": {
      "text/plain": [
       "7\n"
      ]
     },
     "execution_count": 7,
     "metadata": {},
     "output_type": "execute_result"
    }
   ],
   "source": [
    "{[x;y] x+y}[3;4]\n",
    "g:{[x;y] x+y}\n",
    "g[3;4]"
   ]
  },
  {
   "cell_type": "markdown",
   "metadata": {},
   "source": [
    "Function application in q is _strict_, meaning that **expressions in arguments are evaluated before substitution is performed.**"
   ]
  },
  {
   "cell_type": "code",
   "execution_count": 8,
   "metadata": {
    "ExecuteTime": {
     "end_time": "2020-11-20T12:24:18.002917000Z",
     "start_time": "2020-11-20T12:24:17.995Z"
    }
   },
   "outputs": [
    {
     "name": "stdout",
     "output_type": "stream",
     "text": [
      "4\n"
     ]
    },
    {
     "data": {
      "text/plain": [
       "16\n"
      ]
     },
     "execution_count": 8,
     "metadata": {},
     "output_type": "execute_result"
    }
   ],
   "source": [
    "f:{[x] x*x}\n",
    "f[0N!3+1]"
   ]
  },
  {
   "cell_type": "markdown",
   "metadata": {},
   "source": [
    "The valence of a function is also called its _rank_. An application with too many arguments generates a `'rank` error. This doesn’t mean your code stinks, although it might."
   ]
  },
  {
   "cell_type": "code",
   "execution_count": 8,
   "metadata": {
    "ExecuteTime": {
     "end_time": "2020-11-20T12:24:50.703827000Z",
     "start_time": "2020-11-20T12:24:50.701Z"
    }
   },
   "outputs": [
    {
     "ename": "\u001b[0;31mrank\u001b[0m",
     "evalue": "\u001b[0;31mrank\u001b[0m",
     "output_type": "error",
     "traceback": [
      "\u001b[0;31mevaluation error:\n\u001b[0m",
      "\u001b[0;31mrank\u001b[0m",
      "\u001b[0;31m\u001b[0m",
      "\u001b[0;31m  [0]  {[x] x*x}[3;4]\n       ^\n\u001b[0m"
     ]
    }
   ],
   "source": [
    "{[x] x*x}[3;4]"
   ]
  },
  {
   "cell_type": "markdown",
   "metadata": {},
   "source": [
    "Apply a nullary function with **no arguments or with an arbitrary argument, which is ignored**."
   ]
  },
  {
   "cell_type": "code",
   "execution_count": 9,
   "metadata": {
    "ExecuteTime": {
     "end_time": "2020-11-20T12:25:18.984665000Z",
     "start_time": "2020-11-20T12:25:18.976Z"
    }
   },
   "outputs": [
    {
     "data": {
      "text/plain": [
       "42\n"
      ]
     },
     "execution_count": 9,
     "metadata": {},
     "output_type": "execute_result"
    },
    {
     "data": {
      "text/plain": [
       "42\n"
      ]
     },
     "execution_count": 9,
     "metadata": {},
     "output_type": "execute_result"
    }
   ],
   "source": [
    "const42:{[] 42}\n",
    "const42[]\n",
    "const42[98.6]"
   ]
  },
  {
   "cell_type": "markdown",
   "metadata": {},
   "source": [
    "### Functions with No Return Value"
   ]
  },
  {
   "cell_type": "markdown",
   "metadata": {},
   "source": [
    "Every q function has a return value but sometimes the value carries no meaningful information – i.e., it is used purely for side effects. For example, it may send off a message asynchronously without waiting for an acknowledgement of receipt or it may update a global table. To achieve the equivalent of a `void` return in C, make the expression after the last semi-colon in the function body empty."
   ]
  },
  {
   "cell_type": "code",
   "execution_count": 10,
   "metadata": {
    "ExecuteTime": {
     "end_time": "2020-11-20T12:27:04.360504000Z",
     "start_time": "2020-11-20T12:27:04.357Z"
    }
   },
   "outputs": [],
   "source": [
    "fvoid: {[x] `a set x;}\n",
    "fvoid 42"
   ]
  },
  {
   "cell_type": "markdown",
   "metadata": {},
   "source": [
    "In fact, the actual return value is the nil item `::` that is a stand-in for `void` in this situation. Its display is suppressed in the q console but it can be revealed."
   ]
  },
  {
   "cell_type": "code",
   "execution_count": 11,
   "metadata": {
    "ExecuteTime": {
     "end_time": "2020-11-20T12:27:11.634228000Z",
     "start_time": "2020-11-20T12:27:11.631Z"
    }
   },
   "outputs": [
    {
     "data": {
      "text/plain": [
       "\"::\"\n"
      ]
     },
     "execution_count": 11,
     "metadata": {},
     "output_type": "execute_result"
    }
   ],
   "source": [
    ".Q.s1 fvoid 42"
   ]
  },
  {
   "cell_type": "markdown",
   "metadata": {},
   "source": [
    "**Semi-colon terminators**\n",
    "\n",
    "A common error made by qbies is to use semi-colons in a function body as expression terminators rather than as separators. This effectively makes the function return nil since the last expression is empty."
   ]
  },
  {
   "cell_type": "markdown",
   "metadata": {
    "ExecuteTime": {
     "end_time": "2020-11-20T12:28:04.790687000Z",
     "start_time": "2020-11-20T12:28:04.788Z"
    }
   },
   "source": [
    "### We Don't Need No Stinkin’ Brackets"
   ]
  },
  {
   "cell_type": "code",
   "execution_count": 12,
   "metadata": {
    "ExecuteTime": {
     "end_time": "2020-11-20T12:28:24.970252000Z",
     "start_time": "2020-11-20T12:28:24.967Z"
    }
   },
   "outputs": [
    {
     "data": {
      "text/plain": [
       "84\n"
      ]
     },
     "execution_count": 12,
     "metadata": {},
     "output_type": "execute_result"
    },
    {
     "data": {
      "text/plain": [
       "25\n"
      ]
     },
     "execution_count": 12,
     "metadata": {},
     "output_type": "execute_result"
    }
   ],
   "source": [
    "{[x] 2*x} 42\n",
    "f:{[x] x*x}\n",
    "f 5"
   ]
  },
  {
   "cell_type": "markdown",
   "metadata": {},
   "source": [
    "### Application of a Name"
   ]
  },
  {
   "cell_type": "markdown",
   "metadata": {},
   "source": [
    "When a function has been assigned to a global variable, it can be applied by name – i.e., use the symbol name of the variable in place of the variable itself.\n",
    "\n",
    "This works because a global variable is **implemented as a symbolic-name/function pair in a dictionary**. Referring to the variable is actually lookup-by-name. Consequently application by name does **not** work for local variables or q system variables."
   ]
  },
  {
   "cell_type": "code",
   "execution_count": 13,
   "metadata": {
    "ExecuteTime": {
     "end_time": "2020-11-20T12:29:12.221937000Z",
     "start_time": "2020-11-20T12:29:12.216Z"
    }
   },
   "outputs": [
    {
     "data": {
      "text/plain": [
       "25\n"
      ]
     },
     "execution_count": 13,
     "metadata": {},
     "output_type": "execute_result"
    },
    {
     "data": {
      "text/plain": [
       "25\n"
      ]
     },
     "execution_count": 13,
     "metadata": {},
     "output_type": "execute_result"
    },
    {
     "data": {
      "text/plain": [
       "25\n"
      ]
     },
     "execution_count": 13,
     "metadata": {},
     "output_type": "execute_result"
    },
    {
     "data": {
      "text/plain": [
       "10\n"
      ]
     },
     "execution_count": 13,
     "metadata": {},
     "output_type": "execute_result"
    }
   ],
   "source": [
    "f:{x*x}\n",
    "f[5]\n",
    "`f[5]\n",
    "`f 5\n",
    ".my.name.space.f:{2*x}\n",
    "`.my.name.space.f[5]"
   ]
  },
  {
   "cell_type": "markdown",
   "metadata": {},
   "source": [
    "### Implicit Parameters"
   ]
  },
  {
   "cell_type": "markdown",
   "metadata": {},
   "source": [
    "If, like mathematicians, you are satisfied with generic parameters x, y and z, you can omit the formal parameters and their brackets. Three implicit positional parameters `x`, `y` and `z` are automatically defined and available in a function’s expressions when no parameters are explicitly declared."
   ]
  },
  {
   "cell_type": "code",
   "execution_count": 14,
   "metadata": {
    "ExecuteTime": {
     "end_time": "2020-11-20T12:30:38.598442000Z",
     "start_time": "2020-11-20T12:30:38.595Z"
    }
   },
   "outputs": [
    {
     "data": {
      "text/plain": [
       "{[x] x*x}\n"
      ]
     },
     "execution_count": 14,
     "metadata": {},
     "output_type": "execute_result"
    },
    {
     "data": {
      "text/plain": [
       "25\n"
      ]
     },
     "execution_count": 14,
     "metadata": {},
     "output_type": "execute_result"
    }
   ],
   "source": [
    "{[x] x*x}\n",
    "{x*x} 5"
   ]
  },
  {
   "cell_type": "code",
   "execution_count": 16,
   "metadata": {
    "ExecuteTime": {
     "end_time": "2020-11-20T12:31:22.877062000Z",
     "start_time": "2020-11-20T12:31:22.874Z"
    }
   },
   "outputs": [
    {
     "data": {
      "text/plain": [
       "{[x;y] x+y}\n"
      ]
     },
     "execution_count": 16,
     "metadata": {},
     "output_type": "execute_result"
    },
    {
     "data": {
      "text/plain": [
       "15\n"
      ]
     },
     "execution_count": 16,
     "metadata": {},
     "output_type": "execute_result"
    }
   ],
   "source": [
    "{[x;y] x+y}\n",
    "{x+y} [5;10]"
   ]
  },
  {
   "cell_type": "markdown",
   "metadata": {},
   "source": [
    "When using implicit parameters, x is always substituted by the first actual argument, y the second and z the third."
   ]
  },
  {
   "cell_type": "markdown",
   "metadata": {},
   "source": [
    "The following function `f` only evaluates **partially** unless it is called with three parameters."
   ]
  },
  {
   "cell_type": "code",
   "execution_count": 17,
   "metadata": {
    "ExecuteTime": {
     "end_time": "2020-11-20T12:32:16.438578000Z",
     "start_time": "2020-11-20T12:32:16.435Z"
    }
   },
   "outputs": [
    {
     "data": {
      "text/plain": [
       "{x+z}[1;2]\n"
      ]
     },
     "execution_count": 17,
     "metadata": {},
     "output_type": "execute_result"
    }
   ],
   "source": [
    "g:{x+z}\n",
    "g[1;2] / still waiting for 3rd arg – i.e., a projection"
   ]
  },
  {
   "cell_type": "code",
   "execution_count": 18,
   "metadata": {
    "ExecuteTime": {
     "end_time": "2020-11-20T12:32:35.559479000Z",
     "start_time": "2020-11-20T12:32:35.552Z"
    }
   },
   "outputs": [
    {
     "data": {
      "text/plain": [
       "4\n"
      ]
     },
     "execution_count": 18,
     "metadata": {},
     "output_type": "execute_result"
    }
   ],
   "source": [
    "g[1;2;3] / 2nd arg is required but ignored"
   ]
  },
  {
   "cell_type": "code",
   "execution_count": 4,
   "metadata": {
    "ExecuteTime": {
     "end_time": "2021-02-02T18:59:23.074900000Z",
     "start_time": "2021-02-02T18:59:23.069Z"
    }
   },
   "outputs": [
    {
     "data": {
      "text/plain": [
       "3\n"
      ]
     },
     "execution_count": 4,
     "metadata": {},
     "output_type": "execute_result"
    }
   ],
   "source": [
    "h:{[a;z] a+z}\n",
    "h[1;2]"
   ]
  },
  {
   "cell_type": "markdown",
   "metadata": {},
   "source": [
    "### Anonymous Functions and Lambda Expressions"
   ]
  },
  {
   "cell_type": "markdown",
   "metadata": {},
   "source": [
    "### The Identity Function `::`"
   ]
  },
  {
   "cell_type": "markdown",
   "metadata": {},
   "source": [
    "When `::` is used with function application syntax, it is the identity function – i.e., **it returns its input as output.**\n",
    "\n",
    "The naked identity function cannot be used with prefix syntax; it must be **enclosed in parentheses**."
   ]
  },
  {
   "cell_type": "code",
   "execution_count": 19,
   "metadata": {
    "ExecuteTime": {
     "end_time": "2020-11-20T12:46:17.332878000Z",
     "start_time": "2020-11-20T12:46:17.325Z"
    }
   },
   "outputs": [
    {
     "data": {
      "text/plain": [
       "42\n"
      ]
     },
     "execution_count": 19,
     "metadata": {},
     "output_type": "execute_result"
    }
   ],
   "source": [
    "::[42]"
   ]
  },
  {
   "cell_type": "code",
   "execution_count": 20,
   "metadata": {
    "ExecuteTime": {
     "end_time": "2020-11-20T12:46:21.548961000Z",
     "start_time": "2020-11-20T12:46:21.546Z"
    }
   },
   "outputs": [
    {
     "data": {
      "text/plain": [
       "`a`b`c\n"
      ]
     },
     "execution_count": 20,
     "metadata": {},
     "output_type": "execute_result"
    }
   ],
   "source": [
    "::[`a`b`c]"
   ]
  },
  {
   "cell_type": "code",
   "execution_count": 20,
   "metadata": {
    "ExecuteTime": {
     "end_time": "2020-11-20T12:46:24.596482000Z",
     "start_time": "2020-11-20T12:46:24.594Z"
    }
   },
   "outputs": [
    {
     "ename": "\u001b[0;31mparse error\u001b[0m",
     "evalue": "\u001b[0;31m \u001b[0m",
     "output_type": "error",
     "traceback": [
      "\u001b[0;31mparse error\u001b[0m",
      "\u001b[0;31m \u001b[0m"
     ]
    }
   ],
   "source": [
    ":: 42"
   ]
  },
  {
   "cell_type": "code",
   "execution_count": 21,
   "metadata": {
    "ExecuteTime": {
     "end_time": "2020-11-20T12:46:30.670292000Z",
     "start_time": "2020-11-20T12:46:30.667Z"
    }
   },
   "outputs": [
    {
     "data": {
      "text/plain": [
       "42\n"
      ]
     },
     "execution_count": 21,
     "metadata": {},
     "output_type": "execute_result"
    }
   ],
   "source": [
    "(::) 42"
   ]
  },
  {
   "cell_type": "markdown",
   "metadata": {},
   "source": [
    "### Functions are Data"
   ]
  },
  {
   "cell_type": "code",
   "execution_count": 26,
   "metadata": {
    "ExecuteTime": {
     "end_time": "2020-11-20T12:55:08.066403000Z",
     "start_time": "2020-11-20T12:55:08.062Z"
    }
   },
   "outputs": [
    {
     "data": {
      "text/plain": [
       "1\n",
       "98.6\n",
       "{x*x}\n"
      ]
     },
     "execution_count": 26,
     "metadata": {},
     "output_type": "execute_result"
    },
    {
     "data": {
      "text/plain": [
       "{x*x}\n",
       "-:\n"
      ]
     },
     "execution_count": 26,
     "metadata": {},
     "output_type": "execute_result"
    },
    {
     "data": {
      "text/plain": [
       "{x*x}\n"
      ]
     },
     "execution_count": 26,
     "metadata": {},
     "output_type": "execute_result"
    },
    {
     "data": {
      "text/plain": [
       "25\n"
      ]
     },
     "execution_count": 26,
     "metadata": {},
     "output_type": "execute_result"
    }
   ],
   "source": [
    "(1; 98.6; {x*x})\n",
    "f:{x*x}\n",
    "(f; neg)\n",
    "(f; neg)[0]\n",
    "(neg; f)[1; 5]"
   ]
  },
  {
   "cell_type": "markdown",
   "metadata": {},
   "source": [
    "A function that operates on other functions is called a higher-order function. Higher-order functions are a powerful concept from functional programming. The derivative and indefinite integral are higher-order functions in elementary calculus.\n",
    "\n"
   ]
  },
  {
   "cell_type": "code",
   "execution_count": 27,
   "metadata": {
    "ExecuteTime": {
     "end_time": "2020-11-20T12:55:49.472012000Z",
     "start_time": "2020-11-20T12:55:49.464Z"
    }
   },
   "outputs": [
    {
     "data": {
      "text/plain": [
       "25\n"
      ]
     },
     "execution_count": 27,
     "metadata": {},
     "output_type": "execute_result"
    }
   ],
   "source": [
    "apply:{x y}\n",
    "sq:{x*x}\n",
    "apply[sq; 5]"
   ]
  },
  {
   "cell_type": "markdown",
   "metadata": {},
   "source": [
    "## Call-by-Name"
   ]
  },
  {
   "cell_type": "markdown",
   "metadata": {},
   "source": [
    "**When the size of the input data is large, this copy may be prohibitive**. In this case, there is an alternative method of application, call-by-name, in which names of (global) variables are passed instead of their values."
   ]
  },
  {
   "cell_type": "markdown",
   "metadata": {},
   "source": [
    "There is no special syntax for call-by-name in q. Instead, the function implementation simply expects a symbol containing the name of a variable and handles it appropriately. One example of a function that uses call-by-name is the built-in function `get`, which returns the value of the global variable whose name is passed."
   ]
  },
  {
   "cell_type": "code",
   "execution_count": 28,
   "metadata": {
    "ExecuteTime": {
     "end_time": "2020-11-20T12:57:15.048973000Z",
     "start_time": "2020-11-20T12:57:15.046Z"
    }
   },
   "outputs": [
    {
     "data": {
      "text/plain": [
       "42\n"
      ]
     },
     "execution_count": 28,
     "metadata": {},
     "output_type": "execute_result"
    }
   ],
   "source": [
    "a:42\n",
    "get `a"
   ]
  },
  {
   "cell_type": "markdown",
   "metadata": {},
   "source": [
    "Another example is binary `set`, which does the actual work of global assignment. **It expects the name of a global variable and the value to be assigned.**"
   ]
  },
  {
   "cell_type": "code",
   "execution_count": 29,
   "metadata": {
    "ExecuteTime": {
     "end_time": "2020-11-20T12:59:36.253346000Z",
     "start_time": "2020-11-20T12:59:36.244Z"
    }
   },
   "outputs": [
    {
     "data": {
      "text/plain": [
       "`a\n"
      ]
     },
     "execution_count": 29,
     "metadata": {},
     "output_type": "execute_result"
    },
    {
     "data": {
      "text/plain": [
       "43\n"
      ]
     },
     "execution_count": 29,
     "metadata": {},
     "output_type": "execute_result"
    }
   ],
   "source": [
    "`a set 43\n",
    "a"
   ]
  },
  {
   "cell_type": "markdown",
   "metadata": {},
   "source": [
    "## Local and Global Variables\n",
    "###  Defining Local and Global Variables\n",
    "\n",
    "A variable that is assigned with : within a function body is called a local variable. As of this writing (Sep 2015), the maximum number of local variables permitted in a function is 24."
   ]
  },
  {
   "cell_type": "code",
   "execution_count": 1,
   "metadata": {
    "ExecuteTime": {
     "end_time": "2020-11-20T13:10:04.508755000Z",
     "start_time": "2020-11-20T13:10:04.467Z"
    }
   },
   "outputs": [],
   "source": [
    "f:{a:42; a+x}"
   ]
  },
  {
   "cell_type": "markdown",
   "metadata": {},
   "source": [
    "- A local variable cannot be used as an argument to a q function that uses call-by-name.\n",
    "- A local variable is not visible within the body of a local function defined in the same scope. Otherwise put,**q does not have lexical scoping.**"
   ]
  },
  {
   "cell_type": "code",
   "execution_count": 2,
   "metadata": {
    "ExecuteTime": {
     "end_time": "2020-11-20T13:10:05.854317000Z",
     "start_time": "2020-11-20T13:10:05.852Z"
    }
   },
   "outputs": [],
   "source": [
    "f:{[p1] a:42; helper:{[p2] a*p2}; helper p1}"
   ]
  },
  {
   "cell_type": "code",
   "execution_count": 2,
   "metadata": {
    "ExecuteTime": {
     "end_time": "2020-11-20T13:10:06.290578000Z",
     "start_time": "2020-11-20T13:10:06.283Z"
    }
   },
   "outputs": [
    {
     "ename": "\u001b[0;31ma\u001b[0m",
     "evalue": "\u001b[0;31ma\u001b[0m",
     "output_type": "error",
     "traceback": [
      "\u001b[0;31mevaluation error:\n\u001b[0m",
      "\u001b[0;31ma\u001b[0m",
      "\u001b[0;31m\u001b[0m",
      "\u001b[0;31m  [2]  f@:{[p2] a*p2}\n                ^\n\u001b[0m",
      "\u001b[0;31m  [1]  f:{[p1] a:42; helper:{[p2] a*p2}; helper p1}\n                                         ^\n\u001b[0m",
      "\u001b[0;31m  [0]  f 5\n       ^\n\u001b[0m"
     ]
    }
   ],
   "source": [
    "f 5"
   ]
  },
  {
   "cell_type": "code",
   "execution_count": 3,
   "metadata": {
    "ExecuteTime": {
     "end_time": "2020-11-20T13:10:08.647162000Z",
     "start_time": "2020-11-20T13:10:08.644Z"
    }
   },
   "outputs": [
    {
     "data": {
      "text/plain": [
       "210\n"
      ]
     },
     "execution_count": 3,
     "metadata": {},
     "output_type": "execute_result"
    }
   ],
   "source": [
    "g:{[p1] a:42; helper:{[a; p2] a*p2}[a;]; helper p1}\n",
    "g 5"
   ]
  },
  {
   "cell_type": "code",
   "execution_count": 4,
   "metadata": {
    "ExecuteTime": {
     "end_time": "2020-11-20T13:11:53.432343000Z",
     "start_time": "2020-11-20T13:11:53.425Z"
    }
   },
   "outputs": [
    {
     "data": {
      "text/plain": [
       "42\n"
      ]
     },
     "execution_count": 4,
     "metadata": {},
     "output_type": "execute_result"
    }
   ],
   "source": [
    "b:7\n",
    "f:{b*x}\n",
    "f[6]"
   ]
  },
  {
   "cell_type": "markdown",
   "metadata": {},
   "source": [
    "Maximum number of global variables: As of this writing (Sep 2015), the maximum number of global variables that can be referenced in a function is 32."
   ]
  },
  {
   "cell_type": "markdown",
   "metadata": {},
   "source": [
    "### Assigning Global Variables within a Function\n",
    "\n",
    "Although functional programming purists will cringe, you can assign a global within a function body. Some q programmers mistakenly use double colon `::`, which works provided there is no local variable with the same name."
   ]
  },
  {
   "cell_type": "code",
   "execution_count": 5,
   "metadata": {
    "ExecuteTime": {
     "end_time": "2020-11-20T13:12:59.801703000Z",
     "start_time": "2020-11-20T13:12:59.793Z"
    }
   },
   "outputs": [
    {
     "data": {
      "text/plain": [
       "42\n"
      ]
     },
     "execution_count": 5,
     "metadata": {},
     "output_type": "execute_result"
    },
    {
     "data": {
      "text/plain": [
       "7\n"
      ]
     },
     "execution_count": 5,
     "metadata": {},
     "output_type": "execute_result"
    }
   ],
   "source": [
    "b:6\n",
    "f:{b::7; x*b}\n",
    "f[6]\n",
    "b"
   ]
  },
  {
   "cell_type": "markdown",
   "metadata": {},
   "source": [
    "This usage of `::` is analogous to other forms of amend-in-place, such as `+:` or `,:`, but using the assignment operator itself `:`. This accounts for its somewhat unintuitive properties – **it is not truly a global assignment operator.**"
   ]
  },
  {
   "cell_type": "markdown",
   "metadata": {},
   "source": [
    "If there is a local variable having the same name as the global you intend to assign, double-colon assigns the **local**, not the global."
   ]
  },
  {
   "cell_type": "code",
   "execution_count": 7,
   "metadata": {
    "ExecuteTime": {
     "end_time": "2020-11-20T17:03:17.537775000Z",
     "start_time": "2020-11-20T17:03:17.535Z"
    }
   },
   "outputs": [
    {
     "data": {
      "text/plain": [
       "98\n"
      ]
     },
     "execution_count": 7,
     "metadata": {},
     "output_type": "execute_result"
    },
    {
     "data": {
      "text/plain": [
       "6\n"
      ]
     },
     "execution_count": 7,
     "metadata": {},
     "output_type": "execute_result"
    }
   ],
   "source": [
    "b:6\n",
    "f:{b:42; b::x; b}\n",
    "f[98]\n",
    "b"
   ]
  },
  {
   "cell_type": "markdown",
   "metadata": {},
   "source": [
    "**Global assignment**\n",
    "\n",
    "We recommend **against** `::` for global assignment. Instead, use `set` which truly does global assignment and doesn’t get hung up on a local-global name collision."
   ]
  },
  {
   "cell_type": "code",
   "execution_count": 8,
   "metadata": {
    "ExecuteTime": {
     "end_time": "2020-11-20T17:03:21.586150000Z",
     "start_time": "2020-11-20T17:03:21.584Z"
    }
   },
   "outputs": [
    {
     "data": {
      "text/plain": [
       "98.6\n"
      ]
     },
     "execution_count": 8,
     "metadata": {},
     "output_type": "execute_result"
    }
   ],
   "source": [
    "a:42\n",
    "f:{a:98.6; `a set x; a}\n",
    "f 43"
   ]
  },
  {
   "cell_type": "code",
   "execution_count": 9,
   "metadata": {
    "ExecuteTime": {
     "end_time": "2020-11-20T17:03:22.693403000Z",
     "start_time": "2020-11-20T17:03:22.685Z"
    }
   },
   "outputs": [
    {
     "data": {
      "text/plain": [
       "43\n"
      ]
     },
     "execution_count": 9,
     "metadata": {},
     "output_type": "execute_result"
    }
   ],
   "source": [
    "a"
   ]
  },
  {
   "cell_type": "markdown",
   "metadata": {},
   "source": [
    "## Projection \n",
    "\n",
    "### Function Projection"
   ]
  },
  {
   "cell_type": "code",
   "execution_count": 10,
   "metadata": {
    "ExecuteTime": {
     "end_time": "2020-11-20T17:04:23.406539000Z",
     "start_time": "2020-11-20T17:04:23.399Z"
    }
   },
   "outputs": [
    {
     "data": {
      "text/plain": [
       "{x+y}[42;]\n"
      ]
     },
     "execution_count": 10,
     "metadata": {},
     "output_type": "execute_result"
    }
   ],
   "source": [
    "add:{x+y}\n",
    "add[42;]"
   ]
  },
  {
   "cell_type": "code",
   "execution_count": 11,
   "metadata": {
    "ExecuteTime": {
     "end_time": "2020-11-20T17:04:34.508056000Z",
     "start_time": "2020-11-20T17:04:34.500Z"
    }
   },
   "outputs": [
    {
     "data": {
      "text/plain": [
       "45\n"
      ]
     },
     "execution_count": 11,
     "metadata": {},
     "output_type": "execute_result"
    }
   ],
   "source": [
    "add[42;][3]"
   ]
  },
  {
   "cell_type": "code",
   "execution_count": 12,
   "metadata": {
    "ExecuteTime": {
     "end_time": "2020-11-20T18:33:19.082391000Z",
     "start_time": "2020-11-20T18:33:19.072Z"
    }
   },
   "outputs": [
    {
     "data": {
      "text/plain": [
       "45\n"
      ]
     },
     "execution_count": 12,
     "metadata": {},
     "output_type": "execute_result"
    }
   ],
   "source": [
    "g:add[42;]\n",
    "g[3]"
   ]
  },
  {
   "cell_type": "markdown",
   "metadata": {},
   "source": [
    "_Projection_ is related to _currying_ in functional programming (named after Haskell Curry who did important early work on the theory of combinators). Both provide realizations of the mathematical observation that a function of two parameters is equivalent to a function of the first parameter that returns a function of the second parameter. This extends to multiple parameters as well."
   ]
  },
  {
   "cell_type": "code",
   "execution_count": 13,
   "metadata": {
    "ExecuteTime": {
     "end_time": "2020-11-20T18:34:32.359469000Z",
     "start_time": "2020-11-20T18:34:32.357Z"
    }
   },
   "outputs": [
    {
     "data": {
      "text/plain": [
       "9\n"
      ]
     },
     "execution_count": 13,
     "metadata": {},
     "output_type": "execute_result"
    }
   ],
   "source": [
    "add3:{x+y+z}\n",
    "add3[2][3][4]"
   ]
  },
  {
   "cell_type": "markdown",
   "metadata": {},
   "source": [
    "The brackets denoting a function projection are required, but the additional brackets in a unary projection’s application can be omitted using prefix syntax as with any function"
   ]
  },
  {
   "cell_type": "code",
   "execution_count": 14,
   "metadata": {
    "ExecuteTime": {
     "end_time": "2020-11-20T18:35:30.931411000Z",
     "start_time": "2020-11-20T18:35:30.929Z"
    }
   },
   "outputs": [
    {
     "data": {
      "text/plain": [
       "45\n"
      ]
     },
     "execution_count": 14,
     "metadata": {},
     "output_type": "execute_result"
    },
    {
     "data": {
      "text/plain": [
       "45\n"
      ]
     },
     "execution_count": 14,
     "metadata": {},
     "output_type": "execute_result"
    }
   ],
   "source": [
    "{x+y}[42;][3]\n",
    "{x+y}[42;] 3"
   ]
  },
  {
   "cell_type": "markdown",
   "metadata": {},
   "source": [
    "**The function body in a projection is captured at the time it is first encountered by the interpreter.**\n",
    "\n",
    "Thus if the underlying function is subsequently changed, the projection is not."
   ]
  },
  {
   "cell_type": "code",
   "execution_count": 15,
   "metadata": {
    "ExecuteTime": {
     "end_time": "2020-11-20T18:37:56.937035000Z",
     "start_time": "2020-11-20T18:37:56.926Z"
    }
   },
   "outputs": [
    {
     "data": {
      "text/plain": [
       "{x-y}[42;]\n"
      ]
     },
     "execution_count": 15,
     "metadata": {},
     "output_type": "execute_result"
    },
    {
     "data": {
      "text/plain": [
       "36\n"
      ]
     },
     "execution_count": 15,
     "metadata": {},
     "output_type": "execute_result"
    },
    {
     "data": {
      "text/plain": [
       "{x-y}[42;]\n"
      ]
     },
     "execution_count": 15,
     "metadata": {},
     "output_type": "execute_result"
    },
    {
     "data": {
      "text/plain": [
       "36\n"
      ]
     },
     "execution_count": 15,
     "metadata": {},
     "output_type": "execute_result"
    }
   ],
   "source": [
    "f:{x-y}\n",
    "g:f[42;]\n",
    "g\n",
    "g[6]\n",
    "f:{x+y}\n",
    "g\n",
    "g[6]"
   ]
  },
  {
   "cell_type": "markdown",
   "metadata": {},
   "source": [
    "### Operator Projection"
   ]
  },
  {
   "cell_type": "markdown",
   "metadata": {},
   "source": [
    "When used in infix form, a q operator can be projected by fixing its left operand (only). This requires parentheses. For example, the projection of `*`\n",
    "onto its right operand is,"
   ]
  },
  {
   "cell_type": "code",
   "execution_count": 16,
   "metadata": {
    "ExecuteTime": {
     "end_time": "2020-11-20T18:39:42.404884000Z",
     "start_time": "2020-11-20T18:39:42.402Z"
    }
   },
   "outputs": [
    {
     "data": {
      "text/plain": [
       "42\n"
      ]
     },
     "execution_count": 16,
     "metadata": {},
     "output_type": "execute_result"
    }
   ],
   "source": [
    "(7*) 6"
   ]
  },
  {
   "cell_type": "markdown",
   "metadata": {},
   "source": [
    "Due to the overloading of parentheses in q, an operator cannot be projected by fixing its right argument, since this would lead to notational ambiguity. For example, `-42` can only be the atom -42 and not a projection."
   ]
  },
  {
   "cell_type": "markdown",
   "metadata": {},
   "source": [
    "Nonetheless, **every operator is a function, so you can project it in prefix form.**"
   ]
  },
  {
   "cell_type": "code",
   "execution_count": 17,
   "metadata": {
    "ExecuteTime": {
     "end_time": "2020-11-20T18:40:13.184150000Z",
     "start_time": "2020-11-20T18:40:13.176Z"
    }
   },
   "outputs": [
    {
     "data": {
      "text/plain": [
       "56\n"
      ]
     },
     "execution_count": 17,
     "metadata": {},
     "output_type": "execute_result"
    }
   ],
   "source": [
    "-[;42] 98"
   ]
  },
  {
   "cell_type": "markdown",
   "metadata": {},
   "source": [
    "### Multiple Projections"
   ]
  },
  {
   "cell_type": "code",
   "execution_count": 19,
   "metadata": {
    "ExecuteTime": {
     "end_time": "2020-11-20T18:41:10.465301000Z",
     "start_time": "2020-11-20T18:41:10.457Z"
    }
   },
   "outputs": [
    {
     "data": {
      "text/plain": [
       "{x+y+z}[1;;3]\n"
      ]
     },
     "execution_count": 19,
     "metadata": {},
     "output_type": "execute_result"
    },
    {
     "data": {
      "text/plain": [
       "6\n"
      ]
     },
     "execution_count": 19,
     "metadata": {},
     "output_type": "execute_result"
    }
   ],
   "source": [
    "{x+y+z}[1;;3]\n",
    "{x+y+z}[1;;3] 2"
   ]
  },
  {
   "cell_type": "code",
   "execution_count": 20,
   "metadata": {
    "ExecuteTime": {
     "end_time": "2020-11-20T18:41:59.228042000Z",
     "start_time": "2020-11-20T18:41:59.223Z"
    }
   },
   "outputs": [
    {
     "data": {
      "text/plain": [
       "6\n"
      ]
     },
     "execution_count": 20,
     "metadata": {},
     "output_type": "execute_result"
    },
    {
     "data": {
      "text/plain": [
       "6\n"
      ]
     },
     "execution_count": 20,
     "metadata": {},
     "output_type": "execute_result"
    },
    {
     "data": {
      "text/plain": [
       "6\n"
      ]
     },
     "execution_count": 20,
     "metadata": {},
     "output_type": "execute_result"
    }
   ],
   "source": [
    "{x+y+z}[1;;][2;3]\n",
    "{x+y+z}[1;;][;3] 2\n",
    "{x+y+z}[;;3][1;] 2"
   ]
  },
  {
   "cell_type": "markdown",
   "metadata": {},
   "source": [
    "## Everything is a Map"
   ]
  },
  {
   "cell_type": "markdown",
   "metadata": {},
   "source": [
    "### Similarity of Notation"
   ]
  },
  {
   "cell_type": "code",
   "execution_count": 23,
   "metadata": {
    "ExecuteTime": {
     "end_time": "2020-11-20T18:45:11.866879000Z",
     "start_time": "2020-11-20T18:45:11.855Z"
    }
   },
   "outputs": [
    {
     "data": {
      "text/plain": [
       "4\n"
      ]
     },
     "execution_count": 23,
     "metadata": {},
     "output_type": "execute_result"
    },
    {
     "data": {
      "text/plain": [
       "4\n"
      ]
     },
     "execution_count": 23,
     "metadata": {},
     "output_type": "execute_result"
    },
    {
     "data": {
      "text/plain": [
       "4\n"
      ]
     },
     "execution_count": 23,
     "metadata": {},
     "output_type": "execute_result"
    },
    {
     "data": {
      "text/plain": [
       "4\n"
      ]
     },
     "execution_count": 23,
     "metadata": {},
     "output_type": "execute_result"
    }
   ],
   "source": [
    "L:0 1 4 9 16 25 36\n",
    "f:{x*x}\n",
    "L[2]\n",
    "L 2\n",
    "f[2]\n",
    "f 2"
   ]
  },
  {
   "cell_type": "markdown",
   "metadata": {},
   "source": [
    "### List of Indices, Keys and Arguments"
   ]
  },
  {
   "cell_type": "code",
   "execution_count": 24,
   "metadata": {
    "ExecuteTime": {
     "end_time": "2020-11-20T18:46:08.813970000Z",
     "start_time": "2020-11-20T18:46:08.810Z"
    }
   },
   "outputs": [
    {
     "data": {
      "text/plain": [
       "30 0N\n"
      ]
     },
     "execution_count": 24,
     "metadata": {},
     "output_type": "execute_result"
    },
    {
     "data": {
      "text/plain": [
       "30 0N\n"
      ]
     },
     "execution_count": 24,
     "metadata": {},
     "output_type": "execute_result"
    },
    {
     "data": {
      "text/plain": [
       "10 30\n"
      ]
     },
     "execution_count": 24,
     "metadata": {},
     "output_type": "execute_result"
    },
    {
     "data": {
      "text/plain": [
       "4 25\n"
      ]
     },
     "execution_count": 24,
     "metadata": {},
     "output_type": "execute_result"
    },
    {
     "data": {
      "text/plain": [
       "4 25\n"
      ]
     },
     "execution_count": 24,
     "metadata": {},
     "output_type": "execute_result"
    }
   ],
   "source": [
    "L:10 20 30 40 50\n",
    "L[2 5]\n",
    "I:2 5\n",
    "L I\n",
    "d:`a`b`c!10 20 30\n",
    "ks:`a`c\n",
    "d ks\n",
    "f[2 5]\n",
    "f I"
   ]
  },
  {
   "cell_type": "markdown",
   "metadata": {},
   "source": [
    "### Indexing at Depth"
   ]
  },
  {
   "cell_type": "code",
   "execution_count": 25,
   "metadata": {
    "ExecuteTime": {
     "end_time": "2020-11-20T18:47:13.487690000Z",
     "start_time": "2020-11-20T18:47:13.479Z"
    }
   },
   "outputs": [
    {
     "data": {
      "text/plain": [
       "1 2 3\n",
       "100 200\n"
      ]
     },
     "execution_count": 25,
     "metadata": {},
     "output_type": "execute_result"
    },
    {
     "data": {
      "text/plain": [
       "100\n"
      ]
     },
     "execution_count": 25,
     "metadata": {},
     "output_type": "execute_result"
    }
   ],
   "source": [
    "a:(1 2 3; 100 200)\n",
    "a\n",
    "a[1;0]"
   ]
  },
  {
   "cell_type": "code",
   "execution_count": 26,
   "metadata": {
    "ExecuteTime": {
     "end_time": "2020-11-20T19:06:03.822611000Z",
     "start_time": "2020-11-20T19:06:03.820Z"
    }
   },
   "outputs": [
    {
     "data": {
      "text/plain": [
       "2\n"
      ]
     },
     "execution_count": 26,
     "metadata": {},
     "output_type": "execute_result"
    }
   ],
   "source": [
    "d:`a`b!(1 2 3; 100 200)\n",
    "d[`a;1]"
   ]
  },
  {
   "cell_type": "markdown",
   "metadata": {},
   "source": [
    "### Projection and Index Elision"
   ]
  },
  {
   "cell_type": "code",
   "execution_count": 27,
   "metadata": {
    "ExecuteTime": {
     "end_time": "2020-11-20T19:08:06.775853000Z",
     "start_time": "2020-11-20T19:08:06.763Z"
    }
   },
   "outputs": [
    {
     "data": {
      "text/plain": [
       "10  20  30 \n",
       "100 200 300\n"
      ]
     },
     "execution_count": 27,
     "metadata": {},
     "output_type": "execute_result"
    },
    {
     "data": {
      "text/plain": [
       "300\n"
      ]
     },
     "execution_count": 27,
     "metadata": {},
     "output_type": "execute_result"
    },
    {
     "data": {
      "text/plain": [
       "30 300\n"
      ]
     },
     "execution_count": 27,
     "metadata": {},
     "output_type": "execute_result"
    },
    {
     "data": {
      "text/plain": [
       "300\n"
      ]
     },
     "execution_count": 27,
     "metadata": {},
     "output_type": "execute_result"
    }
   ],
   "source": [
    "m:(10 20 30; 100 200 300)\n",
    "m\n",
    "m[1;2]\n",
    "L:m[;2]\n",
    "L\n",
    "L[1]"
   ]
  },
  {
   "cell_type": "markdown",
   "metadata": {},
   "source": [
    "### Out of Bounds Index"
   ]
  },
  {
   "cell_type": "code",
   "execution_count": 28,
   "metadata": {
    "ExecuteTime": {
     "end_time": "2020-11-20T19:08:35.136426000Z",
     "start_time": "2020-11-20T19:08:35.134Z"
    }
   },
   "outputs": [
    {
     "data": {
      "text/plain": [
       "0N\n"
      ]
     },
     "execution_count": 28,
     "metadata": {},
     "output_type": "execute_result"
    }
   ],
   "source": [
    "10 20 30 40[100]"
   ]
  },
  {
   "cell_type": "code",
   "execution_count": 29,
   "metadata": {
    "ExecuteTime": {
     "end_time": "2020-11-20T19:08:41.489751000Z",
     "start_time": "2020-11-20T19:08:41.482Z"
    }
   },
   "outputs": [
    {
     "data": {
      "text/plain": [
       "`\n"
      ]
     },
     "execution_count": 29,
     "metadata": {},
     "output_type": "execute_result"
    }
   ],
   "source": [
    "`a`b`c[-1]"
   ]
  },
  {
   "cell_type": "code",
   "execution_count": 30,
   "metadata": {
    "ExecuteTime": {
     "end_time": "2020-11-20T19:08:48.723733000Z",
     "start_time": "2020-11-20T19:08:48.721Z"
    }
   },
   "outputs": [
    {
     "data": {
      "text/plain": [
       "0n\n"
      ]
     },
     "execution_count": 30,
     "metadata": {},
     "output_type": "execute_result"
    }
   ],
   "source": [
    "(1.1; 1; `1)[3]"
   ]
  },
  {
   "cell_type": "markdown",
   "metadata": {},
   "source": [
    "The behavior for dictionaries is completely analogous."
   ]
  },
  {
   "cell_type": "code",
   "execution_count": 31,
   "metadata": {
    "ExecuteTime": {
     "end_time": "2020-11-20T19:09:44.191270000Z",
     "start_time": "2020-11-20T19:09:44.189Z"
    }
   },
   "outputs": [
    {
     "data": {
      "text/plain": [
       "0N\n"
      ]
     },
     "execution_count": 31,
     "metadata": {},
     "output_type": "execute_result"
    }
   ],
   "source": [
    "d:`a`b`c!10 20 30\n",
    "d[`x]"
   ]
  },
  {
   "cell_type": "markdown",
   "metadata": {},
   "source": [
    "## Atomic Functions"
   ]
  },
  {
   "cell_type": "markdown",
   "metadata": {},
   "source": [
    "### Unary Atomic Functions and \"map\""
   ]
  },
  {
   "cell_type": "code",
   "execution_count": 32,
   "metadata": {
    "ExecuteTime": {
     "end_time": "2020-11-20T19:11:20.390247000Z",
     "start_time": "2020-11-20T19:11:20.384Z"
    }
   },
   "outputs": [
    {
     "data": {
      "text/plain": [
       "-10\n"
      ]
     },
     "execution_count": 32,
     "metadata": {},
     "output_type": "execute_result"
    },
    {
     "data": {
      "text/plain": [
       "-10 -20 -30\n"
      ]
     },
     "execution_count": 32,
     "metadata": {},
     "output_type": "execute_result"
    },
    {
     "data": {
      "text/plain": [
       "-10 -20 -30\n",
       "-40 -50\n"
      ]
     },
     "execution_count": 32,
     "metadata": {},
     "output_type": "execute_result"
    },
    {
     "data": {
      "text/plain": [
       "a| -10\n",
       "b| -20\n",
       "c| -30\n"
      ]
     },
     "execution_count": 32,
     "metadata": {},
     "output_type": "execute_result"
    },
    {
     "data": {
      "text/plain": [
       "a| -10 -20\n",
       "b| -30 -40 -50\n",
       "c| -60\n"
      ]
     },
     "execution_count": 32,
     "metadata": {},
     "output_type": "execute_result"
    }
   ],
   "source": [
    "neg 10\n",
    "neg 10 20 30\n",
    "neg (10 20 30; 40 50)\n",
    "neg `a`b`c!10 20 30\n",
    "neg `a`b`c!(10 20; 30 40 50; 60)"
   ]
  },
  {
   "cell_type": "markdown",
   "metadata": {},
   "source": [
    "### Binary Atomic Functions and zip"
   ]
  },
  {
   "cell_type": "code",
   "execution_count": 33,
   "metadata": {
    "ExecuteTime": {
     "end_time": "2020-11-20T19:14:46.610976000Z",
     "start_time": "2020-11-20T19:14:46.598Z"
    }
   },
   "outputs": [
    {
     "data": {
      "text/plain": [
       "0\n"
      ]
     },
     "execution_count": 33,
     "metadata": {},
     "output_type": "execute_result"
    },
    {
     "data": {
      "text/plain": [
       "0 1 2 3 3\n"
      ]
     },
     "execution_count": 33,
     "metadata": {},
     "output_type": "execute_result"
    },
    {
     "data": {
      "text/plain": [
       "0\n"
      ]
     },
     "execution_count": 33,
     "metadata": {},
     "output_type": "execute_result"
    },
    {
     "data": {
      "text/plain": [
       "0\n"
      ]
     },
     "execution_count": 33,
     "metadata": {},
     "output_type": "execute_result"
    },
    {
     "data": {
      "text/plain": [
       "0\n"
      ]
     },
     "execution_count": 33,
     "metadata": {},
     "output_type": "execute_result"
    }
   ],
   "source": [
    "10 20 30?10\n",
    "10 20 30?10 20 30 40 50\n",
    "(enlist 10)?10\n",
    "10 20?10\n",
    "10 20 30 40 50?10"
   ]
  },
  {
   "cell_type": "markdown",
   "metadata": {},
   "source": [
    "The **arithmetic, comparison and relation** operators are all atomic in both operands. This leads to four cases for application:\n",
    "- atom with atom\n",
    "- atom with list\n",
    "- list with atom\n",
    "- list with list"
   ]
  },
  {
   "cell_type": "code",
   "execution_count": 34,
   "metadata": {
    "ExecuteTime": {
     "end_time": "2020-11-20T19:16:05.334311000Z",
     "start_time": "2020-11-20T19:16:05.331Z"
    }
   },
   "outputs": [
    {
     "data": {
      "text/plain": [
       "11\n"
      ]
     },
     "execution_count": 34,
     "metadata": {},
     "output_type": "execute_result"
    },
    {
     "data": {
      "text/plain": [
       "11 21 31\n"
      ]
     },
     "execution_count": 34,
     "metadata": {},
     "output_type": "execute_result"
    },
    {
     "data": {
      "text/plain": [
       "11 12 13\n"
      ]
     },
     "execution_count": 34,
     "metadata": {},
     "output_type": "execute_result"
    },
    {
     "data": {
      "text/plain": [
       "11 22 33\n"
      ]
     },
     "execution_count": 34,
     "metadata": {},
     "output_type": "execute_result"
    }
   ],
   "source": [
    "1+10\n",
    "1+10 20 30\n",
    "1 2 3+10\n",
    "1 2 3+10 20 30"
   ]
  },
  {
   "cell_type": "markdown",
   "metadata": {},
   "source": [
    "### Creating Atomic Functions"
   ]
  },
  {
   "cell_type": "code",
   "execution_count": 35,
   "metadata": {
    "ExecuteTime": {
     "end_time": "2020-11-20T19:16:40.933229000Z",
     "start_time": "2020-11-20T19:16:40.924Z"
    }
   },
   "outputs": [
    {
     "data": {
      "text/plain": [
       "-1\n"
      ]
     },
     "execution_count": 35,
     "metadata": {},
     "output_type": "execute_result"
    },
    {
     "data": {
      "text/plain": [
       "-1 2 7 14 23 34 47 62 79 98\n"
      ]
     },
     "execution_count": 35,
     "metadata": {},
     "output_type": "execute_result"
    }
   ],
   "source": [
    "/unary\n",
    "f:{(x*x)+(2*x)-1}\n",
    "f 0\n",
    "f til 10"
   ]
  },
  {
   "cell_type": "code",
   "execution_count": 36,
   "metadata": {
    "ExecuteTime": {
     "end_time": "2020-11-20T19:17:26.294397000Z",
     "start_time": "2020-11-20T19:17:26.288Z"
    }
   },
   "outputs": [
    {
     "data": {
      "text/plain": [
       "1.414214\n"
      ]
     },
     "execution_count": 36,
     "metadata": {},
     "output_type": "execute_result"
    },
    {
     "data": {
      "text/plain": [
       "1.414214 2.236068 3.162278\n"
      ]
     },
     "execution_count": 36,
     "metadata": {},
     "output_type": "execute_result"
    },
    {
     "data": {
      "text/plain": [
       "1.414214 2.828427 4.242641\n"
      ]
     },
     "execution_count": 36,
     "metadata": {},
     "output_type": "execute_result"
    }
   ],
   "source": [
    "/binary\n",
    "pyth:{sqrt (x*x)+y*y}\n",
    "pyth[1;1]\n",
    "pyth[1; 1 2 3]\n",
    "pyth[1 2 3;1 2 3]"
   ]
  },
  {
   "cell_type": "markdown",
   "metadata": {},
   "source": [
    "## Iterators"
   ]
  },
  {
   "cell_type": "markdown",
   "metadata": {},
   "source": [
    "Iterators (previously adverbs) are higher-order functions that modify the behavior of functions for application on lists. Proficiency in the use of iterators is one skill that separates q pretenders from q contenders.\n",
    "\n",
    "Not every function is atomic, but we may still want to apply it to individual items of a data structure without loopy code. Iterators to the rescue."
   ]
  },
  {
   "cell_type": "markdown",
   "metadata": {},
   "source": [
    "### Unary each"
   ]
  },
  {
   "cell_type": "code",
   "execution_count": 37,
   "metadata": {
    "ExecuteTime": {
     "end_time": "2020-11-20T19:18:56.137180000Z",
     "start_time": "2020-11-20T19:18:56.132Z"
    }
   },
   "outputs": [
    {
     "data": {
      "text/plain": [
       "-1 -2 -3\n",
       "-4 -5\n"
      ]
     },
     "execution_count": 37,
     "metadata": {},
     "output_type": "execute_result"
    }
   ],
   "source": [
    "neg (1 2 3; 4 5)"
   ]
  },
  {
   "cell_type": "markdown",
   "metadata": {},
   "source": [
    "Clearly a function that aggregates a list into an atom cannot be atomic since it collapses the list structure. In particular, aggregate functions operate only at the top level of a nested list."
   ]
  },
  {
   "cell_type": "code",
   "execution_count": 38,
   "metadata": {
    "ExecuteTime": {
     "end_time": "2020-11-20T19:20:10.267789000Z",
     "start_time": "2020-11-20T19:20:10.259Z"
    }
   },
   "outputs": [
    {
     "data": {
      "text/plain": [
       "3\n"
      ]
     },
     "execution_count": 38,
     "metadata": {},
     "output_type": "execute_result"
    },
    {
     "data": {
      "text/plain": [
       "2\n"
      ]
     },
     "execution_count": 38,
     "metadata": {},
     "output_type": "execute_result"
    }
   ],
   "source": [
    "count 1 2 3\n",
    "count (10 20 30; 40 50)"
   ]
  },
  {
   "cell_type": "markdown",
   "metadata": {},
   "source": [
    "Suppose instead that we want to count each of the two items in our nested list. This is precisely what the `each` iterator does. It modifies a unary function so that it applies to each item in a list rather than to the list as a whole. When used infix, `each` follows the function after (required) whitespace."
   ]
  },
  {
   "cell_type": "code",
   "execution_count": 39,
   "metadata": {
    "ExecuteTime": {
     "end_time": "2020-11-20T19:20:51.844098000Z",
     "start_time": "2020-11-20T19:20:51.841Z"
    }
   },
   "outputs": [
    {
     "data": {
      "text/plain": [
       "3 2\n"
      ]
     },
     "execution_count": 39,
     "metadata": {},
     "output_type": "execute_result"
    }
   ],
   "source": [
    "count each (10 20 30; 40 50)"
   ]
  },
  {
   "cell_type": "code",
   "execution_count": 40,
   "metadata": {
    "ExecuteTime": {
     "end_time": "2020-11-20T19:21:07.327641000Z",
     "start_time": "2020-11-20T19:21:07.320Z"
    }
   },
   "outputs": [
    {
     "data": {
      "text/plain": [
       "3 2\n"
      ]
     },
     "execution_count": 40,
     "metadata": {},
     "output_type": "execute_result"
    }
   ],
   "source": [
    "each[count] (10 20 30; 40 50)"
   ]
  },
  {
   "cell_type": "markdown",
   "metadata": {},
   "source": [
    "The nature of `each` as a higher-order function is more clearly revealed in its equivalent prefix form. This may look odd at first, but it shows that `each` takes a function and modifies its behavior by applying to each item in a list."
   ]
  },
  {
   "cell_type": "markdown",
   "metadata": {},
   "source": [
    "**Each**\n",
    "\n",
    "The higher-order function `each` is similar to \"foreach\" in imperative languages and is called \"map\" in functional programming languages. It is one half of the famous map-reduce paradigm."
   ]
  },
  {
   "cell_type": "markdown",
   "metadata": {},
   "source": [
    "For deeply nested lists, you need to iterate `each` to apply a function at deeper levels."
   ]
  },
  {
   "cell_type": "code",
   "execution_count": 41,
   "metadata": {
    "ExecuteTime": {
     "end_time": "2020-11-20T19:24:29.764521000Z",
     "start_time": "2020-11-20T19:24:29.762Z"
    }
   },
   "outputs": [
    {
     "data": {
      "text/plain": [
       "3 2\n",
       "2 3\n"
      ]
     },
     "execution_count": 41,
     "metadata": {},
     "output_type": "execute_result"
    },
    {
     "data": {
      "text/plain": [
       "3 2\n",
       "2 3\n"
      ]
     },
     "execution_count": 41,
     "metadata": {},
     "output_type": "execute_result"
    }
   ],
   "source": [
    "(count each) each ((1 2 3; 3 4); (100 200; 300 400 500))\n",
    "each[each[count]] ((1 2 3; 3 4); (100 200; 300 400 500))"
   ]
  },
  {
   "cell_type": "code",
   "execution_count": 42,
   "metadata": {
    "ExecuteTime": {
     "end_time": "2020-11-20T19:24:55.999110000Z",
     "start_time": "2020-11-20T19:24:55.995Z"
    }
   },
   "outputs": [
    {
     "data": {
      "text/plain": [
       "2\n"
      ]
     },
     "execution_count": 42,
     "metadata": {},
     "output_type": "execute_result"
    },
    {
     "data": {
      "text/plain": [
       "3 3\n"
      ]
     },
     "execution_count": 42,
     "metadata": {},
     "output_type": "execute_result"
    },
    {
     "data": {
      "text/plain": [
       "1 1 1\n",
       "1 1 1\n"
      ]
     },
     "execution_count": 42,
     "metadata": {},
     "output_type": "execute_result"
    }
   ],
   "source": [
    "count (1 2 3; 10 20 30)\n",
    "count each (1 2 3; 10 20 30)\n",
    "(count each) each (1 2 3; 10 20 30)"
   ]
  },
  {
   "cell_type": "markdown",
   "metadata": {},
   "source": [
    "You can use `each` with any unary function, although it is **redundant on atomic functions.**"
   ]
  },
  {
   "cell_type": "code",
   "execution_count": 43,
   "metadata": {
    "ExecuteTime": {
     "end_time": "2020-11-20T19:25:41.472305000Z",
     "start_time": "2020-11-20T19:25:41.461Z"
    }
   },
   "outputs": [
    {
     "data": {
      "text/plain": [
       "\"evil\"\n"
      ]
     },
     "execution_count": 43,
     "metadata": {},
     "output_type": "execute_result"
    },
    {
     "data": {
      "text/plain": [
       "\"everything\"\n",
       "\"and\"\n",
       "\"universe\"\n",
       "\"the\"\n",
       "\"life\"\n"
      ]
     },
     "execution_count": 43,
     "metadata": {},
     "output_type": "execute_result"
    },
    {
     "data": {
      "text/plain": [
       "\"efil\"\n",
       "\"eht\"\n",
       "\"esrevinu\"\n",
       "\"dna\"\n",
       "\"gnihtyreve\"\n"
      ]
     },
     "execution_count": 43,
     "metadata": {},
     "output_type": "execute_result"
    },
    {
     "data": {
      "text/plain": [
       "-1 -2 -3\n",
       "-4 -5\n"
      ]
     },
     "execution_count": 43,
     "metadata": {},
     "output_type": "execute_result"
    }
   ],
   "source": [
    "reverse \"live\"\n",
    "reverse (\"life\"; \"the\"; \"universe\"; \"and\"; \"everything\")\n",
    "reverse each (\"life\"; \"the\"; \"universe\"; \"and\"; \"everything\")\n",
    "neg each (1 2 3; 4 5)"
   ]
  },
  {
   "cell_type": "code",
   "execution_count": 44,
   "metadata": {
    "ExecuteTime": {
     "end_time": "2020-11-20T19:26:51.273459000Z",
     "start_time": "2020-11-20T19:26:51.264Z"
    }
   },
   "outputs": [
    {
     "data": {
      "text/plain": [
       "1001\n",
       "1002\n",
       "1004\n",
       "1003\n"
      ]
     },
     "execution_count": 44,
     "metadata": {},
     "output_type": "execute_result"
    },
    {
     "data": {
      "text/plain": [
       "1001\n",
       "1002\n",
       "1004\n",
       "1003\n"
      ]
     },
     "execution_count": 44,
     "metadata": {},
     "output_type": "execute_result"
    }
   ],
   "source": [
    "enlist each 1001 1002 1004 1003\n",
    "flip enlist 1001 1002 1004 1003"
   ]
  },
  {
   "cell_type": "markdown",
   "metadata": {},
   "source": [
    "### Each `'`"
   ]
  },
  {
   "cell_type": "code",
   "execution_count": 46,
   "metadata": {
    "ExecuteTime": {
     "end_time": "2020-11-20T19:29:51.621863000Z",
     "start_time": "2020-11-20T19:29:51.617Z"
    }
   },
   "outputs": [
    {
     "data": {
      "text/plain": [
       "11 22 33\n"
      ]
     },
     "execution_count": 46,
     "metadata": {},
     "output_type": "execute_result"
    }
   ],
   "source": [
    "1 2 3+10 20 30"
   ]
  },
  {
   "cell_type": "code",
   "execution_count": 47,
   "metadata": {
    "ExecuteTime": {
     "end_time": "2020-11-20T19:29:56.573831000Z",
     "start_time": "2020-11-20T19:29:56.566Z"
    }
   },
   "outputs": [
    {
     "data": {
      "text/plain": [
       "\"abcde\"\n"
      ]
     },
     "execution_count": 47,
     "metadata": {},
     "output_type": "execute_result"
    }
   ],
   "source": [
    "\"abc\",\"de\""
   ]
  },
  {
   "cell_type": "markdown",
   "metadata": {},
   "source": [
    "Join list items pair-wise:"
   ]
  },
  {
   "cell_type": "code",
   "execution_count": 48,
   "metadata": {
    "ExecuteTime": {
     "end_time": "2020-11-20T19:30:26.466527000Z",
     "start_time": "2020-11-20T19:30:26.464Z"
    }
   },
   "outputs": [
    {
     "data": {
      "text/plain": [
       "\"abcde\"\n",
       "\"uvxyz\"\n"
      ]
     },
     "execution_count": 48,
     "metadata": {},
     "output_type": "execute_result"
    }
   ],
   "source": [
    "(\"abc\"; \"uv\"),'(\"de\"; \"xyz\")"
   ]
  },
  {
   "cell_type": "markdown",
   "metadata": {},
   "source": [
    "The iterator Each `'` modifies a binary function (operator, keyword) to apply pairwise to corresponding list items. Conventionally no whitespace should be between `'` and the function it modifies but this does not generate an error. In some programming languages, Each is called \"zip\"."
   ]
  },
  {
   "cell_type": "code",
   "execution_count": 49,
   "metadata": {
    "ExecuteTime": {
     "end_time": "2020-11-20T19:31:08.879428000Z",
     "start_time": "2020-11-20T19:31:08.871Z"
    }
   },
   "outputs": [
    {
     "data": {
      "text/plain": [
       "\"abcde\"\n",
       "\"uvxyz\"\n"
      ]
     },
     "execution_count": 49,
     "metadata": {},
     "output_type": "execute_result"
    }
   ],
   "source": [
    "(\"abc\"; \"uv\"),'(\"de\"; \"xyz\")"
   ]
  },
  {
   "cell_type": "code",
   "execution_count": 50,
   "metadata": {
    "ExecuteTime": {
     "end_time": "2020-11-20T19:31:15.119954000Z",
     "start_time": "2020-11-20T19:31:15.111Z"
    }
   },
   "outputs": [
    {
     "data": {
      "text/plain": [
       "3 4\n"
      ]
     },
     "execution_count": 50,
     "metadata": {},
     "output_type": "execute_result"
    }
   ],
   "source": [
    "3,'4"
   ]
  },
  {
   "cell_type": "markdown",
   "metadata": {},
   "source": [
    "A function modified by Each has the usual properties of atomic binary functions. For example, you get a length error if arguments don't line up."
   ]
  },
  {
   "cell_type": "code",
   "execution_count": 50,
   "metadata": {
    "ExecuteTime": {
     "end_time": "2020-11-20T19:31:22.614184000Z",
     "start_time": "2020-11-20T19:31:22.606Z"
    }
   },
   "outputs": [
    {
     "ename": "\u001b[0;31mlength\u001b[0m",
     "evalue": "\u001b[0;31mlength\u001b[0m",
     "output_type": "error",
     "traceback": [
      "\u001b[0;31mevaluation error:\n\u001b[0m",
      "\u001b[0;31mlength\u001b[0m",
      "\u001b[0;31m\u001b[0m",
      "\u001b[0;31m  [0]  (\"abc\"; \"uv\"),'(\"de\"; \"xyz\"; \"uhoh\")\n                     ^\n\u001b[0m"
     ]
    }
   ],
   "source": [
    "(\"abc\"; \"uv\"),'(\"de\"; \"xyz\"; \"uhoh\")"
   ]
  },
  {
   "cell_type": "markdown",
   "metadata": {},
   "source": [
    "The modified function also extends an atom to match a list. You will see this idiom often. For example,"
   ]
  },
  {
   "cell_type": "code",
   "execution_count": 51,
   "metadata": {
    "ExecuteTime": {
     "end_time": "2020-11-20T19:32:47.000462000Z",
     "start_time": "2020-11-20T19:32:46.998Z"
    }
   },
   "outputs": [
    {
     "data": {
      "text/plain": [
       "1 10\n",
       "1 20\n",
       "1 30\n"
      ]
     },
     "execution_count": 51,
     "metadata": {},
     "output_type": "execute_result"
    }
   ],
   "source": [
    "1,'10 20 30"
   ]
  },
  {
   "cell_type": "code",
   "execution_count": 52,
   "metadata": {
    "ExecuteTime": {
     "end_time": "2020-11-20T19:32:51.554798000Z",
     "start_time": "2020-11-20T19:32:51.546Z"
    }
   },
   "outputs": [
    {
     "data": {
      "text/plain": [
       "1 10\n",
       "2 10\n",
       "3 10\n"
      ]
     },
     "execution_count": 52,
     "metadata": {},
     "output_type": "execute_result"
    }
   ],
   "source": [
    "1 2 3,'10"
   ]
  },
  {
   "cell_type": "code",
   "execution_count": 53,
   "metadata": {
    "ExecuteTime": {
     "end_time": "2020-11-20T19:33:07.021685000Z",
     "start_time": "2020-11-20T19:33:07.015Z"
    }
   },
   "outputs": [
    {
     "data": {
      "text/plain": [
       "\"ab\"\n",
       "\"fg\"\n",
       "\"ij\"\n"
      ]
     },
     "execution_count": 53,
     "metadata": {},
     "output_type": "execute_result"
    }
   ],
   "source": [
    "2#'(\"abcde\"; \"fgh\"; \"ijklm\")"
   ]
  },
  {
   "cell_type": "markdown",
   "metadata": {},
   "source": [
    "If you are so inclined, you can apply a function modified by Each using brackets. This is not common but can simplify things in the functional form of queries "
   ]
  },
  {
   "cell_type": "code",
   "execution_count": 54,
   "metadata": {
    "ExecuteTime": {
     "end_time": "2020-11-20T19:33:35.455904000Z",
     "start_time": "2020-11-20T19:33:35.452Z"
    }
   },
   "outputs": [
    {
     "data": {
      "text/plain": [
       "\"abcde\"\n",
       "\"uvxyz\"\n"
      ]
     },
     "execution_count": 54,
     "metadata": {},
     "output_type": "execute_result"
    }
   ],
   "source": [
    ",'[(\"abc\"; \"uv\"); (\"de\"; \"xyz\")]"
   ]
  },
  {
   "cell_type": "markdown",
   "metadata": {},
   "source": [
    "The idiom `,'` works fine for making a list of pairs from two simple lists but **does not always work as expected with general lists**. For example it loses the enlisting of the singleton in the following."
   ]
  },
  {
   "cell_type": "code",
   "execution_count": 56,
   "metadata": {
    "ExecuteTime": {
     "end_time": "2020-11-20T19:35:13.495449000Z",
     "start_time": "2020-11-20T19:35:13.493Z"
    }
   },
   "outputs": [
    {
     "data": {
      "text/plain": [
       "`a 1\n",
       "`b 2\n"
      ]
     },
     "execution_count": 56,
     "metadata": {},
     "output_type": "execute_result"
    },
    {
     "data": {
      "text/plain": [
       ",`a 1\n",
       "`b  2\n"
      ]
     },
     "execution_count": 56,
     "metadata": {},
     "output_type": "execute_result"
    }
   ],
   "source": [
    "L1:(enlist `a; `b)\n",
    "L2: 1 2\n",
    "L1 ,' L2\n",
    "\n",
    "flip (L1; L2) /reliable way"
   ]
  },
  {
   "cell_type": "markdown",
   "metadata": {},
   "source": [
    "**Advanced**\n",
    "\n",
    "A nice example of `,'` arises when both operands are tables. Since a table is a list of records, it is possible to apply `,'` to tables with the same number of rows. The record dictionaries in each row are upserted, resulting in a sideways join of the tables, as in the following example."
   ]
  },
  {
   "cell_type": "code",
   "execution_count": 57,
   "metadata": {
    "ExecuteTime": {
     "end_time": "2020-11-20T19:37:37.590266000Z",
     "start_time": "2020-11-20T19:37:37.588Z"
    }
   },
   "outputs": [
    {
     "data": {
      "text/plain": [
       "c1 c2\n",
       "-----\n",
       "1  a \n",
       "2  b \n",
       "3  c \n"
      ]
     },
     "execution_count": 57,
     "metadata": {},
     "output_type": "execute_result"
    }
   ],
   "source": [
    "t1:([] c1:1 2 3)\n",
    "t2:([] c2:`a`b`c)\n",
    "t1 ,' t2"
   ]
  },
  {
   "cell_type": "markdown",
   "metadata": {},
   "source": [
    "### Each Left `\\:`"
   ]
  },
  {
   "cell_type": "code",
   "execution_count": 58,
   "metadata": {
    "ExecuteTime": {
     "end_time": "2020-11-20T20:00:39.505539000Z",
     "start_time": "2020-11-20T20:00:39.498Z"
    }
   },
   "outputs": [
    {
     "data": {
      "text/plain": [
       "\"abc>\"\n",
       "\"de>\"\n",
       "\"f>\"\n"
      ]
     },
     "execution_count": 58,
     "metadata": {},
     "output_type": "execute_result"
    }
   ],
   "source": [
    "(\"abc\"; \"de\"; enlist \"f\") ,\\: \">\""
   ]
  },
  {
   "cell_type": "markdown",
   "metadata": {},
   "source": [
    "### Each Right `/:`"
   ]
  },
  {
   "cell_type": "code",
   "execution_count": 59,
   "metadata": {
    "ExecuteTime": {
     "end_time": "2020-11-20T20:01:17.647157000Z",
     "start_time": "2020-11-20T20:01:17.636Z"
    }
   },
   "outputs": [
    {
     "data": {
      "text/plain": [
       "\"</abc\"\n",
       "\"</de\"\n",
       "\"</f\"\n"
      ]
     },
     "execution_count": 59,
     "metadata": {},
     "output_type": "execute_result"
    },
    {
     "data": {
      "text/plain": [
       "\"</abc>\"\n",
       "\"</de>\"\n",
       "\"</f>\"\n"
      ]
     },
     "execution_count": 59,
     "metadata": {},
     "output_type": "execute_result"
    }
   ],
   "source": [
    "\"</\" ,/: (\"abc\"; \"de\"; enlist \"f\")\n",
    "\"</\",/:(\"abc\"; \"de\"; enlist \"f\"),\\:\">\""
   ]
  },
  {
   "cell_type": "markdown",
   "metadata": {},
   "source": [
    "### Cross Product"
   ]
  },
  {
   "cell_type": "markdown",
   "metadata": {},
   "source": [
    "A cross (Cartesian) product of two lists pairs each item on the left with each item on the right. If we compose Join with Each Right and Each Left, we are almost there, except that there is an extra level of nesting, which we eliminate with the built-in `raze`."
   ]
  },
  {
   "cell_type": "code",
   "execution_count": 65,
   "metadata": {
    "ExecuteTime": {
     "end_time": "2020-11-20T20:04:01.506545000Z",
     "start_time": "2020-11-20T20:04:01.499Z"
    }
   },
   "outputs": [
    {
     "data": {
      "text/plain": [
       "1 10 1 20\n",
       "2 10 2 20\n",
       "3 10 3 20\n"
      ]
     },
     "execution_count": 65,
     "metadata": {},
     "output_type": "execute_result"
    }
   ],
   "source": [
    "1 2 3 ,/:\\:10 20"
   ]
  },
  {
   "cell_type": "code",
   "execution_count": 66,
   "metadata": {
    "ExecuteTime": {
     "end_time": "2020-11-20T20:04:07.712589000Z",
     "start_time": "2020-11-20T20:04:07.705Z"
    }
   },
   "outputs": [
    {
     "data": {
      "text/plain": [
       "1 10\n",
       "1 20\n",
       "2 10\n",
       "2 20\n",
       "3 10\n",
       "3 20\n"
      ]
     },
     "execution_count": 66,
     "metadata": {},
     "output_type": "execute_result"
    }
   ],
   "source": [
    "raze 1 2 3,/:\\:10 20"
   ]
  },
  {
   "cell_type": "markdown",
   "metadata": {},
   "source": [
    "The built-in operator `cross` computes this cross product."
   ]
  },
  {
   "cell_type": "code",
   "execution_count": 67,
   "metadata": {
    "ExecuteTime": {
     "end_time": "2020-11-20T20:04:19.364071000Z",
     "start_time": "2020-11-20T20:04:19.356Z"
    }
   },
   "outputs": [
    {
     "data": {
      "text/plain": [
       "1 10\n",
       "1 20\n",
       "2 10\n",
       "2 20\n",
       "3 10\n",
       "3 20\n"
      ]
     },
     "execution_count": 67,
     "metadata": {},
     "output_type": "execute_result"
    }
   ],
   "source": [
    "1 2 3 cross 10 20"
   ]
  },
  {
   "cell_type": "markdown",
   "metadata": {},
   "source": [
    "Observe that we could alternatively compose Each Left with Each Right and would arrive at the transpose of the previous result."
   ]
  },
  {
   "cell_type": "code",
   "execution_count": 68,
   "metadata": {
    "ExecuteTime": {
     "end_time": "2020-11-20T20:05:05.553038000Z",
     "start_time": "2020-11-20T20:05:05.545Z"
    }
   },
   "outputs": [
    {
     "data": {
      "text/plain": [
       "1 10\n",
       "2 10\n",
       "3 10\n",
       "1 20\n",
       "2 20\n",
       "3 20\n"
      ]
     },
     "execution_count": 68,
     "metadata": {},
     "output_type": "execute_result"
    }
   ],
   "source": [
    "raze 1 2 3,\\:/:10 20"
   ]
  },
  {
   "cell_type": "markdown",
   "metadata": {},
   "source": [
    "### Over (`/`) for Accumulation"
   ]
  },
  {
   "cell_type": "markdown",
   "metadata": {},
   "source": [
    "The Over iterator `/` is a higher-order function that provides the principal mechanism for recursion in q. In its simplest form it modifies a binary function to accumulate results over a list."
   ]
  },
  {
   "cell_type": "code",
   "execution_count": 69,
   "metadata": {
    "ExecuteTime": {
     "end_time": "2020-11-20T20:05:42.377137000Z",
     "start_time": "2020-11-20T20:05:42.374Z"
    }
   },
   "outputs": [
    {
     "data": {
      "text/plain": [
       "55\n"
      ]
     },
     "execution_count": 69,
     "metadata": {},
     "output_type": "execute_result"
    }
   ],
   "source": [
    "0 +/ 1 2 3 4 5 6 7 8 9 10"
   ]
  },
  {
   "cell_type": "code",
   "execution_count": 71,
   "metadata": {
    "ExecuteTime": {
     "end_time": "2020-11-20T20:06:08.089957000Z",
     "start_time": "2020-11-20T20:06:08.079Z"
    }
   },
   "outputs": [
    {
     "name": "stdout",
     "output_type": "stream",
     "text": [
      "0 1\n",
      "1 2\n",
      "3 3\n",
      "6 4\n",
      "10 5\n"
     ]
    },
    {
     "data": {
      "text/plain": [
       "15\n"
      ]
     },
     "execution_count": 71,
     "metadata": {},
     "output_type": "execute_result"
    }
   ],
   "source": [
    "addi:{0N!(x;y); x+y}\n",
    "0 addi/ 1 2 3 4 5"
   ]
  },
  {
   "cell_type": "markdown",
   "metadata": {},
   "source": [
    "**In functional programming languages Over is called fold or reduce. Along with each this completes the famous map-reduce paradigm.**"
   ]
  },
  {
   "cell_type": "code",
   "execution_count": 72,
   "metadata": {
    "ExecuteTime": {
     "end_time": "2020-11-20T20:07:14.474784000Z",
     "start_time": "2020-11-20T20:07:14.467Z"
    }
   },
   "outputs": [
    {
     "data": {
      "text/plain": [
       "55\n"
      ]
     },
     "execution_count": 72,
     "metadata": {},
     "output_type": "execute_result"
    }
   ],
   "source": [
    "(+/) 1 2 3 4 5 6 7 8 9 10"
   ]
  },
  {
   "cell_type": "markdown",
   "metadata": {},
   "source": [
    "Another way to think of this is by representing the list in general form.\n",
    "\n",
    "(1; 2; 3; 4; 5; 6; 7; 8; 9; 10)\n",
    "\n",
    "Then `+/` effectively replaces the semi-colons with `+`, associated to the left.\n",
    "\n",
    "A few notes about the alternate form of Over.\n",
    "\n",
    "- The parentheses are mandatory\n",
    "- The modified function in this form is unary\n",
    "- This construct is actually k and not q. Don’t tell anyone you are writing k."
   ]
  },
  {
   "cell_type": "markdown",
   "metadata": {},
   "source": [
    "Both the unary and binary forms can be written in prefix."
   ]
  },
  {
   "cell_type": "code",
   "execution_count": 73,
   "metadata": {
    "ExecuteTime": {
     "end_time": "2020-11-20T20:08:52.749874000Z",
     "start_time": "2020-11-20T20:08:52.738Z"
    }
   },
   "outputs": [
    {
     "data": {
      "text/plain": [
       "55\n"
      ]
     },
     "execution_count": 73,
     "metadata": {},
     "output_type": "execute_result"
    },
    {
     "data": {
      "text/plain": [
       "55\n"
      ]
     },
     "execution_count": 73,
     "metadata": {},
     "output_type": "execute_result"
    }
   ],
   "source": [
    "+/[0; 1 2 3 4 5 6 7 8 9 10]\n",
    "+/[1 2 3 4 5 6 7 8 9 10]"
   ]
  },
  {
   "cell_type": "code",
   "execution_count": 74,
   "metadata": {
    "ExecuteTime": {
     "end_time": "2020-11-20T20:10:04.821362000Z",
     "start_time": "2020-11-20T20:10:04.817Z"
    }
   },
   "outputs": [
    {
     "data": {
      "text/plain": [
       "3628800\n"
      ]
     },
     "execution_count": 74,
     "metadata": {},
     "output_type": "execute_result"
    },
    {
     "data": {
      "text/plain": [
       "10\n"
      ]
     },
     "execution_count": 74,
     "metadata": {},
     "output_type": "execute_result"
    },
    {
     "data": {
      "text/plain": [
       "1\n"
      ]
     },
     "execution_count": 74,
     "metadata": {},
     "output_type": "execute_result"
    }
   ],
   "source": [
    "(*/) 1 2 3 4 5 6 7 8 9 10 / product\n",
    "(|/) 7 8 4 3 10 2 1 9 5 6 / maximum\n",
    "(&/) 7 8 4 3 10 2 1 9 5 6 / minimum"
   ]
  },
  {
   "cell_type": "code",
   "execution_count": 75,
   "metadata": {
    "ExecuteTime": {
     "end_time": "2020-11-20T20:10:37.037754000Z",
     "start_time": "2020-11-20T20:10:37.034Z"
    }
   },
   "outputs": [
    {
     "data": {
      "text/plain": [
       "55\n"
      ]
     },
     "execution_count": 75,
     "metadata": {},
     "output_type": "execute_result"
    },
    {
     "data": {
      "text/plain": [
       "3628800\n"
      ]
     },
     "execution_count": 75,
     "metadata": {},
     "output_type": "execute_result"
    },
    {
     "data": {
      "text/plain": [
       "10\n"
      ]
     },
     "execution_count": 75,
     "metadata": {},
     "output_type": "execute_result"
    },
    {
     "data": {
      "text/plain": [
       "1\n"
      ]
     },
     "execution_count": 75,
     "metadata": {},
     "output_type": "execute_result"
    }
   ],
   "source": [
    "sum 1 2 3 4 5 6 7 8 9 10 / sum\n",
    "prd 1 2 3 4 5 6 7 8 9 10 / product\n",
    "max 7 8 4 3 10 2 1 9 5 6 / maximum\n",
    "min 7 8 4 3 10 2 1 9 5 6 / minimum"
   ]
  },
  {
   "cell_type": "code",
   "execution_count": 76,
   "metadata": {
    "ExecuteTime": {
     "end_time": "2020-11-20T20:11:44.641042000Z",
     "start_time": "2020-11-20T20:11:44.632Z"
    }
   },
   "outputs": [
    {
     "data": {
      "text/plain": [
       "-0W\n"
      ]
     },
     "execution_count": 76,
     "metadata": {},
     "output_type": "execute_result"
    },
    {
     "data": {
      "text/plain": [
       "-0w\n"
      ]
     },
     "execution_count": 76,
     "metadata": {},
     "output_type": "execute_result"
    }
   ],
   "source": [
    "(|/) `long$()\n",
    "(|/) `float$()"
   ]
  },
  {
   "cell_type": "markdown",
   "metadata": {},
   "source": [
    "Applying `,/` across a list concatenates the items, effectively eliminating the top level of nesting. If there is only one level of nesting, this flattens a list of lists to a plain list. The function `,/` goes by the descriptive name `raze`."
   ]
  },
  {
   "cell_type": "code",
   "execution_count": 78,
   "metadata": {
    "ExecuteTime": {
     "end_time": "2020-11-20T20:13:36.100859000Z",
     "start_time": "2020-11-20T20:13:36.093Z"
    }
   },
   "outputs": [
    {
     "data": {
      "text/plain": [
       "1 2 3   4 5        \n",
       "100 200 300 400 500\n"
      ]
     },
     "execution_count": 78,
     "metadata": {},
     "output_type": "execute_result"
    }
   ],
   "source": [
    "((1 2 3; 4 5); (100 200; 300 400 500))"
   ]
  },
  {
   "cell_type": "code",
   "execution_count": 77,
   "metadata": {
    "ExecuteTime": {
     "end_time": "2020-11-20T20:13:29.744725000Z",
     "start_time": "2020-11-20T20:13:29.742Z"
    }
   },
   "outputs": [
    {
     "data": {
      "text/plain": [
       "1 2 3\n",
       "4 5\n",
       "100 200\n",
       "300 400 500\n"
      ]
     },
     "execution_count": 77,
     "metadata": {},
     "output_type": "execute_result"
    },
    {
     "data": {
      "text/plain": [
       "1 2 3\n",
       "4 5\n",
       "100 200\n",
       "300 400 500\n"
      ]
     },
     "execution_count": 77,
     "metadata": {},
     "output_type": "execute_result"
    }
   ],
   "source": [
    "(,/)((1 2 3; 4 5); (100 200; 300 400 500))\n",
    "raze ((1 2 3; 4 5); (100 200; 300 400 500))"
   ]
  },
  {
   "cell_type": "markdown",
   "metadata": {},
   "source": [
    "You can use your own function with either form of Over. The modified function can even be used infix, even though your original function cannot."
   ]
  },
  {
   "cell_type": "code",
   "execution_count": 80,
   "metadata": {
    "ExecuteTime": {
     "end_time": "2020-11-20T20:14:29.645342000Z",
     "start_time": "2020-11-20T20:14:29.635Z"
    }
   },
   "outputs": [
    {
     "data": {
      "text/plain": [
       "106472\n"
      ]
     },
     "execution_count": 80,
     "metadata": {},
     "output_type": "execute_result"
    },
    {
     "data": {
      "text/plain": [
       "3560\n"
      ]
     },
     "execution_count": 80,
     "metadata": {},
     "output_type": "execute_result"
    }
   ],
   "source": [
    "f:{2*x+y}\n",
    "100 f/ 1 2 3 4 5 6 7 8 9 10\n",
    "(f/) 1 2 3 4 5 6 7 8 9 10"
   ]
  },
  {
   "cell_type": "markdown",
   "metadata": {},
   "source": [
    "### More Over: Iteration"
   ]
  },
  {
   "cell_type": "markdown",
   "metadata": {},
   "source": [
    "The next pattern of recursion we investigate is another declarative equivalent of loopy code. In this version of `/`, the left operand is a natural number indicating how many times to perform the iteration and the right operand is the initial value."
   ]
  },
  {
   "cell_type": "markdown",
   "metadata": {},
   "source": [
    "Let’s compute the $n^{th}$ Fibonacci number. Again the modified function can be used infix or prefix."
   ]
  },
  {
   "cell_type": "code",
   "execution_count": 81,
   "metadata": {
    "ExecuteTime": {
     "end_time": "2020-11-20T20:16:15.462013000Z",
     "start_time": "2020-11-20T20:16:15.457Z"
    }
   },
   "outputs": [
    {
     "data": {
      "text/plain": [
       "1 1 2 3 5 8 13 21 34 55 89 144\n"
      ]
     },
     "execution_count": 81,
     "metadata": {},
     "output_type": "execute_result"
    },
    {
     "data": {
      "text/plain": [
       "1 1 2 3 5 8 13 21 34 55 89 144\n"
      ]
     },
     "execution_count": 81,
     "metadata": {},
     "output_type": "execute_result"
    }
   ],
   "source": [
    "fib:{x,sum -2#x}\n",
    "10 fib/ 1 1\n",
    "fib/[10; 1 1]"
   ]
  },
  {
   "cell_type": "markdown",
   "metadata": {},
   "source": [
    "Yet another version of `/` runs the recursion until convergence, or until a loop is detected"
   ]
  },
  {
   "cell_type": "code",
   "execution_count": 82,
   "metadata": {
    "ExecuteTime": {
     "end_time": "2020-11-20T20:18:18.487366000Z",
     "start_time": "2020-11-20T20:18:18.485Z"
    }
   },
   "outputs": [
    {
     "data": {
      "text/plain": [
       "1.414214\n"
      ]
     },
     "execution_count": 82,
     "metadata": {},
     "output_type": "execute_result"
    }
   ],
   "source": [
    "f:{-2+x*x}\n",
    "secant:{[f;x;e] (f[x+e]-f x-e)%2*e}\n",
    "{x-f[x]%secant[f; x; 1e-6]}/[1.5]"
   ]
  },
  {
   "cell_type": "markdown",
   "metadata": {},
   "source": [
    "Mathematically, it is possible to generate an infinite loop with Newton-Raphson. To wit, we select the function $x^3 – 2x + 2$ and choose the initial value 0, which causes the algorithm to go into a cycle."
   ]
  },
  {
   "cell_type": "code",
   "execution_count": 83,
   "metadata": {
    "ExecuteTime": {
     "end_time": "2020-11-20T20:20:03.789353000Z",
     "start_time": "2020-11-20T20:20:03.787Z"
    }
   },
   "outputs": [
    {
     "data": {
      "text/plain": [
       "1f\n"
      ]
     },
     "execution_count": 83,
     "metadata": {},
     "output_type": "execute_result"
    }
   ],
   "source": [
    "newtcycle:{[xn] xn-((xn*xn*xn)+(-2*xn)+2)%-2+3*xn*xn}\n",
    "newtcycle/[0.0]"
   ]
  },
  {
   "cell_type": "code",
   "execution_count": 84,
   "metadata": {
    "ExecuteTime": {
     "end_time": "2020-11-20T20:20:49.802968000Z",
     "start_time": "2020-11-20T20:20:49.794Z"
    }
   },
   "outputs": [
    {
     "data": {
      "text/plain": [
       "1 1 2 3 5 8 13 21 34 55 89 144 233 377 610 987 1597\n"
      ]
     },
     "execution_count": 84,
     "metadata": {},
     "output_type": "execute_result"
    },
    {
     "data": {
      "text/plain": [
       "1 1 2 3 5 8 13 21 34 55 89 144 233 377 610 987 1597\n"
      ]
     },
     "execution_count": 84,
     "metadata": {},
     "output_type": "execute_result"
    }
   ],
   "source": [
    "fib:{x,sum -2#x}\n",
    "fib/[{1000>last x}; 1 1]\n",
    "1 1 2 3 5 8 13 21 34 55 89 144 233 377 610 987 1597"
   ]
  },
  {
   "cell_type": "markdown",
   "metadata": {},
   "source": [
    "### Scan `\\`"
   ]
  },
  {
   "cell_type": "markdown",
   "metadata": {},
   "source": [
    "The Scan iterator `\\` is a higher-order function that behaves just like `/` except that it returns all the intermediate accumulations instead of just the final one. Whereas Over produces an aggregate function that collapses a list, Scan produces a function whose output has the same number of items as its input – i.e., a uniform function. Informally, Scan is a “running” version of Over."
   ]
  },
  {
   "cell_type": "code",
   "execution_count": 85,
   "metadata": {
    "ExecuteTime": {
     "end_time": "2020-11-20T20:22:41.298391000Z",
     "start_time": "2020-11-20T20:22:41.294Z"
    }
   },
   "outputs": [
    {
     "data": {
      "text/plain": [
       "1 3 6 10 15 21 28 36 45 55\n"
      ]
     },
     "execution_count": 85,
     "metadata": {},
     "output_type": "execute_result"
    },
    {
     "data": {
      "text/plain": [
       "1 2 6 24 120 720 5040 40320 362880 3628800\n"
      ]
     },
     "execution_count": 85,
     "metadata": {},
     "output_type": "execute_result"
    },
    {
     "data": {
      "text/plain": [
       "7 8 8 8 10 10 10 10 10 10\n"
      ]
     },
     "execution_count": 85,
     "metadata": {},
     "output_type": "execute_result"
    },
    {
     "data": {
      "text/plain": [
       "7 7 4 3 3 2 1 1 1 1\n"
      ]
     },
     "execution_count": 85,
     "metadata": {},
     "output_type": "execute_result"
    },
    {
     "data": {
      "text/plain": [
       "1  2 3                    4                    5                    6        ..\n",
       "-1 2 7                    14                   23                   34       ..\n",
       "-1 2 47                   194                  527                  1154     ..\n",
       "-1 2 2207                 37634                277727               1331714  ..\n",
       "-1 2 4870847              1416317954           77132286527          177346217..\n",
       "-1 2 23725150497407       2005956546822746114  -8908710924959450241 -17685016..\n",
       "-1 2 -1948940921085596929 -8302240744606482430 -8555928211475183361 -65015498..\n",
       "-1 2 2628795733591468543  6150122263746379778  -1165994179709211137 -32204372..\n",
       "-1 2 4718319234266147839  -837433832024309758  -3021579742852733953 -33088718..\n",
       "-1 2 7926361802997803007  -2197519091480133630 -3012709484858329089 913209025..\n",
       "-1 2 -8148716999385632769 -7216093584921985022 -1789602358622384129 -71660507..\n",
       "-1 2 4108295766192332799  5542722193143627778  -7515994813380501505 -83517724..\n",
       "-1 2 8238638667409309695  835367012883496962   -6268430227367378945 -35561054..\n",
       "-1 2 -3730814150297092097 -5985486776750309374 -4752733405263986689 222272386..\n",
       "-1 2 -6480123140748148737 -7152527696164028414 6837796464379887615  -46559322..\n",
       "-1 2 4492717815050665983  212926830515060738   -4598975109750980609 443470128..\n",
       "-1 2 -6199626228808548353 851707322060242946   7429864345840123903  -70793894..\n",
       "-1 2 6996265031829028863  3406829288240971778  5963223905605255167  -28317557..\n",
       "-1 2 4531600112315531263  -4819426920745664510 -4223053567854903297 711972096..\n",
       "-1 2 2199098478190133247  -830963609273106430  -1669029304410832897 -84146042..\n",
       "-1 2 8369195725912801279  -3323854437092425726 -4840685022669176833 323507107..\n",
       "-1 2 -2562308870072434689 5151326325339848706  -4586860406915465217 -55064597..\n",
       "..\n"
      ]
     },
     "execution_count": 85,
     "metadata": {},
     "output_type": "execute_result"
    },
    {
     "data": {
      "text/plain": [
       "1  2 3                    4                    5                    6        ..\n",
       "-1 2 7                    14                   23                   34       ..\n",
       "-1 2 47                   194                  527                  1154     ..\n",
       "-1 2 2207                 37634                277727               1331714  ..\n",
       "-1 2 4870847              1416317954           77132286527          177346217..\n",
       "-1 2 23725150497407       2005956546822746114  -8908710924959450241 -17685016..\n",
       "-1 2 -1948940921085596929 -8302240744606482430 -8555928211475183361 -65015498..\n",
       "-1 2 2628795733591468543  6150122263746379778  -1165994179709211137 -32204372..\n",
       "-1 2 4718319234266147839  -837433832024309758  -3021579742852733953 -33088718..\n",
       "-1 2 7926361802997803007  -2197519091480133630 -3012709484858329089 913209025..\n",
       "-1 2 -8148716999385632769 -7216093584921985022 -1789602358622384129 -71660507..\n",
       "-1 2 4108295766192332799  5542722193143627778  -7515994813380501505 -83517724..\n",
       "-1 2 8238638667409309695  835367012883496962   -6268430227367378945 -35561054..\n",
       "-1 2 -3730814150297092097 -5985486776750309374 -4752733405263986689 222272386..\n",
       "-1 2 -6480123140748148737 -7152527696164028414 6837796464379887615  -46559322..\n",
       "-1 2 4492717815050665983  212926830515060738   -4598975109750980609 443470128..\n",
       "-1 2 -6199626228808548353 851707322060242946   7429864345840123903  -70793894..\n",
       "-1 2 6996265031829028863  3406829288240971778  5963223905605255167  -28317557..\n",
       "-1 2 4531600112315531263  -4819426920745664510 -4223053567854903297 711972096..\n",
       "-1 2 2199098478190133247  -830963609273106430  -1669029304410832897 -84146042..\n",
       "-1 2 8369195725912801279  -3323854437092425726 -4840685022669176833 323507107..\n",
       "-1 2 -2562308870072434689 5151326325339848706  -4586860406915465217 -55064597..\n",
       "..\n"
      ]
     },
     "execution_count": 85,
     "metadata": {},
     "output_type": "execute_result"
    }
   ],
   "source": [
    "0+\\1 2 3 4 5 6 7 8 9 10\n",
    "(*\\)1 2 3 4 5 6 7 8 9 10\n",
    "(|\\)7 8 4 3 10 2 1 9 5 6\n",
    "(&\\)7 8 4 3 10 2 1 9 5 6\n",
    "100 f\\1 2 3 4 5 6 7 8 9 10\n",
    "(f\\)1 2 3 4 5 6 7 8 9 10"
   ]
  },
  {
   "cell_type": "markdown",
   "metadata": {
    "ExecuteTime": {
     "end_time": "2020-11-20T20:23:26.078567000Z",
     "start_time": "2020-11-20T20:23:26.071Z"
    }
   },
   "source": [
    "### Each Prior (`':`)\n",
    "\n",
    "The iterator Each Prior `':` provides a declarative way to perform a binary operation on each item of a list with its predecessor.\n",
    "\n",
    "**During traversal of the list, the current item is the left operand and the previous item is the right operand.**\n",
    "\n",
    "Since the initial item of the list does not have a predecessor, we must provide one in the left operand of the modified operator. One choice is the initial item of the source list. For example, to calculate the deltas of a list of prices."
   ]
  },
  {
   "cell_type": "code",
   "execution_count": 86,
   "metadata": {
    "ExecuteTime": {
     "end_time": "2020-11-21T01:06:19.347483000Z",
     "start_time": "2020-11-21T01:06:19.344Z"
    }
   },
   "outputs": [
    {
     "data": {
      "text/plain": [
       "0 -1 2 1 -1\n"
      ]
     },
     "execution_count": 86,
     "metadata": {},
     "output_type": "execute_result"
    }
   ],
   "source": [
    "100 -': 100 99 101 102 101"
   ]
  },
  {
   "cell_type": "markdown",
   "metadata": {},
   "source": [
    "As with the other iterators, there is a unary form of Each Prior (technically, it is k). It may come as a surprise that the unary form does **not** choose the initial item of the input list as the initial predecessor. Rather, it returns the initial item of the input on `-` and `%`."
   ]
  },
  {
   "cell_type": "code",
   "execution_count": 87,
   "metadata": {
    "ExecuteTime": {
     "end_time": "2020-11-21T01:11:54.702704000Z",
     "start_time": "2020-11-21T01:11:54.696Z"
    }
   },
   "outputs": [
    {
     "data": {
      "text/plain": [
       "100 -1 2 1 -1\n"
      ]
     },
     "execution_count": 87,
     "metadata": {},
     "output_type": "execute_result"
    },
    {
     "data": {
      "text/plain": [
       "100 -1 2 1 -1\n"
      ]
     },
     "execution_count": 87,
     "metadata": {},
     "output_type": "execute_result"
    },
    {
     "data": {
      "text/plain": [
       "100 0.99 1.020202 1.009901 0.9901961\n"
      ]
     },
     "execution_count": 87,
     "metadata": {},
     "output_type": "execute_result"
    },
    {
     "data": {
      "text/plain": [
       "100 0.99 1.020202 1.009901 0.9901961\n"
      ]
     },
     "execution_count": 87,
     "metadata": {},
     "output_type": "execute_result"
    }
   ],
   "source": [
    "(-':)100 99 101 102 101\n",
    "deltas 100 99 101 102 101\n",
    "(%':)100 99 101 102 101\n",
    "ratios 100 99 101 102 101"
   ]
  },
  {
   "cell_type": "code",
   "execution_count": 88,
   "metadata": {
    "ExecuteTime": {
     "end_time": "2020-11-21T01:12:15.301564000Z",
     "start_time": "2020-11-21T01:12:15.291Z"
    }
   },
   "outputs": [
    {
     "data": {
      "text/plain": [
       "100 99 101 102 101\n"
      ]
     },
     "execution_count": 88,
     "metadata": {},
     "output_type": "execute_result"
    },
    {
     "data": {
      "text/plain": [
       "100 99 101 102 101\n"
      ]
     },
     "execution_count": 88,
     "metadata": {},
     "output_type": "execute_result"
    }
   ],
   "source": [
    "sums deltas 100 99 101 102 101\n",
    "deltas sums 100 99 101 102 101"
   ]
  },
  {
   "cell_type": "code",
   "execution_count": 89,
   "metadata": {
    "ExecuteTime": {
     "end_time": "2020-11-21T01:13:09.032144000Z",
     "start_time": "2020-11-21T01:13:09.025Z"
    }
   },
   "outputs": [
    {
     "data": {
      "text/plain": [
       "0 -1 2 1 -1\n"
      ]
     },
     "execution_count": 89,
     "metadata": {},
     "output_type": "execute_result"
    }
   ],
   "source": [
    "deltas0:{first[x] -': x}\n",
    "deltas0 100 99 101 102 101"
   ]
  },
  {
   "cell_type": "markdown",
   "metadata": {},
   "source": [
    "A powerful idiom with Each Prior uses Match `~` to test if successive items are identical. It is actually more useful to know where they do not match; the latter is built in as `differ`."
   ]
  },
  {
   "cell_type": "code",
   "execution_count": 90,
   "metadata": {
    "ExecuteTime": {
     "end_time": "2020-11-21T01:13:40.378464000Z",
     "start_time": "2020-11-21T01:13:40.369Z"
    }
   },
   "outputs": [
    {
     "data": {
      "text/plain": [
       "011010001101b\n"
      ]
     },
     "execution_count": 90,
     "metadata": {},
     "output_type": "execute_result"
    },
    {
     "data": {
      "text/plain": [
       "100101110010b\n"
      ]
     },
     "execution_count": 90,
     "metadata": {},
     "output_type": "execute_result"
    },
    {
     "data": {
      "text/plain": [
       "100101110010b\n"
      ]
     },
     "execution_count": 90,
     "metadata": {},
     "output_type": "execute_result"
    }
   ],
   "source": [
    "(~':) 1 1 1 2 2 3 4 5 5 5 6 6\n",
    "not (~':) 1 1 1 2 2 3 4 5 5 5 6 6\n",
    "differ 1 1 1 2 2 3 4 5 5 5 6 6"
   ]
  },
  {
   "cell_type": "markdown",
   "metadata": {},
   "source": [
    "Observe that the `1b` values in the result of `differ` are the start points for runs of identical items, so `where` yields their indices. Then use `cut` to split them out."
   ]
  },
  {
   "cell_type": "code",
   "execution_count": 91,
   "metadata": {
    "ExecuteTime": {
     "end_time": "2020-11-21T01:14:58.249055000Z",
     "start_time": "2020-11-21T01:14:58.245Z"
    }
   },
   "outputs": [
    {
     "data": {
      "text/plain": [
       "0 3 5 6 7 10\n"
      ]
     },
     "execution_count": 91,
     "metadata": {},
     "output_type": "execute_result"
    },
    {
     "data": {
      "text/plain": [
       "1 1 1\n",
       "2 2\n",
       ",3\n",
       ",4\n",
       "5 5 5\n",
       "6 6\n"
      ]
     },
     "execution_count": 91,
     "metadata": {},
     "output_type": "execute_result"
    }
   ],
   "source": [
    "L:1 1 1 2 2 3 4 5 5 5 6 6\n",
    "where differ L\n",
    "(where differ L) cut L"
   ]
  },
  {
   "cell_type": "code",
   "execution_count": 92,
   "metadata": {
    "ExecuteTime": {
     "end_time": "2020-11-21T01:16:14.221672000Z",
     "start_time": "2020-11-21T01:16:14.212Z"
    }
   },
   "outputs": [
    {
     "data": {
      "text/plain": [
       "1 1 1\n",
       "5 5 5\n"
      ]
     },
     "execution_count": 92,
     "metadata": {},
     "output_type": "execute_result"
    }
   ],
   "source": [
    "runs:(where differ L) cut L / store runs\n",
    "ct:count each runs / store count of each run\n",
    "runs where ct=max ct / find the runs of maximum length"
   ]
  },
  {
   "cell_type": "code",
   "execution_count": 93,
   "metadata": {
    "ExecuteTime": {
     "end_time": "2020-11-21T01:16:19.991483000Z",
     "start_time": "2020-11-21T01:16:19.986Z"
    }
   },
   "outputs": [
    {
     "data": {
      "text/plain": [
       "1 1 1\n",
       "5 5 5\n"
      ]
     },
     "execution_count": 93,
     "metadata": {},
     "output_type": "execute_result"
    }
   ],
   "source": [
    "runs where ct=max ct:count each runs:(where differ L) cut L"
   ]
  },
  {
   "cell_type": "code",
   "execution_count": 98,
   "metadata": {
    "ExecuteTime": {
     "end_time": "2020-11-21T01:19:06.496698000Z",
     "start_time": "2020-11-21T01:19:06.489Z"
    }
   },
   "outputs": [
    {
     "data": {
      "text/plain": [
       "9 8 7\n",
       "11 10\n",
       ",12\n",
       ",13\n"
      ]
     },
     "execution_count": 98,
     "metadata": {},
     "output_type": "execute_result"
    },
    {
     "data": {
      "text/plain": [
       ",9\n",
       ",8\n",
       "7 11\n",
       "10 12 13\n"
      ]
     },
     "execution_count": 98,
     "metadata": {},
     "output_type": "execute_result"
    }
   ],
   "source": [
    "L:9 8 7 11 10 12 13\n",
    "(where -0W>':L) cut L\n",
    "(where 0W<':L) cut L"
   ]
  },
  {
   "cell_type": "markdown",
   "metadata": {},
   "source": [
    "## General Application"
   ]
  },
  {
   "cell_type": "code",
   "execution_count": 99,
   "metadata": {
    "ExecuteTime": {
     "end_time": "2020-11-21T01:37:15.550775000Z",
     "start_time": "2020-11-21T01:37:15.539Z"
    }
   },
   "outputs": [
    {
     "data": {
      "text/plain": [
       "1 2\n"
      ]
     },
     "execution_count": 99,
     "metadata": {},
     "output_type": "execute_result"
    },
    {
     "data": {
      "text/plain": [
       "3 4 5\n"
      ]
     },
     "execution_count": 99,
     "metadata": {},
     "output_type": "execute_result"
    },
    {
     "data": {
      "text/plain": [
       "1 2\n",
       ",6\n"
      ]
     },
     "execution_count": 99,
     "metadata": {},
     "output_type": "execute_result"
    },
    {
     "data": {
      "text/plain": [
       "5\n"
      ]
     },
     "execution_count": 99,
     "metadata": {},
     "output_type": "execute_result"
    },
    {
     "data": {
      "text/plain": [
       "5\n"
      ]
     },
     "execution_count": 99,
     "metadata": {},
     "output_type": "execute_result"
    },
    {
     "data": {
      "text/plain": [
       "1 2\n"
      ]
     },
     "execution_count": 99,
     "metadata": {},
     "output_type": "execute_result"
    },
    {
     "data": {
      "text/plain": [
       "1 2\n"
      ]
     },
     "execution_count": 99,
     "metadata": {},
     "output_type": "execute_result"
    },
    {
     "data": {
      "text/plain": [
       "1 2\n",
       ",6\n"
      ]
     },
     "execution_count": 99,
     "metadata": {},
     "output_type": "execute_result"
    },
    {
     "data": {
      "text/plain": [
       "2\n"
      ]
     },
     "execution_count": 99,
     "metadata": {},
     "output_type": "execute_result"
    },
    {
     "data": {
      "text/plain": [
       "2\n"
      ]
     },
     "execution_count": 99,
     "metadata": {},
     "output_type": "execute_result"
    },
    {
     "data": {
      "text/plain": [
       "0\n"
      ]
     },
     "execution_count": 99,
     "metadata": {},
     "output_type": "execute_result"
    },
    {
     "data": {
      "text/plain": [
       "1\n"
      ]
     },
     "execution_count": 99,
     "metadata": {},
     "output_type": "execute_result"
    },
    {
     "data": {
      "text/plain": [
       "0 4\n"
      ]
     },
     "execution_count": 99,
     "metadata": {},
     "output_type": "execute_result"
    },
    {
     "data": {
      "text/plain": [
       "3\n"
      ]
     },
     "execution_count": 99,
     "metadata": {},
     "output_type": "execute_result"
    },
    {
     "data": {
      "text/plain": [
       "3\n"
      ]
     },
     "execution_count": 99,
     "metadata": {},
     "output_type": "execute_result"
    }
   ],
   "source": [
    "L:(1 2;3 4 5; enlist 6)\n",
    "L[0] / 1 2\n",
    "L 1 / 3 4 5\n",
    "L[0 2] / 1 2; ,6\n",
    "L[1][2] /5\n",
    "L[1; 2] /5\n",
    "d:`a`b`c!(1 2; 3 4 5; enlist 6) \n",
    "d[`a] / 1 2\n",
    "d `a / 1 2\n",
    "d[`a`c] / 1 2; ,6\n",
    "d[`a][1] /2\n",
    "d[`a; 1] /2\n",
    "f:{x*x} \n",
    "f[0] / 0\n",
    "f 1 / 1\n",
    "f[0 2] /0 4\n",
    "g:{x+y} \n",
    "g[1][2] / 3\n",
    "g[1;2] / 3"
   ]
  },
  {
   "cell_type": "markdown",
   "metadata": {},
   "source": [
    "### Operator Apply At `@`"
   ]
  },
  {
   "cell_type": "markdown",
   "metadata": {},
   "source": [
    "Basic application comprises retrieving a list item by index, looking up a dictionary value by key, or evaluating a unary function. These are all instances of application of a univalent mathematical mapping. These are to be distinguished from indexing at depth, which is discussed in the next section.\n",
    "\n",
    "The higher-order function `@` is the true form of basic application in q. It applies a unary mapping to an argument. As with all built-in functions, it can be written infix or prefix."
   ]
  },
  {
   "cell_type": "code",
   "execution_count": 100,
   "metadata": {
    "ExecuteTime": {
     "end_time": "2020-11-21T03:59:47.420254000Z",
     "start_time": "2020-11-21T03:59:47.414Z"
    }
   },
   "outputs": [
    {
     "data": {
      "text/plain": [
       "20\n"
      ]
     },
     "execution_count": 100,
     "metadata": {},
     "output_type": "execute_result"
    },
    {
     "data": {
      "text/plain": [
       "20\n"
      ]
     },
     "execution_count": 100,
     "metadata": {},
     "output_type": "execute_result"
    },
    {
     "data": {
      "text/plain": [
       "20\n"
      ]
     },
     "execution_count": 100,
     "metadata": {},
     "output_type": "execute_result"
    },
    {
     "data": {
      "text/plain": [
       "4\n"
      ]
     },
     "execution_count": 100,
     "metadata": {},
     "output_type": "execute_result"
    },
    {
     "data": {
      "text/plain": [
       "4\n"
      ]
     },
     "execution_count": 100,
     "metadata": {},
     "output_type": "execute_result"
    },
    {
     "data": {
      "text/plain": [
       "100 400 900 1600\n"
      ]
     },
     "execution_count": 100,
     "metadata": {},
     "output_type": "execute_result"
    },
    {
     "data": {
      "text/plain": [
       "10\n"
      ]
     },
     "execution_count": 100,
     "metadata": {},
     "output_type": "execute_result"
    },
    {
     "data": {
      "text/plain": [
       "20\n"
      ]
     },
     "execution_count": 100,
     "metadata": {},
     "output_type": "execute_result"
    }
   ],
   "source": [
    "10 20 30 40@1\n",
    "L:10 20 30 40\n",
    "L@1\n",
    "@[L; 1]\n",
    "count@L\n",
    "@[count; L]\n",
    "{x*x}@L\n",
    "d:`a`b`c!10 20 30\n",
    "d@`a\n",
    "@[d;`b]"
   ]
  },
  {
   "cell_type": "code",
   "execution_count": 102,
   "metadata": {
    "ExecuteTime": {
     "end_time": "2020-11-21T04:00:27.359537000Z",
     "start_time": "2020-11-21T04:00:27.355Z"
    }
   },
   "outputs": [
    {
     "data": {
      "text/plain": [
       "42\n"
      ]
     },
     "execution_count": 102,
     "metadata": {},
     "output_type": "execute_result"
    },
    {
     "data": {
      "text/plain": [
       "42\n"
      ]
     },
     "execution_count": 102,
     "metadata": {},
     "output_type": "execute_result"
    },
    {
     "data": {
      "text/plain": [
       "42\n"
      ]
     },
     "execution_count": 102,
     "metadata": {},
     "output_type": "execute_result"
    },
    {
     "data": {
      "text/plain": [
       "42\n"
      ]
     },
     "execution_count": 102,
     "metadata": {},
     "output_type": "execute_result"
    },
    {
     "data": {
      "text/plain": [
       "42\n"
      ]
     },
     "execution_count": 102,
     "metadata": {},
     "output_type": "execute_result"
    }
   ],
   "source": [
    "f:{6*7}\n",
    "f[]\n",
    "@[f; ::]\n",
    "f@(::)\n",
    "f@43"
   ]
  },
  {
   "cell_type": "markdown",
   "metadata": {},
   "source": [
    "### Operator Apply `.`\n",
    "\n",
    "Indexing a list at depth, retrieving a nested value from a dictionary and evaluating a function with multiple parameters are all instances of applying a multi-variate mapping. The higher-order function `.` is the true form of multi-variate application in q. It applies a multi-variate mapping to multiple arguments and can be written infix or prefix."
   ]
  },
  {
   "cell_type": "markdown",
   "metadata": {},
   "source": [
    "**The right argument of . must be a list.**\n",
    "\n",
    "Separate operator `.` from its operands by whitespace if they are names or literal constants, as proximity to dots used in name spacing and in decimal numbers can lead to confusion."
   ]
  },
  {
   "cell_type": "code",
   "execution_count": 103,
   "metadata": {
    "ExecuteTime": {
     "end_time": "2020-11-21T04:03:10.914983000Z",
     "start_time": "2020-11-21T04:03:10.910Z"
    }
   },
   "outputs": [
    {
     "data": {
      "text/plain": [
       "40\n"
      ]
     },
     "execution_count": 103,
     "metadata": {},
     "output_type": "execute_result"
    },
    {
     "data": {
      "text/plain": [
       "40\n"
      ]
     },
     "execution_count": 103,
     "metadata": {},
     "output_type": "execute_result"
    },
    {
     "data": {
      "text/plain": [
       "40\n"
      ]
     },
     "execution_count": 103,
     "metadata": {},
     "output_type": "execute_result"
    },
    {
     "data": {
      "text/plain": [
       "40\n"
      ]
     },
     "execution_count": 103,
     "metadata": {},
     "output_type": "execute_result"
    },
    {
     "data": {
      "text/plain": [
       "40\n"
      ]
     },
     "execution_count": 103,
     "metadata": {},
     "output_type": "execute_result"
    }
   ],
   "source": [
    "L:(10 20 30; 40 50)\n",
    "L[1][0]\n",
    "L[1; 0]\n",
    "L . 1 0\n",
    "d:`a`b`c!(10 20 30; 40 50; enlist 60)\n",
    "d[`b][0]\n",
    "d[`b; 0]"
   ]
  },
  {
   "cell_type": "code",
   "execution_count": 104,
   "metadata": {
    "ExecuteTime": {
     "end_time": "2020-11-21T04:03:34.870166000Z",
     "start_time": "2020-11-21T04:03:34.859Z"
    }
   },
   "outputs": [
    {
     "data": {
      "text/plain": [
       "40\n"
      ]
     },
     "execution_count": 104,
     "metadata": {},
     "output_type": "execute_result"
    },
    {
     "data": {
      "text/plain": [
       "3\n"
      ]
     },
     "execution_count": 104,
     "metadata": {},
     "output_type": "execute_result"
    },
    {
     "data": {
      "text/plain": [
       "3\n"
      ]
     },
     "execution_count": 104,
     "metadata": {},
     "output_type": "execute_result"
    }
   ],
   "source": [
    "d . (`b; 0)\n",
    "g:{x+y}\n",
    "g[1; 2]\n",
    "g . 1 2"
   ]
  },
  {
   "cell_type": "markdown",
   "metadata": {},
   "source": [
    "Dot application provides function application syntax that is conveniently independent of the valence of the function. This is useful for situations in which a function and its arguments are generated dynamically – e.g., dynamic dispatch – and the valence cannot be known in advance."
   ]
  },
  {
   "cell_type": "code",
   "execution_count": 105,
   "metadata": {
    "ExecuteTime": {
     "end_time": "2020-11-21T04:05:24.253358000Z",
     "start_time": "2020-11-21T04:05:24.251Z"
    }
   },
   "outputs": [
    {
     "data": {
      "text/plain": [
       "3\n"
      ]
     },
     "execution_count": 105,
     "metadata": {},
     "output_type": "execute_result"
    }
   ],
   "source": [
    "g:{x+y}\n",
    "f:g\n",
    "f . 1 2"
   ]
  },
  {
   "cell_type": "code",
   "execution_count": 106,
   "metadata": {
    "ExecuteTime": {
     "end_time": "2020-11-21T04:05:38.532579000Z",
     "start_time": "2020-11-21T04:05:38.530Z"
    }
   },
   "outputs": [
    {
     "data": {
      "text/plain": [
       "6\n"
      ]
     },
     "execution_count": 106,
     "metadata": {},
     "output_type": "execute_result"
    }
   ],
   "source": [
    "h:{x+y+z}\n",
    "f:h\n",
    "f . 1 2 3"
   ]
  },
  {
   "cell_type": "code",
   "execution_count": 107,
   "metadata": {
    "ExecuteTime": {
     "end_time": "2020-11-21T04:06:03.692208000Z",
     "start_time": "2020-11-21T04:06:03.689Z"
    }
   },
   "outputs": [
    {
     "data": {
      "text/plain": [
       "25\n"
      ]
     },
     "execution_count": 107,
     "metadata": {},
     "output_type": "execute_result"
    },
    {
     "data": {
      "text/plain": [
       "25\n"
      ]
     },
     "execution_count": 107,
     "metadata": {},
     "output_type": "execute_result"
    },
    {
     "data": {
      "text/plain": [
       "1 4 9\n"
      ]
     },
     "execution_count": 107,
     "metadata": {},
     "output_type": "execute_result"
    }
   ],
   "source": [
    "f:{x*x}\n",
    "f@5\n",
    "f . enlist 5\n",
    "f . enlist 1 2 3"
   ]
  },
  {
   "cell_type": "markdown",
   "metadata": {},
   "source": [
    "To denote an elided index with `.` application, use the nil item."
   ]
  },
  {
   "cell_type": "code",
   "execution_count": 108,
   "metadata": {
    "ExecuteTime": {
     "end_time": "2020-11-21T04:07:17.334756000Z",
     "start_time": "2020-11-21T04:07:17.328Z"
    }
   },
   "outputs": [
    {
     "data": {
      "text/plain": [
       "1 2 3\n"
      ]
     },
     "execution_count": 108,
     "metadata": {},
     "output_type": "execute_result"
    },
    {
     "data": {
      "text/plain": [
       "1 2 3\n"
      ]
     },
     "execution_count": 108,
     "metadata": {},
     "output_type": "execute_result"
    },
    {
     "data": {
      "text/plain": [
       "2 5\n"
      ]
     },
     "execution_count": 108,
     "metadata": {},
     "output_type": "execute_result"
    }
   ],
   "source": [
    "m:(1 2 3;4 5 6)\n",
    "m[0;]\n",
    "m . (0; ::)\n",
    "m . (::; 1)"
   ]
  },
  {
   "cell_type": "code",
   "execution_count": 112,
   "metadata": {
    "ExecuteTime": {
     "end_time": "2020-11-21T04:08:24.171283000Z",
     "start_time": "2020-11-21T04:08:24.163Z"
    }
   },
   "outputs": [
    {
     "data": {
      "text/plain": [
       "42\n"
      ]
     },
     "execution_count": 112,
     "metadata": {},
     "output_type": "execute_result"
    },
    {
     "data": {
      "text/plain": [
       "42\n"
      ]
     },
     "execution_count": 112,
     "metadata": {},
     "output_type": "execute_result"
    }
   ],
   "source": [
    "f:{6*7}\n",
    "f . enlist (::)\n",
    "f . enlist 42"
   ]
  },
  {
   "cell_type": "code",
   "execution_count": 113,
   "metadata": {
    "ExecuteTime": {
     "end_time": "2020-11-21T04:09:45.328510000Z",
     "start_time": "2020-11-21T04:09:45.324Z"
    }
   },
   "outputs": [
    {
     "data": {
      "text/plain": [
       "20\n"
      ]
     },
     "execution_count": 113,
     "metadata": {},
     "output_type": "execute_result"
    },
    {
     "data": {
      "text/plain": [
       "20\n"
      ]
     },
     "execution_count": 113,
     "metadata": {},
     "output_type": "execute_result"
    },
    {
     "data": {
      "text/plain": [
       "20\n"
      ]
     },
     "execution_count": 113,
     "metadata": {},
     "output_type": "execute_result"
    },
    {
     "data": {
      "text/plain": [
       "400\n"
      ]
     },
     "execution_count": 113,
     "metadata": {},
     "output_type": "execute_result"
    },
    {
     "data": {
      "text/plain": [
       "`b\n"
      ]
     },
     "execution_count": 113,
     "metadata": {},
     "output_type": "execute_result"
    },
    {
     "data": {
      "text/plain": [
       "`b\n"
      ]
     },
     "execution_count": 113,
     "metadata": {},
     "output_type": "execute_result"
    }
   ],
   "source": [
    "L:10 20 30\n",
    "L . enlist 1\n",
    "\n",
    "m:(10 20 30; 100 200 300)\n",
    "m . 0 1\n",
    "\n",
    "ds:(`a`b`c!10 20 30; `x`y!100 200)\n",
    "ds . (0; `b)\n",
    "\n",
    "mix:(10 20 30; `a`b`c!(1; 2; (300 400)))\n",
    "mix . (1; `c; 1)\n",
    "\n",
    "dc:`c1`c2!(1 2 3; `a`b`c)\n",
    "dc . (`c2; 1)\n",
    "\n",
    "t:([]c1:1 2 3;c2:`a`b`c)\n",
    "t . (1; `c2)\n",
    "\n",
    "kt:([k:`a`b`c] v:1.1 2.2 3.3)\n",
    "kt . `b`v"
   ]
  },
  {
   "cell_type": "markdown",
   "metadata": {},
   "source": [
    "### General Form of Function Application"
   ]
  },
  {
   "cell_type": "markdown",
   "metadata": {},
   "source": [
    "Each application above can be viewed as **retrieval** from the data structure along a sub-domain of its definition. From this perspective, the general forms to come will apply an **arbitrary operation** along a sub-domain. Otherwise said, they modify a substructure **within** the original structure. This is a very powerful technique that is not present in traditional programming languages."
   ]
  },
  {
   "cell_type": "markdown",
   "metadata": {},
   "source": [
    "### General Apply (`@`) with Unary Functions"
   ]
  },
  {
   "cell_type": "code",
   "execution_count": 114,
   "metadata": {
    "ExecuteTime": {
     "end_time": "2020-11-21T04:32:15.833097000Z",
     "start_time": "2020-11-21T04:32:15.830Z"
    }
   },
   "outputs": [
    {
     "data": {
      "text/plain": [
       "20\n"
      ]
     },
     "execution_count": 114,
     "metadata": {},
     "output_type": "execute_result"
    },
    {
     "data": {
      "text/plain": [
       "10 30\n"
      ]
     },
     "execution_count": 114,
     "metadata": {},
     "output_type": "execute_result"
    }
   ],
   "source": [
    "L:10 20 30 40 50\n",
    "@[L; 1]\n",
    "@[L; 0 2]"
   ]
  },
  {
   "cell_type": "markdown",
   "metadata": {},
   "source": [
    "Now instead of simply retrieving along the sub-domain, we supply a function to be **applied** along the sub-domain."
   ]
  },
  {
   "cell_type": "code",
   "execution_count": 115,
   "metadata": {
    "ExecuteTime": {
     "end_time": "2020-11-21T04:32:21.012920000Z",
     "start_time": "2020-11-21T04:32:21.010Z"
    }
   },
   "outputs": [
    {
     "data": {
      "text/plain": [
       "10 -20 30 40 50\n"
      ]
     },
     "execution_count": 115,
     "metadata": {},
     "output_type": "execute_result"
    },
    {
     "data": {
      "text/plain": [
       "-10 20 -30 40 50\n"
      ]
     },
     "execution_count": 115,
     "metadata": {},
     "output_type": "execute_result"
    }
   ],
   "source": [
    "@[L; 1; neg]\n",
    "@[L; 0 2; neg]"
   ]
  },
  {
   "cell_type": "markdown",
   "metadata": {},
   "source": [
    "Effectively we reach inside (a copy of) the list, apply `neg` along the specified sub-domain, and return the modified list. Contrast this with normal application on the sub-domain, which returns only the modified items."
   ]
  },
  {
   "cell_type": "code",
   "execution_count": 116,
   "metadata": {
    "ExecuteTime": {
     "end_time": "2020-11-21T04:32:33.073125000Z",
     "start_time": "2020-11-21T04:32:33.063Z"
    }
   },
   "outputs": [
    {
     "data": {
      "text/plain": [
       "-10 -30\n"
      ]
     },
     "execution_count": 116,
     "metadata": {},
     "output_type": "execute_result"
    }
   ],
   "source": [
    "neg L@0 2"
   ]
  },
  {
   "cell_type": "markdown",
   "metadata": {},
   "source": [
    "The syntax for general application of a unary atomic function on a list is:`@[L;I;f]`. where `L` is the list and `I` is a collection of indices into `L`. Viewing `L` as a mapping, `I` is a top-level sub-domain of `L`. In fact, this form generalizes to any data structure viewed as a mapping. For example, given a dictionary and a list of keys,"
   ]
  },
  {
   "cell_type": "code",
   "execution_count": 117,
   "metadata": {
    "ExecuteTime": {
     "end_time": "2020-11-21T04:34:30.999870000Z",
     "start_time": "2020-11-21T04:34:30.997Z"
    }
   },
   "outputs": [
    {
     "data": {
      "text/plain": [
       "a| -10\n",
       "b| 20\n",
       "c| -30\n"
      ]
     },
     "execution_count": 117,
     "metadata": {},
     "output_type": "execute_result"
    }
   ],
   "source": [
    "d:`a`b`c!10 20 30\n",
    "ks:`a`c\n",
    "@[d; ks; neg]"
   ]
  },
  {
   "cell_type": "markdown",
   "metadata": {},
   "source": [
    "**Compound data structures**"
   ]
  },
  {
   "cell_type": "code",
   "execution_count": 118,
   "metadata": {
    "ExecuteTime": {
     "end_time": "2020-11-21T04:34:57.100326000Z",
     "start_time": "2020-11-21T04:34:57.096Z"
    }
   },
   "outputs": [
    {
     "data": {
      "text/plain": [
       "-10   -20   -30  \n",
       "100   200   300  \n",
       "-1000 -2000 -3000\n"
      ]
     },
     "execution_count": 118,
     "metadata": {},
     "output_type": "execute_result"
    }
   ],
   "source": [
    "m:(10 20 30; 100 200 300; 1000 2000 3000)\n",
    "@[m; 0 2; neg]"
   ]
  },
  {
   "cell_type": "markdown",
   "metadata": {},
   "source": [
    "All the examples we have shown thus far work against copies of the input data structure. It is also possible to modify the original data structure in place. Although q does not have references, **general application provides pass-by-name with the name being a symbol**. We demonstrate with a simple example. In the first application, the original L is unchanged; in the second it is modified."
   ]
  },
  {
   "cell_type": "code",
   "execution_count": 119,
   "metadata": {
    "ExecuteTime": {
     "end_time": "2020-11-21T04:35:20.446341000Z",
     "start_time": "2020-11-21T04:35:20.439Z"
    }
   },
   "outputs": [
    {
     "data": {
      "text/plain": [
       "-10 20 30 40\n"
      ]
     },
     "execution_count": 119,
     "metadata": {},
     "output_type": "execute_result"
    },
    {
     "data": {
      "text/plain": [
       "10 20 30 40\n"
      ]
     },
     "execution_count": 119,
     "metadata": {},
     "output_type": "execute_result"
    }
   ],
   "source": [
    "L:10 20 30 40\n",
    "@[L; 0; neg]\n",
    "L"
   ]
  },
  {
   "cell_type": "code",
   "execution_count": 122,
   "metadata": {
    "ExecuteTime": {
     "end_time": "2020-11-21T04:35:30.888447000Z",
     "start_time": "2020-11-21T04:35:30.881Z"
    }
   },
   "outputs": [
    {
     "data": {
      "text/plain": [
       "`L\n"
      ]
     },
     "execution_count": 122,
     "metadata": {},
     "output_type": "execute_result"
    },
    {
     "data": {
      "text/plain": [
       "-10 20 30 40\n"
      ]
     },
     "execution_count": 122,
     "metadata": {},
     "output_type": "execute_result"
    }
   ],
   "source": [
    "@[`L; 0 ; neg]\n",
    "L"
   ]
  },
  {
   "cell_type": "markdown",
   "metadata": {},
   "source": [
    "### General Apply (`@`) with Binary Functions\n",
    "\n",
    "general form: `@[L; I; g; v]`.  The notation is suggestive of lists, but `L` can be any data structure, viewed as a mapping. Here `I` is a top-level sub-domain of `L`; `g` is a binary function; and `v` is an atom or list conforming to `I`."
   ]
  },
  {
   "cell_type": "code",
   "execution_count": 123,
   "metadata": {
    "ExecuteTime": {
     "end_time": "2020-11-21T04:37:30.788062000Z",
     "start_time": "2020-11-21T04:37:30.779Z"
    }
   },
   "outputs": [
    {
     "data": {
      "text/plain": [
       "110 220 30 40\n"
      ]
     },
     "execution_count": 123,
     "metadata": {},
     "output_type": "execute_result"
    },
    {
     "data": {
      "text/plain": [
       "110 120 30 40\n"
      ]
     },
     "execution_count": 123,
     "metadata": {},
     "output_type": "execute_result"
    }
   ],
   "source": [
    "L:10 20 30 40\n",
    "@[L; 0 1; +; 100 200]\n",
    "@[L; 0 1; +; 100]"
   ]
  },
  {
   "cell_type": "code",
   "execution_count": 124,
   "metadata": {
    "ExecuteTime": {
     "end_time": "2020-11-21T04:37:46.609255000Z",
     "start_time": "2020-11-21T04:37:46.601Z"
    }
   },
   "outputs": [
    {
     "data": {
      "text/plain": [
       "a| 110\n",
       "b| 220\n",
       "c| 30\n"
      ]
     },
     "execution_count": 124,
     "metadata": {},
     "output_type": "execute_result"
    },
    {
     "data": {
      "text/plain": [
       "a| 110\n",
       "b| 120\n",
       "c| 30\n"
      ]
     },
     "execution_count": 124,
     "metadata": {},
     "output_type": "execute_result"
    }
   ],
   "source": [
    "d:`a`b`c!10 20 30\n",
    "@[d; `a`b; +; 100 200]\n",
    "@[d; `a`b; +; 100]"
   ]
  },
  {
   "cell_type": "code",
   "execution_count": 126,
   "metadata": {
    "ExecuteTime": {
     "end_time": "2020-11-21T04:39:01.190225000Z",
     "start_time": "2020-11-21T04:39:01.182Z"
    }
   },
   "outputs": [
    {
     "data": {
      "text/plain": [
       "110 220 30 40\n"
      ]
     },
     "execution_count": 126,
     "metadata": {},
     "output_type": "execute_result"
    },
    {
     "data": {
      "text/plain": [
       "110 220\n"
      ]
     },
     "execution_count": 126,
     "metadata": {},
     "output_type": "execute_result"
    }
   ],
   "source": [
    "L:10 20 30 40\n",
    "@[L; 0 1; +; 100 200]\n",
    "100 200+L@0 1"
   ]
  },
  {
   "cell_type": "code",
   "execution_count": 125,
   "metadata": {
    "ExecuteTime": {
     "end_time": "2020-11-21T04:38:41.665340000Z",
     "start_time": "2020-11-21T04:38:41.663Z"
    }
   },
   "outputs": [
    {
     "data": {
      "text/plain": [
       "11   21   31  \n",
       "100  200  300 \n",
       "1002 2002 3002\n"
      ]
     },
     "execution_count": 125,
     "metadata": {},
     "output_type": "execute_result"
    }
   ],
   "source": [
    "m:(10 20 30; 100 200 300; 1000 2000 3000)\n",
    "@[m; 0 2; +; 1 2]"
   ]
  },
  {
   "cell_type": "markdown",
   "metadata": {},
   "source": [
    "**A useful case of binary application uses the assignment operator : to modify values along the sub-domain.**"
   ]
  },
  {
   "cell_type": "code",
   "execution_count": 127,
   "metadata": {
    "ExecuteTime": {
     "end_time": "2020-11-21T04:41:03.836057000Z",
     "start_time": "2020-11-21T04:41:03.833Z"
    }
   },
   "outputs": [
    {
     "data": {
      "text/plain": [
       "42 20 43 40\n"
      ]
     },
     "execution_count": 127,
     "metadata": {},
     "output_type": "execute_result"
    }
   ],
   "source": [
    "L:10 20 30 40\n",
    "@[L; 0 2; :; 42 43]"
   ]
  },
  {
   "cell_type": "markdown",
   "metadata": {},
   "source": [
    "As in the unary case, to apply to the original in place, instead of to a copy, use pass-by-name."
   ]
  },
  {
   "cell_type": "code",
   "execution_count": 128,
   "metadata": {
    "ExecuteTime": {
     "end_time": "2020-11-21T04:41:40.261040000Z",
     "start_time": "2020-11-21T04:41:40.253Z"
    }
   },
   "outputs": [
    {
     "data": {
      "text/plain": [
       "`L\n"
      ]
     },
     "execution_count": 128,
     "metadata": {},
     "output_type": "execute_result"
    },
    {
     "data": {
      "text/plain": [
       "42 20 43 40\n"
      ]
     },
     "execution_count": 128,
     "metadata": {},
     "output_type": "execute_result"
    }
   ],
   "source": [
    "L:10 20 30 40\n",
    "@[`L; 0 2; :; 42 43]\n",
    "L"
   ]
  },
  {
   "cell_type": "markdown",
   "metadata": {},
   "source": [
    "### General Apply (`.`) for Unary Functions"
   ]
  },
  {
   "cell_type": "code",
   "execution_count": 129,
   "metadata": {
    "ExecuteTime": {
     "end_time": "2020-11-21T04:43:15.132375000Z",
     "start_time": "2020-11-21T04:43:15.126Z"
    }
   },
   "outputs": [],
   "source": [
    "m:(10 20 30; 100 200 300)\n",
    "d:`a`b`c!(10 20 30; 40 50; enlist 60)"
   ]
  },
  {
   "cell_type": "code",
   "execution_count": 129,
   "metadata": {
    "ExecuteTime": {
     "end_time": "2020-11-21T04:43:25.795213000Z",
     "start_time": "2020-11-21T04:43:25.782Z"
    }
   },
   "outputs": [
    {
     "data": {
      "text/plain": [
       "10  -20 30 \n",
       "100 200 300\n"
      ]
     },
     "execution_count": 130,
     "metadata": {},
     "output_type": "execute_result"
    },
    {
     "data": {
      "text/plain": [
       "a| 10 -20 30\n",
       "b| 40 50\n",
       "c| ,60\n"
      ]
     },
     "execution_count": 130,
     "metadata": {},
     "output_type": "execute_result"
    },
    {
     "data": {
      "text/plain": [
       "-10  -20  -30 \n",
       "-100 -200 -300\n"
      ]
     },
     "execution_count": 130,
     "metadata": {},
     "output_type": "execute_result"
    },
    {
     "ename": "\u001b[0;31mtype\u001b[0m",
     "evalue": "\u001b[0;31mtype\u001b[0m",
     "output_type": "error",
     "traceback": [
      "\u001b[0;31mevaluation error:\n\u001b[0m",
      "\u001b[0;31mtype\u001b[0m",
      "\u001b[0;31m\u001b[0m",
      "\u001b[0;31m  [0]  @[d; (`a; 1); neg]\n       ^\n\u001b[0m"
     ]
    }
   ],
   "source": [
    ".[m; 0 1; neg]\n",
    ".[d; (`a; 1); neg]\n",
    "\n",
    "@[m; 0 1; neg]\n",
    "@[d; (`a; 1); neg]"
   ]
  },
  {
   "cell_type": "code",
   "execution_count": 130,
   "metadata": {
    "ExecuteTime": {
     "end_time": "2020-11-21T04:43:58.214715000Z",
     "start_time": "2020-11-21T04:43:58.211Z"
    }
   },
   "outputs": [
    {
     "data": {
      "text/plain": [
       "10  -20 30 \n",
       "100 200 300\n"
      ]
     },
     "execution_count": 130,
     "metadata": {},
     "output_type": "execute_result"
    },
    {
     "data": {
      "text/plain": [
       "10  20  30 \n",
       "100 200 300\n"
      ]
     },
     "execution_count": 130,
     "metadata": {},
     "output_type": "execute_result"
    },
    {
     "data": {
      "text/plain": [
       "`m\n"
      ]
     },
     "execution_count": 130,
     "metadata": {},
     "output_type": "execute_result"
    },
    {
     "data": {
      "text/plain": [
       "10  -20 30 \n",
       "100 200 300\n"
      ]
     },
     "execution_count": 130,
     "metadata": {},
     "output_type": "execute_result"
    }
   ],
   "source": [
    ".[m; 0 1; neg]\n",
    "m\n",
    ".[`m; 0 1; neg]\n",
    "m"
   ]
  },
  {
   "cell_type": "markdown",
   "metadata": {},
   "source": [
    "We previously saw that to elide an index in . retrieval, we place the nil item :: in that slot. The same holds for general application, where it means apply the function along **all** indices at that level."
   ]
  },
  {
   "cell_type": "code",
   "execution_count": 132,
   "metadata": {
    "ExecuteTime": {
     "end_time": "2020-11-21T04:45:03.549396000Z",
     "start_time": "2020-11-21T04:45:03.545Z"
    }
   },
   "outputs": [
    {
     "data": {
      "text/plain": [
       "-10 20  -30\n",
       "100 200 300\n"
      ]
     },
     "execution_count": 132,
     "metadata": {},
     "output_type": "execute_result"
    },
    {
     "data": {
      "text/plain": [
       "a| -100 -200 -300\n",
       "b| 400 500\n",
       "c| ,600\n"
      ]
     },
     "execution_count": 132,
     "metadata": {},
     "output_type": "execute_result"
    },
    {
     "data": {
      "text/plain": [
       "a| -100 200 300\n",
       "b| -400 500\n",
       "c| ,-600\n"
      ]
     },
     "execution_count": 132,
     "metadata": {},
     "output_type": "execute_result"
    }
   ],
   "source": [
    ".[m; (0; ::); neg]\n",
    "d:`a`b`c!(100 200 300; 400 500; enlist 600)\n",
    ".[d; (`a; ::); neg]\n",
    ".[d; (::; 0); neg]"
   ]
  },
  {
   "cell_type": "markdown",
   "metadata": {},
   "source": [
    "The general form of `.` for unary functions is,\n",
    "`.[L; I; f]`\n",
    "Here `L` is a data structure, `I` is an in-depth sub-domain of `L` and `f` is a unary atomic function."
   ]
  },
  {
   "cell_type": "markdown",
   "metadata": {},
   "source": [
    "###  General Apply (.) for Binary Functions\n",
    "\n",
    "`.[L; I; g; v]`\n",
    "\n",
    "Here `L` is a data structure, `I` is an in-depth sub-domain of `L`, `g` is a binary function and `v` is an atom (for `g` atomic) or a vector that conforms to `I`. To apply in place use pass-by-name."
   ]
  },
  {
   "cell_type": "code",
   "execution_count": 133,
   "metadata": {
    "ExecuteTime": {
     "end_time": "2020-11-21T04:47:25.981280000Z",
     "start_time": "2020-11-21T04:47:25.974Z"
    }
   },
   "outputs": [
    {
     "data": {
      "text/plain": [
       "10  21  30 \n",
       "100 200 300\n"
      ]
     },
     "execution_count": 133,
     "metadata": {},
     "output_type": "execute_result"
    },
    {
     "data": {
      "text/plain": [
       "10  21  30 \n",
       "100 202 300\n"
      ]
     },
     "execution_count": 133,
     "metadata": {},
     "output_type": "execute_result"
    },
    {
     "data": {
      "text/plain": [
       "10  20  30 \n",
       "100 200 300\n"
      ]
     },
     "execution_count": 133,
     "metadata": {},
     "output_type": "execute_result"
    },
    {
     "data": {
      "text/plain": [
       "`m\n"
      ]
     },
     "execution_count": 133,
     "metadata": {},
     "output_type": "execute_result"
    },
    {
     "data": {
      "text/plain": [
       "10  21  30 \n",
       "100 201 300\n"
      ]
     },
     "execution_count": 133,
     "metadata": {},
     "output_type": "execute_result"
    },
    {
     "data": {
      "text/plain": [
       "`m\n"
      ]
     },
     "execution_count": 133,
     "metadata": {},
     "output_type": "execute_result"
    },
    {
     "data": {
      "text/plain": [
       "10  42 30 \n",
       "100 42 300\n"
      ]
     },
     "execution_count": 133,
     "metadata": {},
     "output_type": "execute_result"
    },
    {
     "data": {
      "text/plain": [
       "a| 100 201 300\n",
       "b| 400 500\n",
       "c| ,600\n"
      ]
     },
     "execution_count": 133,
     "metadata": {},
     "output_type": "execute_result"
    },
    {
     "data": {
      "text/plain": [
       "a| 101 201 301\n",
       "b| 400 500\n",
       "c| ,600\n"
      ]
     },
     "execution_count": 133,
     "metadata": {},
     "output_type": "execute_result"
    },
    {
     "data": {
      "text/plain": [
       "a| 101 200 300\n",
       "b| 401 500\n",
       "c| ,601\n"
      ]
     },
     "execution_count": 133,
     "metadata": {},
     "output_type": "execute_result"
    },
    {
     "data": {
      "text/plain": [
       "a| 100 200 300\n",
       "b| 400 500\n",
       "c| ,600\n"
      ]
     },
     "execution_count": 133,
     "metadata": {},
     "output_type": "execute_result"
    },
    {
     "data": {
      "text/plain": [
       "`d\n"
      ]
     },
     "execution_count": 133,
     "metadata": {},
     "output_type": "execute_result"
    },
    {
     "data": {
      "text/plain": [
       "a| 42 200 300\n",
       "b| 42 500\n",
       "c| ,42\n"
      ]
     },
     "execution_count": 133,
     "metadata": {},
     "output_type": "execute_result"
    }
   ],
   "source": [
    "m:(10 20 30; 100 200 300)\n",
    ".[m; 0 1; +; 1]\n",
    "\n",
    ".[m; (::; 1); +; 1 2]\n",
    "m\n",
    "\n",
    ".[`m; (::; 1); +; 1]\n",
    "m\n",
    "\n",
    ".[`m; (::; 1); :; 42]\n",
    "m\n",
    "\n",
    "d:`a`b`c!(100 200 300; 400 500; enlist 600)\n",
    ".[d; (`a; 1); +; 1]\n",
    ".[d; (`a; ::); +; 1]\n",
    ".[d; (::; 0); +; 1]\n",
    "d\n",
    "\n",
    ".[`d; (::; 0); :; 42]\n",
    "d"
   ]
  },
  {
   "cell_type": "code",
   "execution_count": null,
   "metadata": {},
   "outputs": [],
   "source": []
  }
 ],
 "metadata": {
  "kernelspec": {
   "display_name": "Q (kdb+)",
   "language": "q",
   "name": "qpk"
  },
  "language_info": {
   "file_extension": ".q",
   "mimetype": "text/x-q",
   "name": "q",
   "version": "4.0"
  },
  "toc": {
   "base_numbering": 1,
   "nav_menu": {},
   "number_sections": true,
   "sideBar": true,
   "skip_h1_title": false,
   "title_cell": "Table of Contents",
   "title_sidebar": "Contents",
   "toc_cell": true,
   "toc_position": {},
   "toc_section_display": true,
   "toc_window_display": false
  }
 },
 "nbformat": 4,
 "nbformat_minor": 4
}
