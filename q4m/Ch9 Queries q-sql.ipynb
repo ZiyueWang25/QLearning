{
 "cells": [
  {
   "cell_type": "markdown",
   "metadata": {
    "toc": true
   },
   "source": [
    "<h1>Table of Contents<span class=\"tocSkip\"></span></h1>\n",
    "<div class=\"toc\"><ul class=\"toc-item\"><li><span><a href=\"#Overview\" data-toc-modified-id=\"Overview-0\"><span class=\"toc-item-num\">0&nbsp;&nbsp;</span>Overview</a></span></li><li><span><a href=\"#Inserting-Records\" data-toc-modified-id=\"Inserting-Records-1\"><span class=\"toc-item-num\">1&nbsp;&nbsp;</span>Inserting Records</a></span><ul class=\"toc-item\"><li><span><a href=\"#Basic-insert\" data-toc-modified-id=\"Basic-insert-1.1\"><span class=\"toc-item-num\">1.1&nbsp;&nbsp;</span>Basic <code>insert</code></a></span></li><li><span><a href=\"#Bulk-Columnar-Insert\" data-toc-modified-id=\"Bulk-Columnar-Insert-1.2\"><span class=\"toc-item-num\">1.2&nbsp;&nbsp;</span>Bulk Columnar Insert</a></span></li><li><span><a href=\"#Insert-into-Empty-Tables\" data-toc-modified-id=\"Insert-into-Empty-Tables-1.3\"><span class=\"toc-item-num\">1.3&nbsp;&nbsp;</span>Insert into Empty Tables</a></span></li><li><span><a href=\"#Insert-and-Foreign-Keys\" data-toc-modified-id=\"Insert-and-Foreign-Keys-1.4\"><span class=\"toc-item-num\">1.4&nbsp;&nbsp;</span>Insert and Foreign Keys</a></span></li><li><span><a href=\"#Insert-into-Keyed-Tables\" data-toc-modified-id=\"Insert-into-Keyed-Tables-1.5\"><span class=\"toc-item-num\">1.5&nbsp;&nbsp;</span>Insert into Keyed Tables</a></span></li></ul></li><li><span><a href=\"#Upsert\" data-toc-modified-id=\"Upsert-2\"><span class=\"toc-item-num\">2&nbsp;&nbsp;</span><code>Upsert</code></a></span><ul class=\"toc-item\"><li><span><a href=\"#Upsert-Replacing-Insert\" data-toc-modified-id=\"Upsert-Replacing-Insert-2.1\"><span class=\"toc-item-num\">2.1&nbsp;&nbsp;</span><code>Upsert</code> Replacing <code>Insert</code></a></span></li><li><span><a href=\"#Upsert-by-Name\" data-toc-modified-id=\"Upsert-by-Name-2.2\"><span class=\"toc-item-num\">2.2&nbsp;&nbsp;</span>Upsert by Name</a></span></li><li><span><a href=\"#Upsert-on-Keyed-Tables\" data-toc-modified-id=\"Upsert-on-Keyed-Tables-2.3\"><span class=\"toc-item-num\">2.3&nbsp;&nbsp;</span>Upsert on Keyed Tables</a></span></li><li><span><a href=\"#Upsert-on-Persisted-Tables\" data-toc-modified-id=\"Upsert-on-Persisted-Tables-2.4\"><span class=\"toc-item-num\">2.4&nbsp;&nbsp;</span>Upsert on Persisted Tables</a></span></li></ul></li><li><span><a href=\"#The-select-Template\" data-toc-modified-id=\"The-select-Template-3\"><span class=\"toc-item-num\">3&nbsp;&nbsp;</span>The <code>select</code> Template</a></span><ul class=\"toc-item\"><li><span><a href=\"#Syntax\" data-toc-modified-id=\"Syntax-3.1\"><span class=\"toc-item-num\">3.1&nbsp;&nbsp;</span>Syntax</a></span></li><li><span><a href=\"#The-Select-Phrase\" data-toc-modified-id=\"The-Select-Phrase-3.2\"><span class=\"toc-item-num\">3.2&nbsp;&nbsp;</span>The Select Phrase</a></span><ul class=\"toc-item\"><li><span><a href=\"#Result-Column-Names\" data-toc-modified-id=\"Result-Column-Names-3.2.1\"><span class=\"toc-item-num\">3.2.1&nbsp;&nbsp;</span>Result Column Names</a></span></li><li><span><a href=\"#The-Virtual-Column-i\" data-toc-modified-id=\"The-Virtual-Column-i-3.2.2\"><span class=\"toc-item-num\">3.2.2&nbsp;&nbsp;</span>The Virtual Column <code>i</code></a></span></li><li><span><a href=\"#select-distinct\" data-toc-modified-id=\"select-distinct-3.2.3\"><span class=\"toc-item-num\">3.2.3&nbsp;&nbsp;</span><code>select</code> <code>distinct</code></a></span></li><li><span><a href=\"#select-[]\" data-toc-modified-id=\"select-[]-3.2.4\"><span class=\"toc-item-num\">3.2.4&nbsp;&nbsp;</span><code>select []</code></a></span></li><li><span><a href=\"#Select-on-Nested-Columns\" data-toc-modified-id=\"Select-on-Nested-Columns-3.2.5\"><span class=\"toc-item-num\">3.2.5&nbsp;&nbsp;</span>Select on Nested Columns</a></span></li></ul></li><li><span><a href=\"#Filtering-with-where\" data-toc-modified-id=\"Filtering-with-where-3.3\"><span class=\"toc-item-num\">3.3&nbsp;&nbsp;</span>Filtering with <code>where</code></a></span><ul class=\"toc-item\"><li><span><a href=\"#Basic-where\" data-toc-modified-id=\"Basic-where-3.3.1\"><span class=\"toc-item-num\">3.3.1&nbsp;&nbsp;</span>Basic where</a></span></li><li><span><a href=\"#The-Virtual-Column-i-in-where\" data-toc-modified-id=\"The-Virtual-Column-i-in-where-3.3.2\"><span class=\"toc-item-num\">3.3.2&nbsp;&nbsp;</span>The Virtual Column <code>i</code> in <code>where</code></a></span></li><li><span><a href=\"#Multiple-Where-Subphrases\" data-toc-modified-id=\"Multiple-Where-Subphrases-3.3.3\"><span class=\"toc-item-num\">3.3.3&nbsp;&nbsp;</span>Multiple Where Subphrases</a></span></li><li><span><a href=\"#Nested-Columns-in-Where\" data-toc-modified-id=\"Nested-Columns-in-Where-3.3.4\"><span class=\"toc-item-num\">3.3.4&nbsp;&nbsp;</span>Nested Columns in Where</a></span></li><li><span><a href=\"#fby-i-Where\" data-toc-modified-id=\"fby-i-Where-3.3.5\"><span class=\"toc-item-num\">3.3.5&nbsp;&nbsp;</span><code>fby</code> i Where</a></span></li></ul></li><li><span><a href=\"#Grouping-and-Aggregation\" data-toc-modified-id=\"Grouping-and-Aggregation-3.4\"><span class=\"toc-item-num\">3.4&nbsp;&nbsp;</span>Grouping and Aggregation</a></span><ul class=\"toc-item\"><li><span><a href=\"#Aggregation-without-Grouping\" data-toc-modified-id=\"Aggregation-without-Grouping-3.4.1\"><span class=\"toc-item-num\">3.4.1&nbsp;&nbsp;</span>Aggregation without Grouping</a></span></li><li><span><a href=\"#Grouping-without-Aggregation\" data-toc-modified-id=\"Grouping-without-Aggregation-3.4.2\"><span class=\"toc-item-num\">3.4.2&nbsp;&nbsp;</span>Grouping without Aggregation</a></span></li><li><span><a href=\"#Grouping-with-Aggregation\" data-toc-modified-id=\"Grouping-with-Aggregation-3.4.3\"><span class=\"toc-item-num\">3.4.3&nbsp;&nbsp;</span>Grouping with Aggregation</a></span></li></ul></li></ul></li><li><span><a href=\"#The-exec-Template\" data-toc-modified-id=\"The-exec-Template-4\"><span class=\"toc-item-num\">4&nbsp;&nbsp;</span>The <code>exec</code> Template</a></span></li><li><span><a href=\"#The-update-Template\" data-toc-modified-id=\"The-update-Template-5\"><span class=\"toc-item-num\">5&nbsp;&nbsp;</span>The <code>update</code> Template</a></span><ul class=\"toc-item\"><li><span><a href=\"#Basic-update\" data-toc-modified-id=\"Basic-update-5.1\"><span class=\"toc-item-num\">5.1&nbsp;&nbsp;</span>Basic update</a></span></li><li><span><a href=\"#update-by\" data-toc-modified-id=\"update-by-5.2\"><span class=\"toc-item-num\">5.2&nbsp;&nbsp;</span>update-by</a></span></li></ul></li><li><span><a href=\"#The-delete-Template\" data-toc-modified-id=\"The-delete-Template-6\"><span class=\"toc-item-num\">6&nbsp;&nbsp;</span>The <code>delete</code> Template</a></span></li><li><span><a href=\"#Sorting\" data-toc-modified-id=\"Sorting-7\"><span class=\"toc-item-num\">7&nbsp;&nbsp;</span>Sorting</a></span><ul class=\"toc-item\"><li><span><a href=\"#xasc\" data-toc-modified-id=\"xasc-7.1\"><span class=\"toc-item-num\">7.1&nbsp;&nbsp;</span><code>xasc</code></a></span></li><li><span><a href=\"#xdesc\" data-toc-modified-id=\"xdesc-7.2\"><span class=\"toc-item-num\">7.2&nbsp;&nbsp;</span><code>xdesc</code></a></span></li><li><span><a href=\"#Mixed-Sort\" data-toc-modified-id=\"Mixed-Sort-7.3\"><span class=\"toc-item-num\">7.3&nbsp;&nbsp;</span>Mixed Sort</a></span></li></ul></li><li><span><a href=\"#Renaming-and-Rearranging-Columns\" data-toc-modified-id=\"Renaming-and-Rearranging-Columns-8\"><span class=\"toc-item-num\">8&nbsp;&nbsp;</span>Renaming and Rearranging Columns</a></span><ul class=\"toc-item\"><li><span><a href=\"#xcol\" data-toc-modified-id=\"xcol-8.1\"><span class=\"toc-item-num\">8.1&nbsp;&nbsp;</span><code>xcol</code></a></span></li><li><span><a href=\"#xcols\" data-toc-modified-id=\"xcols-8.2\"><span class=\"toc-item-num\">8.2&nbsp;&nbsp;</span><code>xcols</code></a></span></li></ul></li><li><span><a href=\"#Joins\" data-toc-modified-id=\"Joins-9\"><span class=\"toc-item-num\">9&nbsp;&nbsp;</span>Joins</a></span><ul class=\"toc-item\"><li><span><a href=\"#Implicit-Join\" data-toc-modified-id=\"Implicit-Join-9.1\"><span class=\"toc-item-num\">9.1&nbsp;&nbsp;</span>Implicit Join</a></span></li><li><span><a href=\"#Ad-hoc-Left-Join-(lj)\" data-toc-modified-id=\"Ad-hoc-Left-Join-(lj)-9.2\"><span class=\"toc-item-num\">9.2&nbsp;&nbsp;</span>Ad hoc Left Join (<code>lj</code>)</a></span></li><li><span><a href=\"#Column-Lookup\" data-toc-modified-id=\"Column-Lookup-9.3\"><span class=\"toc-item-num\">9.3&nbsp;&nbsp;</span>Column Lookup</a></span></li><li><span><a href=\"#Ad-Hoc-Inner-Join-(ij)\" data-toc-modified-id=\"Ad-Hoc-Inner-Join-(ij)-9.4\"><span class=\"toc-item-num\">9.4&nbsp;&nbsp;</span>Ad Hoc Inner Join (<code>ij</code>)</a></span></li><li><span><a href=\"#Equijoin-ej\" data-toc-modified-id=\"Equijoin-ej-9.5\"><span class=\"toc-item-num\">9.5&nbsp;&nbsp;</span>Equijoin <code>ej</code></a></span></li><li><span><a href=\"#Plug-Join-(pj)\" data-toc-modified-id=\"Plug-Join-(pj)-9.6\"><span class=\"toc-item-num\">9.6&nbsp;&nbsp;</span>Plug Join (<code>pj</code>)</a></span></li><li><span><a href=\"#Union-Join\" data-toc-modified-id=\"Union-Join-9.7\"><span class=\"toc-item-num\">9.7&nbsp;&nbsp;</span>Union Join</a></span></li><li><span><a href=\"#As-of-Joins\" data-toc-modified-id=\"As-of-Joins-9.8\"><span class=\"toc-item-num\">9.8&nbsp;&nbsp;</span>As-of Joins</a></span><ul class=\"toc-item\"><li><span><a href=\"#Window-Join-wj-!!\" data-toc-modified-id=\"Window-Join-wj-!!-9.8.1\"><span class=\"toc-item-num\">9.8.1&nbsp;&nbsp;</span>Window Join <code>wj</code> !!</a></span></li></ul></li></ul></li><li><span><a href=\"#Parameterized-Queries\" data-toc-modified-id=\"Parameterized-Queries-10\"><span class=\"toc-item-num\">10&nbsp;&nbsp;</span>Parameterized Queries</a></span></li><li><span><a href=\"#Views\" data-toc-modified-id=\"Views-11\"><span class=\"toc-item-num\">11&nbsp;&nbsp;</span>Views</a></span></li><li><span><a href=\"#Functional-Forms\" data-toc-modified-id=\"Functional-Forms-12\"><span class=\"toc-item-num\">12&nbsp;&nbsp;</span>Functional Forms</a></span><ul class=\"toc-item\"><li><span><a href=\"#Functional-select\" data-toc-modified-id=\"Functional-select-12.1\"><span class=\"toc-item-num\">12.1&nbsp;&nbsp;</span>Functional select</a></span></li><li><span><a href=\"#Functional-exec\" data-toc-modified-id=\"Functional-exec-12.2\"><span class=\"toc-item-num\">12.2&nbsp;&nbsp;</span>Functional <code>exec</code></a></span></li><li><span><a href=\"#Functional-update\" data-toc-modified-id=\"Functional-update-12.3\"><span class=\"toc-item-num\">12.3&nbsp;&nbsp;</span>Functional <code>update</code></a></span></li><li><span><a href=\"#Functional-delete\" data-toc-modified-id=\"Functional-delete-12.4\"><span class=\"toc-item-num\">12.4&nbsp;&nbsp;</span>Functional <code>delete</code></a></span></li></ul></li><li><span><a href=\"#Examples\" data-toc-modified-id=\"Examples-13\"><span class=\"toc-item-num\">13&nbsp;&nbsp;</span>Examples</a></span><ul class=\"toc-item\"><li><span><a href=\"#The-trades-Table\" data-toc-modified-id=\"The-trades-Table-13.1\"><span class=\"toc-item-num\">13.1&nbsp;&nbsp;</span>The trades Table</a></span></li><li><span><a href=\"#The-instrument-Table\" data-toc-modified-id=\"The-instrument-Table-13.2\"><span class=\"toc-item-num\">13.2&nbsp;&nbsp;</span>The instrument Table</a></span></li><li><span><a href=\"#Basic-Queries\" data-toc-modified-id=\"Basic-Queries-13.3\"><span class=\"toc-item-num\">13.3&nbsp;&nbsp;</span>Basic Queries</a></span></li><li><span><a href=\"#Meaty-Queries\" data-toc-modified-id=\"Meaty-Queries-13.4\"><span class=\"toc-item-num\">13.4&nbsp;&nbsp;</span>Meaty Queries</a></span></li><li><span><a href=\"#Excursion---Pivot-Table\" data-toc-modified-id=\"Excursion---Pivot-Table-13.5\"><span class=\"toc-item-num\">13.5&nbsp;&nbsp;</span>Excursion - Pivot Table</a></span></li></ul></li></ul></div>"
   ]
  },
  {
   "cell_type": "markdown",
   "metadata": {},
   "source": [
    "## Overview\n",
    "\n",
    "Difference between SQL and q:\n",
    "1. q table has ordered rows and columns. This is particularly useful when dealing with the situation where records arrive in time order. Appending them to a table ensures that they enter – and stay – in order. Subsequent select operations always retrieve the records in order without any need for sorting.\n",
    "2. q table is stored physically as a collection of column lists. This means that operations on column data are vector operations. Moreover, for simple column lists, atomic, aggregate and uniform functions applied to columns are especially simple and fast since they reduce to direct memory addressing.\n",
    "3. q-sql provides upsert semantics. Recall that upsert semantics on a dictionary mean that when a key-value pair is applied with `,` and the key is present, the value is updated; otherwise the pair is inserted. In the context of tables and keyed tables, which are both dictionaries, this has far-reaching consequences for many common operations, including joins. Upsert semantics permeate q-sql."
   ]
  },
  {
   "cell_type": "code",
   "execution_count": 72,
   "metadata": {
    "ExecuteTime": {
     "end_time": "2020-11-25T00:44:49.070232000Z",
     "start_time": "2020-11-25T00:44:49.068Z"
    }
   },
   "outputs": [],
   "source": [
    "s:([s:`s1`s2`s3`s4`s5]\n",
    " name:`smith`jones`blake`clark`adams;\n",
    " status:20 10 30 20 30;\n",
    " city:`london`paris`paris`london`athens)\n",
    "\n",
    "p:([p:`p1`p2`p3`p4`p5`p6]\n",
    " name:`nut`bolt`screw`screw`cam`cog;\n",
    " color:`red`green`blue`red`blue`red;\n",
    " weight:12 17 17 14 12 19;\n",
    " city:`london`paris`rome`london`paris`london)\n",
    "\n",
    "sp:([]\n",
    " s:`s$`s1`s1`s1`s1`s4`s1`s2`s2`s3`s4`s4`s4;\t/ fkey\n",
    " p:`p$`p1`p2`p3`p4`p5`p6`p1`p2`p2`p2`p4`p5;\t/ fkey\n",
    " qty:300 200 400 200 100 100 300 400 200 200 300 400)"
   ]
  },
  {
   "cell_type": "code",
   "execution_count": 2,
   "metadata": {
    "ExecuteTime": {
     "end_time": "2020-11-25T00:43:26.725109000Z",
     "start_time": "2020-11-25T00:43:26.722Z"
    }
   },
   "outputs": [
    {
     "data": {
      "text/plain": [
       "c     | t f a\n",
       "------| -----\n",
       "s     | s    \n",
       "name  | s    \n",
       "status| j    \n",
       "city  | s    \n"
      ]
     },
     "execution_count": 2,
     "metadata": {},
     "output_type": "execute_result"
    },
    {
     "data": {
      "text/plain": [
       "c     | t f a\n",
       "------| -----\n",
       "p     | s    \n",
       "name  | s    \n",
       "color | s    \n",
       "weight| j    \n",
       "city  | s    \n"
      ]
     },
     "execution_count": 2,
     "metadata": {},
     "output_type": "execute_result"
    },
    {
     "data": {
      "text/plain": [
       "c  | t f a\n",
       "---| -----\n",
       "s  | s s  \n",
       "p  | s p  \n",
       "qty| j    \n"
      ]
     },
     "execution_count": 2,
     "metadata": {},
     "output_type": "execute_result"
    }
   ],
   "source": [
    "meta s\n",
    "meta p\n",
    "meta sp"
   ]
  },
  {
   "cell_type": "markdown",
   "metadata": {},
   "source": [
    "## Inserting Records\n",
    "**The upsert function is superior to insert and is to be preferred. We include insert for nostalgia only.**"
   ]
  },
  {
   "cell_type": "markdown",
   "metadata": {},
   "source": [
    "**Appending using Assign**\n",
    "\n",
    "Since a table is (logically) a list of records, it is possible to append records in place using `,:`. Type checking on field values is performed."
   ]
  },
  {
   "cell_type": "code",
   "execution_count": 2,
   "metadata": {
    "ExecuteTime": {
     "end_time": "2020-11-25T00:43:26.728498000Z",
     "start_time": "2020-11-25T00:43:26.726Z"
    }
   },
   "outputs": [
    {
     "ename": "\u001b[0;31mtype\u001b[0m",
     "evalue": "\u001b[0;31mtype\u001b[0m",
     "output_type": "error",
     "traceback": [
      "\u001b[0;31mevaluation error:\n\u001b[0m",
      "\u001b[0;31mtype\u001b[0m",
      "\u001b[0;31m\u001b[0m",
      "\u001b[0;31m  [0]  t,:`name`iq!(`Dent; 98.0)\n        ^\n\u001b[0m"
     ]
    }
   ],
   "source": [
    "t:([] name:`symbol$(); iq:`int$())\n",
    "t,:`name`iq!(`Beeblebrox; 42)\n",
    "t,:`name`iq!(`Dent; 98.0)"
   ]
  },
  {
   "cell_type": "code",
   "execution_count": 3,
   "metadata": {
    "ExecuteTime": {
     "end_time": "2020-11-25T00:43:26.730932000Z",
     "start_time": "2020-11-25T00:43:26.729Z"
    }
   },
   "outputs": [],
   "source": [
    "t,:(`Prefect; 126)"
   ]
  },
  {
   "cell_type": "code",
   "execution_count": 4,
   "metadata": {
    "ExecuteTime": {
     "end_time": "2020-11-25T00:43:26.733834000Z",
     "start_time": "2020-11-25T00:43:26.731Z"
    }
   },
   "outputs": [
    {
     "data": {
      "text/plain": [
       "name       iq \n",
       "--------------\n",
       "Beeblebrox 42 \n",
       "Prefect    126\n",
       "Prefect    126\n",
       "Prefect    126\n"
      ]
     },
     "execution_count": 4,
     "metadata": {},
     "output_type": "execute_result"
    }
   ],
   "source": [
    "t,:(`Prefect; 126)\n",
    "t,:(`Prefect; 126)\n",
    "t"
   ]
  },
  {
   "cell_type": "markdown",
   "metadata": {},
   "source": [
    "Assign has upsert semantics on keyed tables, so repeated operation on the same key will retain only the last values."
   ]
  },
  {
   "cell_type": "code",
   "execution_count": 5,
   "metadata": {
    "ExecuteTime": {
     "end_time": "2020-11-25T00:43:26.737024000Z",
     "start_time": "2020-11-25T00:43:26.735Z"
    }
   },
   "outputs": [
    {
     "data": {
      "text/plain": [
       "eid | name iq \n",
       "----| --------\n",
       "1002| Dent 101\n"
      ]
     },
     "execution_count": 5,
     "metadata": {},
     "output_type": "execute_result"
    }
   ],
   "source": [
    "kt:([eid:`long$()] name:`symbol$(); iq:`long$())\n",
    "kt,:(1002; `Dent; 98)\n",
    "kt,:(1002; `Dent; 101)\n",
    "kt"
   ]
  },
  {
   "cell_type": "markdown",
   "metadata": {},
   "source": [
    "### Basic `insert`\n",
    "Those who prefer the familiarity of SQL can append records to an existing global table using the binary function insert whose left operand is a symbol containing the name of a global table (target) and whose right argument is a record, or list of records, conforming to the target. The result is a list of integers representing the row number(s) of the appended record(s).\n",
    "\n",
    "\n",
    "Since insert essentially reduces to amend in place, **fields are type checked**.\n",
    "- If the target column is simple, the type must match exactly.\n",
    "- If the target column is an untyped empty list, the result will take the type of the field in the initial insert."
   ]
  },
  {
   "cell_type": "code",
   "execution_count": 6,
   "metadata": {
    "ExecuteTime": {
     "end_time": "2020-11-25T00:43:26.740688000Z",
     "start_time": "2020-11-25T00:43:26.738Z"
    }
   },
   "outputs": [
    {
     "data": {
      "text/plain": [
       ",3\n"
      ]
     },
     "execution_count": 6,
     "metadata": {},
     "output_type": "execute_result"
    },
    {
     "data": {
      "text/plain": [
       ",4\n"
      ]
     },
     "execution_count": 6,
     "metadata": {},
     "output_type": "execute_result"
    },
    {
     "data": {
      "text/plain": [
       "name           iq \n",
       "------------------\n",
       "Dent           42 \n",
       "Beeblebrox     98 \n",
       "Prefect        126\n",
       "Slartibartfast 134\n",
       "Marvin         150\n"
      ]
     },
     "execution_count": 6,
     "metadata": {},
     "output_type": "execute_result"
    }
   ],
   "source": [
    "t:([] name:`Dent`Beeblebrox`Prefect; iq:42 98 126)\n",
    "`t insert (`name`iq)!(`Slartibartfast; 134)\n",
    "`t insert (`Marvin; 150)\n",
    "t"
   ]
  },
  {
   "cell_type": "code",
   "execution_count": 7,
   "metadata": {
    "ExecuteTime": {
     "end_time": "2020-11-25T00:43:26.744502000Z",
     "start_time": "2020-11-25T00:43:26.741Z"
    }
   },
   "outputs": [
    {
     "data": {
      "text/plain": [
       ",5\n"
      ]
     },
     "execution_count": 7,
     "metadata": {},
     "output_type": "execute_result"
    },
    {
     "data": {
      "text/plain": [
       ",6\n"
      ]
     },
     "execution_count": 7,
     "metadata": {},
     "output_type": "execute_result"
    },
    {
     "data": {
      "text/plain": [
       "name           iq \n",
       "------------------\n",
       "Dent           42 \n",
       "Beeblebrox     98 \n",
       "Prefect        126\n",
       "Slartibartfast 134\n",
       "Marvin         150\n",
       "Marvin         150\n",
       "Marvin         150\n"
      ]
     },
     "execution_count": 7,
     "metadata": {},
     "output_type": "execute_result"
    }
   ],
   "source": [
    "`t insert (`Marvin; 150)\n",
    "`t insert (`Marvin; 150)\n",
    "t"
   ]
  },
  {
   "cell_type": "markdown",
   "metadata": {},
   "source": [
    "Since a list of conforming records is a table, **inserting a list of records is the same as inserting a table**. Observe that use of `3#` to truncate the table."
   ]
  },
  {
   "cell_type": "code",
   "execution_count": 8,
   "metadata": {
    "ExecuteTime": {
     "end_time": "2020-11-25T00:43:26.748338000Z",
     "start_time": "2020-11-25T00:43:26.744Z"
    }
   },
   "outputs": [
    {
     "data": {
      "text/plain": [
       "3 4\n"
      ]
     },
     "execution_count": 8,
     "metadata": {},
     "output_type": "execute_result"
    },
    {
     "data": {
      "text/plain": [
       "name           iq \n",
       "------------------\n",
       "Dent           42 \n",
       "Beeblebrox     98 \n",
       "Prefect        126\n",
       "Slartibartfast 134\n",
       "Marvin         200\n"
      ]
     },
     "execution_count": 8,
     "metadata": {},
     "output_type": "execute_result"
    },
    {
     "data": {
      "text/plain": [
       "3 4\n"
      ]
     },
     "execution_count": 8,
     "metadata": {},
     "output_type": "execute_result"
    },
    {
     "data": {
      "text/plain": [
       "name           iq \n",
       "------------------\n",
       "Dent           42 \n",
       "Beeblebrox     98 \n",
       "Prefect        126\n",
       "Slartibartfast 134\n",
       "Marvin         200\n"
      ]
     },
     "execution_count": 8,
     "metadata": {},
     "output_type": "execute_result"
    }
   ],
   "source": [
    "t:3#t\n",
    "`t insert (`name`iq!(`Slartibartfast; 134); (`name`iq!(`Marvin; 200)))\n",
    "t\n",
    "t:3#t\n",
    "`t insert ([] name:`Slartibartfast`Marvin; iq:134 200)\n",
    "t"
   ]
  },
  {
   "cell_type": "markdown",
   "metadata": {},
   "source": [
    "You can also use `insert` in **prefix form**, possibly with the table name projected. For example, the previous insert can be written as,"
   ]
  },
  {
   "cell_type": "code",
   "execution_count": 9,
   "metadata": {
    "ExecuteTime": {
     "end_time": "2020-11-25T00:43:26.751550000Z",
     "start_time": "2020-11-25T00:43:26.747Z"
    }
   },
   "outputs": [
    {
     "data": {
      "text/plain": [
       ",5\n"
      ]
     },
     "execution_count": 9,
     "metadata": {},
     "output_type": "execute_result"
    },
    {
     "data": {
      "text/plain": [
       ",6\n"
      ]
     },
     "execution_count": 9,
     "metadata": {},
     "output_type": "execute_result"
    }
   ],
   "source": [
    "insert[`t; (`Slartibartfast; 134)]\n",
    "insert[`t;] (`Slartibartfast; 134)"
   ]
  },
  {
   "cell_type": "markdown",
   "metadata": {},
   "source": [
    "### Bulk Columnar Insert\n",
    "\n",
    "It is also possible to bulk insert naked field values but there is a twist. To bulk insert naked field values, you provide a list of **columns** not a list of rows."
   ]
  },
  {
   "cell_type": "code",
   "execution_count": 9,
   "metadata": {
    "ExecuteTime": {
     "end_time": "2020-11-25T00:43:26.754897000Z",
     "start_time": "2020-11-25T00:43:26.750Z"
    }
   },
   "outputs": [
    {
     "data": {
      "text/plain": [
       "2 3\n"
      ]
     },
     "execution_count": 10,
     "metadata": {},
     "output_type": "execute_result"
    },
    {
     "ename": "\u001b[0;31mtype\u001b[0m",
     "evalue": "\u001b[0;31mtype\u001b[0m",
     "output_type": "error",
     "traceback": [
      "\u001b[0;31mevaluation error:\n\u001b[0m",
      "\u001b[0;31mtype\u001b[0m",
      "\u001b[0;31m\u001b[0m",
      "\u001b[0;31m  [0]  `t insert ((`Prefect; 126); (`Marvin; 200))\n          ^\n\u001b[0m"
     ]
    }
   ],
   "source": [
    "t:([] name:`Dent`Beeblebrox; iq:98 42)\n",
    "`t insert (`Prefect`Marvin; 126 200)\n",
    "`t insert ((`Prefect; 126); (`Marvin; 200))"
   ]
  },
  {
   "cell_type": "markdown",
   "metadata": {},
   "source": [
    "### Insert into Empty Tables"
   ]
  },
  {
   "cell_type": "code",
   "execution_count": 10,
   "metadata": {
    "ExecuteTime": {
     "end_time": "2020-11-25T00:43:26.758095000Z",
     "start_time": "2020-11-25T00:43:26.754Z"
    }
   },
   "outputs": [
    {
     "data": {
      "text/plain": [
       ",0\n"
      ]
     },
     "execution_count": 10,
     "metadata": {},
     "output_type": "execute_result"
    },
    {
     "data": {
      "text/plain": [
       "c   | t f a\n",
       "----| -----\n",
       "name| s    \n",
       "iq  | j    \n"
      ]
     },
     "execution_count": 10,
     "metadata": {},
     "output_type": "execute_result"
    }
   ],
   "source": [
    "t:([] name:(); iq:())\n",
    "`t insert (`Dent;98)\n",
    "meta t"
   ]
  },
  {
   "cell_type": "code",
   "execution_count": 10,
   "metadata": {
    "ExecuteTime": {
     "end_time": "2020-11-25T00:43:26.760779000Z",
     "start_time": "2020-11-25T00:43:26.757Z"
    }
   },
   "outputs": [
    {
     "data": {
      "text/plain": [
       ",0\n"
      ]
     },
     "execution_count": 11,
     "metadata": {},
     "output_type": "execute_result"
    },
    {
     "ename": "\u001b[0;31mtype\u001b[0m",
     "evalue": "\u001b[0;31mtype\u001b[0m",
     "output_type": "error",
     "traceback": [
      "\u001b[0;31mevaluation error:\n\u001b[0m",
      "\u001b[0;31mtype\u001b[0m",
      "\u001b[0;31m\u001b[0m",
      "\u001b[0;31m  [0]  `t insert (`Beeblebrox; 42)\n          ^\n\u001b[0m"
     ]
    }
   ],
   "source": [
    "t:([] name:(); iq:())\n",
    "`t insert (`Dent;98.0)\n",
    "`t insert (`Beeblebrox; 42)"
   ]
  },
  {
   "cell_type": "markdown",
   "metadata": {},
   "source": [
    "**Recommendation**\n",
    "\n",
    "It is good practice to type all columns in an empty table. This will ensure that incorrect types are rejected and correct ones accepted."
   ]
  },
  {
   "cell_type": "code",
   "execution_count": 10,
   "metadata": {
    "ExecuteTime": {
     "end_time": "2020-11-25T00:43:26.763353000Z",
     "start_time": "2020-11-25T00:43:26.760Z"
    }
   },
   "outputs": [
    {
     "ename": "\u001b[0;31mtype\u001b[0m",
     "evalue": "\u001b[0;31mtype\u001b[0m",
     "output_type": "error",
     "traceback": [
      "\u001b[0;31mevaluation error:\n\u001b[0m",
      "\u001b[0;31mtype\u001b[0m",
      "\u001b[0;31m\u001b[0m",
      "\u001b[0;31m  [0]  `t insert (`Dent;98.0)\n          ^\n\u001b[0m"
     ]
    }
   ],
   "source": [
    "t:([] name:`symbol$(); iq:`int$())\n",
    "`t insert (`Dent;98.0)\n",
    "`t insert (`Beeblebrox; 42)"
   ]
  },
  {
   "cell_type": "markdown",
   "metadata": {},
   "source": [
    "It is also possible to insert a **list** of conforming records (i.e., a table) into a table that does not exist. This is the same as assigning the table to a variable of the specified name."
   ]
  },
  {
   "cell_type": "code",
   "execution_count": 11,
   "metadata": {
    "ExecuteTime": {
     "end_time": "2020-11-25T00:43:26.766665000Z",
     "start_time": "2020-11-25T00:43:26.763Z"
    }
   },
   "outputs": [
    {
     "data": {
      "text/plain": [
       ",0\n"
      ]
     },
     "execution_count": 11,
     "metadata": {},
     "output_type": "execute_result"
    },
    {
     "data": {
      "text/plain": [
       "c1 c2\n",
       "-----\n",
       "a  10\n"
      ]
     },
     "execution_count": 11,
     "metadata": {},
     "output_type": "execute_result"
    }
   ],
   "source": [
    "`tnew insert enlist `c1`c2!(`a; 10)\n",
    "tnew"
   ]
  },
  {
   "cell_type": "markdown",
   "metadata": {},
   "source": [
    "### Insert and Foreign Keys\n",
    "\n",
    "enumeration is a form of cast."
   ]
  },
  {
   "cell_type": "code",
   "execution_count": 11,
   "metadata": {
    "ExecuteTime": {
     "end_time": "2020-11-25T00:43:26.769971000Z",
     "start_time": "2020-11-25T00:43:26.766Z"
    }
   },
   "outputs": [
    {
     "data": {
      "text/plain": [
       ",5\n"
      ]
     },
     "execution_count": 12,
     "metadata": {},
     "output_type": "execute_result"
    },
    {
     "ename": "\u001b[0;31mcast\u001b[0m",
     "evalue": "\u001b[0;31mcast\u001b[0m",
     "output_type": "error",
     "traceback": [
      "\u001b[0;31mevaluation error:\n\u001b[0m",
      "\u001b[0;31mcast\u001b[0m",
      "\u001b[0;31m\u001b[0m",
      "\u001b[0;31m  [0]  `tdetails insert (1042;150) / foreign-key value 1042 that does not appear in kt.\n                 ^\n\u001b[0m"
     ]
    }
   ],
   "source": [
    "kt:([eid:1001 1002 1003] name:`Dent`Beeblebrox`Prefect; iq:98 42 126)\n",
    "tdetails:([] eid:`kt$1003 1002 1001 1002 1001; sc:126 36 92 39 98)\n",
    "`tdetails insert (1002;42)\n",
    "`tdetails insert (1042;150) / foreign-key value 1042 that does not appear in kt."
   ]
  },
  {
   "cell_type": "markdown",
   "metadata": {},
   "source": [
    "### Insert into Keyed Tables\n",
    "\n",
    "You can use `insert` to append data to a keyed table, but this probably does not have the desired semantics. Specifically, you can insert into a keyed table only if the key value is **not** already in the table. For this and other reasons, `upsert` should normally be preferred over `insert`.\n",
    "\n",
    "Since a keyed table is a dictionary, to use `insert` we should properly provide a dictionary entry comprising a key record and a value record."
   ]
  },
  {
   "cell_type": "code",
   "execution_count": 11,
   "metadata": {
    "ExecuteTime": {
     "end_time": "2020-11-25T00:43:26.773534000Z",
     "start_time": "2020-11-25T00:43:26.770Z"
    }
   },
   "outputs": [
    {
     "data": {
      "text/plain": [
       ",2\n"
      ]
     },
     "execution_count": 12,
     "metadata": {},
     "output_type": "execute_result"
    },
    {
     "data": {
      "text/plain": [
       ",3\n"
      ]
     },
     "execution_count": 12,
     "metadata": {},
     "output_type": "execute_result"
    },
    {
     "ename": "\u001b[0;31minsert\u001b[0m",
     "evalue": "\u001b[0;31minsert\u001b[0m",
     "output_type": "error",
     "traceback": [
      "\u001b[0;31mevaluation error:\n\u001b[0m",
      "\u001b[0;31minsert\u001b[0m",
      "\u001b[0;31m\u001b[0m",
      "\u001b[0;31m  [0]  `kt insert (1004;`Marvin;200)\n           ^\n\u001b[0m"
     ]
    }
   ],
   "source": [
    "kt:([eid:1001 1002] name:`Dent`Beeblebrox; iq:98 42)\n",
    "`kt insert (1005; `Marvin; 200)\n",
    "`kt insert (1004;`Slartibartfast;158)\n",
    "`kt insert (1004;`Marvin;200)"
   ]
  },
  {
   "cell_type": "markdown",
   "metadata": {},
   "source": [
    "**The records in the keyed table are stored in insert order rather than key order.**"
   ]
  },
  {
   "cell_type": "code",
   "execution_count": 12,
   "metadata": {
    "ExecuteTime": {
     "end_time": "2020-11-25T00:43:26.776437000Z",
     "start_time": "2020-11-25T00:43:26.773Z"
    }
   },
   "outputs": [
    {
     "data": {
      "text/plain": [
       "eid | name           iq \n",
       "----| ------------------\n",
       "1001| Dent           98 \n",
       "1002| Beeblebrox     42 \n",
       "1005| Marvin         200\n",
       "1004| Slartibartfast 158\n"
      ]
     },
     "execution_count": 12,
     "metadata": {},
     "output_type": "execute_result"
    }
   ],
   "source": [
    "kt"
   ]
  },
  {
   "cell_type": "markdown",
   "metadata": {},
   "source": [
    "## `Upsert`"
   ]
  },
  {
   "cell_type": "markdown",
   "metadata": {},
   "source": [
    "###  `Upsert` Replacing `Insert`"
   ]
  },
  {
   "cell_type": "code",
   "execution_count": 13,
   "metadata": {
    "ExecuteTime": {
     "end_time": "2020-11-25T00:43:26.779911000Z",
     "start_time": "2020-11-25T00:43:26.776Z"
    }
   },
   "outputs": [
    {
     "data": {
      "text/plain": [
       "`t\n"
      ]
     },
     "execution_count": 13,
     "metadata": {},
     "output_type": "execute_result"
    },
    {
     "data": {
      "text/plain": [
       "`t\n"
      ]
     },
     "execution_count": 13,
     "metadata": {},
     "output_type": "execute_result"
    },
    {
     "data": {
      "text/plain": [
       "`t\n"
      ]
     },
     "execution_count": 13,
     "metadata": {},
     "output_type": "execute_result"
    },
    {
     "data": {
      "text/plain": [
       "`t\n"
      ]
     },
     "execution_count": 13,
     "metadata": {},
     "output_type": "execute_result"
    }
   ],
   "source": [
    "t:([] name:`Dent`Beeblebrox`Prefect; iq:42 98 126)\n",
    "`t upsert (`name`iq)!(`Slartibartfast; 134)\n",
    "`t upsert (`Marvin; 150)\n",
    "`t upsert ([] name:`Slartibartfast`Marvin; iq:134 200)\n",
    "t:3#t\n",
    "upsert[`t;(`Slartibartfast; 134)]"
   ]
  },
  {
   "cell_type": "markdown",
   "metadata": {},
   "source": [
    "**Tip**\n",
    "\n",
    "To bulk upsert naked field values, use **rows** instead of columns."
   ]
  },
  {
   "cell_type": "code",
   "execution_count": 14,
   "metadata": {
    "ExecuteTime": {
     "end_time": "2020-11-25T00:43:26.782970000Z",
     "start_time": "2020-11-25T00:43:26.779Z"
    }
   },
   "outputs": [
    {
     "data": {
      "text/plain": [
       "name           iq \n",
       "------------------\n",
       "Dent           42 \n",
       "Beeblebrox     98 \n",
       "Prefect        126\n",
       "Slartibartfast 134\n",
       "Prefect        126\n",
       "Marvin         200\n"
      ]
     },
     "execution_count": 14,
     "metadata": {},
     "output_type": "execute_result"
    }
   ],
   "source": [
    "t upsert ((`Prefect; 126); (`Marvin; 200))"
   ]
  },
  {
   "cell_type": "markdown",
   "metadata": {},
   "source": [
    "### Upsert by Name"
   ]
  },
  {
   "cell_type": "markdown",
   "metadata": {},
   "source": [
    "A limitation of `insert` is that it uses **pass-by-name**, so it can only operate against global tables. In contrast, `upsert` supports both **pass-by-name and pass-by-value**. Thus it can be used with anonymous or local tables."
   ]
  },
  {
   "cell_type": "code",
   "execution_count": 15,
   "metadata": {
    "ExecuteTime": {
     "end_time": "2020-11-25T00:43:26.786544000Z",
     "start_time": "2020-11-25T00:43:26.783Z"
    }
   },
   "outputs": [
    {
     "data": {
      "text/plain": [
       "c1 c2\n",
       "-----\n",
       "a  10\n",
       "b  20\n",
       "c  30\n"
      ]
     },
     "execution_count": 15,
     "metadata": {},
     "output_type": "execute_result"
    },
    {
     "data": {
      "text/plain": [
       "c1 c2\n",
       "-----\n",
       "a  10\n",
       "b  20\n",
       "c  30\n"
      ]
     },
     "execution_count": 15,
     "metadata": {},
     "output_type": "execute_result"
    }
   ],
   "source": [
    "([] c1:`a`b; c2:10 20) upsert (`c; 30)\n",
    "f:{t:([] c1:`a`b; c2:10 20); t upsert x}\n",
    "f (`c; 30)"
   ]
  },
  {
   "cell_type": "markdown",
   "metadata": {},
   "source": [
    "### Upsert on Keyed Tables\n",
    "\n",
    "Update \"duplicated\" keys"
   ]
  },
  {
   "cell_type": "code",
   "execution_count": 16,
   "metadata": {
    "ExecuteTime": {
     "end_time": "2020-11-25T00:43:26.790299000Z",
     "start_time": "2020-11-25T00:43:26.787Z"
    }
   },
   "outputs": [
    {
     "data": {
      "text/plain": [
       "`kt\n"
      ]
     },
     "execution_count": 16,
     "metadata": {},
     "output_type": "execute_result"
    },
    {
     "data": {
      "text/plain": [
       "`kt\n"
      ]
     },
     "execution_count": 16,
     "metadata": {},
     "output_type": "execute_result"
    },
    {
     "data": {
      "text/plain": [
       "eid | name           iq \n",
       "----| ------------------\n",
       "1001| Beeblebrox     42 \n",
       "1002| Beeblebrox     42 \n",
       "1005| Marvin         200\n",
       "1004| Slartibartfast 158\n"
      ]
     },
     "execution_count": 16,
     "metadata": {},
     "output_type": "execute_result"
    }
   ],
   "source": [
    "`kt upsert (1001; `Beeblebrox; 42)\n",
    "`kt upsert (1001; `Beeblebrox; 42)\n",
    "kt"
   ]
  },
  {
   "cell_type": "markdown",
   "metadata": {},
   "source": [
    "### Upsert on Persisted Tables\n",
    "\n",
    "Upserting to a splayed table does **not** read the persisted image into memory; rather, it appends to the ends of the column files. This allows incremental creation of large splayed (or partitioned) tables by upserting chunks that comfortably fit into memory.\n",
    "\n",
    "**Upserting to a table in either form will destroy any attributes on table columns. You will have to reapply them.**"
   ]
  },
  {
   "cell_type": "markdown",
   "metadata": {},
   "source": [
    "## The `select` Template\n",
    "\n",
    "**The result of `select` is always a table.**"
   ]
  },
  {
   "cell_type": "markdown",
   "metadata": {},
   "source": [
    "### Syntax\n",
    "\n",
    "The `select` template has the following form, where elements enclosed in matching angle brackets `<...>` are optional.\n",
    "\n",
    "`select` $<p_s>$ <`by` $p_b$> `from` $t_{exp}$ <`where` $p_w$>\n",
    "\n",
    "The `select` and `from` keywords are required; omission or mistyping either results in an error. The table expression $t_{exp}$, which is any q expression whose value is a table or keyed table, is also required. The remaining elements $p_s$, $p_b$ and $p_w$ are optional. They are called the Select, the By and the Where phrases, respectively.\n",
    "\n",
    "**Tip**\n",
    "If `where` is present and $t_{exp}$ is itself a select expression, the inner expression should be enclosed in parentheses to avoid confusion in the binding of the Where phrase."
   ]
  },
  {
   "cell_type": "markdown",
   "metadata": {},
   "source": [
    "**Commas**\n",
    "\n",
    "**The commas separating the subphrases are separators**, so it is not necessary to enclose a subphrase in parentheses unless the expression contains the Join operator `,`. Any expression containing the operator , within any template phrase must be **enclosed in parentheses or it will be interpreted as the separator**. Forgetting this is both easy and painful."
   ]
  },
  {
   "cell_type": "markdown",
   "metadata": {},
   "source": [
    "The order of evaluation of the `select` template is:\n",
    "1. From expression $t_{exp}$\n",
    "2. Where phrase $p_w$\n",
    "3. By phrase $p_b$\n",
    "4. Select phrase $p_s$"
   ]
  },
  {
   "cell_type": "markdown",
   "metadata": {},
   "source": [
    "### The Select Phrase"
   ]
  },
  {
   "cell_type": "code",
   "execution_count": 17,
   "metadata": {
    "ExecuteTime": {
     "end_time": "2020-11-25T00:43:26.794631000Z",
     "start_time": "2020-11-25T00:43:26.792Z"
    }
   },
   "outputs": [
    {
     "data": {
      "text/plain": [
       "1b\n"
      ]
     },
     "execution_count": 17,
     "metadata": {},
     "output_type": "execute_result"
    }
   ],
   "source": [
    "t:([] c1:`a`b`c; c2:10 20 30; c3:1.1 2.2 3.3)\n",
    "t ~ select from t"
   ]
  },
  {
   "cell_type": "code",
   "execution_count": 18,
   "metadata": {
    "ExecuteTime": {
     "end_time": "2020-11-25T00:43:26.797530000Z",
     "start_time": "2020-11-25T00:43:26.795Z"
    }
   },
   "outputs": [
    {
     "data": {
      "text/plain": [
       "c1 c3 \n",
       "------\n",
       "a  1.1\n",
       "b  2.2\n",
       "c  3.3\n"
      ]
     },
     "execution_count": 18,
     "metadata": {},
     "output_type": "execute_result"
    }
   ],
   "source": [
    "select c1, c3 from t"
   ]
  },
  {
   "cell_type": "markdown",
   "metadata": {},
   "source": [
    "#### Result Column Names\n",
    "\n",
    "- The colon used to specify a name is **not** assignment; it is simply part of the syntax of the template.\n",
    "- Just as with the use of colon in a variable assignment, the column name is part of the syntactic sugar. It is not a symbol and **cannot** be parameterized. Use functional form if you need this – see §9.12.\n",
    "- Unlike in SQL, columns in the Select phrase do not actually exist until the final result table is returned. Thus a computed column **cannot** be used in other column expressions.\n",
    "\n",
    "If you do not provide a name for a computed column, q determines one.\n",
    "\n",
    "- Normally the name is taken from the left-most term in the column expression.\n",
    "- When q cannot determine a name it uses x.\n",
    "- If q’s chosen name duplicates a previously determined column name, **it will suffix it with 1, 2**, etc. to make it unique. Recall that columns are sequenced from left to right."
   ]
  },
  {
   "cell_type": "code",
   "execution_count": 19,
   "metadata": {
    "ExecuteTime": {
     "end_time": "2020-11-25T00:43:26.800847000Z",
     "start_time": "2020-11-25T00:43:26.799Z"
    }
   },
   "outputs": [
    {
     "data": {
      "text/plain": [
       "c1 res\n",
       "------\n",
       "a  20 \n",
       "b  40 \n",
       "c  60 \n"
      ]
     },
     "execution_count": 19,
     "metadata": {},
     "output_type": "execute_result"
    }
   ],
   "source": [
    "select c1, res:2*c2 from t"
   ]
  },
  {
   "cell_type": "code",
   "execution_count": 20,
   "metadata": {
    "ExecuteTime": {
     "end_time": "2020-11-25T00:43:26.803960000Z",
     "start_time": "2020-11-25T00:43:26.801Z"
    }
   },
   "outputs": [
    {
     "data": {
      "text/plain": [
       "c1 c11 x  c2   c3   \n",
       "--------------------\n",
       "a  a   20 11.1 \"1.1\"\n",
       "b  b   40 22.2 \"2.2\"\n",
       "c  c   60 33.3 \"3.3\"\n"
      ]
     },
     "execution_count": 20,
     "metadata": {},
     "output_type": "execute_result"
    }
   ],
   "source": [
    "select c1, c1, 2*c2, c2+c3, string c3 from t"
   ]
  },
  {
   "cell_type": "markdown",
   "metadata": {},
   "source": [
    "#### The Virtual Column `i`"
   ]
  },
  {
   "cell_type": "markdown",
   "metadata": {},
   "source": [
    "A virtual column `i` represents the offset of each record in the table – i.e., `i` is the row number. It is implicitly available in the Select phrase."
   ]
  },
  {
   "cell_type": "code",
   "execution_count": 21,
   "metadata": {
    "ExecuteTime": {
     "end_time": "2020-11-25T00:43:26.807427000Z",
     "start_time": "2020-11-25T00:43:26.805Z"
    }
   },
   "outputs": [
    {
     "data": {
      "text/plain": [
       "x c1\n",
       "----\n",
       "0 a \n",
       "1 b \n",
       "2 c \n"
      ]
     },
     "execution_count": 21,
     "metadata": {},
     "output_type": "execute_result"
    }
   ],
   "source": [
    "select i, c1 from t"
   ]
  },
  {
   "cell_type": "markdown",
   "metadata": {},
   "source": [
    "**Tip**\n",
    "\n",
    "You can name the result column `ix` to avoid confusion with the always-present virtual column `i`"
   ]
  },
  {
   "cell_type": "code",
   "execution_count": 22,
   "metadata": {
    "ExecuteTime": {
     "end_time": "2020-11-25T00:43:26.812040000Z",
     "start_time": "2020-11-25T00:43:26.810Z"
    }
   },
   "outputs": [
    {
     "data": {
      "text/plain": [
       "ix c1\n",
       "-----\n",
       "0  a \n",
       "1  b \n",
       "2  c \n"
      ]
     },
     "execution_count": 22,
     "metadata": {},
     "output_type": "execute_result"
    }
   ],
   "source": [
    "select ix:i, c1 from t"
   ]
  },
  {
   "cell_type": "markdown",
   "metadata": {},
   "source": [
    "#### `select` `distinct`"
   ]
  },
  {
   "cell_type": "code",
   "execution_count": 23,
   "metadata": {
    "ExecuteTime": {
     "end_time": "2020-11-25T00:43:26.815908000Z",
     "start_time": "2020-11-25T00:43:26.813Z"
    }
   },
   "outputs": [
    {
     "data": {
      "text/plain": [
       "c1 c2\n",
       "-----\n",
       "a  10\n",
       "b  20\n"
      ]
     },
     "execution_count": 23,
     "metadata": {},
     "output_type": "execute_result"
    }
   ],
   "source": [
    "select distinct from ([] c1:`a`b`a; c2:10 20 10)"
   ]
  },
  {
   "cell_type": "markdown",
   "metadata": {},
   "source": [
    "#### `select []` "
   ]
  },
  {
   "cell_type": "markdown",
   "metadata": {},
   "source": [
    "You can return the first or last n records in a select by using function parameter syntax after `select`. A positive integer parameter returns the first records, a negative parameter the last."
   ]
  },
  {
   "cell_type": "code",
   "execution_count": 24,
   "metadata": {
    "ExecuteTime": {
     "end_time": "2020-11-25T00:43:26.820998000Z",
     "start_time": "2020-11-25T00:43:26.816Z"
    }
   },
   "outputs": [
    {
     "data": {
      "text/plain": [
       "s | name  status city  \n",
       "--| -------------------\n",
       "s1| smith 20     london\n",
       "s2| jones 10     paris \n"
      ]
     },
     "execution_count": 24,
     "metadata": {},
     "output_type": "execute_result"
    },
    {
     "data": {
      "text/plain": [
       "s | name  status city  \n",
       "--| -------------------\n",
       "s4| clark 20     london\n"
      ]
     },
     "execution_count": 24,
     "metadata": {},
     "output_type": "execute_result"
    }
   ],
   "source": [
    "select[2] from s where city<>`athens\n",
    "select[-1] from s where city<>`athens"
   ]
  },
  {
   "cell_type": "markdown",
   "metadata": {},
   "source": [
    "This syntax is extended to `select[n m]` where `n` is the starting row number and `m` is the number of rows."
   ]
  },
  {
   "cell_type": "code",
   "execution_count": 25,
   "metadata": {
    "ExecuteTime": {
     "end_time": "2020-11-25T00:43:26.825044000Z",
     "start_time": "2020-11-25T00:43:26.820Z"
    }
   },
   "outputs": [
    {
     "data": {
      "text/plain": [
       "s | name  status city \n",
       "--| ------------------\n",
       "s2| jones 10     paris\n",
       "s3| blake 30     paris\n"
      ]
     },
     "execution_count": 25,
     "metadata": {},
     "output_type": "execute_result"
    }
   ],
   "source": [
    "select[1 2] from s where city<>`athens"
   ]
  },
  {
   "cell_type": "markdown",
   "metadata": {},
   "source": [
    "One final extension of the syntax specifies a sorting criterion inside the brackets. For ascending sort, place `<` before a column name and for descending sort use `>`"
   ]
  },
  {
   "cell_type": "code",
   "execution_count": 26,
   "metadata": {
    "ExecuteTime": {
     "end_time": "2020-11-25T00:43:26.827596000Z",
     "start_time": "2020-11-25T00:43:26.824Z"
    }
   },
   "outputs": [
    {
     "data": {
      "text/plain": [
       "s | name  status city  \n",
       "--| -------------------\n",
       "s1| smith 20     london\n",
       "s2| jones 10     paris \n",
       "s4| clark 20     london\n",
       "s3| blake 30     paris \n"
      ]
     },
     "execution_count": 26,
     "metadata": {},
     "output_type": "execute_result"
    },
    {
     "data": {
      "text/plain": [
       "s | name  status city  \n",
       "--| -------------------\n",
       "s1| smith 20     london\n",
       "s4| clark 20     london\n",
       "s2| jones 10     paris \n",
       "s3| blake 30     paris \n"
      ]
     },
     "execution_count": 26,
     "metadata": {},
     "output_type": "execute_result"
    }
   ],
   "source": [
    "select[>name] from s where city<>`athens\n",
    "select[<city] from s where city<>`athens"
   ]
  },
  {
   "cell_type": "markdown",
   "metadata": {},
   "source": [
    "You can combine the two syntax extensions by separating them with a semicolon.\n",
    "\n",
    "**The items inside the brackets must be in this order.**"
   ]
  },
  {
   "cell_type": "code",
   "execution_count": 27,
   "metadata": {
    "ExecuteTime": {
     "end_time": "2020-11-25T00:43:26.833521000Z",
     "start_time": "2020-11-25T00:43:26.827Z"
    }
   },
   "outputs": [
    {
     "data": {
      "text/plain": [
       "s | name  status city  \n",
       "--| -------------------\n",
       "s1| smith 20     london\n",
       "s2| jones 10     paris \n"
      ]
     },
     "execution_count": 27,
     "metadata": {},
     "output_type": "execute_result"
    }
   ],
   "source": [
    "select[2; >name] from s where city<>`athens"
   ]
  },
  {
   "cell_type": "markdown",
   "metadata": {},
   "source": [
    "#### Select on Nested Columns"
   ]
  },
  {
   "cell_type": "code",
   "execution_count": 28,
   "metadata": {
    "ExecuteTime": {
     "end_time": "2020-11-25T00:43:26.834037000Z",
     "start_time": "2020-11-25T00:43:26.830Z"
    }
   },
   "outputs": [
    {
     "name": "stdout",
     "output_type": "stream",
     "text": [
      "c1 c2      \n",
      "-----------\n",
      "a  10 20 30\n",
      "b  ,40     \n",
      "c  50 60   \n"
     ]
    }
   ],
   "source": [
    "show tnest:([] c1:`a`b`c; c2:(10 20 30; enlist 40; 50 60))"
   ]
  },
  {
   "cell_type": "markdown",
   "metadata": {},
   "source": [
    "We **cannot** apply an aggregate or uniform operation straight to c2 since the fields do not conform."
   ]
  },
  {
   "cell_type": "code",
   "execution_count": 28,
   "metadata": {
    "ExecuteTime": {
     "end_time": "2020-11-25T00:43:26.837666000Z",
     "start_time": "2020-11-25T00:43:26.834Z"
    }
   },
   "outputs": [
    {
     "ename": "\u001b[0;31mlength\u001b[0m",
     "evalue": "\u001b[0;31mlength\u001b[0m",
     "output_type": "error",
     "traceback": [
      "\u001b[0;31mevaluation error:\n\u001b[0m",
      "\u001b[0;31mlength\u001b[0m",
      "\u001b[0;31m\u001b[0m",
      "\u001b[0;31m  [0]  select avg c2 from tnest\n              ^\n\u001b[0m"
     ]
    }
   ],
   "source": [
    "select avg c2 from tnest"
   ]
  },
  {
   "cell_type": "markdown",
   "metadata": {},
   "source": [
    "We **can** apply an **aggregate or uniform function** to each field of c2 in tnest."
   ]
  },
  {
   "cell_type": "code",
   "execution_count": 29,
   "metadata": {
    "ExecuteTime": {
     "end_time": "2020-11-25T00:43:26.840728000Z",
     "start_time": "2020-11-25T00:43:26.838Z"
    }
   },
   "outputs": [
    {
     "data": {
      "text/plain": [
       "c2\n",
       "--\n",
       "20\n",
       "40\n",
       "55\n"
      ]
     },
     "execution_count": 29,
     "metadata": {},
     "output_type": "execute_result"
    }
   ],
   "source": [
    "select avg each c2 from tnest"
   ]
  },
  {
   "cell_type": "markdown",
   "metadata": {},
   "source": [
    "Similarly we can use Each to compute a weighted average using two columns."
   ]
  },
  {
   "cell_type": "code",
   "execution_count": 30,
   "metadata": {
    "ExecuteTime": {
     "end_time": "2020-11-25T00:43:26.843755000Z",
     "start_time": "2020-11-25T00:43:26.841Z"
    }
   },
   "outputs": [
    {
     "data": {
      "text/plain": [
       "`tnest\n"
      ]
     },
     "execution_count": 30,
     "metadata": {},
     "output_type": "execute_result"
    },
    {
     "data": {
      "text/plain": [
       "c1 c2       c3         \n",
       "-----------------------\n",
       "a  10 20 30 1.1 2.2 3.3\n",
       "b  ,40      ,4.4       \n",
       "c  50 60    5.5 6.6    \n"
      ]
     },
     "execution_count": 30,
     "metadata": {},
     "output_type": "execute_result"
    }
   ],
   "source": [
    "update c3:(1.1 2.2 3.3; enlist 4.4; 5.5 6.6) from `tnest\n",
    "tnest"
   ]
  },
  {
   "cell_type": "code",
   "execution_count": 31,
   "metadata": {
    "ExecuteTime": {
     "end_time": "2020-11-25T00:43:26.846306000Z",
     "start_time": "2020-11-25T00:43:26.843Z"
    }
   },
   "outputs": [
    {
     "data": {
      "text/plain": [
       "wtavg   \n",
       "--------\n",
       "2.566667\n",
       "4.4     \n",
       "6.1     \n"
      ]
     },
     "execution_count": 31,
     "metadata": {},
     "output_type": "execute_result"
    }
   ],
   "source": [
    "select wtavg:c2 wavg' c3 from tnest"
   ]
  },
  {
   "cell_type": "markdown",
   "metadata": {},
   "source": [
    "###  Filtering with `where`"
   ]
  },
  {
   "cell_type": "markdown",
   "metadata": {},
   "source": [
    "#### Basic where"
   ]
  },
  {
   "cell_type": "code",
   "execution_count": 32,
   "metadata": {
    "ExecuteTime": {
     "end_time": "2020-11-25T00:43:26.849306000Z",
     "start_time": "2020-11-25T00:43:26.846Z"
    }
   },
   "outputs": [
    {
     "data": {
      "text/plain": [
       "c1 c2 c3 \n",
       "---------\n",
       "b  20 2.2\n",
       "c  30 3.3\n"
      ]
     },
     "execution_count": 32,
     "metadata": {},
     "output_type": "execute_result"
    },
    {
     "data": {
      "text/plain": [
       "c1 c2 c3 \n",
       "---------\n",
       "b  20 2.2\n",
       "c  30 3.3\n"
      ]
     },
     "execution_count": 32,
     "metadata": {},
     "output_type": "execute_result"
    }
   ],
   "source": [
    "t:([] c1:`a`b`c; c2:10 20 30; c3:1.1 2.2 3.3)\n",
    "t where t[`c2]>15\n",
    "select from t where c2>15"
   ]
  },
  {
   "cell_type": "code",
   "execution_count": 33,
   "metadata": {
    "ExecuteTime": {
     "end_time": "2020-11-25T00:43:26.851070000Z",
     "start_time": "2020-11-25T00:43:26.848Z"
    }
   },
   "outputs": [
    {
     "data": {
      "text/plain": [
       "c1 c2 c3 \n",
       "---------\n",
       "b  20 2.2\n",
       "c  30 3.3\n"
      ]
     },
     "execution_count": 33,
     "metadata": {},
     "output_type": "execute_result"
    }
   ],
   "source": [
    "select from t where 011b"
   ]
  },
  {
   "cell_type": "markdown",
   "metadata": {},
   "source": [
    "#### The Virtual Column `i` in `where`"
   ]
  },
  {
   "cell_type": "code",
   "execution_count": 34,
   "metadata": {
    "ExecuteTime": {
     "end_time": "2020-11-25T00:43:26.854095000Z",
     "start_time": "2020-11-25T00:43:26.851Z"
    }
   },
   "outputs": [
    {
     "data": {
      "text/plain": [
       "c1 c2 c3 \n",
       "---------\n",
       "c  30 3.3\n",
       "a  10 1.1\n",
       "b  20 2.2\n",
       "c  30 3.3\n",
       "a  10 1.1\n",
       "b  20 2.2\n",
       "c  30 3.3\n",
       "a  10 1.1\n",
       "b  20 2.2\n",
       "c  30 3.3\n",
       "a  10 1.1\n",
       "b  20 2.2\n",
       "c  30 3.3\n",
       "a  10 1.1\n",
       "b  20 2.2\n",
       "c  30 3.3\n",
       "a  10 1.1\n",
       "b  20 2.2\n",
       "c  30 3.3\n",
       "a  10 1.1\n",
       "..\n"
      ]
     },
     "execution_count": 34,
     "metadata": {},
     "output_type": "execute_result"
    }
   ],
   "source": [
    "tbig:100#t\n",
    "select from tbig where i within 50 99"
   ]
  },
  {
   "cell_type": "markdown",
   "metadata": {},
   "source": [
    "To use this construct with non-literal values as the endpoints, you **must** use general-list notation, since simple-list notation cannot be used with variables."
   ]
  },
  {
   "cell_type": "code",
   "execution_count": 35,
   "metadata": {
    "ExecuteTime": {
     "end_time": "2020-11-25T00:43:26.856776000Z",
     "start_time": "2020-11-25T00:43:26.854Z"
    }
   },
   "outputs": [
    {
     "data": {
      "text/plain": [
       "c1 c2 c3 \n",
       "---------\n",
       "c  30 3.3\n",
       "a  10 1.1\n",
       "b  20 2.2\n",
       "c  30 3.3\n",
       "a  10 1.1\n",
       "b  20 2.2\n",
       "c  30 3.3\n",
       "a  10 1.1\n",
       "b  20 2.2\n",
       "c  30 3.3\n",
       "a  10 1.1\n",
       "b  20 2.2\n",
       "c  30 3.3\n",
       "a  10 1.1\n",
       "b  20 2.2\n",
       "c  30 3.3\n",
       "a  10 1.1\n",
       "b  20 2.2\n",
       "c  30 3.3\n",
       "a  10 1.1\n",
       "..\n"
      ]
     },
     "execution_count": 35,
     "metadata": {},
     "output_type": "execute_result"
    }
   ],
   "source": [
    "s:50\n",
    "e:99\n",
    "select from tbig where i within (s;e)"
   ]
  },
  {
   "cell_type": "markdown",
   "metadata": {},
   "source": [
    "#### Multiple Where Subphrases\n",
    "\n",
    "**Place the most limiting where subphrase first, followed by others in decreasing strictness.**"
   ]
  },
  {
   "cell_type": "code",
   "execution_count": 36,
   "metadata": {
    "ExecuteTime": {
     "end_time": "2020-11-25T00:43:26.877377000Z",
     "start_time": "2020-11-25T00:43:26.858Z"
    }
   },
   "outputs": [
    {
     "data": {
      "text/plain": [
       "0\n"
      ]
     },
     "execution_count": 36,
     "metadata": {},
     "output_type": "execute_result"
    }
   ],
   "source": [
    "t:([] c1:00:00:00.000+til 1000000;c2:1000000?`a`b;c3:1000000?100.)\n",
    "\\t select from t where c1 within 00:00:01.000 00:00:01.999, c2=`a"
   ]
  },
  {
   "cell_type": "code",
   "execution_count": 37,
   "metadata": {
    "ExecuteTime": {
     "end_time": "2020-11-25T00:43:26.880478000Z",
     "start_time": "2020-11-25T00:43:26.860Z"
    }
   },
   "outputs": [
    {
     "data": {
      "text/plain": [
       "2\n"
      ]
     },
     "execution_count": 37,
     "metadata": {},
     "output_type": "execute_result"
    }
   ],
   "source": [
    "\\t select from t where c2=`a, c1 within 00:00:01.000 00:00:01.999"
   ]
  },
  {
   "cell_type": "markdown",
   "metadata": {},
   "source": [
    "#### Nested Columns in Where\n",
    "\n",
    "\n",
    "Nested columns generally require iterators, and the Where phrase is no different. A common mistake made by qbies is, when trying to find a specific string in a column of strings, they forget that strings are not first-class in q."
   ]
  },
  {
   "cell_type": "code",
   "execution_count": 37,
   "metadata": {
    "ExecuteTime": {
     "end_time": "2020-11-25T00:43:26.882022000Z",
     "start_time": "2020-11-25T00:43:26.862Z"
    }
   },
   "outputs": [
    {
     "ename": "\u001b[0;31mlength\u001b[0m",
     "evalue": "\u001b[0;31mlength\u001b[0m",
     "output_type": "error",
     "traceback": [
      "\u001b[0;31mevaluation error:\n\u001b[0m",
      "\u001b[0;31mlength\u001b[0m",
      "\u001b[0;31m\u001b[0m",
      "\u001b[0;31m  [0]  select from t where s=\"ef\" /atomic equality between a simple list and a nested list\n                             ^\n\u001b[0m"
     ]
    }
   ],
   "source": [
    "t:([] f:1.1 2.2 3.3; s:(\"abc\";enlist \"d\";\"ef\"))\n",
    "select from t where s=\"ef\" /atomic equality between a simple list and a nested list"
   ]
  },
  {
   "cell_type": "code",
   "execution_count": 38,
   "metadata": {
    "ExecuteTime": {
     "end_time": "2020-11-25T00:43:26.882826000Z",
     "start_time": "2020-11-25T00:43:26.865Z"
    }
   },
   "outputs": [
    {
     "data": {
      "text/plain": [
       "f s\n",
       "---\n"
      ]
     },
     "execution_count": 38,
     "metadata": {},
     "output_type": "execute_result"
    }
   ],
   "source": [
    "select from t where s~\"ef\" /if the entire column matches the specified string"
   ]
  },
  {
   "cell_type": "code",
   "execution_count": 39,
   "metadata": {
    "ExecuteTime": {
     "end_time": "2020-11-25T00:43:26.883605000Z",
     "start_time": "2020-11-25T00:43:26.868Z"
    }
   },
   "outputs": [
    {
     "data": {
      "text/plain": [
       "f   s   \n",
       "--------\n",
       "3.3 \"ef\"\n"
      ]
     },
     "execution_count": 39,
     "metadata": {},
     "output_type": "execute_result"
    }
   ],
   "source": [
    "select from t where s~\\:\"ef\" /tests the specified string for match against each string in the column."
   ]
  },
  {
   "cell_type": "markdown",
   "metadata": {},
   "source": [
    "For matching strings, the `like` operator is **more efficient.**"
   ]
  },
  {
   "cell_type": "code",
   "execution_count": 40,
   "metadata": {
    "ExecuteTime": {
     "end_time": "2020-11-25T00:43:26.884356000Z",
     "start_time": "2020-11-25T00:43:26.871Z"
    }
   },
   "outputs": [
    {
     "data": {
      "text/plain": [
       "f   s   \n",
       "--------\n",
       "3.3 \"ef\"\n"
      ]
     },
     "execution_count": 40,
     "metadata": {},
     "output_type": "execute_result"
    }
   ],
   "source": [
    "select from t where s like \"ef\""
   ]
  },
  {
   "cell_type": "markdown",
   "metadata": {},
   "source": [
    "#### `fby` i Where\n",
    "\n",
    "form $(f_{agg}; expr_{col})$ `fby` c\n",
    "\n",
    "The left operand is a two-item list comprising an aggregate function $f_{agg}$ and a column expression $expr_{col}$ on which the function will be applied. The right operand c is the column to be grouped."
   ]
  },
  {
   "cell_type": "code",
   "execution_count": 41,
   "metadata": {
    "ExecuteTime": {
     "end_time": "2020-11-25T00:43:26.885141000Z",
     "start_time": "2020-11-25T00:43:26.875Z"
    }
   },
   "outputs": [
    {
     "data": {
      "text/plain": [
       "city  | weight\n",
       "------| ------\n",
       "london| 19    \n",
       "paris | 17    \n",
       "rome  | 17    \n"
      ]
     },
     "execution_count": 41,
     "metadata": {},
     "output_type": "execute_result"
    }
   ],
   "source": [
    "select max weight by city from p"
   ]
  },
  {
   "cell_type": "code",
   "execution_count": 42,
   "metadata": {
    "ExecuteTime": {
     "end_time": "2020-11-25T00:43:26.886608000Z",
     "start_time": "2020-11-25T00:43:26.877Z"
    }
   },
   "outputs": [
    {
     "data": {
      "text/plain": [
       "p | name  color weight city  \n",
       "--| -------------------------\n",
       "p2| bolt  green 17     paris \n",
       "p3| screw blue  17     rome  \n",
       "p6| cog   red   19     london\n"
      ]
     },
     "execution_count": 42,
     "metadata": {},
     "output_type": "execute_result"
    }
   ],
   "source": [
    "select from p where weight=(max;weight) fby city"
   ]
  },
  {
   "cell_type": "code",
   "execution_count": 43,
   "metadata": {
    "ExecuteTime": {
     "end_time": "2020-11-25T00:43:26.887387000Z",
     "start_time": "2020-11-25T00:43:26.880Z"
    }
   },
   "outputs": [
    {
     "data": {
      "text/plain": [
       "p | name  color weight city\n",
       "--| -----------------------\n",
       "p3| screw blue  17     rome\n"
      ]
     },
     "execution_count": 43,
     "metadata": {},
     "output_type": "execute_result"
    }
   ],
   "source": [
    "select from p where weight=(max;weight) fby city,color=`blue"
   ]
  },
  {
   "cell_type": "markdown",
   "metadata": {},
   "source": [
    "To group on multiple columns, **encapsulate them in an anonymous table** in the right operand of `fby`."
   ]
  },
  {
   "cell_type": "code",
   "execution_count": 44,
   "metadata": {
    "ExecuteTime": {
     "end_time": "2020-11-25T00:43:26.888099000Z",
     "start_time": "2020-11-25T00:43:26.883Z"
    }
   },
   "outputs": [
    {
     "data": {
      "text/plain": [
       "sym  ex time     price\n",
       "----------------------\n",
       "IBM  N  12:10:00 82.1 \n",
       "IBM  O  12:30:00 81.95\n",
       "MSFT N  12:45:00 23.45\n"
      ]
     },
     "execution_count": 44,
     "metadata": {},
     "output_type": "execute_result"
    }
   ],
   "source": [
    "t:([]sym:`IBM`IBM`MSFT`IBM`MSFT;\n",
    "    ex:`N`O`N`N`N;\n",
    "    time:12:10:00 12:30:00 12:45:00 12:50:00 13:30:00;\n",
    "    price:82.1 81.95 23.45 82.05 23.40)\n",
    "select from t where price=(max;price) fby ([]sym;ex)"
   ]
  },
  {
   "cell_type": "markdown",
   "metadata": {},
   "source": [
    "### Grouping and Aggregation\n",
    "\n",
    "In contrast to SQL, where grouping and aggregation are performed together, in q-sql they are independent. "
   ]
  },
  {
   "cell_type": "markdown",
   "metadata": {},
   "source": [
    "#### Aggregation without Grouping"
   ]
  },
  {
   "cell_type": "code",
   "execution_count": 45,
   "metadata": {
    "ExecuteTime": {
     "end_time": "2020-11-25T00:43:26.892349000Z",
     "start_time": "2020-11-25T00:43:26.889Z"
    }
   },
   "outputs": [
    {
     "data": {
      "text/plain": [
       "total mean    \n",
       "--------------\n",
       "3100  258.3333\n"
      ]
     },
     "execution_count": 45,
     "metadata": {},
     "output_type": "execute_result"
    }
   ],
   "source": [
    "select total:sum qty, mean:avg qty from sp"
   ]
  },
  {
   "cell_type": "markdown",
   "metadata": {},
   "source": [
    "#### Grouping without Aggregation\n",
    "\n",
    "Grouping without aggregation is the most common way qbies unintentionally create nested columns. Nested columns are slower, more cumbersome to use (they require a heavy dose of iterators) and are usually unnecessary. And you can’t just cast a nested column to a simple one; you must apply an aggregate or some other operation that flattens a list."
   ]
  },
  {
   "cell_type": "code",
   "execution_count": 46,
   "metadata": {
    "ExecuteTime": {
     "end_time": "2020-11-25T00:43:26.895278000Z",
     "start_time": "2020-11-25T00:43:26.892Z"
    }
   },
   "outputs": [
    {
     "data": {
      "text/plain": [
       "a| 10 30\n",
       "b| 20 40\n",
       "c| ,50\n"
      ]
     },
     "execution_count": 46,
     "metadata": {},
     "output_type": "execute_result"
    },
    {
     "data": {
      "text/plain": [
       "c1| c2   \n",
       "--| -----\n",
       "a | 10 30\n",
       "b | 20 40\n",
       "c | ,50  \n"
      ]
     },
     "execution_count": 46,
     "metadata": {},
     "output_type": "execute_result"
    }
   ],
   "source": [
    "t:([] c1:`a`b`a`b`c; c2:10 20 30 40 50)\n",
    "t[`c2] group t[`c1]\n",
    "select c2 by c1 from t"
   ]
  },
  {
   "cell_type": "markdown",
   "metadata": {},
   "source": [
    "Observe that `ungroup` can be used to reverse the nested result of grouping without aggregation. It is not quite an inverse since it returns the original records ordered on the by column(s)."
   ]
  },
  {
   "cell_type": "code",
   "execution_count": 47,
   "metadata": {
    "ExecuteTime": {
     "end_time": "2020-11-25T00:43:26.897761000Z",
     "start_time": "2020-11-25T00:43:26.894Z"
    }
   },
   "outputs": [
    {
     "data": {
      "text/plain": [
       "c1 c2\n",
       "-----\n",
       "a  10\n",
       "a  30\n",
       "b  20\n",
       "b  40\n",
       "c  50\n"
      ]
     },
     "execution_count": 47,
     "metadata": {},
     "output_type": "execute_result"
    }
   ],
   "source": [
    "ungroup select c2 by c1 from t"
   ]
  },
  {
   "cell_type": "code",
   "execution_count": 48,
   "metadata": {
    "ExecuteTime": {
     "end_time": "2020-11-25T00:43:26.899650000Z",
     "start_time": "2020-11-25T00:43:26.897Z"
    }
   },
   "outputs": [
    {
     "data": {
      "text/plain": [
       "p | s          qty            \n",
       "--| --------------------------\n",
       "p1| `s!0 1     300 300        \n",
       "p2| `s!0 1 2 3 200 400 200 200\n",
       "p3| `s!,0      ,400           \n",
       "p4| `s!0 3     200 300        \n",
       "p5| `s!3 3     100 400        \n",
       "p6| `s!,0      ,100           \n"
      ]
     },
     "execution_count": 48,
     "metadata": {},
     "output_type": "execute_result"
    }
   ],
   "source": [
    "`p xgroup sp"
   ]
  },
  {
   "cell_type": "code",
   "execution_count": 49,
   "metadata": {
    "ExecuteTime": {
     "end_time": "2020-11-25T00:43:26.902572000Z",
     "start_time": "2020-11-25T00:43:26.900Z"
    }
   },
   "outputs": [
    {
     "data": {
      "text/plain": [
       "p  s qty\n",
       "--------\n",
       "p1 0 300\n",
       "p1 1 300\n",
       "p2 0 200\n",
       "p2 1 400\n",
       "p2 2 200\n",
       "p2 3 200\n",
       "p3 0 400\n",
       "p4 0 200\n",
       "p4 3 300\n",
       "p5 3 100\n",
       "p5 3 400\n",
       "p6 0 100\n"
      ]
     },
     "execution_count": 49,
     "metadata": {},
     "output_type": "execute_result"
    }
   ],
   "source": [
    "ungroup `p xgroup sp"
   ]
  },
  {
   "cell_type": "markdown",
   "metadata": {},
   "source": [
    "#### Grouping with Aggregation"
   ]
  },
  {
   "cell_type": "code",
   "execution_count": 50,
   "metadata": {
    "ExecuteTime": {
     "end_time": "2020-11-25T00:43:26.906233000Z",
     "start_time": "2020-11-25T00:43:26.904Z"
    }
   },
   "outputs": [
    {
     "data": {
      "text/plain": [
       "c1| c2\n",
       "--| --\n",
       "a | 40\n",
       "b | 60\n",
       "c | 50\n"
      ]
     },
     "execution_count": 50,
     "metadata": {},
     "output_type": "execute_result"
    },
    {
     "data": {
      "text/plain": [
       "desk acct| ct pnl \n",
       "---------| -------\n",
       "a    1   | 2  6.6 \n",
       "a    3   | 1  3.3 \n",
       "b    2   | 1  -2.2\n",
       "b    4   | 2  3.9 \n"
      ]
     },
     "execution_count": 50,
     "metadata": {},
     "output_type": "execute_result"
    }
   ],
   "source": [
    "select sum c2 by c1 from t\n",
    "t:([] desk:`a`b`a`b`a`b; acct:`1`2`3`4`1`4; pnl:1.1 -2.2 3.3 4.4 5.5 -.5)\n",
    "select ct:count desk, sum pnl by desk,acct from t"
   ]
  },
  {
   "cell_type": "code",
   "execution_count": 51,
   "metadata": {
    "ExecuteTime": {
     "end_time": "2020-11-25T00:43:26.947571000Z",
     "start_time": "2020-11-25T00:43:26.906Z"
    }
   },
   "outputs": [
    {
     "data": {
      "text/plain": [
       "c1           c2| c3      \n",
       "---------------| --------\n",
       "00:00:00.000 a | 49.44874\n",
       "00:00:00.000 b | 54.21254\n",
       "00:00:00.100 a | 45.59306\n",
       "00:00:00.100 b | 40.59436\n",
       "00:00:00.200 a | 45.99148\n",
       "00:00:00.200 b | 46.22362\n",
       "00:00:00.300 a | 50.10055\n",
       "00:00:00.300 b | 47.5136 \n",
       "00:00:00.400 a | 53.94542\n",
       "00:00:00.400 b | 50.41118\n",
       "00:00:00.500 a | 54.22142\n",
       "00:00:00.500 b | 46.36771\n",
       "00:00:00.600 a | 54.71282\n",
       "00:00:00.600 b | 51.86255\n",
       "00:00:00.700 a | 49.46785\n",
       "00:00:00.700 b | 47.42026\n",
       "00:00:00.800 a | 51.66804\n",
       "00:00:00.800 b | 50.77955\n",
       "00:00:00.900 a | 45.44763\n",
       "00:00:00.900 b | 61.34752\n",
       "..\n"
      ]
     },
     "execution_count": 51,
     "metadata": {},
     "output_type": "execute_result"
    }
   ],
   "source": [
    "t:([] c1:00:00:00.000+til 1000000;c2:1000000?`a`b;c3:1000000?100.)\n",
    "select avg c3 by 100 xbar c1, c2 from t"
   ]
  },
  {
   "cell_type": "markdown",
   "metadata": {},
   "source": [
    "**Tip**: In an unexpected special case of implicit grouping with aggregation, specifying a By phrase together with empty Select phrase is equivalent to applying last to all columns."
   ]
  },
  {
   "cell_type": "code",
   "execution_count": 52,
   "metadata": {
    "ExecuteTime": {
     "end_time": "2020-11-25T00:43:26.948602000Z",
     "start_time": "2020-11-25T00:43:26.909Z"
    }
   },
   "outputs": [
    {
     "data": {
      "text/plain": [
       "desk| acct pnl \n",
       "----| ---------\n",
       "a   | 1    5.5 \n",
       "b   | 4    -0.5\n"
      ]
     },
     "execution_count": 52,
     "metadata": {},
     "output_type": "execute_result"
    }
   ],
   "source": [
    "t:([] desk:`a`b`a`b`a`b; acct:`1`2`3`4`1`4; pnl:1.1 -2.2 3.3 4.4 5.5 -.5)\n",
    "select by desk from t"
   ]
  },
  {
   "cell_type": "markdown",
   "metadata": {},
   "source": [
    "## The `exec` Template\n",
    "\n",
    "The syntax of `exec` is identical to that of `select`\n",
    "\n",
    "`exec` $<p_s>$ <`by` $p_b$> `from` $t_{exp}$ <`where` $p_w$>\n",
    "\n",
    "\n",
    "Whereas `select` always returns a table, the result type of `exec` depends on the number of columns in its Select phrase. **One column yields a list; more than one column yields a dictionary.**"
   ]
  },
  {
   "cell_type": "code",
   "execution_count": 52,
   "metadata": {
    "ExecuteTime": {
     "end_time": "2020-11-25T00:43:26.949665000Z",
     "start_time": "2020-11-25T00:43:26.912Z"
    }
   },
   "outputs": [
    {
     "data": {
      "text/plain": [
       "name | `a`b`c`d`e\n",
       "state| `NY`FL`OH`HI\n"
      ]
     },
     "execution_count": 53,
     "metadata": {},
     "output_type": "execute_result"
    },
    {
     "ename": "\u001b[0;31mlength\u001b[0m",
     "evalue": "\u001b[0;31mlength\u001b[0m",
     "output_type": "error",
     "traceback": [
      "\u001b[0;31mevaluation error:\n\u001b[0m",
      "\u001b[0;31mlength\u001b[0m",
      "\u001b[0;31m\u001b[0m",
      "\u001b[0;31m  [0]  select name, distinct state from t\n       ^\n\u001b[0m"
     ]
    }
   ],
   "source": [
    "t:([] name:`a`b`c`d`e; state:`NY`FL`OH`NY`HI)\n",
    "exec name, distinct state from t\n",
    "select name, distinct state from t"
   ]
  },
  {
   "cell_type": "markdown",
   "metadata": {},
   "source": [
    "A common use of `exec` is when there is only one column in the aggregate phrase and no By phrase. The result is the computed column list devoid of other structure – i.e., not a dictionary or table. **This is useful to extract a column dynamically.**"
   ]
  },
  {
   "cell_type": "code",
   "execution_count": 53,
   "metadata": {
    "ExecuteTime": {
     "end_time": "2020-11-25T00:43:26.951259000Z",
     "start_time": "2020-11-25T00:43:26.916Z"
    }
   },
   "outputs": [
    {
     "data": {
      "text/plain": [
       "name\n",
       "----\n",
       "a   \n",
       "b   \n",
       "c   \n",
       "d   \n",
       "e   \n"
      ]
     },
     "execution_count": 53,
     "metadata": {},
     "output_type": "execute_result"
    },
    {
     "data": {
      "text/plain": [
       "`a`b`c`d`e\n"
      ]
     },
     "execution_count": 53,
     "metadata": {},
     "output_type": "execute_result"
    }
   ],
   "source": [
    "select name from t\n",
    "exec name from t"
   ]
  },
  {
   "cell_type": "code",
   "execution_count": 54,
   "metadata": {
    "ExecuteTime": {
     "end_time": "2020-11-25T00:43:26.951993000Z",
     "start_time": "2020-11-25T00:43:26.919Z"
    }
   },
   "outputs": [
    {
     "data": {
      "text/plain": [
       "`a`d`e\n"
      ]
     },
     "execution_count": 54,
     "metadata": {},
     "output_type": "execute_result"
    }
   ],
   "source": [
    "exec name from t where state in `NY`HI"
   ]
  },
  {
   "cell_type": "markdown",
   "metadata": {},
   "source": [
    "## The `update` Template"
   ]
  },
  {
   "cell_type": "markdown",
   "metadata": {},
   "source": [
    "### Basic update\n",
    "\n",
    "syntax is identical to `select`\n",
    "\n",
    "`udpate` $<p_s>$ <`by` $p_b$> `from` $t_{exp}$ <`where` $p_w$>\n"
   ]
  },
  {
   "cell_type": "code",
   "execution_count": 55,
   "metadata": {
    "ExecuteTime": {
     "end_time": "2020-11-25T00:43:26.953540000Z",
     "start_time": "2020-11-25T00:43:26.923Z"
    }
   },
   "outputs": [
    {
     "data": {
      "text/plain": [
       "c1 c2\n",
       "-----\n",
       "x  10\n",
       "y  20\n",
       "z  30\n"
      ]
     },
     "execution_count": 55,
     "metadata": {},
     "output_type": "execute_result"
    },
    {
     "data": {
      "text/plain": [
       "c1 c2 c3\n",
       "--------\n",
       "a  10 x \n",
       "b  20 y \n",
       "c  30 z \n"
      ]
     },
     "execution_count": 55,
     "metadata": {},
     "output_type": "execute_result"
    }
   ],
   "source": [
    "t:([] c1:`a`b`c; c2:10 20 30)\n",
    "update c1:`x`y`z from t\n",
    "update c3:`x`y`z from t"
   ]
  },
  {
   "cell_type": "markdown",
   "metadata": {},
   "source": [
    "The **implicit naming conventions** are the same as in select so you can omit the name and colon for existing columns in many cases."
   ]
  },
  {
   "cell_type": "code",
   "execution_count": 56,
   "metadata": {
    "ExecuteTime": {
     "end_time": "2020-11-25T00:43:26.954343000Z",
     "start_time": "2020-11-25T00:43:26.927Z"
    }
   },
   "outputs": [
    {
     "data": {
      "text/plain": [
       "1b\n"
      ]
     },
     "execution_count": 56,
     "metadata": {},
     "output_type": "execute_result"
    }
   ],
   "source": [
    "(update c2:c2+100 from t)~update c2+100 from t"
   ]
  },
  {
   "cell_type": "markdown",
   "metadata": {},
   "source": [
    "In the examples above, the table was passed by value and so the original was not modified. To modify the table in place, **pass it by name.**"
   ]
  },
  {
   "cell_type": "code",
   "execution_count": 57,
   "metadata": {
    "ExecuteTime": {
     "end_time": "2020-11-25T00:43:26.955334000Z",
     "start_time": "2020-11-25T00:43:26.929Z"
    }
   },
   "outputs": [
    {
     "data": {
      "text/plain": [
       "`t\n"
      ]
     },
     "execution_count": 57,
     "metadata": {},
     "output_type": "execute_result"
    },
    {
     "data": {
      "text/plain": [
       "c1 c2\n",
       "-----\n",
       "x  10\n",
       "y  20\n",
       "z  30\n"
      ]
     },
     "execution_count": 57,
     "metadata": {},
     "output_type": "execute_result"
    }
   ],
   "source": [
    "t:([] c1:`a`b`c; c2:10 20 30)\n",
    "update c1:`x`y`z from `t\n",
    "t"
   ]
  },
  {
   "cell_type": "markdown",
   "metadata": {},
   "source": [
    "Add a “constant” column by taking advantage of the fact that scalars are extended to match vectors. This is **not** a default value for the column in subsequent records."
   ]
  },
  {
   "cell_type": "code",
   "execution_count": 58,
   "metadata": {
    "ExecuteTime": {
     "end_time": "2020-11-25T00:43:26.956698000Z",
     "start_time": "2020-11-25T00:43:26.932Z"
    }
   },
   "outputs": [
    {
     "data": {
      "text/plain": [
       "c1 c2 c3\n",
       "--------\n",
       "x  10 42\n",
       "y  20 42\n",
       "z  30 42\n"
      ]
     },
     "execution_count": 58,
     "metadata": {},
     "output_type": "execute_result"
    }
   ],
   "source": [
    "update c3:42 from t"
   ]
  },
  {
   "cell_type": "markdown",
   "metadata": {},
   "source": [
    "Often you will `apply` update with a `where` phrase that limits the scope of the modification."
   ]
  },
  {
   "cell_type": "code",
   "execution_count": 59,
   "metadata": {
    "ExecuteTime": {
     "end_time": "2020-11-25T00:43:26.957472000Z",
     "start_time": "2020-11-25T00:43:26.935Z"
    }
   },
   "outputs": [
    {
     "data": {
      "text/plain": [
       "c1 c2 \n",
       "------\n",
       "a  10 \n",
       "b  120\n",
       "c  130\n"
      ]
     },
     "execution_count": 59,
     "metadata": {},
     "output_type": "execute_result"
    }
   ],
   "source": [
    "t:([] c1:`a`b`c; c2:10 20 30)\n",
    "update c2:c2+100 from t where c1<>`a"
   ]
  },
  {
   "cell_type": "markdown",
   "metadata": {},
   "source": [
    "If you add a new column in `update` with a Where phrase, the fields in the **non-selected rows will have the null value of the appropriate type.**"
   ]
  },
  {
   "cell_type": "code",
   "execution_count": 60,
   "metadata": {
    "ExecuteTime": {
     "end_time": "2020-11-25T00:43:26.958178000Z",
     "start_time": "2020-11-25T00:43:26.939Z"
    }
   },
   "outputs": [
    {
     "data": {
      "text/plain": [
       "c1 c2 c3\n",
       "--------\n",
       "a  10 0 \n",
       "b  20 1 \n",
       "c  30 1 \n"
      ]
     },
     "execution_count": 60,
     "metadata": {},
     "output_type": "execute_result"
    }
   ],
   "source": [
    "update c3:1b from t where c2>15"
   ]
  },
  {
   "cell_type": "markdown",
   "metadata": {},
   "source": [
    "You can use any q expression to the right of the colon providing **the size and type match the targeted location.**"
   ]
  },
  {
   "cell_type": "code",
   "execution_count": 60,
   "metadata": {
    "ExecuteTime": {
     "end_time": "2020-11-25T00:43:26.959191000Z",
     "start_time": "2020-11-25T00:43:26.942Z"
    }
   },
   "outputs": [
    {
     "data": {
      "text/plain": [
       "c1 c2\n",
       "-----\n",
       "a  10\n",
       "b  42\n",
       "c  43\n"
      ]
     },
     "execution_count": 61,
     "metadata": {},
     "output_type": "execute_result"
    },
    {
     "ename": "\u001b[0;31mlength\u001b[0m",
     "evalue": "\u001b[0;31mlength\u001b[0m",
     "output_type": "error",
     "traceback": [
      "\u001b[0;31mevaluation error:\n\u001b[0m",
      "\u001b[0;31mlength\u001b[0m",
      "\u001b[0;31m\u001b[0m",
      "\u001b[0;31m  [0]  update c2:42 43 44 from t where c2>15 /`length\n       ^\n\u001b[0m"
     ]
    }
   ],
   "source": [
    "update c2:42 43 from t where c2>15\n",
    "update c2:42 43 44 from t where c2>15 /`length\n",
    "update c2:42.0 43 from t where c2>15 /`type"
   ]
  },
  {
   "cell_type": "markdown",
   "metadata": {},
   "source": [
    "### update-by"
   ]
  },
  {
   "cell_type": "markdown",
   "metadata": {},
   "source": [
    "When the By phrase is present, the update operation is performed along groups. This is most useful with aggregate and uniform functions. For an aggregate function, the entire group gets the value of the aggregation on the group."
   ]
  },
  {
   "cell_type": "code",
   "execution_count": 61,
   "metadata": {
    "ExecuteTime": {
     "end_time": "2020-11-25T00:43:26.959930000Z",
     "start_time": "2020-11-25T00:43:26.945Z"
    }
   },
   "outputs": [
    {
     "data": {
      "text/plain": [
       "p | name  color weight city  \n",
       "--| -------------------------\n",
       "p1| nut   red   15     london\n",
       "p2| bolt  green 14.5   paris \n",
       "p3| screw blue  17     rome  \n",
       "p4| screw red   15     london\n",
       "p5| cam   blue  14.5   paris \n",
       "p6| cog   red   15     london\n"
      ]
     },
     "execution_count": 61,
     "metadata": {},
     "output_type": "execute_result"
    }
   ],
   "source": [
    "update avg weight by city from p"
   ]
  },
  {
   "cell_type": "markdown",
   "metadata": {},
   "source": [
    "A uniform function is applied along the group in place."
   ]
  },
  {
   "cell_type": "code",
   "execution_count": 62,
   "metadata": {
    "ExecuteTime": {
     "end_time": "2020-11-25T00:43:26.960641000Z",
     "start_time": "2020-11-25T00:43:26.948Z"
    }
   },
   "outputs": [
    {
     "data": {
      "text/plain": [
       "s p  qty cumqty\n",
       "---------------\n",
       "0 p1 300 300   \n",
       "0 p2 200 500   \n",
       "0 p3 400 900   \n",
       "0 p4 200 1100  \n",
       "3 p5 100 100   \n",
       "0 p6 100 1200  \n",
       "1 p1 300 300   \n",
       "1 p2 400 700   \n",
       "2 p2 200 200   \n",
       "3 p2 200 300   \n",
       "3 p4 300 600   \n",
       "3 p5 400 1000  \n"
      ]
     },
     "execution_count": 62,
     "metadata": {},
     "output_type": "execute_result"
    }
   ],
   "source": [
    "update cumqty:sums qty by s from sp"
   ]
  },
  {
   "cell_type": "markdown",
   "metadata": {},
   "source": [
    "## The `delete` Template"
   ]
  },
  {
   "cell_type": "markdown",
   "metadata": {},
   "source": [
    "`delete`: allows either rows or columns to be deleted. Its syntax is a simplified form of `select`, with the restriction that either $p_{cols}$ or $p_w$ can be present but not both.\n",
    "\n",
    "`delete` $<p_{cols}>$ `from` $t_{exp}$ <`where` $p_w$>\n",
    "\n",
    "If $p_{cols}$ is present as a comma-separated list of columns, the result is $t_{exp}$ with the specified columns removed. If $p_w$ is present, the result is $t_{exp}$ after records meeting the criteria of $p_w$ are removed.  We **cannot** remove rows and columns simultaneously."
   ]
  },
  {
   "cell_type": "code",
   "execution_count": 63,
   "metadata": {
    "ExecuteTime": {
     "end_time": "2020-11-25T00:43:26.961924000Z",
     "start_time": "2020-11-25T00:43:26.951Z"
    }
   },
   "outputs": [
    {
     "data": {
      "text/plain": [
       "c2\n",
       "--\n",
       "10\n",
       "20\n",
       "30\n"
      ]
     },
     "execution_count": 63,
     "metadata": {},
     "output_type": "execute_result"
    },
    {
     "data": {
      "text/plain": [
       "`t\n"
      ]
     },
     "execution_count": 63,
     "metadata": {},
     "output_type": "execute_result"
    },
    {
     "data": {
      "text/plain": [
       "c1 c2\n",
       "-----\n",
       "a  10\n"
      ]
     },
     "execution_count": 63,
     "metadata": {},
     "output_type": "execute_result"
    }
   ],
   "source": [
    "t:([] c1:`a`b`c; c2:10 20 30)\n",
    "delete c1 from t\n",
    "delete from `t where c2>15\n",
    "t"
   ]
  },
  {
   "cell_type": "markdown",
   "metadata": {},
   "source": [
    "## Sorting\n",
    "\n",
    "### `xasc`\n",
    "\n",
    "The binary `xasc` takes a **scalar, or list of, symbolic column name(s)** as its left operand and **a table or table name** as its right operand. It returns the records of the table sorted ascending on the specified column(s). The sort column list is specified in major-to-minor sort order."
   ]
  },
  {
   "cell_type": "code",
   "execution_count": 64,
   "metadata": {
    "ExecuteTime": {
     "end_time": "2020-11-25T00:43:26.962741000Z",
     "start_time": "2020-11-25T00:43:26.953Z"
    }
   },
   "outputs": [
    {
     "data": {
      "text/plain": [
       "c1 c2\n",
       "-----\n",
       "b  10\n",
       "a  20\n",
       "a  30\n",
       "c  40\n"
      ]
     },
     "execution_count": 64,
     "metadata": {},
     "output_type": "execute_result"
    }
   ],
   "source": [
    "t:([] c1:`a`b`c`a; c2:20 10 40 30)\n",
    "`c2 xasc t"
   ]
  },
  {
   "cell_type": "code",
   "execution_count": 65,
   "metadata": {
    "ExecuteTime": {
     "end_time": "2020-11-25T00:43:26.970068000Z",
     "start_time": "2020-11-25T00:43:26.956Z"
    }
   },
   "outputs": [
    {
     "data": {
      "text/plain": [
       "c1 c2\n",
       "-----\n",
       "a  20\n",
       "a  30\n",
       "b  10\n",
       "c  40\n"
      ]
     },
     "execution_count": 65,
     "metadata": {},
     "output_type": "execute_result"
    }
   ],
   "source": [
    "`c1`c2 xasc t"
   ]
  },
  {
   "cell_type": "markdown",
   "metadata": {},
   "source": [
    "### `xdesc`"
   ]
  },
  {
   "cell_type": "markdown",
   "metadata": {},
   "source": [
    "### Mixed Sort"
   ]
  },
  {
   "cell_type": "code",
   "execution_count": 66,
   "metadata": {
    "ExecuteTime": {
     "end_time": "2020-11-25T00:43:26.970811000Z",
     "start_time": "2020-11-25T00:43:26.959Z"
    }
   },
   "outputs": [
    {
     "data": {
      "text/plain": [
       "c1 c2\n",
       "-----\n",
       "a  30\n",
       "a  20\n",
       "b  10\n",
       "c  40\n"
      ]
     },
     "execution_count": 66,
     "metadata": {},
     "output_type": "execute_result"
    }
   ],
   "source": [
    "`c1 xasc `c2 xdesc t"
   ]
  },
  {
   "cell_type": "markdown",
   "metadata": {},
   "source": [
    "## Renaming and Rearranging Columns"
   ]
  },
  {
   "cell_type": "code",
   "execution_count": 67,
   "metadata": {
    "ExecuteTime": {
     "end_time": "2020-11-25T00:43:26.971267000Z",
     "start_time": "2020-11-25T00:43:26.961Z"
    }
   },
   "outputs": [],
   "source": [
    "t:([] c1:`a`b`c; c2:10 20 30; c3:1.1 2.2 3.3)"
   ]
  },
  {
   "cell_type": "markdown",
   "metadata": {},
   "source": [
    "### `xcol`\n",
    "\n",
    "The binary `xcol` takes a scalar, or list of, symbolic column name(s) as its left operand (names) and a table or keyed table (source) as its right operand. The columns in names must appear in source. The result is a table obtained by renaming the left-most columns of source according to names.\n",
    "\n",
    "**no pass-by-name version of `xcol`**. To modify the source, reassign it."
   ]
  },
  {
   "cell_type": "code",
   "execution_count": 68,
   "metadata": {
    "ExecuteTime": {
     "end_time": "2020-11-25T00:43:26.971976000Z",
     "start_time": "2020-11-25T00:43:26.964Z"
    }
   },
   "outputs": [
    {
     "data": {
      "text/plain": [
       "new1 new2 c3 \n",
       "-------------\n",
       "a    10   1.1\n",
       "b    20   2.2\n",
       "c    30   3.3\n"
      ]
     },
     "execution_count": 68,
     "metadata": {},
     "output_type": "execute_result"
    }
   ],
   "source": [
    "`new1`new2 xcol t"
   ]
  },
  {
   "cell_type": "markdown",
   "metadata": {},
   "source": [
    "### `xcols`\n",
    "\n",
    "The binary `xcols` takes a scalar, or list of, symbolic column name(s) as its left argument (names) and a table (source) as its right argument. The output is the result of reordering the columns in names so that those in names occur at the beginning – i.e., left-most in the display. Columns not specified in names are left in original order at the end – i.e., right-most.\n",
    "\n",
    "Notes:\n",
    "\n",
    "- The source operand **cannot** be a keyed table.\n",
    "- There is no pass-by-name version of `xcols`. To modify the source, you must reassign it."
   ]
  },
  {
   "cell_type": "code",
   "execution_count": 69,
   "metadata": {
    "ExecuteTime": {
     "end_time": "2020-11-25T00:43:26.973259000Z",
     "start_time": "2020-11-25T00:43:26.966Z"
    }
   },
   "outputs": [
    {
     "data": {
      "text/plain": [
       "c3  c1 c2\n",
       "---------\n",
       "1.1 a  10\n",
       "2.2 b  20\n",
       "3.3 c  30\n"
      ]
     },
     "execution_count": 69,
     "metadata": {},
     "output_type": "execute_result"
    },
    {
     "data": {
      "text/plain": [
       "c3  c2 c1\n",
       "---------\n",
       "1.1 10 a \n",
       "2.2 20 b \n",
       "3.3 30 c \n"
      ]
     },
     "execution_count": 69,
     "metadata": {},
     "output_type": "execute_result"
    },
    {
     "data": {
      "text/plain": [
       "c1 c2 c3 \n",
       "---------\n",
       "a  10 1.1\n",
       "b  20 2.2\n",
       "c  30 3.3\n"
      ]
     },
     "execution_count": 69,
     "metadata": {},
     "output_type": "execute_result"
    }
   ],
   "source": [
    "`c3 xcols t\n",
    "`c3`c2 xcols t\n",
    "t"
   ]
  },
  {
   "cell_type": "markdown",
   "metadata": {},
   "source": [
    "## Joins\n",
    "\n",
    "### Implicit Join"
   ]
  },
  {
   "cell_type": "code",
   "execution_count": 73,
   "metadata": {
    "ExecuteTime": {
     "end_time": "2020-11-25T00:44:56.398465000Z",
     "start_time": "2020-11-25T00:44:56.396Z"
    }
   },
   "outputs": [
    {
     "data": {
      "text/plain": [
       "sname qty\n",
       "---------\n",
       "smith 300\n",
       "smith 200\n",
       "smith 400\n",
       "smith 200\n",
       "clark 100\n",
       "smith 100\n",
       "jones 300\n",
       "jones 400\n",
       "blake 200\n",
       "clark 200\n",
       "clark 300\n",
       "clark 400\n"
      ]
     },
     "execution_count": 73,
     "metadata": {},
     "output_type": "execute_result"
    }
   ],
   "source": [
    "select sname:s.name, qty from sp"
   ]
  },
  {
   "cell_type": "code",
   "execution_count": 74,
   "metadata": {
    "ExecuteTime": {
     "end_time": "2020-11-25T00:45:09.513455000Z",
     "start_time": "2020-11-25T00:45:09.511Z"
    }
   },
   "outputs": [
    {
     "data": {
      "text/plain": [
       "sname pname qty\n",
       "---------------\n",
       "smith nut   300\n",
       "smith bolt  200\n",
       "smith screw 400\n",
       "smith screw 200\n",
       "clark cam   100\n",
       "smith cog   100\n",
       "jones nut   300\n",
       "jones bolt  400\n",
       "blake bolt  200\n",
       "clark bolt  200\n",
       "clark screw 300\n",
       "clark cam   400\n"
      ]
     },
     "execution_count": 74,
     "metadata": {},
     "output_type": "execute_result"
    }
   ],
   "source": [
    "select sname:s.name, pname:p.name, qty from sp"
   ]
  },
  {
   "cell_type": "code",
   "execution_count": 75,
   "metadata": {
    "ExecuteTime": {
     "end_time": "2020-11-25T00:46:05.266252000Z",
     "start_time": "2020-11-25T00:46:05.264Z"
    }
   },
   "outputs": [
    {
     "data": {
      "text/plain": [
       "`s\n"
      ]
     },
     "execution_count": 75,
     "metadata": {},
     "output_type": "execute_result"
    },
    {
     "data": {
      "text/plain": [
       "name  qty currency\n",
       "------------------\n",
       "smith 300 gbp     \n",
       "smith 200 gbp     \n",
       "smith 400 gbp     \n",
       "smith 200 gbp     \n",
       "clark 100 gbp     \n",
       "smith 100 gbp     \n",
       "jones 300 eur     \n",
       "jones 400 eur     \n",
       "blake 200 eur     \n",
       "clark 200 gbp     \n",
       "clark 300 gbp     \n",
       "clark 400 gbp     \n"
      ]
     },
     "execution_count": 75,
     "metadata": {},
     "output_type": "execute_result"
    }
   ],
   "source": [
    "emaster:([eid:1001 1002 1003 1004 1005] currency:`gbp`eur`eur`gbp`eur)\n",
    "update eid:`emaster$1001 1002 1005 1004 1003 from `s\n",
    "select s.name, qty, s.eid.currency from sp"
   ]
  },
  {
   "cell_type": "code",
   "execution_count": 76,
   "metadata": {
    "ExecuteTime": {
     "end_time": "2020-11-25T00:46:09.227123000Z",
     "start_time": "2020-11-25T00:46:09.224Z"
    }
   },
   "outputs": [
    {
     "data": {
      "text/plain": [
       "s | name  status city   eid \n",
       "--| ------------------------\n",
       "s1| smith 20     london 1001\n",
       "s2| jones 10     paris  1002\n",
       "s3| blake 30     paris  1005\n",
       "s4| clark 20     london 1004\n",
       "s5| adams 30     athens 1003\n"
      ]
     },
     "execution_count": 76,
     "metadata": {},
     "output_type": "execute_result"
    }
   ],
   "source": [
    "s"
   ]
  },
  {
   "cell_type": "markdown",
   "metadata": {},
   "source": [
    "### Ad hoc Left Join (`lj`)"
   ]
  },
  {
   "cell_type": "code",
   "execution_count": 77,
   "metadata": {
    "ExecuteTime": {
     "end_time": "2020-11-25T00:48:20.717282000Z",
     "start_time": "2020-11-25T00:48:20.715Z"
    }
   },
   "outputs": [
    {
     "data": {
      "text/plain": [
       "k c  v  \n",
       "--------\n",
       "1 10    \n",
       "2 20 200\n",
       "3 30 300\n",
       "4 40 400\n"
      ]
     },
     "execution_count": 77,
     "metadata": {},
     "output_type": "execute_result"
    }
   ],
   "source": [
    "t:([] k:1 2 3 4; c:10 20 30 40)\n",
    "kt:([k:2 3 4 5]; v:200 300 400 500)\n",
    "t lj kt"
   ]
  },
  {
   "cell_type": "code",
   "execution_count": 78,
   "metadata": {
    "ExecuteTime": {
     "end_time": "2020-11-25T00:49:05.454395000Z",
     "start_time": "2020-11-25T00:49:05.452Z"
    }
   },
   "outputs": [
    {
     "data": {
      "text/plain": [
       "1b\n"
      ]
     },
     "execution_count": 78,
     "metadata": {},
     "output_type": "execute_result"
    }
   ],
   "source": [
    "kt:([k:1 2 3 4 5]; v1:10 20 30 40 50; v2:1.1 2.2 3.3 4.4 5.5)\n",
    "tf:([] k:`kt$1 2 3 4; c:10 20 30 40)\n",
    "(tf lj kt)~select k,c,k.v1,k.v2 from tf"
   ]
  },
  {
   "cell_type": "markdown",
   "metadata": {},
   "source": [
    "**When the tables source and target have duplicate non-key columns, the operation has upsert semantics.**"
   ]
  },
  {
   "cell_type": "code",
   "execution_count": 79,
   "metadata": {
    "ExecuteTime": {
     "end_time": "2020-11-25T00:49:49.873093000Z",
     "start_time": "2020-11-25T00:49:49.869Z"
    }
   },
   "outputs": [
    {
     "data": {
      "text/plain": [
       "k v  \n",
       "-----\n",
       "1 10 \n",
       "2 200\n",
       "3 300\n",
       "4 400\n"
      ]
     },
     "execution_count": 79,
     "metadata": {},
     "output_type": "execute_result"
    }
   ],
   "source": [
    "t:([] k:1 2 3 4; v:10 20 30 40)\n",
    "kt:([k:2 3 4 5]; v:200 300 400 500)\n",
    "t lj kt"
   ]
  },
  {
   "cell_type": "code",
   "execution_count": 80,
   "metadata": {
    "ExecuteTime": {
     "end_time": "2020-11-25T00:50:07.717002000Z",
     "start_time": "2020-11-25T00:50:07.714Z"
    }
   },
   "outputs": [
    {
     "data": {
      "text/plain": [
       "k| v  \n",
       "-| ---\n",
       "1| 10 \n",
       "2| 200\n",
       "3| 300\n",
       "4| 400\n"
      ]
     },
     "execution_count": 80,
     "metadata": {},
     "output_type": "execute_result"
    }
   ],
   "source": [
    "kt1:([k:1 2 3 4]; v:10 0N 30 40)\n",
    "kt:([k:2 3 4 5]; v:200 300 400 500)\n",
    "kt1 lj kt"
   ]
  },
  {
   "cell_type": "markdown",
   "metadata": {},
   "source": [
    "### Column Lookup"
   ]
  },
  {
   "cell_type": "code",
   "execution_count": 82,
   "metadata": {
    "ExecuteTime": {
     "end_time": "2020-11-25T00:54:36.684430000Z",
     "start_time": "2020-11-25T00:54:36.681Z"
    }
   },
   "outputs": [
    {
     "data": {
      "text/plain": [
       "c  v  \n",
       "------\n",
       "10    \n",
       "20 2.2\n",
       "30 3.3\n",
       "40 4.4\n"
      ]
     },
     "execution_count": 82,
     "metadata": {},
     "output_type": "execute_result"
    }
   ],
   "source": [
    "t:([] k:1 2 3 4; c:10 20 30 40)\n",
    "kt:([k1: 2 3 4 5]; v:2.2 3.3 4.4 5.5)\n",
    "select c, v: kt[([] k1:k); `v] from t"
   ]
  },
  {
   "cell_type": "markdown",
   "metadata": {},
   "source": [
    "Especially for a single column, this is simpler (and more impressive to your colleagues) than the equivalent join."
   ]
  },
  {
   "cell_type": "code",
   "execution_count": 83,
   "metadata": {
    "ExecuteTime": {
     "end_time": "2020-11-25T00:55:55.975729000Z",
     "start_time": "2020-11-25T00:55:55.972Z"
    }
   },
   "outputs": [
    {
     "data": {
      "text/plain": [
       "c  v  \n",
       "------\n",
       "10    \n",
       "20 2.2\n",
       "30 3.3\n",
       "40 4.4\n"
      ]
     },
     "execution_count": 83,
     "metadata": {},
     "output_type": "execute_result"
    }
   ],
   "source": [
    "select c,v from t lj `k xkey select k:k1,v from kt"
   ]
  },
  {
   "cell_type": "markdown",
   "metadata": {},
   "source": [
    "Here is an example using compound keys and column renaming to match the lookup table."
   ]
  },
  {
   "cell_type": "code",
   "execution_count": 84,
   "metadata": {
    "ExecuteTime": {
     "end_time": "2020-11-25T00:56:18.160205000Z",
     "start_time": "2020-11-25T00:56:18.157Z"
    }
   },
   "outputs": [
    {
     "data": {
      "text/plain": [
       "c  v  \n",
       "------\n",
       "10 1.1\n",
       "20 2.2\n"
      ]
     },
     "execution_count": 84,
     "metadata": {},
     "output_type": "execute_result"
    }
   ],
   "source": [
    "t:([] f:`rocky`bullwinkle; l:`squirrel`moose; c:10 20)\n",
    "kt:([fn:`rocky`bullwinkle`fearless; ln:`squirrel`moose`leader] v:1.1 2.2 3.3)\n",
    "select c, v:kt[([] fn:f; ln:l); `v] from t"
   ]
  },
  {
   "cell_type": "markdown",
   "metadata": {},
   "source": [
    "### Ad Hoc Inner Join (`ij`)"
   ]
  },
  {
   "cell_type": "code",
   "execution_count": 85,
   "metadata": {
    "ExecuteTime": {
     "end_time": "2020-11-25T00:57:54.356670000Z",
     "start_time": "2020-11-25T00:57:54.353Z"
    }
   },
   "outputs": [
    {
     "data": {
      "text/plain": [
       "k c  v  \n",
       "--------\n",
       "2 20 2.2\n",
       "3 30 3.3\n",
       "4 40 4.4\n"
      ]
     },
     "execution_count": 85,
     "metadata": {},
     "output_type": "execute_result"
    }
   ],
   "source": [
    "t:([] k:1 2 3 4; c:10 20 30 40)\n",
    "kt:([k:2 3 4 5]; v:2.2 3.3 4.4 5.5)\n",
    "t ij kt"
   ]
  },
  {
   "cell_type": "markdown",
   "metadata": {},
   "source": [
    "As with `lj`, upsert semantics holds for duplicate columns."
   ]
  },
  {
   "cell_type": "code",
   "execution_count": 86,
   "metadata": {
    "ExecuteTime": {
     "end_time": "2020-11-25T00:58:37.359924000Z",
     "start_time": "2020-11-25T00:58:37.356Z"
    }
   },
   "outputs": [
    {
     "data": {
      "text/plain": [
       "k v  \n",
       "-----\n",
       "2 200\n",
       "3 300\n",
       "4 400\n"
      ]
     },
     "execution_count": 86,
     "metadata": {},
     "output_type": "execute_result"
    }
   ],
   "source": [
    "t:([] k:1 2 3 4; v:10 20 30 40)\n",
    "kt:([k:2 3 4 5]; v:200 300 400 500)\n",
    "t ij kt"
   ]
  },
  {
   "cell_type": "code",
   "execution_count": 87,
   "metadata": {
    "ExecuteTime": {
     "end_time": "2020-11-25T00:58:49.206767000Z",
     "start_time": "2020-11-25T00:58:49.204Z"
    }
   },
   "outputs": [
    {
     "data": {
      "text/plain": [
       "k| v  \n",
       "-| ---\n",
       "2| 200\n",
       "3| 300\n",
       "4| 400\n"
      ]
     },
     "execution_count": 87,
     "metadata": {},
     "output_type": "execute_result"
    }
   ],
   "source": [
    "kt1:([k:1 2 3 4]; v:10 0N 30 40)\n",
    "kt:([k:2 3 4 5]; v:200 300 400 500)\n",
    "kt1 ij kt\n"
   ]
  },
  {
   "cell_type": "markdown",
   "metadata": {},
   "source": [
    "### Equijoin `ej`\n",
    "\n",
    "Unlike `ij`, all matching records in the right table appear in the result. As with any join, upsert semantics holds on duplicate columns.\n"
   ]
  },
  {
   "cell_type": "code",
   "execution_count": 88,
   "metadata": {
    "ExecuteTime": {
     "end_time": "2020-11-25T01:01:47.295468000Z",
     "start_time": "2020-11-25T01:01:47.293Z"
    }
   },
   "outputs": [
    {
     "data": {
      "text/plain": [
       "k c   v  \n",
       "---------\n",
       "2 200 2.2\n",
       "3 300 3.3\n",
       "4 400 4.4\n"
      ]
     },
     "execution_count": 88,
     "metadata": {},
     "output_type": "execute_result"
    },
    {
     "data": {
      "text/plain": [
       "k c   v    \n",
       "-----------\n",
       "2 200 2.2  \n",
       "2 222 22.22\n",
       "3 300 3.3  \n",
       "4 400 4.4  \n"
      ]
     },
     "execution_count": 88,
     "metadata": {},
     "output_type": "execute_result"
    }
   ],
   "source": [
    "t1:([] k:1 2 3 4; c:10 20 30 40)\n",
    "t2:([] k:2 2 3 4 5; c:200 222 300 400 500; v:2.2 22.22 3.3 4.4 5.5)\n",
    "t1 ij `k xkey t2\n",
    "ej[`k;t1;t2]"
   ]
  },
  {
   "cell_type": "markdown",
   "metadata": {},
   "source": [
    "### Plug Join (`pj`)\n",
    "\n",
    "_Plus join_ `pj` is a left join that replaces upsert semantics for duplicate column names with addition. This is useful when you have two tables with identical schemas having all non-key columns numeric."
   ]
  },
  {
   "cell_type": "code",
   "execution_count": 89,
   "metadata": {
    "ExecuteTime": {
     "end_time": "2020-11-25T01:06:35.972358000Z",
     "start_time": "2020-11-25T01:06:35.970Z"
    }
   },
   "outputs": [
    {
     "data": {
      "text/plain": [
       "k a   b    c\n",
       "------------\n",
       "a 110 11.1 1\n",
       "b 220 22.2 2\n",
       "c 300 30   3\n"
      ]
     },
     "execution_count": 89,
     "metadata": {},
     "output_type": "execute_result"
    }
   ],
   "source": [
    "t:([] k:`a`b`c; a:100 200 300; b:10. 20. 30.; c:1 2 3)\n",
    "kt:([k:`a`b] a:10 20; b:1.1 2.2)\n",
    "t pj kt"
   ]
  },
  {
   "cell_type": "code",
   "execution_count": 90,
   "metadata": {
    "ExecuteTime": {
     "end_time": "2020-11-25T01:07:20.332541000Z",
     "start_time": "2020-11-25T01:07:20.330Z"
    }
   },
   "outputs": [
    {
     "data": {
      "text/plain": [
       "k a   b    c\n",
       "------------\n",
       "a 110 11.1 1\n",
       "b 220 22.2 2\n",
       "c 300 30   3\n"
      ]
     },
     "execution_count": 90,
     "metadata": {},
     "output_type": "execute_result"
    }
   ],
   "source": [
    "kt1:([k:`a`b`c] a:10 20 0; b:1.1 2.2 0.0; c:0 0 0)\n",
    "t pj kt1"
   ]
  },
  {
   "cell_type": "markdown",
   "metadata": {},
   "source": [
    "### Union Join\n",
    "\n",
    "The equivalent of an ordinary SQL union on tables with matching schemas is simply `,`. Indeed, it joins two lists of compatible records."
   ]
  },
  {
   "cell_type": "code",
   "execution_count": 91,
   "metadata": {
    "ExecuteTime": {
     "end_time": "2020-11-25T01:09:08.649516000Z",
     "start_time": "2020-11-25T01:09:08.646Z"
    }
   },
   "outputs": [
    {
     "data": {
      "text/plain": [
       "c1 c2\n",
       "-----\n",
       "a  1 \n",
       "b  2 \n",
       "c  3 \n",
       "d  4 \n"
      ]
     },
     "execution_count": 91,
     "metadata": {},
     "output_type": "execute_result"
    }
   ],
   "source": [
    "t1:([] c1:`a`b; c2:1 2)\n",
    "t2:([] c1:`c`d; c2:3 4)\n",
    "t1, t2"
   ]
  },
  {
   "cell_type": "markdown",
   "metadata": {},
   "source": [
    "Union join `uj` is more powerful in that it vertically combines any two tables, or keyed tables."
   ]
  },
  {
   "cell_type": "code",
   "execution_count": 94,
   "metadata": {
    "ExecuteTime": {
     "end_time": "2020-11-25T01:10:25.465367000Z",
     "start_time": "2020-11-25T01:10:25.461Z"
    }
   },
   "outputs": [
    {
     "data": {
      "text/plain": [
       "c1 c2 c3 \n",
       "---------\n",
       "a  10    \n",
       "b  20    \n",
       "c  30    \n",
       "a  20 7.7\n",
       "x  30 8.8\n",
       "y  40 9.9\n"
      ]
     },
     "execution_count": 94,
     "metadata": {},
     "output_type": "execute_result"
    }
   ],
   "source": [
    "t1:([] c1:`a`b`c; c2: 10 20 30)\n",
    "t2:([] c1:`a`x`y; c2: 20 30 40; c3: 7.7 8.8 9.9)\n",
    "t1 uj t2"
   ]
  },
  {
   "cell_type": "markdown",
   "metadata": {},
   "source": [
    "Use `uj/` to combine a list of disparate tables"
   ]
  },
  {
   "cell_type": "code",
   "execution_count": 95,
   "metadata": {
    "ExecuteTime": {
     "end_time": "2020-11-25T01:10:46.430417000Z",
     "start_time": "2020-11-25T01:10:46.427Z"
    }
   },
   "outputs": [
    {
     "data": {
      "text/plain": [
       "c1 c2 c3 \n",
       "---------\n",
       "a  10    \n",
       "b  20    \n",
       "c  30    \n",
       "a  20 7.7\n",
       "x  30 8.8\n",
       "y  40 9.9\n",
       "e  50 5.5\n",
       "f  60 6.6\n",
       "g  70 7.7\n"
      ]
     },
     "execution_count": 95,
     "metadata": {},
     "output_type": "execute_result"
    }
   ],
   "source": [
    "t3:([] c1:`e`f`g; c2:50 60 70; c3:5.5 6.6 7.7)\n",
    "(uj/) (t1; t2; t3)"
   ]
  },
  {
   "cell_type": "markdown",
   "metadata": {},
   "source": [
    "You can also apply `uj` to keyed tables, where **upsert semantics hold on both rows and columns**."
   ]
  },
  {
   "cell_type": "code",
   "execution_count": 96,
   "metadata": {
    "ExecuteTime": {
     "end_time": "2020-11-25T01:11:33.764174000Z",
     "start_time": "2020-11-25T01:11:33.762Z"
    }
   },
   "outputs": [
    {
     "data": {
      "text/plain": [
       "k| v1 v2  v3 \n",
       "-| ----------\n",
       "1| a  10     \n",
       "2| b  20     \n",
       "3| c  300 3.3\n",
       "4|    400 4.4\n"
      ]
     },
     "execution_count": 96,
     "metadata": {},
     "output_type": "execute_result"
    }
   ],
   "source": [
    "kt1:([k:1 2 3] v1:`a`b`c; v2:10 20 30)\n",
    "kt2:([k:3 4] v2:300 400; v3:3.3 4.4)\n",
    "kt1 uj kt2"
   ]
  },
  {
   "cell_type": "markdown",
   "metadata": {},
   "source": [
    "The operation of `uj` is **expensive so it should only be used when necessary**; in particular, when the tables conform, use `,` or `raze`. Be especially cautious when low latency is paramount."
   ]
  },
  {
   "cell_type": "markdown",
   "metadata": {},
   "source": [
    "### As-of Joins\n",
    "\n",
    "As-of joins are so-named because they most often **join tables along time columns** to obtain a value in one table that is current as of a time in another table. As-of joins are **non-equijoins that match on less-than-or-equal. They are not restricted to time values.**\n",
    "\n",
    "Syntax: `aj`$[`c_1...`c_n;t_1;t_2]$\n",
    "\n",
    "The semantics of `aj` are as follows. The match on **all specified columns except the last is by equals**. Assuming the records are sequenced by $c_n$ in both tables, for a given cn value in $t_1$, the match picks the greatest $c_n$ in $t_2$ less than or equal to the given value in $t_1$. Specifically, if the cn columns are sequenced temporal values, for each cn value in $t_1$ the match picks the $t_2$ row whose $c_n$ value is in effect “as of” the time in $t_1$."
   ]
  },
  {
   "cell_type": "code",
   "execution_count": 97,
   "metadata": {
    "ExecuteTime": {
     "end_time": "2020-11-25T01:21:11.853285000Z",
     "start_time": "2020-11-25T01:21:11.849Z"
    }
   },
   "outputs": [
    {
     "name": "stdout",
     "output_type": "stream",
     "text": [
      "ti       sym  qty\n",
      "-----------------\n",
      "10:01:01 msft 100\n",
      "10:01:03 ibm  200\n",
      "10:01:04 ge   150\n",
      "ti       sym  px \n",
      "-----------------\n",
      "10:01:00 ibm  100\n",
      "10:01:01 msft 99 \n",
      "10:01:01 msft 101\n",
      "10:01:02 ibm  98 \n"
     ]
    },
    {
     "data": {
      "text/plain": [
       "ti       sym  qty px \n",
       "---------------------\n",
       "10:01:01 msft 100 101\n",
       "10:01:03 ibm  200 98 \n",
       "10:01:04 ge   150    \n"
      ]
     },
     "execution_count": 97,
     "metadata": {},
     "output_type": "execute_result"
    }
   ],
   "source": [
    "show t:([] ti:10:01:01 10:01:03 10:01:04;sym:`msft`ibm`ge;qty:100 200 150)\n",
    "show q:([] ti:10:01:00 10:01:01 10:01:01 10:01:02;sym:`ibm`msft`msft`ibm;px:100 99 101 98)\n",
    "aj[`sym`ti;t;q]"
   ]
  },
  {
   "cell_type": "markdown",
   "metadata": {},
   "source": [
    "If you want the time of the matching quote in the result instead of the time of the trade, use `aj0`."
   ]
  },
  {
   "cell_type": "code",
   "execution_count": 98,
   "metadata": {
    "ExecuteTime": {
     "end_time": "2020-11-25T01:22:39.302822000Z",
     "start_time": "2020-11-25T01:22:39.300Z"
    }
   },
   "outputs": [
    {
     "data": {
      "text/plain": [
       "ti       sym  qty px \n",
       "---------------------\n",
       "10:01:01 msft 100 101\n",
       "10:01:02 ibm  200 98 \n",
       "10:01:04 ge   150    \n"
      ]
     },
     "execution_count": 98,
     "metadata": {},
     "output_type": "execute_result"
    }
   ],
   "source": [
    "aj0[`sym`ti;t;q]"
   ]
  },
  {
   "cell_type": "markdown",
   "metadata": {},
   "source": [
    "The simpler function `asof` performs the same match as `aj` but with a table against a single record. The result picks out th\n",
    "e remaining columns in the matched row of the table."
   ]
  },
  {
   "cell_type": "code",
   "execution_count": 1,
   "metadata": {
    "ExecuteTime": {
     "end_time": "2021-02-09T18:59:17.282902000Z",
     "start_time": "2021-02-09T18:59:17.280Z"
    }
   },
   "outputs": [
    {
     "name": "stdout",
     "output_type": "stream",
     "text": [
      "ti       sym  qty px \n",
      "---------------------\n",
      "10:01:01 msft 100 45 \n",
      "10:01:03 ibm  200 160\n",
      "10:01:04 ge   150 55 \n"
     ]
    },
    {
     "data": {
      "text/plain": [
       "qty| 200\n",
       "px | 160\n"
      ]
     },
     "execution_count": 1,
     "metadata": {},
     "output_type": "execute_result"
    }
   ],
   "source": [
    "t:([] ti:10:01:01 10:01:03 10:01:04; sym:`msft`ibm`ge; qty:100 200 150; px:45 160 55)\n",
    "show t\n",
    "t asof `sym`ti!(`ibm;10:01:03)"
   ]
  },
  {
   "cell_type": "markdown",
   "metadata": {},
   "source": [
    "A list of such dictionary records conforms – i.e., is a table – and `asof` matches against each record."
   ]
  },
  {
   "cell_type": "code",
   "execution_count": 100,
   "metadata": {
    "ExecuteTime": {
     "end_time": "2020-11-25T01:25:50.847718000Z",
     "start_time": "2020-11-25T01:25:50.844Z"
    }
   },
   "outputs": [
    {
     "data": {
      "text/plain": [
       "qty px \n",
       "-------\n",
       "100 45 \n",
       "200 160\n"
      ]
     },
     "execution_count": 100,
     "metadata": {},
     "output_type": "execute_result"
    }
   ],
   "source": [
    "t asof ([] sym:`msft`ibm; ti:10:01:01 10:01:03)"
   ]
  },
  {
   "cell_type": "markdown",
   "metadata": {},
   "source": [
    "As-of joins are also useful with non-numeric data. Suppose we have a table containing a history of state changes – e.g., employee promotions. An as-of join will determine the state “as of” any point in time."
   ]
  },
  {
   "cell_type": "code",
   "execution_count": 101,
   "metadata": {
    "ExecuteTime": {
     "end_time": "2020-11-25T01:27:08.035816000Z",
     "start_time": "2020-11-25T01:27:08.032Z"
    }
   },
   "outputs": [
    {
     "data": {
      "text/plain": [
       "title| associate\n"
      ]
     },
     "execution_count": 101,
     "metadata": {},
     "output_type": "execute_result"
    },
    {
     "data": {
      "text/plain": [
       "title| cfo\n"
      ]
     },
     "execution_count": 101,
     "metadata": {},
     "output_type": "execute_result"
    },
    {
     "data": {
      "text/plain": [
       "name dt         title    \n",
       "-------------------------\n",
       "nuba 2009.07.04 associate\n",
       "devi 2015.12.01 cfo      \n"
      ]
     },
     "execution_count": 101,
     "metadata": {},
     "output_type": "execute_result"
    }
   ],
   "source": [
    "promotions:([] name:`nuba`devi`nuba`devi`nuba;\n",
    "    dt:2000.01.01 2005.02.14 2010.02.01 2012.08.12 2015.11.01;\n",
    "    title:`associate`analyst`director`cfo`retired)\n",
    "promotions asof `name`dt!(`nuba; 2009.07.04)\n",
    "promotions asof `name`dt!(`devi; 2015.12.01)\n",
    "events:([] name:`nuba`devi; dt: 2009.07.04 2015.12.01)\n",
    "aj[`name`dt; events; promotions]"
   ]
  },
  {
   "cell_type": "markdown",
   "metadata": {},
   "source": [
    "#### Window Join `wj` !!\n",
    "\n",
    "Window joins are a generalization of as-of joins and are specifically geared for analyzing the relationship between trades and quotes in finance. The idea is that you want to investigate the behavior of quotes in a neighborhood of each trade. For example, to determine how well a trade was executed, you need to examine the range of bid and ask prices that were prevalent around the trade time.\n",
    "\n",
    "Syntax: `wj`[w;c;t;(q;(f0;c0);(f1;c1))]\n",
    "\n",
    "Here: `w` is a list of windows, `c` is the list of sym and time column names, `t` is the trades table. The final parameter is a list with the quotes table and a pair of lists, each with an aggregate function and a column name.\n",
    "\n",
    "To see all the values in each window, pass the identity function `::` in place of the aggregates."
   ]
  },
  {
   "cell_type": "code",
   "execution_count": 102,
   "metadata": {
    "ExecuteTime": {
     "end_time": "2020-11-25T01:29:14.347106000Z",
     "start_time": "2020-11-25T01:29:14.342Z"
    }
   },
   "outputs": [
    {
     "name": "stdout",
     "output_type": "stream",
     "text": [
      "sym  time     price\n",
      "-------------------\n",
      "aapl 09:30:01 100  \n",
      "aapl 09:30:04 103  \n",
      "aapl 09:30:08 101  \n",
      "sym  time     ask bid\n",
      "---------------------\n",
      "aapl 09:30:01 101 98 \n",
      "aapl 09:30:02 103 99 \n",
      "aapl 09:30:03 103 102\n",
      "aapl 09:30:04 104 103\n",
      "aapl 09:30:05 104 103\n",
      "aapl 09:30:08 103 100\n",
      "aapl 09:30:09 102 100\n",
      "aapl 09:30:10 100 99 \n"
     ]
    }
   ],
   "source": [
    "show t:([]sym:3#`aapl;time:09:30:01 09:30:04 09:30:08;price:100 103 101)\n",
    "show q:([] sym:8#`aapl;\n",
    "    time:09:30:01+(til 5),7 8 9;\n",
    "    ask:101 103 103 104 104 103 102 100;\n",
    "    bid:98 99 102 103 103 100 100 99)"
   ]
  },
  {
   "cell_type": "markdown",
   "metadata": {},
   "source": [
    "We construct fixed-width windows of 2 seconds before and one second after each trade time. (There is no requirement that the windows be of uniform width.)"
   ]
  },
  {
   "cell_type": "code",
   "execution_count": 103,
   "metadata": {
    "ExecuteTime": {
     "end_time": "2020-11-25T01:29:51.120443000Z",
     "start_time": "2020-11-25T01:29:51.118Z"
    }
   },
   "outputs": [
    {
     "data": {
      "text/plain": [
       "09:29:59 09:30:02 09:30:06\n",
       "09:30:02 09:30:05 09:30:09\n"
      ]
     },
     "execution_count": 103,
     "metadata": {},
     "output_type": "execute_result"
    }
   ],
   "source": [
    "w:-2 1+\\:t `time\n",
    "w"
   ]
  },
  {
   "cell_type": "markdown",
   "metadata": {},
   "source": [
    "For readability we place the names of the sym and time columns in a variable."
   ]
  },
  {
   "cell_type": "code",
   "execution_count": 108,
   "metadata": {
    "ExecuteTime": {
     "end_time": "2020-11-25T01:32:23.495043000Z",
     "start_time": "2020-11-25T01:32:23.493Z"
    }
   },
   "outputs": [],
   "source": [
    "c:`sym`time"
   ]
  },
  {
   "cell_type": "code",
   "execution_count": 109,
   "metadata": {
    "ExecuteTime": {
     "end_time": "2020-11-25T01:36:00.880083000Z",
     "start_time": "2020-11-25T01:36:00.878Z"
    }
   },
   "outputs": [
    {
     "data": {
      "text/plain": [
       "sym  time     price ask             bid           \n",
       "--------------------------------------------------\n",
       "aapl 09:30:01 100   101 103         98 99         \n",
       "aapl 09:30:04 103   103 103 104 104 99 102 103 103\n",
       "aapl 09:30:08 101   104 103 102     103 100 100   \n"
      ]
     },
     "execution_count": 109,
     "metadata": {},
     "output_type": "execute_result"
    }
   ],
   "source": [
    "wj[w;c;t;(q;(::;`ask);(::;`bid))]"
   ]
  },
  {
   "cell_type": "markdown",
   "metadata": {},
   "source": [
    "Now we apply `wj` with actual aggregates for the maximum ask and minimum bid over each window. Here you see the results of the aggregate functions run within each window."
   ]
  },
  {
   "cell_type": "code",
   "execution_count": 110,
   "metadata": {
    "ExecuteTime": {
     "end_time": "2020-11-25T01:38:50.965486000Z",
     "start_time": "2020-11-25T01:38:50.962Z"
    }
   },
   "outputs": [
    {
     "data": {
      "text/plain": [
       "sym  time     price ask bid\n",
       "---------------------------\n",
       "aapl 09:30:01 100   103 98 \n",
       "aapl 09:30:04 103   104 99 \n",
       "aapl 09:30:08 101   104 100\n"
      ]
     },
     "execution_count": 110,
     "metadata": {},
     "output_type": "execute_result"
    }
   ],
   "source": [
    "wj[w;c;t;(q;(max;`ask);(min;`bid))]"
   ]
  },
  {
   "cell_type": "markdown",
   "metadata": {},
   "source": [
    "As opposed to the aggregates being run over only the quote values within each window, you can also include the quotes that are current at the beginning of the window. This matters if there is no quote precisely at the beginning time of the window. For this case use `wj1`, whose syntax is identical to `wj`"
   ]
  },
  {
   "cell_type": "code",
   "execution_count": 111,
   "metadata": {
    "ExecuteTime": {
     "end_time": "2020-11-25T01:40:30.610738000Z",
     "start_time": "2020-11-25T01:40:30.608Z"
    }
   },
   "outputs": [
    {
     "data": {
      "text/plain": [
       "sym  time     price ask             bid           \n",
       "--------------------------------------------------\n",
       "aapl 09:30:01 100   101 103         98 99         \n",
       "aapl 09:30:04 103   103 103 104 104 99 102 103 103\n",
       "aapl 09:30:08 101   103 102         100 100       \n"
      ]
     },
     "execution_count": 111,
     "metadata": {},
     "output_type": "execute_result"
    }
   ],
   "source": [
    "wj1[w;c;t;(q;(::;`ask);(::;`bid))]"
   ]
  },
  {
   "cell_type": "markdown",
   "metadata": {},
   "source": [
    "## Parameterized Queries"
   ]
  },
  {
   "cell_type": "code",
   "execution_count": 113,
   "metadata": {
    "ExecuteTime": {
     "end_time": "2020-11-25T01:50:49.962502000Z",
     "start_time": "2020-11-25T01:50:49.960Z"
    }
   },
   "outputs": [
    {
     "data": {
      "text/plain": [
       "c1 c2 c3 \n",
       "---------\n",
       "b  20 2.2\n",
       "c  30 3.3\n"
      ]
     },
     "execution_count": 113,
     "metadata": {},
     "output_type": "execute_result"
    },
    {
     "data": {
      "text/plain": [
       "c1 c2 c3 \n",
       "---------\n",
       "b  20 2.2\n",
       "c  30 3.3\n"
      ]
     },
     "execution_count": 113,
     "metadata": {},
     "output_type": "execute_result"
    }
   ],
   "source": [
    "t:([] c1:`a`b`c; c2:10 20 30; c3:1.1 2.2 3.3)\n",
    "select from t where c2>15\n",
    "proc:{[sc] select from t where c2>sc}\n",
    "proc 15"
   ]
  },
  {
   "cell_type": "code",
   "execution_count": 114,
   "metadata": {
    "ExecuteTime": {
     "end_time": "2020-11-25T01:51:07.631318000Z",
     "start_time": "2020-11-25T01:51:07.628Z"
    }
   },
   "outputs": [
    {
     "data": {
      "text/plain": [
       "c1 c2 c3 \n",
       "---------\n",
       "c  30 3.3\n"
      ]
     },
     "execution_count": 114,
     "metadata": {},
     "output_type": "execute_result"
    }
   ],
   "source": [
    "proc2:{[nms;sc] select from t where c1 in nms, c2>sc}\n",
    "proc2[`a`c; 15]"
   ]
  },
  {
   "cell_type": "markdown",
   "metadata": {},
   "source": [
    "You **can** pass a table as a parameter to a template, either by value or by name."
   ]
  },
  {
   "cell_type": "code",
   "execution_count": 115,
   "metadata": {
    "ExecuteTime": {
     "end_time": "2020-11-25T01:57:03.981324000Z",
     "start_time": "2020-11-25T01:57:03.979Z"
    }
   },
   "outputs": [
    {
     "data": {
      "text/plain": [
       "c1 c2  c3 \n",
       "----------\n",
       "a  110 1.1\n",
       "b  20  2.2\n",
       "c  130 3.3\n"
      ]
     },
     "execution_count": 115,
     "metadata": {},
     "output_type": "execute_result"
    }
   ],
   "source": [
    "t:([] c1:`a`b`c; c2:10 20 30; c3:1.1 2.2 3.3)\n",
    "proc3:{[t;nms;delta] update c2+delta from t where c1 in nms}\n",
    "proc3[t;`a`c;100]"
   ]
  },
  {
   "cell_type": "markdown",
   "metadata": {},
   "source": [
    "There is no need to restrict stored procs in q to the templates. Any expression that operates on tables can serve."
   ]
  },
  {
   "cell_type": "code",
   "execution_count": 116,
   "metadata": {
    "ExecuteTime": {
     "end_time": "2020-11-25T02:03:05.093980000Z",
     "start_time": "2020-11-25T02:03:05.091Z"
    }
   },
   "outputs": [
    {
     "data": {
      "text/plain": [
       "c1 c2\n",
       "-----\n",
       "a  10\n",
       "b  20\n",
       "c  30\n"
      ]
     },
     "execution_count": 116,
     "metadata": {},
     "output_type": "execute_result"
    }
   ],
   "source": [
    "t:([] c1:`a`b`c; c2:10 20 30; c3:1.1 2.2 3.3)\n",
    "procf:{[cs] cs#t}\n",
    "procf `c1`c2"
   ]
  },
  {
   "cell_type": "markdown",
   "metadata": {},
   "source": [
    "## Views\n",
    "\n",
    "A q-sql view is a named table expression created as an alias with the double-colon operator `::`. It is common to use the templates in views but this is not a limitation.\n",
    "\n",
    "In the following example, contrast `u`, which is a q variable that is assigned the result of a query, to the view (alias) `v` that is the query expression itself."
   ]
  },
  {
   "cell_type": "code",
   "execution_count": 118,
   "metadata": {
    "ExecuteTime": {
     "end_time": "2020-11-25T02:07:48.520744000Z",
     "start_time": "2020-11-25T02:07:48.518Z"
    }
   },
   "outputs": [
    {
     "data": {
      "text/plain": [
       "c1 c2\n",
       "-----\n",
       "b  20\n",
       "c  30\n"
      ]
     },
     "execution_count": 118,
     "metadata": {},
     "output_type": "execute_result"
    }
   ],
   "source": [
    "t:([] c1:`a`b`c; c2:10 20 30)\n",
    "u:select from t where c2>15\n",
    "v::select from t where c2>15\n",
    "u"
   ]
  },
  {
   "cell_type": "code",
   "execution_count": 119,
   "metadata": {
    "ExecuteTime": {
     "end_time": "2020-11-25T02:07:49.935930000Z",
     "start_time": "2020-11-25T02:07:49.932Z"
    }
   },
   "outputs": [
    {
     "data": {
      "text/plain": [
       "c1 c2\n",
       "-----\n",
       "b  20\n",
       "c  30\n"
      ]
     },
     "execution_count": 119,
     "metadata": {},
     "output_type": "execute_result"
    }
   ],
   "source": [
    "v"
   ]
  },
  {
   "cell_type": "code",
   "execution_count": 120,
   "metadata": {
    "ExecuteTime": {
     "end_time": "2020-11-25T02:07:59.335623000Z",
     "start_time": "2020-11-25T02:07:59.330Z"
    }
   },
   "outputs": [
    {
     "data": {
      "text/plain": [
       "`t\n"
      ]
     },
     "execution_count": 120,
     "metadata": {},
     "output_type": "execute_result"
    },
    {
     "data": {
      "text/plain": [
       "c1 c2\n",
       "-----\n",
       "b  20\n",
       "c  30\n"
      ]
     },
     "execution_count": 120,
     "metadata": {},
     "output_type": "execute_result"
    }
   ],
   "source": [
    "update c2:15 from `t where c1=`b\n",
    "u"
   ]
  },
  {
   "cell_type": "code",
   "execution_count": 121,
   "metadata": {
    "ExecuteTime": {
     "end_time": "2020-11-25T02:08:01.109398000Z",
     "start_time": "2020-11-25T02:08:01.106Z"
    }
   },
   "outputs": [
    {
     "data": {
      "text/plain": [
       "c1 c2\n",
       "-----\n",
       "c  30\n"
      ]
     },
     "execution_count": 121,
     "metadata": {},
     "output_type": "execute_result"
    }
   ],
   "source": [
    "v"
   ]
  },
  {
   "cell_type": "markdown",
   "metadata": {},
   "source": [
    "To find the underlying query of a `view`, or any alias, apply the function view to the symbol alias name."
   ]
  },
  {
   "cell_type": "code",
   "execution_count": 123,
   "metadata": {
    "ExecuteTime": {
     "end_time": "2020-11-25T02:08:40.377881000Z",
     "start_time": "2020-11-25T02:08:40.375Z"
    }
   },
   "outputs": [
    {
     "data": {
      "text/plain": [
       "\"select from t where c2>15\"\n"
      ]
     },
     "execution_count": 123,
     "metadata": {},
     "output_type": "execute_result"
    },
    {
     "data": {
      "text/plain": [
       ",\"a\"\n"
      ]
     },
     "execution_count": 123,
     "metadata": {},
     "output_type": "execute_result"
    }
   ],
   "source": [
    "view `v\n",
    "a:42\n",
    "b::a\n",
    "view `b"
   ]
  },
  {
   "cell_type": "markdown",
   "metadata": {},
   "source": [
    "To list all the views in a namespace, use the function `views` with the context name. For example, to list the views in the root,"
   ]
  },
  {
   "cell_type": "code",
   "execution_count": 125,
   "metadata": {
    "ExecuteTime": {
     "end_time": "2020-11-25T02:08:58.384876000Z",
     "start_time": "2020-11-25T02:08:58.383Z"
    }
   },
   "outputs": [
    {
     "data": {
      "text/plain": [
       "`b`v\n"
      ]
     },
     "execution_count": 125,
     "metadata": {},
     "output_type": "execute_result"
    }
   ],
   "source": [
    "views `."
   ]
  },
  {
   "cell_type": "markdown",
   "metadata": {},
   "source": [
    "## Functional Forms\n",
    "\n",
    "The function `parse` can be applied to a string containing a template query to produce a parse tree whose items (nearly) work in the equivalent functional form. A complication is that the operators are displayed in k form instead of q.\n",
    "\n",
    "**Tip**\n",
    "We recommend writing table operations in fundamental or template form unless you anticipate needing to parameterize column names. The folks who assume your code will thank you."
   ]
  },
  {
   "cell_type": "markdown",
   "metadata": {},
   "source": [
    "Two functional forms:\n",
    "1. `select` and `exec`: ?[t;c;b;a] \n",
    "2. `update` and `delete`: ![t;c;b;a] \n",
    "\n",
    "\n",
    "- `t` is a table or the name of a table\n",
    "- `a` is a dictioanry of aggregates\n",
    "- `b` is a dictionary of groupbys or a flag controlling other aspects of the query\n",
    "- `c` is a list of constraints\n",
    "\n",
    "The expressions in `a`, `b` and `c` can involve columns of `t` and also any variables that are in scope. The rules for expression interpretation are:\n",
    "1. Columns are always represented by their symbolic names\n",
    "2. Consequently, any literal symbols, or lists of symbols, appearing in the expressions must be distinguished. This is done by enlisting them. Really."
   ]
  },
  {
   "cell_type": "code",
   "execution_count": 126,
   "metadata": {
    "ExecuteTime": {
     "end_time": "2020-11-25T03:55:21.993000000Z",
     "start_time": "2020-11-25T03:55:21.990Z"
    }
   },
   "outputs": [],
   "source": [
    "t:([] c1:`a`b`a`c`a`b`c; c2:10*1+til 7; c3:1.1*1+til 7)\n",
    "ft:{([] c1:`a`b`a`c`a`b`c; c2:10*1+til 7; c3:1.1*1+til 7)}"
   ]
  },
  {
   "cell_type": "markdown",
   "metadata": {},
   "source": [
    "### Functional select"
   ]
  },
  {
   "cell_type": "code",
   "execution_count": 128,
   "metadata": {
    "ExecuteTime": {
     "end_time": "2020-11-25T03:55:57.280509000Z",
     "start_time": "2020-11-25T03:55:57.276Z"
    }
   },
   "outputs": [
    {
     "data": {
      "text/plain": [
       "c1 c2 c3 \n",
       "---------\n",
       "a  10 1.1\n",
       "b  20 2.2\n",
       "a  30 3.3\n",
       "c  40 4.4\n",
       "a  50 5.5\n",
       "b  60 6.6\n",
       "c  70 7.7\n"
      ]
     },
     "execution_count": 128,
     "metadata": {},
     "output_type": "execute_result"
    },
    {
     "data": {
      "text/plain": [
       "1b\n"
      ]
     },
     "execution_count": 128,
     "metadata": {},
     "output_type": "execute_result"
    }
   ],
   "source": [
    "select from t\n",
    "?[t;();0b;()] ~ t"
   ]
  },
  {
   "cell_type": "markdown",
   "metadata": {},
   "source": [
    "In this degenerate functional form,\n",
    "\n",
    "- The constraint parameter is the empty list\n",
    "- The by parameter is the special value `0b` indicating there is no grouping in a select query\n",
    "- The aggregate parameter takes the special value of the general empty list, indicating there is no aggregate phrase"
   ]
  },
  {
   "cell_type": "markdown",
   "metadata": {},
   "source": [
    "### Functional `exec`\n",
    "### Functional `update`\n",
    "### Functional `delete`"
   ]
  },
  {
   "cell_type": "markdown",
   "metadata": {},
   "source": [
    "## Examples"
   ]
  },
  {
   "cell_type": "markdown",
   "metadata": {},
   "source": [
    "### The trades Table"
   ]
  },
  {
   "cell_type": "code",
   "execution_count": 2,
   "metadata": {
    "ExecuteTime": {
     "end_time": "2020-11-25T11:39:25.093795000Z",
     "start_time": "2020-11-25T11:39:23.185Z"
    }
   },
   "outputs": [],
   "source": [
    "mktrades:{[tickers; sz]\n",
    "  dt:2015.01.01+sz?31;\n",
    "  tm:sz?24:00:00.000;\n",
    "  sym:sz?tickers;\n",
    "  qty:10*1+sz?1000;\n",
    "  px:90.0+(sz?2001)%100;\n",
    "  t:([] dt; tm; sym; qty; px);\n",
    "  t:`dt`tm xasc t;\n",
    "  t:update px:6*px from t where sym=`goog;\n",
    "  t:update px:2*px from t where sym=`ibm;\n",
    "  t}\n",
    "trades:mktrades[`aapl`goog`ibm; 10000000]"
   ]
  },
  {
   "cell_type": "markdown",
   "metadata": {},
   "source": [
    "### The instrument Table"
   ]
  },
  {
   "cell_type": "code",
   "execution_count": 3,
   "metadata": {
    "ExecuteTime": {
     "end_time": "2020-11-25T11:39:25.096328000Z",
     "start_time": "2020-11-25T11:39:23.755Z"
    }
   },
   "outputs": [
    {
     "data": {
      "text/plain": [
       "`instr\n"
      ]
     },
     "execution_count": 3,
     "metadata": {},
     "output_type": "execute_result"
    },
    {
     "data": {
      "text/plain": [
       "`instr\n"
      ]
     },
     "execution_count": 3,
     "metadata": {},
     "output_type": "execute_result"
    },
    {
     "data": {
      "text/plain": [
       "`instr\n"
      ]
     },
     "execution_count": 3,
     "metadata": {},
     "output_type": "execute_result"
    },
    {
     "data": {
      "text/plain": [
       "`instr\n"
      ]
     },
     "execution_count": 3,
     "metadata": {},
     "output_type": "execute_result"
    },
    {
     "data": {
      "text/plain": [
       "sym | name                            industry         \n",
       "----| -------------------------------------------------\n",
       "ibm | International Business Machines Computer Services\n",
       "msft| Microsoft                       Software         \n",
       "goog| Google                          Search           \n",
       "aapl| Apple                           Electronics      \n"
      ]
     },
     "execution_count": 3,
     "metadata": {},
     "output_type": "execute_result"
    }
   ],
   "source": [
    "instr:([sym:`symbol$()] name:`symbol$(); industry:`symbol$())\n",
    "`instr upsert (`ibm; `$\"International Business Machines\"; `$\"Computer Services\")\n",
    "`instr upsert (`msft; `$\"Microsoft\"; `$\"Software\")\n",
    "`instr upsert (`goog; `$\"Google\"; `$\"Search\")\n",
    "`instr upsert (`aapl; `$\"Apple\"; `$\"Electronics\")\n",
    "instr"
   ]
  },
  {
   "cell_type": "code",
   "execution_count": 4,
   "metadata": {
    "ExecuteTime": {
     "end_time": "2020-11-25T11:39:25.113126000Z",
     "start_time": "2020-11-25T11:39:23.822Z"
    }
   },
   "outputs": [
    {
     "data": {
      "text/plain": [
       "`trades\n"
      ]
     },
     "execution_count": 4,
     "metadata": {},
     "output_type": "execute_result"
    },
    {
     "data": {
      "text/plain": [
       "c  | t f     a\n",
       "---| ---------\n",
       "dt | d       s\n",
       "tm | t        \n",
       "sym| s instr  \n",
       "qty| j        \n",
       "px | f        \n"
      ]
     },
     "execution_count": 4,
     "metadata": {},
     "output_type": "execute_result"
    }
   ],
   "source": [
    "update `instr$sym from `trades\n",
    "meta trades"
   ]
  },
  {
   "cell_type": "markdown",
   "metadata": {},
   "source": [
    "### Basic Queries"
   ]
  },
  {
   "cell_type": "code",
   "execution_count": 5,
   "metadata": {
    "ExecuteTime": {
     "end_time": "2020-11-25T11:39:25.125676000Z",
     "start_time": "2020-11-25T11:39:23.926Z"
    }
   },
   "outputs": [
    {
     "data": {
      "text/plain": [
       "10000000\n"
      ]
     },
     "execution_count": 5,
     "metadata": {},
     "output_type": "execute_result"
    },
    {
     "data": {
      "text/plain": [
       "10000000\n"
      ]
     },
     "execution_count": 5,
     "metadata": {},
     "output_type": "execute_result"
    },
    {
     "data": {
      "text/plain": [
       "10000000\n"
      ]
     },
     "execution_count": 5,
     "metadata": {},
     "output_type": "execute_result"
    },
    {
     "data": {
      "text/plain": [
       "x       \n",
       "--------\n",
       "10000000\n"
      ]
     },
     "execution_count": 5,
     "metadata": {},
     "output_type": "execute_result"
    }
   ],
   "source": [
    "count trades\n",
    "count select from trades\n",
    "exec count i from trades\n",
    "select count i from trades"
   ]
  },
  {
   "cell_type": "code",
   "execution_count": 6,
   "metadata": {
    "ExecuteTime": {
     "end_time": "2020-11-25T11:39:25.149498000Z",
     "start_time": "2020-11-25T11:39:23.984Z"
    }
   },
   "outputs": [
    {
     "data": {
      "text/plain": [
       "3329912\n"
      ]
     },
     "execution_count": 6,
     "metadata": {},
     "output_type": "execute_result"
    }
   ],
   "source": [
    "exec count i from trades where sym=`ibm"
   ]
  },
  {
   "cell_type": "code",
   "execution_count": 7,
   "metadata": {
    "ExecuteTime": {
     "end_time": "2020-11-25T11:39:25.173518000Z",
     "start_time": "2020-11-25T11:39:24.039Z"
    }
   },
   "outputs": [
    {
     "data": {
      "text/plain": [
       "x      \n",
       "-------\n",
       "3329912\n"
      ]
     },
     "execution_count": 7,
     "metadata": {},
     "output_type": "execute_result"
    }
   ],
   "source": [
    "select count i from trades where sym=`ibm"
   ]
  },
  {
   "cell_type": "code",
   "execution_count": 8,
   "metadata": {
    "ExecuteTime": {
     "end_time": "2020-11-25T11:39:25.258484000Z",
     "start_time": "2020-11-25T11:39:24.097Z"
    }
   },
   "outputs": [
    {
     "data": {
      "text/plain": [
       "sym | x      \n",
       "----| -------\n",
       "aapl| 3333508\n",
       "goog| 3336580\n",
       "ibm | 3329912\n"
      ]
     },
     "execution_count": 8,
     "metadata": {},
     "output_type": "execute_result"
    },
    {
     "data": {
      "text/plain": [
       "sym  x      \n",
       "------------\n",
       "aapl 3333508\n",
       "goog 3336580\n",
       "ibm  3329912\n"
      ]
     },
     "execution_count": 8,
     "metadata": {},
     "output_type": "execute_result"
    }
   ],
   "source": [
    "select count i by sym from trades\n",
    "() xkey select count i by sym from trades"
   ]
  },
  {
   "cell_type": "code",
   "execution_count": 9,
   "metadata": {
    "ExecuteTime": {
     "end_time": "2020-11-25T11:39:25.263575000Z",
     "start_time": "2020-11-25T11:39:24.162Z"
    }
   },
   "outputs": [
    {
     "data": {
      "text/plain": [
       "dt         tm           sym  qty  px    \n",
       "----------------------------------------\n",
       "2015.01.15 00:00:00.387 aapl 9890 103.29\n",
       "2015.01.15 00:00:01.362 aapl 4350 97.37 \n",
       "2015.01.15 00:00:01.379 aapl 30   91.12 \n",
       "2015.01.15 00:00:02.428 aapl 5280 99.44 \n",
       "2015.01.15 00:00:03.249 aapl 5280 104.19\n",
       "2015.01.15 00:00:04.608 aapl 2700 100.29\n",
       "2015.01.15 00:00:05.367 aapl 6750 105.07\n",
       "2015.01.15 00:00:06.174 aapl 9550 105.6 \n",
       "2015.01.15 00:00:06.894 aapl 3750 97.4  \n",
       "2015.01.15 00:00:07.479 aapl 5430 108.41\n",
       "2015.01.15 00:00:08.767 aapl 6250 95.99 \n",
       "2015.01.15 00:00:10.044 aapl 790  105.8 \n",
       "2015.01.15 00:00:10.185 aapl 4840 103.47\n",
       "2015.01.15 00:00:11.885 aapl 1790 105   \n",
       "2015.01.15 00:00:12.852 aapl 3310 99.83 \n",
       "2015.01.15 00:00:13.232 aapl 9990 107.02\n",
       "2015.01.15 00:00:13.487 aapl 2360 106.4 \n",
       "2015.01.15 00:00:13.709 aapl 5500 96.49 \n",
       "2015.01.15 00:00:14.523 aapl 830  98.94 \n",
       "2015.01.15 00:00:14.940 aapl 6680 103.58\n",
       "..\n"
      ]
     },
     "execution_count": 9,
     "metadata": {},
     "output_type": "execute_result"
    }
   ],
   "source": [
    "select from trades where dt=2015.01.15,sym=`aapl"
   ]
  },
  {
   "cell_type": "code",
   "execution_count": 10,
   "metadata": {
    "ExecuteTime": {
     "end_time": "2020-11-25T11:39:25.300810000Z",
     "start_time": "2020-11-25T11:39:24.229Z"
    }
   },
   "outputs": [
    {
     "data": {
      "text/plain": [
       "dt         tm           sym  qty  px    \n",
       "----------------------------------------\n",
       "2015.01.01 12:00:00.316 goog 4320 597.66\n",
       "2015.01.01 12:00:00.374 goog 7370 552.66\n",
       "2015.01.01 12:00:03.617 goog 1150 640.02\n",
       "2015.01.01 12:00:04.193 goog 4190 622.8 \n",
       "2015.01.01 12:00:06.546 goog 290  655.2 \n",
       "2015.01.01 12:00:07.248 goog 6650 553.62\n",
       "2015.01.01 12:00:08.245 goog 9780 557.34\n",
       "2015.01.01 12:00:09.378 goog 6900 571.74\n",
       "2015.01.01 12:00:09.515 goog 3920 554.82\n",
       "2015.01.01 12:00:09.600 goog 5740 608.22\n",
       "2015.01.01 12:00:09.750 goog 5530 653.16\n",
       "2015.01.01 12:00:09.756 goog 2900 590.64\n",
       "2015.01.01 12:00:10.203 goog 90   605.22\n",
       "2015.01.01 12:00:10.517 goog 1830 591.78\n",
       "2015.01.01 12:00:11.619 goog 1820 654.06\n",
       "2015.01.01 12:00:12.528 goog 9290 603.96\n",
       "2015.01.01 12:00:12.557 goog 4340 571.68\n",
       "2015.01.01 12:00:12.665 goog 7530 571.32\n",
       "2015.01.01 12:00:13.229 goog 8180 555.6 \n",
       "2015.01.01 12:00:13.383 goog 170  580.92\n",
       "..\n"
      ]
     },
     "execution_count": 10,
     "metadata": {},
     "output_type": "execute_result"
    }
   ],
   "source": [
    "select from trades where sym=`goog, tm within 12:00:00 13:00:00"
   ]
  },
  {
   "cell_type": "code",
   "execution_count": 11,
   "metadata": {
    "ExecuteTime": {
     "end_time": "2020-11-25T11:39:25.336961000Z",
     "start_time": "2020-11-25T11:39:24.297Z"
    }
   },
   "outputs": [
    {
     "data": {
      "text/plain": [
       "dt         tm           sym  qty  px    \n",
       "----------------------------------------\n",
       "2015.01.01 12:00:00.316 goog 4320 597.66\n",
       "2015.01.01 12:00:00.374 goog 7370 552.66\n",
       "2015.01.01 12:00:03.617 goog 1150 640.02\n",
       "2015.01.01 12:00:04.193 goog 4190 622.8 \n",
       "2015.01.01 12:00:06.546 goog 290  655.2 \n",
       "2015.01.01 12:00:07.248 goog 6650 553.62\n",
       "2015.01.01 12:00:08.245 goog 9780 557.34\n",
       "2015.01.01 12:00:09.378 goog 6900 571.74\n",
       "2015.01.01 12:00:09.515 goog 3920 554.82\n",
       "2015.01.01 12:00:09.600 goog 5740 608.22\n",
       "2015.01.01 12:00:09.750 goog 5530 653.16\n",
       "2015.01.01 12:00:09.756 goog 2900 590.64\n",
       "2015.01.01 12:00:10.203 goog 90   605.22\n",
       "2015.01.01 12:00:10.517 goog 1830 591.78\n",
       "2015.01.01 12:00:11.619 goog 1820 654.06\n",
       "2015.01.01 12:00:12.528 goog 9290 603.96\n",
       "2015.01.01 12:00:12.557 goog 4340 571.68\n",
       "2015.01.01 12:00:12.665 goog 7530 571.32\n",
       "2015.01.01 12:00:13.229 goog 8180 555.6 \n",
       "2015.01.01 12:00:13.383 goog 170  580.92\n",
       "..\n"
      ]
     },
     "execution_count": 11,
     "metadata": {},
     "output_type": "execute_result"
    }
   ],
   "source": [
    "noon:12:00:00\n",
    "thirteen00:13:00:00\n",
    "select from trades where sym=`goog, tm within (noon;thirteen00)"
   ]
  },
  {
   "cell_type": "code",
   "execution_count": 12,
   "metadata": {
    "ExecuteTime": {
     "end_time": "2020-11-25T11:39:25.402207000Z",
     "start_time": "2020-11-25T11:39:24.384Z"
    }
   },
   "outputs": [
    {
     "data": {
      "text/plain": [
       "dt        | maxpx\n",
       "----------| -----\n",
       "2015.01.01| 110  \n",
       "2015.01.02| 110  \n",
       "2015.01.03| 110  \n",
       "2015.01.04| 110  \n",
       "2015.01.05| 110  \n",
       "2015.01.06| 110  \n",
       "2015.01.07| 110  \n",
       "2015.01.08| 110  \n",
       "2015.01.09| 110  \n",
       "2015.01.10| 110  \n",
       "2015.01.11| 110  \n",
       "2015.01.12| 110  \n",
       "2015.01.13| 110  \n",
       "2015.01.14| 110  \n",
       "2015.01.15| 110  \n",
       "2015.01.16| 110  \n",
       "2015.01.17| 110  \n",
       "2015.01.18| 110  \n",
       "2015.01.19| 110  \n",
       "2015.01.20| 110  \n",
       "..\n"
      ]
     },
     "execution_count": 12,
     "metadata": {},
     "output_type": "execute_result"
    }
   ],
   "source": [
    "select maxpx:max px by dt from trades where sym=`aapl"
   ]
  },
  {
   "cell_type": "code",
   "execution_count": 13,
   "metadata": {
    "ExecuteTime": {
     "end_time": "2020-11-25T11:39:25.473724000Z",
     "start_time": "2020-11-25T11:39:24.454Z"
    }
   },
   "outputs": [
    {
     "data": {
      "text/plain": [
       "name                           | lo  hi \n",
       "-------------------------------| -------\n",
       "Apple                          | 90  110\n",
       "Google                         | 540 660\n",
       "International Business Machines| 180 220\n"
      ]
     },
     "execution_count": 13,
     "metadata": {},
     "output_type": "execute_result"
    }
   ],
   "source": [
    "select lo:min px, hi:max px by sym.name from trades"
   ]
  },
  {
   "cell_type": "code",
   "execution_count": 14,
   "metadata": {
    "ExecuteTime": {
     "end_time": "2020-11-25T11:39:25.613039000Z",
     "start_time": "2020-11-25T11:39:24.535Z"
    }
   },
   "outputs": [
    {
     "data": {
      "text/plain": [
       "sym | totq        avgq    \n",
       "----| --------------------\n",
       "goog| 16703515390 5006.179\n",
       "ibm | 16667961470 5005.526\n"
      ]
     },
     "execution_count": 14,
     "metadata": {},
     "output_type": "execute_result"
    }
   ],
   "source": [
    "select totq:sum qty, avgq:avg qty by sym from trades where sym in `ibm`goog"
   ]
  },
  {
   "cell_type": "code",
   "execution_count": 15,
   "metadata": {
    "ExecuteTime": {
     "end_time": "2020-11-25T11:39:25.797105000Z",
     "start_time": "2020-11-25T11:39:24.618Z"
    }
   },
   "outputs": [
    {
     "data": {
      "text/plain": [
       "dt         minute| hi     lo     open   close \n",
       "-----------------| ---------------------------\n",
       "2015.01.01 00:00 | 658.98 540.72 610.98 561.66\n",
       "2015.01.01 00:01 | 659.4  542.82 594.24 595.86\n",
       "2015.01.01 00:02 | 652.5  540    625.26 583.5 \n",
       "2015.01.01 00:03 | 659.64 540.6  650.76 620.88\n",
       "2015.01.01 00:04 | 659.16 543.48 648.12 649.86\n",
       "2015.01.01 00:05 | 657.24 540.48 594.96 639.54\n",
       "2015.01.01 00:06 | 658.74 540    603.18 563.16\n",
       "2015.01.01 00:07 | 659.46 540.36 598.02 573.12\n",
       "2015.01.01 00:08 | 659.7  541.5  566.52 599.34\n",
       "2015.01.01 00:09 | 658.44 541.14 643.62 639.54\n",
       "2015.01.01 00:10 | 658.74 540.54 608.4  569.76\n",
       "2015.01.01 00:11 | 659.22 542.58 570.24 544.92\n",
       "2015.01.01 00:12 | 658.8  541.32 612.06 551.46\n",
       "2015.01.01 00:13 | 659.7  542.7  595.62 637.26\n",
       "2015.01.01 00:14 | 657.9  540    613.86 590.4 \n",
       "2015.01.01 00:15 | 659.22 540.3  579.6  625.98\n",
       "2015.01.01 00:16 | 658.74 540.48 545.1  577.2 \n",
       "2015.01.01 00:17 | 652.68 541.44 644.58 647.52\n",
       "2015.01.01 00:18 | 658.02 541.5  557.58 647.46\n",
       "2015.01.01 00:19 | 654.84 540    546.42 540   \n",
       "..\n"
      ]
     },
     "execution_count": 15,
     "metadata": {},
     "output_type": "execute_result"
    }
   ],
   "source": [
    "select hi:max px,lo:min px,open:first px, close:last px by dt,tm.minute from trades where sym=`goog"
   ]
  },
  {
   "cell_type": "code",
   "execution_count": 16,
   "metadata": {
    "ExecuteTime": {
     "end_time": "2020-11-25T11:39:25.901177000Z",
     "start_time": "2020-11-25T11:39:24.695Z"
    }
   },
   "outputs": [
    {
     "data": {
      "text/plain": [
       "sym | favgpx  \n",
       "----| --------\n",
       "aapl| 50.00125\n",
       "goog| 300.0098\n",
       "ibm | 100.0079\n"
      ]
     },
     "execution_count": 16,
     "metadata": {},
     "output_type": "execute_result"
    }
   ],
   "source": [
    "favg:{(sum x*1+til ctx)%ctx*ctx:count x}\n",
    "select favgpx:favg px by sym from trades"
   ]
  },
  {
   "cell_type": "markdown",
   "metadata": {},
   "source": [
    "### Meaty Queries"
   ]
  },
  {
   "cell_type": "code",
   "execution_count": 17,
   "metadata": {
    "ExecuteTime": {
     "end_time": "2020-11-25T11:39:27.694884000Z",
     "start_time": "2020-11-25T11:39:24.808Z"
    }
   },
   "outputs": [
    {
     "data": {
      "text/plain": [
       "dt        | vwap    \n",
       "----------| --------\n",
       "2015.01.01| 200.0045\n",
       "2015.01.02| 199.9817\n",
       "2015.01.03| 200.0193\n",
       "2015.01.04| 199.9379\n",
       "2015.01.05| 199.9636\n",
       "2015.01.06| 200.0109\n",
       "2015.01.07| 199.9824\n",
       "2015.01.08| 200.0055\n",
       "2015.01.09| 199.951 \n",
       "2015.01.10| 199.985 \n",
       "2015.01.11| 200.0282\n",
       "2015.01.12| 200.0326\n",
       "2015.01.13| 200.0374\n",
       "2015.01.14| 200.0502\n",
       "2015.01.15| 200.0283\n",
       "2015.01.16| 200.0439\n",
       "2015.01.17| 199.9993\n",
       "2015.01.18| 199.9977\n",
       "2015.01.19| 200.0171\n",
       "2015.01.20| 199.9833\n",
       "..\n"
      ]
     },
     "execution_count": 17,
     "metadata": {},
     "output_type": "execute_result"
    },
    {
     "data": {
      "text/plain": [
       "dt         tm          | vwap    \n",
       "-----------------------| --------\n",
       "2015.01.01 00:00:02.600| 196.92  \n",
       "2015.01.01 00:00:04.000| 206.14  \n",
       "2015.01.01 00:00:04.400| 202.38  \n",
       "2015.01.01 00:00:04.500| 216.04  \n",
       "2015.01.01 00:00:08.100| 183.56  \n",
       "2015.01.01 00:00:08.600| 210.06  \n",
       "2015.01.01 00:00:10.000| 209     \n",
       "2015.01.01 00:00:11.100| 193.6189\n",
       "2015.01.01 00:00:12.000| 182.24  \n",
       "2015.01.01 00:00:12.400| 181.94  \n",
       "2015.01.01 00:00:12.700| 190.52  \n",
       "2015.01.01 00:00:13.900| 199.22  \n",
       "2015.01.01 00:00:14.000| 204.22  \n",
       "2015.01.01 00:00:14.400| 184.42  \n",
       "2015.01.01 00:00:15.400| 207.2981\n",
       "2015.01.01 00:00:16.200| 188.4   \n",
       "2015.01.01 00:00:16.500| 206.68  \n",
       "2015.01.01 00:00:16.900| 200.92  \n",
       "2015.01.01 00:00:21.100| 207.2   \n",
       "2015.01.01 00:00:21.600| 207.94  \n",
       "..\n"
      ]
     },
     "execution_count": 17,
     "metadata": {},
     "output_type": "execute_result"
    }
   ],
   "source": [
    "select vwap:qty wavg px by dt from trades where sym=`ibm\n",
    "select vwap:qty wavg px by dt,100 xbar tm from trades where sym=`ibm"
   ]
  },
  {
   "cell_type": "code",
   "execution_count": 18,
   "metadata": {
    "ExecuteTime": {
     "end_time": "2020-11-25T11:39:27.843121000Z",
     "start_time": "2020-11-25T11:39:24.876Z"
    }
   },
   "outputs": [
    {
     "data": {
      "text/plain": [
       "dt         tm           sym  qty  px \n",
       "-------------------------------------\n",
       "2015.01.01 00:14:26.479 ibm  160  220\n",
       "2015.01.01 00:35:53.760 goog 1610 660\n",
       "2015.01.01 00:36:38.450 aapl 1870 110\n",
       "2015.01.01 00:38:21.081 ibm  4750 220\n",
       "2015.01.01 00:46:37.518 aapl 440  110\n",
       "2015.01.01 01:01:35.843 aapl 5600 110\n",
       "2015.01.01 01:05:57.540 aapl 5040 110\n",
       "2015.01.01 01:10:29.815 aapl 5990 110\n",
       "2015.01.01 01:10:48.108 aapl 3400 110\n",
       "2015.01.01 01:19:04.615 ibm  30   220\n",
       "2015.01.01 01:21:32.478 goog 5420 660\n",
       "2015.01.01 01:24:26.752 ibm  260  220\n",
       "2015.01.01 01:27:04.914 aapl 5040 110\n",
       "2015.01.01 01:35:25.025 ibm  9960 220\n",
       "2015.01.01 01:42:42.543 aapl 2850 110\n",
       "2015.01.01 01:49:51.939 ibm  2670 220\n",
       "2015.01.01 02:31:34.256 ibm  9080 220\n",
       "2015.01.01 02:52:09.795 aapl 8920 110\n",
       "2015.01.01 03:05:29.473 goog 8830 660\n",
       "2015.01.01 03:12:48.100 ibm  5100 220\n",
       "..\n"
      ]
     },
     "execution_count": 18,
     "metadata": {},
     "output_type": "execute_result"
    }
   ],
   "source": [
    "select from trades where px=(max;px) fby sym"
   ]
  },
  {
   "cell_type": "code",
   "execution_count": 19,
   "metadata": {
    "ExecuteTime": {
     "end_time": "2020-11-25T11:39:28.122768000Z",
     "start_time": "2020-11-25T11:39:24.944Z"
    }
   },
   "outputs": [
    {
     "data": {
      "text/plain": [
       "dt         tm           sym  qty  px    \n",
       "----------------------------------------\n",
       "2015.01.01 00:00:01.129 aapl 6410 99.18 \n",
       "2015.01.01 00:00:02.099 aapl 5200 93.82 \n",
       "2015.01.01 00:00:02.670 ibm  6840 196.92\n",
       "2015.01.01 00:00:03.396 aapl 8460 97.14 \n",
       "2015.01.01 00:00:04.096 goog 3320 575.52\n",
       "2015.01.01 00:00:04.772 aapl 3990 90.15 \n",
       "2015.01.01 00:00:05.014 aapl 970  98.43 \n",
       "2015.01.01 00:00:05.263 goog 8990 577.38\n",
       "2015.01.01 00:00:08.103 ibm  5150 183.56\n",
       "2015.01.01 00:00:08.121 goog 4060 568.02\n",
       "2015.01.01 00:00:09.888 goog 2830 540.72\n",
       "2015.01.01 00:00:10.048 aapl 3830 99.15 \n",
       "2015.01.01 00:00:10.683 aapl 4420 92.14 \n",
       "2015.01.01 00:00:10.848 goog 5740 595.86\n",
       "2015.01.01 00:00:10.994 aapl 6180 91.17 \n",
       "2015.01.01 00:00:11.126 ibm  8520 188.3 \n",
       "2015.01.01 00:00:12.051 ibm  6740 182.24\n",
       "2015.01.01 00:00:12.494 ibm  2160 181.94\n",
       "2015.01.01 00:00:12.790 ibm  5330 190.52\n",
       "2015.01.01 00:00:13.978 ibm  7790 199.22\n",
       "..\n"
      ]
     },
     "execution_count": 19,
     "metadata": {},
     "output_type": "execute_result"
    }
   ],
   "source": [
    "select from trades where px<2*(favg;px) fby sym"
   ]
  },
  {
   "cell_type": "code",
   "execution_count": 20,
   "metadata": {
    "ExecuteTime": {
     "end_time": "2020-11-25T11:39:28.319068000Z",
     "start_time": "2020-11-25T11:39:25.009Z"
    }
   },
   "outputs": [
    {
     "name": "stdout",
     "output_type": "stream",
     "text": [
      "sym  dt        | avgqty   avgpx   \n",
      "---------------| -----------------\n",
      "aapl 2015.01.01| 4989.021 99.97649\n",
      "aapl 2015.01.02| 5004.019 100.0455\n",
      "aapl 2015.01.03| 5011.448 99.99385\n",
      "aapl 2015.01.04| 5002.787 99.9908 \n",
      "aapl 2015.01.05| 5000.981 100.0157\n",
      "aapl 2015.01.06| 5004.591 100.0176\n",
      "aapl 2015.01.07| 4995.854 100.0034\n",
      "aapl 2015.01.08| 5015.4   99.9729 \n",
      "aapl 2015.01.09| 5001.951 99.98638\n",
      "aapl 2015.01.10| 5006.982 99.95917\n",
      "aapl 2015.01.11| 5024.328 99.97282\n",
      "aapl 2015.01.12| 5004.368 100.0091\n",
      "aapl 2015.01.13| 5008.056 100.019 \n",
      "aapl 2015.01.14| 4995.221 100.0486\n",
      "aapl 2015.01.15| 5016.942 99.99451\n",
      "aapl 2015.01.16| 5015.834 100.0232\n",
      "aapl 2015.01.17| 5001.7   99.96238\n",
      "aapl 2015.01.18| 5005.672 99.99492\n",
      "aapl 2015.01.19| 4998.789 100.0035\n",
      "aapl 2015.01.20| 5007.235 100.0249\n",
      "..\n"
     ]
    }
   ],
   "source": [
    "show atrades:select avgqty:avg qty, avgpx:avg px by sym, dt from trades"
   ]
  },
  {
   "cell_type": "code",
   "execution_count": 21,
   "metadata": {
    "ExecuteTime": {
     "end_time": "2020-11-25T11:39:28.321710000Z",
     "start_time": "2020-11-25T11:39:25.081Z"
    }
   },
   "outputs": [
    {
     "data": {
      "text/plain": [
       "sym | dt                                                                     ..\n",
       "----| -----------------------------------------------------------------------..\n",
       "aapl| 2015.01.02 2015.01.05 2015.01.06 2015.01.09 2015.01.11 2015.01.12 2015...\n",
       "goog| 2015.01.01 2015.01.04 2015.01.06 2015.01.08 2015.01.10 2015.01.12 2015...\n",
       "ibm | 2015.01.02 2015.01.03 2015.01.05 2015.01.06 2015.01.08 2015.01.10 2015...\n"
      ]
     },
     "execution_count": 21,
     "metadata": {},
     "output_type": "execute_result"
    }
   ],
   "source": [
    "deltas0:{first[x] -': x}\n",
    "select dt, avgpx by sym from atrades where 0<deltas0 avgpx"
   ]
  },
  {
   "cell_type": "code",
   "execution_count": 22,
   "metadata": {
    "ExecuteTime": {
     "end_time": "2020-11-25T11:39:28.323790000Z",
     "start_time": "2020-11-25T11:39:25.151Z"
    }
   },
   "outputs": [
    {
     "data": {
      "text/plain": [
       "sym | dt                    avgpx            \n",
       "----| ---------------------------------------\n",
       "aapl| 2015.01.02 2015.01.05 100.0455 100.0157\n",
       "goog| 2015.01.01 2015.01.04 599.9548 599.9773\n",
       "ibm | 2015.01.02 2015.01.03 199.9966 200.043 \n"
      ]
     },
     "execution_count": 22,
     "metadata": {},
     "output_type": "execute_result"
    }
   ],
   "source": [
    "select 2#dt, 2#avgpx by sym from atrades where 0<deltas0 avgpx"
   ]
  },
  {
   "cell_type": "code",
   "execution_count": 24,
   "metadata": {
    "ExecuteTime": {
     "end_time": "2020-11-25T12:37:13.419639000Z",
     "start_time": "2020-11-25T12:37:13.299Z"
    }
   },
   "outputs": [
    {
     "data": {
      "text/plain": [
       "sym | dt                                                                     ..\n",
       "----| -----------------------------------------------------------------------..\n",
       "aapl| 2015.01.01 2015.01.01 2015.01.01 2015.01.01 2015.01.01 2015.01.01 2015...\n",
       "goog| 2015.01.01 2015.01.01 2015.01.01 2015.01.01 2015.01.01 2015.01.01 2015...\n",
       "ibm | 2015.01.01 2015.01.01 2015.01.01 2015.01.01 2015.01.01 2015.01.01 2015...\n"
      ]
     },
     "execution_count": 24,
     "metadata": {},
     "output_type": "execute_result"
    }
   ],
   "source": [
    "dntrades:select dt,tm,qty,px by sym from trades\n",
    "dntrades"
   ]
  },
  {
   "cell_type": "code",
   "execution_count": 25,
   "metadata": {
    "ExecuteTime": {
     "end_time": "2020-11-25T12:37:27.838225000Z",
     "start_time": "2020-11-25T12:37:27.615Z"
    }
   },
   "outputs": [
    {
     "data": {
      "text/plain": [
       "1b\n"
      ]
     },
     "execution_count": 25,
     "metadata": {},
     "output_type": "execute_result"
    }
   ],
   "source": [
    "dntrades~`sym xasc `sym xgroup trades"
   ]
  },
  {
   "cell_type": "code",
   "execution_count": 26,
   "metadata": {
    "ExecuteTime": {
     "end_time": "2020-11-25T12:37:46.749437000Z",
     "start_time": "2020-11-25T12:37:46.638Z"
    }
   },
   "outputs": [
    {
     "data": {
      "text/plain": [
       "sym | dt                    tm                        qty       px           \n",
       "----| -----------------------------------------------------------------------\n",
       "aapl| 2015.01.01 2015.01.01 00:00:01.129 00:00:02.099 6410 5200 99.18  93.82 \n",
       "goog| 2015.01.01 2015.01.01 00:00:02.885 00:00:04.096 7400 3320 610.98 575.52\n",
       "ibm | 2015.01.01 2015.01.01 00:00:02.670 00:00:04.047 6840 2220 196.92 206.14\n"
      ]
     },
     "execution_count": 26,
     "metadata": {},
     "output_type": "execute_result"
    }
   ],
   "source": [
    "select 2#dt,2#tm,2#qty,2#px by sym from trades"
   ]
  },
  {
   "cell_type": "code",
   "execution_count": 27,
   "metadata": {
    "ExecuteTime": {
     "end_time": "2020-11-25T12:38:12.164949000Z",
     "start_time": "2020-11-25T12:38:12.157Z"
    }
   },
   "outputs": [
    {
     "data": {
      "text/plain": [
       "sym  cnt     avgpx   \n",
       "---------------------\n",
       "aapl 3333508 100.0015\n",
       "goog 3336580 600.0047\n",
       "ibm  3329912 200.0113\n"
      ]
     },
     "execution_count": 27,
     "metadata": {},
     "output_type": "execute_result"
    }
   ],
   "source": [
    "select sym,cnt:count each dt,avgpx:avg each px from dntrades"
   ]
  },
  {
   "cell_type": "code",
   "execution_count": 28,
   "metadata": {
    "ExecuteTime": {
     "end_time": "2020-11-25T12:38:28.127584000Z",
     "start_time": "2020-11-25T12:38:28.079Z"
    }
   },
   "outputs": [
    {
     "data": {
      "text/plain": [
       "sym  favgpx  \n",
       "-------------\n",
       "aapl 50.00125\n",
       "goog 300.0098\n",
       "ibm  100.0079\n"
      ]
     },
     "execution_count": 28,
     "metadata": {},
     "output_type": "execute_result"
    }
   ],
   "source": [
    "select sym, favgpx:favg each px from dntrades"
   ]
  },
  {
   "cell_type": "markdown",
   "metadata": {},
   "source": [
    "To find the volume-weighted average price by we use the Each iterator `'` with the binary `wavg`."
   ]
  },
  {
   "cell_type": "code",
   "execution_count": 29,
   "metadata": {
    "ExecuteTime": {
     "end_time": "2020-11-25T12:38:46.183417000Z",
     "start_time": "2020-11-25T12:38:46.149Z"
    }
   },
   "outputs": [
    {
     "data": {
      "text/plain": [
       "sym  vwap    \n",
       "-------------\n",
       "aapl 100.0014\n",
       "goog 600.0047\n",
       "ibm  200.0067\n"
      ]
     },
     "execution_count": 29,
     "metadata": {},
     "output_type": "execute_result"
    }
   ],
   "source": [
    "select sym,vwap:qty wavg' px from dntrades"
   ]
  },
  {
   "cell_type": "markdown",
   "metadata": {},
   "source": [
    "### Excursion - Pivot Table"
   ]
  },
  {
   "cell_type": "code",
   "execution_count": 30,
   "metadata": {
    "ExecuteTime": {
     "end_time": "2020-11-25T12:40:06.541186000Z",
     "start_time": "2020-11-25T12:40:06.538Z"
    }
   },
   "outputs": [
    {
     "name": "stdout",
     "output_type": "stream",
     "text": [
      "k p  v  \n",
      "--------\n",
      "1 a1 100\n",
      "2 a2 200\n",
      "3 a1 300\n",
      "2 a3 400\n",
      "3 a2 500\n"
     ]
    }
   ],
   "source": [
    "show t:([]k:1 2 3 2 3; p:`a1`a2`a1`a3`a2; v:100 200 300 400 500)"
   ]
  },
  {
   "cell_type": "code",
   "execution_count": 32,
   "metadata": {
    "ExecuteTime": {
     "end_time": "2020-11-25T12:40:52.246714000Z",
     "start_time": "2020-11-25T12:40:52.243Z"
    }
   },
   "outputs": [
    {
     "data": {
      "text/plain": [
       "1| (,`a1)!,100\n",
       "2| `a2`a3!200 400\n",
       "3| `a1`a2!300 500\n"
      ]
     },
     "execution_count": 32,
     "metadata": {},
     "output_type": "execute_result"
    },
    {
     "data": {
      "text/plain": [
       "k| a1  a2  a3 \n",
       "-| -----------\n",
       "1| 100        \n",
       "2|     200 400\n",
       "3| 300 500    \n"
      ]
     },
     "execution_count": 32,
     "metadata": {},
     "output_type": "execute_result"
    }
   ],
   "source": [
    "P:exec distinct p from t\n",
    "exec p!v by k from t\n",
    "exec P#p!v by k:k from t"
   ]
  },
  {
   "cell_type": "code",
   "execution_count": 33,
   "metadata": {
    "ExecuteTime": {
     "end_time": "2020-11-25T12:41:16.620794000Z",
     "start_time": "2020-11-25T12:41:16.617Z"
    }
   },
   "outputs": [
    {
     "data": {
      "text/plain": [
       "`a1`a2`a3\n"
      ]
     },
     "execution_count": 33,
     "metadata": {},
     "output_type": "execute_result"
    }
   ],
   "source": [
    "P:?[t; (); (); (distinct; `p)]\n",
    "P"
   ]
  },
  {
   "cell_type": "code",
   "execution_count": null,
   "metadata": {},
   "outputs": [],
   "source": []
  }
 ],
 "metadata": {
  "kernelspec": {
   "display_name": "Q (kdb+)",
   "language": "q",
   "name": "qpk"
  },
  "language_info": {
   "file_extension": ".q",
   "mimetype": "text/x-q",
   "name": "q",
   "version": "4.0"
  },
  "toc": {
   "base_numbering": "0",
   "nav_menu": {},
   "number_sections": true,
   "sideBar": true,
   "skip_h1_title": false,
   "title_cell": "Table of Contents",
   "title_sidebar": "Contents",
   "toc_cell": true,
   "toc_position": {},
   "toc_section_display": true,
   "toc_window_display": true
  }
 },
 "nbformat": 4,
 "nbformat_minor": 4
}
