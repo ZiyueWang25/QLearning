{
 "cells": [
  {
   "cell_type": "markdown",
   "metadata": {
    "toc": true
   },
   "source": [
    "<h1>Table of Contents<span class=\"tocSkip\"></span></h1>\n",
    "<div class=\"toc\"><ul class=\"toc-item\"><li><span><a href=\"#Overview\" data-toc-modified-id=\"Overview-0\"><span class=\"toc-item-num\">0&nbsp;&nbsp;</span>Overview</a></span></li><li><span><a href=\"#Integer-Data\" data-toc-modified-id=\"Integer-Data-1\"><span class=\"toc-item-num\">1&nbsp;&nbsp;</span>Integer Data</a></span><ul class=\"toc-item\"><li><span><a href=\"#Long\" data-toc-modified-id=\"Long-1.1\"><span class=\"toc-item-num\">1.1&nbsp;&nbsp;</span>Long</a></span></li><li><span><a href=\"#short-and-int\" data-toc-modified-id=\"short-and-int-1.2\"><span class=\"toc-item-num\">1.2&nbsp;&nbsp;</span>short and int</a></span></li></ul></li><li><span><a href=\"#Floating-Point-Data\" data-toc-modified-id=\"Floating-Point-Data-2\"><span class=\"toc-item-num\">2&nbsp;&nbsp;</span>Floating Point Data</a></span><ul class=\"toc-item\"><li><span><a href=\"#Float\" data-toc-modified-id=\"Float-2.1\"><span class=\"toc-item-num\">2.1&nbsp;&nbsp;</span>Float</a></span></li><li><span><a href=\"#real\" data-toc-modified-id=\"real-2.2\"><span class=\"toc-item-num\">2.2&nbsp;&nbsp;</span>real</a></span></li><li><span><a href=\"#Floating-Point-Display\" data-toc-modified-id=\"Floating-Point-Display-2.3\"><span class=\"toc-item-num\">2.3&nbsp;&nbsp;</span>Floating Point Display</a></span></li></ul></li><li><span><a href=\"#Binary-Data\" data-toc-modified-id=\"Binary-Data-3\"><span class=\"toc-item-num\">3&nbsp;&nbsp;</span>Binary Data</a></span><ul class=\"toc-item\"><li><span><a href=\"#Boolean\" data-toc-modified-id=\"Boolean-3.1\"><span class=\"toc-item-num\">3.1&nbsp;&nbsp;</span>Boolean</a></span></li><li><span><a href=\"#Byte\" data-toc-modified-id=\"Byte-3.2\"><span class=\"toc-item-num\">3.2&nbsp;&nbsp;</span>Byte</a></span></li><li><span><a href=\"#GUID\" data-toc-modified-id=\"GUID-3.3\"><span class=\"toc-item-num\">3.3&nbsp;&nbsp;</span>GUID</a></span></li></ul></li><li><span><a href=\"#Text-Data\" data-toc-modified-id=\"Text-Data-4\"><span class=\"toc-item-num\">4&nbsp;&nbsp;</span>Text Data</a></span><ul class=\"toc-item\"><li><span><a href=\"#char\" data-toc-modified-id=\"char-4.1\"><span class=\"toc-item-num\">4.1&nbsp;&nbsp;</span>char</a></span></li><li><span><a href=\"#symbol\" data-toc-modified-id=\"symbol-4.2\"><span class=\"toc-item-num\">4.2&nbsp;&nbsp;</span>symbol</a></span></li></ul></li><li><span><a href=\"#Temporal-Data\" data-toc-modified-id=\"Temporal-Data-5\"><span class=\"toc-item-num\">5&nbsp;&nbsp;</span>Temporal Data</a></span><ul class=\"toc-item\"><li><span><a href=\"#date\" data-toc-modified-id=\"date-5.1\"><span class=\"toc-item-num\">5.1&nbsp;&nbsp;</span>date</a></span></li><li><span><a href=\"#Time-Types\" data-toc-modified-id=\"Time-Types-5.2\"><span class=\"toc-item-num\">5.2&nbsp;&nbsp;</span>Time Types</a></span></li><li><span><a href=\"#Date-time-types\" data-toc-modified-id=\"Date-time-types-5.3\"><span class=\"toc-item-num\">5.3&nbsp;&nbsp;</span>Date-time types</a></span></li><li><span><a href=\"#Month\" data-toc-modified-id=\"Month-5.4\"><span class=\"toc-item-num\">5.4&nbsp;&nbsp;</span>Month</a></span></li><li><span><a href=\"#Minute\" data-toc-modified-id=\"Minute-5.5\"><span class=\"toc-item-num\">5.5&nbsp;&nbsp;</span>Minute</a></span></li><li><span><a href=\"#second\" data-toc-modified-id=\"second-5.6\"><span class=\"toc-item-num\">5.6&nbsp;&nbsp;</span>second</a></span></li><li><span><a href=\"#Constituents-and-Dot-Notation\" data-toc-modified-id=\"Constituents-and-Dot-Notation-5.7\"><span class=\"toc-item-num\">5.7&nbsp;&nbsp;</span>Constituents and Dot Notation</a></span></li></ul></li><li><span><a href=\"#Arithmetic-Infinities-and-Nulls\" data-toc-modified-id=\"Arithmetic-Infinities-and-Nulls-6\"><span class=\"toc-item-num\">6&nbsp;&nbsp;</span>Arithmetic Infinities and Nulls</a></span></li><li><span><a href=\"#Nulls\" data-toc-modified-id=\"Nulls-7\"><span class=\"toc-item-num\">7&nbsp;&nbsp;</span>Nulls</a></span><ul class=\"toc-item\"><li><span><a href=\"#Binary-Nulls\" data-toc-modified-id=\"Binary-Nulls-7.1\"><span class=\"toc-item-num\">7.1&nbsp;&nbsp;</span>Binary Nulls</a></span></li><li><span><a href=\"#Numeric-and-Temporal-Nulls\" data-toc-modified-id=\"Numeric-and-Temporal-Nulls-7.2\"><span class=\"toc-item-num\">7.2&nbsp;&nbsp;</span>Numeric and Temporal Nulls</a></span></li><li><span><a href=\"#Text-Nulls\" data-toc-modified-id=\"Text-Nulls-7.3\"><span class=\"toc-item-num\">7.3&nbsp;&nbsp;</span>Text Nulls</a></span></li><li><span><a href=\"#Testing-for-Null\" data-toc-modified-id=\"Testing-for-Null-7.4\"><span class=\"toc-item-num\">7.4&nbsp;&nbsp;</span>Testing for Null</a></span></li></ul></li></ul></div>"
   ]
  },
  {
   "cell_type": "markdown",
   "metadata": {},
   "source": [
    "## Overview"
   ]
  },
  {
   "cell_type": "markdown",
   "metadata": {},
   "source": [
    "![](../data/pic/dataType.png)"
   ]
  },
  {
   "cell_type": "markdown",
   "metadata": {},
   "source": [
    "## Integer Data"
   ]
  },
  {
   "cell_type": "markdown",
   "metadata": {},
   "source": [
    "### Long\n",
    "- the basic integer type is a _signed eight-byte integer_, called _long_\n",
    "- A literal is identified as a long by the fact that it contains only numeric digits, with an optional leading minus sign, and no decimal point. \n",
    "- It may also have an optional **trailing type indicator j** indicating it is a long and not another integer type. Here is a typical long integer value."
   ]
  },
  {
   "cell_type": "code",
   "execution_count": 1,
   "metadata": {
    "ExecuteTime": {
     "end_time": "2020-11-16T18:12:05.948262000Z",
     "start_time": "2020-11-16T18:12:04.924Z"
    }
   },
   "outputs": [
    {
     "data": {
      "text/plain": [
       "42\n"
      ]
     },
     "execution_count": 1,
     "metadata": {},
     "output_type": "execute_result"
    }
   ],
   "source": [
    "42"
   ]
  },
  {
   "cell_type": "code",
   "execution_count": 2,
   "metadata": {
    "ExecuteTime": {
     "end_time": "2020-11-16T18:12:05.949736000Z",
     "start_time": "2020-11-16T18:12:04.932Z"
    }
   },
   "outputs": [
    {
     "data": {
      "text/plain": [
       "42\n"
      ]
     },
     "execution_count": 2,
     "metadata": {},
     "output_type": "execute_result"
    }
   ],
   "source": [
    "42j"
   ]
  },
  {
   "cell_type": "markdown",
   "metadata": {},
   "source": [
    "### short and int\n",
    "- The two smaller signed integer data types are _short_ and _int_. The short type represents a **two-byte signed integer** and requires the trailing type indicator h."
   ]
  },
  {
   "cell_type": "code",
   "execution_count": 3,
   "metadata": {
    "ExecuteTime": {
     "end_time": "2020-11-16T18:12:05.951286000Z",
     "start_time": "2020-11-16T18:12:04.938Z"
    }
   },
   "outputs": [
    {
     "data": {
      "text/plain": [
       "-123h\n"
      ]
     },
     "execution_count": 3,
     "metadata": {},
     "output_type": "execute_result"
    }
   ],
   "source": [
    "-123h"
   ]
  },
  {
   "cell_type": "code",
   "execution_count": 4,
   "metadata": {
    "ExecuteTime": {
     "end_time": "2020-11-16T18:12:05.952949000Z",
     "start_time": "2020-11-16T18:12:04.942Z"
    }
   },
   "outputs": [
    {
     "data": {
      "text/plain": [
       "1234567890i\n"
      ]
     },
     "execution_count": 4,
     "metadata": {},
     "output_type": "execute_result"
    }
   ],
   "source": [
    "1234567890i"
   ]
  },
  {
   "cell_type": "code",
   "execution_count": 5,
   "metadata": {
    "ExecuteTime": {
     "end_time": "2020-11-16T18:12:05.954595000Z",
     "start_time": "2020-11-16T18:12:04.946Z"
    }
   },
   "outputs": [
    {
     "data": {
      "text/plain": [
       ",2147483648\n"
      ]
     },
     "execution_count": 5,
     "metadata": {},
     "output_type": "execute_result"
    }
   ],
   "source": [
    "-1#prds 31#2"
   ]
  },
  {
   "cell_type": "markdown",
   "metadata": {},
   "source": [
    "## Floating Point Data\n",
    "Single- and double-precision floating-point data types are supported. Double precision is more common."
   ]
  },
  {
   "cell_type": "markdown",
   "metadata": {},
   "source": [
    "### Float"
   ]
  },
  {
   "cell_type": "markdown",
   "metadata": {},
   "source": [
    "The float type represents an IEEE standard **eight-byte floating-point** number, often called **\"double\"** in traditional languages. A float can hold **(at least) 15 decimal digits of precision**. It is denoted by optionally signed numeric digits with either a decimal point or an optional trailing type indicator `f`. Observe that the console shortens the display of floats with no significant digits to the right of the decimal."
   ]
  },
  {
   "cell_type": "code",
   "execution_count": 6,
   "metadata": {
    "ExecuteTime": {
     "end_time": "2020-11-16T18:12:05.956297000Z",
     "start_time": "2020-11-16T18:12:04.951Z"
    }
   },
   "outputs": [
    {
     "data": {
      "text/plain": [
       "3.141593\n"
      ]
     },
     "execution_count": 6,
     "metadata": {},
     "output_type": "execute_result"
    }
   ],
   "source": [
    "3.14159265"
   ]
  },
  {
   "cell_type": "code",
   "execution_count": 7,
   "metadata": {
    "ExecuteTime": {
     "end_time": "2020-11-16T18:12:05.958052000Z",
     "start_time": "2020-11-16T18:12:04.954Z"
    }
   },
   "outputs": [
    {
     "data": {
      "text/plain": [
       "1f\n"
      ]
     },
     "execution_count": 7,
     "metadata": {},
     "output_type": "execute_result"
    }
   ],
   "source": [
    "1f"
   ]
  },
  {
   "cell_type": "code",
   "execution_count": 8,
   "metadata": {
    "ExecuteTime": {
     "end_time": "2020-11-16T18:12:05.959773000Z",
     "start_time": "2020-11-16T18:12:04.957Z"
    }
   },
   "outputs": [
    {
     "data": {
      "text/plain": [
       "1f\n"
      ]
     },
     "execution_count": 8,
     "metadata": {},
     "output_type": "execute_result"
    }
   ],
   "source": [
    "1.0"
   ]
  },
  {
   "cell_type": "code",
   "execution_count": 9,
   "metadata": {
    "ExecuteTime": {
     "end_time": "2020-11-16T18:12:05.961471000Z",
     "start_time": "2020-11-16T18:12:04.959Z"
    }
   },
   "outputs": [
    {
     "data": {
      "text/plain": [
       "1.234e+07\n"
      ]
     },
     "execution_count": 9,
     "metadata": {},
     "output_type": "execute_result"
    }
   ],
   "source": [
    "1.234e07"
   ]
  },
  {
   "cell_type": "code",
   "execution_count": 10,
   "metadata": {
    "ExecuteTime": {
     "end_time": "2020-11-16T18:12:05.963078000Z",
     "start_time": "2020-11-16T18:12:04.963Z"
    }
   },
   "outputs": [
    {
     "data": {
      "text/plain": [
       "1.234e+07\n"
      ]
     },
     "execution_count": 10,
     "metadata": {},
     "output_type": "execute_result"
    }
   ],
   "source": [
    "1.234e7"
   ]
  },
  {
   "cell_type": "code",
   "execution_count": 11,
   "metadata": {
    "ExecuteTime": {
     "end_time": "2020-11-16T18:12:05.964659000Z",
     "start_time": "2020-11-16T18:12:04.966Z"
    }
   },
   "outputs": [
    {
     "data": {
      "text/plain": [
       "1.234e-07\n"
      ]
     },
     "execution_count": 11,
     "metadata": {},
     "output_type": "execute_result"
    }
   ],
   "source": [
    "1.234e-7"
   ]
  },
  {
   "cell_type": "markdown",
   "metadata": {},
   "source": [
    "### real\n",
    "\n",
    "The real type represents a **single-precision, four-byte floating-point number** and is denoted by numeric digits containing a decimal point and a trailing type indicator `e`. Be mindful that this type is called 'float' in some languages. A real can hold at least __6 decimal digits of precision.__"
   ]
  },
  {
   "cell_type": "markdown",
   "metadata": {},
   "source": [
    "The real type is basically useless in finance since **it does not provide enough precision for quantities expressed in currencies such as Yen**. We recommend always using float."
   ]
  },
  {
   "cell_type": "code",
   "execution_count": 12,
   "metadata": {
    "ExecuteTime": {
     "end_time": "2020-11-16T18:12:05.966141000Z",
     "start_time": "2020-11-16T18:12:04.971Z"
    }
   },
   "outputs": [
    {
     "data": {
      "text/plain": [
       "12.34e\n"
      ]
     },
     "execution_count": 12,
     "metadata": {},
     "output_type": "execute_result"
    }
   ],
   "source": [
    "12.34e"
   ]
  },
  {
   "cell_type": "code",
   "execution_count": 13,
   "metadata": {
    "ExecuteTime": {
     "end_time": "2020-11-16T18:12:05.967535000Z",
     "start_time": "2020-11-16T18:12:04.973Z"
    }
   },
   "outputs": [
    {
     "data": {
      "text/plain": [
       "1.234e+07e\n"
      ]
     },
     "execution_count": 13,
     "metadata": {},
     "output_type": "execute_result"
    }
   ],
   "source": [
    "1.234e7e"
   ]
  },
  {
   "cell_type": "markdown",
   "metadata": {},
   "source": [
    "### Floating Point Display\n",
    "\n",
    "The q console display defaults to seven decimal digits of accuracy for float and real values by rounding the display in the seventh significant digit, even though more digits are stored."
   ]
  },
  {
   "cell_type": "code",
   "execution_count": 14,
   "metadata": {
    "ExecuteTime": {
     "end_time": "2020-11-16T18:12:05.968708000Z",
     "start_time": "2020-11-16T18:12:04.977Z"
    }
   },
   "outputs": [],
   "source": [
    "f:1.23456789e-10"
   ]
  },
  {
   "cell_type": "code",
   "execution_count": 15,
   "metadata": {
    "ExecuteTime": {
     "end_time": "2020-11-16T18:12:05.969574000Z",
     "start_time": "2020-11-16T18:12:04.980Z"
    }
   },
   "outputs": [],
   "source": [
    "r:1.2345678e-10e"
   ]
  },
  {
   "cell_type": "code",
   "execution_count": 16,
   "metadata": {
    "ExecuteTime": {
     "end_time": "2020-11-16T18:12:05.970916000Z",
     "start_time": "2020-11-16T18:12:04.984Z"
    }
   },
   "outputs": [
    {
     "data": {
      "text/plain": [
       "1.234568e-10\n"
      ]
     },
     "execution_count": 16,
     "metadata": {},
     "output_type": "execute_result"
    }
   ],
   "source": [
    "f"
   ]
  },
  {
   "cell_type": "code",
   "execution_count": 17,
   "metadata": {
    "ExecuteTime": {
     "end_time": "2020-11-16T18:12:05.972271000Z",
     "start_time": "2020-11-16T18:12:04.987Z"
    }
   },
   "outputs": [
    {
     "data": {
      "text/plain": [
       "1.234568e-10e\n"
      ]
     },
     "execution_count": 17,
     "metadata": {},
     "output_type": "execute_result"
    }
   ],
   "source": [
    "r"
   ]
  },
  {
   "cell_type": "code",
   "execution_count": 18,
   "metadata": {
    "ExecuteTime": {
     "end_time": "2020-11-16T18:12:05.973156000Z",
     "start_time": "2020-11-16T18:12:04.990Z"
    }
   },
   "outputs": [],
   "source": [
    "f12:1.23456789012"
   ]
  },
  {
   "cell_type": "code",
   "execution_count": 19,
   "metadata": {
    "ExecuteTime": {
     "end_time": "2020-11-16T18:12:05.974023000Z",
     "start_time": "2020-11-16T18:12:04.993Z"
    }
   },
   "outputs": [],
   "source": [
    "f16:1.234567890123456"
   ]
  },
  {
   "cell_type": "code",
   "execution_count": 20,
   "metadata": {
    "ExecuteTime": {
     "end_time": "2020-11-16T18:12:05.974898000Z",
     "start_time": "2020-11-16T18:12:04.997Z"
    }
   },
   "outputs": [],
   "source": [
    "\\P 12"
   ]
  },
  {
   "cell_type": "code",
   "execution_count": 21,
   "metadata": {
    "ExecuteTime": {
     "end_time": "2020-11-16T18:12:05.976261000Z",
     "start_time": "2020-11-16T18:12:05.000Z"
    }
   },
   "outputs": [
    {
     "data": {
      "text/plain": [
       "1.23456789012\n"
      ]
     },
     "execution_count": 21,
     "metadata": {},
     "output_type": "execute_result"
    }
   ],
   "source": [
    "f12"
   ]
  },
  {
   "cell_type": "code",
   "execution_count": 22,
   "metadata": {
    "ExecuteTime": {
     "end_time": "2020-11-16T18:12:05.977625000Z",
     "start_time": "2020-11-16T18:12:05.003Z"
    }
   },
   "outputs": [
    {
     "data": {
      "text/plain": [
       "1.23456789012\n"
      ]
     },
     "execution_count": 22,
     "metadata": {},
     "output_type": "execute_result"
    }
   ],
   "source": [
    "f16"
   ]
  },
  {
   "cell_type": "code",
   "execution_count": 23,
   "metadata": {
    "ExecuteTime": {
     "end_time": "2020-11-16T18:12:05.978513000Z",
     "start_time": "2020-11-16T18:12:05.007Z"
    }
   },
   "outputs": [],
   "source": [
    "\\P 16"
   ]
  },
  {
   "cell_type": "code",
   "execution_count": 24,
   "metadata": {
    "ExecuteTime": {
     "end_time": "2020-11-16T18:12:05.979881000Z",
     "start_time": "2020-11-16T18:12:05.010Z"
    }
   },
   "outputs": [
    {
     "data": {
      "text/plain": [
       "1.23456789012\n"
      ]
     },
     "execution_count": 24,
     "metadata": {},
     "output_type": "execute_result"
    }
   ],
   "source": [
    "f12"
   ]
  },
  {
   "cell_type": "code",
   "execution_count": 25,
   "metadata": {
    "ExecuteTime": {
     "end_time": "2020-11-16T18:12:05.981230000Z",
     "start_time": "2020-11-16T18:12:05.014Z"
    }
   },
   "outputs": [
    {
     "data": {
      "text/plain": [
       "1.234567890123456\n"
      ]
     },
     "execution_count": 25,
     "metadata": {},
     "output_type": "execute_result"
    }
   ],
   "source": [
    "f16"
   ]
  },
  {
   "cell_type": "code",
   "execution_count": 10,
   "metadata": {
    "ExecuteTime": {
     "end_time": "2021-02-01T19:16:44.617570000Z",
     "start_time": "2021-02-01T19:16:44.611Z"
    }
   },
   "outputs": [],
   "source": [
    "\\P 0 / all precision"
   ]
  },
  {
   "cell_type": "code",
   "execution_count": 27,
   "metadata": {
    "ExecuteTime": {
     "end_time": "2020-11-16T18:12:05.983546000Z",
     "start_time": "2020-11-16T18:12:05.020Z"
    }
   },
   "outputs": [
    {
     "data": {
      "text/plain": [
       "0.33333333333333331\n"
      ]
     },
     "execution_count": 27,
     "metadata": {},
     "output_type": "execute_result"
    }
   ],
   "source": [
    "1%3"
   ]
  },
  {
   "cell_type": "markdown",
   "metadata": {},
   "source": [
    "## Binary Data\n",
    "\n",
    "Binary data can be represented as bit or byte values."
   ]
  },
  {
   "cell_type": "markdown",
   "metadata": {},
   "source": [
    "### Boolean\n",
    "\n",
    "The boolean type uses one byte to store a bit and is denoted by the bit value with the trailing type indicator `b`. There are **no** keywords for 'true' or 'false', nor are there separate logical operators for booleans."
   ]
  },
  {
   "cell_type": "code",
   "execution_count": 28,
   "metadata": {
    "ExecuteTime": {
     "end_time": "2020-11-16T18:12:05.984954000Z",
     "start_time": "2020-11-16T18:12:05.024Z"
    }
   },
   "outputs": [
    {
     "data": {
      "text/plain": [
       "0b\n"
      ]
     },
     "execution_count": 28,
     "metadata": {},
     "output_type": "execute_result"
    }
   ],
   "source": [
    "0b"
   ]
  },
  {
   "cell_type": "code",
   "execution_count": 29,
   "metadata": {
    "ExecuteTime": {
     "end_time": "2020-11-16T18:12:05.986315000Z",
     "start_time": "2020-11-16T18:12:05.028Z"
    }
   },
   "outputs": [
    {
     "data": {
      "text/plain": [
       "1b\n"
      ]
     },
     "execution_count": 29,
     "metadata": {},
     "output_type": "execute_result"
    }
   ],
   "source": [
    "1b"
   ]
  },
  {
   "cell_type": "markdown",
   "metadata": {},
   "source": [
    "Binary values are implicitly promoted to unsigned integers when participating in arithmetic expressions or comparisons. For example, the following yields an integer."
   ]
  },
  {
   "cell_type": "code",
   "execution_count": 30,
   "metadata": {
    "ExecuteTime": {
     "end_time": "2020-11-16T18:12:05.987681000Z",
     "start_time": "2020-11-16T18:12:05.032Z"
    }
   },
   "outputs": [
    {
     "data": {
      "text/plain": [
       "43\n"
      ]
     },
     "execution_count": 30,
     "metadata": {},
     "output_type": "execute_result"
    }
   ],
   "source": [
    "42+1b"
   ]
  },
  {
   "cell_type": "code",
   "execution_count": 11,
   "metadata": {
    "ExecuteTime": {
     "end_time": "2021-02-01T19:16:46.527111000Z",
     "start_time": "2021-02-01T19:16:46.520Z"
    }
   },
   "outputs": [
    {
     "data": {
      "text/plain": [
       "3.1415000000000002\n"
      ]
     },
     "execution_count": 11,
     "metadata": {},
     "output_type": "execute_result"
    }
   ],
   "source": [
    "3.1415+0b"
   ]
  },
  {
   "cell_type": "markdown",
   "metadata": {},
   "source": [
    "### Byte"
   ]
  },
  {
   "cell_type": "markdown",
   "metadata": {},
   "source": [
    "The byte type uses one byte to store an unsigned 8-bit value and is denoted by the **leading** type indicator 0x followed by **two hexadecimal digits**. Upper or lower case can be used for the alpha hex digits but lower case is customary."
   ]
  },
  {
   "cell_type": "code",
   "execution_count": 32,
   "metadata": {
    "ExecuteTime": {
     "end_time": "2020-11-16T18:12:05.990441000Z",
     "start_time": "2020-11-16T18:12:05.040Z"
    }
   },
   "outputs": [
    {
     "data": {
      "text/plain": [
       "0x2a\n"
      ]
     },
     "execution_count": 32,
     "metadata": {},
     "output_type": "execute_result"
    }
   ],
   "source": [
    "0x2a"
   ]
  },
  {
   "cell_type": "code",
   "execution_count": 33,
   "metadata": {
    "ExecuteTime": {
     "end_time": "2020-11-16T18:12:05.991861000Z",
     "start_time": "2020-11-16T18:12:05.043Z"
    }
   },
   "outputs": [
    {
     "data": {
      "text/plain": [
       "0x2a\n"
      ]
     },
     "execution_count": 33,
     "metadata": {},
     "output_type": "execute_result"
    }
   ],
   "source": [
    "0x2A"
   ]
  },
  {
   "cell_type": "code",
   "execution_count": 34,
   "metadata": {
    "ExecuteTime": {
     "end_time": "2020-11-16T18:12:05.993239000Z",
     "start_time": "2020-11-16T18:12:05.047Z"
    }
   },
   "outputs": [
    {
     "data": {
      "text/plain": [
       "43\n"
      ]
     },
     "execution_count": 34,
     "metadata": {},
     "output_type": "execute_result"
    }
   ],
   "source": [
    "1 + 0x2A / 1 + (10 + 2*16) "
   ]
  },
  {
   "cell_type": "code",
   "execution_count": 35,
   "metadata": {
    "ExecuteTime": {
     "end_time": "2020-11-16T18:12:05.994601000Z",
     "start_time": "2020-11-16T18:12:05.051Z"
    }
   },
   "outputs": [
    {
     "data": {
      "text/plain": [
       "42\n"
      ]
     },
     "execution_count": 35,
     "metadata": {},
     "output_type": "execute_result"
    }
   ],
   "source": [
    "1+0x29 / 1 + (9+2*16)"
   ]
  },
  {
   "cell_type": "markdown",
   "metadata": {},
   "source": [
    "### GUID\n",
    "\n",
    "The _guid_ type was introduced in q3.0. A **GUID (globally unique identifier)** is a 16-byte binary value that is unique across time and space (well, nearly so). It is ideally suited for **locally generating a globally unique identifier without resorting to a central control mechanism – e.g., transaction IDs**. It can be used as a table key or in joins and is preferred to strings or symbols in such situations."
   ]
  },
  {
   "cell_type": "markdown",
   "metadata": {},
   "source": [
    "The guid type does not have a literal form since it is generated for you by a process that guarantees uniqueness. Applying `?` to the null guid value `0Ng` generates a list of guids."
   ]
  },
  {
   "cell_type": "code",
   "execution_count": 36,
   "metadata": {
    "ExecuteTime": {
     "end_time": "2020-11-16T18:12:05.995973000Z",
     "start_time": "2020-11-16T18:12:05.055Z"
    }
   },
   "outputs": [
    {
     "data": {
      "text/plain": [
       ",8c6b8b64-6815-6084-0a3e-178401251b68\n"
      ]
     },
     "execution_count": 36,
     "metadata": {},
     "output_type": "execute_result"
    }
   ],
   "source": [
    "1?0Ng"
   ]
  },
  {
   "cell_type": "code",
   "execution_count": 37,
   "metadata": {
    "ExecuteTime": {
     "end_time": "2020-11-16T18:12:05.997368000Z",
     "start_time": "2020-11-16T18:12:05.058Z"
    }
   },
   "outputs": [
    {
     "data": {
      "text/plain": [
       "5ae7962d-49f2-404d-5aec-f7c8abbae288 5a580fb6-656b-5e69-d445-417ebfe71994\n"
      ]
     },
     "execution_count": 37,
     "metadata": {},
     "output_type": "execute_result"
    }
   ],
   "source": [
    "2?0Ng"
   ]
  },
  {
   "cell_type": "code",
   "execution_count": 38,
   "metadata": {
    "ExecuteTime": {
     "end_time": "2020-11-16T18:12:05.998735000Z",
     "start_time": "2020-11-16T18:12:05.062Z"
    }
   },
   "outputs": [
    {
     "data": {
      "text/plain": [
       ",10ee7131-7bfc-5454-d2c9-58f2f8c2a915\n"
      ]
     },
     "execution_count": 38,
     "metadata": {},
     "output_type": "execute_result"
    }
   ],
   "source": [
    "-1?0Ng"
   ]
  },
  {
   "cell_type": "code",
   "execution_count": 39,
   "metadata": {
    "ExecuteTime": {
     "end_time": "2020-11-16T18:12:06.000109000Z",
     "start_time": "2020-11-16T18:12:05.065Z"
    }
   },
   "outputs": [
    {
     "data": {
      "text/plain": [
       "25c4bd1d-cd8c-bdff-ef43-4b455cbb062c 68c78d95-f5f3-aabf-5471-169141a5244e\n"
      ]
     },
     "execution_count": 39,
     "metadata": {},
     "output_type": "execute_result"
    }
   ],
   "source": [
    "-2?0Ng"
   ]
  },
  {
   "cell_type": "markdown",
   "metadata": {},
   "source": [
    "The difference between using a positive integer vs. a negative integer to generate a list of GUIDs is that the **positive case uses the same initial seed in each new q session** whereas **the negative case uses a random seed**. The former is useful for **reproducible results during testing but only the latter should be used in production**; otherwise, your \"GUIDs\" will not be unique across q sessions."
   ]
  },
  {
   "cell_type": "markdown",
   "metadata": {},
   "source": [
    "import a guid generated elsewhere by parsing a string of 16 hex digits."
   ]
  },
  {
   "cell_type": "code",
   "execution_count": 40,
   "metadata": {
    "ExecuteTime": {
     "end_time": "2020-11-16T18:12:06.001487000Z",
     "start_time": "2020-11-16T18:12:05.070Z"
    }
   },
   "outputs": [
    {
     "data": {
      "text/plain": [
       "61f35174-90bc-a48a-d88f-e15e4a377ec8\n"
      ]
     },
     "execution_count": 40,
     "metadata": {},
     "output_type": "execute_result"
    }
   ],
   "source": [
    "\"G\"$\"61f35174-90bc-a48a-d88f-e15e4a377ec8\""
   ]
  },
  {
   "cell_type": "markdown",
   "metadata": {},
   "source": [
    "Convert from a list of 16 bytes using an overload of `sv`."
   ]
  },
  {
   "cell_type": "code",
   "execution_count": 41,
   "metadata": {
    "ExecuteTime": {
     "end_time": "2020-11-16T18:12:06.002858000Z",
     "start_time": "2020-11-16T18:12:05.073Z"
    }
   },
   "outputs": [
    {
     "data": {
      "text/plain": [
       "ddb6a661-58e5-3a44-2de9-82a740b1ee69\n"
      ]
     },
     "execution_count": 41,
     "metadata": {},
     "output_type": "execute_result"
    }
   ],
   "source": [
    "0x0 sv 16?0xff"
   ]
  },
  {
   "cell_type": "markdown",
   "metadata": {},
   "source": [
    "The only operations available for guids are ~, =, <, > and null."
   ]
  },
  {
   "cell_type": "markdown",
   "metadata": {},
   "source": [
    "## Text Data\n",
    "\n",
    "There are two atomic text types in q. They are more akin to the SQL types `CHAR` and `VARCHAR` than the character types of traditional languages."
   ]
  },
  {
   "cell_type": "markdown",
   "metadata": {},
   "source": [
    "### char\n",
    "\n",
    "A char holds an individual ASCII or **8-bit Unicode character** that is stored in one byte. It corresponds to a SQL `CHAR`. It is denoted by a single character enclosed in double quotes."
   ]
  },
  {
   "cell_type": "code",
   "execution_count": 42,
   "metadata": {
    "ExecuteTime": {
     "end_time": "2020-11-16T18:12:06.004243000Z",
     "start_time": "2020-11-16T18:12:05.078Z"
    }
   },
   "outputs": [
    {
     "data": {
      "text/plain": [
       "\"q\"\n"
      ]
     },
     "execution_count": 42,
     "metadata": {},
     "output_type": "execute_result"
    }
   ],
   "source": [
    "\"q\""
   ]
  },
  {
   "cell_type": "markdown",
   "metadata": {},
   "source": [
    "Some keyboard characters – e.g., the double-quote – cannot be entered directly into a char since they have special meaning in the q console. As in C, special characters are escaped with a preceding back-slash `\\`. The console display somewhat confusingly displays the escape, but the following are all actually single characters."
   ]
  },
  {
   "cell_type": "code",
   "execution_count": 43,
   "metadata": {
    "ExecuteTime": {
     "end_time": "2020-11-16T18:12:06.007481000Z",
     "start_time": "2020-11-16T18:12:05.082Z"
    }
   },
   "outputs": [
    {
     "data": {
      "text/plain": [
       "\"\\\"\"\n"
      ]
     },
     "execution_count": 43,
     "metadata": {},
     "output_type": "execute_result"
    },
    {
     "data": {
      "text/plain": [
       "\"\\\\\"\n"
      ]
     },
     "execution_count": 43,
     "metadata": {},
     "output_type": "execute_result"
    },
    {
     "data": {
      "text/plain": [
       "\"\\n\"\n"
      ]
     },
     "execution_count": 43,
     "metadata": {},
     "output_type": "execute_result"
    },
    {
     "data": {
      "text/plain": [
       "\"\\r\"\n"
      ]
     },
     "execution_count": 43,
     "metadata": {},
     "output_type": "execute_result"
    },
    {
     "data": {
      "text/plain": [
       "\"\\t\"\n"
      ]
     },
     "execution_count": 43,
     "metadata": {},
     "output_type": "execute_result"
    }
   ],
   "source": [
    "\"\\\"\" / double-quote\n",
    "\"\\\\\" / back-slash\n",
    "\"\\n\" / newline\n",
    "\"\\r\" / return\n",
    "\"\\t\" / horizontal tab"
   ]
  },
  {
   "cell_type": "markdown",
   "metadata": {},
   "source": [
    "Also as in C, you can escape any ASCII character by specifying its underlying numeric value as three octal digits."
   ]
  },
  {
   "cell_type": "code",
   "execution_count": 44,
   "metadata": {
    "ExecuteTime": {
     "end_time": "2020-11-16T18:12:06.008855000Z",
     "start_time": "2020-11-16T18:12:05.086Z"
    }
   },
   "outputs": [
    {
     "data": {
      "text/plain": [
       "\"b\"\n"
      ]
     },
     "execution_count": 44,
     "metadata": {},
     "output_type": "execute_result"
    }
   ],
   "source": [
    "\"\\142\""
   ]
  },
  {
   "cell_type": "markdown",
   "metadata": {},
   "source": [
    "### symbol\n",
    "\n",
    "A symbol is an atom holding text. It is denoted by a leading back-quote, read \"back tick\" in q-speak."
   ]
  },
  {
   "cell_type": "code",
   "execution_count": 45,
   "metadata": {
    "ExecuteTime": {
     "end_time": "2020-11-16T18:12:06.010194000Z",
     "start_time": "2020-11-16T18:12:05.090Z"
    }
   },
   "outputs": [
    {
     "data": {
      "text/plain": [
       "`q\n"
      ]
     },
     "execution_count": 45,
     "metadata": {},
     "output_type": "execute_result"
    }
   ],
   "source": [
    "`q"
   ]
  },
  {
   "cell_type": "code",
   "execution_count": 46,
   "metadata": {
    "ExecuteTime": {
     "end_time": "2020-11-16T18:12:06.011548000Z",
     "start_time": "2020-11-16T18:12:05.092Z"
    }
   },
   "outputs": [
    {
     "data": {
      "text/plain": [
       "`zaphod\n"
      ]
     },
     "execution_count": 46,
     "metadata": {},
     "output_type": "execute_result"
    }
   ],
   "source": [
    "`zaphod"
   ]
  },
  {
   "cell_type": "markdown",
   "metadata": {},
   "source": [
    "**Symbols are used for names in q. All names are symbols but not all symbols are names.**"
   ]
  },
  {
   "cell_type": "markdown",
   "metadata": {},
   "source": [
    "A symbol is akin to a SQL `VARCHAR`, in that it can hold an arbitrary number of characters, but is different in that it is atomic. The char \"q\" and the symbol \\`kdb are both atomic entities. A symbol is irreducible, meaning that the individual characters that comprise it are **not** directly accessible.\n",
    "\n",
    "A symbol is **not** a string. We shall see in Chapter 3 that there is an analogue of strings in q, namely a list of char. While a list of char is a kissing cousin to a symbol, we emphasize that a symbol is not a collection of char. The symbol \\`a and the char `\"a\"` are not the same, as we can see by asking q if they are identical."
   ]
  },
  {
   "cell_type": "code",
   "execution_count": 47,
   "metadata": {
    "ExecuteTime": {
     "end_time": "2020-11-16T18:12:06.012928000Z",
     "start_time": "2020-11-16T18:12:05.098Z"
    }
   },
   "outputs": [
    {
     "data": {
      "text/plain": [
       "0b\n"
      ]
     },
     "execution_count": 47,
     "metadata": {},
     "output_type": "execute_result"
    }
   ],
   "source": [
    "`a~\"a\""
   ]
  },
  {
   "cell_type": "code",
   "execution_count": 48,
   "metadata": {
    "ExecuteTime": {
     "end_time": "2020-11-16T18:12:06.014280000Z",
     "start_time": "2020-11-16T18:12:05.103Z"
    }
   },
   "outputs": [
    {
     "data": {
      "text/plain": [
       "`A symbol with blanks and `\n"
      ]
     },
     "execution_count": 48,
     "metadata": {},
     "output_type": "execute_result"
    }
   ],
   "source": [
    "`$\"A symbol with blanks and `\""
   ]
  },
  {
   "cell_type": "code",
   "execution_count": 49,
   "metadata": {
    "ExecuteTime": {
     "end_time": "2020-11-16T18:12:06.015635000Z",
     "start_time": "2020-11-16T18:12:05.106Z"
    }
   },
   "outputs": [
    {
     "data": {
      "text/plain": [
       "1\n"
      ]
     },
     "execution_count": 49,
     "metadata": {},
     "output_type": "execute_result"
    }
   ],
   "source": [
    "count `$\"A symbol with blanks and `\""
   ]
  },
  {
   "cell_type": "markdown",
   "metadata": {},
   "source": [
    "## Temporal Data"
   ]
  },
  {
   "cell_type": "markdown",
   "metadata": {},
   "source": [
    "### date"
   ]
  },
  {
   "cell_type": "markdown",
   "metadata": {},
   "source": [
    "A date is stored as a **four-byte signed integer** and is denoted by _yyyy.mm.dd_, where yyyy represents the year, mm the month and dd the day. The underlying value is the count of days from Jan 1, 2000 – positive for post-millennium and negative for pre."
   ]
  },
  {
   "cell_type": "code",
   "execution_count": 50,
   "metadata": {
    "ExecuteTime": {
     "end_time": "2020-11-16T18:12:06.018751000Z",
     "start_time": "2020-11-16T18:12:05.112Z"
    }
   },
   "outputs": [
    {
     "data": {
      "text/plain": [
       "2015.01.01\n"
      ]
     },
     "execution_count": 50,
     "metadata": {},
     "output_type": "execute_result"
    },
    {
     "data": {
      "text/plain": [
       "1b\n"
      ]
     },
     "execution_count": 50,
     "metadata": {},
     "output_type": "execute_result"
    },
    {
     "data": {
      "text/plain": [
       "1b\n"
      ]
     },
     "execution_count": 50,
     "metadata": {},
     "output_type": "execute_result"
    },
    {
     "data": {
      "text/plain": [
       "1b\n"
      ]
     },
     "execution_count": 50,
     "metadata": {},
     "output_type": "execute_result"
    }
   ],
   "source": [
    "2015.01.01\n",
    "2000.01.01=0\n",
    "2000.01.02=1\n",
    "1999.12.31=-1"
   ]
  },
  {
   "cell_type": "markdown",
   "metadata": {},
   "source": [
    "Since real-world months and days begin at 1 (not zero), January is 01. Leading zeroes in months and days are **required**; their omission causes an error."
   ]
  },
  {
   "cell_type": "code",
   "execution_count": 0,
   "metadata": {
    "ExecuteTime": {
     "end_time": "2020-11-16T18:12:05.918578000Z",
     "start_time": "2020-11-16T18:12:05.116Z"
    }
   },
   "outputs": [
    {
     "ename": "\u001b[0;31mparse error\u001b[0m",
     "evalue": "\u001b[0;31m2015.1.1\u001b[0m",
     "output_type": "error",
     "traceback": [
      "\u001b[0;31mparse error\u001b[0m",
      "\u001b[0;31m2015.1.1\u001b[0m"
     ]
    }
   ],
   "source": [
    "2015.1.1"
   ]
  },
  {
   "cell_type": "markdown",
   "metadata": {},
   "source": [
    "The underlying day count can be obtained by casting."
   ]
  },
  {
   "cell_type": "code",
   "execution_count": 51,
   "metadata": {
    "ExecuteTime": {
     "end_time": "2020-11-16T18:12:06.020122000Z",
     "start_time": "2020-11-16T18:12:05.120Z"
    }
   },
   "outputs": [
    {
     "data": {
      "text/plain": [
       "31i\n"
      ]
     },
     "execution_count": 51,
     "metadata": {},
     "output_type": "execute_result"
    }
   ],
   "source": [
    "`int$2000.02.01"
   ]
  },
  {
   "cell_type": "markdown",
   "metadata": {},
   "source": [
    "### Time Types"
   ]
  },
  {
   "cell_type": "markdown",
   "metadata": {},
   "source": [
    "There are two versions of time, depending on the resolution required. \n",
    "- If milliseconds are sufficient, use the **time type**, which stores the **count of milliseconds** from midnight in a **32-bit signed integer**. It is denoted by **hh:mm:ss.uuu** where hh represents hours on the 24-hour clock, mm represents minutes, ss represents seconds, and uuu represents milliseconds.\n",
    "- If milliseconds are not sufficient, use the **timespan type**, which stores the count of **nanoseconds** from midnight as a long integer.It is denoted by **0Dhh:mm:ss.nnnnnnnnn** where hh represents hours on the 24-hour clock, mm represents minutes, ss represents seconds, **and nnnnnnnnn represents nanoseconds. Observe that the leading 0D is optional.**"
   ]
  },
  {
   "cell_type": "code",
   "execution_count": 52,
   "metadata": {
    "ExecuteTime": {
     "end_time": "2020-11-16T18:12:06.021469000Z",
     "start_time": "2020-11-16T18:12:05.124Z"
    }
   },
   "outputs": [
    {
     "data": {
      "text/plain": [
       "12:34:56.789\n"
      ]
     },
     "execution_count": 52,
     "metadata": {},
     "output_type": "execute_result"
    }
   ],
   "source": [
    "12:34:56.789"
   ]
  },
  {
   "cell_type": "code",
   "execution_count": 53,
   "metadata": {
    "ExecuteTime": {
     "end_time": "2020-11-16T18:12:06.022821000Z",
     "start_time": "2020-11-16T18:12:05.127Z"
    }
   },
   "outputs": [
    {
     "data": {
      "text/plain": [
       "1b\n"
      ]
     },
     "execution_count": 53,
     "metadata": {},
     "output_type": "execute_result"
    }
   ],
   "source": [
    "12:00:00.000=12*60*60*1000"
   ]
  },
  {
   "cell_type": "markdown",
   "metadata": {},
   "source": [
    "Leading zeroes are required in all constituents of a time value. The underlying millisecond count can be obtained by casting to an int."
   ]
  },
  {
   "cell_type": "code",
   "execution_count": 54,
   "metadata": {
    "ExecuteTime": {
     "end_time": "2020-11-16T18:12:06.024195000Z",
     "start_time": "2020-11-16T18:12:05.131Z"
    }
   },
   "outputs": [
    {
     "data": {
      "text/plain": [
       "43200000i\n"
      ]
     },
     "execution_count": 54,
     "metadata": {},
     "output_type": "execute_result"
    }
   ],
   "source": [
    "`int$12:00:00.000"
   ]
  },
  {
   "cell_type": "code",
   "execution_count": 55,
   "metadata": {
    "ExecuteTime": {
     "end_time": "2020-11-16T18:12:06.025550000Z",
     "start_time": "2020-11-16T18:12:05.134Z"
    }
   },
   "outputs": [
    {
     "data": {
      "text/plain": [
       "0D12:34:56.123456789\n"
      ]
     },
     "execution_count": 55,
     "metadata": {},
     "output_type": "execute_result"
    }
   ],
   "source": [
    "12:34:56.123456789"
   ]
  },
  {
   "cell_type": "code",
   "execution_count": 56,
   "metadata": {
    "ExecuteTime": {
     "end_time": "2020-11-16T18:12:06.026906000Z",
     "start_time": "2020-11-16T18:12:05.137Z"
    }
   },
   "outputs": [
    {
     "data": {
      "text/plain": [
       "0D12:34:56.123456000\n"
      ]
     },
     "execution_count": 56,
     "metadata": {},
     "output_type": "execute_result"
    }
   ],
   "source": [
    "12:34:56.123456 / microseconds become nanos"
   ]
  },
  {
   "cell_type": "markdown",
   "metadata": {},
   "source": [
    "Leading zeroes in constituents are again required."
   ]
  },
  {
   "cell_type": "markdown",
   "metadata": {},
   "source": [
    "The underlying nanosecond count can be obtained by casting to a long."
   ]
  },
  {
   "cell_type": "code",
   "execution_count": 57,
   "metadata": {
    "ExecuteTime": {
     "end_time": "2020-11-16T18:12:06.028281000Z",
     "start_time": "2020-11-16T18:12:05.140Z"
    }
   },
   "outputs": [
    {
     "data": {
      "text/plain": [
       "45296123456789\n"
      ]
     },
     "execution_count": 57,
     "metadata": {},
     "output_type": "execute_result"
    }
   ],
   "source": [
    "`long$12:34:56.123456789"
   ]
  },
  {
   "cell_type": "markdown",
   "metadata": {},
   "source": [
    "### Date-time types"
   ]
  },
  {
   "cell_type": "markdown",
   "metadata": {},
   "source": [
    "There are two date-time types. The first is deprecated and should not be used; we include it here in case you encounter it in older q code.\n",
    "\n",
    "A _datetime_ (deprecated) is the lexical combination of a date and a time, separated by `T` as in the ISO standard format. A datetime value stores in a float the fractional day count from midnight Jan 1, 2000."
   ]
  },
  {
   "cell_type": "code",
   "execution_count": 58,
   "metadata": {
    "ExecuteTime": {
     "end_time": "2020-11-16T18:12:06.029650000Z",
     "start_time": "2020-11-16T18:12:05.144Z"
    }
   },
   "outputs": [
    {
     "data": {
      "text/plain": [
       "2000.01.01T12:00:00.000\n"
      ]
     },
     "execution_count": 58,
     "metadata": {},
     "output_type": "execute_result"
    }
   ],
   "source": [
    "2000.01.01T12:00:00.000"
   ]
  },
  {
   "cell_type": "code",
   "execution_count": 59,
   "metadata": {
    "ExecuteTime": {
     "end_time": "2020-11-16T18:12:06.031078000Z",
     "start_time": "2020-11-16T18:12:05.147Z"
    }
   },
   "outputs": [
    {
     "data": {
      "text/plain": [
       "1b\n"
      ]
     },
     "execution_count": 59,
     "metadata": {},
     "output_type": "execute_result"
    }
   ],
   "source": [
    "2000.01.02T12:00:00.000=1.5"
   ]
  },
  {
   "cell_type": "markdown",
   "metadata": {},
   "source": [
    "The underlying fractional day count can be obtained by casting to float."
   ]
  },
  {
   "cell_type": "code",
   "execution_count": 60,
   "metadata": {
    "ExecuteTime": {
     "end_time": "2020-11-16T18:12:06.032436000Z",
     "start_time": "2020-11-16T18:12:05.150Z"
    }
   },
   "outputs": [
    {
     "data": {
      "text/plain": [
       "1.5\n"
      ]
     },
     "execution_count": 60,
     "metadata": {},
     "output_type": "execute_result"
    }
   ],
   "source": [
    "`float$2000.01.02T12:00:00.000"
   ]
  },
  {
   "cell_type": "markdown",
   "metadata": {},
   "source": [
    "Extract the date and time portions from a datetime by casting."
   ]
  },
  {
   "cell_type": "code",
   "execution_count": 61,
   "metadata": {
    "ExecuteTime": {
     "end_time": "2020-11-16T18:12:06.033791000Z",
     "start_time": "2020-11-16T18:12:05.154Z"
    }
   },
   "outputs": [
    {
     "data": {
      "text/plain": [
       "2000.01.02\n"
      ]
     },
     "execution_count": 61,
     "metadata": {},
     "output_type": "execute_result"
    }
   ],
   "source": [
    "`date$2000.01.02T12:00:00.000"
   ]
  },
  {
   "cell_type": "code",
   "execution_count": 62,
   "metadata": {
    "ExecuteTime": {
     "end_time": "2020-11-16T18:12:06.035137000Z",
     "start_time": "2020-11-16T18:12:05.156Z"
    }
   },
   "outputs": [
    {
     "data": {
      "text/plain": [
       "12:00:00.000\n"
      ]
     },
     "execution_count": 62,
     "metadata": {},
     "output_type": "execute_result"
    }
   ],
   "source": [
    "`time$2000.01.02T12:00:00.000"
   ]
  },
  {
   "cell_type": "markdown",
   "metadata": {},
   "source": [
    "**Do not use a datetime for a key or in a join since the underlying float value is fuzzy and may give unexpected results.**"
   ]
  },
  {
   "cell_type": "markdown",
   "metadata": {},
   "source": [
    "The preferred type is _timestamp_, which is the **lexical combination of a date and a timespan, separated by D**. The underlying timestamp value is a long representing the count of nanoseconds since the millennium. Post-millennium is positive and pre- is negative."
   ]
  },
  {
   "cell_type": "code",
   "execution_count": 63,
   "metadata": {
    "ExecuteTime": {
     "end_time": "2020-11-16T18:12:06.036514000Z",
     "start_time": "2020-11-16T18:12:05.161Z"
    }
   },
   "outputs": [
    {
     "data": {
      "text/plain": [
       "2014.11.22D17:43:40.123456789\n"
      ]
     },
     "execution_count": 63,
     "metadata": {},
     "output_type": "execute_result"
    }
   ],
   "source": [
    "2014.11.22D17:43:40.123456789"
   ]
  },
  {
   "cell_type": "code",
   "execution_count": 64,
   "metadata": {
    "ExecuteTime": {
     "end_time": "2020-11-16T18:12:06.037878000Z",
     "start_time": "2020-11-16T18:12:05.164Z"
    }
   },
   "outputs": [
    {
     "data": {
      "text/plain": [
       "469993420123456789\n"
      ]
     },
     "execution_count": 64,
     "metadata": {},
     "output_type": "execute_result"
    }
   ],
   "source": [
    "`long$2014.11.22D17:43:40.123456789"
   ]
  },
  {
   "cell_type": "code",
   "execution_count": 65,
   "metadata": {
    "ExecuteTime": {
     "end_time": "2020-11-16T18:12:06.039227000Z",
     "start_time": "2020-11-16T18:12:05.166Z"
    }
   },
   "outputs": [
    {
     "data": {
      "text/plain": [
       "2014.11.22\n"
      ]
     },
     "execution_count": 65,
     "metadata": {},
     "output_type": "execute_result"
    }
   ],
   "source": [
    "`date$2014.11.22D17:43:40.123456789"
   ]
  },
  {
   "cell_type": "code",
   "execution_count": 66,
   "metadata": {
    "ExecuteTime": {
     "end_time": "2020-11-16T18:12:06.040591000Z",
     "start_time": "2020-11-16T18:12:05.169Z"
    }
   },
   "outputs": [
    {
     "data": {
      "text/plain": [
       "0D17:43:40.123456789\n"
      ]
     },
     "execution_count": 66,
     "metadata": {},
     "output_type": "execute_result"
    }
   ],
   "source": [
    "`timespan$2014.11.22D17:43:40.123456789"
   ]
  },
  {
   "cell_type": "markdown",
   "metadata": {},
   "source": [
    "### Month"
   ]
  },
  {
   "cell_type": "markdown",
   "metadata": {},
   "source": [
    "The month type is stored as a 32-bit signed integer and is denoted by yyyy.mm with a trailing type indicator `m`. A month value is the count of months since the beginning of the millennium. Post-milieu is positive and pre is negative."
   ]
  },
  {
   "cell_type": "code",
   "execution_count": 67,
   "metadata": {
    "ExecuteTime": {
     "end_time": "2020-11-16T18:12:06.041946000Z",
     "start_time": "2020-11-16T18:12:05.173Z"
    }
   },
   "outputs": [
    {
     "data": {
      "text/plain": [
       "2015.11m\n"
      ]
     },
     "execution_count": 67,
     "metadata": {},
     "output_type": "execute_result"
    }
   ],
   "source": [
    "2015.11m"
   ]
  },
  {
   "cell_type": "code",
   "execution_count": 68,
   "metadata": {
    "ExecuteTime": {
     "end_time": "2020-11-16T18:12:06.043293000Z",
     "start_time": "2020-11-16T18:12:05.176Z"
    }
   },
   "outputs": [
    {
     "data": {
      "text/plain": [
       "0b\n"
      ]
     },
     "execution_count": 68,
     "metadata": {},
     "output_type": "execute_result"
    }
   ],
   "source": [
    "2001.01=12"
   ]
  },
  {
   "cell_type": "markdown",
   "metadata": {},
   "source": [
    "**Leaving off the type indicator m yields a float. This is a common qbie error.**"
   ]
  },
  {
   "cell_type": "code",
   "execution_count": 69,
   "metadata": {
    "ExecuteTime": {
     "end_time": "2020-11-16T18:12:06.044667000Z",
     "start_time": "2020-11-16T18:12:05.179Z"
    }
   },
   "outputs": [
    {
     "data": {
      "text/plain": [
       "2014.1099999999999\n"
      ]
     },
     "execution_count": 69,
     "metadata": {},
     "output_type": "execute_result"
    }
   ],
   "source": [
    "2014.11 / this is a float!"
   ]
  },
  {
   "cell_type": "code",
   "execution_count": 70,
   "metadata": {
    "ExecuteTime": {
     "end_time": "2020-11-16T18:12:06.046010000Z",
     "start_time": "2020-11-16T18:12:05.182Z"
    }
   },
   "outputs": [
    {
     "data": {
      "text/plain": [
       "180i\n"
      ]
     },
     "execution_count": 70,
     "metadata": {},
     "output_type": "execute_result"
    }
   ],
   "source": [
    "`int$2015.01m"
   ]
  },
  {
   "cell_type": "markdown",
   "metadata": {},
   "source": [
    "Despite that fact that a month type counts months since the millennium and a date type counts days since the millennium, the first day of the month is equal to the month."
   ]
  },
  {
   "cell_type": "code",
   "execution_count": 71,
   "metadata": {
    "ExecuteTime": {
     "end_time": "2020-11-16T18:12:06.047364000Z",
     "start_time": "2020-11-16T18:12:05.185Z"
    }
   },
   "outputs": [
    {
     "data": {
      "text/plain": [
       "1b\n"
      ]
     },
     "execution_count": 71,
     "metadata": {},
     "output_type": "execute_result"
    }
   ],
   "source": [
    "2015.07m=2015.07.01"
   ]
  },
  {
   "cell_type": "markdown",
   "metadata": {},
   "source": [
    "### Minute"
   ]
  },
  {
   "cell_type": "markdown",
   "metadata": {},
   "source": [
    "The minute type is stored as a **32-bit signed integer** and is denoted by **hh:mm**. A minute value counts the number of minutes from midnight."
   ]
  },
  {
   "cell_type": "code",
   "execution_count": 72,
   "metadata": {
    "ExecuteTime": {
     "end_time": "2020-11-16T18:12:06.048728000Z",
     "start_time": "2020-11-16T18:12:05.191Z"
    }
   },
   "outputs": [
    {
     "data": {
      "text/plain": [
       "12:30\n"
      ]
     },
     "execution_count": 72,
     "metadata": {},
     "output_type": "execute_result"
    }
   ],
   "source": [
    "12:30"
   ]
  },
  {
   "cell_type": "code",
   "execution_count": 73,
   "metadata": {
    "ExecuteTime": {
     "end_time": "2020-11-16T18:12:06.050071000Z",
     "start_time": "2020-11-16T18:12:05.193Z"
    }
   },
   "outputs": [
    {
     "data": {
      "text/plain": [
       "1b\n"
      ]
     },
     "execution_count": 73,
     "metadata": {},
     "output_type": "execute_result"
    }
   ],
   "source": [
    "12:00=12*60"
   ]
  },
  {
   "cell_type": "code",
   "execution_count": 74,
   "metadata": {
    "ExecuteTime": {
     "end_time": "2020-11-16T18:12:06.051416000Z",
     "start_time": "2020-11-16T18:12:05.196Z"
    }
   },
   "outputs": [
    {
     "data": {
      "text/plain": [
       "720i\n"
      ]
     },
     "execution_count": 74,
     "metadata": {},
     "output_type": "execute_result"
    }
   ],
   "source": [
    "`int$12:00"
   ]
  },
  {
   "cell_type": "markdown",
   "metadata": {
    "ExecuteTime": {
     "end_time": "2020-11-16T13:00:54.866884000Z",
     "start_time": "2020-11-16T13:00:54.858Z"
    }
   },
   "source": [
    "A minute equals its equivalent time and timestamp counterparts."
   ]
  },
  {
   "cell_type": "code",
   "execution_count": 75,
   "metadata": {
    "ExecuteTime": {
     "end_time": "2020-11-16T18:12:06.052787000Z",
     "start_time": "2020-11-16T18:12:05.200Z"
    }
   },
   "outputs": [
    {
     "data": {
      "text/plain": [
       "1b\n"
      ]
     },
     "execution_count": 75,
     "metadata": {},
     "output_type": "execute_result"
    }
   ],
   "source": [
    "12:00=12:00:00.000"
   ]
  },
  {
   "cell_type": "code",
   "execution_count": 76,
   "metadata": {
    "ExecuteTime": {
     "end_time": "2020-11-16T18:12:06.054138000Z",
     "start_time": "2020-11-16T18:12:05.203Z"
    }
   },
   "outputs": [
    {
     "data": {
      "text/plain": [
       "1b\n"
      ]
     },
     "execution_count": 76,
     "metadata": {},
     "output_type": "execute_result"
    }
   ],
   "source": [
    "12:00=12:00:00.000000000"
   ]
  },
  {
   "cell_type": "markdown",
   "metadata": {},
   "source": [
    "### second"
   ]
  },
  {
   "cell_type": "markdown",
   "metadata": {},
   "source": [
    "The second type is stored as **32-bit signed integer and is denoted by hh:mm:ss**. A second value counts the number of seconds from midnight."
   ]
  },
  {
   "cell_type": "code",
   "execution_count": 77,
   "metadata": {
    "ExecuteTime": {
     "end_time": "2020-11-16T18:12:06.055502000Z",
     "start_time": "2020-11-16T18:12:05.206Z"
    }
   },
   "outputs": [
    {
     "data": {
      "text/plain": [
       "23:59:59\n"
      ]
     },
     "execution_count": 77,
     "metadata": {},
     "output_type": "execute_result"
    }
   ],
   "source": [
    "23:59:59"
   ]
  },
  {
   "cell_type": "code",
   "execution_count": 78,
   "metadata": {
    "ExecuteTime": {
     "end_time": "2020-11-16T18:12:06.056875000Z",
     "start_time": "2020-11-16T18:12:05.209Z"
    }
   },
   "outputs": [
    {
     "data": {
      "text/plain": [
       "1b\n"
      ]
     },
     "execution_count": 78,
     "metadata": {},
     "output_type": "execute_result"
    }
   ],
   "source": [
    "23:59:59=-1+24*60*60"
   ]
  },
  {
   "cell_type": "code",
   "execution_count": 79,
   "metadata": {
    "ExecuteTime": {
     "end_time": "2020-11-16T18:12:06.059174000Z",
     "start_time": "2020-11-16T18:12:05.212Z"
    }
   },
   "outputs": [
    {
     "data": {
      "text/plain": [
       "45296i\n"
      ]
     },
     "execution_count": 79,
     "metadata": {},
     "output_type": "execute_result"
    },
    {
     "data": {
      "text/plain": [
       "45296000i\n"
      ]
     },
     "execution_count": 79,
     "metadata": {},
     "output_type": "execute_result"
    },
    {
     "data": {
      "text/plain": [
       "45296000000000\n"
      ]
     },
     "execution_count": 79,
     "metadata": {},
     "output_type": "execute_result"
    }
   ],
   "source": [
    "`int$12:34:56\n",
    "`int$12:34:56.000\n",
    "`long$12:34:56.000000000"
   ]
  },
  {
   "cell_type": "markdown",
   "metadata": {},
   "source": [
    "Nevertheless, these values are equal in the eyes of q – as they should be, since they are merely representations in different units of the same position on a clock."
   ]
  },
  {
   "cell_type": "code",
   "execution_count": 80,
   "metadata": {
    "ExecuteTime": {
     "end_time": "2020-11-16T18:12:06.061010000Z",
     "start_time": "2020-11-16T18:12:05.215Z"
    }
   },
   "outputs": [
    {
     "data": {
      "text/plain": [
       "1b\n"
      ]
     },
     "execution_count": 80,
     "metadata": {},
     "output_type": "execute_result"
    },
    {
     "data": {
      "text/plain": [
       "1b\n"
      ]
     },
     "execution_count": 80,
     "metadata": {},
     "output_type": "execute_result"
    }
   ],
   "source": [
    "12:34:56=12:34:56.000\n",
    "12:34:56.000=12:34:56.000000000"
   ]
  },
  {
   "cell_type": "markdown",
   "metadata": {},
   "source": [
    "### Constituents and Dot Notation"
   ]
  },
  {
   "cell_type": "code",
   "execution_count": 81,
   "metadata": {
    "ExecuteTime": {
     "end_time": "2020-11-16T18:12:06.061890000Z",
     "start_time": "2020-11-16T18:12:05.218Z"
    }
   },
   "outputs": [],
   "source": [
    "dt:2014.01.01"
   ]
  },
  {
   "cell_type": "code",
   "execution_count": 82,
   "metadata": {
    "ExecuteTime": {
     "end_time": "2020-11-16T18:12:06.064188000Z",
     "start_time": "2020-11-16T18:12:05.221Z"
    }
   },
   "outputs": [
    {
     "data": {
      "text/plain": [
       "2014i\n"
      ]
     },
     "execution_count": 82,
     "metadata": {},
     "output_type": "execute_result"
    },
    {
     "data": {
      "text/plain": [
       "1i\n"
      ]
     },
     "execution_count": 82,
     "metadata": {},
     "output_type": "execute_result"
    },
    {
     "data": {
      "text/plain": [
       "1i\n"
      ]
     },
     "execution_count": 82,
     "metadata": {},
     "output_type": "execute_result"
    }
   ],
   "source": [
    "dt.year\n",
    "dt.mm\n",
    "dt.dd"
   ]
  },
  {
   "cell_type": "code",
   "execution_count": 12,
   "metadata": {
    "ExecuteTime": {
     "end_time": "2021-02-01T19:28:41.283909000Z",
     "start_time": "2021-02-01T19:28:41.280Z"
    }
   },
   "outputs": [
    {
     "data": {
      "text/plain": [
       "12i\n"
      ]
     },
     "execution_count": 12,
     "metadata": {},
     "output_type": "execute_result"
    },
    {
     "data": {
      "text/plain": [
       "34i\n"
      ]
     },
     "execution_count": 12,
     "metadata": {},
     "output_type": "execute_result"
    },
    {
     "data": {
      "text/plain": [
       "56i\n"
      ]
     },
     "execution_count": 12,
     "metadata": {},
     "output_type": "execute_result"
    }
   ],
   "source": [
    "ti:12:34:56.123456789\n",
    "ti.hh\n",
    "ti.mm\n",
    "ti.ss"
   ]
  },
  {
   "cell_type": "markdown",
   "metadata": {},
   "source": [
    "**Unfortunately, at the time of this writing (Sep 2015) dot notation for extraction (still) does not work inside functions.**\n",
    "\n",
    "Thus we recommend avoiding dot notation altogether and using Cast instead, as it always works for any meaningful temporal extraction or conversion. In addition to the individual field values, you can also extract higher-order constituents.\n",
    "\n",
    "\n"
   ]
  },
  {
   "cell_type": "code",
   "execution_count": 84,
   "metadata": {
    "ExecuteTime": {
     "end_time": "2020-11-16T18:12:06.069654000Z",
     "start_time": "2020-11-16T18:12:05.227Z"
    }
   },
   "outputs": [
    {
     "data": {
      "text/plain": [
       "1i\n"
      ]
     },
     "execution_count": 84,
     "metadata": {},
     "output_type": "execute_result"
    },
    {
     "data": {
      "text/plain": [
       "1i\n"
      ]
     },
     "execution_count": 84,
     "metadata": {},
     "output_type": "execute_result"
    },
    {
     "data": {
      "text/plain": [
       "1i\n"
      ]
     },
     "execution_count": 84,
     "metadata": {},
     "output_type": "execute_result"
    },
    {
     "data": {
      "text/plain": [
       "2014.01m\n"
      ]
     },
     "execution_count": 84,
     "metadata": {},
     "output_type": "execute_result"
    }
   ],
   "source": [
    "`dd$dt\n",
    "`mm$dt\n",
    "`dd$dt\n",
    "`month$dt"
   ]
  },
  {
   "cell_type": "markdown",
   "metadata": {},
   "source": [
    "To extract milliseconds or nanoseconds from a time type, cast to the underlying integer and mod the result by 1000 or 1000000000."
   ]
  },
  {
   "cell_type": "code",
   "execution_count": 85,
   "metadata": {
    "ExecuteTime": {
     "end_time": "2020-11-16T18:12:06.071027000Z",
     "start_time": "2020-11-16T18:12:05.231Z"
    }
   },
   "outputs": [
    {
     "data": {
      "text/plain": [
       "789\n"
      ]
     },
     "execution_count": 85,
     "metadata": {},
     "output_type": "execute_result"
    }
   ],
   "source": [
    "(`int$12:34:56.789) mod 1000"
   ]
  },
  {
   "cell_type": "code",
   "execution_count": 86,
   "metadata": {
    "ExecuteTime": {
     "end_time": "2020-11-16T18:12:06.072388000Z",
     "start_time": "2020-11-16T18:12:05.234Z"
    }
   },
   "outputs": [
    {
     "data": {
      "text/plain": [
       "123456789\n"
      ]
     },
     "execution_count": 86,
     "metadata": {},
     "output_type": "execute_result"
    }
   ],
   "source": [
    "(`long$12:34:56.123456789) mod 1000000000"
   ]
  },
  {
   "cell_type": "markdown",
   "metadata": {},
   "source": [
    "## Arithmetic Infinities and Nulls"
   ]
  },
  {
   "cell_type": "markdown",
   "metadata": {},
   "source": [
    "Types whose underlying values are integer or floating point have special lexical forms representing values that lie outside the \"normal\" domain. We list the basic ones in the following table. The others are obtained by appending the appropriate type suffices."
   ]
  },
  {
   "cell_type": "markdown",
   "metadata": {},
   "source": [
    "![](../data/pic/null.png)"
   ]
  },
  {
   "cell_type": "markdown",
   "metadata": {},
   "source": [
    "Observe the distinction between lower case `w` in the float literals and upper case `W` in the integer literals. The character `w` was chosen for its resemblance to the infinity symbol. Seriously."
   ]
  },
  {
   "cell_type": "code",
   "execution_count": 90,
   "metadata": {
    "ExecuteTime": {
     "end_time": "2020-11-16T18:34:25.197657000Z",
     "start_time": "2020-11-16T18:34:25.193Z"
    }
   },
   "outputs": [
    {
     "data": {
      "text/plain": [
       "0w\n"
      ]
     },
     "execution_count": 90,
     "metadata": {},
     "output_type": "execute_result"
    },
    {
     "data": {
      "text/plain": [
       "-0w\n"
      ]
     },
     "execution_count": 90,
     "metadata": {},
     "output_type": "execute_result"
    },
    {
     "data": {
      "text/plain": [
       "0n\n"
      ]
     },
     "execution_count": 90,
     "metadata": {},
     "output_type": "execute_result"
    }
   ],
   "source": [
    "3%0\n",
    "-3%0\n",
    "0%0"
   ]
  },
  {
   "cell_type": "markdown",
   "metadata": {
    "ExecuteTime": {
     "end_time": "2020-11-16T18:34:04.680569000Z",
     "start_time": "2020-11-16T18:34:04.673Z"
    }
   },
   "source": [
    "The q philosophy is that any valid arithmetic expression will produce a result rather than a runtime error. Therefore, dividing by 0 produces a special float value rather than throwing an exception. You can perform a complex sequence of calculations without worrying about things blowing up in the middle or having to insert cumbersome exception trapping."
   ]
  },
  {
   "cell_type": "markdown",
   "metadata": {
    "ExecuteTime": {
     "end_time": "2020-11-16T18:34:11.052439000Z",
     "start_time": "2020-11-16T18:34:11.047Z"
    }
   },
   "source": [
    "The integral infinities and nulls cannot be produced via division on normal integer values, since the result of division in q is always a float. Moreover, while integral nulls propagate as nulls should, the integral infinities do **not** perform as you would expect in arithmetic operations. The integral infinities **do** produce the correct results in comparisons; in fact, this is their raison d’être."
   ]
  },
  {
   "cell_type": "code",
   "execution_count": 91,
   "metadata": {
    "ExecuteTime": {
     "end_time": "2020-11-16T18:36:12.906560000Z",
     "start_time": "2020-11-16T18:36:12.899Z"
    }
   },
   "outputs": [
    {
     "data": {
      "text/plain": [
       "1b\n"
      ]
     },
     "execution_count": 91,
     "metadata": {},
     "output_type": "execute_result"
    }
   ],
   "source": [
    "42<0W"
   ]
  },
  {
   "cell_type": "code",
   "execution_count": 92,
   "metadata": {
    "ExecuteTime": {
     "end_time": "2020-11-16T18:36:17.566492000Z",
     "start_time": "2020-11-16T18:36:17.563Z"
    }
   },
   "outputs": [
    {
     "data": {
      "text/plain": [
       "1b\n"
      ]
     },
     "execution_count": 92,
     "metadata": {},
     "output_type": "execute_result"
    }
   ],
   "source": [
    "-0W<42"
   ]
  },
  {
   "cell_type": "markdown",
   "metadata": {},
   "source": [
    "To understand the integral nulls and infinities, realize that they are actually valid bit patterns for their corresponding types. Here are the long versions."
   ]
  },
  {
   "cell_type": "markdown",
   "metadata": {},
   "source": [
    "![](../data/pic/null_2.png)"
   ]
  },
  {
   "cell_type": "markdown",
   "metadata": {},
   "source": [
    "`0N` < `-0W` < normal integer < `0W`"
   ]
  },
  {
   "cell_type": "code",
   "execution_count": 93,
   "metadata": {
    "ExecuteTime": {
     "end_time": "2020-11-16T18:39:05.803474000Z",
     "start_time": "2020-11-16T18:39:05.795Z"
    }
   },
   "outputs": [
    {
     "data": {
      "text/plain": [
       "0W\n"
      ]
     },
     "execution_count": 93,
     "metadata": {},
     "output_type": "execute_result"
    },
    {
     "data": {
      "text/plain": [
       "0N\n"
      ]
     },
     "execution_count": 93,
     "metadata": {},
     "output_type": "execute_result"
    },
    {
     "data": {
      "text/plain": [
       "-9223372036854775806\n"
      ]
     },
     "execution_count": 93,
     "metadata": {},
     "output_type": "execute_result"
    }
   ],
   "source": [
    "9223372036854775806+1\n",
    "-0W-1\n",
    "-0W+1"
   ]
  },
  {
   "cell_type": "markdown",
   "metadata": {},
   "source": [
    "**Q does not trap overflow**"
   ]
  },
  {
   "cell_type": "code",
   "execution_count": 94,
   "metadata": {
    "ExecuteTime": {
     "end_time": "2020-11-16T18:40:25.103002000Z",
     "start_time": "2020-11-16T18:40:25.092Z"
    }
   },
   "outputs": [
    {
     "data": {
      "text/plain": [
       "0N\n"
      ]
     },
     "execution_count": 94,
     "metadata": {},
     "output_type": "execute_result"
    },
    {
     "data": {
      "text/plain": [
       "-0W\n"
      ]
     },
     "execution_count": 94,
     "metadata": {},
     "output_type": "execute_result"
    },
    {
     "data": {
      "text/plain": [
       "-9223372036854775806\n"
      ]
     },
     "execution_count": 94,
     "metadata": {},
     "output_type": "execute_result"
    }
   ],
   "source": [
    "0W+1\n",
    "0W+2\n",
    "0W+3"
   ]
  },
  {
   "cell_type": "markdown",
   "metadata": {},
   "source": [
    "Implementing proper arithmetic on integer infinities would entail expensive tests in the arithmetic operators and an unacceptable slow-down for normal arithmetic."
   ]
  },
  {
   "cell_type": "markdown",
   "metadata": {},
   "source": [
    "## Nulls"
   ]
  },
  {
   "cell_type": "markdown",
   "metadata": {},
   "source": [
    "![](../data/pic/null_3.png)"
   ]
  },
  {
   "cell_type": "markdown",
   "metadata": {},
   "source": [
    "### Binary Nulls\n",
    "The binary types have no null values. There is no room since every bit pattern is a legitimate value."
   ]
  },
  {
   "cell_type": "markdown",
   "metadata": {},
   "source": [
    "### Numeric and Temporal Nulls"
   ]
  },
  {
   "cell_type": "markdown",
   "metadata": {},
   "source": [
    "The numeric and temporal types have their own designated null values. Here the situation is similar to SQL, in that you can distinguish missing data from data whose underlying value is zero. In contrast, there is no universal null value and q nulls take the same space as non-nulls.\n",
    "\n",
    "An advantage of the q approach is that the null values act like other values in expressions. **The tradeoff is that you must use the correct null value in type-checked situations.**"
   ]
  },
  {
   "cell_type": "markdown",
   "metadata": {},
   "source": [
    "### Text Nulls"
   ]
  },
  {
   "cell_type": "markdown",
   "metadata": {},
   "source": [
    "Considering a symbol as variable length text justifies that the symbol null is the empty symbol, designated by a naked back-tick \\`.\n",
    "\n",
    "The null value for the char type is the blank character **\" \"**. As with binary data, you cannot distinguish between a missing char value and a blank value. Again, this is not seriously limiting in practice, but you should ensure that your application does not rely on this distinction.\n",
    "\n",
    "**The value \"\" is not a null char. It is an empty list of char.**"
   ]
  },
  {
   "cell_type": "markdown",
   "metadata": {},
   "source": [
    "### Testing for Null"
   ]
  },
  {
   "cell_type": "markdown",
   "metadata": {},
   "source": [
    "You could test for null using = but this requires a null literal of correct type. **Because q is dynamically typed, this can result in problems if a variable changes type during program execution.**\n",
    "\n",
    "**Always use the unary `null` to test a value for null, as opposed to =**, as it provides a type-independent check. Also, you don't have to remember the funky null literals."
   ]
  },
  {
   "cell_type": "code",
   "execution_count": 95,
   "metadata": {
    "ExecuteTime": {
     "end_time": "2020-11-16T18:49:07.526039000Z",
     "start_time": "2020-11-16T18:49:07.522Z"
    }
   },
   "outputs": [
    {
     "data": {
      "text/plain": [
       "0b\n"
      ]
     },
     "execution_count": 95,
     "metadata": {},
     "output_type": "execute_result"
    },
    {
     "data": {
      "text/plain": [
       "1b\n"
      ]
     },
     "execution_count": 95,
     "metadata": {},
     "output_type": "execute_result"
    },
    {
     "data": {
      "text/plain": [
       "1b\n"
      ]
     },
     "execution_count": 95,
     "metadata": {},
     "output_type": "execute_result"
    },
    {
     "data": {
      "text/plain": [
       "`boolean$()\n"
      ]
     },
     "execution_count": 95,
     "metadata": {},
     "output_type": "execute_result"
    }
   ],
   "source": [
    "null 42\n",
    "null `\n",
    "null \" \"\n",
    "null \"\""
   ]
  },
  {
   "cell_type": "code",
   "execution_count": null,
   "metadata": {},
   "outputs": [],
   "source": []
  }
 ],
 "metadata": {
  "kernelspec": {
   "display_name": "Q (kdb+)",
   "language": "q",
   "name": "qpk"
  },
  "language_info": {
   "file_extension": ".q",
   "mimetype": "text/x-q",
   "name": "q",
   "version": "4.0"
  },
  "toc": {
   "base_numbering": "0",
   "nav_menu": {},
   "number_sections": true,
   "sideBar": true,
   "skip_h1_title": false,
   "title_cell": "Table of Contents",
   "title_sidebar": "Contents",
   "toc_cell": true,
   "toc_position": {},
   "toc_section_display": true,
   "toc_window_display": false
  }
 },
 "nbformat": 4,
 "nbformat_minor": 4
}
