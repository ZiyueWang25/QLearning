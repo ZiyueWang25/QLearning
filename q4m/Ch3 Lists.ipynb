{
 "cells": [
  {
   "cell_type": "markdown",
   "metadata": {
    "toc": true
   },
   "source": [
    "<h1>Table of Contents<span class=\"tocSkip\"></span></h1>\n",
    "<div class=\"toc\"><ul class=\"toc-item\"><li><span><a href=\"#Overview\" data-toc-modified-id=\"Overview-0\"><span class=\"toc-item-num\">0&nbsp;&nbsp;</span>Overview</a></span></li><li><span><a href=\"#Introduction-to-Lists\" data-toc-modified-id=\"Introduction-to-Lists-1\"><span class=\"toc-item-num\">1&nbsp;&nbsp;</span>Introduction to Lists</a></span><ul class=\"toc-item\"><li><span><a href=\"#List-Definition-and-Assignment\" data-toc-modified-id=\"List-Definition-and-Assignment-1.1\"><span class=\"toc-item-num\">1.1&nbsp;&nbsp;</span>List Definition and Assignment</a></span></li><li><span><a href=\"#count\" data-toc-modified-id=\"count-1.2\"><span class=\"toc-item-num\">1.2&nbsp;&nbsp;</span>count</a></span></li></ul></li><li><span><a href=\"#Simple-Lists\" data-toc-modified-id=\"Simple-Lists-2\"><span class=\"toc-item-num\">2&nbsp;&nbsp;</span>Simple Lists</a></span><ul class=\"toc-item\"><li><span><a href=\"#Simple-Integer-Lists\" data-toc-modified-id=\"Simple-Integer-Lists-2.1\"><span class=\"toc-item-num\">2.1&nbsp;&nbsp;</span>Simple Integer Lists</a></span></li><li><span><a href=\"#SImple-Floating-Point-Lists\" data-toc-modified-id=\"SImple-Floating-Point-Lists-2.2\"><span class=\"toc-item-num\">2.2&nbsp;&nbsp;</span>SImple Floating Point Lists</a></span></li><li><span><a href=\"#Simple-Binary-Lists\" data-toc-modified-id=\"Simple-Binary-Lists-2.3\"><span class=\"toc-item-num\">2.3&nbsp;&nbsp;</span>Simple Binary Lists</a></span></li><li><span><a href=\"#Simple-Symbol-Lists\" data-toc-modified-id=\"Simple-Symbol-Lists-2.4\"><span class=\"toc-item-num\">2.4&nbsp;&nbsp;</span>Simple Symbol Lists</a></span></li><li><span><a href=\"#Simple-char-Lists-and-Strings\" data-toc-modified-id=\"Simple-char-Lists-and-Strings-2.5\"><span class=\"toc-item-num\">2.5&nbsp;&nbsp;</span>Simple char Lists and Strings</a></span></li><li><span><a href=\"#Lists-of-Temporal-Data\" data-toc-modified-id=\"Lists-of-Temporal-Data-2.6\"><span class=\"toc-item-num\">2.6&nbsp;&nbsp;</span>Lists of Temporal Data</a></span></li></ul></li><li><span><a href=\"#Empty-and-Singleton-Lists\" data-toc-modified-id=\"Empty-and-Singleton-Lists-3\"><span class=\"toc-item-num\">3&nbsp;&nbsp;</span>Empty and Singleton Lists</a></span><ul class=\"toc-item\"><li><span><a href=\"#The-General-Empty-List\" data-toc-modified-id=\"The-General-Empty-List-3.1\"><span class=\"toc-item-num\">3.1&nbsp;&nbsp;</span>The General Empty List</a></span></li><li><span><a href=\"#Singleton-Lists\" data-toc-modified-id=\"Singleton-Lists-3.2\"><span class=\"toc-item-num\">3.2&nbsp;&nbsp;</span>Singleton Lists</a></span></li></ul></li><li><span><a href=\"#Indexing\" data-toc-modified-id=\"Indexing-4\"><span class=\"toc-item-num\">4&nbsp;&nbsp;</span>Indexing</a></span><ul class=\"toc-item\"><li><span><a href=\"#Index-Notation\" data-toc-modified-id=\"Index-Notation-4.1\"><span class=\"toc-item-num\">4.1&nbsp;&nbsp;</span>Index Notation</a></span></li><li><span><a href=\"#Index-Assignment\" data-toc-modified-id=\"Index-Assignment-4.2\"><span class=\"toc-item-num\">4.2&nbsp;&nbsp;</span>Index Assignment</a></span></li><li><span><a href=\"#Indexing-Domain\" data-toc-modified-id=\"Indexing-Domain-4.3\"><span class=\"toc-item-num\">4.3&nbsp;&nbsp;</span>Indexing Domain</a></span></li><li><span><a href=\"#Empty-Index-and-Null-Item\" data-toc-modified-id=\"Empty-Index-and-Null-Item-4.4\"><span class=\"toc-item-num\">4.4&nbsp;&nbsp;</span>Empty Index and Null Item</a></span></li><li><span><a href=\"#Lists-with-Expressions\" data-toc-modified-id=\"Lists-with-Expressions-4.5\"><span class=\"toc-item-num\">4.5&nbsp;&nbsp;</span>Lists with Expressions</a></span></li></ul></li><li><span><a href=\"#Combining-Lists\" data-toc-modified-id=\"Combining-Lists-5\"><span class=\"toc-item-num\">5&nbsp;&nbsp;</span>Combining Lists</a></span><ul class=\"toc-item\"><li><span><a href=\"#Joining-with-,\" data-toc-modified-id=\"Joining-with-,-5.1\"><span class=\"toc-item-num\">5.1&nbsp;&nbsp;</span>Joining with <code>,</code></a></span></li><li><span><a href=\"#Merging-with-^\" data-toc-modified-id=\"Merging-with-^-5.2\"><span class=\"toc-item-num\">5.2&nbsp;&nbsp;</span>Merging with <code>^</code></a></span></li></ul></li><li><span><a href=\"#Lists-as-Maps\" data-toc-modified-id=\"Lists-as-Maps-6\"><span class=\"toc-item-num\">6&nbsp;&nbsp;</span>Lists as Maps</a></span></li><li><span><a href=\"#Nesting\" data-toc-modified-id=\"Nesting-7\"><span class=\"toc-item-num\">7&nbsp;&nbsp;</span>Nesting</a></span><ul class=\"toc-item\"><li><span><a href=\"#Depth\" data-toc-modified-id=\"Depth-7.1\"><span class=\"toc-item-num\">7.1&nbsp;&nbsp;</span>Depth</a></span></li><li><span><a href=\"#Pictorial-Representation\" data-toc-modified-id=\"Pictorial-Representation-7.2\"><span class=\"toc-item-num\">7.2&nbsp;&nbsp;</span>Pictorial Representation</a></span></li><li><span><a href=\"#Examples\" data-toc-modified-id=\"Examples-7.3\"><span class=\"toc-item-num\">7.3&nbsp;&nbsp;</span>Examples</a></span></li></ul></li><li><span><a href=\"#Iterated-Indexing-and-Indexing-at-Depth\" data-toc-modified-id=\"Iterated-Indexing-and-Indexing-at-Depth-8\"><span class=\"toc-item-num\">8&nbsp;&nbsp;</span>Iterated Indexing and Indexing at Depth</a></span><ul class=\"toc-item\"><li><span><a href=\"#Iterated-Item-Indexing\" data-toc-modified-id=\"Iterated-Item-Indexing-8.1\"><span class=\"toc-item-num\">8.1&nbsp;&nbsp;</span>Iterated Item Indexing</a></span></li><li><span><a href=\"#Indexing-at-Depth\" data-toc-modified-id=\"Indexing-at-Depth-8.2\"><span class=\"toc-item-num\">8.2&nbsp;&nbsp;</span>Indexing at Depth</a></span></li></ul></li><li><span><a href=\"#Indexing-with-Lists\" data-toc-modified-id=\"Indexing-with-Lists-9\"><span class=\"toc-item-num\">9&nbsp;&nbsp;</span>Indexing with Lists</a></span><ul class=\"toc-item\"><li><span><a href=\"#Retrieving-Multiple-Items\" data-toc-modified-id=\"Retrieving-Multiple-Items-9.1\"><span class=\"toc-item-num\">9.1&nbsp;&nbsp;</span>Retrieving Multiple Items</a></span></li><li><span><a href=\"#Indexing-via-a-Variable\" data-toc-modified-id=\"Indexing-via-a-Variable-9.2\"><span class=\"toc-item-num\">9.2&nbsp;&nbsp;</span>Indexing via a Variable</a></span></li><li><span><a href=\"#Indexing-with-Nested-Lists\" data-toc-modified-id=\"Indexing-with-Nested-Lists-9.3\"><span class=\"toc-item-num\">9.3&nbsp;&nbsp;</span>Indexing with Nested Lists</a></span></li><li><span><a href=\"#Assignment-with-list-Indexing\" data-toc-modified-id=\"Assignment-with-list-Indexing-9.4\"><span class=\"toc-item-num\">9.4&nbsp;&nbsp;</span>Assignment with list Indexing</a></span></li><li><span><a href=\"#Juxtaposition\" data-toc-modified-id=\"Juxtaposition-9.5\"><span class=\"toc-item-num\">9.5&nbsp;&nbsp;</span>Juxtaposition</a></span></li><li><span><a href=\"#Find-(?)\" data-toc-modified-id=\"Find-(?)-9.6\"><span class=\"toc-item-num\">9.6&nbsp;&nbsp;</span>Find (?)</a></span></li></ul></li><li><span><a href=\"#Elided-Indices\" data-toc-modified-id=\"Elided-Indices-10\"><span class=\"toc-item-num\">10&nbsp;&nbsp;</span>Elided Indices</a></span><ul class=\"toc-item\"><li><span><a href=\"#Eliding-Indices-for-a-Matrix\" data-toc-modified-id=\"Eliding-Indices-for-a-Matrix-10.1\"><span class=\"toc-item-num\">10.1&nbsp;&nbsp;</span>Eliding Indices for a Matrix</a></span></li><li><span><a href=\"#Eliding-Indices-for-Deeply-Nested-Lists\" data-toc-modified-id=\"Eliding-Indices-for-Deeply-Nested-Lists-10.2\"><span class=\"toc-item-num\">10.2&nbsp;&nbsp;</span>Eliding Indices for Deeply Nested Lists</a></span></li></ul></li><li><span><a href=\"#Rectangular-Lists-and-Matrices\" data-toc-modified-id=\"Rectangular-Lists-and-Matrices-11\"><span class=\"toc-item-num\">11&nbsp;&nbsp;</span>Rectangular Lists and Matrices</a></span><ul class=\"toc-item\"><li><span><a href=\"#Rectangular-Lists\" data-toc-modified-id=\"Rectangular-Lists-11.1\"><span class=\"toc-item-num\">11.1&nbsp;&nbsp;</span>Rectangular Lists</a></span></li><li><span><a href=\"#Formal-Definition-of-Matrices\" data-toc-modified-id=\"Formal-Definition-of-Matrices-11.2\"><span class=\"toc-item-num\">11.2&nbsp;&nbsp;</span>Formal Definition of Matrices</a></span></li><li><span><a href=\"#Two--and-Three--Dimensional-Matrices\" data-toc-modified-id=\"Two--and-Three--Dimensional-Matrices-11.3\"><span class=\"toc-item-num\">11.3&nbsp;&nbsp;</span>Two- and Three- Dimensional Matrices</a></span></li><li><span><a href=\"#Matrix-Flexibility\" data-toc-modified-id=\"Matrix-Flexibility-11.4\"><span class=\"toc-item-num\">11.4&nbsp;&nbsp;</span>Matrix Flexibility</a></span></li></ul></li><li><span><a href=\"#Useful-List-Operations\" data-toc-modified-id=\"Useful-List-Operations-12\"><span class=\"toc-item-num\">12&nbsp;&nbsp;</span>Useful List Operations</a></span><ul class=\"toc-item\"><li><span><a href=\"#til\" data-toc-modified-id=\"til-12.1\"><span class=\"toc-item-num\">12.1&nbsp;&nbsp;</span><code>til</code></a></span></li><li><span><a href=\"#distinct\" data-toc-modified-id=\"distinct-12.2\"><span class=\"toc-item-num\">12.2&nbsp;&nbsp;</span><code>distinct</code></a></span></li><li><span><a href=\"#where\" data-toc-modified-id=\"where-12.3\"><span class=\"toc-item-num\">12.3&nbsp;&nbsp;</span><code>where</code></a></span></li><li><span><a href=\"#group\" data-toc-modified-id=\"group-12.4\"><span class=\"toc-item-num\">12.4&nbsp;&nbsp;</span><code>group</code></a></span></li></ul></li></ul></div>"
   ]
  },
  {
   "cell_type": "markdown",
   "metadata": {},
   "source": [
    "## Overview\n",
    "\n",
    "\n",
    "- They are not stored as singly-linked lists under the covers. **Simple lists occupy contiguous storage and general lists are pointers in contiguous storage.**\n",
    "- Appending items to the end rather than “cons”-ing to the front.\n",
    "- Efficient direct item access is available via indexing.\n",
    "- A general list can hold items of different type without resorting to a union (sum) type."
   ]
  },
  {
   "cell_type": "markdown",
   "metadata": {},
   "source": [
    "## Introduction to Lists\n",
    "\n",
    "a list is recursively defined as an ordered collection of atoms and other lists."
   ]
  },
  {
   "cell_type": "markdown",
   "metadata": {},
   "source": [
    "### List Definition and Assignment\n",
    "\n",
    "A (general) list is an ordered collection of q data. The members of the collection are its items. **The notation for a general list encloses its items within matching parentheses and separates them with semi-colons.**"
   ]
  },
  {
   "cell_type": "code",
   "execution_count": 1,
   "metadata": {
    "ExecuteTime": {
     "end_time": "2020-11-17T00:49:37.413456000Z",
     "start_time": "2020-11-17T00:49:37.407Z"
    }
   },
   "outputs": [
    {
     "data": {
      "text/plain": [
       "1\n",
       "1.1\n",
       "`1\n"
      ]
     },
     "execution_count": 1,
     "metadata": {},
     "output_type": "execute_result"
    },
    {
     "data": {
      "text/plain": [
       "1 2 3\n"
      ]
     },
     "execution_count": 1,
     "metadata": {},
     "output_type": "execute_result"
    },
    {
     "data": {
      "text/plain": [
       "\"abcd\"\n"
      ]
     },
     "execution_count": 1,
     "metadata": {},
     "output_type": "execute_result"
    },
    {
     "data": {
      "text/plain": [
       "`Life`the`Universe`and`Everything\n"
      ]
     },
     "execution_count": 1,
     "metadata": {},
     "output_type": "execute_result"
    },
    {
     "data": {
      "text/plain": [
       "-10f\n",
       "3.1415e\n",
       "1b\n",
       "`abc\n",
       "\"z\"\n"
      ]
     },
     "execution_count": 1,
     "metadata": {},
     "output_type": "execute_result"
    },
    {
     "data": {
      "text/plain": [
       "1 2 3\n",
       "4 5\n"
      ]
     },
     "execution_count": 1,
     "metadata": {},
     "output_type": "execute_result"
    },
    {
     "data": {
      "text/plain": [
       "1 2 3\n",
       "(`1;\"2\";3)\n",
       "4.4\n"
      ]
     },
     "execution_count": 1,
     "metadata": {},
     "output_type": "execute_result"
    }
   ],
   "source": [
    "(1; 1.1; `1)\n",
    "(1; 2; 3)\n",
    "(\"a\";\"b\";\"c\";\"d\")\n",
    "(`Life;`the;`Universe;`and;`Everything)\n",
    "(-10.0; 3.1415e; 1b; `abc; \"z\")\n",
    "((1; 2; 3); (4; 5))\n",
    "((1; 2; 3); (`1; \"2\"; 3); 4.4)"
   ]
  },
  {
   "cell_type": "code",
   "execution_count": 3,
   "metadata": {
    "ExecuteTime": {
     "end_time": "2020-11-17T00:51:03.383975000Z",
     "start_time": "2020-11-17T00:51:03.376Z"
    }
   },
   "outputs": [],
   "source": [
    "L1:(1;2;3)\n",
    "L2:(\"z\";\"a\";\"p\";\"h\";\"o\";\"d\")\n",
    "L3:((1; 2; 3); (`1; \"2\"; 3); 4.4)"
   ]
  },
  {
   "cell_type": "markdown",
   "metadata": {},
   "source": [
    "### count\n",
    "\n",
    "`count` returns a long equal to the number of items in the list to its right. The maximum number of items for a list in q3.* is $2^{64}-1$. "
   ]
  },
  {
   "cell_type": "code",
   "execution_count": 4,
   "metadata": {
    "ExecuteTime": {
     "end_time": "2020-11-17T00:51:21.260810000Z",
     "start_time": "2020-11-17T00:51:21.252Z"
    }
   },
   "outputs": [
    {
     "data": {
      "text/plain": [
       "3\n"
      ]
     },
     "execution_count": 4,
     "metadata": {},
     "output_type": "execute_result"
    },
    {
     "data": {
      "text/plain": [
       "3\n"
      ]
     },
     "execution_count": 4,
     "metadata": {},
     "output_type": "execute_result"
    }
   ],
   "source": [
    "count (1; 2; 3)\n",
    "count L1"
   ]
  },
  {
   "cell_type": "code",
   "execution_count": 5,
   "metadata": {
    "ExecuteTime": {
     "end_time": "2020-11-17T00:52:28.660586000Z",
     "start_time": "2020-11-17T00:52:28.655Z"
    }
   },
   "outputs": [
    {
     "data": {
      "text/plain": [
       "1\n"
      ]
     },
     "execution_count": 5,
     "metadata": {},
     "output_type": "execute_result"
    },
    {
     "data": {
      "text/plain": [
       "1\n"
      ]
     },
     "execution_count": 5,
     "metadata": {},
     "output_type": "execute_result"
    }
   ],
   "source": [
    "count 42\n",
    "count `zaphod"
   ]
  },
  {
   "cell_type": "code",
   "execution_count": 6,
   "metadata": {
    "ExecuteTime": {
     "end_time": "2020-11-17T00:52:43.122092000Z",
     "start_time": "2020-11-17T00:52:43.113Z"
    }
   },
   "outputs": [
    {
     "data": {
      "text/plain": [
       "1\n"
      ]
     },
     "execution_count": 6,
     "metadata": {},
     "output_type": "execute_result"
    },
    {
     "data": {
      "text/plain": [
       "3\n"
      ]
     },
     "execution_count": 6,
     "metadata": {},
     "output_type": "execute_result"
    }
   ],
   "source": [
    "first (1; 2; 3)\n",
    "last (1; 2; 3)"
   ]
  },
  {
   "cell_type": "markdown",
   "metadata": {},
   "source": [
    "## Simple Lists\n",
    "\n",
    "A list of atoms of a uniform type, called a _simple list_, corresponds to the mathematical notion of a vector. Such lists are treated specially in q. They have a simplified notation, **take less storage and compute faster than general lists**."
   ]
  },
  {
   "cell_type": "markdown",
   "metadata": {},
   "source": [
    "### Simple Integer Lists"
   ]
  },
  {
   "cell_type": "code",
   "execution_count": 7,
   "metadata": {
    "ExecuteTime": {
     "end_time": "2020-11-17T00:54:47.120618000Z",
     "start_time": "2020-11-17T00:54:47.110Z"
    }
   },
   "outputs": [
    {
     "data": {
      "text/plain": [
       "100 200 300\n"
      ]
     },
     "execution_count": 7,
     "metadata": {},
     "output_type": "execute_result"
    },
    {
     "data": {
      "text/plain": [
       "100 200 300\n"
      ]
     },
     "execution_count": 7,
     "metadata": {},
     "output_type": "execute_result"
    },
    {
     "data": {
      "text/plain": [
       "1b\n"
      ]
     },
     "execution_count": 7,
     "metadata": {},
     "output_type": "execute_result"
    }
   ],
   "source": [
    "(100;200;300)\n",
    "100 200 300\n",
    "100 200 300~(100; 200 ; 300)"
   ]
  },
  {
   "cell_type": "markdown",
   "metadata": {},
   "source": [
    "**Trailing type indicator**"
   ]
  },
  {
   "cell_type": "code",
   "execution_count": 8,
   "metadata": {
    "ExecuteTime": {
     "end_time": "2020-11-17T00:55:03.371072000Z",
     "start_time": "2020-11-17T00:55:03.362Z"
    }
   },
   "outputs": [
    {
     "data": {
      "text/plain": [
       "1 2 3h\n"
      ]
     },
     "execution_count": 8,
     "metadata": {},
     "output_type": "execute_result"
    },
    {
     "data": {
      "text/plain": [
       "100 200 300i\n"
      ]
     },
     "execution_count": 8,
     "metadata": {},
     "output_type": "execute_result"
    }
   ],
   "source": [
    "(1h; 2h; 3h)\n",
    "(100i; 200i; 300i)"
   ]
  },
  {
   "cell_type": "code",
   "execution_count": 9,
   "metadata": {
    "ExecuteTime": {
     "end_time": "2020-11-17T00:55:42.374388000Z",
     "start_time": "2020-11-17T00:55:42.366Z"
    }
   },
   "outputs": [
    {
     "data": {
      "text/plain": [
       "1\n",
       "2\n",
       "3h\n"
      ]
     },
     "execution_count": 9,
     "metadata": {},
     "output_type": "execute_result"
    }
   ],
   "source": [
    "(1; 2; 3h)"
   ]
  },
  {
   "cell_type": "markdown",
   "metadata": {},
   "source": [
    "### SImple Floating Point Lists"
   ]
  },
  {
   "cell_type": "code",
   "execution_count": 10,
   "metadata": {
    "ExecuteTime": {
     "end_time": "2020-11-17T00:56:02.495979000Z",
     "start_time": "2020-11-17T00:56:02.484Z"
    }
   },
   "outputs": [
    {
     "data": {
      "text/plain": [
       "123.4567 9876.543 99\n"
      ]
     },
     "execution_count": 10,
     "metadata": {},
     "output_type": "execute_result"
    },
    {
     "data": {
      "text/plain": [
       "123.4567 9876.543 99\n"
      ]
     },
     "execution_count": 10,
     "metadata": {},
     "output_type": "execute_result"
    }
   ],
   "source": [
    "(123.4567; 9876.543; 99.0)\n",
    "123.4567 9876.543 99"
   ]
  },
  {
   "cell_type": "markdown",
   "metadata": {},
   "source": [
    "Observe that the q console suppresses the decimal point when displaying a float having zero(es) to the right of the decimal; but **the value is not an integer**."
   ]
  },
  {
   "cell_type": "code",
   "execution_count": 11,
   "metadata": {
    "ExecuteTime": {
     "end_time": "2020-11-17T00:56:40.833001000Z",
     "start_time": "2020-11-17T00:56:40.830Z"
    }
   },
   "outputs": [
    {
     "data": {
      "text/plain": [
       "1 2 3f\n"
      ]
     },
     "execution_count": 11,
     "metadata": {},
     "output_type": "execute_result"
    }
   ],
   "source": [
    "1.0 2.0 3.0"
   ]
  },
  {
   "cell_type": "code",
   "execution_count": 12,
   "metadata": {
    "ExecuteTime": {
     "end_time": "2020-11-17T00:56:47.917721000Z",
     "start_time": "2020-11-17T00:56:47.910Z"
    }
   },
   "outputs": [
    {
     "data": {
      "text/plain": [
       "1b\n"
      ]
     },
     "execution_count": 12,
     "metadata": {},
     "output_type": "execute_result"
    }
   ],
   "source": [
    "1 2 3f~1.0 2.0 3.0"
   ]
  },
  {
   "cell_type": "code",
   "execution_count": 13,
   "metadata": {
    "ExecuteTime": {
     "end_time": "2020-11-17T00:57:05.772454000Z",
     "start_time": "2020-11-17T00:57:05.765Z"
    }
   },
   "outputs": [
    {
     "data": {
      "text/plain": [
       "1b\n"
      ]
     },
     "execution_count": 13,
     "metadata": {},
     "output_type": "execute_result"
    }
   ],
   "source": [
    "1.1 2 3.3~1.1 2.0 3.3"
   ]
  },
  {
   "cell_type": "markdown",
   "metadata": {},
   "source": [
    "### Simple Binary Lists"
   ]
  },
  {
   "cell_type": "markdown",
   "metadata": {},
   "source": [
    "The abbreviated notation for a simple list of boolean or byte data juxtaposes the individual data values together with **no** whitespace between. The `b` type indicator for boolean trails the list."
   ]
  },
  {
   "cell_type": "code",
   "execution_count": 14,
   "metadata": {
    "ExecuteTime": {
     "end_time": "2020-11-17T00:58:01.438693000Z",
     "start_time": "2020-11-17T00:58:01.433Z"
    }
   },
   "outputs": [
    {
     "data": {
      "text/plain": [
       "01011b\n"
      ]
     },
     "execution_count": 14,
     "metadata": {},
     "output_type": "execute_result"
    },
    {
     "data": {
      "text/plain": [
       "01011b\n"
      ]
     },
     "execution_count": 14,
     "metadata": {},
     "output_type": "execute_result"
    }
   ],
   "source": [
    "(0b;1b;0b;1b;1b)\n",
    "01011b"
   ]
  },
  {
   "cell_type": "markdown",
   "metadata": {},
   "source": [
    "**Storage for a simple boolean list**\n",
    "\n",
    "A simple list of boolean atoms requires the same number of bytes to store as it has atoms. While the simplified notation is suggestive of a bit mask, **multiple bits are not compressed to fit inside a single byte. The boolean list above uses 5 bytes of storage.**"
   ]
  },
  {
   "cell_type": "markdown",
   "metadata": {},
   "source": [
    "The `0x` indicator for a simple list of byte precedes the list."
   ]
  },
  {
   "cell_type": "code",
   "execution_count": 15,
   "metadata": {
    "ExecuteTime": {
     "end_time": "2020-11-17T00:59:25.269555000Z",
     "start_time": "2020-11-17T00:59:25.266Z"
    }
   },
   "outputs": [
    {
     "data": {
      "text/plain": [
       "0x20a1ff\n"
      ]
     },
     "execution_count": 15,
     "metadata": {},
     "output_type": "execute_result"
    },
    {
     "data": {
      "text/plain": [
       "1b\n"
      ]
     },
     "execution_count": 15,
     "metadata": {},
     "output_type": "execute_result"
    }
   ],
   "source": [
    "(0x20;0xa1;0xff)\n",
    "0x20a1ff~(0x20;0xa1;0xff)"
   ]
  },
  {
   "cell_type": "markdown",
   "metadata": {},
   "source": [
    "The display of a simple list of GUIDs is the same is that of integers – i.e., the values are separated by spaces."
   ]
  },
  {
   "cell_type": "code",
   "execution_count": 16,
   "metadata": {
    "ExecuteTime": {
     "end_time": "2020-11-17T00:59:42.084531000Z",
     "start_time": "2020-11-17T00:59:42.081Z"
    }
   },
   "outputs": [
    {
     "data": {
      "text/plain": [
       "8c6b8b64-6815-6084-0a3e-178401251b68 5ae7962d-49f2-404d-5aec-f7c8abbae288 5a5..\n"
      ]
     },
     "execution_count": 16,
     "metadata": {},
     "output_type": "execute_result"
    }
   ],
   "source": [
    "3?0Ng"
   ]
  },
  {
   "cell_type": "markdown",
   "metadata": {},
   "source": [
    "### Simple Symbol Lists"
   ]
  },
  {
   "cell_type": "markdown",
   "metadata": {},
   "source": [
    "The abbreviated notation for simple lists of symbols juxtaposes the individual atoms with **no** intervening whitespace."
   ]
  },
  {
   "cell_type": "code",
   "execution_count": 17,
   "metadata": {
    "ExecuteTime": {
     "end_time": "2020-11-17T01:00:12.004473000Z",
     "start_time": "2020-11-17T01:00:12.001Z"
    }
   },
   "outputs": [
    {
     "data": {
      "text/plain": [
       "`Life`the`Universe`and`Everything\n"
      ]
     },
     "execution_count": 17,
     "metadata": {},
     "output_type": "execute_result"
    },
    {
     "data": {
      "text/plain": [
       "`Life`the`Universe`and`Everything\n"
      ]
     },
     "execution_count": 17,
     "metadata": {},
     "output_type": "execute_result"
    }
   ],
   "source": [
    "(`Life;`the;`Universe;`and;`Everything)\n",
    "`Life`the`Universe`and`Everything"
   ]
  },
  {
   "cell_type": "code",
   "execution_count": 18,
   "metadata": {
    "ExecuteTime": {
     "end_time": "2020-11-17T01:00:58.608900000Z",
     "start_time": "2020-11-17T01:00:58.601Z"
    }
   },
   "outputs": [
    {
     "data": {
      "text/plain": [
       "`bad`news\n"
      ]
     },
     "execution_count": 18,
     "metadata": {},
     "output_type": "execute_result"
    }
   ],
   "source": [
    "`bad`news"
   ]
  },
  {
   "cell_type": "code",
   "execution_count": 17,
   "metadata": {
    "ExecuteTime": {
     "end_time": "2020-11-17T01:00:20.173452000Z",
     "start_time": "2020-11-17T01:00:20.170Z"
    }
   },
   "outputs": [
    {
     "ename": "\u001b[0;31mbad\u001b[0m",
     "evalue": "\u001b[0;31mbad\u001b[0m",
     "output_type": "error",
     "traceback": [
      "\u001b[0;31mevaluation error:\n\u001b[0m",
      "\u001b[0;31mbad\u001b[0m",
      "\u001b[0;31m\u001b[0m",
      "\u001b[0;31m  [0]  `bad `news\n       ^\n\u001b[0m"
     ]
    }
   ],
   "source": [
    "`bad `news"
   ]
  },
  {
   "cell_type": "markdown",
   "metadata": {},
   "source": [
    "### Simple char Lists and Strings"
   ]
  },
  {
   "cell_type": "code",
   "execution_count": 20,
   "metadata": {
    "ExecuteTime": {
     "end_time": "2020-11-17T01:01:24.738787000Z",
     "start_time": "2020-11-17T01:01:24.734Z"
    }
   },
   "outputs": [
    {
     "data": {
      "text/plain": [
       "\"string\"\n"
      ]
     },
     "execution_count": 20,
     "metadata": {},
     "output_type": "execute_result"
    },
    {
     "data": {
      "text/plain": [
       "\"string\"\n"
      ]
     },
     "execution_count": 20,
     "metadata": {},
     "output_type": "execute_result"
    }
   ],
   "source": [
    "(\"s\"; \"t\"; \"r\"; \"i\"; \"n\"; \"g\")\n",
    "\"string\""
   ]
  },
  {
   "cell_type": "markdown",
   "metadata": {},
   "source": [
    "A simple list of char is actually called a string; however, it does not have the atomic semantics of a string in most languages. Since it is a list of char, **not** an atom, you cannot ask if two strings of different lengths are equal. You can ask if they are identical (as you can with any two q entities)."
   ]
  },
  {
   "cell_type": "code",
   "execution_count": 20,
   "metadata": {
    "ExecuteTime": {
     "end_time": "2020-11-17T01:01:30.998856000Z",
     "start_time": "2020-11-17T01:01:30.995Z"
    }
   },
   "outputs": [
    {
     "ename": "\u001b[0;31mlength\u001b[0m",
     "evalue": "\u001b[0;31mlength\u001b[0m",
     "output_type": "error",
     "traceback": [
      "\u001b[0;31mevaluation error:\n\u001b[0m",
      "\u001b[0;31mlength\u001b[0m",
      "\u001b[0;31m\u001b[0m",
      "\u001b[0;31m  [0]  \"string\"=\"text\"\n               ^\n\u001b[0m"
     ]
    }
   ],
   "source": [
    "\"string\"=\"text\""
   ]
  },
  {
   "cell_type": "code",
   "execution_count": 1,
   "metadata": {
    "ExecuteTime": {
     "end_time": "2020-11-22T11:34:16.414259000Z",
     "start_time": "2020-11-22T11:34:16.412Z"
    }
   },
   "outputs": [
    {
     "data": {
      "text/plain": [
       "111011b\n"
      ]
     },
     "execution_count": 1,
     "metadata": {},
     "output_type": "execute_result"
    }
   ],
   "source": [
    "\"string\"=\"strrng\""
   ]
  },
  {
   "cell_type": "markdown",
   "metadata": {},
   "source": [
    "### Lists of Temporal Data"
   ]
  },
  {
   "cell_type": "code",
   "execution_count": 1,
   "metadata": {
    "ExecuteTime": {
     "end_time": "2020-11-17T12:39:22.477135000Z",
     "start_time": "2020-11-17T12:39:22.469Z"
    }
   },
   "outputs": [
    {
     "data": {
      "text/plain": [
       "2000.01.01 2001.01.01 2002.01.01\n"
      ]
     },
     "execution_count": 1,
     "metadata": {},
     "output_type": "execute_result"
    },
    {
     "data": {
      "text/plain": [
       "00:00:00.000 00:00:01.000 00:00:02.000\n"
      ]
     },
     "execution_count": 1,
     "metadata": {},
     "output_type": "execute_result"
    }
   ],
   "source": [
    "(2000.01.01; 2001.01.01; 2002.01.01)\n",
    "(00:00:00.000; 00:00:01.000; 00:00:02.000)"
   ]
  },
  {
   "cell_type": "markdown",
   "metadata": {},
   "source": [
    "Specifying a list of mixed temporal types has a different behavior from that of a list of mixed numeric types. In this case, the list takes the type of the first item in the list; other items are widened or narrowed to match."
   ]
  },
  {
   "cell_type": "code",
   "execution_count": 3,
   "metadata": {
    "ExecuteTime": {
     "end_time": "2020-11-17T12:40:18.347226000Z",
     "start_time": "2020-11-17T12:40:18.338Z"
    }
   },
   "outputs": [
    {
     "data": {
      "text/plain": [
       "12:34:00 01:02:03\n"
      ]
     },
     "execution_count": 3,
     "metadata": {},
     "output_type": "execute_result"
    },
    {
     "data": {
      "text/plain": [
       "01:02:03 12:34:00\n"
      ]
     },
     "execution_count": 3,
     "metadata": {},
     "output_type": "execute_result"
    }
   ],
   "source": [
    "12:34 01:02:03\n",
    "01:02:03 12:34"
   ]
  },
  {
   "cell_type": "code",
   "execution_count": 14,
   "metadata": {
    "ExecuteTime": {
     "end_time": "2020-11-17T12:49:27.232624000Z",
     "start_time": "2020-11-17T12:49:27.230Z"
    }
   },
   "outputs": [],
   "source": [
    "l:01:02:03 12:34 11:59:59.999u"
   ]
  },
  {
   "cell_type": "code",
   "execution_count": 15,
   "metadata": {
    "ExecuteTime": {
     "end_time": "2020-11-17T12:49:28.627121000Z",
     "start_time": "2020-11-17T12:49:28.620Z"
    }
   },
   "outputs": [
    {
     "data": {
      "text/plain": [
       "01:02 12:34 11:59\n"
      ]
     },
     "execution_count": 15,
     "metadata": {},
     "output_type": "execute_result"
    }
   ],
   "source": [
    "l"
   ]
  },
  {
   "cell_type": "code",
   "execution_count": 18,
   "metadata": {
    "ExecuteTime": {
     "end_time": "2020-11-17T12:49:49.004350000Z",
     "start_time": "2020-11-17T12:49:49.001Z"
    }
   },
   "outputs": [
    {
     "data": {
      "text/plain": [
       "11:59\n"
      ]
     },
     "execution_count": 18,
     "metadata": {},
     "output_type": "execute_result"
    }
   ],
   "source": [
    "l[2]"
   ]
  },
  {
   "cell_type": "markdown",
   "metadata": {},
   "source": [
    "## Empty and Singleton Lists\n",
    "Lists with one or zero items merit special consideration, especially since q’s notation and display are not exactly intuitive."
   ]
  },
  {
   "cell_type": "markdown",
   "metadata": {},
   "source": [
    "### The General Empty List\n",
    "\n",
    "A pair of parentheses enclosing nothing (except optional whitespace) denotes the general empty list, which (annoyingly) has no console display.\n",
    "\n",
    "\n"
   ]
  },
  {
   "cell_type": "code",
   "execution_count": 19,
   "metadata": {
    "ExecuteTime": {
     "end_time": "2020-11-17T12:50:42.402185000Z",
     "start_time": "2020-11-17T12:50:42.399Z"
    }
   },
   "outputs": [
    {
     "data": {
      "text/plain": []
     },
     "execution_count": 19,
     "metadata": {},
     "output_type": "execute_result"
    }
   ],
   "source": [
    "()"
   ]
  },
  {
   "cell_type": "markdown",
   "metadata": {},
   "source": [
    "it is possible to define an empty list with a specific type, so that **only items of that type can be added to it.**"
   ]
  },
  {
   "cell_type": "markdown",
   "metadata": {},
   "source": [
    "If you want to force the display of an empty list, use the q utility `.Q.s1`, which converts any q entity into a string suitable for display. Perhaps this utility should be called the “wizard of Oz” operator since it reveals what’s behind the curtain."
   ]
  },
  {
   "cell_type": "code",
   "execution_count": 20,
   "metadata": {
    "ExecuteTime": {
     "end_time": "2020-11-17T12:51:45.117541000Z",
     "start_time": "2020-11-17T12:51:45.114Z"
    }
   },
   "outputs": [
    {
     "data": {
      "text/plain": []
     },
     "execution_count": 20,
     "metadata": {},
     "output_type": "execute_result"
    },
    {
     "data": {
      "text/plain": [
       "\"()\"\n"
      ]
     },
     "execution_count": 20,
     "metadata": {},
     "output_type": "execute_result"
    }
   ],
   "source": [
    "L:()\n",
    "L\n",
    ".Q.s1 L"
   ]
  },
  {
   "cell_type": "markdown",
   "metadata": {},
   "source": [
    "### Singleton Lists"
   ]
  },
  {
   "cell_type": "markdown",
   "metadata": {},
   "source": [
    "there is no way to type a singleton literal. Singletons are created by the function `enlist`, which “boxes” its argument into a list with one item. Note that it manages to avoid the usual q predilection for aggressively short names."
   ]
  },
  {
   "cell_type": "code",
   "execution_count": 21,
   "metadata": {
    "ExecuteTime": {
     "end_time": "2020-11-17T12:53:14.013015000Z",
     "start_time": "2020-11-17T12:53:14.006Z"
    }
   },
   "outputs": [
    {
     "data": {
      "text/plain": [
       ",42\n"
      ]
     },
     "execution_count": 21,
     "metadata": {},
     "output_type": "execute_result"
    }
   ],
   "source": [
    "enlist 42"
   ]
  },
  {
   "cell_type": "code",
   "execution_count": 22,
   "metadata": {
    "ExecuteTime": {
     "end_time": "2020-11-17T12:53:45.216613000Z",
     "start_time": "2020-11-17T12:53:45.213Z"
    }
   },
   "outputs": [
    {
     "data": {
      "text/plain": [
       "\"a\"\n"
      ]
     },
     "execution_count": 22,
     "metadata": {},
     "output_type": "execute_result"
    }
   ],
   "source": [
    "\"a\" / a character atom instead of a string with a single character"
   ]
  },
  {
   "cell_type": "code",
   "execution_count": 23,
   "metadata": {
    "ExecuteTime": {
     "end_time": "2020-11-17T12:53:48.754017000Z",
     "start_time": "2020-11-17T12:53:48.752Z"
    }
   },
   "outputs": [
    {
     "data": {
      "text/plain": [
       ",\"a\"\n"
      ]
     },
     "execution_count": 23,
     "metadata": {},
     "output_type": "execute_result"
    }
   ],
   "source": [
    "enlist \"a\" / a string with a single character"
   ]
  },
  {
   "cell_type": "markdown",
   "metadata": {},
   "source": [
    "## Indexing"
   ]
  },
  {
   "cell_type": "markdown",
   "metadata": {},
   "source": [
    "### Index Notation"
   ]
  },
  {
   "cell_type": "code",
   "execution_count": 25,
   "metadata": {
    "ExecuteTime": {
     "end_time": "2020-11-17T12:55:53.001166000Z",
     "start_time": "2020-11-17T12:55:52.990Z"
    }
   },
   "outputs": [
    {
     "data": {
      "text/plain": [
       "100\n"
      ]
     },
     "execution_count": 25,
     "metadata": {},
     "output_type": "execute_result"
    },
    {
     "data": {
      "text/plain": [
       "100\n"
      ]
     },
     "execution_count": 25,
     "metadata": {},
     "output_type": "execute_result"
    },
    {
     "data": {
      "text/plain": [
       "100\n"
      ]
     },
     "execution_count": 25,
     "metadata": {},
     "output_type": "execute_result"
    },
    {
     "data": {
      "text/plain": [
       "200\n"
      ]
     },
     "execution_count": 25,
     "metadata": {},
     "output_type": "execute_result"
    },
    {
     "data": {
      "text/plain": [
       "300\n"
      ]
     },
     "execution_count": 25,
     "metadata": {},
     "output_type": "execute_result"
    },
    {
     "data": {
      "text/plain": [
       "0N\n"
      ]
     },
     "execution_count": 25,
     "metadata": {},
     "output_type": "execute_result"
    }
   ],
   "source": [
    "(100; 200; 300)[0]\n",
    "100 200 300[0]\n",
    "L:100 200 300\n",
    "L[0]\n",
    "L[1]\n",
    "L[2]\n",
    "L[3]"
   ]
  },
  {
   "cell_type": "markdown",
   "metadata": {},
   "source": [
    "### Index Assignment"
   ]
  },
  {
   "cell_type": "code",
   "execution_count": 26,
   "metadata": {
    "ExecuteTime": {
     "end_time": "2020-11-17T12:56:26.519139000Z",
     "start_time": "2020-11-17T12:56:26.516Z"
    }
   },
   "outputs": [
    {
     "data": {
      "text/plain": [
       "100 42 300\n"
      ]
     },
     "execution_count": 26,
     "metadata": {},
     "output_type": "execute_result"
    }
   ],
   "source": [
    "L[1]:42\n",
    "L"
   ]
  },
  {
   "cell_type": "markdown",
   "metadata": {},
   "source": [
    "Index assignment into a simple list **enforces strict type matching with no type promotion**. Otherwise put, when you assign an item into a simple list, the type must match exactly – i.e., a narrower type is not widened."
   ]
  },
  {
   "cell_type": "code",
   "execution_count": 26,
   "metadata": {
    "ExecuteTime": {
     "end_time": "2020-11-17T12:57:10.053458000Z",
     "start_time": "2020-11-17T12:57:10.050Z"
    }
   },
   "outputs": [
    {
     "ename": "\u001b[0;31mtype\u001b[0m",
     "evalue": "\u001b[0;31mtype\u001b[0m",
     "output_type": "error",
     "traceback": [
      "\u001b[0;31mevaluation error:\n\u001b[0m",
      "\u001b[0;31mtype\u001b[0m",
      "\u001b[0;31m\u001b[0m",
      "\u001b[0;31m  [0]  L[1]:42h\n           ^\n\u001b[0m"
     ]
    }
   ],
   "source": [
    "L[1]:42h"
   ]
  },
  {
   "cell_type": "markdown",
   "metadata": {},
   "source": [
    "### Indexing Domain"
   ]
  },
  {
   "cell_type": "code",
   "execution_count": 26,
   "metadata": {
    "ExecuteTime": {
     "end_time": "2020-11-17T12:58:28.788541000Z",
     "start_time": "2020-11-17T12:58:28.785Z"
    }
   },
   "outputs": [
    {
     "ename": "\u001b[0;31mtype\u001b[0m",
     "evalue": "\u001b[0;31mtype\u001b[0m",
     "output_type": "error",
     "traceback": [
      "\u001b[0;31mevaluation error:\n\u001b[0m",
      "\u001b[0;31mtype\u001b[0m",
      "\u001b[0;31m\u001b[0m",
      "\u001b[0;31m  [0]  L[1.0]\n       ^\n\u001b[0m"
     ]
    }
   ],
   "source": [
    "L:(-10.0; 3.1415e; 1b; `abc; \"z\")\n",
    "L[1.0]"
   ]
  },
  {
   "cell_type": "markdown",
   "metadata": {},
   "source": [
    "In contrast, if you index outside the proper bounds of the list, the result is **not** an error. Instead you get a null value, indicating “missing data.” Specifically, indexing outside the range of 0 to (`count` L) – 1 **yields a null of the type of the item at index 0**. This is the most efficient thing to return in the case of a general list where there is no canonical item type."
   ]
  },
  {
   "cell_type": "code",
   "execution_count": 27,
   "metadata": {
    "ExecuteTime": {
     "end_time": "2020-11-17T12:59:14.586231000Z",
     "start_time": "2020-11-17T12:59:14.583Z"
    }
   },
   "outputs": [
    {
     "data": {
      "text/plain": [
       "0N\n"
      ]
     },
     "execution_count": 27,
     "metadata": {},
     "output_type": "execute_result"
    }
   ],
   "source": [
    "L1:1 2 3 4\n",
    "L1[4]"
   ]
  },
  {
   "cell_type": "code",
   "execution_count": 28,
   "metadata": {
    "ExecuteTime": {
     "end_time": "2020-11-17T12:59:23.684840000Z",
     "start_time": "2020-11-17T12:59:23.682Z"
    }
   },
   "outputs": [
    {
     "data": {
      "text/plain": [
       "0n\n"
      ]
     },
     "execution_count": 28,
     "metadata": {},
     "output_type": "execute_result"
    }
   ],
   "source": [
    "L2:1.1 2.2 3.3\n",
    "L2[-1]"
   ]
  },
  {
   "cell_type": "code",
   "execution_count": 29,
   "metadata": {
    "ExecuteTime": {
     "end_time": "2020-11-17T12:59:38.409910000Z",
     "start_time": "2020-11-17T12:59:38.401Z"
    }
   },
   "outputs": [
    {
     "data": {
      "text/plain": [
       "`\n"
      ]
     },
     "execution_count": 29,
     "metadata": {},
     "output_type": "execute_result"
    }
   ],
   "source": [
    "L3:(`1; 2; 3.3)\n",
    "L3[0W]"
   ]
  },
  {
   "cell_type": "markdown",
   "metadata": {},
   "source": [
    "### Empty Index and Null Item"
   ]
  },
  {
   "cell_type": "code",
   "execution_count": 1,
   "metadata": {
    "ExecuteTime": {
     "end_time": "2021-02-01T19:47:19.848164000Z",
     "start_time": "2021-02-01T19:47:19.845Z"
    }
   },
   "outputs": [
    {
     "data": {
      "text/plain": [
       "10 20 30 40\n"
      ]
     },
     "execution_count": 1,
     "metadata": {},
     "output_type": "execute_result"
    }
   ],
   "source": [
    "L:10 20 30 40\n",
    "L[]"
   ]
  },
  {
   "cell_type": "markdown",
   "metadata": {},
   "source": [
    "An omitted index is **not** the same as indexing with an empty list. The latter returns an empty list, so we use the `.Q.s1` utility to reveal its display."
   ]
  },
  {
   "cell_type": "code",
   "execution_count": 2,
   "metadata": {
    "ExecuteTime": {
     "end_time": "2021-02-01T19:47:23.807994000Z",
     "start_time": "2021-02-01T19:47:23.801Z"
    }
   },
   "outputs": [
    {
     "data": {
      "text/plain": []
     },
     "execution_count": 2,
     "metadata": {},
     "output_type": "execute_result"
    }
   ],
   "source": [
    "L[()]"
   ]
  },
  {
   "cell_type": "code",
   "execution_count": 2,
   "metadata": {
    "ExecuteTime": {
     "end_time": "2020-11-17T18:09:18.627057000Z",
     "start_time": "2020-11-17T18:09:18.624Z"
    }
   },
   "outputs": [
    {
     "data": {
      "text/plain": [
       "\"()\"\n"
      ]
     },
     "execution_count": 2,
     "metadata": {},
     "output_type": "execute_result"
    }
   ],
   "source": [
    ".Q.s1 L[()]"
   ]
  },
  {
   "cell_type": "markdown",
   "metadata": {},
   "source": [
    "The syntactic form double-colon `::` denotes the nil item, which allows explicit notation or programmatic generation of an empty index."
   ]
  },
  {
   "cell_type": "code",
   "execution_count": 3,
   "metadata": {
    "ExecuteTime": {
     "end_time": "2020-11-17T18:09:32.420208000Z",
     "start_time": "2020-11-17T18:09:32.408Z"
    }
   },
   "outputs": [
    {
     "data": {
      "text/plain": [
       "10 20 30 40\n"
      ]
     },
     "execution_count": 3,
     "metadata": {},
     "output_type": "execute_result"
    }
   ],
   "source": [
    "L[::]"
   ]
  },
  {
   "cell_type": "markdown",
   "metadata": {},
   "source": [
    "The type of the nil item does not match any other type in q. Consequently, inclusion of the nil item in a list forces the list to be general."
   ]
  },
  {
   "cell_type": "code",
   "execution_count": 4,
   "metadata": {
    "ExecuteTime": {
     "end_time": "2020-11-17T18:10:50.625675000Z",
     "start_time": "2020-11-17T18:10:50.620Z"
    }
   },
   "outputs": [],
   "source": [
    "L:(::; 1 ; 2 ; 3)"
   ]
  },
  {
   "cell_type": "code",
   "execution_count": 5,
   "metadata": {
    "ExecuteTime": {
     "end_time": "2020-11-17T18:10:57.754370000Z",
     "start_time": "2020-11-17T18:10:57.747Z"
    }
   },
   "outputs": [
    {
     "data": {
      "text/plain": [
       "0h\n"
      ]
     },
     "execution_count": 5,
     "metadata": {},
     "output_type": "execute_result"
    }
   ],
   "source": [
    "type L"
   ]
  },
  {
   "cell_type": "code",
   "execution_count": 6,
   "metadata": {
    "ExecuteTime": {
     "end_time": "2020-11-17T18:11:03.399196000Z",
     "start_time": "2020-11-17T18:11:03.392Z"
    }
   },
   "outputs": [
    {
     "data": {
      "text/plain": [
       "\"::\"\n"
      ]
     },
     "execution_count": 6,
     "metadata": {},
     "output_type": "execute_result"
    }
   ],
   "source": [
    ".Q.s1 L[0]"
   ]
  },
  {
   "cell_type": "markdown",
   "metadata": {},
   "source": [
    "This is one way to avoid a nasty surprise when q would otherwise automatically convert a list to simple type. A simple case is when you reassign the only non-conforming item in the list."
   ]
  },
  {
   "cell_type": "code",
   "execution_count": 6,
   "metadata": {
    "ExecuteTime": {
     "end_time": "2020-11-17T18:12:13.961806000Z",
     "start_time": "2020-11-17T18:12:13.956Z"
    }
   },
   "outputs": [
    {
     "data": {
      "text/plain": [
       "1 2 3 4\n"
      ]
     },
     "execution_count": 7,
     "metadata": {},
     "output_type": "execute_result"
    },
    {
     "ename": "\u001b[0;31mtype\u001b[0m",
     "evalue": "\u001b[0;31mtype\u001b[0m",
     "output_type": "error",
     "traceback": [
      "\u001b[0;31mevaluation error:\n\u001b[0m",
      "\u001b[0;31mtype\u001b[0m",
      "\u001b[0;31m\u001b[0m",
      "\u001b[0;31m  [0]  L[3]:`a\n           ^\n\u001b[0m"
     ]
    }
   ],
   "source": [
    "L:(1; 2; 3; `a)\n",
    "L[3]:4\n",
    "L\n",
    "L[3]:`a"
   ]
  },
  {
   "cell_type": "markdown",
   "metadata": {},
   "source": [
    "After the reassignment you can no longer assign \\`a back into the list in its original position. One way to avoid this is by placing `::` in the list as a guard."
   ]
  },
  {
   "cell_type": "code",
   "execution_count": 8,
   "metadata": {
    "ExecuteTime": {
     "end_time": "2020-11-17T18:12:52.686160000Z",
     "start_time": "2020-11-17T18:12:52.682Z"
    }
   },
   "outputs": [
    {
     "data": {
      "text/plain": [
       "::\n",
       "1\n",
       "2\n",
       "3\n",
       "`a\n"
      ]
     },
     "execution_count": 8,
     "metadata": {},
     "output_type": "execute_result"
    }
   ],
   "source": [
    "L:(::; 1 ; 2 ; 3; `a)\n",
    "L[4]:4\n",
    "L[4]:`a\n",
    "L"
   ]
  },
  {
   "cell_type": "markdown",
   "metadata": {},
   "source": [
    "A drawback of this technique is that you must avoid passing `::` on to expressions that use the actual data in the list."
   ]
  },
  {
   "cell_type": "markdown",
   "metadata": {},
   "source": [
    "### Lists with Expressions"
   ]
  },
  {
   "cell_type": "code",
   "execution_count": 11,
   "metadata": {
    "ExecuteTime": {
     "end_time": "2020-11-17T18:14:53.251927000Z",
     "start_time": "2020-11-17T18:14:53.247Z"
    }
   },
   "outputs": [
    {
     "data": {
      "text/plain": [
       "42 43\n"
      ]
     },
     "execution_count": 11,
     "metadata": {},
     "output_type": "execute_result"
    }
   ],
   "source": [
    "a:42\n",
    "b:43\n",
    "(a; b)\n"
   ]
  },
  {
   "cell_type": "code",
   "execution_count": 12,
   "metadata": {
    "ExecuteTime": {
     "end_time": "2020-11-17T18:15:14.389767000Z",
     "start_time": "2020-11-17T18:15:14.385Z"
    }
   },
   "outputs": [
    {
     "data": {
      "text/plain": [
       "1 2 3\n",
       "40 50\n"
      ]
     },
     "execution_count": 12,
     "metadata": {},
     "output_type": "execute_result"
    },
    {
     "data": {
      "text/plain": [
       "3 90\n"
      ]
     },
     "execution_count": 12,
     "metadata": {},
     "output_type": "execute_result"
    }
   ],
   "source": [
    "L1:1 2 3\n",
    "L2:40 50\n",
    "(L1; L2)\n",
    "(count L1; sum L2)"
   ]
  },
  {
   "cell_type": "markdown",
   "metadata": {},
   "source": [
    "You cannot use the abbreviated notation of simple lists with variables."
   ]
  },
  {
   "cell_type": "code",
   "execution_count": 13,
   "metadata": {
    "ExecuteTime": {
     "end_time": "2020-11-17T18:16:03.678962000Z",
     "start_time": "2020-11-17T18:16:03.675Z"
    }
   },
   "outputs": [
    {
     "ename": "\u001b[0;31mCannot write to handle 42. OS reports: Bad file descriptor\u001b[0m",
     "evalue": "\u001b[0;31mCannot write to handle 42. OS reports: Bad file descriptor\u001b[0m",
     "output_type": "error",
     "traceback": [
      "\u001b[0;31mevaluation error:\n\u001b[0m",
      "\u001b[0;31mCannot write to handle 42. OS reports: Bad file descriptor\u001b[0m",
      "\u001b[0;31m\u001b[0m",
      "\u001b[0;31m  [0]  a b\n       ^\n\u001b[0m"
     ]
    }
   ],
   "source": [
    "a:42\n",
    "b:43\n",
    "a b"
   ]
  },
  {
   "cell_type": "markdown",
   "metadata": {},
   "source": [
    "## Combining Lists"
   ]
  },
  {
   "cell_type": "markdown",
   "metadata": {},
   "source": [
    "### Joining with `,`"
   ]
  },
  {
   "cell_type": "code",
   "execution_count": 14,
   "metadata": {
    "ExecuteTime": {
     "end_time": "2020-11-17T18:17:23.962015000Z",
     "start_time": "2020-11-17T18:17:23.958Z"
    }
   },
   "outputs": [
    {
     "data": {
      "text/plain": [
       "1 2 3 4 5\n"
      ]
     },
     "execution_count": 14,
     "metadata": {},
     "output_type": "execute_result"
    },
    {
     "data": {
      "text/plain": [
       "1 2 3 4\n"
      ]
     },
     "execution_count": 14,
     "metadata": {},
     "output_type": "execute_result"
    },
    {
     "data": {
      "text/plain": [
       "1 2 3 4\n"
      ]
     },
     "execution_count": 14,
     "metadata": {},
     "output_type": "execute_result"
    }
   ],
   "source": [
    "1 2 3,4 5\n",
    "1, 2 3 4\n",
    "1, 2, 3, 4"
   ]
  },
  {
   "cell_type": "code",
   "execution_count": 15,
   "metadata": {
    "ExecuteTime": {
     "end_time": "2020-11-17T18:17:35.712643000Z",
     "start_time": "2020-11-17T18:17:35.705Z"
    }
   },
   "outputs": [
    {
     "data": {
      "text/plain": [
       "1\n",
       "2\n",
       "3\n",
       "4.4\n",
       "5.5\n"
      ]
     },
     "execution_count": 15,
     "metadata": {},
     "output_type": "execute_result"
    }
   ],
   "source": [
    "1 2 3,4.4 5.5 /Observe that if the arguments are not of uniform type, the result is a general list."
   ]
  },
  {
   "cell_type": "markdown",
   "metadata": {},
   "source": [
    "To ensure that a q entity becomes a list, use either `(),x` or `x,()`. This leaves a list unchanged but effectively enlists an atom. Such a seemingly trivial expression is actually useful and is our first e\n",
    "xample of a q idiom. You cannot use enlist x for the same purpose. Why not?"
   ]
  },
  {
   "cell_type": "markdown",
   "metadata": {},
   "source": [
    "### Merging with `^`"
   ]
  },
  {
   "cell_type": "markdown",
   "metadata": {},
   "source": [
    "Another way to combine two lists of the same length is by coalescing them with `^`. The result is given by the rule that the right item **prevails** over the corresponding left item except when the right item is null."
   ]
  },
  {
   "cell_type": "code",
   "execution_count": 16,
   "metadata": {
    "ExecuteTime": {
     "end_time": "2020-11-17T18:21:03.967935000Z",
     "start_time": "2020-11-17T18:21:03.965Z"
    }
   },
   "outputs": [
    {
     "data": {
      "text/plain": [
       "100 200 30\n"
      ]
     },
     "execution_count": 16,
     "metadata": {},
     "output_type": "execute_result"
    }
   ],
   "source": [
    "L1:10 0N 30\n",
    "L2:100 200 0N\n",
    "L1 ^ L2"
   ]
  },
  {
   "cell_type": "markdown",
   "metadata": {},
   "source": [
    "## Lists as Maps"
   ]
  },
  {
   "cell_type": "code",
   "execution_count": 17,
   "metadata": {
    "ExecuteTime": {
     "end_time": "2020-11-17T18:31:46.770788000Z",
     "start_time": "2020-11-17T18:31:46.757Z"
    }
   },
   "outputs": [
    {
     "data": {
      "text/plain": [
       "101 102 103 104\n"
      ]
     },
     "execution_count": 17,
     "metadata": {},
     "output_type": "execute_result"
    },
    {
     "data": {
      "text/plain": [
       "`a\n",
       "123.45\n",
       "1b\n"
      ]
     },
     "execution_count": 17,
     "metadata": {},
     "output_type": "execute_result"
    },
    {
     "data": {
      "text/plain": [
       "1 2\n",
       "3 4\n"
      ]
     },
     "execution_count": 17,
     "metadata": {},
     "output_type": "execute_result"
    }
   ],
   "source": [
    "101 102 103 104\n",
    "(`a; 123.45; 1b)\n",
    "(1 2; 3 4)"
   ]
  },
  {
   "cell_type": "markdown",
   "metadata": {},
   "source": [
    "## Nesting\n",
    "\n",
    "Data complexity is built by using lists as items of lists."
   ]
  },
  {
   "cell_type": "markdown",
   "metadata": {},
   "source": [
    "### Depth"
   ]
  },
  {
   "cell_type": "markdown",
   "metadata": {},
   "source": [
    "_Nested_ lists have item(s) that are themselves lists. The number of levels of nesting for a list is called its _depth_. Informally, the depth measures how much repeated indexing is necessary to arrive at only atoms. Atoms have depth 0 and simple lists have depth 1."
   ]
  },
  {
   "cell_type": "code",
   "execution_count": 18,
   "metadata": {
    "ExecuteTime": {
     "end_time": "2020-11-17T18:43:07.825459000Z",
     "start_time": "2020-11-17T18:43:07.822Z"
    }
   },
   "outputs": [
    {
     "data": {
      "text/plain": [
       "3\n"
      ]
     },
     "execution_count": 18,
     "metadata": {},
     "output_type": "execute_result"
    },
    {
     "data": {
      "text/plain": [
       "3\n"
      ]
     },
     "execution_count": 18,
     "metadata": {},
     "output_type": "execute_result"
    }
   ],
   "source": [
    "L:(1;2;(100;200))\n",
    "count L\n",
    "L:(1;2;100 200)\n",
    "count L"
   ]
  },
  {
   "cell_type": "code",
   "execution_count": 19,
   "metadata": {
    "ExecuteTime": {
     "end_time": "2020-11-17T18:43:26.162736000Z",
     "start_time": "2020-11-17T18:43:26.158Z"
    }
   },
   "outputs": [
    {
     "data": {
      "text/plain": [
       "1\n"
      ]
     },
     "execution_count": 19,
     "metadata": {},
     "output_type": "execute_result"
    },
    {
     "data": {
      "text/plain": [
       "2\n"
      ]
     },
     "execution_count": 19,
     "metadata": {},
     "output_type": "execute_result"
    },
    {
     "data": {
      "text/plain": [
       "100 200\n"
      ]
     },
     "execution_count": 19,
     "metadata": {},
     "output_type": "execute_result"
    }
   ],
   "source": [
    "L[0]\n",
    "L[1]\n",
    "L[2]"
   ]
  },
  {
   "cell_type": "markdown",
   "metadata": {},
   "source": [
    "### Pictorial Representation"
   ]
  },
  {
   "cell_type": "markdown",
   "metadata": {},
   "source": [
    "### Examples"
   ]
  },
  {
   "cell_type": "code",
   "execution_count": 20,
   "metadata": {
    "ExecuteTime": {
     "end_time": "2020-11-17T18:44:08.412839000Z",
     "start_time": "2020-11-17T18:44:08.401Z"
    }
   },
   "outputs": [
    {
     "data": {
      "text/plain": [
       "2\n"
      ]
     },
     "execution_count": 20,
     "metadata": {},
     "output_type": "execute_result"
    }
   ],
   "source": [
    "L2:((1;2;3);(`ab;`c))\n",
    "count L2"
   ]
  },
  {
   "cell_type": "code",
   "execution_count": 21,
   "metadata": {
    "ExecuteTime": {
     "end_time": "2020-11-17T18:48:42.721024000Z",
     "start_time": "2020-11-17T18:48:42.718Z"
    }
   },
   "outputs": [
    {
     "data": {
      "text/plain": [
       "3\n"
      ]
     },
     "execution_count": 21,
     "metadata": {},
     "output_type": "execute_result"
    }
   ],
   "source": [
    "L3:((1; 2h; 3j); (\"a\"; `bc`de); 1.23)\n",
    "count L3"
   ]
  },
  {
   "cell_type": "code",
   "execution_count": 22,
   "metadata": {
    "ExecuteTime": {
     "end_time": "2020-11-17T18:48:49.561150000Z",
     "start_time": "2020-11-17T18:48:49.552Z"
    }
   },
   "outputs": [
    {
     "data": {
      "text/plain": [
       "\"a\"\n",
       "`bc`de\n"
      ]
     },
     "execution_count": 22,
     "metadata": {},
     "output_type": "execute_result"
    },
    {
     "data": {
      "text/plain": [
       "2\n"
      ]
     },
     "execution_count": 22,
     "metadata": {},
     "output_type": "execute_result"
    }
   ],
   "source": [
    "L3[1]\n",
    "count L3[1]"
   ]
  },
  {
   "cell_type": "code",
   "execution_count": 23,
   "metadata": {
    "ExecuteTime": {
     "end_time": "2020-11-17T18:49:21.626688000Z",
     "start_time": "2020-11-17T18:49:21.617Z"
    }
   },
   "outputs": [
    {
     "data": {
      "text/plain": [
       "1\n"
      ]
     },
     "execution_count": 23,
     "metadata": {},
     "output_type": "execute_result"
    },
    {
     "data": {
      "text/plain": [
       "4\n"
      ]
     },
     "execution_count": 23,
     "metadata": {},
     "output_type": "execute_result"
    }
   ],
   "source": [
    "L4:enlist 1 2 3 4\n",
    "count L4\n",
    "count L4[0]"
   ]
  },
  {
   "cell_type": "code",
   "execution_count": 24,
   "metadata": {
    "ExecuteTime": {
     "end_time": "2020-11-17T18:49:58.163608000Z",
     "start_time": "2020-11-17T18:49:58.159Z"
    }
   },
   "outputs": [
    {
     "data": {
      "text/plain": [
       "11 12 13 14\n",
       "21 22 23 24\n",
       "31 32 33 34\n"
      ]
     },
     "execution_count": 24,
     "metadata": {},
     "output_type": "execute_result"
    },
    {
     "data": {
      "text/plain": [
       "11 12 13 14\n"
      ]
     },
     "execution_count": 24,
     "metadata": {},
     "output_type": "execute_result"
    },
    {
     "data": {
      "text/plain": [
       "21 22 23 24\n"
      ]
     },
     "execution_count": 24,
     "metadata": {},
     "output_type": "execute_result"
    },
    {
     "data": {
      "text/plain": [
       "21\n"
      ]
     },
     "execution_count": 24,
     "metadata": {},
     "output_type": "execute_result"
    }
   ],
   "source": [
    "m:((11; 12; 13; 14); (21; 22; 23; 24); (31; 32; 33; 34))\n",
    "m\n",
    "m[0]\n",
    "m[1]\n",
    "m[1][0]"
   ]
  },
  {
   "cell_type": "markdown",
   "metadata": {},
   "source": [
    "##  Iterated Indexing and Indexing at Depth"
   ]
  },
  {
   "cell_type": "markdown",
   "metadata": {},
   "source": [
    "### Iterated Item Indexing"
   ]
  },
  {
   "cell_type": "code",
   "execution_count": 25,
   "metadata": {
    "ExecuteTime": {
     "end_time": "2020-11-17T18:50:30.020940000Z",
     "start_time": "2020-11-17T18:50:30.013Z"
    }
   },
   "outputs": [
    {
     "data": {
      "text/plain": [
       "1\n"
      ]
     },
     "execution_count": 25,
     "metadata": {},
     "output_type": "execute_result"
    },
    {
     "data": {
      "text/plain": [
       "100\n",
       "200\n",
       "1000 2000 3000 4000\n"
      ]
     },
     "execution_count": 25,
     "metadata": {},
     "output_type": "execute_result"
    }
   ],
   "source": [
    "L:(1; (100; 200; (1000; 2000; 3000; 4000)))\n",
    "L[0]\n",
    "L[1]"
   ]
  },
  {
   "cell_type": "code",
   "execution_count": 26,
   "metadata": {
    "ExecuteTime": {
     "end_time": "2020-11-17T18:51:00.320077000Z",
     "start_time": "2020-11-17T18:51:00.313Z"
    }
   },
   "outputs": [
    {
     "data": {
      "text/plain": [
       "1000 2000 3000 4000\n"
      ]
     },
     "execution_count": 26,
     "metadata": {},
     "output_type": "execute_result"
    }
   ],
   "source": [
    "L[1][2]"
   ]
  },
  {
   "cell_type": "code",
   "execution_count": 27,
   "metadata": {
    "ExecuteTime": {
     "end_time": "2020-11-17T18:51:05.280278000Z",
     "start_time": "2020-11-17T18:51:05.271Z"
    }
   },
   "outputs": [
    {
     "data": {
      "text/plain": [
       "1000\n"
      ]
     },
     "execution_count": 27,
     "metadata": {},
     "output_type": "execute_result"
    }
   ],
   "source": [
    "L[1][2][0]"
   ]
  },
  {
   "cell_type": "markdown",
   "metadata": {},
   "source": [
    "###  Indexing at Depth\n",
    "\n",
    " It is strictly syntactic sugar and amounts to the same thing under the covers. This notation is called _indexing at depth_ and it looks exactly like application of a multi-valent function (which, in fact, it is). The previous retrieval can also be written as,"
   ]
  },
  {
   "cell_type": "code",
   "execution_count": 28,
   "metadata": {
    "ExecuteTime": {
     "end_time": "2020-11-17T18:51:20.304276000Z",
     "start_time": "2020-11-17T18:51:20.297Z"
    }
   },
   "outputs": [
    {
     "data": {
      "text/plain": [
       "1000\n"
      ]
     },
     "execution_count": 28,
     "metadata": {},
     "output_type": "execute_result"
    }
   ],
   "source": [
    "L[1;2;0]"
   ]
  },
  {
   "cell_type": "markdown",
   "metadata": {},
   "source": [
    "Assignment via index at depth works but assignment does **not** work with iterated indexing."
   ]
  },
  {
   "cell_type": "code",
   "execution_count": 29,
   "metadata": {
    "ExecuteTime": {
     "end_time": "2020-11-17T18:53:09.850285000Z",
     "start_time": "2020-11-17T18:53:09.847Z"
    }
   },
   "outputs": [],
   "source": [
    "L:(1; (100; 200; (1000 2000 3000 4000)))\n",
    "L[1; 2; 0]:999"
   ]
  },
  {
   "cell_type": "code",
   "execution_count": 29,
   "metadata": {
    "ExecuteTime": {
     "end_time": "2020-11-17T18:53:18.099858000Z",
     "start_time": "2020-11-17T18:53:18.097Z"
    }
   },
   "outputs": [
    {
     "ename": "\u001b[0;31mparse error\u001b[0m",
     "evalue": "\u001b[0;31massign\u001b[0m",
     "output_type": "error",
     "traceback": [
      "\u001b[0;31mparse error\u001b[0m",
      "\u001b[0;31massign\u001b[0m"
     ]
    }
   ],
   "source": [
    "L[1][2][0]:42"
   ]
  },
  {
   "cell_type": "markdown",
   "metadata": {},
   "source": [
    "The indexing at depth notation suggests thinking of `m` as a multi-dimensional matrix, whereas repeated single indexing suggests thinking of it as an array of arrays."
   ]
  },
  {
   "cell_type": "markdown",
   "metadata": {},
   "source": [
    "**Take specifying only number of rows (or columns)**\n",
    "\n",
    "\n",
    "It is possible to create a (possibly ragged) array of a given number of rows or columns from a flat list using the reshape operator `#` by specifying `0N` (missing data) for the number of rows or columns in the left operand."
   ]
  },
  {
   "cell_type": "code",
   "execution_count": 30,
   "metadata": {
    "ExecuteTime": {
     "end_time": "2020-11-17T19:34:02.511158000Z",
     "start_time": "2020-11-17T19:34:02.508Z"
    }
   },
   "outputs": [
    {
     "data": {
      "text/plain": [
       "0 1 2 3 4\n",
       "5 6 7 8 9\n"
      ]
     },
     "execution_count": 30,
     "metadata": {},
     "output_type": "execute_result"
    }
   ],
   "source": [
    "2 0N#til 10"
   ]
  },
  {
   "cell_type": "code",
   "execution_count": 31,
   "metadata": {
    "ExecuteTime": {
     "end_time": "2020-11-17T19:34:14.214748000Z",
     "start_time": "2020-11-17T19:34:14.206Z"
    }
   },
   "outputs": [
    {
     "data": {
      "text/plain": [
       "0 1 2\n",
       "3 4 5\n",
       "6 7 8\n",
       ",9\n"
      ]
     },
     "execution_count": 31,
     "metadata": {},
     "output_type": "execute_result"
    }
   ],
   "source": [
    "0N 3#til 10"
   ]
  },
  {
   "cell_type": "markdown",
   "metadata": {},
   "source": [
    "## Indexing with Lists"
   ]
  },
  {
   "cell_type": "markdown",
   "metadata": {},
   "source": [
    "### Retrieving Multiple Items\n"
   ]
  },
  {
   "cell_type": "code",
   "execution_count": 33,
   "metadata": {
    "ExecuteTime": {
     "end_time": "2020-11-17T19:35:16.986569000Z",
     "start_time": "2020-11-17T19:35:16.982Z"
    }
   },
   "outputs": [
    {
     "data": {
      "text/plain": [
       "100 300\n"
      ]
     },
     "execution_count": 33,
     "metadata": {},
     "output_type": "execute_result"
    },
    {
     "data": {
      "text/plain": [
       "400 300 100 200\n"
      ]
     },
     "execution_count": 33,
     "metadata": {},
     "output_type": "execute_result"
    },
    {
     "data": {
      "text/plain": [
       "100 300 100\n"
      ]
     },
     "execution_count": 33,
     "metadata": {},
     "output_type": "execute_result"
    }
   ],
   "source": [
    "L: 100 200 300 400\n",
    "L[0 2]\n",
    "L[3 2 0 1]\n",
    "L[0 2 0]"
   ]
  },
  {
   "cell_type": "code",
   "execution_count": 36,
   "metadata": {
    "ExecuteTime": {
     "end_time": "2020-11-17T19:36:29.295311000Z",
     "start_time": "2020-11-17T19:36:29.291Z"
    }
   },
   "outputs": [
    {
     "data": {
      "text/plain": [
       "011b\n"
      ]
     },
     "execution_count": 36,
     "metadata": {},
     "output_type": "execute_result"
    },
    {
     "data": {
      "text/plain": [
       "011b\n"
      ]
     },
     "execution_count": 36,
     "metadata": {},
     "output_type": "execute_result"
    },
    {
     "data": {
      "text/plain": [
       "\"bro\"\n"
      ]
     },
     "execution_count": 36,
     "metadata": {},
     "output_type": "execute_result"
    }
   ],
   "source": [
    "01101011b[0 2 4]\n",
    "01101011b[0,2,4]\n",
    "\"beeblebrox\"[0 7 8]"
   ]
  },
  {
   "cell_type": "markdown",
   "metadata": {},
   "source": [
    "**Getting the semi-colons right**\n",
    "\n",
    "Using a list as an index demonstrates why getting the semi-colon separators right is essential when indexing at depth. Leaving them out or using commas effectively specifies multiple indices, and you will get a corresponding list of values from the top level."
   ]
  },
  {
   "cell_type": "markdown",
   "metadata": {},
   "source": [
    "### Indexing via a Variable"
   ]
  },
  {
   "cell_type": "code",
   "execution_count": 37,
   "metadata": {
    "ExecuteTime": {
     "end_time": "2020-11-17T19:36:55.715026000Z",
     "start_time": "2020-11-17T19:36:55.712Z"
    }
   },
   "outputs": [
    {
     "data": {
      "text/plain": [
       "100 300\n"
      ]
     },
     "execution_count": 37,
     "metadata": {},
     "output_type": "execute_result"
    }
   ],
   "source": [
    "I:0 2\n",
    "L[I]"
   ]
  },
  {
   "cell_type": "markdown",
   "metadata": {},
   "source": [
    "### Indexing with Nested Lists"
   ]
  },
  {
   "cell_type": "code",
   "execution_count": 38,
   "metadata": {
    "ExecuteTime": {
     "end_time": "2020-11-17T19:37:29.891167000Z",
     "start_time": "2020-11-17T19:37:29.880Z"
    }
   },
   "outputs": [
    {
     "data": {
      "text/plain": [
       "100 200\n",
       "300 400\n"
      ]
     },
     "execution_count": 38,
     "metadata": {},
     "output_type": "execute_result"
    }
   ],
   "source": [
    "L:100 200 300 400\n",
    "L[(0 1; 2 3)]"
   ]
  },
  {
   "cell_type": "markdown",
   "metadata": {},
   "source": [
    "### Assignment with list Indexing"
   ]
  },
  {
   "cell_type": "code",
   "execution_count": 40,
   "metadata": {
    "ExecuteTime": {
     "end_time": "2020-11-17T19:38:27.556530000Z",
     "start_time": "2020-11-17T19:38:27.548Z"
    }
   },
   "outputs": [
    {
     "data": {
      "text/plain": [
       "10 200 300 400\n"
      ]
     },
     "execution_count": 40,
     "metadata": {},
     "output_type": "execute_result"
    }
   ],
   "source": [
    "L:100 200 300 400\n",
    "L[0]:10\n",
    "L"
   ]
  },
  {
   "cell_type": "code",
   "execution_count": 41,
   "metadata": {
    "ExecuteTime": {
     "end_time": "2020-11-17T19:38:37.341290000Z",
     "start_time": "2020-11-17T19:38:37.338Z"
    }
   },
   "outputs": [
    {
     "data": {
      "text/plain": [
       "10 2000 3000 4000\n"
      ]
     },
     "execution_count": 41,
     "metadata": {},
     "output_type": "execute_result"
    }
   ],
   "source": [
    "L[1 2 3]:2000 3000 4000\n",
    "L"
   ]
  },
  {
   "cell_type": "code",
   "execution_count": 42,
   "metadata": {
    "ExecuteTime": {
     "end_time": "2020-11-17T19:38:59.673634000Z",
     "start_time": "2020-11-17T19:38:59.666Z"
    }
   },
   "outputs": [
    {
     "data": {
      "text/plain": [
       "3000 2000 300 4000\n"
      ]
     },
     "execution_count": 42,
     "metadata": {},
     "output_type": "execute_result"
    }
   ],
   "source": [
    "L:100 200 300 400\n",
    "L[0 1 0 3]:1000 2000 3000 4000\n",
    "L"
   ]
  },
  {
   "cell_type": "code",
   "execution_count": 43,
   "metadata": {
    "ExecuteTime": {
     "end_time": "2020-11-17T19:39:20.511542000Z",
     "start_time": "2020-11-17T19:39:20.500Z"
    }
   },
   "outputs": [
    {
     "data": {
      "text/plain": [
       "100 999 300 999\n"
      ]
     },
     "execution_count": 43,
     "metadata": {},
     "output_type": "execute_result"
    }
   ],
   "source": [
    "L:100 200 300 400\n",
    "L[1 3]:999\n",
    "L"
   ]
  },
  {
   "cell_type": "markdown",
   "metadata": {},
   "source": [
    "### Juxtaposition"
   ]
  },
  {
   "cell_type": "markdown",
   "metadata": {},
   "source": [
    " It is permissible to leave out the brackets and juxtapose the list and index with separating whitespace (usually just a blank). Some examples follow."
   ]
  },
  {
   "cell_type": "code",
   "execution_count": 44,
   "metadata": {
    "ExecuteTime": {
     "end_time": "2020-11-17T19:39:57.283742000Z",
     "start_time": "2020-11-17T19:39:57.281Z"
    }
   },
   "outputs": [
    {
     "data": {
      "text/plain": [
       "100\n"
      ]
     },
     "execution_count": 44,
     "metadata": {},
     "output_type": "execute_result"
    }
   ],
   "source": [
    "L:100 200 300 400\n",
    "L[0]"
   ]
  },
  {
   "cell_type": "code",
   "execution_count": 45,
   "metadata": {
    "ExecuteTime": {
     "end_time": "2020-11-17T19:40:02.212154000Z",
     "start_time": "2020-11-17T19:40:02.202Z"
    }
   },
   "outputs": [
    {
     "data": {
      "text/plain": [
       "100\n"
      ]
     },
     "execution_count": 45,
     "metadata": {},
     "output_type": "execute_result"
    }
   ],
   "source": [
    "L 0"
   ]
  },
  {
   "cell_type": "code",
   "execution_count": 46,
   "metadata": {
    "ExecuteTime": {
     "end_time": "2020-11-17T19:40:10.898673000Z",
     "start_time": "2020-11-17T19:40:10.890Z"
    }
   },
   "outputs": [
    {
     "data": {
      "text/plain": [
       "300 200\n"
      ]
     },
     "execution_count": 46,
     "metadata": {},
     "output_type": "execute_result"
    },
    {
     "data": {
      "text/plain": [
       "300 200\n"
      ]
     },
     "execution_count": 46,
     "metadata": {},
     "output_type": "execute_result"
    }
   ],
   "source": [
    "L[2 1]\n",
    "L 2 1"
   ]
  },
  {
   "cell_type": "code",
   "execution_count": 47,
   "metadata": {
    "ExecuteTime": {
     "end_time": "2020-11-17T19:40:18.429181000Z",
     "start_time": "2020-11-17T19:40:18.426Z"
    }
   },
   "outputs": [
    {
     "data": {
      "text/plain": [
       "300 200\n"
      ]
     },
     "execution_count": 47,
     "metadata": {},
     "output_type": "execute_result"
    }
   ],
   "source": [
    "I:2 1\n",
    "L I"
   ]
  },
  {
   "cell_type": "code",
   "execution_count": 48,
   "metadata": {
    "ExecuteTime": {
     "end_time": "2020-11-17T19:40:23.045872000Z",
     "start_time": "2020-11-17T19:40:23.038Z"
    }
   },
   "outputs": [
    {
     "data": {
      "text/plain": [
       "100 200 300 400\n"
      ]
     },
     "execution_count": 48,
     "metadata": {},
     "output_type": "execute_result"
    }
   ],
   "source": [
    "L ::"
   ]
  },
  {
   "cell_type": "markdown",
   "metadata": {},
   "source": [
    "### Find (?)"
   ]
  },
  {
   "cell_type": "code",
   "execution_count": 49,
   "metadata": {
    "ExecuteTime": {
     "end_time": "2020-11-17T19:41:00.919685000Z",
     "start_time": "2020-11-17T19:41:00.911Z"
    }
   },
   "outputs": [
    {
     "data": {
      "text/plain": [
       "1\n"
      ]
     },
     "execution_count": 49,
     "metadata": {},
     "output_type": "execute_result"
    }
   ],
   "source": [
    "1001 1002 1003?1002"
   ]
  },
  {
   "cell_type": "markdown",
   "metadata": {},
   "source": [
    "If you try to find an item that is not in the list, the result is an integer equal to **the count of the list.**"
   ]
  },
  {
   "cell_type": "code",
   "execution_count": 50,
   "metadata": {
    "ExecuteTime": {
     "end_time": "2020-11-17T19:41:41.752172000Z",
     "start_time": "2020-11-17T19:41:41.745Z"
    }
   },
   "outputs": [
    {
     "data": {
      "text/plain": [
       "3\n"
      ]
     },
     "execution_count": 50,
     "metadata": {},
     "output_type": "execute_result"
    }
   ],
   "source": [
    "1001 1002 1003?1004"
   ]
  },
  {
   "cell_type": "markdown",
   "metadata": {
    "ExecuteTime": {
     "end_time": "2020-11-17T19:41:42.931873000Z",
     "start_time": "2020-11-17T19:41:42.922Z"
    }
   },
   "source": [
    "Find is atomic in the right operand meaning that it extends to lists."
   ]
  },
  {
   "cell_type": "code",
   "execution_count": 51,
   "metadata": {
    "ExecuteTime": {
     "end_time": "2020-11-17T19:41:59.415556000Z",
     "start_time": "2020-11-17T19:41:59.407Z"
    }
   },
   "outputs": [
    {
     "data": {
      "text/plain": [
       "2 0\n"
      ]
     },
     "execution_count": 51,
     "metadata": {},
     "output_type": "execute_result"
    }
   ],
   "source": [
    "1001 1002 1003?1003 1001"
   ]
  },
  {
   "cell_type": "markdown",
   "metadata": {},
   "source": [
    "## Elided Indices"
   ]
  },
  {
   "cell_type": "markdown",
   "metadata": {},
   "source": [
    "### Eliding Indices for a Matrix"
   ]
  },
  {
   "cell_type": "code",
   "execution_count": 52,
   "metadata": {
    "ExecuteTime": {
     "end_time": "2020-11-17T19:45:21.251304000Z",
     "start_time": "2020-11-17T19:45:21.247Z"
    }
   },
   "outputs": [
    {
     "data": {
      "text/plain": [
       "1    2    3    4   \n",
       "100  200  300  400 \n",
       "1000 2000 3000 4000\n"
      ]
     },
     "execution_count": 52,
     "metadata": {},
     "output_type": "execute_result"
    }
   ],
   "source": [
    "m:(1 2 3 4; 100 200 300 400; 1000 2000 3000 4000)\n",
    "m"
   ]
  },
  {
   "cell_type": "code",
   "execution_count": 53,
   "metadata": {
    "ExecuteTime": {
     "end_time": "2020-11-17T19:45:38.143511000Z",
     "start_time": "2020-11-17T19:45:38.140Z"
    }
   },
   "outputs": [
    {
     "data": {
      "text/plain": [
       "100 200 300 400\n"
      ]
     },
     "execution_count": 53,
     "metadata": {},
     "output_type": "execute_result"
    },
    {
     "data": {
      "text/plain": [
       "4 400 4000\n"
      ]
     },
     "execution_count": 53,
     "metadata": {},
     "output_type": "execute_result"
    }
   ],
   "source": [
    "m[1;]\n",
    "m[;3]"
   ]
  },
  {
   "cell_type": "code",
   "execution_count": 54,
   "metadata": {
    "ExecuteTime": {
     "end_time": "2020-11-17T19:45:48.449299000Z",
     "start_time": "2020-11-17T19:45:48.442Z"
    }
   },
   "outputs": [
    {
     "data": {
      "text/plain": [
       "1b\n"
      ]
     },
     "execution_count": 54,
     "metadata": {},
     "output_type": "execute_result"
    }
   ],
   "source": [
    "m[1;]~m[1]"
   ]
  },
  {
   "cell_type": "markdown",
   "metadata": {},
   "source": [
    "### Eliding Indices for Deeply Nested Lists"
   ]
  },
  {
   "cell_type": "code",
   "execution_count": 55,
   "metadata": {
    "ExecuteTime": {
     "end_time": "2020-11-17T19:46:55.684714000Z",
     "start_time": "2020-11-17T19:46:55.676Z"
    }
   },
   "outputs": [
    {
     "data": {
      "text/plain": [
       "(1 2 3;4 5 6 7)\n",
       "(`a`b`c`d;`z`y`x`;`0`1`2)\n",
       "(\"now\";\"is\";\"the\")\n"
      ]
     },
     "execution_count": 55,
     "metadata": {},
     "output_type": "execute_result"
    }
   ],
   "source": [
    "L:((1 2 3;4 5 6 7);(`a`b`c`d;`z`y`x`;`0`1`2);(\"now\";\"is\";\"the\"))\n",
    "L"
   ]
  },
  {
   "cell_type": "code",
   "execution_count": 56,
   "metadata": {
    "ExecuteTime": {
     "end_time": "2020-11-17T19:47:11.548659000Z",
     "start_time": "2020-11-17T19:47:11.538Z"
    }
   },
   "outputs": [
    {
     "data": {
      "text/plain": [
       "4 5 6 7\n",
       "`z`y`x`\n",
       "\"is\"\n"
      ]
     },
     "execution_count": 56,
     "metadata": {},
     "output_type": "execute_result"
    }
   ],
   "source": [
    "L[;1;] /Retrieve all items at index 1 of each top level list"
   ]
  },
  {
   "cell_type": "code",
   "execution_count": 57,
   "metadata": {
    "ExecuteTime": {
     "end_time": "2020-11-17T19:47:26.629018000Z",
     "start_time": "2020-11-17T19:47:26.625Z"
    }
   },
   "outputs": [
    {
     "data": {
      "text/plain": [
       "3 6\n",
       "`c`x`2\n",
       "\"w e\"\n"
      ]
     },
     "execution_count": 57,
     "metadata": {},
     "output_type": "execute_result"
    }
   ],
   "source": [
    "L[;;2] /Retrieve the items at index 2 for each list at the second level"
   ]
  },
  {
   "cell_type": "markdown",
   "metadata": {},
   "source": [
    "Observe that in `L[;;2]` the attempt to retrieve the item at index 2 of the string `\"is\"` was out of bounds and so resulted in the null value `\" \"`. This is the source of the blank in \"w e\" of the result.\n",
    "\n"
   ]
  },
  {
   "cell_type": "code",
   "execution_count": 58,
   "metadata": {
    "ExecuteTime": {
     "end_time": "2020-11-17T19:50:21.612861000Z",
     "start_time": "2020-11-17T19:50:21.610Z"
    }
   },
   "outputs": [
    {
     "data": {
      "text/plain": [
       "(1 2;4 5)\n",
       "(\"no\";\"is\";\"th\")\n"
      ]
     },
     "execution_count": 58,
     "metadata": {},
     "output_type": "execute_result"
    }
   ],
   "source": [
    "L[0 2;;0 1] /((1 2; 4 5);(\"no\";\"is\";\"th\")"
   ]
  },
  {
   "cell_type": "markdown",
   "metadata": {},
   "source": [
    "## Rectangular Lists and Matrices"
   ]
  },
  {
   "cell_type": "markdown",
   "metadata": {},
   "source": [
    "### Rectangular Lists\n",
    "\n",
    "A rectangular list is a list of lists all having the same count."
   ]
  },
  {
   "cell_type": "code",
   "execution_count": 59,
   "metadata": {
    "ExecuteTime": {
     "end_time": "2020-11-17T19:50:55.652703000Z",
     "start_time": "2020-11-17T19:50:55.644Z"
    }
   },
   "outputs": [
    {
     "data": {
      "text/plain": [
       "1         2         3        \n",
       "10   20   100  200  1000 2000\n"
      ]
     },
     "execution_count": 59,
     "metadata": {},
     "output_type": "execute_result"
    }
   ],
   "source": [
    "L:(1 2 3; (10 20; 100 200; 1000 2000))\n",
    "L"
   ]
  },
  {
   "cell_type": "markdown",
   "metadata": {},
   "source": [
    "A rectangular list can be transposed with `flip`, meaning that the rows and columns are reflected across the diagonal."
   ]
  },
  {
   "cell_type": "code",
   "execution_count": 60,
   "metadata": {
    "ExecuteTime": {
     "end_time": "2020-11-17T19:51:46.403828000Z",
     "start_time": "2020-11-17T19:51:46.401Z"
    }
   },
   "outputs": [
    {
     "data": {
      "text/plain": [
       "1   2   3  \n",
       "10  20  30 \n",
       "100 200 300\n"
      ]
     },
     "execution_count": 60,
     "metadata": {},
     "output_type": "execute_result"
    }
   ],
   "source": [
    "L:(1 2 3; 10 20 30; 100 200 300)\n",
    "L"
   ]
  },
  {
   "cell_type": "code",
   "execution_count": 61,
   "metadata": {
    "ExecuteTime": {
     "end_time": "2020-11-17T19:51:49.576122000Z",
     "start_time": "2020-11-17T19:51:49.573Z"
    }
   },
   "outputs": [
    {
     "data": {
      "text/plain": [
       "1 10 100\n",
       "2 20 200\n",
       "3 30 300\n"
      ]
     },
     "execution_count": 61,
     "metadata": {},
     "output_type": "execute_result"
    }
   ],
   "source": [
    "flip L"
   ]
  },
  {
   "cell_type": "code",
   "execution_count": 62,
   "metadata": {
    "ExecuteTime": {
     "end_time": "2020-11-17T19:52:09.421572000Z",
     "start_time": "2020-11-17T19:52:09.413Z"
    }
   },
   "outputs": [
    {
     "data": {
      "text/plain": [
       "30\n"
      ]
     },
     "execution_count": 62,
     "metadata": {},
     "output_type": "execute_result"
    },
    {
     "data": {
      "text/plain": [
       "30\n"
      ]
     },
     "execution_count": 62,
     "metadata": {},
     "output_type": "execute_result"
    }
   ],
   "source": [
    "L:(1 2 3; 10 20 30; 100 200 300)\n",
    "M: flip L\n",
    "L[1;2]\n",
    "M[2;1]"
   ]
  },
  {
   "cell_type": "markdown",
   "metadata": {},
   "source": [
    "### Formal Definition of Matrices"
   ]
  },
  {
   "cell_type": "code",
   "execution_count": 63,
   "metadata": {
    "ExecuteTime": {
     "end_time": "2020-11-17T19:53:09.627857000Z",
     "start_time": "2020-11-17T19:53:09.621Z"
    }
   },
   "outputs": [],
   "source": [
    "v1:1 2 3 / vector of integers\n",
    "v2:98.60 99.72 100.34 101.93 / float vector\n",
    "v3:`so`long`and`thanks`for`all`the`fish / symbol vector"
   ]
  },
  {
   "cell_type": "markdown",
   "metadata": {},
   "source": [
    "### Two- and Three- Dimensional Matrices"
   ]
  },
  {
   "cell_type": "code",
   "execution_count": 64,
   "metadata": {
    "ExecuteTime": {
     "end_time": "2020-11-17T19:55:11.356128000Z",
     "start_time": "2020-11-17T19:55:11.353Z"
    }
   },
   "outputs": [
    {
     "data": {
      "text/plain": [
       "1 2   3 4   5 6  \n",
       "10 20 30 40 50 60\n"
      ]
     },
     "execution_count": 64,
     "metadata": {},
     "output_type": "execute_result"
    }
   ],
   "source": [
    "mm:((1 2;3 4;5 6);(10 20;30 40;50 60))\n",
    "mm"
   ]
  },
  {
   "cell_type": "code",
   "execution_count": 65,
   "metadata": {
    "ExecuteTime": {
     "end_time": "2020-11-17T19:55:18.792721000Z",
     "start_time": "2020-11-17T19:55:18.789Z"
    }
   },
   "outputs": [
    {
     "data": {
      "text/plain": [
       "1 2\n",
       "3 4\n",
       "5 6\n"
      ]
     },
     "execution_count": 65,
     "metadata": {},
     "output_type": "execute_result"
    }
   ],
   "source": [
    "mm[0]"
   ]
  },
  {
   "cell_type": "code",
   "execution_count": 66,
   "metadata": {
    "ExecuteTime": {
     "end_time": "2020-11-17T19:55:21.783324000Z",
     "start_time": "2020-11-17T19:55:21.780Z"
    }
   },
   "outputs": [
    {
     "data": {
      "text/plain": [
       "10 20\n",
       "30 40\n",
       "50 60\n"
      ]
     },
     "execution_count": 66,
     "metadata": {},
     "output_type": "execute_result"
    }
   ],
   "source": [
    "mm[1]"
   ]
  },
  {
   "cell_type": "markdown",
   "metadata": {},
   "source": [
    "### Matrix Flexibility"
   ]
  },
  {
   "cell_type": "code",
   "execution_count": 67,
   "metadata": {
    "ExecuteTime": {
     "end_time": "2020-11-17T19:55:42.843816000Z",
     "start_time": "2020-11-17T19:55:42.836Z"
    }
   },
   "outputs": [
    {
     "data": {
      "text/plain": [
       "1   2  \n",
       "100 200\n"
      ]
     },
     "execution_count": 67,
     "metadata": {},
     "output_type": "execute_result"
    }
   ],
   "source": [
    "m:(1 2; 10 20; 100 200; 1000 2000)\n",
    "m 0 2"
   ]
  },
  {
   "cell_type": "markdown",
   "metadata": {},
   "source": [
    "## Useful List Operations"
   ]
  },
  {
   "cell_type": "markdown",
   "metadata": {},
   "source": [
    "### `til`"
   ]
  },
  {
   "cell_type": "code",
   "execution_count": 68,
   "metadata": {
    "ExecuteTime": {
     "end_time": "2020-11-17T19:57:13.056521000Z",
     "start_time": "2020-11-17T19:57:13.052Z"
    }
   },
   "outputs": [
    {
     "data": {
      "text/plain": [
       "0 1 2 3 4 5 6 7 8 9\n"
      ]
     },
     "execution_count": 68,
     "metadata": {},
     "output_type": "execute_result"
    },
    {
     "data": {
      "text/plain": [
       "1 2 3 4 5 6 7 8 9 10\n"
      ]
     },
     "execution_count": 68,
     "metadata": {},
     "output_type": "execute_result"
    },
    {
     "data": {
      "text/plain": [
       "0 2 4 6 8 10 12 14 16 18\n"
      ]
     },
     "execution_count": 68,
     "metadata": {},
     "output_type": "execute_result"
    },
    {
     "data": {
      "text/plain": [
       "1 3 5 7 9 11 13 15 17 19\n"
      ]
     },
     "execution_count": 68,
     "metadata": {},
     "output_type": "execute_result"
    },
    {
     "data": {
      "text/plain": [
       "-4 0 4\n"
      ]
     },
     "execution_count": 68,
     "metadata": {},
     "output_type": "execute_result"
    }
   ],
   "source": [
    "til 10\n",
    "1+til 10\n",
    "2*til 10\n",
    "1+2*til 10\n",
    "-4+4*til 3"
   ]
  },
  {
   "cell_type": "markdown",
   "metadata": {},
   "source": [
    "### `distinct`"
   ]
  },
  {
   "cell_type": "code",
   "execution_count": 70,
   "metadata": {
    "ExecuteTime": {
     "end_time": "2020-11-17T19:57:45.248656000Z",
     "start_time": "2020-11-17T19:57:45.241Z"
    }
   },
   "outputs": [
    {
     "data": {
      "text/plain": [
       "1 2 3 4 6 5\n"
      ]
     },
     "execution_count": 70,
     "metadata": {},
     "output_type": "execute_result"
    }
   ],
   "source": [
    "distinct 1 2 3 2 3 4 6 4 3 5 6"
   ]
  },
  {
   "cell_type": "markdown",
   "metadata": {},
   "source": [
    "### `where`"
   ]
  },
  {
   "cell_type": "markdown",
   "metadata": {},
   "source": [
    "The basic form of `where` returns the indices of 1b in a boolean list – i.e., it reports where the ones are."
   ]
  },
  {
   "cell_type": "code",
   "execution_count": 71,
   "metadata": {
    "ExecuteTime": {
     "end_time": "2020-11-17T19:58:25.558677000Z",
     "start_time": "2020-11-17T19:58:25.555Z"
    }
   },
   "outputs": [
    {
     "data": {
      "text/plain": [
       "0 2 4\n"
      ]
     },
     "execution_count": 71,
     "metadata": {},
     "output_type": "execute_result"
    }
   ],
   "source": [
    "where 101010b"
   ]
  },
  {
   "cell_type": "code",
   "execution_count": 72,
   "metadata": {
    "ExecuteTime": {
     "end_time": "2020-11-17T19:58:43.783749000Z",
     "start_time": "2020-11-17T19:58:43.780Z"
    }
   },
   "outputs": [
    {
     "data": {
      "text/plain": [
       "10 20 42 42 42\n"
      ]
     },
     "execution_count": 72,
     "metadata": {},
     "output_type": "execute_result"
    }
   ],
   "source": [
    "L:10 20 30 40 50\n",
    "L[where L>20]:42\n",
    "L"
   ]
  },
  {
   "cell_type": "markdown",
   "metadata": {},
   "source": [
    "### `group`"
   ]
  },
  {
   "cell_type": "code",
   "execution_count": 73,
   "metadata": {
    "ExecuteTime": {
     "end_time": "2020-11-17T19:58:51.928062000Z",
     "start_time": "2020-11-17T19:58:51.924Z"
    }
   },
   "outputs": [
    {
     "data": {
      "text/plain": [
       "i| 0 3 8 11 14 17\n",
       " | 1 6\n",
       "m| 2 7\n",
       "s| 4 5 9 10 12 13\n",
       "p| 15 16\n"
      ]
     },
     "execution_count": 73,
     "metadata": {},
     "output_type": "execute_result"
    }
   ],
   "source": [
    "group \"i miss mississippi\""
   ]
  }
 ],
 "metadata": {
  "kernelspec": {
   "display_name": "Q (kdb+)",
   "language": "q",
   "name": "qpk"
  },
  "language_info": {
   "file_extension": ".q",
   "mimetype": "text/x-q",
   "name": "q",
   "version": "4.0"
  },
  "toc": {
   "base_numbering": "0",
   "nav_menu": {},
   "number_sections": true,
   "sideBar": true,
   "skip_h1_title": false,
   "title_cell": "Table of Contents",
   "title_sidebar": "Contents",
   "toc_cell": true,
   "toc_position": {},
   "toc_section_display": true,
   "toc_window_display": false
  }
 },
 "nbformat": 4,
 "nbformat_minor": 4
}
